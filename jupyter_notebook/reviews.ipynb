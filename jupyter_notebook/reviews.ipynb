{
 "cells": [
  {
   "cell_type": "markdown",
   "metadata": {},
   "source": [
    "# Latent Dirichlet Allocation for Topic Modelling on Customer Reviews: The case of UK Delivery Companies \n",
    "\n",
    "**Author: Georgios Spyrou (https://github.com/gpsyrou)**\n",
    "\n",
    "_Last Update: 17/07/2021_\n",
    "\n",
    "<img src=\"../img/projectimage.png\" alt=\"Sentiment Picture\" width=\"820\" height=\"640\">\n",
    "\n",
    "### Sections\n",
    "- <a href=\"#project_idea\" style=\"text-decoration: none\"> Project Description</a>\n",
    "- <a href=\"#data_retrieval\" style=\"text-decoration: none\"> Web-Scrapping Tool and Data Retrieval</a>\n",
    "- <a href=\"#data_cleaning_eda\" style=\"text-decoration: none\"> Data Cleaning & Initial Exploratory Data Analysis (EDA)</a>\n",
    "    - <a href=\"#data_preprocessing\" style=\"text-decoration: none\"> Data Preprocessing </a>\n",
    "    - <a href=\"#eda\" style=\"text-decoration: none\"> Exploratory Data Analysis </a>\n",
    "        - <a href=\"#single_words\" style=\"text-decoration: none\"> Single Words </a>\n",
    "        - <a href=\"#bigrams_eda\" style=\"text-decoration: none\"> Analysis with Bigrams </a>\n",
    "- <a href=\"#lda\" style=\"text-decoration: none\"> Latent Dirichlet Allocation Model </a>\n",
    "    - <a href=\"#bigrams_lda\" style=\"text-decoration: none\"> Compute Bigrams as LDA Input </a>\n",
    "    - <a href=\"#lda_model\" style=\"text-decoration: none\"> Creating the LDA Model </a>\n",
    "    - <a href=\"#topic_assign\" style=\"text-decoration: none\"> Assigning Predicted Topics to Reviews </a>\n",
    "    - <a href=\"#viz_output\" style=\"text-decoration: none\"> Visualizing the Results </a>"
   ]
  },
  {
   "cell_type": "markdown",
   "metadata": {},
   "source": [
    "<a id='project_idea'></a>\n",
    "### Introduction\n",
    "\n",
    "In this project we are going to explore the world of logistic companies and the issues that they might be facing. Specifically, we are going to focus on analyzing data regarding a few of the most well-known delivery companies in the UK, namely <a href=\"https://en.wikipedia.org/wiki/Deliveroo\" style=\"text-decoration:none\"> Deliveroo</a>, <a href=\"https://en.wikipedia.org/wiki/UberEats\" style=\"text-decoration:none\"> UberEats</a>, <a href=\"https://en.wikipedia.org/wiki/Just_Eat\" style=\"text-decoration:none\"> Just Eat</a> and <a href=\"https://stuart.com/\" style=\"text-decoration:none\"> Stuart</a>. To do that we are going to utilize the internet and the reviews that we can find in many different platforms, especially these platforms that are specializing at collecting reviews and opininions of customers for a plethora of companies and services. \n",
    "\n",
    "The first iteration of this project it's using the reviews that can be found in the famous consumer review website <a href=\"https://en.wikipedia.org/wiki/Trustpilot\" style=\"text-decoration:none\"> TrustPilot</a>. Even though the website is already providing some API functionalities, we are going to write our own web-scraping tool to retrieve the data in the format that we want. We will attempt to collect as many reviews as possible and then use them to identify interesting findings in the text. For example, we will try to identify what is the sentiment across all reviews for a specific company, what are the most common words and bigrams (i.e. pairs of words that tend to appear next to each other) in the reviews, and more. Finally, we will implement a <a href=\"https://en.wikipedia.org/wiki/Latent_Dirichlet_allocation\" style=\"text-decoration:none\"> Latent Dirichlet Allocation</a> model to try and identify what are the topics that these reviews correspond to.\n",
    "\n",
    "\n",
    "We are going to discuss the specifics in more depth as we are going through the different parts of the project. As a starting point of course, we need to collect the relevant reviews for the aforementioned group of delivery companies.\n",
    "\n",
    "<a id='data_retrieval'></a>\n",
    "### Web-Scrapping Tool and Data Retrieval\n",
    "\n",
    "In order to collect the reviews directly from the TrustPilot website, we have created a web-scrapping tool that allowed us to automate this process across different companies & their corresponding reviews. This tool is iterating across different pages of the website and collects the reviews and any other relevant information, with the output being stored in csv files. Moreover, we have packaged the tool into a python library. Hence, if you are thinking of working on a similar project where you need to retrieve data from TrustPilot, you can install the package that you can find <a href=\"https://github.com/gpsyrou/Text_Analysis_of_Consumer_Reviews/blob/main/trustplt.py\" style=\"text-decoration:none\">here</a>. As of May 2021, the package contains the main functionalities to collect many different information from the website, like the reviews, reviewer_id, date of the review, user rating, and more. \n",
    "\n",
    "For the first iteration of the project, we have built the aforementioned package with the functionality to retrieve the following information - which will also be the features in our dataset:\n",
    "\n",
    "1. **Company**: Name of the Company that we are examining (e.g. Deliveroo, UberEats, JustEat, Stuart)\n",
    "2. **Id**: The unique identifier for the Review\n",
    "3. **Reviewer_Id**: Unique id for a reviewer/user\n",
    "4. **Title**: Title of the review\n",
    "5. **Review**: The text corresponding to the review submitted from the reviewer\n",
    "6. **Date**: Day of review submission\n",
    "7. **Rating**: The rating about the company, as submitted from the reviewer\n",
    "\n",
    "Thus, after collecting the data and save them in a CSV format, we can by having a first look at the data and familiarize ourselves with the features. "
   ]
  },
  {
   "cell_type": "code",
   "execution_count": 1,
   "metadata": {},
   "outputs": [],
   "source": [
    "import os\n",
    "import string\n",
    "import numpy as np\n",
    "import pandas as pd\n",
    "from typing import List\n",
    "from collections import Counter\n",
    "\n",
    "import seaborn as sns\n",
    "sns.set_style('dark')\n",
    "\n",
    "import matplotlib.pyplot as plt\n",
    "\n",
    "from nltk import word_tokenize\n",
    "from nltk.util import ngrams\n",
    "from nltk.corpus import stopwords\n",
    "from nltk.collocations import BigramCollocationFinder\n",
    "from nltk.stem import WordNetLemmatizer, PorterStemmer\n",
    "\n",
    "from IPython.display import display, HTML\n",
    "\n",
    "project_dir = r'D:\\GitHub\\Projects\\Analysis_of_Delivery_Companies_Reviews'\n",
    "os.chdir(project_dir)\n",
    "\n",
    "from helpers.utilities import split_ratings_col, get_ratings_mapping"
   ]
  },
  {
   "cell_type": "code",
   "execution_count": 2,
   "metadata": {},
   "outputs": [],
   "source": [
    "reviews_base_file = os.path.join(project_dir, 'reviews.csv')"
   ]
  },
  {
   "cell_type": "code",
   "execution_count": 3,
   "metadata": {},
   "outputs": [
    {
     "data": {
      "text/plain": [
       "{1: 'Bad', 2: 'Poor', 3: 'Average', 4: 'Great', 5: 'Excellent'}"
      ]
     },
     "execution_count": 3,
     "metadata": {},
     "output_type": "execute_result"
    }
   ],
   "source": [
    "col_names = ['Company', 'Id', 'Reviewer_Id', 'Title', 'Review', 'Date', 'Rating']\n",
    "\n",
    "ratings_dict = get_ratings_mapping()\n",
    "ratings_dict"
   ]
  },
  {
   "cell_type": "code",
   "execution_count": 4,
   "metadata": {},
   "outputs": [],
   "source": [
    "reviews_df = pd.read_csv(reviews_base_file, sep=',')"
   ]
  },
  {
   "cell_type": "markdown",
   "metadata": {},
   "source": [
    "<a id='data_cleaning_eda'></a>\n",
    "### Data Cleaning & Exploratory Data Analysis\n",
    "\n",
    "Here we can have an initial look about the information contained in the dataset - Please note that each row in the dataset corresponds to a different _review_ :"
   ]
  },
  {
   "cell_type": "code",
   "execution_count": 5,
   "metadata": {},
   "outputs": [
    {
     "data": {
      "text/html": [
       "<div>\n",
       "<style scoped>\n",
       "    .dataframe tbody tr th:only-of-type {\n",
       "        vertical-align: middle;\n",
       "    }\n",
       "\n",
       "    .dataframe tbody tr th {\n",
       "        vertical-align: top;\n",
       "    }\n",
       "\n",
       "    .dataframe thead th {\n",
       "        text-align: right;\n",
       "    }\n",
       "</style>\n",
       "<table border=\"1\" class=\"dataframe\">\n",
       "  <thead>\n",
       "    <tr style=\"text-align: right;\">\n",
       "      <th></th>\n",
       "      <th>Company</th>\n",
       "      <th>Id</th>\n",
       "      <th>Reviewer_Id</th>\n",
       "      <th>Title</th>\n",
       "      <th>Review</th>\n",
       "      <th>Date</th>\n",
       "      <th>Rating</th>\n",
       "    </tr>\n",
       "  </thead>\n",
       "  <tbody>\n",
       "    <tr>\n",
       "      <th>0</th>\n",
       "      <td>Deliveroo</td>\n",
       "      <td>60709f95f85d75087052ff8b</td>\n",
       "      <td>60709f8f0a30fd001b06dc52</td>\n",
       "      <td>Ordered food and apparently the driver…</td>\n",
       "      <td>Ordered food and apparently the driver was wai...</td>\n",
       "      <td>2021-04-09 18:40</td>\n",
       "      <td>{2: 'Poor'}</td>\n",
       "    </tr>\n",
       "    <tr>\n",
       "      <th>1</th>\n",
       "      <td>Deliveroo</td>\n",
       "      <td>60708710f85d75087052c89b</td>\n",
       "      <td>6070870c2158190019b3ab8e</td>\n",
       "      <td>Disgusting Live Customer Service CHAT!!!</td>\n",
       "      <td>I received standard bag of buttons that cost £...</td>\n",
       "      <td>2021-04-09 16:55</td>\n",
       "      <td>{1: 'Bad'}</td>\n",
       "    </tr>\n",
       "    <tr>\n",
       "      <th>2</th>\n",
       "      <td>Deliveroo</td>\n",
       "      <td>60707b91f85d75087052abb6</td>\n",
       "      <td>602eb3ac49aeca0019ad4b70</td>\n",
       "      <td>Just had an appalling experience with…</td>\n",
       "      <td>Just had an appalling experience with delivero...</td>\n",
       "      <td>2021-04-09 16:06</td>\n",
       "      <td>{1: 'Bad'}</td>\n",
       "    </tr>\n",
       "    <tr>\n",
       "      <th>3</th>\n",
       "      <td>Deliveroo</td>\n",
       "      <td>60705919f85d7508705251d4</td>\n",
       "      <td>60705856348d93001ad1ca1f</td>\n",
       "      <td>The same situation happened twice</td>\n",
       "      <td>The same situation happened twice. I ordered f...</td>\n",
       "      <td>2021-04-09 13:39</td>\n",
       "      <td>{2: 'Poor'}</td>\n",
       "    </tr>\n",
       "    <tr>\n",
       "      <th>4</th>\n",
       "      <td>Deliveroo</td>\n",
       "      <td>60705138f85d750870523d4d</td>\n",
       "      <td>6070512519dc76001aebe4b1</td>\n",
       "      <td>Driver left without giving us food</td>\n",
       "      <td>Driver turned up late couldn’t find us and lef...</td>\n",
       "      <td>2021-04-09 13:06</td>\n",
       "      <td>{1: 'Bad'}</td>\n",
       "    </tr>\n",
       "  </tbody>\n",
       "</table>\n",
       "</div>"
      ],
      "text/plain": [
       "     Company                        Id               Reviewer_Id  \\\n",
       "0  Deliveroo  60709f95f85d75087052ff8b  60709f8f0a30fd001b06dc52   \n",
       "1  Deliveroo  60708710f85d75087052c89b  6070870c2158190019b3ab8e   \n",
       "2  Deliveroo  60707b91f85d75087052abb6  602eb3ac49aeca0019ad4b70   \n",
       "3  Deliveroo  60705919f85d7508705251d4  60705856348d93001ad1ca1f   \n",
       "4  Deliveroo  60705138f85d750870523d4d  6070512519dc76001aebe4b1   \n",
       "\n",
       "                                      Title  \\\n",
       "0   Ordered food and apparently the driver…   \n",
       "1  Disgusting Live Customer Service CHAT!!!   \n",
       "2    Just had an appalling experience with…   \n",
       "3         The same situation happened twice   \n",
       "4        Driver left without giving us food   \n",
       "\n",
       "                                              Review              Date  \\\n",
       "0  Ordered food and apparently the driver was wai...  2021-04-09 18:40   \n",
       "1  I received standard bag of buttons that cost £...  2021-04-09 16:55   \n",
       "2  Just had an appalling experience with delivero...  2021-04-09 16:06   \n",
       "3  The same situation happened twice. I ordered f...  2021-04-09 13:39   \n",
       "4  Driver turned up late couldn’t find us and lef...  2021-04-09 13:06   \n",
       "\n",
       "        Rating  \n",
       "0  {2: 'Poor'}  \n",
       "1   {1: 'Bad'}  \n",
       "2   {1: 'Bad'}  \n",
       "3  {2: 'Poor'}  \n",
       "4   {1: 'Bad'}  "
      ]
     },
     "execution_count": 5,
     "metadata": {},
     "output_type": "execute_result"
    }
   ],
   "source": [
    "reviews_df.head()"
   ]
  },
  {
   "cell_type": "markdown",
   "metadata": {},
   "source": [
    "We can see that the _Title_ of the review sometimes seems to correspond to the first few words/lines of the full _Review_, while some other times appears to be a small summary. At the same time we can observe that the _Rating_ provides us with some useful information about how the Reviewer felt regarding the company's service on that specific occasion."
   ]
  },
  {
   "cell_type": "code",
   "execution_count": 6,
   "metadata": {},
   "outputs": [
    {
     "name": "stdout",
     "output_type": "stream",
     "text": [
      "There are 17640 reviews (rows) and 7 features in the dataset\n"
     ]
    }
   ],
   "source": [
    "print(f'There are {reviews_df.shape[0]} reviews (rows) and {reviews_df.shape[1]} features in the dataset')"
   ]
  },
  {
   "cell_type": "code",
   "execution_count": 7,
   "metadata": {},
   "outputs": [
    {
     "data": {
      "text/plain": [
       "UberEats     8740\n",
       "Deliveroo    6360\n",
       "JustEat      2340\n",
       "Stuart        200\n",
       "Name: Company, dtype: int64"
      ]
     },
     "execution_count": 7,
     "metadata": {},
     "output_type": "execute_result"
    }
   ],
   "source": [
    "reviews_df['Company'].value_counts()"
   ]
  },
  {
   "cell_type": "markdown",
   "metadata": {},
   "source": [
    "We can check if there are any missing values in the dataset, or if there are rows that are duplicates:"
   ]
  },
  {
   "cell_type": "code",
   "execution_count": 8,
   "metadata": {},
   "outputs": [
    {
     "name": "stdout",
     "output_type": "stream",
     "text": [
      "There are 57 duplicate reviews in the dataset\n"
     ]
    }
   ],
   "source": [
    "num_duplicate_reviews = reviews_df.duplicated('Id').sum()\n",
    "print(f'There are {num_duplicate_reviews} duplicate reviews in the dataset')"
   ]
  },
  {
   "cell_type": "markdown",
   "metadata": {},
   "source": [
    "Dropping the duplicate reviews"
   ]
  },
  {
   "cell_type": "code",
   "execution_count": 9,
   "metadata": {},
   "outputs": [
    {
     "data": {
      "text/plain": [
       "0"
      ]
     },
     "execution_count": 9,
     "metadata": {},
     "output_type": "execute_result"
    }
   ],
   "source": [
    "reviews_df.drop_duplicates(inplace=True)\n",
    "reviews_df.duplicated('Id').sum()"
   ]
  },
  {
   "cell_type": "code",
   "execution_count": 10,
   "metadata": {},
   "outputs": [
    {
     "data": {
      "text/html": [
       "<div>\n",
       "<style scoped>\n",
       "    .dataframe tbody tr th:only-of-type {\n",
       "        vertical-align: middle;\n",
       "    }\n",
       "\n",
       "    .dataframe tbody tr th {\n",
       "        vertical-align: top;\n",
       "    }\n",
       "\n",
       "    .dataframe thead th {\n",
       "        text-align: right;\n",
       "    }\n",
       "</style>\n",
       "<table border=\"1\" class=\"dataframe\">\n",
       "  <thead>\n",
       "    <tr style=\"text-align: right;\">\n",
       "      <th></th>\n",
       "      <th>Missing_Values</th>\n",
       "    </tr>\n",
       "  </thead>\n",
       "  <tbody>\n",
       "    <tr>\n",
       "      <th>Company</th>\n",
       "      <td>0</td>\n",
       "    </tr>\n",
       "    <tr>\n",
       "      <th>Id</th>\n",
       "      <td>0</td>\n",
       "    </tr>\n",
       "    <tr>\n",
       "      <th>Reviewer_Id</th>\n",
       "      <td>0</td>\n",
       "    </tr>\n",
       "    <tr>\n",
       "      <th>Title</th>\n",
       "      <td>0</td>\n",
       "    </tr>\n",
       "    <tr>\n",
       "      <th>Review</th>\n",
       "      <td>240</td>\n",
       "    </tr>\n",
       "    <tr>\n",
       "      <th>Date</th>\n",
       "      <td>2886</td>\n",
       "    </tr>\n",
       "    <tr>\n",
       "      <th>Rating</th>\n",
       "      <td>0</td>\n",
       "    </tr>\n",
       "  </tbody>\n",
       "</table>\n",
       "</div>"
      ],
      "text/plain": [
       "             Missing_Values\n",
       "Company                   0\n",
       "Id                        0\n",
       "Reviewer_Id               0\n",
       "Title                     0\n",
       "Review                  240\n",
       "Date                   2886\n",
       "Rating                    0"
      ]
     },
     "execution_count": 10,
     "metadata": {},
     "output_type": "execute_result"
    }
   ],
   "source": [
    "pd.DataFrame(reviews_df.isna().sum(), columns=['Missing_Values'])"
   ]
  },
  {
   "cell_type": "markdown",
   "metadata": {},
   "source": [
    "From the queries above we can quickly see that initially we had some issues as there were 57 duplicate reviews, but we have used a pandas built-in function to remove them from the dataset. The duplication is caused due to the nature of retrieving data from by using the API, as we might process pages that we have already processed in the past, and that means retrieving the same reviews as before. Luckily, the _Id_ column is sufficient to identify unique reviews in the dataset, and hence it's easy to spot and fix duplication issues.\n",
    "\n",
    "Now, regarding the missing values there are a few cases where Review appears to be empty, as well as quite a few cases on missing dates. The later is not a massive issue at this stage of the project. On the other hand, the absence of reviews can be a big issue as this project is all about analyzing customer reviews, and hence rows that have no text corresponding to a review wouldn't provide much information. That said, as we saw above there is another feature (_Title_) which we can use as text for rows where the _Review_ is empty."
   ]
  },
  {
   "cell_type": "code",
   "execution_count": 11,
   "metadata": {},
   "outputs": [
    {
     "data": {
      "text/html": [
       "<div>\n",
       "<style scoped>\n",
       "    .dataframe tbody tr th:only-of-type {\n",
       "        vertical-align: middle;\n",
       "    }\n",
       "\n",
       "    .dataframe tbody tr th {\n",
       "        vertical-align: top;\n",
       "    }\n",
       "\n",
       "    .dataframe thead th {\n",
       "        text-align: right;\n",
       "    }\n",
       "</style>\n",
       "<table border=\"1\" class=\"dataframe\">\n",
       "  <thead>\n",
       "    <tr style=\"text-align: right;\">\n",
       "      <th></th>\n",
       "      <th>Company</th>\n",
       "      <th>Id</th>\n",
       "      <th>Reviewer_Id</th>\n",
       "      <th>Title</th>\n",
       "      <th>Review</th>\n",
       "      <th>Date</th>\n",
       "      <th>Rating</th>\n",
       "    </tr>\n",
       "  </thead>\n",
       "  <tbody>\n",
       "    <tr>\n",
       "      <th>45</th>\n",
       "      <td>Deliveroo</td>\n",
       "      <td>60684978f85d75087045ed91</td>\n",
       "      <td>60684973402b0e001a95af2d</td>\n",
       "      <td>Great service</td>\n",
       "      <td>NaN</td>\n",
       "      <td>2021-04-03 10:54</td>\n",
       "      <td>{5: 'Excellent'}</td>\n",
       "    </tr>\n",
       "    <tr>\n",
       "      <th>94</th>\n",
       "      <td>Deliveroo</td>\n",
       "      <td>606221b3f85d7508703c730e</td>\n",
       "      <td>5d73f4f179586ed7bad49d52</td>\n",
       "      <td>Very very disappointed bad service</td>\n",
       "      <td>NaN</td>\n",
       "      <td>2021-03-29 18:51</td>\n",
       "      <td>{1: 'Bad'}</td>\n",
       "    </tr>\n",
       "    <tr>\n",
       "      <th>114</th>\n",
       "      <td>Deliveroo</td>\n",
       "      <td>605f8f5df85d7508703919f5</td>\n",
       "      <td>5e8d9b9a6251456b37ed292e</td>\n",
       "      <td>CRAP nothing else to say!</td>\n",
       "      <td>NaN</td>\n",
       "      <td>2021-03-27 20:02</td>\n",
       "      <td>{1: 'Bad'}</td>\n",
       "    </tr>\n",
       "    <tr>\n",
       "      <th>137</th>\n",
       "      <td>Deliveroo</td>\n",
       "      <td>605e40ddf85d750870377a98</td>\n",
       "      <td>605cb15ead7256001bdc3948</td>\n",
       "      <td>A MILLION TIMES BETTER THAN UBER EATS</td>\n",
       "      <td>NaN</td>\n",
       "      <td>2021-03-26 20:15</td>\n",
       "      <td>{5: 'Excellent'}</td>\n",
       "    </tr>\n",
       "    <tr>\n",
       "      <th>201</th>\n",
       "      <td>Deliveroo</td>\n",
       "      <td>6054f264f85d750bf4f97e45</td>\n",
       "      <td>5d57f496959de5789bc062bd</td>\n",
       "      <td>Better to use Uber eats</td>\n",
       "      <td>NaN</td>\n",
       "      <td>2021-03-19 18:50</td>\n",
       "      <td>{1: 'Bad'}</td>\n",
       "    </tr>\n",
       "  </tbody>\n",
       "</table>\n",
       "</div>"
      ],
      "text/plain": [
       "       Company                        Id               Reviewer_Id  \\\n",
       "45   Deliveroo  60684978f85d75087045ed91  60684973402b0e001a95af2d   \n",
       "94   Deliveroo  606221b3f85d7508703c730e  5d73f4f179586ed7bad49d52   \n",
       "114  Deliveroo  605f8f5df85d7508703919f5  5e8d9b9a6251456b37ed292e   \n",
       "137  Deliveroo  605e40ddf85d750870377a98  605cb15ead7256001bdc3948   \n",
       "201  Deliveroo  6054f264f85d750bf4f97e45  5d57f496959de5789bc062bd   \n",
       "\n",
       "                                     Title Review              Date  \\\n",
       "45                           Great service    NaN  2021-04-03 10:54   \n",
       "94      Very very disappointed bad service    NaN  2021-03-29 18:51   \n",
       "114              CRAP nothing else to say!    NaN  2021-03-27 20:02   \n",
       "137  A MILLION TIMES BETTER THAN UBER EATS    NaN  2021-03-26 20:15   \n",
       "201                Better to use Uber eats    NaN  2021-03-19 18:50   \n",
       "\n",
       "               Rating  \n",
       "45   {5: 'Excellent'}  \n",
       "94         {1: 'Bad'}  \n",
       "114        {1: 'Bad'}  \n",
       "137  {5: 'Excellent'}  \n",
       "201        {1: 'Bad'}  "
      ]
     },
     "execution_count": 11,
     "metadata": {},
     "output_type": "execute_result"
    }
   ],
   "source": [
    "empty_reviews_sample = reviews_df[reviews_df['Review'].isnull()].head(5)\n",
    "empty_reviews_sample"
   ]
  },
  {
   "cell_type": "markdown",
   "metadata": {},
   "source": [
    "Apply the transformation"
   ]
  },
  {
   "cell_type": "code",
   "execution_count": 12,
   "metadata": {},
   "outputs": [],
   "source": [
    "reviews_df.loc[reviews_df['Review'].isnull(), 'Review'] = reviews_df['Title']"
   ]
  },
  {
   "cell_type": "markdown",
   "metadata": {},
   "source": [
    "and we can see how the transformation affected the dataset"
   ]
  },
  {
   "cell_type": "code",
   "execution_count": 13,
   "metadata": {},
   "outputs": [
    {
     "data": {
      "text/html": [
       "<div>\n",
       "<style scoped>\n",
       "    .dataframe tbody tr th:only-of-type {\n",
       "        vertical-align: middle;\n",
       "    }\n",
       "\n",
       "    .dataframe tbody tr th {\n",
       "        vertical-align: top;\n",
       "    }\n",
       "\n",
       "    .dataframe thead th {\n",
       "        text-align: right;\n",
       "    }\n",
       "</style>\n",
       "<table border=\"1\" class=\"dataframe\">\n",
       "  <thead>\n",
       "    <tr style=\"text-align: right;\">\n",
       "      <th></th>\n",
       "      <th>Company</th>\n",
       "      <th>Id</th>\n",
       "      <th>Reviewer_Id</th>\n",
       "      <th>Title</th>\n",
       "      <th>Review</th>\n",
       "      <th>Date</th>\n",
       "      <th>Rating</th>\n",
       "    </tr>\n",
       "  </thead>\n",
       "  <tbody>\n",
       "    <tr>\n",
       "      <th>45</th>\n",
       "      <td>Deliveroo</td>\n",
       "      <td>60684978f85d75087045ed91</td>\n",
       "      <td>60684973402b0e001a95af2d</td>\n",
       "      <td>Great service</td>\n",
       "      <td>Great service</td>\n",
       "      <td>2021-04-03 10:54</td>\n",
       "      <td>{5: 'Excellent'}</td>\n",
       "    </tr>\n",
       "    <tr>\n",
       "      <th>94</th>\n",
       "      <td>Deliveroo</td>\n",
       "      <td>606221b3f85d7508703c730e</td>\n",
       "      <td>5d73f4f179586ed7bad49d52</td>\n",
       "      <td>Very very disappointed bad service</td>\n",
       "      <td>Very very disappointed bad service</td>\n",
       "      <td>2021-03-29 18:51</td>\n",
       "      <td>{1: 'Bad'}</td>\n",
       "    </tr>\n",
       "    <tr>\n",
       "      <th>114</th>\n",
       "      <td>Deliveroo</td>\n",
       "      <td>605f8f5df85d7508703919f5</td>\n",
       "      <td>5e8d9b9a6251456b37ed292e</td>\n",
       "      <td>CRAP nothing else to say!</td>\n",
       "      <td>CRAP nothing else to say!</td>\n",
       "      <td>2021-03-27 20:02</td>\n",
       "      <td>{1: 'Bad'}</td>\n",
       "    </tr>\n",
       "    <tr>\n",
       "      <th>137</th>\n",
       "      <td>Deliveroo</td>\n",
       "      <td>605e40ddf85d750870377a98</td>\n",
       "      <td>605cb15ead7256001bdc3948</td>\n",
       "      <td>A MILLION TIMES BETTER THAN UBER EATS</td>\n",
       "      <td>A MILLION TIMES BETTER THAN UBER EATS</td>\n",
       "      <td>2021-03-26 20:15</td>\n",
       "      <td>{5: 'Excellent'}</td>\n",
       "    </tr>\n",
       "    <tr>\n",
       "      <th>201</th>\n",
       "      <td>Deliveroo</td>\n",
       "      <td>6054f264f85d750bf4f97e45</td>\n",
       "      <td>5d57f496959de5789bc062bd</td>\n",
       "      <td>Better to use Uber eats</td>\n",
       "      <td>Better to use Uber eats</td>\n",
       "      <td>2021-03-19 18:50</td>\n",
       "      <td>{1: 'Bad'}</td>\n",
       "    </tr>\n",
       "  </tbody>\n",
       "</table>\n",
       "</div>"
      ],
      "text/plain": [
       "       Company                        Id               Reviewer_Id  \\\n",
       "45   Deliveroo  60684978f85d75087045ed91  60684973402b0e001a95af2d   \n",
       "94   Deliveroo  606221b3f85d7508703c730e  5d73f4f179586ed7bad49d52   \n",
       "114  Deliveroo  605f8f5df85d7508703919f5  5e8d9b9a6251456b37ed292e   \n",
       "137  Deliveroo  605e40ddf85d750870377a98  605cb15ead7256001bdc3948   \n",
       "201  Deliveroo  6054f264f85d750bf4f97e45  5d57f496959de5789bc062bd   \n",
       "\n",
       "                                     Title  \\\n",
       "45                           Great service   \n",
       "94      Very very disappointed bad service   \n",
       "114              CRAP nothing else to say!   \n",
       "137  A MILLION TIMES BETTER THAN UBER EATS   \n",
       "201                Better to use Uber eats   \n",
       "\n",
       "                                    Review              Date            Rating  \n",
       "45                           Great service  2021-04-03 10:54  {5: 'Excellent'}  \n",
       "94      Very very disappointed bad service  2021-03-29 18:51        {1: 'Bad'}  \n",
       "114              CRAP nothing else to say!  2021-03-27 20:02        {1: 'Bad'}  \n",
       "137  A MILLION TIMES BETTER THAN UBER EATS  2021-03-26 20:15  {5: 'Excellent'}  \n",
       "201                Better to use Uber eats  2021-03-19 18:50        {1: 'Bad'}  "
      ]
     },
     "execution_count": 13,
     "metadata": {},
     "output_type": "execute_result"
    }
   ],
   "source": [
    "reviews_df.iloc[list(empty_reviews_sample.index)]"
   ]
  },
  {
   "cell_type": "code",
   "execution_count": 14,
   "metadata": {},
   "outputs": [
    {
     "data": {
      "text/html": [
       "<div>\n",
       "<style scoped>\n",
       "    .dataframe tbody tr th:only-of-type {\n",
       "        vertical-align: middle;\n",
       "    }\n",
       "\n",
       "    .dataframe tbody tr th {\n",
       "        vertical-align: top;\n",
       "    }\n",
       "\n",
       "    .dataframe thead th {\n",
       "        text-align: right;\n",
       "    }\n",
       "</style>\n",
       "<table border=\"1\" class=\"dataframe\">\n",
       "  <thead>\n",
       "    <tr style=\"text-align: right;\">\n",
       "      <th></th>\n",
       "      <th>Missing_Values</th>\n",
       "    </tr>\n",
       "  </thead>\n",
       "  <tbody>\n",
       "    <tr>\n",
       "      <th>Company</th>\n",
       "      <td>0</td>\n",
       "    </tr>\n",
       "    <tr>\n",
       "      <th>Id</th>\n",
       "      <td>0</td>\n",
       "    </tr>\n",
       "    <tr>\n",
       "      <th>Reviewer_Id</th>\n",
       "      <td>0</td>\n",
       "    </tr>\n",
       "    <tr>\n",
       "      <th>Title</th>\n",
       "      <td>0</td>\n",
       "    </tr>\n",
       "    <tr>\n",
       "      <th>Review</th>\n",
       "      <td>0</td>\n",
       "    </tr>\n",
       "    <tr>\n",
       "      <th>Date</th>\n",
       "      <td>2886</td>\n",
       "    </tr>\n",
       "    <tr>\n",
       "      <th>Rating</th>\n",
       "      <td>0</td>\n",
       "    </tr>\n",
       "  </tbody>\n",
       "</table>\n",
       "</div>"
      ],
      "text/plain": [
       "             Missing_Values\n",
       "Company                   0\n",
       "Id                        0\n",
       "Reviewer_Id               0\n",
       "Title                     0\n",
       "Review                    0\n",
       "Date                   2886\n",
       "Rating                    0"
      ]
     },
     "execution_count": 14,
     "metadata": {},
     "output_type": "execute_result"
    }
   ],
   "source": [
    "pd.DataFrame(reviews_df.isna().sum(), columns=['Missing_Values'])"
   ]
  },
  {
   "cell_type": "markdown",
   "metadata": {},
   "source": [
    "<a id='data_preprocessing'></a>\n",
    "### Data Preprocessing\n",
    "\n",
    "Now that we have familiarized a bit ourselves with the dataset and it's format, as well as conducted the initial data cleaning, we will move to one of the most important steps in any project - the data preprocessing. This section is especially important for cases where we have to deal with analysis of text, such as in this project. The reason is that text in raw format usually contains a lot of noise. This could later affect the performance of the algorithms - both in terms of computational power and the final output - due to very high dimensions of the dataset. This is happening as, like we are going to see soon, each unique word in each review will become a separate feature in the dataset. Hence, the more reviews we have the more unique words we gonna end up with in the final dataset before the analysis. \n",
    " \n",
    "Therefore, its essential to use  some common text preprocessing techniques to reduce the dimensions. As a summary, we are going to perform the following steps:\n",
    "\n",
    " 1) Perform **tokenization** of the reviews. This is a technique of transforming a sentence, into a list of words. For example, the sentence \"my order was great\" would become '['my', 'order', 'was', 'great'].\n",
    " \n",
    " 2) Remove from the reviews tokens that are **stopwords**. Stopwords are words inside text that do not provide much information and are usually getting removed from the initial sentence. Such words can be words like \"the\", \"a\", and more.\n",
    " \n",
    " 3) Remove tokens that correspond to **punctuation** marks (e.g. \"!\", \"?\") and **numbers**.\n",
    " \n",
    " 4) <a href=\"https://en.wikipedia.org/wiki/Stemming\" style=\"text-decoration:none\">Stemming</a> and <a href=\"https://en.wikipedia.org/wiki/Lemmatisation\" style=\"text-decoration:none\">Lemmatization</a>: These two methods are being used to transform a token into it's stem or lemma respectively. These two techniques help drammatically with the reduction of the dimensions as words end up being \"grouped\" under a specific form. In this project we are going to use lemmatization, as in general is a more advanced method compared to stemming, as lemmatization algorithms try to identify the part of speech of the token, and thus in some way they are preserving the meaning of the word (something that does not necessarily happen with stemming).\n",
    " \n",
    "Below we are going to perform all of these steps to get a \"cleaner\" version of the reviews:"
   ]
  },
  {
   "cell_type": "code",
   "execution_count": 15,
   "metadata": {},
   "outputs": [],
   "source": [
    "from nltk.corpus import stopwords\n",
    "\n",
    "stopwords_ls = stopwords.words('english')\n",
    "stopwords_ls.extend(['\\'d', '\\'m', '\\'s', '\\'ve', '\\'re', '\\'ll', 'n\\'t', '’'])"
   ]
  },
  {
   "cell_type": "markdown",
   "metadata": {},
   "source": [
    "Except the common english stopwords, it's necessary to enhance the list with some additional tokens that we want to exclude from the reviews. These are usually words that we would expect that are getting repeated in the reviews. In our case, as we are examining the case of delivery companies, it would be beneficial to exclude words like 'delivery', 'order', and more. Moreover, we are excluding the tokens that correspond to the names of the delivery companies, as we already have this information in the dataset as a different feature."
   ]
  },
  {
   "cell_type": "code",
   "execution_count": 16,
   "metadata": {},
   "outputs": [],
   "source": [
    "common_delivery_words = ['delivery', 'deliver', 'driver', 'order', 'uber', 'stuart',\n",
    "                         'deliveroo', 'food', 'use', 'get', 'service', 'customer', 'refund',\n",
    "                        'give', 'star', 'even', 'though', 'could']\n",
    "\n",
    "stopwords_ls.extend(common_delivery_words)"
   ]
  },
  {
   "cell_type": "markdown",
   "metadata": {},
   "source": [
    "Moreover, we can see that the _Rating_ columns has values like the following: {1: 'Bad'}, so we are going to use a custom function to split this into two different features for better presentation:"
   ]
  },
  {
   "cell_type": "code",
   "execution_count": 17,
   "metadata": {},
   "outputs": [],
   "source": [
    "def split_ratings(rating_text):\n",
    "    \"\"\"\n",
    "    Mapper function to split string with {Rating: Rating_As_String} format to two\n",
    "    separate entities\"\"\"\n",
    "    rating_text = rating_text.replace('\\'','').replace('{','').replace('}','')\n",
    "    return rating_text[0], rating_text[3:]"
   ]
  },
  {
   "cell_type": "code",
   "execution_count": 18,
   "metadata": {},
   "outputs": [],
   "source": [
    "# Cast columns specific data format\n",
    "reviews_df['Date'] = pd.to_datetime(reviews_df['Date'], format=\"%Y-%m-%d %H:%M\", errors='coerce')\n",
    "\n",
    "reviews_df['Rating'] = reviews_df['Rating'].apply(lambda row: split_ratings(row)[0]).astype(int)\n",
    "reviews_df['Rating_Text'] = reviews_df['Rating'].apply(lambda row: ratings_dict[row])"
   ]
  },
  {
   "cell_type": "code",
   "execution_count": 19,
   "metadata": {},
   "outputs": [
    {
     "data": {
      "text/html": [
       "<div>\n",
       "<style scoped>\n",
       "    .dataframe tbody tr th:only-of-type {\n",
       "        vertical-align: middle;\n",
       "    }\n",
       "\n",
       "    .dataframe tbody tr th {\n",
       "        vertical-align: top;\n",
       "    }\n",
       "\n",
       "    .dataframe thead th {\n",
       "        text-align: right;\n",
       "    }\n",
       "</style>\n",
       "<table border=\"1\" class=\"dataframe\">\n",
       "  <thead>\n",
       "    <tr style=\"text-align: right;\">\n",
       "      <th></th>\n",
       "      <th>Company</th>\n",
       "      <th>Id</th>\n",
       "      <th>Reviewer_Id</th>\n",
       "      <th>Title</th>\n",
       "      <th>Review</th>\n",
       "      <th>Date</th>\n",
       "      <th>Rating</th>\n",
       "      <th>Rating_Text</th>\n",
       "    </tr>\n",
       "  </thead>\n",
       "  <tbody>\n",
       "    <tr>\n",
       "      <th>0</th>\n",
       "      <td>Deliveroo</td>\n",
       "      <td>60709f95f85d75087052ff8b</td>\n",
       "      <td>60709f8f0a30fd001b06dc52</td>\n",
       "      <td>Ordered food and apparently the driver…</td>\n",
       "      <td>Ordered food and apparently the driver was wai...</td>\n",
       "      <td>2021-04-09 18:40:00</td>\n",
       "      <td>2</td>\n",
       "      <td>Poor</td>\n",
       "    </tr>\n",
       "    <tr>\n",
       "      <th>1</th>\n",
       "      <td>Deliveroo</td>\n",
       "      <td>60708710f85d75087052c89b</td>\n",
       "      <td>6070870c2158190019b3ab8e</td>\n",
       "      <td>Disgusting Live Customer Service CHAT!!!</td>\n",
       "      <td>I received standard bag of buttons that cost £...</td>\n",
       "      <td>2021-04-09 16:55:00</td>\n",
       "      <td>1</td>\n",
       "      <td>Bad</td>\n",
       "    </tr>\n",
       "  </tbody>\n",
       "</table>\n",
       "</div>"
      ],
      "text/plain": [
       "     Company                        Id               Reviewer_Id  \\\n",
       "0  Deliveroo  60709f95f85d75087052ff8b  60709f8f0a30fd001b06dc52   \n",
       "1  Deliveroo  60708710f85d75087052c89b  6070870c2158190019b3ab8e   \n",
       "\n",
       "                                      Title  \\\n",
       "0   Ordered food and apparently the driver…   \n",
       "1  Disgusting Live Customer Service CHAT!!!   \n",
       "\n",
       "                                              Review                Date  \\\n",
       "0  Ordered food and apparently the driver was wai... 2021-04-09 18:40:00   \n",
       "1  I received standard bag of buttons that cost £... 2021-04-09 16:55:00   \n",
       "\n",
       "   Rating Rating_Text  \n",
       "0       2        Poor  \n",
       "1       1         Bad  "
      ]
     },
     "execution_count": 19,
     "metadata": {},
     "output_type": "execute_result"
    }
   ],
   "source": [
    "reviews_df.head(2)"
   ]
  },
  {
   "cell_type": "markdown",
   "metadata": {},
   "source": [
    "Now we are ready to apply the main data preprocessing tasks that we discussed above. But to do that we have to write the function that are going to be applied in the _Review_ column. Below we can see these functions, which are coming from a custom <a href=\"https://github.com/gpsyrou/Text_Analysis_of_Consumer_Reviews/blob/main/processing/text_processing.py\" style=\"text-decoration: none\">package</a> that we had to develop, which contains functions for the most common text preprocessing tasks for pretty much any NLP project. "
   ]
  },
  {
   "cell_type": "code",
   "execution_count": 20,
   "metadata": {},
   "outputs": [],
   "source": [
    "lemmatizer = WordNetLemmatizer()\n",
    "stemmer = PorterStemmer()"
   ]
  },
  {
   "cell_type": "code",
   "execution_count": 21,
   "metadata": {},
   "outputs": [],
   "source": [
    "punct_ls = list(string.punctuation)\n",
    "punct_ls.extend([2*x for x in list(string.punctuation)])\n",
    "punct_ls.extend([3*x for x in list(string.punctuation)])"
   ]
  },
  {
   "cell_type": "code",
   "execution_count": 22,
   "metadata": {},
   "outputs": [],
   "source": [
    "def remove_stopwords(text: List['str'], stpwds_ls: List['str']) -> List['str']:\n",
    "    return [token for token in text if token not in stpwds_ls]"
   ]
  },
  {
   "cell_type": "code",
   "execution_count": 23,
   "metadata": {},
   "outputs": [],
   "source": [
    "def remove_punctuation(text: List['str'], punct_ls: List['str']) -> List['str']:\n",
    "    return [token for token in text if token not in punct_ls]"
   ]
  },
  {
   "cell_type": "code",
   "execution_count": 24,
   "metadata": {},
   "outputs": [],
   "source": [
    "def remove_numbers(text: List['str']) -> List['str']:\n",
    "    return [token for token in text if not token.isdigit()]"
   ]
  },
  {
   "cell_type": "code",
   "execution_count": 25,
   "metadata": {},
   "outputs": [],
   "source": [
    "def lemmatize(text: List['str'],\n",
    "              pos_type = 'a') -> List['str']:\n",
    "    return [lemmatizer.lemmatize(token, pos=pos_type) for token in text]\n",
    "\n",
    "def stem(text: List['str']) -> List['str']:\n",
    "    return [stemmer.stem(token) for token in text]"
   ]
  },
  {
   "cell_type": "code",
   "execution_count": 26,
   "metadata": {},
   "outputs": [],
   "source": [
    "def tokenize_and_clean(text: str,\n",
    "                       stopwords_ls: List[str],\n",
    "                       stopwords=True,\n",
    "                       punct=True, \n",
    "                       numerics=True) -> List[str]:\n",
    "    \"\"\"\n",
    "    Performs tokenizations and cleaning processes given a document/text.\n",
    "    The function will always tokenize the given text but the cleaning tasks\n",
    "    are optional.\n",
    "    \n",
    "    Parameters\n",
    "    ----------\n",
    "    text: \n",
    "        A document, which can be a word or sentence of arbitrary length.\n",
    "    stopwords: default True\n",
    "        Indicator of removing tokens that are stopwords.\n",
    "    punct: \n",
    "        Indicator of removing tokens that are punctuation marks.\n",
    "    numerics: \n",
    "        Indicator of removing tokens that correspond to numbers.\n",
    "\n",
    "    Returns\n",
    "    --------\n",
    "         A tokenized version of 'text' with the necessary updates depending on\n",
    "         the cleanup steps performed.\n",
    "    \"\"\"\n",
    "    tokenized = word_tokenize(text, language='english')\n",
    "    \n",
    "    tokenized = [token.lower() for token in tokenized]\n",
    "\n",
    "    if punct:\n",
    "        tokenized = remove_punctuation(tokenized, punct_ls=punct_ls)\n",
    "        \n",
    "    if numerics:\n",
    "        tokenized = remove_numbers(tokenized)\n",
    "        \n",
    "    if stopwords:\n",
    "        tokenized = remove_stopwords(tokenized, stpwds_ls=stopwords_ls)\n",
    "\n",
    "    return tokenized"
   ]
  },
  {
   "cell_type": "markdown",
   "metadata": {},
   "source": [
    "Split review in tokens and remove punctuation & stopwords"
   ]
  },
  {
   "cell_type": "code",
   "execution_count": 27,
   "metadata": {},
   "outputs": [],
   "source": [
    "reviews_df['Review_Tokenized'] = reviews_df['Review'].apply(lambda row: tokenize_and_clean(text=row, stopwords_ls=stopwords_ls, numerics=False))"
   ]
  },
  {
   "cell_type": "markdown",
   "metadata": {},
   "source": [
    "Lemmatize the tokens"
   ]
  },
  {
   "cell_type": "code",
   "execution_count": 28,
   "metadata": {},
   "outputs": [],
   "source": [
    "reviews_df['Review_Lemmatized'] = reviews_df['Review_Tokenized'].apply(lambda row: lemmatize(text=row, pos_type='n'))"
   ]
  },
  {
   "cell_type": "code",
   "execution_count": 29,
   "metadata": {},
   "outputs": [],
   "source": [
    "reviews_df['Review_Lemmatized'] = reviews_df['Review_Lemmatized'].apply(lambda row: lemmatize(text=row, pos_type='a'))"
   ]
  },
  {
   "cell_type": "markdown",
   "metadata": {},
   "source": [
    "Some times we need the \"clean\" tokens per document to be a single string. Therefore we are applying the appropriate transformation where we are joining back the clean tokens into a single object."
   ]
  },
  {
   "cell_type": "code",
   "execution_count": 30,
   "metadata": {},
   "outputs": [],
   "source": [
    "reviews_df['Clean_Review_String'] = reviews_df['Review_Lemmatized'].apply(lambda row: ' '.join([x for x in row]))"
   ]
  },
  {
   "cell_type": "code",
   "execution_count": 31,
   "metadata": {},
   "outputs": [
    {
     "data": {
      "text/html": [
       "<div>\n",
       "<style scoped>\n",
       "    .dataframe tbody tr th:only-of-type {\n",
       "        vertical-align: middle;\n",
       "    }\n",
       "\n",
       "    .dataframe tbody tr th {\n",
       "        vertical-align: top;\n",
       "    }\n",
       "\n",
       "    .dataframe thead th {\n",
       "        text-align: right;\n",
       "    }\n",
       "</style>\n",
       "<table border=\"1\" class=\"dataframe\">\n",
       "  <thead>\n",
       "    <tr style=\"text-align: right;\">\n",
       "      <th></th>\n",
       "      <th>Company</th>\n",
       "      <th>Title</th>\n",
       "      <th>Review</th>\n",
       "      <th>Review_Tokenized</th>\n",
       "      <th>Review_Lemmatized</th>\n",
       "      <th>Clean_Review_String</th>\n",
       "    </tr>\n",
       "  </thead>\n",
       "  <tbody>\n",
       "    <tr>\n",
       "      <th>0</th>\n",
       "      <td>Deliveroo</td>\n",
       "      <td>Ordered food and apparently the driver…</td>\n",
       "      <td>Ordered food and apparently the driver was wai...</td>\n",
       "      <td>[ordered, apparently, waiting, 10, mins, stood...</td>\n",
       "      <td>[ordered, apparently, waiting, 10, min, stood,...</td>\n",
       "      <td>ordered apparently waiting 10 min stood outsid...</td>\n",
       "    </tr>\n",
       "    <tr>\n",
       "      <th>1</th>\n",
       "      <td>Deliveroo</td>\n",
       "      <td>Disgusting Live Customer Service CHAT!!!</td>\n",
       "      <td>I received standard bag of buttons that cost £...</td>\n",
       "      <td>[received, standard, bag, buttons, cost, £1.60...</td>\n",
       "      <td>[received, standard, bag, button, cost, £1.60,...</td>\n",
       "      <td>received standard bag button cost £1.60 asked ...</td>\n",
       "    </tr>\n",
       "    <tr>\n",
       "      <th>2</th>\n",
       "      <td>Deliveroo</td>\n",
       "      <td>Just had an appalling experience with…</td>\n",
       "      <td>Just had an appalling experience with delivero...</td>\n",
       "      <td>[appalling, experience, ordered, pizza, £10, d...</td>\n",
       "      <td>[appalling, experience, ordered, pizza, £10, d...</td>\n",
       "      <td>appalling experience ordered pizza £10 discoun...</td>\n",
       "    </tr>\n",
       "    <tr>\n",
       "      <th>3</th>\n",
       "      <td>Deliveroo</td>\n",
       "      <td>The same situation happened twice</td>\n",
       "      <td>The same situation happened twice. I ordered f...</td>\n",
       "      <td>[situation, happened, twice, ordered, around, ...</td>\n",
       "      <td>[situation, happened, twice, ordered, around, ...</td>\n",
       "      <td>situation happened twice ordered around 10 pm ...</td>\n",
       "    </tr>\n",
       "    <tr>\n",
       "      <th>4</th>\n",
       "      <td>Deliveroo</td>\n",
       "      <td>Driver left without giving us food</td>\n",
       "      <td>Driver turned up late couldn’t find us and lef...</td>\n",
       "      <td>[turned, late, find, us, left, awful]</td>\n",
       "      <td>[turned, late, find, u, left, awful]</td>\n",
       "      <td>turned late find u left awful</td>\n",
       "    </tr>\n",
       "  </tbody>\n",
       "</table>\n",
       "</div>"
      ],
      "text/plain": [
       "     Company                                     Title  \\\n",
       "0  Deliveroo   Ordered food and apparently the driver…   \n",
       "1  Deliveroo  Disgusting Live Customer Service CHAT!!!   \n",
       "2  Deliveroo    Just had an appalling experience with…   \n",
       "3  Deliveroo         The same situation happened twice   \n",
       "4  Deliveroo        Driver left without giving us food   \n",
       "\n",
       "                                              Review  \\\n",
       "0  Ordered food and apparently the driver was wai...   \n",
       "1  I received standard bag of buttons that cost £...   \n",
       "2  Just had an appalling experience with delivero...   \n",
       "3  The same situation happened twice. I ordered f...   \n",
       "4  Driver turned up late couldn’t find us and lef...   \n",
       "\n",
       "                                    Review_Tokenized  \\\n",
       "0  [ordered, apparently, waiting, 10, mins, stood...   \n",
       "1  [received, standard, bag, buttons, cost, £1.60...   \n",
       "2  [appalling, experience, ordered, pizza, £10, d...   \n",
       "3  [situation, happened, twice, ordered, around, ...   \n",
       "4              [turned, late, find, us, left, awful]   \n",
       "\n",
       "                                   Review_Lemmatized  \\\n",
       "0  [ordered, apparently, waiting, 10, min, stood,...   \n",
       "1  [received, standard, bag, button, cost, £1.60,...   \n",
       "2  [appalling, experience, ordered, pizza, £10, d...   \n",
       "3  [situation, happened, twice, ordered, around, ...   \n",
       "4               [turned, late, find, u, left, awful]   \n",
       "\n",
       "                                 Clean_Review_String  \n",
       "0  ordered apparently waiting 10 min stood outsid...  \n",
       "1  received standard bag button cost £1.60 asked ...  \n",
       "2  appalling experience ordered pizza £10 discoun...  \n",
       "3  situation happened twice ordered around 10 pm ...  \n",
       "4                      turned late find u left awful  "
      ]
     },
     "execution_count": 31,
     "metadata": {},
     "output_type": "execute_result"
    }
   ],
   "source": [
    "reviews_df[['Company', 'Title', 'Review', 'Review_Tokenized', 'Review_Lemmatized', 'Clean_Review_String']].head(5)"
   ]
  },
  {
   "cell_type": "markdown",
   "metadata": {},
   "source": [
    "We can observe how big is the difference between the initial _Review_ and the final format of the review after the preprocessing tasks, as shown in <em>Review_Merged</em>.\n",
    "\n",
    "<a id=\"eda\"></a>\n",
    "### Exploratory Data Analysis\n",
    "\n",
    "Now that the data are in a better shape, we can start with the main part of this project which is the actual analysis of the reviews. As a first step we are going to perform some exploratory data analysis, mostly by analyzing the data visually. \n",
    "\n",
    "This is an important step for every data analysis project as it will allow us to further familiarize ourselves with the data, as well as make sure that we don't identify any cases that would require further data cleaning and that we might have missed in the initial text preprocessing steps performed in the previous section.\n",
    "<a id=\"single_words\"></a>"
   ]
  },
  {
   "cell_type": "code",
   "execution_count": 32,
   "metadata": {},
   "outputs": [],
   "source": [
    "def most_common_words(input_df: pd.DataFrame,\n",
    "                      text_col: str,\n",
    "                      n_most_common=20):\n",
    "    \"\"\"\n",
    "    Given a collection of documents as text, compute the number of most common\n",
    "    words as defined by n_most_common.\n",
    "    Args:\n",
    "    ------\n",
    "        input_df: Dataframe that contains the relevant text column\n",
    "        text_col: Name of the column\n",
    "        n_most_common: Number of most common words to calculate\n",
    "    Returns:\n",
    "    --------\n",
    "        Pandas dataframe with two columns indicating a word and number\n",
    "        of times (count) that it appears in the original input_df\n",
    "    \"\"\"\n",
    "    word_list = list([x.split() for x in input_df[text_col] if x is not None])\n",
    "    word_counter = Counter(x for xs in word_list for x in set(xs))\n",
    "    word_counter.most_common(n_most_common)\n",
    "\n",
    "    return pd.DataFrame(word_counter.most_common(n_most_common), columns=['word', 'count'])"
   ]
  },
  {
   "cell_type": "code",
   "execution_count": 33,
   "metadata": {},
   "outputs": [],
   "source": [
    "def plot_most_common_words(input_df: pd.DataFrame,\n",
    "                           text_col: str,\n",
    "                           n_most_common=20,\n",
    "                           return_counts=False,\n",
    "                           figsize=(10, 10)) -> None:\n",
    "    \n",
    "    if return_counts:\n",
    "        df = most_common_words(input_df=input_df, text_col=text_col, n_most_common=n_most_common)\n",
    "        display(HTML(df.to_html()))\n",
    "\n",
    "    fig, ax = plt.subplots(figsize=figsize)\n",
    "    common_words_df = most_common_words(input_df=input_df,\n",
    "                                        text_col=text_col,\n",
    "                                        n_most_common=n_most_common)\n",
    "    sns.barplot(x='count', y='word', data=common_words_df).set_title(f'Common Words Found - Overall',\n",
    "                                                                     fontweight='bold')\n",
    "    plt.grid(True, alpha=0.3, linestyle='-', color='black')\n",
    "    plt.show()"
   ]
  },
  {
   "cell_type": "code",
   "execution_count": 34,
   "metadata": {},
   "outputs": [
    {
     "data": {
      "text/html": [
       "<table border=\"1\" class=\"dataframe\">\n",
       "  <thead>\n",
       "    <tr style=\"text-align: right;\">\n",
       "      <th></th>\n",
       "      <th>word</th>\n",
       "      <th>count</th>\n",
       "    </tr>\n",
       "  </thead>\n",
       "  <tbody>\n",
       "    <tr>\n",
       "      <th>0</th>\n",
       "      <td>time</td>\n",
       "      <td>5727</td>\n",
       "    </tr>\n",
       "    <tr>\n",
       "      <th>1</th>\n",
       "      <td>never</td>\n",
       "      <td>5101</td>\n",
       "    </tr>\n",
       "    <tr>\n",
       "      <th>2</th>\n",
       "      <td>ordered</td>\n",
       "      <td>4542</td>\n",
       "    </tr>\n",
       "    <tr>\n",
       "      <th>3</th>\n",
       "      <td>restaurant</td>\n",
       "      <td>3845</td>\n",
       "    </tr>\n",
       "    <tr>\n",
       "      <th>4</th>\n",
       "      <td>would</td>\n",
       "      <td>3781</td>\n",
       "    </tr>\n",
       "    <tr>\n",
       "      <th>5</th>\n",
       "      <td>hour</td>\n",
       "      <td>3762</td>\n",
       "    </tr>\n",
       "    <tr>\n",
       "      <th>6</th>\n",
       "      <td>delivered</td>\n",
       "      <td>3297</td>\n",
       "    </tr>\n",
       "    <tr>\n",
       "      <th>7</th>\n",
       "      <td>money</td>\n",
       "      <td>3272</td>\n",
       "    </tr>\n",
       "    <tr>\n",
       "      <th>8</th>\n",
       "      <td>eats</td>\n",
       "      <td>3213</td>\n",
       "    </tr>\n",
       "    <tr>\n",
       "      <th>9</th>\n",
       "      <td>said</td>\n",
       "      <td>3055</td>\n",
       "    </tr>\n",
       "  </tbody>\n",
       "</table>"
      ],
      "text/plain": [
       "<IPython.core.display.HTML object>"
      ]
     },
     "metadata": {},
     "output_type": "display_data"
    },
    {
     "data": {
      "image/png": "[encoded data removed]",
      "text/plain": [
       "<Figure size 720x720 with 1 Axes>"
      ]
     },
     "metadata": {},
     "output_type": "display_data"
    }
   ],
   "source": [
    "plot_most_common_words(reviews_df, n_most_common=10, text_col='Clean_Review_String', return_counts=True)"
   ]
  },
  {
   "cell_type": "code",
   "execution_count": 35,
   "metadata": {},
   "outputs": [],
   "source": [
    "def plot_wordcloud(input_df: pd.DataFrame,\n",
    "                   text_col: str,\n",
    "                   figsize=(10, 10)) -> None:\n",
    "    \"\"\" Generate a WordCloud plot based on the number of occurenences of words\n",
    "    in a set documents\n",
    "    \"\"\"\n",
    "    plt.figure(figsize=figsize)\n",
    "    combined_text = ' '.join([x for x in input_df[text_col] if x is not None])\n",
    "    wordcloud = WordCloud().generate(combined_text)\n",
    "    plt.imshow(wordcloud, interpolation='bilinear')\n",
    "    plt.axis(\"off\")\n",
    "    plt.show()"
   ]
  },
  {
   "cell_type": "markdown",
   "metadata": {},
   "source": [
    "By examining each word separately we are making the assumption that the words (and so their order) do not play any role into the general meaning of the text. Thus, we can go a step further and identify pairs of words (**bigrams**) that tend to appear next to each other.\n",
    "<a id=\"bigrams_eda\"></a>"
   ]
  },
  {
   "cell_type": "code",
   "execution_count": 36,
   "metadata": {},
   "outputs": [],
   "source": [
    "def compute_bigrams(input_df: pd.DataFrame,\n",
    "                    text_col: str) -> dict:\n",
    "    \"\"\" Calculate the number of occurences where a pair of words appear next to\n",
    "    each other, and return a dictionary of {pair of words: count}.\n",
    "    \"\"\"\n",
    "    combined_text = ' '.join([x for x in input_df[text_col]])\n",
    "\n",
    "    finder = BigramCollocationFinder.from_words(word_tokenize(combined_text))\n",
    "\n",
    "    bigrams_dict = {}\n",
    "    for k, v in finder.ngram_fd.items():\n",
    "        if len(k[0]) > 1 and len(k[1]) > 1:\n",
    "            bigrams_dict[k] = v\n",
    "        else:\n",
    "            continue\n",
    "    return bigrams_dict"
   ]
  },
  {
   "cell_type": "code",
   "execution_count": 37,
   "metadata": {},
   "outputs": [],
   "source": [
    "def plot_bigrams(input_df: pd.DataFrame,\n",
    "                 text_col: str,\n",
    "                 top_n: int,\n",
    "                 rotation=0.8,\n",
    "                 figsize=(10, 8)) -> None:\n",
    "\n",
    "    bigrams_dict = compute_bigrams(input_df=input_df, text_col=text_col)\n",
    "    bigrams_sorted = sorted(bigrams_dict.items(), key=lambda x: x[1], reverse=True)[0:top_n]\n",
    "    bgram, counts = list(zip(*bigrams_sorted))\n",
    "    bgstring = list(map(lambda txt: '_'.join(txt), bgram))\n",
    "\n",
    "    plt.figure(figsize=figsize)\n",
    "    g = sns.barplot(bgstring, counts, palette='muted')\n",
    "    g.set_xticklabels(g.get_xticklabels(), rotation=rotation)\n",
    "    plt.title(f'Top-{top_n} pairs of words that appear next to each other',\n",
    "              fontweight='bold')\n",
    "    plt.ylabel('Count')\n",
    "    plt.grid(True, alpha=0.1, color='black')\n",
    "    plt.show()"
   ]
  },
  {
   "cell_type": "code",
   "execution_count": 38,
   "metadata": {},
   "outputs": [],
   "source": [
    "bigrams = compute_bigrams(reviews_df, text_col='Clean_Review_String')"
   ]
  },
  {
   "cell_type": "code",
   "execution_count": 39,
   "metadata": {},
   "outputs": [
    {
     "data": {
      "text/html": [
       "<div>\n",
       "<style scoped>\n",
       "    .dataframe tbody tr th:only-of-type {\n",
       "        vertical-align: middle;\n",
       "    }\n",
       "\n",
       "    .dataframe tbody tr th {\n",
       "        vertical-align: top;\n",
       "    }\n",
       "\n",
       "    .dataframe thead th {\n",
       "        text-align: right;\n",
       "    }\n",
       "</style>\n",
       "<table border=\"1\" class=\"dataframe\">\n",
       "  <thead>\n",
       "    <tr style=\"text-align: right;\">\n",
       "      <th></th>\n",
       "      <th>Bigram</th>\n",
       "      <th>Count</th>\n",
       "    </tr>\n",
       "  </thead>\n",
       "  <tbody>\n",
       "    <tr>\n",
       "      <th>0</th>\n",
       "      <td>(missing, item)</td>\n",
       "      <td>781</td>\n",
       "    </tr>\n",
       "    <tr>\n",
       "      <th>1</th>\n",
       "      <td>(money, back)</td>\n",
       "      <td>763</td>\n",
       "    </tr>\n",
       "    <tr>\n",
       "      <th>2</th>\n",
       "      <td>(first, time)</td>\n",
       "      <td>719</td>\n",
       "    </tr>\n",
       "    <tr>\n",
       "      <th>3</th>\n",
       "      <td>(hour, late)</td>\n",
       "      <td>689</td>\n",
       "    </tr>\n",
       "    <tr>\n",
       "      <th>4</th>\n",
       "      <td>(never, arrived)</td>\n",
       "      <td>585</td>\n",
       "    </tr>\n",
       "    <tr>\n",
       "      <th>5</th>\n",
       "      <td>(live, chat)</td>\n",
       "      <td>483</td>\n",
       "    </tr>\n",
       "    <tr>\n",
       "      <th>6</th>\n",
       "      <td>(stone, cold)</td>\n",
       "      <td>462</td>\n",
       "    </tr>\n",
       "    <tr>\n",
       "      <th>7</th>\n",
       "      <td>(said, would)</td>\n",
       "      <td>442</td>\n",
       "    </tr>\n",
       "    <tr>\n",
       "      <th>8</th>\n",
       "      <td>(48, hour)</td>\n",
       "      <td>441</td>\n",
       "    </tr>\n",
       "    <tr>\n",
       "      <th>9</th>\n",
       "      <td>(item, missing)</td>\n",
       "      <td>416</td>\n",
       "    </tr>\n",
       "    <tr>\n",
       "      <th>10</th>\n",
       "      <td>(wrong, address)</td>\n",
       "      <td>392</td>\n",
       "    </tr>\n",
       "    <tr>\n",
       "      <th>11</th>\n",
       "      <td>(bad, ever)</td>\n",
       "      <td>390</td>\n",
       "    </tr>\n",
       "    <tr>\n",
       "      <th>12</th>\n",
       "      <td>(waste, time)</td>\n",
       "      <td>376</td>\n",
       "    </tr>\n",
       "    <tr>\n",
       "      <th>13</th>\n",
       "      <td>(bad, experience)</td>\n",
       "      <td>371</td>\n",
       "    </tr>\n",
       "    <tr>\n",
       "      <th>14</th>\n",
       "      <td>(last, time)</td>\n",
       "      <td>366</td>\n",
       "    </tr>\n",
       "  </tbody>\n",
       "</table>\n",
       "</div>"
      ],
      "text/plain": [
       "               Bigram  Count\n",
       "0     (missing, item)    781\n",
       "1       (money, back)    763\n",
       "2       (first, time)    719\n",
       "3        (hour, late)    689\n",
       "4    (never, arrived)    585\n",
       "5        (live, chat)    483\n",
       "6       (stone, cold)    462\n",
       "7       (said, would)    442\n",
       "8          (48, hour)    441\n",
       "9     (item, missing)    416\n",
       "10   (wrong, address)    392\n",
       "11        (bad, ever)    390\n",
       "12      (waste, time)    376\n",
       "13  (bad, experience)    371\n",
       "14       (last, time)    366"
      ]
     },
     "execution_count": 39,
     "metadata": {},
     "output_type": "execute_result"
    }
   ],
   "source": [
    "pd.DataFrame(sorted(bigrams.items(), key=lambda item: item[1], reverse=True), columns=['Bigram', 'Count']).head(15)"
   ]
  },
  {
   "cell_type": "code",
   "execution_count": 40,
   "metadata": {},
   "outputs": [
    {
     "data": {
      "image/png": "[encoded data removed]",
      "text/plain": [
       "<Figure size 1440x432 with 1 Axes>"
      ]
     },
     "metadata": {},
     "output_type": "display_data"
    }
   ],
   "source": [
    "plot_bigrams(input_df=reviews_df, text_col='Clean_Review_String', top_n=20, rotation=45, figsize=(20, 6))"
   ]
  },
  {
   "cell_type": "markdown",
   "metadata": {},
   "source": [
    "From the bigrams plot we can infer that there are 3 main topics in the data:\n",
    "\n",
    "1. Case where order arrived but an item was missing (e.g.\"missing item\")\n",
    "2. Case where items received very late (\"hour late\", \"stone cold\", \"waste time\")\n",
    "3. Case when the order never arrived (\"wrong-adress\", \"never arrived\")\n",
    "4. Case when there was an issue related to promotional code or pricing (\"promo_code\")\n",
    "    \n",
    "We have initially observed that the bigram \"customer service\" appears in the majority of the reviews. This is something expected, as in general reviews in TrustPilot for delivery companies tend to contain reviews about problems that the customers might have faced. \n",
    "\n",
    "Hence, it's regular when a customer facing an issue with their order, to contact the customer service of the company, independently of the nature of the issue (i.e. any of the 4 points we mentioned above). Queries about the customer service might not add a lot of information in the data as they seem to be part around in 1/3 of the total reviews. One option would be to remove these words from our analysis - by adding them in the stopwords list. Therefore, \"customer service\", as well as other combinations of words that don't offer a lot in our analysis, has been excluded from our data at this point of the project.\n",
    "\n",
    "In the next section we will finally get into the modelling part of the project. Based on our findings above and by leveraging a well known method for topic modelling (i.e. LDA), we will attempt build a model that is able to identify the different topics that exist inside the reviews."
   ]
  },
  {
   "cell_type": "markdown",
   "metadata": {},
   "source": [
    "<a id=\"lda\"></a>\n",
    "## Latent Dirichlet Allocation (LDA) Model\n",
    "\n",
    "LDA is one of the most - if not the most - common methods/algorithms used for _topic modeling_. We can think of topic modeling as an unsupervised technique where we use when we want to \"classify\" a collection of documents under a predefined amount of topics, _but_ without knowing what these topics are about. Algorithms that fall under this category are usually utilizing the frequencies that words appear in the documents to extract insights and identify clusters of documents that contain similar words. \n",
    "\n",
    "The LDA model attempts to identify these clusters of documents and create the topics by making a few assumptions, such as:  \n",
    "\n",
    "   1) Each document is a collection of multiple topics (i.e. one document can belong to many topics at the same time)<br>\n",
    "   2) Each topic is represented by a collection/distribution of words<br>\n",
    "   3) Each document is a distribution of words\n",
    "    \n",
    "Note that in LDA we do not care about the order of the words - hence we can think of LDA as a bag of words model. Intuitively this makes sense, as even if we change the order of words in a document we should still be able to infer what the document might be talking about just by observing the words that are present.\n",
    "\n",
    "Again, note that from this point when we are refering to <em>words</em>, we will actually mean pairs of words (<em>bigrams</em>) - which are going to be the input of the LDA algorithm."
   ]
  },
  {
   "cell_type": "code",
   "execution_count": 41,
   "metadata": {},
   "outputs": [],
   "source": [
    "from sklearn.feature_extraction.text import CountVectorizer\n",
    "from sklearn.decomposition import LatentDirichletAllocation\n",
    "from scipy.sparse.csr import csr_matrix"
   ]
  },
  {
   "cell_type": "code",
   "execution_count": 42,
   "metadata": {},
   "outputs": [],
   "source": [
    "def countvectorizer_to_dict(vectorizer: CountVectorizer,\n",
    "                            matrix: csr_matrix) -> dict:\n",
    "    feature_names = vectorizer.get_feature_names()\n",
    "    counts = np.asarray(matrix.sum(axis=0))[0]\n",
    "    return dict(zip(feature_names, counts))"
   ]
  },
  {
   "cell_type": "code",
   "execution_count": 43,
   "metadata": {},
   "outputs": [],
   "source": [
    "def get_per_topic_wordweights(model,\n",
    "                           feature_names: List[str],\n",
    "                           sort=True):\n",
    "    word_weights_per_topic = []\n",
    "    for i, topic in enumerate(model.components_):\n",
    "        weights = list(zip(feature_names, topic))\n",
    "        if sort:\n",
    "            weights = sorted(weights, key=lambda x: x[1], reverse=True)\n",
    "        word_weights_per_topic.append([i, weights])\n",
    "    return word_weights_per_topic"
   ]
  },
  {
   "cell_type": "code",
   "execution_count": 44,
   "metadata": {},
   "outputs": [],
   "source": [
    "def show_top_words_per_topic(model,\n",
    "                             feature_names: List[str],\n",
    "                             num_top_words: int):\n",
    "    for i in range(0, len(model.components_)):\n",
    "        weights = get_per_topic_wordweights(model, feature_names)[i][1]\n",
    "        print('Topic {0} : {1} \\n'.format(i+1, weights[0:num_top_words]))"
   ]
  },
  {
   "cell_type": "markdown",
   "metadata": {},
   "source": [
    "<a id=\"bigrams_lda\"></a>\n",
    "Compute the bigrams which will be the new tokens:"
   ]
  },
  {
   "cell_type": "code",
   "execution_count": 45,
   "metadata": {},
   "outputs": [],
   "source": [
    "vectorizer = CountVectorizer(max_df=1.0,\n",
    "                             min_df=10,\n",
    "                             max_features=15000,\n",
    "                             ngram_range=(2,2))"
   ]
  },
  {
   "cell_type": "markdown",
   "metadata": {},
   "source": [
    "The above object will help us with creating a sparse matrix where each row is a document and each column is a word.<br>\n",
    "The value under $x_i, y_i$ represents a count of how many times that specific word ($y_i$) appears in that document ($x_i$)."
   ]
  },
  {
   "cell_type": "code",
   "execution_count": 46,
   "metadata": {},
   "outputs": [],
   "source": [
    "cv = vectorizer.fit_transform(reviews_df['Clean_Review_String'])"
   ]
  },
  {
   "cell_type": "code",
   "execution_count": 47,
   "metadata": {},
   "outputs": [
    {
     "data": {
      "text/plain": [
       "(17583, 5922)"
      ]
     },
     "execution_count": 47,
     "metadata": {},
     "output_type": "execute_result"
    }
   ],
   "source": [
    "cv.shape"
   ]
  },
  {
   "cell_type": "code",
   "execution_count": 48,
   "metadata": {},
   "outputs": [],
   "source": [
    "vect_matrix_df = pd.DataFrame(cv.toarray(), columns=vectorizer.get_feature_names())"
   ]
  },
  {
   "cell_type": "code",
   "execution_count": 49,
   "metadata": {},
   "outputs": [],
   "source": [
    "def vect_to_ngrams_col(vector_matrix_df: pd.DataFrame) -> List[List['str']]:\n",
    "    \"\"\" Given a sparse matrix, get the column names where respective columns of that document\n",
    "    have non-zero values - indicating that the relative column is a word present in the document. \n",
    "    \"\"\"\n",
    "    combined_ngrams_ls = []\n",
    "    for i in vect_matrix_df.index:\n",
    "        ngrams_ls = []\n",
    "        for j in list(np.where(vector_matrix_df.iloc[i] != 0)[0]):\n",
    "            ngrams_ls.append(vector_matrix_df.columns[j])\n",
    "        combined_ngrams_ls.append(ngrams_ls)\n",
    "    return combined_ngrams_ls"
   ]
  },
  {
   "cell_type": "code",
   "execution_count": 50,
   "metadata": {},
   "outputs": [],
   "source": [
    "ngrams_gen = vect_to_ngrams_col(vector_matrix_df=vect_matrix_df)"
   ]
  },
  {
   "cell_type": "code",
   "execution_count": 51,
   "metadata": {},
   "outputs": [],
   "source": [
    "reviews_df['ngrams'] = ngrams_gen"
   ]
  },
  {
   "cell_type": "code",
   "execution_count": 52,
   "metadata": {},
   "outputs": [
    {
     "data": {
      "text/plain": [
       "'ordered apparently waiting 10 min stood outside useless dont bother stick eat'"
      ]
     },
     "execution_count": 52,
     "metadata": {},
     "output_type": "execute_result"
    }
   ],
   "source": [
    "reviews_df.iloc[0]['Clean_Review_String']"
   ]
  },
  {
   "cell_type": "code",
   "execution_count": 53,
   "metadata": {},
   "outputs": [
    {
     "data": {
      "text/plain": [
       "['10 min', 'dont bother', 'stick eat', 'stood outside', 'waiting 10']"
      ]
     },
     "execution_count": 53,
     "metadata": {},
     "output_type": "execute_result"
    }
   ],
   "source": [
    "reviews_df.iloc[0]['ngrams']"
   ]
  },
  {
   "cell_type": "markdown",
   "metadata": {},
   "source": [
    "Thus, we can see that we have created a matrix which consist of 17583 distinct documents (reviews) and a total of 5922 words. As a reminder, in our project we are working with bigrams, and thus we have create a matrix where each column is a bigram combination.\n",
    "\n",
    "We can better visualize the output as follows:"
   ]
  },
  {
   "cell_type": "code",
   "execution_count": 54,
   "metadata": {},
   "outputs": [],
   "source": [
    "word_counts = countvectorizer_to_dict(vectorizer=vectorizer, matrix=cv)"
   ]
  },
  {
   "cell_type": "code",
   "execution_count": 55,
   "metadata": {},
   "outputs": [
    {
     "data": {
      "text/html": [
       "<div>\n",
       "<style scoped>\n",
       "    .dataframe tbody tr th:only-of-type {\n",
       "        vertical-align: middle;\n",
       "    }\n",
       "\n",
       "    .dataframe tbody tr th {\n",
       "        vertical-align: top;\n",
       "    }\n",
       "\n",
       "    .dataframe thead th {\n",
       "        text-align: right;\n",
       "    }\n",
       "</style>\n",
       "<table border=\"1\" class=\"dataframe\">\n",
       "  <thead>\n",
       "    <tr style=\"text-align: right;\">\n",
       "      <th></th>\n",
       "      <th>Bigram</th>\n",
       "      <th>Count</th>\n",
       "    </tr>\n",
       "  </thead>\n",
       "  <tbody>\n",
       "    <tr>\n",
       "      <th>0</th>\n",
       "      <td>missing item</td>\n",
       "      <td>802</td>\n",
       "    </tr>\n",
       "    <tr>\n",
       "      <th>1</th>\n",
       "      <td>money back</td>\n",
       "      <td>799</td>\n",
       "    </tr>\n",
       "    <tr>\n",
       "      <th>2</th>\n",
       "      <td>first time</td>\n",
       "      <td>735</td>\n",
       "    </tr>\n",
       "    <tr>\n",
       "      <th>3</th>\n",
       "      <td>hour late</td>\n",
       "      <td>694</td>\n",
       "    </tr>\n",
       "    <tr>\n",
       "      <th>4</th>\n",
       "      <td>never arrived</td>\n",
       "      <td>602</td>\n",
       "    </tr>\n",
       "    <tr>\n",
       "      <th>5</th>\n",
       "      <td>live chat</td>\n",
       "      <td>493</td>\n",
       "    </tr>\n",
       "    <tr>\n",
       "      <th>6</th>\n",
       "      <td>stone cold</td>\n",
       "      <td>482</td>\n",
       "    </tr>\n",
       "    <tr>\n",
       "      <th>7</th>\n",
       "      <td>48 hour</td>\n",
       "      <td>462</td>\n",
       "    </tr>\n",
       "    <tr>\n",
       "      <th>8</th>\n",
       "      <td>said would</td>\n",
       "      <td>444</td>\n",
       "    </tr>\n",
       "    <tr>\n",
       "      <th>9</th>\n",
       "      <td>item missing</td>\n",
       "      <td>423</td>\n",
       "    </tr>\n",
       "    <tr>\n",
       "      <th>10</th>\n",
       "      <td>wrong address</td>\n",
       "      <td>398</td>\n",
       "    </tr>\n",
       "    <tr>\n",
       "      <th>11</th>\n",
       "      <td>bad ever</td>\n",
       "      <td>397</td>\n",
       "    </tr>\n",
       "    <tr>\n",
       "      <th>12</th>\n",
       "      <td>last time</td>\n",
       "      <td>395</td>\n",
       "    </tr>\n",
       "    <tr>\n",
       "      <th>13</th>\n",
       "      <td>waste time</td>\n",
       "      <td>386</td>\n",
       "    </tr>\n",
       "    <tr>\n",
       "      <th>14</th>\n",
       "      <td>bad experience</td>\n",
       "      <td>377</td>\n",
       "    </tr>\n",
       "  </tbody>\n",
       "</table>\n",
       "</div>"
      ],
      "text/plain": [
       "            Bigram  Count\n",
       "0     missing item    802\n",
       "1       money back    799\n",
       "2       first time    735\n",
       "3        hour late    694\n",
       "4    never arrived    602\n",
       "5        live chat    493\n",
       "6       stone cold    482\n",
       "7          48 hour    462\n",
       "8       said would    444\n",
       "9     item missing    423\n",
       "10   wrong address    398\n",
       "11        bad ever    397\n",
       "12       last time    395\n",
       "13      waste time    386\n",
       "14  bad experience    377"
      ]
     },
     "execution_count": 55,
     "metadata": {},
     "output_type": "execute_result"
    }
   ],
   "source": [
    "pd.DataFrame(sorted(word_counts.items(), key=lambda item: item[1], reverse=True), columns=['Bigram', 'Count']).head(15)"
   ]
  },
  {
   "cell_type": "markdown",
   "metadata": {},
   "source": [
    "Latent Dirichlet Allocation model requires the number of topics as an input from the user. As we saw above, seems like the reviews are splitted into 4 categories.\n",
    "Therefore, we are going to set this parameter to 4 and attempt to identify these topics in the reviews.\n",
    "<a id=\"lda_model\"></a>"
   ]
  },
  {
   "cell_type": "code",
   "execution_count": 56,
   "metadata": {},
   "outputs": [],
   "source": [
    "number_of_topics = 4"
   ]
  },
  {
   "cell_type": "code",
   "execution_count": 57,
   "metadata": {},
   "outputs": [],
   "source": [
    "lda_model = LatentDirichletAllocation(n_components=number_of_topics,\n",
    "                                      learning_method='batch',\n",
    "                                      learning_offset=20,\n",
    "                                      doc_topic_prior= 2 * (1/number_of_topics),\n",
    "                                      max_iter=30,\n",
    "                                      random_state=10,\n",
    "                                      n_jobs=-1,\n",
    "                                      verbose=0)"
   ]
  },
  {
   "cell_type": "code",
   "execution_count": 58,
   "metadata": {},
   "outputs": [
    {
     "data": {
      "text/plain": [
       "LatentDirichletAllocation(batch_size=128, doc_topic_prior=0.5,\n",
       "                          evaluate_every=-1, learning_decay=0.7,\n",
       "                          learning_method='batch', learning_offset=20,\n",
       "                          max_doc_update_iter=100, max_iter=30,\n",
       "                          mean_change_tol=0.001, n_components=4, n_jobs=-1,\n",
       "                          perp_tol=0.1, random_state=10, topic_word_prior=None,\n",
       "                          total_samples=1000000.0, verbose=0)"
      ]
     },
     "execution_count": 58,
     "metadata": {},
     "output_type": "execute_result"
    }
   ],
   "source": [
    "lda_model.fit(cv)"
   ]
  },
  {
   "cell_type": "code",
   "execution_count": 59,
   "metadata": {},
   "outputs": [
    {
     "data": {
      "text/plain": [
       "(4, 5922, 5922, 5922, 5922)"
      ]
     },
     "execution_count": 59,
     "metadata": {},
     "output_type": "execute_result"
    }
   ],
   "source": [
    "len(lda_model.components_), len(lda_model.components_[0]), len(lda_model.components_[1]), len(lda_model.components_[2]), len(lda_model.components_[3])"
   ]
  },
  {
   "cell_type": "markdown",
   "metadata": {},
   "source": [
    "We can see the weight (parameter) of each word for a specific topic, as follows:"
   ]
  },
  {
   "cell_type": "code",
   "execution_count": 60,
   "metadata": {},
   "outputs": [
    {
     "data": {
      "text/plain": [
       "array([ 0.25854038, 12.94450906, 21.22136906, ...,  0.25725056,\n",
       "        0.58212183,  0.26051804])"
      ]
     },
     "execution_count": 60,
     "metadata": {},
     "output_type": "execute_result"
    }
   ],
   "source": [
    "lda_model.components_[0]"
   ]
  },
  {
   "cell_type": "markdown",
   "metadata": {},
   "source": [
    "The above can be interpreted as a pseudocount of the number of times that word (bigram) $x_i$ was assigned to document topic $z_i$. Hence, the first case in the example we have a pseudocount of 2.84263915 for word $x_1$ on topic 0 (which is the first topic)."
   ]
  },
  {
   "cell_type": "code",
   "execution_count": 61,
   "metadata": {},
   "outputs": [],
   "source": [
    "topic_weights = get_per_topic_wordweights(lda_model,\n",
    "                                          feature_names=vectorizer.get_feature_names(),\n",
    "                                          sort=True)"
   ]
  },
  {
   "cell_type": "code",
   "execution_count": 62,
   "metadata": {},
   "outputs": [
    {
     "data": {
      "text/plain": [
       "[('hour late', 524.0012988330036),\n",
       " ('promo code', 356.2189541878238),\n",
       " ('minute late', 355.22597071397473),\n",
       " ('10 minute', 317.22784174540453),\n",
       " ('20 minute', 294.21782710321907)]"
      ]
     },
     "execution_count": 62,
     "metadata": {},
     "output_type": "execute_result"
    }
   ],
   "source": [
    "# This corresponds to topic 0, and the top 5 bigrams accounting for this topic\n",
    "topic_weights[0][1][0:5]  # [1] is a positional index and should remain same independently of the document"
   ]
  },
  {
   "cell_type": "code",
   "execution_count": 64,
   "metadata": {},
   "outputs": [
    {
     "name": "stdout",
     "output_type": "stream",
     "text": [
      "Topic 1 : [('hour late', 524.0012988330036), ('promo code', 356.2189541878238), ('minute late', 355.22597071397473), ('10 minute', 317.22784174540453), ('20 minute', 294.21782710321907), ('30 minute', 268.2226771554401), ('phone call', 265.20842680779833), ('phone number', 239.09198453748763), ('half hour', 204.699937746039), ('45 minute', 201.2213971552226), ('15 minute', 200.22460025897684), ('30 min', 199.10198442248816), ('40 minute', 195.22061075438145), ('told would', 193.93040310179381), ('said would', 183.29334731484775), ('took money', 177.57229395690928), ('message saying', 174.3884971913048), ('10 min', 166.22702466067744), ('min late', 161.72101664016836), ('email saying', 160.51456842222137)] \n",
      "\n",
      "Topic 2 : [('money back', 799.181097307089), ('never arrived', 602.2200613615906), ('live chat', 401.02800773655764), ('wrong address', 398.2219266664757), ('48 hour', 359.50780615077497), ('never received', 342.06397223450904), ('said delivered', 289.058405914548), ('said would', 261.1854637659523), ('ordered kfc', 245.6522669766038), ('marked delivered', 244.22815419328182), ('delivered wrong', 240.45493334742713), ('restaurant said', 240.12656923664437), ('two hour', 218.5931126662666), ('waited hour', 218.4490068151806), ('called restaurant', 211.6585998337411), ('go wrong', 211.21361706893185), ('never delivered', 193.22378522212165), ('never got', 191.19095923249606), ('first time', 180.5851443875949), ('time using', 178.19592952411136)] \n",
      "\n",
      "Topic 3 : [('missing item', 802.2301098245683), ('stone cold', 481.3603581171708), ('item missing', 303.29316827814455), ('waste time', 300.87850349121766), ('avoid cost', 219.2077692010688), ('arrived cold', 186.1326495316936), ('deleted app', 156.63216281855915), ('multiple time', 156.2061004296547), ('via app', 135.50547442229376), ('take responsibility', 125.20266614615562), ('automated response', 123.21872950690435), ('straight away', 120.90991123694349), ('absolute joke', 112.53829868387263), ('waste money', 112.20916512953103), ('joke company', 110.32643078295227), ('back forth', 109.39236167783767), ('support team', 106.21561688414194), ('app never', 104.20179996807393), ('48 hour', 102.97199039469484), ('resolve issue', 102.21628258411764)] \n",
      "\n",
      "Topic 4 : [('first time', 544.0704548632449), ('bad ever', 396.55024140211026), ('bad experience', 377.21280092545624), ('never ever', 313.551935869928), ('last time', 313.25924011593014), ('second time', 286.20293734743615), ('every time', 284.0700051676612), ('bad company', 264.2197466452738), ('hour half', 245.10685781646532), ('credit card', 215.21307067344307), ('late cold', 206.01407818133558), ('many time', 204.1504020380347), ('time ordered', 196.28103140862456), ('discount code', 193.22854423124554), ('zero star', 184.07795373475548), ('company ever', 180.2225391855191), ('much good', 169.21500242547313), ('waiting hour', 152.0285465082526), ('never using', 150.82471910125344), ('using eats', 150.69408289874931)] \n",
      "\n"
     ]
    }
   ],
   "source": [
    "show_top_words_per_topic(lda_model, feature_names=vectorizer.get_feature_names(), num_top_words=20)"
   ]
  },
  {
   "cell_type": "markdown",
   "metadata": {},
   "source": [
    "Therefore we can see that the algorithm has identified the following 4 topics:\n",
    "\n",
    "- Topic 1: This topic consists of reviews where the order took a significant amount to be completed \n",
    "- Topic 2: This appears to be the topic arround orders that were never arrived to their destination \n",
    "- Topic 3: Cases where an item was missing from the order \n",
    "- Topic 4: Orders where there was an issue with discounts/pricing\n",
    "\n",
    "<a id=\"topic_assign\"></a>"
   ]
  },
  {
   "cell_type": "code",
   "execution_count": 65,
   "metadata": {},
   "outputs": [],
   "source": [
    "topic_to_review_distribution = lda_model.transform(cv)"
   ]
  },
  {
   "cell_type": "code",
   "execution_count": 66,
   "metadata": {},
   "outputs": [],
   "source": [
    "def assign_topic(topic_probs: List[float], threshold=0.65) -> int:\n",
    "    \"\"\" Assign a topic to a review based on the topic with the highest probability.\n",
    "    If no topic probability exceeds threshold, no assignment is being completed.\n",
    "    \"\"\"\n",
    "    max_likelihood = np.max(topic_probs)\n",
    "    if threshold < max_likelihood:\n",
    "        max_topic_idx = np.argmax(topic_probs)\n",
    "        if max_topic_idx==0:\n",
    "            max_topic_idx = 1\n",
    "        else:\n",
    "            max_topic_idx += 1\n",
    "        return max_topic_idx\n",
    "    else:\n",
    "        return 0"
   ]
  },
  {
   "cell_type": "code",
   "execution_count": 67,
   "metadata": {},
   "outputs": [],
   "source": [
    "topics_map = {0: 'Indecisive',\n",
    "              1: 'Delayed Order',\n",
    "              2: 'Order Never Arrived',\n",
    "              3: 'Missing/Wrong Item',\n",
    "              4: 'Discount/Pricing Issue'}"
   ]
  },
  {
   "cell_type": "code",
   "execution_count": 68,
   "metadata": {},
   "outputs": [],
   "source": [
    "reviews_df['Topic_Likelihood'] = topic_to_review_distribution.tolist()"
   ]
  },
  {
   "cell_type": "code",
   "execution_count": 69,
   "metadata": {},
   "outputs": [],
   "source": [
    "cutoff_threshold = 1/number_of_topics"
   ]
  },
  {
   "cell_type": "code",
   "execution_count": 70,
   "metadata": {},
   "outputs": [],
   "source": [
    "reviews_df['Topic_Num'] = reviews_df['Topic_Likelihood'].apply(lambda row: assign_topic(row, threshold=cutoff_threshold))"
   ]
  },
  {
   "cell_type": "code",
   "execution_count": 71,
   "metadata": {},
   "outputs": [],
   "source": [
    "reviews_df['Topic'] = reviews_df['Topic_Num'].apply(lambda row: topics_map[row])"
   ]
  },
  {
   "cell_type": "code",
   "execution_count": 72,
   "metadata": {},
   "outputs": [
    {
     "name": "stdout",
     "output_type": "stream",
     "text": [
      "                                                                                                Review  \\\n",
      "0  Ordered food and apparently the driver was waiting for 10 mins to deliver the food even though I...   \n",
      "1  I received standard bag of buttons that cost £1.60 but I asked for share bags at £2.85 so I've b...   \n",
      "2  Just had an appalling experience with deliveroo. Had ordered a pizza with a £10 discount code th...   \n",
      "3  The same situation happened twice. I ordered food around 10 pm and been waiting for the food for...   \n",
      "4                                               Driver turned up late couldn’t find us and left. Awful   \n",
      "\n",
      "                    Topic  Topic_Num  \n",
      "0           Delayed Order          1  \n",
      "1     Order Never Arrived          2  \n",
      "2  Discount/Pricing Issue          4  \n",
      "3           Delayed Order          1  \n",
      "4      Missing/Wrong Item          3  \n"
     ]
    }
   ],
   "source": [
    "with pd.option_context('display.max_colwidth', 100):\n",
    "    print(reviews_df[['Review', 'Topic', 'Topic_Num']].head(5))"
   ]
  },
  {
   "cell_type": "code",
   "execution_count": 73,
   "metadata": {},
   "outputs": [],
   "source": [
    "def get_review_summary(input_df: pd.DataFrame,\n",
    "                       rev_idx: int,\n",
    "                       topics_map=topics_map):\n",
    "    \n",
    "    print('\\x1b[1;30m' + 'Review: ' + '\\x1b[0m' + input_df['Review'].iloc[rev_idx] + '\\n')\n",
    "    print('\\x1b[1;30m' + 'Predicted Topic: ' + '\\x1b[0m' + input_df['Topic'].iloc[rev_idx] + '\\n')\n",
    "    print(input_df['Topic_Likelihood'].iloc[rev_idx])\n",
    "    \n",
    "    topic_to_likelihood = list(zip(list(topics_map.keys()),\n",
    "                                   list(topics_map.values()),\n",
    "                                   [0.0] + input_df['Topic_Likelihood'].iloc[rev_idx]))\n",
    "    l_df = pd.DataFrame(topic_to_likelihood, columns = ['Topic_Num', 'Topic', 'Likelihood'])\n",
    "    \n",
    "    plt.figure(figsize=(12, 6))\n",
    "    sns.barplot(x='Topic', y='Likelihood', data=l_df)\n",
    "    plt.ylim(0, 1.0)\n",
    "    plt.grid(True, alpha=0.2, linestyle='-', color='black')\n",
    "    plt.show()"
   ]
  },
  {
   "cell_type": "markdown",
   "metadata": {},
   "source": [
    "<a id=\"viz_output\"></a>\n",
    "We can visualize the results for a few random cases:"
   ]
  },
  {
   "cell_type": "code",
   "execution_count": 74,
   "metadata": {},
   "outputs": [
    {
     "name": "stdout",
     "output_type": "stream",
     "text": [
      "\u001b[1;30mReview: \u001b[0mWe ordered our food and have now waited 45 mins for our delivery to arrive,(it's going to be over an hour when it finally arrives) we even called the restaurant and was told our order was sitting ready but with no drivers to pick it up. Really disappointed is the service of deliveroo, no-one answered the phone or spoke to us on the live chat.\n",
      "\n",
      "\u001b[1;30mPredicted Topic: \u001b[0mDelayed Order\n",
      "\n",
      "[0.5742248112041254, 0.2809699912341831, 0.08888835919778625, 0.05591683836390528]\n"
     ]
    },
    {
     "data": {
      "image/png": "[encoded data removed]",
      "text/plain": [
       "<Figure size 864x432 with 1 Axes>"
      ]
     },
     "metadata": {},
     "output_type": "display_data"
    }
   ],
   "source": [
    "get_review_summary(input_df=reviews_df, rev_idx=200, topics_map=topics_map)"
   ]
  },
  {
   "cell_type": "code",
   "execution_count": 75,
   "metadata": {},
   "outputs": [
    {
     "name": "stdout",
     "output_type": "stream",
     "text": [
      "\u001b[1;30mReview: \u001b[0mWorst customer service ever, I wish There was an option for no star. they charge you for the things you don’t receive and they take your promotion money off for their selves after.Not a helpful customer service.\n",
      "\n",
      "\u001b[1;30mPredicted Topic: \u001b[0mDiscount/Pricing Issue\n",
      "\n",
      "[0.16666845031958155, 0.16671504662837344, 0.16666854030557357, 0.4999479627464715]\n"
     ]
    },
    {
     "data": {
      "image/png": "[encoded data removed]",
      "text/plain": [
       "<Figure size 864x432 with 1 Axes>"
      ]
     },
     "metadata": {},
     "output_type": "display_data"
    }
   ],
   "source": [
    "get_review_summary(input_df=reviews_df, rev_idx=5432, topics_map=topics_map)"
   ]
  },
  {
   "cell_type": "code",
   "execution_count": 76,
   "metadata": {},
   "outputs": [
    {
     "name": "stdout",
     "output_type": "stream",
     "text": [
      "\u001b[1;30mReview: \u001b[0mUber eats its a reap off after sending my food to the wrong address they were rude and did not refund my money very disappointed in them.\n",
      "\n",
      "\u001b[1;30mPredicted Topic: \u001b[0mOrder Never Arrived\n",
      "\n",
      "[0.16666868957193726, 0.49999359917875497, 0.16666882434823618, 0.16666888690107162]\n"
     ]
    },
    {
     "data": {
      "image/png": "[encoded data removed]",
      "text/plain": [
       "<Figure size 864x432 with 1 Axes>"
      ]
     },
     "metadata": {},
     "output_type": "display_data"
    }
   ],
   "source": [
    "get_review_summary(input_df=reviews_df, rev_idx=6090, topics_map=topics_map)"
   ]
  },
  {
   "cell_type": "markdown",
   "metadata": {},
   "source": [
    "Finally, we can get a general picture of the results and summarize the _per company_ :"
   ]
  },
  {
   "cell_type": "code",
   "execution_count": 218,
   "metadata": {},
   "outputs": [],
   "source": [
    "def summary_per_company(input_df: pd.DataFrame,\n",
    "                        company: 'all',\n",
    "                        figsize=(6, 6)) -> None:\n",
    "    \n",
    "    if company != 'all':\n",
    "        filtered_df = input_df[input_df['Company'] == company]\n",
    "    else:\n",
    "        filtered_df = input_df\n",
    "\n",
    "    vals = filtered_df['Topic'].value_counts()\n",
    "    groups = filtered_df['Topic'].value_counts().index.tolist()\n",
    "    \n",
    "    filtered_df = pd.DataFrame({'Num_Reviews': vals, 'group': groups})\n",
    "    \n",
    "    colors_ls = [\"tab:blue\", \"tab:orange\", \"tab:purple\", \"tab:green\", \"tab:red\"]\n",
    "    \n",
    "    plt.figure(figsize=(figsize))\n",
    "\n",
    "    # TreePlot\n",
    "    plt.subplot(1, 2, 1)\n",
    "\n",
    "    squarify.plot(sizes=filtered_df['Num_Reviews'],\n",
    "                  label=filtered_df['group'],\n",
    "                  color=colors_ls,\n",
    "                  alpha=.4 )\n",
    "    plt.axis('on')\n",
    "    #plt.title('Treeplot for {}'.format(company), pad=30)\n",
    "    \n",
    "    # DonutPlot\n",
    "    plt.subplot(1, 2, 2)\n",
    "    \n",
    "    cen_circle = plt.Circle((0, 0), 0.6, color='white')\n",
    "\n",
    "    plt.pie(filtered_df['Num_Reviews'],\n",
    "            labels= filtered_df['group'],\n",
    "            autopct='%1.1f%%',\n",
    "            pctdistance = 1.23,\n",
    "            startangle=85,\n",
    "            labeldistance=1.05,\n",
    "            colors=colors_ls)\n",
    "    plt.axis('equal')\n",
    "    #plt.title('Donutplot for {}'.format(company), pad=30)\n",
    "    plt.gca().add_artist(cen_circle)\n",
    "    \n",
    "    plt.tight_layout()\n",
    "    plt.show()"
   ]
  },
  {
   "cell_type": "code",
   "execution_count": 251,
   "metadata": {},
   "outputs": [
    {
     "name": "stdout",
     "output_type": "stream",
     "text": [
      "\u001b[1;30mDeliveroo\u001b[0m - Number of reviews: 6303\n"
     ]
    },
    {
     "data": {
      "image/png": "[encoded data removed]",
      "text/plain": [
       "<Figure size 936x432 with 2 Axes>"
      ]
     },
     "metadata": {},
     "output_type": "display_data"
    },
    {
     "name": "stdout",
     "output_type": "stream",
     "text": [
      "\u001b[1;30mJustEat\u001b[0m - Number of reviews: 2340\n"
     ]
    },
    {
     "data": {
      "image/png": "[encoded data removed]",
      "text/plain": [
       "<Figure size 936x432 with 2 Axes>"
      ]
     },
     "metadata": {},
     "output_type": "display_data"
    },
    {
     "name": "stdout",
     "output_type": "stream",
     "text": [
      "\u001b[1;30mUberEats\u001b[0m - Number of reviews: 8740\n"
     ]
    },
    {
     "data": {
      "image/png": "[encoded data removed]",
      "text/plain": [
       "<Figure size 936x432 with 2 Axes>"
      ]
     },
     "metadata": {},
     "output_type": "display_data"
    },
    {
     "name": "stdout",
     "output_type": "stream",
     "text": [
      "\u001b[1;30mStuart\u001b[0m - Number of reviews: 200\n"
     ]
    },
    {
     "data": {
      "image/png": "[encoded data removed]",
      "text/plain": [
       "<Figure size 936x432 with 2 Axes>"
      ]
     },
     "metadata": {},
     "output_type": "display_data"
    }
   ],
   "source": [
    "for company in reviews_df.Company.unique():\n",
    "    reviews_num = reviews_df[reviews_df['Company'] == company].shape[0]\n",
    "    print('\\x1b[1;30m' + company + '\\x1b[0m' + ' - Number of reviews: '+ str(reviews_num))\n",
    "    summary_per_company(input_df=reviews_df, company=company, figsize=(13, 6))"
   ]
  },
  {
   "cell_type": "markdown",
   "metadata": {},
   "source": [
    "#### LDA Implementiation with gensim"
   ]
  },
  {
   "cell_type": "code",
   "execution_count": 184,
   "metadata": {},
   "outputs": [],
   "source": [
    "rev = list(reviews_df['ngrams'])"
   ]
  },
  {
   "cell_type": "code",
   "execution_count": 185,
   "metadata": {},
   "outputs": [],
   "source": [
    "from gensim import corpora, models"
   ]
  },
  {
   "cell_type": "code",
   "execution_count": 186,
   "metadata": {},
   "outputs": [],
   "source": [
    "dictionary_LDA = corpora.Dictionary(rev)\n",
    "dictionary_LDA.filter_extremes(no_below=3)\n",
    "corpus = [dictionary_LDA.doc2bow(list_of_tokens) for list_of_tokens in rev]"
   ]
  },
  {
   "cell_type": "code",
   "execution_count": 187,
   "metadata": {},
   "outputs": [],
   "source": [
    "lda_model = models.LdaModel(corpus,\n",
    "                            num_topics=number_of_topics,\n",
    "                            id2word=dictionary_LDA,\n",
    "                            passes=10,\n",
    "                            alpha=2 * (1/number_of_topics),\n",
    "                            eta=1/number_of_topics\n",
    "                           )"
   ]
  },
  {
   "cell_type": "code",
   "execution_count": 188,
   "metadata": {},
   "outputs": [
    {
     "name": "stdout",
     "output_type": "stream",
     "text": [
      "0: 0.010*\"waste time\" + 0.010*\"bad experience\" + 0.007*\"bad company\" + 0.006*\"promo code\" + 0.006*\"phone number\" + 0.005*\"zero star\" + 0.005*\"company ever\" + 0.005*\"star would\" + 0.005*\"never ever\" + 0.004*\"way contact\" + 0.004*\"take money\" + 0.004*\"discount code\" + 0.004*\"money back\" + 0.004*\"full price\" + 0.003*\"ordered eats\"\n",
      "\n",
      "1: 0.015*\"hour late\" + 0.012*\"stone cold\" + 0.009*\"waited hour\" + 0.009*\"minute late\" + 0.007*\"30 minute\" + 0.007*\"10 minute\" + 0.007*\"hour half\" + 0.006*\"waiting hour\" + 0.006*\"half hour\" + 0.006*\"still waiting\" + 0.006*\"20 minute\" + 0.005*\"ordered kfc\" + 0.005*\"45 minute\" + 0.005*\"absolute joke\" + 0.005*\"15 minute\"\n",
      "\n",
      "2: 0.014*\"money back\" + 0.012*\"never arrived\" + 0.009*\"live chat\" + 0.007*\"bad ever\" + 0.007*\"said would\" + 0.007*\"called restaurant\" + 0.006*\"never received\" + 0.006*\"48 hour\" + 0.006*\"told would\" + 0.006*\"said delivered\" + 0.006*\"phone call\" + 0.006*\"restaurant said\" + 0.005*\"took money\" + 0.004*\"email saying\" + 0.004*\"app said\"\n",
      "\n",
      "3: 0.019*\"missing item\" + 0.016*\"first time\" + 0.011*\"item missing\" + 0.007*\"second time\" + 0.007*\"never using\" + 0.006*\"every time\" + 0.006*\"delivered wrong\" + 0.006*\"last time\" + 0.006*\"late cold\" + 0.005*\"wrong address\" + 0.005*\"go wrong\" + 0.005*\"time ordered\" + 0.004*\"using eats\" + 0.004*\"would recommend\" + 0.004*\"arrived cold\"\n",
      "\n"
     ]
    }
   ],
   "source": [
    "for i,topic in lda_model.show_topics(formatted=True, num_topics=number_of_topics, num_words=15):\n",
    "    print(str(i)+\": \"+ topic)\n",
    "    print()"
   ]
  },
  {
   "cell_type": "code",
   "execution_count": 189,
   "metadata": {},
   "outputs": [
    {
     "data": {
      "text/plain": [
       "[(0, 0.068151265), (1, 0.48496068), (2, 0.18607576), (3, 0.26081228)]"
      ]
     },
     "execution_count": 189,
     "metadata": {},
     "output_type": "execute_result"
    }
   ],
   "source": [
    "lda_model[corpus[6]]"
   ]
  },
  {
   "cell_type": "code",
   "execution_count": 190,
   "metadata": {},
   "outputs": [
    {
     "data": {
      "text/html": [
       "\n",
       "<link rel=\"stylesheet\" type=\"text/css\" href=\"https://cdn.jsdelivr.net/gh/bmabey/pyLDAvis@3.2.2/pyLDAvis/js/ldavis.v1.0.0.css\">\n",
       "\n",
       "\n",
       "<div id=\"ldavis_el1895222428160054882873767101\"></div>\n",
       "<script type=\"text/javascript\">\n",
       "\n",
       "var ldavis_el1895222428160054882873767101_data = {\"mdsDat\": {\"x\": [0.2060778304093848, 0.1762699600366709, -0.1272923839739587, -0.25505540647209696], \"y\": [0.11871119700225194, -0.2029802480073255, 0.2567945771520441, -0.1725255261469705], \"topics\": [1, 2, 3, 4], \"cluster\": [1, 1, 1, 1], \"Freq\": [27.80954019832176, 24.678234469725304, 24.354678930083594, 23.157546401869343]}, \"tinfo\": {\"Term\": [\"missing item\", \"hour late\", \"first time\", \"never arrived\", \"stone cold\", \"money back\", \"item missing\", \"waste time\", \"bad experience\", \"waited hour\", \"minute late\", \"second time\", \"bad company\", \"30 minute\", \"hour half\", \"live chat\", \"promo code\", \"told would\", \"still waiting\", \"10 minute\", \"delivered wrong\", \"half hour\", \"called restaurant\", \"said delivered\", \"phone call\", \"restaurant said\", \"waiting hour\", \"late cold\", \"bad ever\", \"never using\", \"phone call\", \"email saying\", \"app said\", \"restaurant said\", \"min late\", \"restaurant told\", \"speak english\", \"never ordering\", \"never came\", \"went wrong\", \"took money\", \"told would\", \"ever experienced\", \"app deleted\", \"ordered never\", \"got email\", \"week ago\", \"told wait\", \"working day\", \"stole money\", \"missed call\", \"would receive\", \"told nothing\", \"people money\", \"wait another\", \"ordered two\", \"got money\", \"never app\", \"two week\", \"restaurant cancelled\", \"never arrived\", \"said delivered\", \"called said\", \"outside house\", \"front door\", \"app say\", \"received email\", \"live chat\", \"called restaurant\", \"contacted restaurant\", \"money back\", \"never received\", \"48 hour\", \"say delivered\", \"marked delivered\", \"said would\", \"bad ever\", \"money account\", \"20 min\", \"call restaurant\", \"call back\", \"wrong address\", \"two hour\", \"tried call\", \"tried contact\", \"waited hour\", \"hour half\", \"30 minute\", \"absolute joke\", \"first last\", \"minute away\", \"mile away\", \"restaurant closed\", \"joke company\", \"wait hour\", \"still waiting\", \"one hour\", \"25 minute\", \"never company\", \"time kept\", \"avoid like\", \"like plague\", \"arrived stone\", \"copy paste\", \"would delivered\", \"restaurant ordered\", \"time ever\", \"saying sorry\", \"time issue\", \"minute drive\", \"take hour\", \"year old\", \"35 minute\", \"waited outside\", \"min away\", \"half hour\", \"minute late\", \"stone cold\", \"45 minute\", \"take away\", \"15 minute\", \"hour ago\", \"ordered kfc\", \"10 minute\", \"hour late\", \"got message\", \"waiting hour\", \"straight away\", \"almost hour\", \"20 minute\", \"40 minute\", \"last night\", \"estimated time\", \"message saying\", \"late still\", \"took hour\", \"ordered meal\", \"last time\", \"never delivered\", \"bad experience\", \"waste time\", \"promo code\", \"zero star\", \"discount code\", \"full price\", \"charged full\", \"ordered eats\", \"experience ever\", \"time money\", \"bad company\", \"automated response\", \"got charged\", \"used eats\", \"charged twice\", \"automated message\", \"bad app\", \"contact number\", \"really bad\", \"door dash\", \"avoid avoid\", \"code work\", \"different address\", \"company like\", \"deleted account\", \"via email\", \"gift card\", \"taken account\", \"eats bad\", \"contact support\", \"resolve issue\", \"company ever\", \"way contact\", \"contacted eats\", \"full amount\", \"support team\", \"eats app\", \"star would\", \"phone number\", \"never ever\", \"take money\", \"deleted app\", \"credit card\", \"back forth\", \"never got\", \"money back\", \"several time\", \"bad ever\", \"missing item\", \"item missing\", \"second time\", \"delivered wrong\", \"late cold\", \"go wrong\", \"deleting app\", \"long time\", \"cold inedible\", \"wrong item\", \"read review\", \"time happened\", \"waste money\", \"cold soggy\", \"speak anyone\", \"delivered cold\", \"one item\", \"thing go\", \"recommend anyone\", \"ordered mcdonalds\", \"time eats\", \"never recommend\", \"item delivered\", \"wrong house\", \"correct address\", \"absolutely ridiculous\", \"sent wrong\", \"something go\", \"via eats\", \"arrived late\", \"time ordered\", \"got wrong\", \"time used\", \"would recommend\", \"first time\", \"never using\", \"every time\", \"third time\", \"using eat\", \"arrived cold\", \"using eats\", \"last time\", \"wrong address\", \"many time\", \"someone else\", \"non existent\", \"time using\", \"much good\", \"never eats\", \"30 min\"], \"Freq\": [651.0, 603.0, 660.0, 516.0, 455.0, 717.0, 376.0, 370.0, 370.0, 341.0, 332.0, 263.0, 260.0, 256.0, 249.0, 402.0, 236.0, 269.0, 236.0, 264.0, 221.0, 240.0, 329.0, 252.0, 241.0, 238.0, 257.0, 202.0, 411.0, 302.0, 240.48937805144712, 179.1212913309123, 164.8854392020903, 237.160496913374, 141.098548777403, 127.76681844412755, 119.03695148228573, 117.61878388257428, 140.52785626874922, 106.88726277474902, 195.0135448633709, 267.07156471657663, 79.39463082421568, 79.398302369877, 87.71716700064671, 85.45131842881246, 91.9547875524412, 72.54738934113692, 72.72456470346347, 72.73145191528477, 69.1175431483427, 69.8518032613046, 70.05658139214766, 67.88268812747044, 66.61517644812596, 67.95789353940089, 66.8760865807951, 68.14037769204947, 61.221269011453295, 59.325682829447885, 508.6753671696608, 249.39547920503207, 90.9695780288179, 84.76592075530583, 116.84182795825049, 99.12441917577819, 148.9397546313028, 359.7704554576645, 294.12737587008576, 105.82407334674627, 583.0930977526752, 273.6061709003398, 267.2807987019005, 108.99441626081635, 156.74190190599117, 298.6327006296983, 300.74276586225807, 104.53151280447881, 127.63728003872579, 126.99035271281596, 113.61461285090594, 148.13814199846578, 119.99386706524533, 116.15655773492703, 114.48710739330589, 340.70299680013034, 249.15922291862483, 256.04778376702205, 193.79048544791056, 130.35743937270178, 123.81992201834447, 116.69177289776974, 104.7331521996914, 106.36268130908798, 107.45684081519504, 234.35955980848516, 94.90387346683595, 83.4617869528502, 87.45694901379242, 83.31822016874497, 81.12268888747114, 74.09267534589938, 77.04979266000485, 73.63878959304796, 68.49706380081034, 67.9336629177737, 64.45491324144658, 62.85575135177605, 62.70438940111171, 56.73000323094805, 56.698348416745716, 57.402027497995476, 53.87976930831784, 55.46937428898706, 54.22621052210129, 236.1607304815475, 325.47064974618445, 442.8994747820351, 194.45594559311775, 120.81261461955211, 187.03656522191142, 107.71110592440965, 202.86484231934537, 251.20950832299667, 552.5363348450499, 97.7593839168301, 240.65730619144867, 174.7932643450977, 92.61058070495429, 230.42094750494712, 154.97356617067288, 145.06189879126086, 105.45079472103866, 122.33593458458094, 112.72549471291704, 135.63202664496987, 124.58150805117613, 146.3110829323195, 118.83640939737978, 369.2687125237045, 370.1891551056971, 235.42681014932023, 184.57829034956902, 144.04979640750997, 129.54281458435358, 124.00709994192557, 127.70224709858488, 117.89223215291972, 118.87334268838761, 258.22549393248437, 104.44127282306754, 95.43354992050841, 94.67460807512337, 92.04036878758592, 82.27489747942847, 80.97221931566901, 89.71090311234832, 86.9126302483681, 78.453056815625, 78.80538771554151, 73.53673742251169, 73.3132808477669, 70.94493393458525, 70.29131529685387, 69.10448235843614, 64.63293822627358, 65.0161826510256, 65.37017062920715, 64.33878536948589, 82.00749828001821, 181.62505061716612, 163.5337569913572, 122.98480285496875, 123.61547997392206, 107.61424285059334, 107.0662565128345, 174.54120416620788, 213.9797527329671, 166.3110545071432, 156.4144336109113, 116.06381371246202, 108.51862121790269, 88.92577427883711, 102.72757056239794, 132.57642690555943, 100.1026984893017, 109.78347850208979, 650.8410647123466, 375.65087070677856, 262.50039561456134, 220.42177502968534, 201.4198880190126, 191.2706519465598, 113.8242797393266, 112.84129317429968, 86.74531718608472, 85.0167329398819, 84.71633534134752, 84.74764376591484, 109.28377444596666, 83.02369659537155, 81.54205295576915, 75.81332151625513, 73.5288270060399, 72.5475303611917, 72.98473801941302, 75.46341007287045, 64.17193082724283, 64.97271623985944, 62.62364555276609, 62.129392883680595, 62.57226626462673, 62.53708000390047, 61.66974275893111, 59.01720894177143, 61.01184540393894, 57.79789479542116, 181.4738009687678, 67.48728481035013, 116.62112212672471, 140.76357487992237, 546.8590188796697, 249.97705844309252, 227.28139778726052, 79.78172760012234, 78.70653017316894, 137.25967642083532, 151.99857242141204, 213.48570583465292, 192.01498422856804, 122.8056013632325, 134.79949552295676, 95.8880547605891, 99.15027014252071, 90.40630474700347, 92.96791351106833, 90.76718026188591], \"Total\": [651.0, 603.0, 660.0, 516.0, 455.0, 717.0, 376.0, 370.0, 370.0, 341.0, 332.0, 263.0, 260.0, 256.0, 249.0, 402.0, 236.0, 269.0, 236.0, 264.0, 221.0, 240.0, 329.0, 252.0, 241.0, 238.0, 257.0, 202.0, 411.0, 302.0, 241.50628651599425, 179.88230674119157, 165.64954761648295, 238.31286469788202, 141.8807340428872, 128.5243634117501, 119.80070038773671, 118.38285614083283, 141.447964459723, 107.6489600710166, 196.8005918932407, 269.65266613410193, 80.17527181695583, 80.18432537563925, 88.58936234524747, 86.30606837133277, 92.89013363500757, 73.29620535594067, 73.4752657454357, 73.4840918393809, 69.86393837149205, 70.60680636040026, 70.82617757904052, 68.6416423598948, 67.37416986554503, 68.73694715806435, 67.64851409639535, 68.94990813723408, 61.99017672092674, 60.090045808765844, 516.1397793776927, 252.9013558059511, 92.14277264140634, 85.90088823607952, 118.93731610469423, 100.7678329053569, 153.50088666822032, 402.1038310854738, 329.61007275807015, 109.86083346330254, 717.473709193028, 313.1519806389723, 315.1725547878204, 115.30435388923371, 177.81527026454202, 397.85459135962, 411.04174604747635, 111.3517154965608, 145.42432883275777, 147.7052171779963, 137.10948956910883, 341.6318830236517, 199.1267393183571, 180.71904748536053, 190.25091528762806, 341.6742024635753, 249.9143740171339, 256.8442431885535, 194.59762332999406, 131.11284763244828, 124.56948065695913, 117.45315243833856, 105.48835258330917, 107.12987934098923, 108.27531923699502, 236.16792655201516, 95.67059911257054, 84.21407721552622, 88.24858640165682, 84.0813344687493, 81.88439689437405, 74.85207305647006, 77.88429538328013, 74.44095144521637, 69.26255624238622, 68.7140431258483, 65.23129317986444, 63.625032165978645, 63.489604977711636, 57.48057403840841, 57.46185044328978, 58.17793220149351, 54.62568003644351, 56.24942043224468, 54.99163647703348, 240.28175556957527, 332.61217336418434, 455.3992175294697, 198.79527400146512, 122.96630518849052, 191.42377526981733, 110.11315395743142, 210.95440263567454, 264.15581149204354, 603.938024153805, 100.21433146646551, 257.9161723311962, 187.79481061353007, 95.68092663659085, 280.90055888376247, 190.66174410101036, 195.04686554665756, 120.49595090148658, 157.05586561166288, 141.02140741127832, 217.54544954136765, 195.47413971484843, 360.3266469978319, 182.16888368345545, 370.05066578266343, 370.9773282273183, 236.1819661344519, 185.36343896889954, 144.8093957076227, 130.2996348292829, 124.7695845505052, 128.49309879859308, 118.65740650108827, 119.64844842848684, 260.15837573098844, 105.24206818571827, 96.20858051503491, 95.47144776628497, 92.823444536693, 83.05308057059558, 81.73858863697531, 90.56001165247109, 87.74747188297736, 79.22694743678201, 79.58884756697837, 74.29233881078024, 74.08457878733303, 71.7201755852372, 71.07563010798395, 69.87644717723583, 65.39718588075094, 65.79333636382806, 66.15894369969442, 65.12419685494434, 83.05036145734951, 187.09766773635457, 168.22459263378326, 127.03363331750421, 127.94235621733215, 111.01129668123909, 113.01406824856963, 215.58435717285528, 284.6150352019841, 292.30540945877414, 265.1175624778198, 179.64514559866709, 161.51671841086232, 110.05104370957088, 197.4624209760432, 717.473709193028, 189.9819137456966, 411.04174604747635, 651.6005523592526, 376.41111887380924, 263.2669824943977, 221.19392205883045, 202.18490114192784, 192.0297676986226, 114.61672566909914, 113.66077289417028, 87.52380751146535, 85.79315771919758, 85.49526514629049, 85.55739990635595, 110.33094339223874, 83.8271401017451, 82.33723417644612, 76.58563868283925, 74.29190207514604, 73.30469582176048, 73.75134518647175, 76.25641169258728, 64.94343016148486, 65.7592553751715, 63.382365634728636, 62.896509054377084, 63.35229947494528, 63.31766403360985, 62.44521970660453, 59.77067661823514, 61.81518168613614, 58.56504059620456, 184.11074272688074, 68.4767312895715, 122.20783573512776, 150.25431550257363, 660.979464778648, 302.64049383966307, 276.4624310307899, 84.14536674709565, 84.66970110668068, 186.04161563136736, 215.84137764168113, 360.3266469978319, 341.6318830236517, 209.18463493598605, 262.7839632362272, 128.72476731638034, 162.6376366547893, 144.81712567804135, 174.0033936271896, 177.7989457738638], \"Category\": [\"Default\", \"Default\", \"Default\", \"Default\", \"Default\", \"Default\", \"Default\", \"Default\", \"Default\", \"Default\", \"Default\", \"Default\", \"Default\", \"Default\", \"Default\", \"Default\", \"Default\", \"Default\", \"Default\", \"Default\", \"Default\", \"Default\", \"Default\", \"Default\", \"Default\", \"Default\", \"Default\", \"Default\", \"Default\", \"Default\", \"Topic1\", \"Topic1\", \"Topic1\", \"Topic1\", \"Topic1\", \"Topic1\", \"Topic1\", \"Topic1\", \"Topic1\", \"Topic1\", \"Topic1\", \"Topic1\", \"Topic1\", \"Topic1\", \"Topic1\", \"Topic1\", \"Topic1\", \"Topic1\", \"Topic1\", \"Topic1\", \"Topic1\", \"Topic1\", \"Topic1\", \"Topic1\", \"Topic1\", \"Topic1\", \"Topic1\", \"Topic1\", \"Topic1\", \"Topic1\", \"Topic1\", \"Topic1\", \"Topic1\", \"Topic1\", \"Topic1\", \"Topic1\", \"Topic1\", \"Topic1\", \"Topic1\", \"Topic1\", \"Topic1\", \"Topic1\", \"Topic1\", \"Topic1\", \"Topic1\", \"Topic1\", \"Topic1\", \"Topic1\", \"Topic1\", \"Topic1\", \"Topic1\", \"Topic1\", \"Topic1\", \"Topic1\", \"Topic1\", \"Topic2\", \"Topic2\", \"Topic2\", \"Topic2\", \"Topic2\", \"Topic2\", \"Topic2\", \"Topic2\", \"Topic2\", \"Topic2\", \"Topic2\", \"Topic2\", \"Topic2\", \"Topic2\", \"Topic2\", \"Topic2\", \"Topic2\", \"Topic2\", \"Topic2\", \"Topic2\", \"Topic2\", \"Topic2\", \"Topic2\", \"Topic2\", \"Topic2\", \"Topic2\", \"Topic2\", \"Topic2\", \"Topic2\", \"Topic2\", \"Topic2\", \"Topic2\", \"Topic2\", \"Topic2\", \"Topic2\", \"Topic2\", \"Topic2\", \"Topic2\", \"Topic2\", \"Topic2\", \"Topic2\", \"Topic2\", \"Topic2\", \"Topic2\", \"Topic2\", \"Topic2\", \"Topic2\", \"Topic2\", \"Topic2\", \"Topic2\", \"Topic2\", \"Topic2\", \"Topic2\", \"Topic2\", \"Topic3\", \"Topic3\", \"Topic3\", \"Topic3\", \"Topic3\", \"Topic3\", \"Topic3\", \"Topic3\", \"Topic3\", \"Topic3\", \"Topic3\", \"Topic3\", \"Topic3\", \"Topic3\", \"Topic3\", \"Topic3\", \"Topic3\", \"Topic3\", \"Topic3\", \"Topic3\", \"Topic3\", \"Topic3\", \"Topic3\", \"Topic3\", \"Topic3\", \"Topic3\", \"Topic3\", \"Topic3\", \"Topic3\", \"Topic3\", \"Topic3\", \"Topic3\", \"Topic3\", \"Topic3\", \"Topic3\", \"Topic3\", \"Topic3\", \"Topic3\", \"Topic3\", \"Topic3\", \"Topic3\", \"Topic3\", \"Topic3\", \"Topic3\", \"Topic3\", \"Topic3\", \"Topic3\", \"Topic3\", \"Topic4\", \"Topic4\", \"Topic4\", \"Topic4\", \"Topic4\", \"Topic4\", \"Topic4\", \"Topic4\", \"Topic4\", \"Topic4\", \"Topic4\", \"Topic4\", \"Topic4\", \"Topic4\", \"Topic4\", \"Topic4\", \"Topic4\", \"Topic4\", \"Topic4\", \"Topic4\", \"Topic4\", \"Topic4\", \"Topic4\", \"Topic4\", \"Topic4\", \"Topic4\", \"Topic4\", \"Topic4\", \"Topic4\", \"Topic4\", \"Topic4\", \"Topic4\", \"Topic4\", \"Topic4\", \"Topic4\", \"Topic4\", \"Topic4\", \"Topic4\", \"Topic4\", \"Topic4\", \"Topic4\", \"Topic4\", \"Topic4\", \"Topic4\", \"Topic4\", \"Topic4\", \"Topic4\", \"Topic4\", \"Topic4\", \"Topic4\"], \"logprob\": [30.0, 29.0, 28.0, 27.0, 26.0, 25.0, 24.0, 23.0, 22.0, 21.0, 20.0, 19.0, 18.0, 17.0, 16.0, 15.0, 14.0, 13.0, 12.0, 11.0, 10.0, 9.0, 8.0, 7.0, 6.0, 5.0, 4.0, 3.0, 2.0, 1.0, -5.1653, -5.4599, -5.5427, -5.1792, -5.6985, -5.7978, -5.8685, -5.8805, -5.7026, -5.9762, -5.3749, -5.0605, -6.2735, -6.2735, -6.1739, -6.2, -6.1267, -6.3637, -6.3613, -6.3612, -6.4122, -6.4016, -6.3987, -6.4302, -6.449, -6.4291, -6.4451, -6.4264, -6.5335, -6.5649, -4.4162, -5.1289, -6.1375, -6.2081, -5.8872, -6.0516, -5.6444, -4.7625, -4.964, -5.9862, -4.2796, -5.0363, -5.0597, -5.9567, -5.5934, -4.9488, -4.9417, -5.9985, -5.7988, -5.8039, -5.9152, -5.6498, -5.8605, -5.893, -5.9075, -4.6975, -5.0104, -4.9832, -5.2617, -5.6582, -5.7097, -5.769, -5.8771, -5.8617, -5.8514, -5.0717, -5.9757, -6.1041, -6.0574, -6.1059, -6.1326, -6.2232, -6.1841, -6.2293, -6.3017, -6.31, -6.3626, -6.3877, -6.3901, -6.4902, -6.4908, -6.4784, -6.5418, -6.5127, -6.5354, -5.064, -4.7432, -4.4352, -5.2583, -5.7343, -5.2972, -5.8491, -5.216, -5.0022, -4.214, -5.946, -5.0451, -5.3649, -6.0001, -5.0886, -5.4853, -5.5514, -5.8703, -5.7217, -5.8036, -5.6186, -5.7036, -5.5428, -5.7508, -4.6038, -4.6013, -5.0539, -5.2972, -5.5452, -5.6513, -5.695, -5.6656, -5.7455, -5.7373, -4.9615, -5.8667, -5.9569, -5.9649, -5.9931, -6.1053, -6.1212, -6.0187, -6.0504, -6.1528, -6.1483, -6.2175, -6.2206, -6.2534, -6.2627, -6.2797, -6.3466, -6.3407, -6.3353, -6.3512, -6.1085, -5.3134, -5.4183, -5.7033, -5.6981, -5.8368, -5.8419, -5.3532, -5.1494, -5.4015, -5.4628, -5.7612, -5.8284, -6.0275, -5.8832, -5.6282, -5.9091, -5.8168, -3.9867, -4.5363, -4.8947, -5.0694, -5.1595, -5.2112, -5.7303, -5.7389, -6.0019, -6.0221, -6.0256, -6.0252, -5.771, -6.0458, -6.0638, -6.1366, -6.1672, -6.1807, -6.1747, -6.1413, -6.3034, -6.2909, -6.3278, -6.3357, -6.3286, -6.3292, -6.3431, -6.3871, -6.3538, -6.408, -5.2638, -6.253, -5.706, -5.5178, -4.1607, -4.9435, -5.0387, -6.0856, -6.0992, -5.543, -5.441, -5.1013, -5.2073, -5.6543, -5.5611, -5.9017, -5.8683, -5.9606, -5.9327, -5.9566], \"loglift\": [30.0, 29.0, 28.0, 27.0, 26.0, 25.0, 24.0, 23.0, 22.0, 21.0, 20.0, 19.0, 18.0, 17.0, 16.0, 15.0, 14.0, 13.0, 12.0, 11.0, 10.0, 9.0, 8.0, 7.0, 6.0, 5.0, 4.0, 3.0, 2.0, 1.0, 1.2756, 1.2756, 1.2752, 1.2749, 1.2743, 1.2739, 1.2734, 1.2733, 1.2733, 1.2727, 1.2707, 1.2702, 1.27, 1.2699, 1.2699, 1.2698, 1.2697, 1.2695, 1.2695, 1.2695, 1.269, 1.269, 1.2689, 1.2687, 1.2685, 1.2684, 1.2683, 1.268, 1.2673, 1.267, 1.2652, 1.2658, 1.267, 1.2665, 1.262, 1.2633, 1.2496, 1.1685, 1.1659, 1.2424, 1.0724, 1.1448, 1.115, 1.2235, 1.1536, 0.9929, 0.9674, 1.2166, 1.1493, 1.1287, 1.0918, 0.4442, 0.7733, 0.8378, 0.7719, 1.3964, 1.3962, 1.3961, 1.3951, 1.3935, 1.3932, 1.3927, 1.3921, 1.3921, 1.3917, 1.3916, 1.3912, 1.3903, 1.3902, 1.3901, 1.3899, 1.3891, 1.3885, 1.3884, 1.3881, 1.3878, 1.3873, 1.3871, 1.3868, 1.3861, 1.3859, 1.3858, 1.3855, 1.3853, 1.3852, 1.3819, 1.3775, 1.3714, 1.3772, 1.3816, 1.3761, 1.3772, 1.3601, 1.349, 1.3103, 1.3744, 1.33, 1.3275, 1.3666, 1.2012, 1.192, 1.1032, 1.2659, 1.1494, 1.1753, 0.9268, 0.9488, 0.498, 0.9721, 1.4103, 1.4103, 1.4092, 1.4082, 1.4072, 1.4066, 1.4063, 1.4063, 1.406, 1.4059, 1.405, 1.4048, 1.4044, 1.4041, 1.404, 1.403, 1.403, 1.403, 1.4029, 1.4026, 1.4026, 1.4022, 1.402, 1.4016, 1.4013, 1.4013, 1.4007, 1.4006, 1.4005, 1.4003, 1.3998, 1.3828, 1.3842, 1.3801, 1.378, 1.3814, 1.3584, 1.2013, 1.1272, 0.8485, 0.8848, 0.9756, 1.0148, 1.1993, 0.759, -0.2761, 0.7717, 0.0923, 1.4617, 1.4608, 1.4599, 1.4594, 1.4591, 1.4589, 1.4559, 1.4556, 1.4539, 1.4538, 1.4537, 1.4533, 1.4533, 1.4532, 1.4531, 1.4527, 1.4525, 1.4525, 1.4524, 1.4524, 1.4509, 1.4508, 1.4508, 1.4506, 1.4505, 1.4504, 1.4504, 1.4502, 1.4498, 1.4497, 1.4484, 1.4483, 1.4161, 1.3976, 1.2733, 1.2717, 1.267, 1.4096, 1.3898, 1.1588, 1.1122, 0.9394, 0.8867, 0.9302, 0.7953, 1.1684, 0.968, 0.9917, 0.836, 0.7905]}, \"token.table\": {\"Topic\": [1, 2, 1, 2, 1, 2, 4, 1, 2, 4, 2, 1, 2, 4, 2, 2, 1, 2, 1, 2, 1, 2, 2, 4, 1, 2, 1, 1, 1, 4, 2, 3, 4, 4, 2, 3, 3, 3, 2, 3, 4, 3, 2, 3, 1, 3, 3, 1, 2, 1, 2, 3, 4, 1, 2, 1, 2, 3, 3, 3, 4, 4, 2, 3, 3, 3, 3, 1, 2, 3, 1, 2, 2, 4, 1, 3, 4, 3, 3, 4, 4, 4, 4, 3, 3, 3, 1, 3, 3, 1, 2, 4, 1, 2, 3, 4, 3, 2, 2, 3, 4, 1, 2, 4, 1, 3, 3, 3, 4, 3, 1, 2, 3, 1, 4, 1, 2, 1, 2, 2, 1, 2, 4, 4, 4, 2, 2, 3, 4, 2, 4, 4, 1, 2, 2, 1, 2, 4, 4, 1, 2, 3, 4, 1, 2, 3, 2, 3, 2, 2, 1, 2, 2, 1, 2, 1, 4, 1, 2, 3, 1, 2, 3, 4, 3, 4, 1, 1, 3, 4, 1, 2, 1, 2, 3, 1, 2, 3, 4, 1, 2, 3, 4, 1, 3, 1, 1, 2, 3, 4, 2, 3, 4, 3, 4, 2, 4, 3, 2, 4, 4, 1, 2, 3, 4, 1, 1, 1, 2, 1, 1, 2, 1, 3, 4, 3, 4, 3, 1, 2, 3, 4, 4, 3, 4, 1, 2, 2, 1, 2, 1, 1, 2, 1, 2, 1, 2, 2, 4, 4, 2, 3, 4, 1, 2, 3, 4, 4, 4, 1, 1, 3, 1, 2, 1, 2, 4, 1, 2, 3, 4, 2, 3, 2, 1, 2, 3, 3, 4, 2, 4, 4, 2, 4, 2, 2, 3, 2, 4, 2, 4, 2, 4, 1, 1, 1, 2, 2, 4, 1, 2, 1, 2, 3, 1, 3, 1, 2, 1, 3, 1, 4, 3, 4, 4, 3, 1, 2, 2, 2, 1, 2, 3, 3, 4, 3, 1, 3, 1, 1, 1, 2, 1, 3, 4, 1, 2, 4, 4, 4, 2, 3], \"Freq\": [0.045427734230868676, 0.9501967743290032, 0.020896045929309902, 0.9768901471952379, 0.88018284854664, 0.01375285700854125, 0.11002285606833, 0.17799893385292323, 0.8187950957234468, 0.0035599786770584645, 0.9855834409677248, 0.4274491036446398, 0.056243303111136816, 0.511814058311345, 0.9967130149460515, 0.9885460458153364, 0.18357117294310185, 0.8129580516051653, 0.020121202679951638, 0.9758783299776544, 0.8471549820692637, 0.14912465976500147, 0.9969289279089466, 0.9949830108476329, 0.02090280759504213, 0.971980553169459, 0.9852299639600254, 0.9960787842416159, 0.9824563766592334, 0.0099238017844367, 0.2526316482497565, 0.005375141452122478, 0.7363943789407795, 0.9903519131814419, 0.988646037318199, 0.9873203912081208, 0.9881979876761219, 0.992601380909771, 0.9891994454631586, 0.8087156377623693, 0.19082054374168267, 0.9909640152920233, 0.0038438124361370937, 0.9917036085233701, 0.7322857176780135, 0.2676127207461179, 0.997160751540762, 0.8314522966883288, 0.16774914757746984, 0.8598206781481191, 0.020310724680664232, 0.04739169092154987, 0.07447265716243552, 0.8919630323791484, 0.10618607528323196, 0.9875978049211338, 0.01085272313100147, 0.9938319538910247, 0.9911289163981897, 0.9960650207617664, 0.9940152568043075, 0.9901327887275987, 0.026724010301644504, 0.9727539749798599, 0.9899585356650265, 0.9938161265413683, 0.982737647307216, 0.007871931030269981, 0.015743862060539963, 0.9682475167232077, 0.964857052858677, 0.0364097001078746, 0.9940764936952629, 0.9944390420258603, 0.3219480962195112, 0.6748527401524369, 0.006191309542682908, 0.9848664006727795, 0.6457174203813314, 0.3506913576208955, 0.9946192349720437, 0.9923531527201265, 0.994602374026747, 0.9853602624853086, 0.9944106133192012, 0.9845135086422326, 0.04424227954525726, 0.9467847822685054, 0.982482433441576, 0.9950950887990279, 0.8713985757566614, 0.11618647676755485, 0.9853412181796024, 0.01808563999584864, 0.15915363196346805, 0.8210880558115282, 0.994459625231382, 0.9915122914913117, 0.157342255761044, 0.015129063053946538, 0.8275597490508756, 0.9837114526530184, 0.008407790193615542, 0.008407790193615542, 0.0312640795297322, 0.9691864654216984, 0.9977004169683555, 0.9939265600590951, 0.9946374579787091, 0.9874379134525736, 0.9848670157732896, 0.9779040439220363, 0.01995722538616401, 0.9904134761116667, 0.9784345534349944, 0.016647123251277277, 0.9821802718253594, 0.018163134267983813, 0.9808092504711259, 0.9963412507954776, 0.07285515771531303, 0.9156568685583661, 0.01159059327289071, 0.9939673183400537, 0.9989077929604224, 0.989453181988632, 0.7434110750439835, 0.0307618375880269, 0.22558680897886396, 0.4051879071848896, 0.5911303029478184, 0.9941395171685146, 0.19855141509359717, 0.8012967823420171, 0.9886165737076215, 0.8952911466378843, 0.06963375584961322, 0.03481687792480661, 0.9941864472909618, 0.009560931665043338, 0.04302419249269502, 0.3585349374391252, 0.5879972974001653, 0.8829387924131914, 0.11247627928830464, 0.005623813964415232, 0.7767936557152078, 0.21648347782227104, 0.996141845246968, 0.9819675037776403, 0.9937924338436184, 0.9954284094791455, 0.9916393660563081, 0.021045531584725094, 0.977113966433665, 0.9876339869805482, 0.9990783427713833, 0.9429580813529812, 0.008980553155742678, 0.04490276577871339, 0.8125733285136315, 0.0013937792941914778, 0.18537264612746654, 0.0013937792941914778, 0.3728840753272044, 0.621473458878674, 0.9862232138824111, 0.986166965494694, 0.011624757942962994, 0.0019374596571604989, 0.9968330087927807, 0.9858514855300461, 0.021957646767768384, 0.6532399913411094, 0.32936470151652575, 0.22988057397145867, 0.086205215239297, 0.14942237308144812, 0.5344723344836414, 0.2292123164058292, 0.14368533267231084, 0.567899171990562, 0.05815834893879249, 0.4760399448936382, 0.5216182374898376, 0.9967659494515205, 0.874974507397065, 0.003193337618237463, 0.12454016711126106, 0.9884540150152282, 0.1552997730201309, 0.016521252448950096, 0.8260626224475048, 0.24859240896004303, 0.745777226880129, 0.9929905413074556, 0.9960708762732877, 0.996162449164947, 0.9622932608360297, 0.03792288712654304, 0.983523855047727, 0.061389194588630625, 0.6394707769649023, 0.04092612972575375, 0.26601984321739935, 0.9933472560401708, 0.9892787330753909, 0.9895124689094759, 0.011641323163640893, 0.9906522871855162, 0.9937629511110284, 0.0041406789629626186, 0.24594624788645747, 0.75189281496717, 0.0035135178269493925, 0.994995527584951, 0.99420710438826, 0.9914815564831975, 0.9706784321191015, 0.006514620349792628, 0.013029240699585255, 0.006514620349792628, 0.9898124544769717, 0.9873527166057077, 0.012040886787874483, 0.981859794012558, 0.9953705544607544, 0.9896084833119112, 0.994491003666351, 0.004196164572431861, 0.9959201244197552, 0.9845736066004146, 0.01186233260964355, 0.7515308519582585, 0.24883462991260064, 0.9453242338507881, 0.05203619635875898, 0.9901763166995637, 0.9989858869051177, 0.9928702355649259, 0.11580049682754781, 0.5263658946706719, 0.3526651494293501, 0.3082379875943412, 0.04947029430526463, 0.12938384664453828, 0.513729979323902, 0.9871061085160943, 0.9959042323947458, 0.9933163964388753, 0.18554221894647044, 0.8117472078908082, 0.004234275223565354, 0.9908204023142927, 0.9934122906432727, 0.9727728615856321, 0.02635050640864015, 0.0638995292830282, 0.9318681353774946, 0.9728739617384543, 0.027024276714957066, 0.98400939846508, 0.016264618156447603, 0.9919624857235395, 0.19236748981601984, 0.21499895920613982, 0.5884182041431195, 0.9879419952281943, 0.9958434337889984, 0.04753678253043045, 0.9507356506086091, 0.9854730469404068, 0.9811241948481789, 0.9934850766039403, 0.9922884229964336, 0.9871394230885904, 0.9945803858135743, 0.010863027167115945, 0.983103958623993, 0.04091390678775261, 0.9573854188334111, 0.3873642122193541, 0.6087151906304135, 0.9883351381186918, 0.9959587900287301, 0.9901626556409321, 0.00741694873139275, 0.6251567214424255, 0.37233598850615046, 0.9908506784663662, 0.00508128553059675, 0.6418803198340053, 0.18813733512376016, 0.16600353099155307, 0.5992086809550996, 0.39421623747046025, 0.6026312709723431, 0.3967322533901259, 0.9840268769456101, 0.9950618977996534, 0.05905300165994664, 0.9330374262271569, 0.2918810132160409, 0.7042208572831462, 0.9868125974250922, 0.9874571874695804, 0.9944463899697504, 0.988221514875393, 0.9980267680184396, 0.9777878523433023, 0.054281202584001875, 0.9344121301960322, 0.011631686268000402, 0.009063640437160852, 0.9879368076505329, 0.9973655311175258, 0.023777736283230627, 0.9748871876124557, 0.9904173500438145, 0.9939715156506066, 0.9935316226404363, 0.9817714460614495, 0.9914058376000903, 0.059898445977385875, 0.9384089869790454, 0.43321483548347195, 0.002927127266780216, 0.5620084352218014, 0.9857462827769661, 0.9907550002787682, 0.9797529379797505, 0.9980393168635563], \"Term\": [\"10 minute\", \"10 minute\", \"15 minute\", \"15 minute\", \"20 min\", \"20 min\", \"20 min\", \"20 minute\", \"20 minute\", \"20 minute\", \"25 minute\", \"30 min\", \"30 min\", \"30 min\", \"30 minute\", \"35 minute\", \"40 minute\", \"40 minute\", \"45 minute\", \"45 minute\", \"48 hour\", \"48 hour\", \"absolute joke\", \"absolutely ridiculous\", \"almost hour\", \"almost hour\", \"app deleted\", \"app said\", \"app say\", \"app say\", \"arrived cold\", \"arrived cold\", \"arrived cold\", \"arrived late\", \"arrived stone\", \"automated message\", \"automated response\", \"avoid avoid\", \"avoid like\", \"back forth\", \"back forth\", \"bad app\", \"bad company\", \"bad company\", \"bad ever\", \"bad ever\", \"bad experience\", \"call back\", \"call back\", \"call restaurant\", \"call restaurant\", \"call restaurant\", \"call restaurant\", \"called restaurant\", \"called restaurant\", \"called said\", \"called said\", \"charged full\", \"charged twice\", \"code work\", \"cold inedible\", \"cold soggy\", \"company ever\", \"company ever\", \"company like\", \"contact number\", \"contact support\", \"contacted eats\", \"contacted eats\", \"contacted eats\", \"contacted restaurant\", \"contacted restaurant\", \"copy paste\", \"correct address\", \"credit card\", \"credit card\", \"credit card\", \"deleted account\", \"deleted app\", \"deleted app\", \"deleting app\", \"delivered cold\", \"delivered wrong\", \"different address\", \"discount code\", \"door dash\", \"eats app\", \"eats app\", \"eats bad\", \"email saying\", \"estimated time\", \"estimated time\", \"ever experienced\", \"every time\", \"every time\", \"every time\", \"experience ever\", \"first last\", \"first time\", \"first time\", \"first time\", \"front door\", \"front door\", \"front door\", \"full amount\", \"full amount\", \"full price\", \"gift card\", \"go wrong\", \"got charged\", \"got email\", \"got message\", \"got message\", \"got money\", \"got wrong\", \"half hour\", \"half hour\", \"hour ago\", \"hour ago\", \"hour half\", \"hour late\", \"hour late\", \"hour late\", \"item delivered\", \"item missing\", \"joke company\", \"last night\", \"last night\", \"last night\", \"last time\", \"last time\", \"late cold\", \"late still\", \"late still\", \"like plague\", \"live chat\", \"live chat\", \"live chat\", \"long time\", \"many time\", \"many time\", \"many time\", \"many time\", \"marked delivered\", \"marked delivered\", \"marked delivered\", \"message saying\", \"message saying\", \"mile away\", \"min away\", \"min late\", \"minute away\", \"minute drive\", \"minute late\", \"minute late\", \"missed call\", \"missing item\", \"money account\", \"money account\", \"money account\", \"money back\", \"money back\", \"money back\", \"money back\", \"much good\", \"much good\", \"never app\", \"never arrived\", \"never arrived\", \"never arrived\", \"never came\", \"never company\", \"never delivered\", \"never delivered\", \"never delivered\", \"never eats\", \"never eats\", \"never eats\", \"never eats\", \"never ever\", \"never ever\", \"never ever\", \"never ever\", \"never got\", \"never got\", \"never ordering\", \"never received\", \"never received\", \"never received\", \"never recommend\", \"never using\", \"never using\", \"never using\", \"non existent\", \"non existent\", \"one hour\", \"one item\", \"ordered eats\", \"ordered kfc\", \"ordered kfc\", \"ordered mcdonalds\", \"ordered meal\", \"ordered meal\", \"ordered meal\", \"ordered meal\", \"ordered never\", \"ordered two\", \"outside house\", \"outside house\", \"people money\", \"phone call\", \"phone call\", \"phone number\", \"phone number\", \"phone number\", \"promo code\", \"read review\", \"really bad\", \"received email\", \"received email\", \"received email\", \"received email\", \"recommend anyone\", \"resolve issue\", \"resolve issue\", \"restaurant cancelled\", \"restaurant closed\", \"restaurant ordered\", \"restaurant said\", \"restaurant said\", \"restaurant told\", \"said delivered\", \"said delivered\", \"said would\", \"said would\", \"say delivered\", \"say delivered\", \"saying sorry\", \"second time\", \"sent wrong\", \"several time\", \"several time\", \"several time\", \"someone else\", \"someone else\", \"someone else\", \"someone else\", \"something go\", \"speak anyone\", \"speak english\", \"star would\", \"star would\", \"still waiting\", \"still waiting\", \"stole money\", \"stone cold\", \"stone cold\", \"straight away\", \"straight away\", \"support team\", \"support team\", \"take away\", \"take away\", \"take hour\", \"take money\", \"take money\", \"take money\", \"taken account\", \"thing go\", \"third time\", \"third time\", \"time eats\", \"time ever\", \"time happened\", \"time issue\", \"time kept\", \"time money\", \"time ordered\", \"time ordered\", \"time used\", \"time used\", \"time using\", \"time using\", \"told nothing\", \"told wait\", \"told would\", \"told would\", \"took hour\", \"took hour\", \"took money\", \"took money\", \"tried call\", \"tried call\", \"tried call\", \"tried contact\", \"tried contact\", \"two hour\", \"two hour\", \"two week\", \"used eats\", \"using eat\", \"using eat\", \"using eats\", \"using eats\", \"via eats\", \"via email\", \"wait another\", \"wait hour\", \"waited hour\", \"waited outside\", \"waiting hour\", \"waiting hour\", \"waiting hour\", \"waste money\", \"waste money\", \"waste time\", \"way contact\", \"way contact\", \"week ago\", \"went wrong\", \"working day\", \"would delivered\", \"would receive\", \"would recommend\", \"would recommend\", \"wrong address\", \"wrong address\", \"wrong address\", \"wrong house\", \"wrong item\", \"year old\", \"zero star\"]}, \"R\": 30, \"lambda.step\": 0.01, \"plot.opts\": {\"xlab\": \"PC1\", \"ylab\": \"PC2\"}, \"topic.order\": [3, 2, 1, 4]};\n",
       "\n",
       "function LDAvis_load_lib(url, callback){\n",
       "  var s = document.createElement('script');\n",
       "  s.src = url;\n",
       "  s.async = true;\n",
       "  s.onreadystatechange = s.onload = callback;\n",
       "  s.onerror = function(){console.warn(\"failed to load library \" + url);};\n",
       "  document.getElementsByTagName(\"head\")[0].appendChild(s);\n",
       "}\n",
       "\n",
       "if(typeof(LDAvis) !== \"undefined\"){\n",
       "   // already loaded: just create the visualization\n",
       "   !function(LDAvis){\n",
       "       new LDAvis(\"#\" + \"ldavis_el1895222428160054882873767101\", ldavis_el1895222428160054882873767101_data);\n",
       "   }(LDAvis);\n",
       "}else if(typeof define === \"function\" && define.amd){\n",
       "   // require.js is available: use it to load d3/LDAvis\n",
       "   require.config({paths: {d3: \"https://d3js.org/d3.v5\"}});\n",
       "   require([\"d3\"], function(d3){\n",
       "      window.d3 = d3;\n",
       "      LDAvis_load_lib(\"https://cdn.jsdelivr.net/gh/bmabey/pyLDAvis@3.2.2/pyLDAvis/js/ldavis.v3.0.0.js\", function(){\n",
       "        new LDAvis(\"#\" + \"ldavis_el1895222428160054882873767101\", ldavis_el1895222428160054882873767101_data);\n",
       "      });\n",
       "    });\n",
       "}else{\n",
       "    // require.js not available: dynamically load d3 & LDAvis\n",
       "    LDAvis_load_lib(\"https://d3js.org/d3.v5.js\", function(){\n",
       "         LDAvis_load_lib(\"https://cdn.jsdelivr.net/gh/bmabey/pyLDAvis@3.2.2/pyLDAvis/js/ldavis.v3.0.0.js\", function(){\n",
       "                 new LDAvis(\"#\" + \"ldavis_el1895222428160054882873767101\", ldavis_el1895222428160054882873767101_data);\n",
       "            })\n",
       "         });\n",
       "}\n",
       "</script>"
      ],
      "text/plain": [
       "<IPython.core.display.HTML object>"
      ]
     },
     "execution_count": 190,
     "metadata": {},
     "output_type": "execute_result"
    }
   ],
   "source": [
    "%matplotlib inline\n",
    "\n",
    "import pyLDAvis\n",
    "import pyLDAvis.gensim\n",
    "\n",
    "vis = pyLDAvis.gensim.prepare(topic_model=lda_model, corpus=corpus, dictionary=dictionary_LDA)\n",
    "pyLDAvis.enable_notebook()\n",
    "pyLDAvis.display(vis)"
   ]
  }
 ],
 "metadata": {
  "kernelspec": {
   "display_name": "Python 3",
   "language": "python",
   "name": "python3"
  },
  "language_info": {
   "codemirror_mode": {
    "name": "ipython",
    "version": 3
   },
   "file_extension": ".py",
   "mimetype": "text/x-python",
   "name": "python",
   "nbconvert_exporter": "python",
   "pygments_lexer": "ipython3",
   "version": "3.6.5"
  }
 },
 "nbformat": 4,
 "nbformat_minor": 2
}
