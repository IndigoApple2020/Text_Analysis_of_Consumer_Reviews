{
 "cells": [
  {
   "cell_type": "markdown",
   "metadata": {},
   "source": [
    "# Latent Dirichlet Allocation for Topic Modelling on Customer Reviews: The case of UK Delivery Companies \n",
    "\n",
    "**Author: Georgios Spyrou (https://github.com/gpsyrou)**\n",
    "\n",
    "_Last Update: 25/06/2021_\n",
    "\n",
    "<img src=\"../img/projectimage.png\" alt=\"Sentiment Picture\" width=\"820\" height=\"640\">\n",
    "\n",
    "### Sections\n",
    "- <a href=\"#project_idea\" style=\"text-decoration: none\"> Project Description</a>\n",
    "- <a href=\"#data_retrieval\" style=\"text-decoration: none\"> Web-Scrapping Tool and Data Retrieval</a>\n",
    "- <a href=\"#data_cleaning_eda\" style=\"text-decoration: none\"> Data Cleaning & Initial Exploratory Data Analysis (EDA)</a>\n",
    "    - <a href=\"#data_preprocessing\" style=\"text-decoration: none\"> Data Preprocessing </a>\n",
    "    - <a href=\"#eda\" style=\"text-decoration: none\"> Exploratory Data Analysis </a>\n",
    "- <a href=\"#lda\" style=\"text-decoration: none\"> Latent Dirichlet Allocation model </a>\n",
    "    - <a href=\"#bigrams_lda\" style=\"text-decoration: none\"> Compute bigrams as LDA input </a>"
   ]
  },
  {
   "cell_type": "markdown",
   "metadata": {},
   "source": [
    "<a id='project_idea'></a>\n",
    "### Introduction\n",
    "\n",
    "In this project we are going to explore the world of logistic companies and the issues that they might be facing. Specifically, we are going to focus on analyzing data regarding a few of the most well-known delivery companies in the UK, namely <a href=\"https://en.wikipedia.org/wiki/Deliveroo\" style=\"text-decoration:none\"> Deliveroo</a>, <a href=\"https://en.wikipedia.org/wiki/UberEats\" style=\"text-decoration:none\"> UberEats</a>, <a href=\"https://en.wikipedia.org/wiki/Just_Eat\" style=\"text-decoration:none\"> Just Eat</a> and <a href=\"https://stuart.com/\" style=\"text-decoration:none\"> Stuart</a>. To do that we are going to utilize the internet and the reviews that we can find in many different platforms, especially these platforms that are specializing at collecting reviews and opininions of customers for a plethora of companies and services. \n",
    "\n",
    "The first iteration of this project it's using the reviews that can be found in the famous consumer review website <a href=\"https://en.wikipedia.org/wiki/Trustpilot\" style=\"text-decoration:none\"> TrustPilot</a>. Even though the website is already providing some API functionalities, we are going to write our own web-scraping tool to retrieve the data in the format that we want. We will attempt to collect as many reviews as possible and then use them to identify interesting findings in the text. For example, we will try to identify what is the sentiment across all reviews for a specific company, what are the most common words and bigrams (i.e. pairs of words that tend to appear next to each other) in the reviews, and more. Finally, we will implement a <a href=\"https://en.wikipedia.org/wiki/Latent_Dirichlet_allocation\" style=\"text-decoration:none\"> Latent Dirichlet Allocation</a> model to try and identify what are the topics that these reviews correspond to.\n",
    "\n",
    "\n",
    "We are going to discuss the specifics in more depth as we are going through the different parts of the project. As a starting point of course, we need to collect the relevant reviews for the aforementioned group of delivery companies.\n",
    "\n",
    "<a id='data_retrieval'></a>\n",
    "### Web-Scrapping Tool and Data Retrieval\n",
    "\n",
    "In order to collect the reviews directly from the TrustPilot website, we have created a web-scrapping tool that allowed us to automate this process across different companies & their corresponding reviews. This tool is iterating across different pages of the website and collects the reviews and any other relevant information, with the output being stored in csv files. Moreover, we have packaged the tool into a python library. Hence, if you are thinking of working on a similar project where you need to retrieve data from TrustPilot, you can install the package that you can find <a href=\"https://github.com/gpsyrou/Text_Analysis_of_Consumer_Reviews/blob/main/trustplt.py\" style=\"text-decoration:none\">here</a>. As of May 2021, the package contains the main functionalities to collect many different information from the website, like the reviews, reviewer_id, date of the review, user rating, and more. \n",
    "\n",
    "For the first iteration of the project, we have built the aforementioned package with the functionality to retrieve the following information - which will also be the features in our dataset:\n",
    "\n",
    "1. **Company**: Name of the Company that we are examining (e.g. Deliveroo, UberEats, JustEat, Stuart)\n",
    "2. **Id**: The unique identifier for the Review\n",
    "3. **Reviewer_Id**: Unique id for a reviewer/user\n",
    "4. **Title**: Title of the review\n",
    "5. **Review**: The text corresponding to the review submitted from the reviewer\n",
    "6. **Date**: Day of review submission\n",
    "7. **Rating**: The rating about the company, as submitted from the reviewer\n",
    "\n",
    "Thus, after collecting the data and save them in a CSV format, we can by having a first look at the data and familiarize ourselves with the features. "
   ]
  },
  {
   "cell_type": "code",
   "execution_count": 1,
   "metadata": {},
   "outputs": [],
   "source": [
    "import os\n",
    "import string\n",
    "import numpy as np\n",
    "import pandas as pd\n",
    "from typing import List\n",
    "from collections import Counter\n",
    "\n",
    "import seaborn as sns\n",
    "sns.set_style('dark')\n",
    "\n",
    "import matplotlib.pyplot as plt\n",
    "from wordcloud import WordCloud\n",
    "\n",
    "from nltk import word_tokenize\n",
    "from nltk.util import ngrams\n",
    "from nltk.corpus import stopwords\n",
    "from nltk.collocations import BigramCollocationFinder\n",
    "from nltk.stem import WordNetLemmatizer, PorterStemmer\n",
    "\n",
    "from IPython.display import display, HTML\n",
    "\n",
    "project_dir = r'D:\\GitHub\\Projects\\Analysis_of_Delivery_Companies_Reviews'\n",
    "os.chdir(project_dir)\n",
    "\n",
    "from helpers.utilities import split_ratings_col, get_ratings_mapping"
   ]
  },
  {
   "cell_type": "code",
   "execution_count": 2,
   "metadata": {},
   "outputs": [],
   "source": [
    "reviews_base_file = os.path.join(project_dir, 'reviews.csv')"
   ]
  },
  {
   "cell_type": "code",
   "execution_count": 3,
   "metadata": {},
   "outputs": [
    {
     "data": {
      "text/plain": [
       "{1: 'Bad', 2: 'Poor', 3: 'Average', 4: 'Great', 5: 'Excellent'}"
      ]
     },
     "execution_count": 3,
     "metadata": {},
     "output_type": "execute_result"
    }
   ],
   "source": [
    "col_names = ['Company', 'Id', 'Reviewer_Id', 'Title', 'Review', 'Date', 'Rating']\n",
    "\n",
    "ratings_dict = get_ratings_mapping()\n",
    "ratings_dict"
   ]
  },
  {
   "cell_type": "code",
   "execution_count": 4,
   "metadata": {},
   "outputs": [],
   "source": [
    "reviews_df = pd.read_csv(reviews_base_file, sep=',')"
   ]
  },
  {
   "cell_type": "markdown",
   "metadata": {},
   "source": [
    "<a id='data_cleaning_eda'></a>\n",
    "### Data Cleaning & Exploratory Data Analysis\n",
    "\n",
    "Here we can have an initial look about the information contained in the dataset - Please note that each row in the dataset corresponds to a different _review_ :"
   ]
  },
  {
   "cell_type": "code",
   "execution_count": 5,
   "metadata": {},
   "outputs": [
    {
     "data": {
      "text/html": [
       "<div>\n",
       "<style scoped>\n",
       "    .dataframe tbody tr th:only-of-type {\n",
       "        vertical-align: middle;\n",
       "    }\n",
       "\n",
       "    .dataframe tbody tr th {\n",
       "        vertical-align: top;\n",
       "    }\n",
       "\n",
       "    .dataframe thead th {\n",
       "        text-align: right;\n",
       "    }\n",
       "</style>\n",
       "<table border=\"1\" class=\"dataframe\">\n",
       "  <thead>\n",
       "    <tr style=\"text-align: right;\">\n",
       "      <th></th>\n",
       "      <th>Company</th>\n",
       "      <th>Id</th>\n",
       "      <th>Reviewer_Id</th>\n",
       "      <th>Title</th>\n",
       "      <th>Review</th>\n",
       "      <th>Date</th>\n",
       "      <th>Rating</th>\n",
       "    </tr>\n",
       "  </thead>\n",
       "  <tbody>\n",
       "    <tr>\n",
       "      <th>0</th>\n",
       "      <td>Deliveroo</td>\n",
       "      <td>60709f95f85d75087052ff8b</td>\n",
       "      <td>60709f8f0a30fd001b06dc52</td>\n",
       "      <td>Ordered food and apparently the driver…</td>\n",
       "      <td>Ordered food and apparently the driver was wai...</td>\n",
       "      <td>2021-04-09 18:40</td>\n",
       "      <td>{2: 'Poor'}</td>\n",
       "    </tr>\n",
       "    <tr>\n",
       "      <th>1</th>\n",
       "      <td>Deliveroo</td>\n",
       "      <td>60708710f85d75087052c89b</td>\n",
       "      <td>6070870c2158190019b3ab8e</td>\n",
       "      <td>Disgusting Live Customer Service CHAT!!!</td>\n",
       "      <td>I received standard bag of buttons that cost £...</td>\n",
       "      <td>2021-04-09 16:55</td>\n",
       "      <td>{1: 'Bad'}</td>\n",
       "    </tr>\n",
       "    <tr>\n",
       "      <th>2</th>\n",
       "      <td>Deliveroo</td>\n",
       "      <td>60707b91f85d75087052abb6</td>\n",
       "      <td>602eb3ac49aeca0019ad4b70</td>\n",
       "      <td>Just had an appalling experience with…</td>\n",
       "      <td>Just had an appalling experience with delivero...</td>\n",
       "      <td>2021-04-09 16:06</td>\n",
       "      <td>{1: 'Bad'}</td>\n",
       "    </tr>\n",
       "    <tr>\n",
       "      <th>3</th>\n",
       "      <td>Deliveroo</td>\n",
       "      <td>60705919f85d7508705251d4</td>\n",
       "      <td>60705856348d93001ad1ca1f</td>\n",
       "      <td>The same situation happened twice</td>\n",
       "      <td>The same situation happened twice. I ordered f...</td>\n",
       "      <td>2021-04-09 13:39</td>\n",
       "      <td>{2: 'Poor'}</td>\n",
       "    </tr>\n",
       "    <tr>\n",
       "      <th>4</th>\n",
       "      <td>Deliveroo</td>\n",
       "      <td>60705138f85d750870523d4d</td>\n",
       "      <td>6070512519dc76001aebe4b1</td>\n",
       "      <td>Driver left without giving us food</td>\n",
       "      <td>Driver turned up late couldn’t find us and lef...</td>\n",
       "      <td>2021-04-09 13:06</td>\n",
       "      <td>{1: 'Bad'}</td>\n",
       "    </tr>\n",
       "  </tbody>\n",
       "</table>\n",
       "</div>"
      ],
      "text/plain": [
       "     Company                        Id               Reviewer_Id  \\\n",
       "0  Deliveroo  60709f95f85d75087052ff8b  60709f8f0a30fd001b06dc52   \n",
       "1  Deliveroo  60708710f85d75087052c89b  6070870c2158190019b3ab8e   \n",
       "2  Deliveroo  60707b91f85d75087052abb6  602eb3ac49aeca0019ad4b70   \n",
       "3  Deliveroo  60705919f85d7508705251d4  60705856348d93001ad1ca1f   \n",
       "4  Deliveroo  60705138f85d750870523d4d  6070512519dc76001aebe4b1   \n",
       "\n",
       "                                      Title  \\\n",
       "0   Ordered food and apparently the driver…   \n",
       "1  Disgusting Live Customer Service CHAT!!!   \n",
       "2    Just had an appalling experience with…   \n",
       "3         The same situation happened twice   \n",
       "4        Driver left without giving us food   \n",
       "\n",
       "                                              Review              Date  \\\n",
       "0  Ordered food and apparently the driver was wai...  2021-04-09 18:40   \n",
       "1  I received standard bag of buttons that cost £...  2021-04-09 16:55   \n",
       "2  Just had an appalling experience with delivero...  2021-04-09 16:06   \n",
       "3  The same situation happened twice. I ordered f...  2021-04-09 13:39   \n",
       "4  Driver turned up late couldn’t find us and lef...  2021-04-09 13:06   \n",
       "\n",
       "        Rating  \n",
       "0  {2: 'Poor'}  \n",
       "1   {1: 'Bad'}  \n",
       "2   {1: 'Bad'}  \n",
       "3  {2: 'Poor'}  \n",
       "4   {1: 'Bad'}  "
      ]
     },
     "execution_count": 5,
     "metadata": {},
     "output_type": "execute_result"
    }
   ],
   "source": [
    "reviews_df.head()"
   ]
  },
  {
   "cell_type": "markdown",
   "metadata": {},
   "source": [
    "We can see that the _Title_ of the review sometimes seems to correspond to the first few words/lines of the full _Review_, while some other times appears to be a small summary. At the same time we can observe that the _Rating_ provides us with some useful information about how the Reviewer felt regarding the company's service on that specific occasion."
   ]
  },
  {
   "cell_type": "code",
   "execution_count": 6,
   "metadata": {},
   "outputs": [
    {
     "name": "stdout",
     "output_type": "stream",
     "text": [
      "There are 17640 reviews (rows) and 7 features in the dataset\n"
     ]
    }
   ],
   "source": [
    "print(f'There are {reviews_df.shape[0]} reviews (rows) and {reviews_df.shape[1]} features in the dataset')"
   ]
  },
  {
   "cell_type": "code",
   "execution_count": 7,
   "metadata": {},
   "outputs": [
    {
     "data": {
      "text/plain": [
       "UberEats     8740\n",
       "Deliveroo    6360\n",
       "JustEat      2340\n",
       "Stuart        200\n",
       "Name: Company, dtype: int64"
      ]
     },
     "execution_count": 7,
     "metadata": {},
     "output_type": "execute_result"
    }
   ],
   "source": [
    "reviews_df['Company'].value_counts()"
   ]
  },
  {
   "cell_type": "markdown",
   "metadata": {},
   "source": [
    "We can check if there are any missing values in the dataset, or if there are rows that are duplicates:"
   ]
  },
  {
   "cell_type": "code",
   "execution_count": 8,
   "metadata": {},
   "outputs": [
    {
     "name": "stdout",
     "output_type": "stream",
     "text": [
      "There are 57 duplicate reviews in the dataset\n"
     ]
    }
   ],
   "source": [
    "num_duplicate_reviews = reviews_df.duplicated('Id').sum()\n",
    "print(f'There are {num_duplicate_reviews} duplicate reviews in the dataset')"
   ]
  },
  {
   "cell_type": "markdown",
   "metadata": {},
   "source": [
    "Dropping the duplicate reviews"
   ]
  },
  {
   "cell_type": "code",
   "execution_count": 9,
   "metadata": {},
   "outputs": [
    {
     "data": {
      "text/plain": [
       "0"
      ]
     },
     "execution_count": 9,
     "metadata": {},
     "output_type": "execute_result"
    }
   ],
   "source": [
    "reviews_df.drop_duplicates(inplace=True)\n",
    "reviews_df.duplicated('Id').sum()"
   ]
  },
  {
   "cell_type": "code",
   "execution_count": 10,
   "metadata": {},
   "outputs": [
    {
     "data": {
      "text/html": [
       "<div>\n",
       "<style scoped>\n",
       "    .dataframe tbody tr th:only-of-type {\n",
       "        vertical-align: middle;\n",
       "    }\n",
       "\n",
       "    .dataframe tbody tr th {\n",
       "        vertical-align: top;\n",
       "    }\n",
       "\n",
       "    .dataframe thead th {\n",
       "        text-align: right;\n",
       "    }\n",
       "</style>\n",
       "<table border=\"1\" class=\"dataframe\">\n",
       "  <thead>\n",
       "    <tr style=\"text-align: right;\">\n",
       "      <th></th>\n",
       "      <th>Missing_Values</th>\n",
       "    </tr>\n",
       "  </thead>\n",
       "  <tbody>\n",
       "    <tr>\n",
       "      <th>Company</th>\n",
       "      <td>0</td>\n",
       "    </tr>\n",
       "    <tr>\n",
       "      <th>Id</th>\n",
       "      <td>0</td>\n",
       "    </tr>\n",
       "    <tr>\n",
       "      <th>Reviewer_Id</th>\n",
       "      <td>0</td>\n",
       "    </tr>\n",
       "    <tr>\n",
       "      <th>Title</th>\n",
       "      <td>0</td>\n",
       "    </tr>\n",
       "    <tr>\n",
       "      <th>Review</th>\n",
       "      <td>240</td>\n",
       "    </tr>\n",
       "    <tr>\n",
       "      <th>Date</th>\n",
       "      <td>2886</td>\n",
       "    </tr>\n",
       "    <tr>\n",
       "      <th>Rating</th>\n",
       "      <td>0</td>\n",
       "    </tr>\n",
       "  </tbody>\n",
       "</table>\n",
       "</div>"
      ],
      "text/plain": [
       "             Missing_Values\n",
       "Company                   0\n",
       "Id                        0\n",
       "Reviewer_Id               0\n",
       "Title                     0\n",
       "Review                  240\n",
       "Date                   2886\n",
       "Rating                    0"
      ]
     },
     "execution_count": 10,
     "metadata": {},
     "output_type": "execute_result"
    }
   ],
   "source": [
    "pd.DataFrame(reviews_df.isna().sum(), columns=['Missing_Values'])"
   ]
  },
  {
   "cell_type": "markdown",
   "metadata": {},
   "source": [
    "From the queries above we can quickly see that initially we had some issues as there were 57 duplicate reviews, but we have used a pandas built-in function to remove them from the dataset. The duplication is caused due to the nature of retrieving data from by using the API, as we might process pages that we have already processed in the past, and that means retrieving the same reviews as before. Luckily, the _Id_ column is sufficient to identify unique reviews in the dataset, and hence it's easy to spot and fix duplication issues.\n",
    "\n",
    "Now, regarding the missing values there are a few cases where Review appears to be empty, as well as quite a few cases on missing dates. The later is not a massive issue at this stage of the project. On the other hand, the absence of reviews can be a big issue as this project is all about analyzing customer reviews, and hence rows that have no text corresponding to a review wouldn't provide much information. That said, as we saw above there is another feature (_Title_) which we can use as text for rows where the _Review_ is empty."
   ]
  },
  {
   "cell_type": "code",
   "execution_count": 11,
   "metadata": {},
   "outputs": [
    {
     "data": {
      "text/html": [
       "<div>\n",
       "<style scoped>\n",
       "    .dataframe tbody tr th:only-of-type {\n",
       "        vertical-align: middle;\n",
       "    }\n",
       "\n",
       "    .dataframe tbody tr th {\n",
       "        vertical-align: top;\n",
       "    }\n",
       "\n",
       "    .dataframe thead th {\n",
       "        text-align: right;\n",
       "    }\n",
       "</style>\n",
       "<table border=\"1\" class=\"dataframe\">\n",
       "  <thead>\n",
       "    <tr style=\"text-align: right;\">\n",
       "      <th></th>\n",
       "      <th>Company</th>\n",
       "      <th>Id</th>\n",
       "      <th>Reviewer_Id</th>\n",
       "      <th>Title</th>\n",
       "      <th>Review</th>\n",
       "      <th>Date</th>\n",
       "      <th>Rating</th>\n",
       "    </tr>\n",
       "  </thead>\n",
       "  <tbody>\n",
       "    <tr>\n",
       "      <th>45</th>\n",
       "      <td>Deliveroo</td>\n",
       "      <td>60684978f85d75087045ed91</td>\n",
       "      <td>60684973402b0e001a95af2d</td>\n",
       "      <td>Great service</td>\n",
       "      <td>NaN</td>\n",
       "      <td>2021-04-03 10:54</td>\n",
       "      <td>{5: 'Excellent'}</td>\n",
       "    </tr>\n",
       "    <tr>\n",
       "      <th>94</th>\n",
       "      <td>Deliveroo</td>\n",
       "      <td>606221b3f85d7508703c730e</td>\n",
       "      <td>5d73f4f179586ed7bad49d52</td>\n",
       "      <td>Very very disappointed bad service</td>\n",
       "      <td>NaN</td>\n",
       "      <td>2021-03-29 18:51</td>\n",
       "      <td>{1: 'Bad'}</td>\n",
       "    </tr>\n",
       "    <tr>\n",
       "      <th>114</th>\n",
       "      <td>Deliveroo</td>\n",
       "      <td>605f8f5df85d7508703919f5</td>\n",
       "      <td>5e8d9b9a6251456b37ed292e</td>\n",
       "      <td>CRAP nothing else to say!</td>\n",
       "      <td>NaN</td>\n",
       "      <td>2021-03-27 20:02</td>\n",
       "      <td>{1: 'Bad'}</td>\n",
       "    </tr>\n",
       "    <tr>\n",
       "      <th>137</th>\n",
       "      <td>Deliveroo</td>\n",
       "      <td>605e40ddf85d750870377a98</td>\n",
       "      <td>605cb15ead7256001bdc3948</td>\n",
       "      <td>A MILLION TIMES BETTER THAN UBER EATS</td>\n",
       "      <td>NaN</td>\n",
       "      <td>2021-03-26 20:15</td>\n",
       "      <td>{5: 'Excellent'}</td>\n",
       "    </tr>\n",
       "    <tr>\n",
       "      <th>201</th>\n",
       "      <td>Deliveroo</td>\n",
       "      <td>6054f264f85d750bf4f97e45</td>\n",
       "      <td>5d57f496959de5789bc062bd</td>\n",
       "      <td>Better to use Uber eats</td>\n",
       "      <td>NaN</td>\n",
       "      <td>2021-03-19 18:50</td>\n",
       "      <td>{1: 'Bad'}</td>\n",
       "    </tr>\n",
       "  </tbody>\n",
       "</table>\n",
       "</div>"
      ],
      "text/plain": [
       "       Company                        Id               Reviewer_Id  \\\n",
       "45   Deliveroo  60684978f85d75087045ed91  60684973402b0e001a95af2d   \n",
       "94   Deliveroo  606221b3f85d7508703c730e  5d73f4f179586ed7bad49d52   \n",
       "114  Deliveroo  605f8f5df85d7508703919f5  5e8d9b9a6251456b37ed292e   \n",
       "137  Deliveroo  605e40ddf85d750870377a98  605cb15ead7256001bdc3948   \n",
       "201  Deliveroo  6054f264f85d750bf4f97e45  5d57f496959de5789bc062bd   \n",
       "\n",
       "                                     Title Review              Date  \\\n",
       "45                           Great service    NaN  2021-04-03 10:54   \n",
       "94      Very very disappointed bad service    NaN  2021-03-29 18:51   \n",
       "114              CRAP nothing else to say!    NaN  2021-03-27 20:02   \n",
       "137  A MILLION TIMES BETTER THAN UBER EATS    NaN  2021-03-26 20:15   \n",
       "201                Better to use Uber eats    NaN  2021-03-19 18:50   \n",
       "\n",
       "               Rating  \n",
       "45   {5: 'Excellent'}  \n",
       "94         {1: 'Bad'}  \n",
       "114        {1: 'Bad'}  \n",
       "137  {5: 'Excellent'}  \n",
       "201        {1: 'Bad'}  "
      ]
     },
     "execution_count": 11,
     "metadata": {},
     "output_type": "execute_result"
    }
   ],
   "source": [
    "empty_reviews_sample = reviews_df[reviews_df['Review'].isnull()].head(5)\n",
    "empty_reviews_sample"
   ]
  },
  {
   "cell_type": "markdown",
   "metadata": {},
   "source": [
    "Apply the transformation"
   ]
  },
  {
   "cell_type": "code",
   "execution_count": 12,
   "metadata": {},
   "outputs": [],
   "source": [
    "reviews_df.loc[reviews_df['Review'].isnull(), 'Review'] = reviews_df['Title']"
   ]
  },
  {
   "cell_type": "markdown",
   "metadata": {},
   "source": [
    "and we can see how the transformation affected the dataset"
   ]
  },
  {
   "cell_type": "code",
   "execution_count": 13,
   "metadata": {},
   "outputs": [
    {
     "data": {
      "text/html": [
       "<div>\n",
       "<style scoped>\n",
       "    .dataframe tbody tr th:only-of-type {\n",
       "        vertical-align: middle;\n",
       "    }\n",
       "\n",
       "    .dataframe tbody tr th {\n",
       "        vertical-align: top;\n",
       "    }\n",
       "\n",
       "    .dataframe thead th {\n",
       "        text-align: right;\n",
       "    }\n",
       "</style>\n",
       "<table border=\"1\" class=\"dataframe\">\n",
       "  <thead>\n",
       "    <tr style=\"text-align: right;\">\n",
       "      <th></th>\n",
       "      <th>Company</th>\n",
       "      <th>Id</th>\n",
       "      <th>Reviewer_Id</th>\n",
       "      <th>Title</th>\n",
       "      <th>Review</th>\n",
       "      <th>Date</th>\n",
       "      <th>Rating</th>\n",
       "    </tr>\n",
       "  </thead>\n",
       "  <tbody>\n",
       "    <tr>\n",
       "      <th>45</th>\n",
       "      <td>Deliveroo</td>\n",
       "      <td>60684978f85d75087045ed91</td>\n",
       "      <td>60684973402b0e001a95af2d</td>\n",
       "      <td>Great service</td>\n",
       "      <td>Great service</td>\n",
       "      <td>2021-04-03 10:54</td>\n",
       "      <td>{5: 'Excellent'}</td>\n",
       "    </tr>\n",
       "    <tr>\n",
       "      <th>94</th>\n",
       "      <td>Deliveroo</td>\n",
       "      <td>606221b3f85d7508703c730e</td>\n",
       "      <td>5d73f4f179586ed7bad49d52</td>\n",
       "      <td>Very very disappointed bad service</td>\n",
       "      <td>Very very disappointed bad service</td>\n",
       "      <td>2021-03-29 18:51</td>\n",
       "      <td>{1: 'Bad'}</td>\n",
       "    </tr>\n",
       "    <tr>\n",
       "      <th>114</th>\n",
       "      <td>Deliveroo</td>\n",
       "      <td>605f8f5df85d7508703919f5</td>\n",
       "      <td>5e8d9b9a6251456b37ed292e</td>\n",
       "      <td>CRAP nothing else to say!</td>\n",
       "      <td>CRAP nothing else to say!</td>\n",
       "      <td>2021-03-27 20:02</td>\n",
       "      <td>{1: 'Bad'}</td>\n",
       "    </tr>\n",
       "    <tr>\n",
       "      <th>137</th>\n",
       "      <td>Deliveroo</td>\n",
       "      <td>605e40ddf85d750870377a98</td>\n",
       "      <td>605cb15ead7256001bdc3948</td>\n",
       "      <td>A MILLION TIMES BETTER THAN UBER EATS</td>\n",
       "      <td>A MILLION TIMES BETTER THAN UBER EATS</td>\n",
       "      <td>2021-03-26 20:15</td>\n",
       "      <td>{5: 'Excellent'}</td>\n",
       "    </tr>\n",
       "    <tr>\n",
       "      <th>201</th>\n",
       "      <td>Deliveroo</td>\n",
       "      <td>6054f264f85d750bf4f97e45</td>\n",
       "      <td>5d57f496959de5789bc062bd</td>\n",
       "      <td>Better to use Uber eats</td>\n",
       "      <td>Better to use Uber eats</td>\n",
       "      <td>2021-03-19 18:50</td>\n",
       "      <td>{1: 'Bad'}</td>\n",
       "    </tr>\n",
       "  </tbody>\n",
       "</table>\n",
       "</div>"
      ],
      "text/plain": [
       "       Company                        Id               Reviewer_Id  \\\n",
       "45   Deliveroo  60684978f85d75087045ed91  60684973402b0e001a95af2d   \n",
       "94   Deliveroo  606221b3f85d7508703c730e  5d73f4f179586ed7bad49d52   \n",
       "114  Deliveroo  605f8f5df85d7508703919f5  5e8d9b9a6251456b37ed292e   \n",
       "137  Deliveroo  605e40ddf85d750870377a98  605cb15ead7256001bdc3948   \n",
       "201  Deliveroo  6054f264f85d750bf4f97e45  5d57f496959de5789bc062bd   \n",
       "\n",
       "                                     Title  \\\n",
       "45                           Great service   \n",
       "94      Very very disappointed bad service   \n",
       "114              CRAP nothing else to say!   \n",
       "137  A MILLION TIMES BETTER THAN UBER EATS   \n",
       "201                Better to use Uber eats   \n",
       "\n",
       "                                    Review              Date            Rating  \n",
       "45                           Great service  2021-04-03 10:54  {5: 'Excellent'}  \n",
       "94      Very very disappointed bad service  2021-03-29 18:51        {1: 'Bad'}  \n",
       "114              CRAP nothing else to say!  2021-03-27 20:02        {1: 'Bad'}  \n",
       "137  A MILLION TIMES BETTER THAN UBER EATS  2021-03-26 20:15  {5: 'Excellent'}  \n",
       "201                Better to use Uber eats  2021-03-19 18:50        {1: 'Bad'}  "
      ]
     },
     "execution_count": 13,
     "metadata": {},
     "output_type": "execute_result"
    }
   ],
   "source": [
    "reviews_df.iloc[list(empty_reviews_sample.index)]"
   ]
  },
  {
   "cell_type": "code",
   "execution_count": 14,
   "metadata": {},
   "outputs": [
    {
     "data": {
      "text/html": [
       "<div>\n",
       "<style scoped>\n",
       "    .dataframe tbody tr th:only-of-type {\n",
       "        vertical-align: middle;\n",
       "    }\n",
       "\n",
       "    .dataframe tbody tr th {\n",
       "        vertical-align: top;\n",
       "    }\n",
       "\n",
       "    .dataframe thead th {\n",
       "        text-align: right;\n",
       "    }\n",
       "</style>\n",
       "<table border=\"1\" class=\"dataframe\">\n",
       "  <thead>\n",
       "    <tr style=\"text-align: right;\">\n",
       "      <th></th>\n",
       "      <th>Missing_Values</th>\n",
       "    </tr>\n",
       "  </thead>\n",
       "  <tbody>\n",
       "    <tr>\n",
       "      <th>Company</th>\n",
       "      <td>0</td>\n",
       "    </tr>\n",
       "    <tr>\n",
       "      <th>Id</th>\n",
       "      <td>0</td>\n",
       "    </tr>\n",
       "    <tr>\n",
       "      <th>Reviewer_Id</th>\n",
       "      <td>0</td>\n",
       "    </tr>\n",
       "    <tr>\n",
       "      <th>Title</th>\n",
       "      <td>0</td>\n",
       "    </tr>\n",
       "    <tr>\n",
       "      <th>Review</th>\n",
       "      <td>0</td>\n",
       "    </tr>\n",
       "    <tr>\n",
       "      <th>Date</th>\n",
       "      <td>2886</td>\n",
       "    </tr>\n",
       "    <tr>\n",
       "      <th>Rating</th>\n",
       "      <td>0</td>\n",
       "    </tr>\n",
       "  </tbody>\n",
       "</table>\n",
       "</div>"
      ],
      "text/plain": [
       "             Missing_Values\n",
       "Company                   0\n",
       "Id                        0\n",
       "Reviewer_Id               0\n",
       "Title                     0\n",
       "Review                    0\n",
       "Date                   2886\n",
       "Rating                    0"
      ]
     },
     "execution_count": 14,
     "metadata": {},
     "output_type": "execute_result"
    }
   ],
   "source": [
    "pd.DataFrame(reviews_df.isna().sum(), columns=['Missing_Values'])"
   ]
  },
  {
   "cell_type": "markdown",
   "metadata": {},
   "source": [
    "<a id='data_preprocessing'></a>\n",
    "### Data Preprocessing\n",
    "\n",
    "Now that we have familiarized a bit ourselves with the dataset and it's format, as well as conducted the initial data cleaning, we will move to one of the most important steps in any project - the data preprocessing. This section is especially important for cases where we have to deal with analysis of text, such as in this project. The reason is that text in raw format usually contains a lot of noise. This could later affect the performance of the algorithms - both in terms of computational power and the final output - due to very high dimensions of the dataset. This is happening as, like we are going to see soon, each unique word in each review will become a separate feature in the dataset. Hence, the more reviews we have the more unique words we gonna end up with in the final dataset before the analysis. \n",
    " \n",
    "Therefore, its essential to use  some common text preprocessing techniques to reduce the dimensions. As a summary, we are going to perform the following steps:\n",
    "\n",
    " 1) Perform **tokenization** of the reviews. This is a technique of transforming a sentence, into a list of words. For example, the sentence \"my order was great\" would become '['my', 'order', 'was', 'great'].\n",
    " \n",
    " 2) Remove from the reviews tokens that are **stopwords**. Stopwords are words inside text that do not provide much information and are usually getting removed from the initial sentence. Such words can be words like \"the\", \"a\", and more.\n",
    " \n",
    " 3) Remove tokens that correspond to **punctuation** marks (e.g. \"!\", \"?\") and **numbers**.\n",
    " \n",
    " 4) <a href=\"https://en.wikipedia.org/wiki/Stemming\" style=\"text-decoration:none\">Stemming</a> and <a href=\"https://en.wikipedia.org/wiki/Lemmatisation\" style=\"text-decoration:none\">Lemmatization</a>: These two methods are being used to transform a token into it's stem or lemma respectively. These two techniques help drammatically with the reduction of the dimensions as words end up being \"grouped\" under a specific form. In this project we are going to use lemmatization, as in general is a more advanced method compared to stemming, as lemmatization algorithms try to identify the part of speech of the token, and thus in some way they are preserving the meaning of the word (something that does not necessarily happen with stemming).\n",
    " \n",
    "Below we are going to perform all of these steps to get a \"cleaner\" version of the reviews:"
   ]
  },
  {
   "cell_type": "code",
   "execution_count": 15,
   "metadata": {},
   "outputs": [],
   "source": [
    "from nltk.corpus import stopwords\n",
    "\n",
    "stopwords_ls = stopwords.words('english')\n",
    "stopwords_ls.extend(['\\'d', '\\'m', '\\'s', '\\'ve', '\\'re', '\\'ll', 'n\\'t', '’'])"
   ]
  },
  {
   "cell_type": "markdown",
   "metadata": {},
   "source": [
    "Except the common english stopwords, it's necessary to enhance the list with some additional tokens that we want to exclude from the reviews. These are usually words that we would expect that are getting repeated in the reviews. In our case, as we are examining the case of delivery companies, it would be beneficial to exclude words like 'delivery', 'order', and more. Moreover, we are excluding the tokens that correspond to the names of the delivery companies, as we already have this information in the dataset as a different feature."
   ]
  },
  {
   "cell_type": "code",
   "execution_count": 16,
   "metadata": {},
   "outputs": [],
   "source": [
    "common_delivery_words = ['delivery', 'deliver', 'driver', 'order', 'uber', 'stuart',\n",
    "                         'deliveroo', 'food', 'use', 'get', 'service', 'customer', 'refund']\n",
    "\n",
    "stopwords_ls.extend(common_delivery_words)"
   ]
  },
  {
   "cell_type": "markdown",
   "metadata": {},
   "source": [
    "Moreover, we can see that the _Rating_ columns has values like the following: {1: 'Bad'}, so we are going to use a custom function to split this into two different features for better presentation:"
   ]
  },
  {
   "cell_type": "code",
   "execution_count": 17,
   "metadata": {},
   "outputs": [],
   "source": [
    "def split_ratings(rating_text):\n",
    "    \"\"\"\n",
    "    Mapper function to split string with {Rating: Rating_As_String} format to two\n",
    "    separate entities\"\"\"\n",
    "    rating_text = rating_text.replace('\\'','').replace('{','').replace('}','')\n",
    "    return rating_text[0], rating_text[3:]"
   ]
  },
  {
   "cell_type": "code",
   "execution_count": 18,
   "metadata": {},
   "outputs": [],
   "source": [
    "# Cast columns specific data format\n",
    "reviews_df['Date'] = pd.to_datetime(reviews_df['Date'], format=\"%Y-%m-%d %H:%M\", errors='coerce')\n",
    "\n",
    "reviews_df['Rating'] = reviews_df['Rating'].apply(lambda row: split_ratings(row)[0]).astype(int)\n",
    "reviews_df['Rating_Text'] = reviews_df['Rating'].apply(lambda row: ratings_dict[row])"
   ]
  },
  {
   "cell_type": "code",
   "execution_count": 19,
   "metadata": {},
   "outputs": [
    {
     "data": {
      "text/html": [
       "<div>\n",
       "<style scoped>\n",
       "    .dataframe tbody tr th:only-of-type {\n",
       "        vertical-align: middle;\n",
       "    }\n",
       "\n",
       "    .dataframe tbody tr th {\n",
       "        vertical-align: top;\n",
       "    }\n",
       "\n",
       "    .dataframe thead th {\n",
       "        text-align: right;\n",
       "    }\n",
       "</style>\n",
       "<table border=\"1\" class=\"dataframe\">\n",
       "  <thead>\n",
       "    <tr style=\"text-align: right;\">\n",
       "      <th></th>\n",
       "      <th>Company</th>\n",
       "      <th>Id</th>\n",
       "      <th>Reviewer_Id</th>\n",
       "      <th>Title</th>\n",
       "      <th>Review</th>\n",
       "      <th>Date</th>\n",
       "      <th>Rating</th>\n",
       "      <th>Rating_Text</th>\n",
       "    </tr>\n",
       "  </thead>\n",
       "  <tbody>\n",
       "    <tr>\n",
       "      <th>0</th>\n",
       "      <td>Deliveroo</td>\n",
       "      <td>60709f95f85d75087052ff8b</td>\n",
       "      <td>60709f8f0a30fd001b06dc52</td>\n",
       "      <td>Ordered food and apparently the driver…</td>\n",
       "      <td>Ordered food and apparently the driver was wai...</td>\n",
       "      <td>2021-04-09 18:40:00</td>\n",
       "      <td>2</td>\n",
       "      <td>Poor</td>\n",
       "    </tr>\n",
       "    <tr>\n",
       "      <th>1</th>\n",
       "      <td>Deliveroo</td>\n",
       "      <td>60708710f85d75087052c89b</td>\n",
       "      <td>6070870c2158190019b3ab8e</td>\n",
       "      <td>Disgusting Live Customer Service CHAT!!!</td>\n",
       "      <td>I received standard bag of buttons that cost £...</td>\n",
       "      <td>2021-04-09 16:55:00</td>\n",
       "      <td>1</td>\n",
       "      <td>Bad</td>\n",
       "    </tr>\n",
       "  </tbody>\n",
       "</table>\n",
       "</div>"
      ],
      "text/plain": [
       "     Company                        Id               Reviewer_Id  \\\n",
       "0  Deliveroo  60709f95f85d75087052ff8b  60709f8f0a30fd001b06dc52   \n",
       "1  Deliveroo  60708710f85d75087052c89b  6070870c2158190019b3ab8e   \n",
       "\n",
       "                                      Title  \\\n",
       "0   Ordered food and apparently the driver…   \n",
       "1  Disgusting Live Customer Service CHAT!!!   \n",
       "\n",
       "                                              Review                Date  \\\n",
       "0  Ordered food and apparently the driver was wai... 2021-04-09 18:40:00   \n",
       "1  I received standard bag of buttons that cost £... 2021-04-09 16:55:00   \n",
       "\n",
       "   Rating Rating_Text  \n",
       "0       2        Poor  \n",
       "1       1         Bad  "
      ]
     },
     "execution_count": 19,
     "metadata": {},
     "output_type": "execute_result"
    }
   ],
   "source": [
    "reviews_df.head(2)"
   ]
  },
  {
   "cell_type": "markdown",
   "metadata": {},
   "source": [
    "Now we are ready to apply the main data preprocessing tasks that we discussed above. But to do that we have to write the function that are going to be applied in the _Review_ column. Below we can see these functions, which are coming from a custom <a href=\"https://github.com/gpsyrou/Text_Analysis_of_Consumer_Reviews/blob/main/processing/text_processing.py\" style=\"text-decoration: none\">package</a> that we had to develop, which contains functions for the most common text preprocessing tasks for pretty much any NLP project. "
   ]
  },
  {
   "cell_type": "code",
   "execution_count": 20,
   "metadata": {},
   "outputs": [],
   "source": [
    "lemmatizer = WordNetLemmatizer()\n",
    "stemmer = PorterStemmer()"
   ]
  },
  {
   "cell_type": "code",
   "execution_count": 21,
   "metadata": {},
   "outputs": [],
   "source": [
    "punct_ls = list(string.punctuation)\n",
    "punct_ls.extend([2*x for x in list(string.punctuation)])\n",
    "punct_ls.extend([3*x for x in list(string.punctuation)])"
   ]
  },
  {
   "cell_type": "code",
   "execution_count": 22,
   "metadata": {},
   "outputs": [],
   "source": [
    "def remove_stopwords(text: List['str'], stpwds_ls: List['str']) -> List['str']:\n",
    "    return [token for token in text if token not in stpwds_ls]"
   ]
  },
  {
   "cell_type": "code",
   "execution_count": 23,
   "metadata": {},
   "outputs": [],
   "source": [
    "def remove_punctuation(text: List['str'], punct_ls: List['str']) -> List['str']:\n",
    "    return [token for token in text if token not in punct_ls]"
   ]
  },
  {
   "cell_type": "code",
   "execution_count": 24,
   "metadata": {},
   "outputs": [],
   "source": [
    "def remove_numbers(text: List['str']) -> List['str']:\n",
    "    return [token for token in text if not token.isdigit()]"
   ]
  },
  {
   "cell_type": "code",
   "execution_count": 25,
   "metadata": {},
   "outputs": [],
   "source": [
    "def lemmatize(text: List['str'],\n",
    "              pos_type = 'a') -> List['str']:\n",
    "    return [lemmatizer.lemmatize(token, pos=pos_type) for token in text]\n",
    "\n",
    "def stem(text: List['str']) -> List['str']:\n",
    "    return [stemmer.stem(token) for token in text]"
   ]
  },
  {
   "cell_type": "code",
   "execution_count": 26,
   "metadata": {},
   "outputs": [],
   "source": [
    "def tokenize_and_clean(text: str,\n",
    "                       stopwords_ls: List[str],\n",
    "                       stopwords=True,\n",
    "                       punct=True, \n",
    "                       numerics=True) -> List[str]:\n",
    "    \"\"\"\n",
    "    Performs tokenizations and cleaning processes given a document/text.\n",
    "    The function will always tokenize the given text but the cleaning tasks\n",
    "    are optional.\n",
    "    \n",
    "    Parameters\n",
    "    ----------\n",
    "    text: \n",
    "        A document, which can be a word or sentence of arbitrary length.\n",
    "    stopwords: default True\n",
    "        Indicator of removing tokens that are stopwords.\n",
    "    punct: \n",
    "        Indicator of removing tokens that are punctuation marks.\n",
    "    numerics: \n",
    "        Indicator of removing tokens that correspond to numbers.\n",
    "\n",
    "    Returns\n",
    "    --------\n",
    "         A tokenized version of 'text' with the necessary updates depending on\n",
    "         the cleanup steps performed.\n",
    "    \"\"\"\n",
    "    tokenized = word_tokenize(text, language='english')\n",
    "    \n",
    "    tokenized = [token.lower() for token in tokenized]\n",
    "\n",
    "    if punct:\n",
    "        tokenized = remove_punctuation(tokenized, punct_ls=punct_ls)\n",
    "        \n",
    "    if numerics:\n",
    "        tokenized = remove_numbers(tokenized)\n",
    "        \n",
    "    if stopwords:\n",
    "        tokenized = remove_stopwords(tokenized, stpwds_ls=stopwords_ls)\n",
    "\n",
    "    return tokenized"
   ]
  },
  {
   "cell_type": "markdown",
   "metadata": {},
   "source": [
    "Split review in tokens and remove punctuation & stopwords"
   ]
  },
  {
   "cell_type": "code",
   "execution_count": 27,
   "metadata": {},
   "outputs": [],
   "source": [
    "reviews_df['Review_Tokenized'] = reviews_df['Review'].apply(lambda row: tokenize_and_clean(text=row, stopwords_ls=stopwords_ls, numerics=False))"
   ]
  },
  {
   "cell_type": "markdown",
   "metadata": {},
   "source": [
    "Lemmatize the tokens"
   ]
  },
  {
   "cell_type": "code",
   "execution_count": 28,
   "metadata": {},
   "outputs": [],
   "source": [
    "reviews_df['Review_Lemmatized'] = reviews_df['Review_Tokenized'].apply(lambda row: lemmatize(text=row, pos_type='n'))"
   ]
  },
  {
   "cell_type": "code",
   "execution_count": 29,
   "metadata": {},
   "outputs": [],
   "source": [
    "reviews_df['Review_Lemmatized'] = reviews_df['Review_Lemmatized'].apply(lambda row: lemmatize(text=row, pos_type='a'))"
   ]
  },
  {
   "cell_type": "markdown",
   "metadata": {},
   "source": [
    "Some times we need the \"clean\" tokens per document to be a single string. Therefore we are applying the appropriate transformation where we are joining back the clean tokens into a single object."
   ]
  },
  {
   "cell_type": "code",
   "execution_count": 30,
   "metadata": {},
   "outputs": [],
   "source": [
    "reviews_df['Clean_Review_String'] = reviews_df['Review_Lemmatized'].apply(lambda row: ' '.join([x for x in row]))"
   ]
  },
  {
   "cell_type": "code",
   "execution_count": 31,
   "metadata": {},
   "outputs": [
    {
     "data": {
      "text/html": [
       "<div>\n",
       "<style scoped>\n",
       "    .dataframe tbody tr th:only-of-type {\n",
       "        vertical-align: middle;\n",
       "    }\n",
       "\n",
       "    .dataframe tbody tr th {\n",
       "        vertical-align: top;\n",
       "    }\n",
       "\n",
       "    .dataframe thead th {\n",
       "        text-align: right;\n",
       "    }\n",
       "</style>\n",
       "<table border=\"1\" class=\"dataframe\">\n",
       "  <thead>\n",
       "    <tr style=\"text-align: right;\">\n",
       "      <th></th>\n",
       "      <th>Company</th>\n",
       "      <th>Title</th>\n",
       "      <th>Review</th>\n",
       "      <th>Review_Tokenized</th>\n",
       "      <th>Review_Lemmatized</th>\n",
       "      <th>Clean_Review_String</th>\n",
       "    </tr>\n",
       "  </thead>\n",
       "  <tbody>\n",
       "    <tr>\n",
       "      <th>0</th>\n",
       "      <td>Deliveroo</td>\n",
       "      <td>Ordered food and apparently the driver…</td>\n",
       "      <td>Ordered food and apparently the driver was wai...</td>\n",
       "      <td>[ordered, apparently, waiting, 10, mins, even,...</td>\n",
       "      <td>[ordered, apparently, waiting, 10, min, even, ...</td>\n",
       "      <td>ordered apparently waiting 10 min even though ...</td>\n",
       "    </tr>\n",
       "    <tr>\n",
       "      <th>1</th>\n",
       "      <td>Deliveroo</td>\n",
       "      <td>Disgusting Live Customer Service CHAT!!!</td>\n",
       "      <td>I received standard bag of buttons that cost £...</td>\n",
       "      <td>[received, standard, bag, buttons, cost, £1.60...</td>\n",
       "      <td>[received, standard, bag, button, cost, £1.60,...</td>\n",
       "      <td>received standard bag button cost £1.60 asked ...</td>\n",
       "    </tr>\n",
       "    <tr>\n",
       "      <th>2</th>\n",
       "      <td>Deliveroo</td>\n",
       "      <td>Just had an appalling experience with…</td>\n",
       "      <td>Just had an appalling experience with delivero...</td>\n",
       "      <td>[appalling, experience, ordered, pizza, £10, d...</td>\n",
       "      <td>[appalling, experience, ordered, pizza, £10, d...</td>\n",
       "      <td>appalling experience ordered pizza £10 discoun...</td>\n",
       "    </tr>\n",
       "    <tr>\n",
       "      <th>3</th>\n",
       "      <td>Deliveroo</td>\n",
       "      <td>The same situation happened twice</td>\n",
       "      <td>The same situation happened twice. I ordered f...</td>\n",
       "      <td>[situation, happened, twice, ordered, around, ...</td>\n",
       "      <td>[situation, happened, twice, ordered, around, ...</td>\n",
       "      <td>situation happened twice ordered around 10 pm ...</td>\n",
       "    </tr>\n",
       "    <tr>\n",
       "      <th>4</th>\n",
       "      <td>Deliveroo</td>\n",
       "      <td>Driver left without giving us food</td>\n",
       "      <td>Driver turned up late couldn’t find us and lef...</td>\n",
       "      <td>[turned, late, find, us, left, awful]</td>\n",
       "      <td>[turned, late, find, u, left, awful]</td>\n",
       "      <td>turned late find u left awful</td>\n",
       "    </tr>\n",
       "  </tbody>\n",
       "</table>\n",
       "</div>"
      ],
      "text/plain": [
       "     Company                                     Title  \\\n",
       "0  Deliveroo   Ordered food and apparently the driver…   \n",
       "1  Deliveroo  Disgusting Live Customer Service CHAT!!!   \n",
       "2  Deliveroo    Just had an appalling experience with…   \n",
       "3  Deliveroo         The same situation happened twice   \n",
       "4  Deliveroo        Driver left without giving us food   \n",
       "\n",
       "                                              Review  \\\n",
       "0  Ordered food and apparently the driver was wai...   \n",
       "1  I received standard bag of buttons that cost £...   \n",
       "2  Just had an appalling experience with delivero...   \n",
       "3  The same situation happened twice. I ordered f...   \n",
       "4  Driver turned up late couldn’t find us and lef...   \n",
       "\n",
       "                                    Review_Tokenized  \\\n",
       "0  [ordered, apparently, waiting, 10, mins, even,...   \n",
       "1  [received, standard, bag, buttons, cost, £1.60...   \n",
       "2  [appalling, experience, ordered, pizza, £10, d...   \n",
       "3  [situation, happened, twice, ordered, around, ...   \n",
       "4              [turned, late, find, us, left, awful]   \n",
       "\n",
       "                                   Review_Lemmatized  \\\n",
       "0  [ordered, apparently, waiting, 10, min, even, ...   \n",
       "1  [received, standard, bag, button, cost, £1.60,...   \n",
       "2  [appalling, experience, ordered, pizza, £10, d...   \n",
       "3  [situation, happened, twice, ordered, around, ...   \n",
       "4               [turned, late, find, u, left, awful]   \n",
       "\n",
       "                                 Clean_Review_String  \n",
       "0  ordered apparently waiting 10 min even though ...  \n",
       "1  received standard bag button cost £1.60 asked ...  \n",
       "2  appalling experience ordered pizza £10 discoun...  \n",
       "3  situation happened twice ordered around 10 pm ...  \n",
       "4                      turned late find u left awful  "
      ]
     },
     "execution_count": 31,
     "metadata": {},
     "output_type": "execute_result"
    }
   ],
   "source": [
    "reviews_df[['Company', 'Title', 'Review', 'Review_Tokenized', 'Review_Lemmatized', 'Clean_Review_String']].head(5)"
   ]
  },
  {
   "cell_type": "markdown",
   "metadata": {},
   "source": [
    "We can observe how big is the difference between the initial _Review_ and the final format of the review after the preprocessing tasks, as shown in <em>Review_Merged</em>.\n",
    "\n",
    "<a id=\"eda\"></a>\n",
    "### Exploratory Data Analysis\n",
    "\n",
    "Now that the data are in a better shape, we can start with the main part of this project which is the actual analysis of the reviews. As a first step we are going to perform some exploratory data analysis, mostly by analyzing the data visually. \n",
    "\n",
    "This is an important step for every data analysis project as it will allow us to further familiarize ourselves with the data, as well as make sure that we don't identify any cases that would require further data cleaning and that we might have missed in the initial text preprocessing steps performed in the previous section."
   ]
  },
  {
   "cell_type": "code",
   "execution_count": 32,
   "metadata": {},
   "outputs": [],
   "source": [
    "def most_common_words(input_df: pd.DataFrame,\n",
    "                      text_col: str,\n",
    "                      n_most_common=20):\n",
    "    \"\"\"\n",
    "    Given a collection of documents as text, compute the number of most common\n",
    "    words as defined by n_most_common.\n",
    "    Args:\n",
    "    ------\n",
    "        input_df: Dataframe that contains the relevant text column\n",
    "        text_col: Name of the column\n",
    "        n_most_common: Number of most common words to calculate\n",
    "    Returns:\n",
    "    --------\n",
    "        Pandas dataframe with two columns indicating a word and number\n",
    "        of times (count) that it appears in the original input_df\n",
    "    \"\"\"\n",
    "    word_list = list([x.split() for x in input_df[text_col] if x is not None])\n",
    "    word_counter = Counter(x for xs in word_list for x in set(xs))\n",
    "    word_counter.most_common(n_most_common)\n",
    "\n",
    "    return pd.DataFrame(word_counter.most_common(n_most_common), columns=['word', 'count'])"
   ]
  },
  {
   "cell_type": "code",
   "execution_count": 33,
   "metadata": {},
   "outputs": [],
   "source": [
    "def plot_most_common_words(input_df: pd.DataFrame,\n",
    "                           text_col: str,\n",
    "                           n_most_common=20,\n",
    "                           return_counts=False,\n",
    "                           figsize=(10, 10)) -> None:\n",
    "    \n",
    "    if return_counts:\n",
    "        df = most_common_words(input_df=input_df, text_col=text_col, n_most_common=n_most_common)\n",
    "        display(HTML(df.to_html()))\n",
    "\n",
    "    fig, ax = plt.subplots(figsize=figsize)\n",
    "    common_words_df = most_common_words(input_df=input_df,\n",
    "                                        text_col=text_col,\n",
    "                                        n_most_common=n_most_common)\n",
    "    sns.barplot(x='count', y='word', data=common_words_df).set_title(f'Common Words Found - Overall',\n",
    "                                                                     fontweight='bold')\n",
    "    plt.grid(True, alpha=0.3, linestyle='-', color='black')\n",
    "    plt.show()"
   ]
  },
  {
   "cell_type": "code",
   "execution_count": 34,
   "metadata": {},
   "outputs": [
    {
     "data": {
      "text/html": [
       "<table border=\"1\" class=\"dataframe\">\n",
       "  <thead>\n",
       "    <tr style=\"text-align: right;\">\n",
       "      <th></th>\n",
       "      <th>word</th>\n",
       "      <th>count</th>\n",
       "    </tr>\n",
       "  </thead>\n",
       "  <tbody>\n",
       "    <tr>\n",
       "      <th>0</th>\n",
       "      <td>time</td>\n",
       "      <td>5727</td>\n",
       "    </tr>\n",
       "    <tr>\n",
       "      <th>1</th>\n",
       "      <td>never</td>\n",
       "      <td>5101</td>\n",
       "    </tr>\n",
       "    <tr>\n",
       "      <th>2</th>\n",
       "      <td>ordered</td>\n",
       "      <td>4542</td>\n",
       "    </tr>\n",
       "    <tr>\n",
       "      <th>3</th>\n",
       "      <td>restaurant</td>\n",
       "      <td>3845</td>\n",
       "    </tr>\n",
       "    <tr>\n",
       "      <th>4</th>\n",
       "      <td>would</td>\n",
       "      <td>3781</td>\n",
       "    </tr>\n",
       "    <tr>\n",
       "      <th>5</th>\n",
       "      <td>hour</td>\n",
       "      <td>3762</td>\n",
       "    </tr>\n",
       "    <tr>\n",
       "      <th>6</th>\n",
       "      <td>delivered</td>\n",
       "      <td>3297</td>\n",
       "    </tr>\n",
       "    <tr>\n",
       "      <th>7</th>\n",
       "      <td>money</td>\n",
       "      <td>3272</td>\n",
       "    </tr>\n",
       "    <tr>\n",
       "      <th>8</th>\n",
       "      <td>eats</td>\n",
       "      <td>3213</td>\n",
       "    </tr>\n",
       "    <tr>\n",
       "      <th>9</th>\n",
       "      <td>even</td>\n",
       "      <td>3187</td>\n",
       "    </tr>\n",
       "  </tbody>\n",
       "</table>"
      ],
      "text/plain": [
       "<IPython.core.display.HTML object>"
      ]
     },
     "metadata": {},
     "output_type": "display_data"
    },
    {
     "data": {
      "image/png": "[encoded data removed]",
      "text/plain": [
       "<Figure size 720x720 with 1 Axes>"
      ]
     },
     "metadata": {},
     "output_type": "display_data"
    }
   ],
   "source": [
    "plot_most_common_words(reviews_df, n_most_common=10, text_col='Clean_Review_String', return_counts=True)"
   ]
  },
  {
   "cell_type": "code",
   "execution_count": 35,
   "metadata": {},
   "outputs": [],
   "source": [
    "def plot_wordcloud(input_df: pd.DataFrame,\n",
    "                   text_col: str,\n",
    "                   figsize=(10, 10)) -> None:\n",
    "    \"\"\" Generate a WordCloud plot based on the number of occurenences of words\n",
    "    in a set documents\n",
    "    \"\"\"\n",
    "    plt.figure(figsize=figsize)\n",
    "    combined_text = ' '.join([x for x in input_df[text_col] if x is not None])\n",
    "    wordcloud = WordCloud().generate(combined_text)\n",
    "    plt.imshow(wordcloud, interpolation='bilinear')\n",
    "    plt.axis(\"off\")\n",
    "    plt.show()"
   ]
  },
  {
   "cell_type": "code",
   "execution_count": 36,
   "metadata": {},
   "outputs": [],
   "source": [
    "# plot_wordcloud(reviews_df, text_col='Clean_Review_String')"
   ]
  },
  {
   "cell_type": "markdown",
   "metadata": {},
   "source": [
    "By examining each word separately we are making the assumption that the words (and so their order) do not play any role into the general meaning of the text. Thus, we can go a step further and identify pairs of words (**bigrams**) that tend to appear next to each other."
   ]
  },
  {
   "cell_type": "code",
   "execution_count": 37,
   "metadata": {},
   "outputs": [],
   "source": [
    "def compute_bigrams(input_df: pd.DataFrame,\n",
    "                    text_col: str) -> dict:\n",
    "    \"\"\" Calculate the number of occurences where a pair of words appear next to\n",
    "    each other, and return a dictionary of {pair of words: count}.\n",
    "    \"\"\"\n",
    "    combined_text = ' '.join([x for x in input_df[text_col]])\n",
    "\n",
    "    finder = BigramCollocationFinder.from_words(word_tokenize(combined_text))\n",
    "\n",
    "    bigrams_dict = {}\n",
    "    for k, v in finder.ngram_fd.items():\n",
    "        if len(k[0]) > 1 and len(k[1]) > 1:\n",
    "            bigrams_dict[k] = v\n",
    "        else:\n",
    "            continue\n",
    "    return bigrams_dict"
   ]
  },
  {
   "cell_type": "code",
   "execution_count": 38,
   "metadata": {},
   "outputs": [],
   "source": [
    "def plot_bigrams(input_df: pd.DataFrame,\n",
    "                 text_col: str,\n",
    "                 top_n: int,\n",
    "                 rotation=0.8,\n",
    "                 figsize=(10, 8)) -> None:\n",
    "\n",
    "    bigrams_dict = compute_bigrams(input_df=input_df, text_col=text_col)\n",
    "    bigrams_sorted = sorted(bigrams_dict.items(), key=lambda x: x[1], reverse=True)[0:top_n]\n",
    "    bgram, counts = list(zip(*bigrams_sorted))\n",
    "    bgstring = list(map(lambda txt: '_'.join(txt), bgram))\n",
    "\n",
    "    plt.figure(figsize=figsize)\n",
    "    g = sns.barplot(bgstring, counts, palette='muted')\n",
    "    g.set_xticklabels(g.get_xticklabels(), rotation=rotation)\n",
    "    plt.title(f'Top-{top_n} pairs of words that appear next to each other',\n",
    "              fontweight='bold')\n",
    "    plt.ylabel('Count')\n",
    "    plt.grid(True, alpha=0.1, color='black')\n",
    "    plt.show()"
   ]
  },
  {
   "cell_type": "code",
   "execution_count": 39,
   "metadata": {},
   "outputs": [],
   "source": [
    "bigrams = compute_bigrams(reviews_df, text_col='Clean_Review_String')"
   ]
  },
  {
   "cell_type": "code",
   "execution_count": 40,
   "metadata": {},
   "outputs": [
    {
     "data": {
      "text/html": [
       "<div>\n",
       "<style scoped>\n",
       "    .dataframe tbody tr th:only-of-type {\n",
       "        vertical-align: middle;\n",
       "    }\n",
       "\n",
       "    .dataframe tbody tr th {\n",
       "        vertical-align: top;\n",
       "    }\n",
       "\n",
       "    .dataframe thead th {\n",
       "        text-align: right;\n",
       "    }\n",
       "</style>\n",
       "<table border=\"1\" class=\"dataframe\">\n",
       "  <thead>\n",
       "    <tr style=\"text-align: right;\">\n",
       "      <th></th>\n",
       "      <th>Bigram</th>\n",
       "      <th>Count</th>\n",
       "    </tr>\n",
       "  </thead>\n",
       "  <tbody>\n",
       "    <tr>\n",
       "      <th>0</th>\n",
       "      <td>(missing, item)</td>\n",
       "      <td>781</td>\n",
       "    </tr>\n",
       "    <tr>\n",
       "      <th>1</th>\n",
       "      <td>(money, back)</td>\n",
       "      <td>760</td>\n",
       "    </tr>\n",
       "    <tr>\n",
       "      <th>2</th>\n",
       "      <td>(first, time)</td>\n",
       "      <td>719</td>\n",
       "    </tr>\n",
       "    <tr>\n",
       "      <th>3</th>\n",
       "      <td>(hour, late)</td>\n",
       "      <td>689</td>\n",
       "    </tr>\n",
       "    <tr>\n",
       "      <th>4</th>\n",
       "      <td>(even, though)</td>\n",
       "      <td>617</td>\n",
       "    </tr>\n",
       "    <tr>\n",
       "      <th>5</th>\n",
       "      <td>(never, arrived)</td>\n",
       "      <td>580</td>\n",
       "    </tr>\n",
       "    <tr>\n",
       "      <th>6</th>\n",
       "      <td>(live, chat)</td>\n",
       "      <td>483</td>\n",
       "    </tr>\n",
       "    <tr>\n",
       "      <th>7</th>\n",
       "      <td>(stone, cold)</td>\n",
       "      <td>462</td>\n",
       "    </tr>\n",
       "    <tr>\n",
       "      <th>8</th>\n",
       "      <td>(48, hour)</td>\n",
       "      <td>441</td>\n",
       "    </tr>\n",
       "    <tr>\n",
       "      <th>9</th>\n",
       "      <td>(said, would)</td>\n",
       "      <td>441</td>\n",
       "    </tr>\n",
       "    <tr>\n",
       "      <th>10</th>\n",
       "      <td>(item, missing)</td>\n",
       "      <td>416</td>\n",
       "    </tr>\n",
       "    <tr>\n",
       "      <th>11</th>\n",
       "      <td>(could, give)</td>\n",
       "      <td>403</td>\n",
       "    </tr>\n",
       "    <tr>\n",
       "      <th>12</th>\n",
       "      <td>(wrong, address)</td>\n",
       "      <td>391</td>\n",
       "    </tr>\n",
       "    <tr>\n",
       "      <th>13</th>\n",
       "      <td>(bad, ever)</td>\n",
       "      <td>389</td>\n",
       "    </tr>\n",
       "    <tr>\n",
       "      <th>14</th>\n",
       "      <td>(waste, time)</td>\n",
       "      <td>376</td>\n",
       "    </tr>\n",
       "  </tbody>\n",
       "</table>\n",
       "</div>"
      ],
      "text/plain": [
       "              Bigram  Count\n",
       "0    (missing, item)    781\n",
       "1      (money, back)    760\n",
       "2      (first, time)    719\n",
       "3       (hour, late)    689\n",
       "4     (even, though)    617\n",
       "5   (never, arrived)    580\n",
       "6       (live, chat)    483\n",
       "7      (stone, cold)    462\n",
       "8         (48, hour)    441\n",
       "9      (said, would)    441\n",
       "10   (item, missing)    416\n",
       "11     (could, give)    403\n",
       "12  (wrong, address)    391\n",
       "13       (bad, ever)    389\n",
       "14     (waste, time)    376"
      ]
     },
     "execution_count": 40,
     "metadata": {},
     "output_type": "execute_result"
    }
   ],
   "source": [
    "pd.DataFrame(sorted(bigrams.items(), key=lambda item: item[1], reverse=True), columns=['Bigram', 'Count']).head(15)"
   ]
  },
  {
   "cell_type": "code",
   "execution_count": 41,
   "metadata": {},
   "outputs": [
    {
     "data": {
      "image/png": "[encoded data removed]",
      "text/plain": [
       "<Figure size 1440x432 with 1 Axes>"
      ]
     },
     "metadata": {},
     "output_type": "display_data"
    }
   ],
   "source": [
    "plot_bigrams(input_df=reviews_df, text_col='Clean_Review_String', top_n=15, rotation=0.0, figsize=(20, 6))"
   ]
  },
  {
   "cell_type": "markdown",
   "metadata": {},
   "source": [
    "From the bigrams plot we can infer that there are 3 main topics in the data:\n",
    "\n",
    "1. Case where order arrived but an item was missing (e.g.\"missing item\")\n",
    "2. Case where items received very late (\"cold food\", \"stone cold\", \"hour cold\")\n",
    "3. Case when the order never arrived (\"wrong-adress\", \"never arrived\")\n",
    "    \n",
    "We can also observe that the bigram \"customer service\" appears in the majority of the reviews. This is something expected, as in general reviews in TrustPilot for delivery companies tend to contain reviews about problems that the customers might have faced. \n",
    "\n",
    "Hence, it's regular when a customer facing an issue with their order, to contact the customer service of the company, independently of the nature of the issue (i.e. any of the 3 points we mentioned above). Queries about the customer service might not add a lot of information in the data as they seem to be part around in 1/3 of the total reviews. One option would be to remove these words from our analysis - by adding them in the stopwords list - but for now we will leave this set of words inside our dataset as it might provide us with some useful findings later.\n",
    "\n",
    "In the next section we will finally get into the modelling part of the project. Based on our findings above and by leveraging a well known method for topic modelling (i.e. LDA), we will attempt to identify the different topics that exist inside the reviews."
   ]
  },
  {
   "cell_type": "markdown",
   "metadata": {},
   "source": [
    "<a id=\"lda\"></a>\n",
    "## Latent Dirichlet Allocation (LDA) Model\n",
    "\n",
    "LDA is one of the most - if not the most - common methods/algorithms used for _topic modeling_. We can think of topic modeling as an unsupervised technique where we use when we want to \"classify\" a collection of documents under a predefined amount of topics, _but_ without knowing what these topics are about. Algorithms that fall under this category are usually utilizing the frequencies that words appear in the documents to extract insights and identify clusters of documents that contain similar words. \n",
    "\n",
    "The LDA model attempts to identify these clusters of documents and create the topics by making a few assumptions, such:  \n",
    "\n",
    "    1) Each document is a collection of multiple topics (i.e. one document can belong to many topics at the same time) <br>\n",
    "    2) Each topic is represented by a collection/distribution of words\n",
    "    3) Each document is a distribution of words\n",
    "    \n",
    "Note that in LDA we do not care about the order of the words - hence we can think of LDA as a bag of words model. Intuitively this makes sense, as even if we change the order of words in a document we should still be able to infer what the document might be talking about just by observing the words that are present."
   ]
  },
  {
   "cell_type": "code",
   "execution_count": 42,
   "metadata": {},
   "outputs": [],
   "source": [
    "from sklearn.feature_extraction.text import CountVectorizer\n",
    "from sklearn.decomposition import LatentDirichletAllocation\n",
    "from scipy.sparse.csr import csr_matrix"
   ]
  },
  {
   "cell_type": "code",
   "execution_count": 43,
   "metadata": {},
   "outputs": [],
   "source": [
    "def countvectorizer_to_dict(vectorizer: CountVectorizer,\n",
    "                            matrix: csr_matrix) -> dict:\n",
    "    feature_names = vectorizer.get_feature_names()\n",
    "    counts = np.asarray(matrix.sum(axis=0))[0]\n",
    "    return dict(zip(feature_names, counts))"
   ]
  },
  {
   "cell_type": "code",
   "execution_count": 44,
   "metadata": {},
   "outputs": [],
   "source": [
    "def get_per_topic_wordweights(model,\n",
    "                           feature_names: List[str],\n",
    "                           sort=True):\n",
    "    word_weights_per_topic = []\n",
    "    for i, topic in enumerate(model.components_):\n",
    "        weights = list(zip(feature_names, topic))\n",
    "        if sort:\n",
    "            weights = sorted(weights, key=lambda x: x[1], reverse=True)\n",
    "        word_weights_per_topic.append([i, weights])\n",
    "    return word_weights_per_topic"
   ]
  },
  {
   "cell_type": "code",
   "execution_count": 45,
   "metadata": {},
   "outputs": [],
   "source": [
    "def show_top_words_per_topic(model,\n",
    "                             feature_names: List[str],\n",
    "                             num_top_words: int):\n",
    "    for i in range(0, len(model.components_)):\n",
    "        weights = get_per_topic_wordweights(model, feature_names)[i][1]\n",
    "        print('Topic {0} : {1} \\n'.format(i+1, weights[0:num_top_words]))"
   ]
  },
  {
   "cell_type": "markdown",
   "metadata": {},
   "source": [
    "<a id=\"bigrams_lda\"></a>\n",
    "Compute the bigrams which will be the new tokens:"
   ]
  },
  {
   "cell_type": "code",
   "execution_count": 128,
   "metadata": {},
   "outputs": [],
   "source": [
    "vectorizer = CountVectorizer(max_df=1.0,\n",
    "                             min_df=10,\n",
    "                             max_features=15000,\n",
    "                             ngram_range=(2,2))"
   ]
  },
  {
   "cell_type": "markdown",
   "metadata": {},
   "source": [
    "The above object will help us with creating a sparse matrix where each row is a document and each column is a word.<br>\n",
    "The value under $x_i, y_i$ represents a count of how many times that specific word ($y_i$) appears in that document ($x_i$)."
   ]
  },
  {
   "cell_type": "code",
   "execution_count": 129,
   "metadata": {},
   "outputs": [],
   "source": [
    "cv = vectorizer.fit_transform(reviews_df['Clean_Review_String'])"
   ]
  },
  {
   "cell_type": "code",
   "execution_count": 130,
   "metadata": {},
   "outputs": [
    {
     "data": {
      "text/plain": [
       "(17583, 6144)"
      ]
     },
     "execution_count": 130,
     "metadata": {},
     "output_type": "execute_result"
    }
   ],
   "source": [
    "cv.shape"
   ]
  },
  {
   "cell_type": "code",
   "execution_count": 131,
   "metadata": {},
   "outputs": [],
   "source": [
    "vect_matrix_df = pd.DataFrame(cv.toarray(), columns=vectorizer.get_feature_names())"
   ]
  },
  {
   "cell_type": "code",
   "execution_count": 132,
   "metadata": {},
   "outputs": [],
   "source": [
    "def vect_to_ngrams_col(vector_matrix_df: pd.DataFrame):\n",
    "    combined_ngrams_ls = []\n",
    "    for i in vect_matrix_df.index:\n",
    "        ngrams_ls = []\n",
    "        for j in list(np.where(vector_matrix_df.iloc[i] != 0)[0]):\n",
    "            ngrams_ls.append(vector_matrix_df.columns[j])\n",
    "        combined_ngrams_ls.append(ngrams_ls)\n",
    "    return combined_ngrams_ls"
   ]
  },
  {
   "cell_type": "code",
   "execution_count": 133,
   "metadata": {},
   "outputs": [],
   "source": [
    "ngrams_gen = vect_to_ngrams_col(vector_matrix_df=vect_matrix_df)"
   ]
  },
  {
   "cell_type": "code",
   "execution_count": 134,
   "metadata": {},
   "outputs": [],
   "source": [
    "reviews_df['Ngrams_combined'] = ngrams_gen"
   ]
  },
  {
   "cell_type": "code",
   "execution_count": 135,
   "metadata": {},
   "outputs": [
    {
     "data": {
      "text/plain": [
       "'ordered apparently waiting 10 min even though stood outside useless dont bother stick eat'"
      ]
     },
     "execution_count": 135,
     "metadata": {},
     "output_type": "execute_result"
    }
   ],
   "source": [
    "reviews_df.iloc[0]['Clean_Review_String']"
   ]
  },
  {
   "cell_type": "code",
   "execution_count": 136,
   "metadata": {},
   "outputs": [
    {
     "data": {
      "text/plain": [
       "['10 min',\n",
       " 'dont bother',\n",
       " 'even though',\n",
       " 'stick eat',\n",
       " 'stood outside',\n",
       " 'waiting 10']"
      ]
     },
     "execution_count": 136,
     "metadata": {},
     "output_type": "execute_result"
    }
   ],
   "source": [
    "reviews_df.iloc[0]['Ngrams_combined']"
   ]
  },
  {
   "cell_type": "markdown",
   "metadata": {},
   "source": [
    "Thus, we can see that we have created a matrix which consist of 16583 distinct documents (reviews) and a total of 6000 words. Note that 6000 is an arbitrary number that the data analyst has to decide depending on the context of the problem. As a reminder, in our project we are working with bigrams, and thus we have create a matrix where each column is a bigram combination.\n",
    "\n",
    "We can better visualize it as follows:"
   ]
  },
  {
   "cell_type": "code",
   "execution_count": 137,
   "metadata": {},
   "outputs": [],
   "source": [
    "word_counts = countvectorizer_to_dict(vectorizer=vectorizer, matrix=cv)"
   ]
  },
  {
   "cell_type": "code",
   "execution_count": 138,
   "metadata": {},
   "outputs": [
    {
     "data": {
      "text/html": [
       "<div>\n",
       "<style scoped>\n",
       "    .dataframe tbody tr th:only-of-type {\n",
       "        vertical-align: middle;\n",
       "    }\n",
       "\n",
       "    .dataframe tbody tr th {\n",
       "        vertical-align: top;\n",
       "    }\n",
       "\n",
       "    .dataframe thead th {\n",
       "        text-align: right;\n",
       "    }\n",
       "</style>\n",
       "<table border=\"1\" class=\"dataframe\">\n",
       "  <thead>\n",
       "    <tr style=\"text-align: right;\">\n",
       "      <th></th>\n",
       "      <th>Bigram</th>\n",
       "      <th>Count</th>\n",
       "    </tr>\n",
       "  </thead>\n",
       "  <tbody>\n",
       "    <tr>\n",
       "      <th>0</th>\n",
       "      <td>missing item</td>\n",
       "      <td>802</td>\n",
       "    </tr>\n",
       "    <tr>\n",
       "      <th>1</th>\n",
       "      <td>money back</td>\n",
       "      <td>796</td>\n",
       "    </tr>\n",
       "    <tr>\n",
       "      <th>2</th>\n",
       "      <td>first time</td>\n",
       "      <td>735</td>\n",
       "    </tr>\n",
       "    <tr>\n",
       "      <th>3</th>\n",
       "      <td>hour late</td>\n",
       "      <td>694</td>\n",
       "    </tr>\n",
       "    <tr>\n",
       "      <th>4</th>\n",
       "      <td>even though</td>\n",
       "      <td>621</td>\n",
       "    </tr>\n",
       "    <tr>\n",
       "      <th>5</th>\n",
       "      <td>never arrived</td>\n",
       "      <td>597</td>\n",
       "    </tr>\n",
       "    <tr>\n",
       "      <th>6</th>\n",
       "      <td>live chat</td>\n",
       "      <td>493</td>\n",
       "    </tr>\n",
       "    <tr>\n",
       "      <th>7</th>\n",
       "      <td>stone cold</td>\n",
       "      <td>482</td>\n",
       "    </tr>\n",
       "    <tr>\n",
       "      <th>8</th>\n",
       "      <td>48 hour</td>\n",
       "      <td>462</td>\n",
       "    </tr>\n",
       "    <tr>\n",
       "      <th>9</th>\n",
       "      <td>said would</td>\n",
       "      <td>443</td>\n",
       "    </tr>\n",
       "    <tr>\n",
       "      <th>10</th>\n",
       "      <td>item missing</td>\n",
       "      <td>423</td>\n",
       "    </tr>\n",
       "    <tr>\n",
       "      <th>11</th>\n",
       "      <td>could give</td>\n",
       "      <td>404</td>\n",
       "    </tr>\n",
       "    <tr>\n",
       "      <th>12</th>\n",
       "      <td>wrong address</td>\n",
       "      <td>397</td>\n",
       "    </tr>\n",
       "    <tr>\n",
       "      <th>13</th>\n",
       "      <td>bad ever</td>\n",
       "      <td>396</td>\n",
       "    </tr>\n",
       "    <tr>\n",
       "      <th>14</th>\n",
       "      <td>last time</td>\n",
       "      <td>395</td>\n",
       "    </tr>\n",
       "  </tbody>\n",
       "</table>\n",
       "</div>"
      ],
      "text/plain": [
       "           Bigram  Count\n",
       "0    missing item    802\n",
       "1      money back    796\n",
       "2      first time    735\n",
       "3       hour late    694\n",
       "4     even though    621\n",
       "5   never arrived    597\n",
       "6       live chat    493\n",
       "7      stone cold    482\n",
       "8         48 hour    462\n",
       "9      said would    443\n",
       "10   item missing    423\n",
       "11     could give    404\n",
       "12  wrong address    397\n",
       "13       bad ever    396\n",
       "14      last time    395"
      ]
     },
     "execution_count": 138,
     "metadata": {},
     "output_type": "execute_result"
    }
   ],
   "source": [
    "pd.DataFrame(sorted(word_counts.items(), key=lambda item: item[1], reverse=True), columns=['Bigram', 'Count']).head(15)"
   ]
  },
  {
   "cell_type": "markdown",
   "metadata": {},
   "source": [
    "Latent Dirichlet Allocation model requires the number of topics as an input from the user. As we saw above, seems like the reviews are splitted into 3 categories.\n",
    "Therefore, we are going to set this parameter to 3 and attempt to identify these topics in the reviews."
   ]
  },
  {
   "cell_type": "code",
   "execution_count": 139,
   "metadata": {},
   "outputs": [],
   "source": [
    "number_of_topics = 3"
   ]
  },
  {
   "cell_type": "code",
   "execution_count": 140,
   "metadata": {},
   "outputs": [],
   "source": [
    "lda_model = LatentDirichletAllocation(n_components=number_of_topics,\n",
    "                                      max_iter=30,\n",
    "                                      random_state=10,\n",
    "                                      n_jobs=-1,\n",
    "                                      verbose=0)"
   ]
  },
  {
   "cell_type": "code",
   "execution_count": 141,
   "metadata": {},
   "outputs": [
    {
     "data": {
      "text/plain": [
       "LatentDirichletAllocation(batch_size=128, doc_topic_prior=None,\n",
       "                          evaluate_every=-1, learning_decay=0.7,\n",
       "                          learning_method='batch', learning_offset=10.0,\n",
       "                          max_doc_update_iter=100, max_iter=30,\n",
       "                          mean_change_tol=0.001, n_components=3, n_jobs=-1,\n",
       "                          perp_tol=0.1, random_state=10, topic_word_prior=None,\n",
       "                          total_samples=1000000.0, verbose=0)"
      ]
     },
     "execution_count": 141,
     "metadata": {},
     "output_type": "execute_result"
    }
   ],
   "source": [
    "lda_model.fit(cv)"
   ]
  },
  {
   "cell_type": "code",
   "execution_count": 142,
   "metadata": {},
   "outputs": [
    {
     "data": {
      "text/plain": [
       "(3, 6144, 6144, 6144)"
      ]
     },
     "execution_count": 142,
     "metadata": {},
     "output_type": "execute_result"
    }
   ],
   "source": [
    "len(lda_model.components_), len(lda_model.components_[0]), len(lda_model.components_[1]), len(lda_model.components_[2])"
   ]
  },
  {
   "cell_type": "markdown",
   "metadata": {},
   "source": [
    "We can see the weight (parameter) of each word for a specific topic, as follows:"
   ]
  },
  {
   "cell_type": "code",
   "execution_count": 143,
   "metadata": {},
   "outputs": [
    {
     "data": {
      "text/plain": [
       "array([  6.87593497,   3.76987204,   1.58983453, ...,  11.30248626,\n",
       "       226.2676224 ,  43.2867757 ])"
      ]
     },
     "execution_count": 143,
     "metadata": {},
     "output_type": "execute_result"
    }
   ],
   "source": [
    "lda_model.components_[0]"
   ]
  },
  {
   "cell_type": "markdown",
   "metadata": {},
   "source": [
    "The above can be interpreted as a pseudocount of the number of times that word (bigram) $x_i$ was assigned to document topic $z_i$. Hence, the first case in the example we have a pseudocount of 3.08690378 for word $x_1$ on topic 0 (which is the first topic)."
   ]
  },
  {
   "cell_type": "code",
   "execution_count": 144,
   "metadata": {},
   "outputs": [],
   "source": [
    "topic_weights = get_per_topic_wordweights(lda_model,\n",
    "                                          feature_names=vectorizer.get_feature_names(),\n",
    "                                          sort=True)"
   ]
  },
  {
   "cell_type": "code",
   "execution_count": 145,
   "metadata": {},
   "outputs": [
    {
     "data": {
      "text/plain": [
       "[('money back', 600.1189033697958),\n",
       " ('could give', 403.84279064755106),\n",
       " ('wrong address', 397.27074117201863),\n",
       " ('bad ever', 396.25698402629934),\n",
       " ('give star', 325.2449808287744)]"
      ]
     },
     "execution_count": 145,
     "metadata": {},
     "output_type": "execute_result"
    }
   ],
   "source": [
    "# This corresponds to topic 0, and the top 5 bigrams accounting for this topic\n",
    "topic_weights[0][1][0:5]  # [1] is a positional index and should remain same independently of the document"
   ]
  },
  {
   "cell_type": "code",
   "execution_count": 146,
   "metadata": {},
   "outputs": [
    {
     "name": "stdout",
     "output_type": "stream",
     "text": [
      "Topic 1 : [('money back', 600.1189033697958), ('could give', 403.84279064755106), ('wrong address', 397.27074117201863), ('bad ever', 396.25698402629934), ('give star', 325.2449808287744), ('star would', 304.2788505650196), ('even though', 285.6992814186035), ('would give', 276.25905029514064), ('take money', 267.75225559203005), ('bad company', 264.2711013749068), ('never received', 249.867175430323), ('delivered wrong', 242.2580422009729), ('zero star', 226.26762239512794), ('credit card', 215.279839327246), ('give zero', 202.28077561856855)] \n",
      "\n",
      "Topic 2 : [('missing item', 802.2872340322643), ('first time', 735.2477443136034), ('item missing', 413.9915385774688), ('last time', 395.2497853443792), ('bad experience', 377.22246380447433), ('every time', 303.26958380076394), ('second time', 286.22696794574847), ('time ordered', 213.26084611156702), ('late cold', 188.76395145920827), ('time using', 177.26364576907855), ('much good', 169.25660302368965), ('using eats', 161.62599829025163), ('promo code', 161.29351307958817), ('way contact', 159.20853624299082), ('first last', 156.2115951255486)] \n",
      "\n",
      "Topic 3 : [('hour late', 686.6589324460157), ('stone cold', 464.1059041073491), ('48 hour', 462.2093119857376), ('said would', 398.6414061136405), ('minute late', 355.26831642495745), ('live chat', 344.50940148048903), ('called restaurant', 339.2644452572738), ('waited hour', 330.2767009762849), ('10 minute', 317.2724823664959), ('never arrived', 310.51316992078637), ('20 minute', 294.2589589438253), ('said delivered', 283.97082164987114), ('half hour', 278.274391473455), ('30 minute', 268.2810128583025), ('told would', 265.767687204295)] \n",
      "\n"
     ]
    }
   ],
   "source": [
    "show_top_words_per_topic(lda_model, feature_names=vectorizer.get_feature_names(), num_top_words=15)"
   ]
  },
  {
   "cell_type": "markdown",
   "metadata": {},
   "source": [
    "Therefore we can see that the algorithm has identified the following 3 topics:\n",
    "\n",
    "- Topic 1: This appears to be the topic arround orders that were never arrived to their destination \n",
    "- Topic 2: Cases where an item was missing from the order\n",
    "- Topic 3: This topic consists of reviews where the order took a significant amount to be completed "
   ]
  },
  {
   "cell_type": "code",
   "execution_count": 147,
   "metadata": {},
   "outputs": [],
   "source": [
    "topic_to_review_distribution = lda_model.transform(cv)"
   ]
  },
  {
   "cell_type": "code",
   "execution_count": 148,
   "metadata": {},
   "outputs": [],
   "source": [
    "def assign_topic(topic_probs: List[float], threshold=0.65) -> int:\n",
    "    \"\"\" Assign a topic to a review based on the topic with the highest probability.\n",
    "    If no topic probability exceeds threshold, no assignment is being completed.\n",
    "    \"\"\"\n",
    "    max_likelihood = np.max(topic_probs)\n",
    "    if threshold <= max_likelihood:\n",
    "        max_topic_idx = np.argmax(topic_probs)\n",
    "        if max_topic_idx==0:\n",
    "            max_topic_idx = 1\n",
    "        else:\n",
    "            max_topic_idx += 1\n",
    "        return max_topic_idx\n",
    "    else:\n",
    "        return 0"
   ]
  },
  {
   "cell_type": "code",
   "execution_count": 149,
   "metadata": {},
   "outputs": [],
   "source": [
    "topics_map = {0: 'Indecisive',\n",
    "              1: 'Order Never Arrived',\n",
    "              2: 'Missing/Wrong Item',\n",
    "              3: 'Delayed Order' }"
   ]
  },
  {
   "cell_type": "code",
   "execution_count": 150,
   "metadata": {},
   "outputs": [],
   "source": [
    "reviews_df['Topic_Likelihood'] = topic_to_review_distribution.tolist()"
   ]
  },
  {
   "cell_type": "code",
   "execution_count": 151,
   "metadata": {},
   "outputs": [],
   "source": [
    "reviews_df['Topic_Num'] = reviews_df['Topic_Likelihood'].apply(lambda row: assign_topic(row))"
   ]
  },
  {
   "cell_type": "code",
   "execution_count": 152,
   "metadata": {},
   "outputs": [],
   "source": [
    "reviews_df['Topic'] = reviews_df['Topic_Num'].apply(lambda row: topics_map[row])"
   ]
  },
  {
   "cell_type": "code",
   "execution_count": 153,
   "metadata": {},
   "outputs": [
    {
     "name": "stdout",
     "output_type": "stream",
     "text": [
      "                                                                                                Review  \\\n",
      "0  Ordered food and apparently the driver was waiting for 10 mins to deliver the food even though I...   \n",
      "1  I received standard bag of buttons that cost £1.60 but I asked for share bags at £2.85 so I've b...   \n",
      "2  Just had an appalling experience with deliveroo. Had ordered a pizza with a £10 discount code th...   \n",
      "3  The same situation happened twice. I ordered food around 10 pm and been waiting for the food for...   \n",
      "4                                               Driver turned up late couldn’t find us and left. Awful   \n",
      "\n",
      "                 Topic  Topic_Num  \n",
      "0           Indecisive          0  \n",
      "1   Missing/Wrong Item          2  \n",
      "2  Order Never Arrived          1  \n",
      "3           Indecisive          0  \n",
      "4   Missing/Wrong Item          2  \n"
     ]
    }
   ],
   "source": [
    "with pd.option_context('display.max_colwidth', 100):\n",
    "    print(reviews_df[['Review', 'Topic', 'Topic_Num']].head(5))"
   ]
  },
  {
   "cell_type": "code",
   "execution_count": 154,
   "metadata": {},
   "outputs": [],
   "source": [
    "def get_review_summary(input_df: pd.DataFrame,\n",
    "                       rev_idx: int,\n",
    "                       topics_map=topics_map):\n",
    "    \n",
    "    print('\\x1b[1;30m' + 'Review: ' + '\\x1b[0m' + input_df['Review'].iloc[rev_idx] + '\\n')\n",
    "    print('\\x1b[1;30m' + 'Predicted Topic: ' + '\\x1b[0m' + input_df['Topic'].iloc[rev_idx] + '\\n')\n",
    "    print(input_df['Topic_Likelihood'].iloc[rev_idx])\n",
    "    \n",
    "    topic_to_likelihood = list(zip(list(topics_map.keys()),\n",
    "                                   list(topics_map.values()),\n",
    "                                   [0.0] + input_df['Topic_Likelihood'].iloc[rev_idx]))\n",
    "    l_df = pd.DataFrame(topic_to_likelihood, columns = ['Topic_Num', 'Topic', 'Likelihood'])\n",
    "    \n",
    "    plt.figure(figsize=(12, 6))\n",
    "    sns.barplot(x='Topic', y='Likelihood', data=l_df)\n",
    "    plt.ylim(0, 1.0)\n",
    "    plt.grid(True, alpha=0.2, linestyle='-', color='black')\n",
    "    plt.show()"
   ]
  },
  {
   "cell_type": "markdown",
   "metadata": {},
   "source": [
    "We can visualize the results for a few random cases:"
   ]
  },
  {
   "cell_type": "code",
   "execution_count": 159,
   "metadata": {},
   "outputs": [
    {
     "name": "stdout",
     "output_type": "stream",
     "text": [
      "\u001b[1;30mReview: \u001b[0mDo not use Deliveroo for groceries. I ordered a few bits for about £20 and immediately stated that a few of the items were not available so ots basically charged me £8.88 for bacon and milk, due to the small delivery charge (which was not on it before the items weren't available) as well as the normal delivery charge.There is no option for a substitute and was unable to cancel. Spoke to customer services for a refund on my delivery charge and was told no as they have already refunded for the items I didn't get, what a cheek.I will definitely not be using them again, awful customer service and just been ripped off.\n",
      "\n",
      "\u001b[1;30mPredicted Topic: \u001b[0mMissing/Wrong Item\n",
      "\n",
      "[0.031426712161297395, 0.9350349011168902, 0.03353838672181246]\n"
     ]
    },
    {
     "data": {
      "image/png": "[encoded data removed]",
      "text/plain": [
       "<Figure size 864x432 with 1 Axes>"
      ]
     },
     "metadata": {},
     "output_type": "display_data"
    }
   ],
   "source": [
    "get_review_summary(input_df=reviews_df, rev_idx=500, topics_map=topics_map)"
   ]
  },
  {
   "cell_type": "code",
   "execution_count": 174,
   "metadata": {},
   "outputs": [
    {
     "name": "stdout",
     "output_type": "stream",
     "text": [
      "\u001b[1;30mReview: \u001b[0mworse experience ever. They lied about driver being on their way, told to call the restaurant they could not do anything as driver had not been assigned. called again and after waiting for over 20 min they told me to call the restaurant again. Worse deluverybservice ever and worse customer service. that was after waiting for over 2 hours for order that had yet  not arrived\n",
      "\n",
      "\u001b[1;30mPredicted Topic: \u001b[0mDelayed Order\n",
      "\n",
      "[0.023480076415525325, 0.2636387321603187, 0.712881191424156]\n"
     ]
    },
    {
     "data": {
      "image/png": "[encoded data removed]",
      "text/plain": [
       "<Figure size 864x432 with 1 Axes>"
      ]
     },
     "metadata": {},
     "output_type": "display_data"
    }
   ],
   "source": [
    "get_review_summary(input_df=reviews_df, rev_idx=2051, topics_map=topics_map)"
   ]
  },
  {
   "cell_type": "code",
   "execution_count": 181,
   "metadata": {},
   "outputs": [
    {
     "name": "stdout",
     "output_type": "stream",
     "text": [
      "\u001b[1;30mReview: \u001b[0mI am absolutely appalled at the service I received. I ordered food, received a delivery notification that the food was delivered however it was not. The payment was taken from my bank account and I have yet to receive a refund. Uber have advised the delivery driver did not comply with their terms and conditions. Uber should be taking responsibility for their drivers and follow through to establish what happened. The same delivery driver will continue to do the same to numerous other customers this evening, leaving them all out of pocket while se all await a \"refund\" from Uber that has not happened. Disgraceful. I would never use this service again and I would not recommend it to anyone.\n",
      "\n",
      "\u001b[1;30mPredicted Topic: \u001b[0mOrder Never Arrived\n",
      "\n",
      "[0.9497511541863618, 0.02288230832657778, 0.02736653748706039]\n"
     ]
    },
    {
     "data": {
      "image/png": "[encoded data removed]",
      "text/plain": [
       "<Figure size 864x432 with 1 Axes>"
      ]
     },
     "metadata": {},
     "output_type": "display_data"
    }
   ],
   "source": [
    "get_review_summary(input_df=reviews_df, rev_idx=6584, topics_map=topics_map)"
   ]
  },
  {
   "cell_type": "markdown",
   "metadata": {},
   "source": [
    "#### LDA Implementiation with gensim"
   ]
  },
  {
   "cell_type": "code",
   "execution_count": 182,
   "metadata": {},
   "outputs": [],
   "source": [
    "rev = list(reviews_df['Ngrams_combined'])"
   ]
  },
  {
   "cell_type": "code",
   "execution_count": 183,
   "metadata": {},
   "outputs": [],
   "source": [
    "from gensim import corpora, models"
   ]
  },
  {
   "cell_type": "code",
   "execution_count": 184,
   "metadata": {},
   "outputs": [],
   "source": [
    "dictionary_LDA = corpora.Dictionary(rev)\n",
    "dictionary_LDA.filter_extremes(no_below=3)\n",
    "corpus = [dictionary_LDA.doc2bow(list_of_tokens) for list_of_tokens in rev]"
   ]
  },
  {
   "cell_type": "code",
   "execution_count": 185,
   "metadata": {},
   "outputs": [],
   "source": [
    "num_topics = 3"
   ]
  },
  {
   "cell_type": "code",
   "execution_count": 186,
   "metadata": {},
   "outputs": [],
   "source": [
    "lda_model = models.LdaModel(corpus,\n",
    "                            num_topics=num_topics,\n",
    "                            id2word=dictionary_LDA,\n",
    "                            passes=4,\n",
    "                            alpha=[0.01]*num_topics,\n",
    "                            eta=[0.01]*len(dictionary_LDA.keys()))"
   ]
  },
  {
   "cell_type": "code",
   "execution_count": 187,
   "metadata": {},
   "outputs": [
    {
     "name": "stdout",
     "output_type": "stream",
     "text": [
      "0: 0.007*\"bad ever\" + 0.007*\"missing item\" + 0.006*\"money back\" + 0.006*\"bad company\" + 0.006*\"hour late\" + 0.005*\"even though\" + 0.005*\"company ever\" + 0.004*\"late cold\" + 0.004*\"item missing\" + 0.004*\"first time\" + 0.003*\"take money\" + 0.003*\"would recommend\" + 0.003*\"many time\" + 0.003*\"30 min\" + 0.003*\"phone number\"\n",
      "\n",
      "1: 0.010*\"first time\" + 0.009*\"missing item\" + 0.008*\"stone cold\" + 0.006*\"last time\" + 0.005*\"waste time\" + 0.005*\"second time\" + 0.005*\"every time\" + 0.005*\"item missing\" + 0.005*\"go wrong\" + 0.005*\"could give\" + 0.005*\"bad experience\" + 0.005*\"zero star\" + 0.004*\"would give\" + 0.004*\"give zero\" + 0.004*\"hour half\"\n",
      "\n",
      "2: 0.008*\"money back\" + 0.007*\"never arrived\" + 0.006*\"wrong address\" + 0.006*\"live chat\" + 0.005*\"even though\" + 0.005*\"never received\" + 0.005*\"said would\" + 0.005*\"48 hour\" + 0.004*\"delivered wrong\" + 0.004*\"called restaurant\" + 0.004*\"said delivered\" + 0.004*\"hour late\" + 0.004*\"told would\" + 0.003*\"waited hour\" + 0.003*\"minute late\"\n",
      "\n"
     ]
    }
   ],
   "source": [
    "for i,topic in lda_model.show_topics(formatted=True, num_topics=num_topics, num_words=15):\n",
    "    print(str(i)+\": \"+ topic)\n",
    "    print()"
   ]
  },
  {
   "cell_type": "code",
   "execution_count": 188,
   "metadata": {},
   "outputs": [
    {
     "data": {
      "text/plain": [
       "[(0, 0.99668235)]"
      ]
     },
     "execution_count": 188,
     "metadata": {},
     "output_type": "execute_result"
    }
   ],
   "source": [
    "lda_model[corpus[6]]"
   ]
  },
  {
   "cell_type": "code",
   "execution_count": 189,
   "metadata": {},
   "outputs": [
    {
     "data": {
      "text/html": [
       "\n",
       "<link rel=\"stylesheet\" type=\"text/css\" href=\"https://cdn.jsdelivr.net/gh/bmabey/pyLDAvis@3.2.2/pyLDAvis/js/ldavis.v1.0.0.css\">\n",
       "\n",
       "\n",
       "<div id=\"ldavis_el1990820208389559128818872140\"></div>\n",
       "<script type=\"text/javascript\">\n",
       "\n",
       "var ldavis_el1990820208389559128818872140_data = {\"mdsDat\": {\"x\": [-0.13496882178099556, -0.1119031848080429, 0.24687200658903846], \"y\": [-0.2046742948622426, 0.2178327938225663, -0.013158498960323908], \"topics\": [1, 2, 3], \"cluster\": [1, 1, 1], \"Freq\": [39.91099976076986, 30.07816983781958, 30.010830401410566]}, \"tinfo\": {\"Term\": [\"missing item\", \"stone cold\", \"bad company\", \"bad ever\", \"company ever\", \"wrong address\", \"go wrong\", \"first time\", \"delivered wrong\", \"late cold\", \"last time\", \"never received\", \"time using\", \"deleting app\", \"eats app\", \"item missing\", \"zero star\", \"time ordered\", \"second time\", \"give zero\", \"using eats\", \"40 min\", \"email saying\", \"promo code\", \"said delivered\", \"every time\", \"cold inedible\", \"help section\", \"every single\", \"ca even\", \"speak anyone\", \"never app\", \"could anything\", \"charged never\", \"time told\", \"cancelled without\", \"ordered ubereats\", \"payment method\", \"generic response\", \"still business\", \"would refunded\", \"ordered delivered\", \"hour time\", \"account hacked\", \"try contact\", \"need contact\", \"late received\", \"got cancelled\", \"never ordered\", \"15 20\", \"time went\", \"trying find\", \"time app\", \"experience eats\", \"refused help\", \"one day\", \"day still\", \"completely ignored\", \"waited two\", \"could care\", \"delivered wrong\", \"went wrong\", \"working day\", \"wrong house\", \"72 hour\", \"told wait\", \"wish read\", \"delivered contacted\", \"sent message\", \"saying delivered\", \"got notification\", \"different address\", \"wrong address\", \"knock door\", \"10 day\", \"delivered called\", \"email saying\", \"called told\", \"said delivered\", \"marked delivered\", \"never received\", \"48 hour\", \"app said\", \"received email\", \"live chat\", \"never arrived\", \"could find\", \"call back\", \"told would\", \"said could\", \"said would\", \"money back\", \"called restaurant\", \"phone call\", \"sent email\", \"even though\", \"day late\", \"tried call\", \"restaurant said\", \"minute late\", \"waited hour\", \"waiting hour\", \"hour late\", \"never delivered\", \"someone else\", \"20 minute\", \"still waiting\", \"10 minute\", \"could give\", \"never ever\", \"give star\", \"never using\", \"40 min\", \"app ever\", \"numerous time\", \"star possible\", \"app told\", \"charge fee\", \"restaurant already\", \"used app\", \"uber eats\", \"will never\", \"stopped using\", \"restaurant partner\", \"never work\", \"outside door\", \"promotion code\", \"highly recommend\", \"restaurant cancel\", \"big company\", \"eats told\", \"letting know\", \"hour delivered\", \"first one\", \"ever dealt\", \"happy meal\", \"took age\", \"hour since\", \"refused money\", \"never never\", \"time driver\", \"know going\", \"company ever\", \"help section\", \"order never\", \"refunded money\", \"bad company\", \"late cold\", \"bad app\", \"bad ever\", \"used time\", \"would recommend\", \"ever experienced\", \"full price\", \"bank account\", \"stop using\", \"missing item\", \"30 min\", \"one item\", \"credit account\", \"hour late\", \"item missing\", \"money back\", \"even though\", \"full amount\", \"many time\", \"credit card\", \"care customer\", \"take money\", \"using app\", \"first time\", \"absolutely shocking\", \"freezing cold\", \"phone number\", \"never ever\", \"discount code\", \"stone cold\", \"bad experience\", \"arrived cold\", \"said would\", \"deleting app\", \"eats app\", \"cold inedible\", \"ca even\", \"eats never\", \"anyone else\", \"one bad\", \"something go\", \"company need\", \"waited outside\", \"say cancelled\", \"minute drive\", \"taco bell\", \"experience never\", \"response saying\", \"refuse give\", \"would call\", \"deserve star\", \"ice cold\", \"make sense\", \"arrival time\", \"went straight\", \"money time\", \"ordered time\", \"said tried\", \"within hour\", \"leave star\", \"lost money\", \"total waste\", \"hour trying\", \"avoid like\", \"blame restaurant\", \"story short\", \"long story\", \"go wrong\", \"thing go\", \"single time\", \"ordered twice\", \"would delivered\", \"every single\", \"time using\", \"stone cold\", \"zero star\", \"give zero\", \"second time\", \"first time\", \"time ordered\", \"last time\", \"like plague\", \"every time\", \"missing item\", \"star could\", \"take responsibility\", \"would give\", \"waste time\", \"using eats\", \"hour half\", \"took hour\", \"item missing\", \"bad experience\", \"could give\", \"promo code\", \"deleted app\", \"star would\", \"hour late\", \"arrived cold\", \"45 minute\", \"never eats\", \"30 minute\"], \"Freq\": [787.0, 532.0, 323.0, 489.0, 233.0, 406.0, 231.0, 790.0, 270.0, 244.0, 428.0, 371.0, 191.0, 138.0, 137.0, 455.0, 275.0, 218.0, 316.0, 227.0, 264.0, 109.0, 214.0, 290.0, 295.0, 333.0, 106.0, 101.0, 113.0, 97.0, 102.25478338757685, 84.6885756473585, 77.89788582677863, 74.65568575756329, 69.26413969065959, 68.61877078396783, 68.6186080567103, 68.04003868923681, 62.4105557850423, 62.32942145377387, 59.66698161968944, 58.81838116172304, 58.638989153677336, 57.336109667873615, 60.73229410287856, 53.03613434617044, 52.34262405967554, 51.044079036277076, 50.78114507322077, 49.808405907835464, 49.79032099216846, 49.28500108066646, 49.26648715677505, 49.26925352015315, 49.184365366921114, 47.87409288593982, 47.24953457647877, 46.69204208720287, 46.03589989639291, 46.17717304436095, 267.7825548350529, 124.14759824453273, 87.40169022877816, 76.04931897456385, 91.8247428323795, 85.3444404621613, 59.708081347257405, 52.721031503687, 109.37779925151158, 87.9125206769558, 75.14820938926819, 93.0755902775863, 383.11156357229345, 74.52187217501454, 102.6203279815495, 59.98534270567034, 197.6475654323057, 87.63240789318922, 259.074989697561, 180.05365707483872, 311.25200548757346, 293.495029624669, 170.2156256792486, 156.43228671810039, 351.5295757769247, 415.7598587061304, 193.83989553984847, 137.31417131284778, 232.09148188611024, 119.23897490113936, 306.2229048000557, 479.5427896109843, 261.9729254600732, 203.0900821142856, 139.60645101620037, 348.1764179081508, 147.62889001930722, 150.4804041332607, 173.0991230960013, 211.59824718774846, 213.21343356588343, 180.08569955118614, 252.92105903241057, 146.4548128561895, 170.94445147897542, 167.41430552755125, 157.7491200662378, 162.22786237538384, 179.10911410516817, 163.8171751195707, 164.38808151255296, 160.6484020269714, 108.98028528512994, 68.60590624778958, 67.02987346891082, 67.01709699424546, 63.40637717863814, 60.34394762115076, 59.223296940161724, 58.77413027388278, 57.575410427235596, 55.7661456675545, 55.396040406240175, 54.37181531807903, 53.87167653821365, 53.61946379989141, 54.17357928315329, 53.12321036158003, 51.034429559514315, 50.45093152914897, 50.32941566037482, 50.08874745915205, 50.02663773806936, 49.47623479063957, 57.20907901991275, 48.393339372699636, 48.28158424002455, 48.105668015116315, 45.99926381660446, 45.95480257666948, 45.61224867924415, 45.61584972751371, 232.2178453385975, 101.61541690472686, 63.842616862042306, 65.32818863268825, 291.2489488697223, 209.5033024572116, 92.35059420690669, 357.99160250567803, 58.570364455855795, 135.55351304431318, 79.60193568838893, 120.82443406012591, 132.62270570314286, 79.74472895847099, 337.4624165273952, 134.81468496745984, 74.07563657347666, 122.04091944986146, 272.72154437408875, 203.93394127127402, 299.0397666315085, 243.74481199820977, 103.61105542268103, 135.14675067244062, 114.26138422940281, 91.63519524131799, 138.43401719727223, 100.49182295208716, 202.39962713829215, 98.39697165224196, 92.08693727029126, 134.44260637628884, 127.58359051333055, 95.99598665445929, 130.44941175430503, 124.20811502902914, 100.32534972372478, 109.3082482478098, 138.69439505187353, 137.5902359115376, 106.15570029522523, 97.862431861868, 89.22015432092533, 73.72266491733072, 67.80305887221988, 69.93387210246618, 66.10936077781815, 64.69538166411266, 64.13357433411734, 66.58852386351688, 61.729760896114456, 60.524191667195176, 59.779320022186816, 59.5671113609786, 58.635092967730635, 56.08931764188694, 55.68879423383206, 55.234620756426274, 53.97574073394194, 53.85679954245644, 57.0494792396669, 57.25491350895417, 53.738653702403376, 53.18817039699839, 53.04114718186032, 51.52151425129915, 51.17790018489868, 50.73282041093357, 98.32027619203883, 61.54874335961285, 59.427329737204296, 53.5715242255295, 226.2107619951914, 88.2676125235819, 65.4415603551813, 60.940911322601266, 79.00730798635746, 108.82324225680387, 172.3427552280053, 401.16191396007315, 219.66741132252233, 184.10555796173284, 233.46334366965914, 489.5249019127686, 169.48034660358422, 288.03949130661067, 81.64245189133554, 229.88708766799243, 445.61651938214004, 116.73449727907902, 119.39968099585104, 213.72058534796886, 253.0276095565983, 169.82005621749823, 178.02576925051108, 160.51534548561304, 227.17730865202327, 222.57319162855222, 222.7657890369581, 164.73945138132842, 135.06445560946713, 164.90966771166381, 177.38849808670346, 122.6210656493045, 120.28101937334891, 117.82768835630486, 118.26738977477937], \"Total\": [787.0, 532.0, 323.0, 489.0, 233.0, 406.0, 231.0, 790.0, 270.0, 244.0, 428.0, 371.0, 191.0, 138.0, 137.0, 455.0, 275.0, 218.0, 316.0, 227.0, 264.0, 109.0, 214.0, 290.0, 295.0, 333.0, 106.0, 101.0, 113.0, 97.0, 102.27815027812672, 84.71194253790837, 77.9212527173285, 74.67905264811316, 69.28763038911612, 68.6421376745177, 68.64197494726017, 68.06340563817574, 62.43392267559217, 62.35278834432374, 59.69034851023931, 58.84174811337775, 58.66235604422721, 57.35947655842349, 60.758389035018965, 53.05950170760284, 52.36599102898276, 51.06744592682695, 50.80451196377064, 49.83177279838534, 49.813687882718334, 49.308367971216335, 49.28985404732492, 49.29262201115924, 49.20773225747099, 47.89745986611012, 47.272901467028646, 46.715408977752745, 46.05930200641343, 46.200648782264956, 270.66186234020586, 124.63600705050801, 87.49903396731135, 76.12083078109234, 92.11002400099984, 85.58277599205651, 59.807854254544715, 52.75290083969465, 110.43741481176828, 88.68494535738697, 75.67136962125863, 94.46058528407518, 406.3644978144506, 75.57270155815372, 106.19005645820921, 60.39767832673506, 214.06257340680799, 90.34773254021276, 295.69187270504074, 202.00961311617684, 371.3094983548924, 356.5826234154135, 193.53458667558382, 179.91685424417815, 479.4490458052643, 591.1276181298083, 241.50640428940437, 159.18501244481175, 315.7292756112563, 137.48500705616553, 468.5434951593165, 853.1514139030451, 388.61957566496915, 281.99984558102875, 169.9531087298321, 672.5457654497462, 199.51054778726828, 211.39758057798963, 275.699937830723, 391.084433709991, 407.60094650440533, 309.2387875880246, 703.0311014932029, 219.93457133801888, 316.0108185768583, 333.7655162659854, 277.6860416921761, 308.8243603602553, 470.95516667094734, 352.54420791396655, 368.630838905666, 366.3926682496432, 109.0049890664632, 68.6295466349364, 67.05351385605765, 67.04131718483018, 63.430017565784965, 60.36766646002003, 59.24693732730855, 58.79777066102961, 57.59905081438242, 55.789786054701324, 55.419680793387, 54.39556237390445, 53.8954300048409, 53.643108623139504, 54.19759361697096, 53.14750084038088, 51.05806994666114, 50.474571916295794, 50.35305604752165, 50.11238784629888, 50.05027812521619, 49.50017811717779, 57.236861629382474, 48.41697975984646, 48.30522462717138, 48.12930840226314, 46.02290420375129, 45.97845100792874, 45.63588906639098, 45.63949670685666, 233.52874891496722, 101.7705596632215, 63.89437829557908, 65.98681139943767, 323.7384876958041, 244.020246554017, 99.88646076837742, 489.5584876383371, 60.2562196251974, 178.93908908912584, 90.94811018275911, 161.16683664538343, 189.48765241340183, 94.76145001007676, 787.5196924990871, 208.51306914237082, 86.19827662873622, 182.9928129418618, 703.0311014932029, 455.46491697819874, 853.1514139030451, 672.5457654497462, 157.5176524441705, 258.546383500994, 191.99929846475408, 131.34698408664534, 320.36421395547666, 166.34141800074948, 790.6294173155034, 160.89377401549874, 139.2397066057583, 349.06680752729, 352.54420791396655, 174.67485464046112, 532.5440319518764, 462.5692284511523, 222.96697582802602, 468.5434951593165, 138.71791766098937, 137.6137585116243, 106.17922289531192, 97.8859544619547, 89.24367692101202, 73.74622090005327, 67.82663532983585, 69.95846281313298, 66.13289178315631, 64.71890426419935, 64.15709693420403, 66.61402493313417, 61.75359746045174, 60.54771426728186, 59.8028426222735, 59.590633961065286, 58.65861556781732, 56.11284024197363, 55.71231683391875, 55.25814335651296, 53.999267132599144, 53.880325262120294, 57.07443471214821, 57.28000799309478, 53.76221287422767, 53.21169299708507, 53.064669781947, 51.54503685138584, 51.20142278498537, 50.756343011020256, 98.4728396536631, 61.584698931176355, 59.45703539250189, 53.59786721501443, 231.80719038669685, 89.04619341104552, 65.80538256833687, 61.20008590692848, 80.52041985876612, 113.2962124601756, 191.55864939902074, 532.5440319518764, 275.85935277808113, 227.1162076177028, 316.89667463970164, 790.6294173155034, 218.41974409286593, 428.3981026239909, 88.38291509269752, 333.1260395504671, 787.5196924990871, 141.38500522996011, 150.07877725065617, 356.970431608324, 463.6540765225499, 264.6708646838366, 295.02217952096146, 260.12802359582975, 455.46491697819874, 462.5692284511523, 470.95516667094734, 290.86294010992845, 221.2768366961816, 343.0320560539768, 703.0311014932029, 222.96697582802602, 234.4466606317547, 204.4985900364415, 301.79719933703626], \"Category\": [\"Default\", \"Default\", \"Default\", \"Default\", \"Default\", \"Default\", \"Default\", \"Default\", \"Default\", \"Default\", \"Default\", \"Default\", \"Default\", \"Default\", \"Default\", \"Default\", \"Default\", \"Default\", \"Default\", \"Default\", \"Default\", \"Default\", \"Default\", \"Default\", \"Default\", \"Default\", \"Default\", \"Default\", \"Default\", \"Default\", \"Topic1\", \"Topic1\", \"Topic1\", \"Topic1\", \"Topic1\", \"Topic1\", \"Topic1\", \"Topic1\", \"Topic1\", \"Topic1\", \"Topic1\", \"Topic1\", \"Topic1\", \"Topic1\", \"Topic1\", \"Topic1\", \"Topic1\", \"Topic1\", \"Topic1\", \"Topic1\", \"Topic1\", \"Topic1\", \"Topic1\", \"Topic1\", \"Topic1\", \"Topic1\", \"Topic1\", \"Topic1\", \"Topic1\", \"Topic1\", \"Topic1\", \"Topic1\", \"Topic1\", \"Topic1\", \"Topic1\", \"Topic1\", \"Topic1\", \"Topic1\", \"Topic1\", \"Topic1\", \"Topic1\", \"Topic1\", \"Topic1\", \"Topic1\", \"Topic1\", \"Topic1\", \"Topic1\", \"Topic1\", \"Topic1\", \"Topic1\", \"Topic1\", \"Topic1\", \"Topic1\", \"Topic1\", \"Topic1\", \"Topic1\", \"Topic1\", \"Topic1\", \"Topic1\", \"Topic1\", \"Topic1\", \"Topic1\", \"Topic1\", \"Topic1\", \"Topic1\", \"Topic1\", \"Topic1\", \"Topic1\", \"Topic1\", \"Topic1\", \"Topic1\", \"Topic1\", \"Topic1\", \"Topic1\", \"Topic1\", \"Topic1\", \"Topic1\", \"Topic1\", \"Topic1\", \"Topic1\", \"Topic1\", \"Topic1\", \"Topic2\", \"Topic2\", \"Topic2\", \"Topic2\", \"Topic2\", \"Topic2\", \"Topic2\", \"Topic2\", \"Topic2\", \"Topic2\", \"Topic2\", \"Topic2\", \"Topic2\", \"Topic2\", \"Topic2\", \"Topic2\", \"Topic2\", \"Topic2\", \"Topic2\", \"Topic2\", \"Topic2\", \"Topic2\", \"Topic2\", \"Topic2\", \"Topic2\", \"Topic2\", \"Topic2\", \"Topic2\", \"Topic2\", \"Topic2\", \"Topic2\", \"Topic2\", \"Topic2\", \"Topic2\", \"Topic2\", \"Topic2\", \"Topic2\", \"Topic2\", \"Topic2\", \"Topic2\", \"Topic2\", \"Topic2\", \"Topic2\", \"Topic2\", \"Topic2\", \"Topic2\", \"Topic2\", \"Topic2\", \"Topic2\", \"Topic2\", \"Topic2\", \"Topic2\", \"Topic2\", \"Topic2\", \"Topic2\", \"Topic2\", \"Topic2\", \"Topic2\", \"Topic2\", \"Topic2\", \"Topic2\", \"Topic2\", \"Topic2\", \"Topic2\", \"Topic2\", \"Topic2\", \"Topic2\", \"Topic2\", \"Topic3\", \"Topic3\", \"Topic3\", \"Topic3\", \"Topic3\", \"Topic3\", \"Topic3\", \"Topic3\", \"Topic3\", \"Topic3\", \"Topic3\", \"Topic3\", \"Topic3\", \"Topic3\", \"Topic3\", \"Topic3\", \"Topic3\", \"Topic3\", \"Topic3\", \"Topic3\", \"Topic3\", \"Topic3\", \"Topic3\", \"Topic3\", \"Topic3\", \"Topic3\", \"Topic3\", \"Topic3\", \"Topic3\", \"Topic3\", \"Topic3\", \"Topic3\", \"Topic3\", \"Topic3\", \"Topic3\", \"Topic3\", \"Topic3\", \"Topic3\", \"Topic3\", \"Topic3\", \"Topic3\", \"Topic3\", \"Topic3\", \"Topic3\", \"Topic3\", \"Topic3\", \"Topic3\", \"Topic3\", \"Topic3\", \"Topic3\", \"Topic3\", \"Topic3\", \"Topic3\", \"Topic3\", \"Topic3\", \"Topic3\", \"Topic3\", \"Topic3\", \"Topic3\", \"Topic3\", \"Topic3\", \"Topic3\", \"Topic3\", \"Topic3\", \"Topic3\", \"Topic3\", \"Topic3\", \"Topic3\", \"Topic3\"], \"logprob\": [30.0, 29.0, 28.0, 27.0, 26.0, 25.0, 24.0, 23.0, 22.0, 21.0, 20.0, 19.0, 18.0, 17.0, 16.0, 15.0, 14.0, 13.0, 12.0, 11.0, 10.0, 9.0, 8.0, 7.0, 6.0, 5.0, 4.0, 3.0, 2.0, 1.0, -6.4319, -6.6204, -6.704, -6.7465, -6.8215, -6.8308, -6.8308, -6.8393, -6.9256, -6.9269, -6.9706, -6.9849, -6.988, -7.0104, -6.9529, -7.0884, -7.1016, -7.1267, -7.1319, -7.1512, -7.1516, -7.1618, -7.1621, -7.1621, -7.1638, -7.1908, -7.2039, -7.2158, -7.23, -7.2269, -5.4692, -6.2379, -6.5889, -6.728, -6.5395, -6.6127, -6.9699, -7.0944, -6.3646, -6.583, -6.7399, -6.526, -5.1111, -6.7483, -6.4283, -6.9653, -5.7729, -6.5862, -5.5023, -5.8661, -5.3188, -5.3775, -5.9223, -6.0068, -5.1971, -5.0293, -5.7923, -6.1371, -5.6122, -6.2782, -5.3351, -4.8865, -5.4911, -5.7457, -6.1206, -5.2067, -6.0647, -6.0455, -5.9055, -5.7047, -5.6971, -5.8659, -5.5263, -6.0727, -5.918, -5.9389, -5.9984, -5.9704, -5.8714, -5.9606, -5.9571, -5.9802, -6.0854, -6.5481, -6.5714, -6.5716, -6.627, -6.6765, -6.6952, -6.7028, -6.7234, -6.7554, -6.762, -6.7807, -6.7899, -6.7946, -6.7843, -6.8039, -6.844, -6.8555, -6.8579, -6.8627, -6.864, -6.875, -6.7298, -6.8972, -6.8995, -6.9031, -6.9479, -6.9489, -6.9564, -6.9563, -5.3289, -6.1553, -6.6201, -6.5971, -5.1023, -5.4318, -6.2509, -4.896, -6.7063, -5.8672, -6.3995, -5.9822, -5.889, -6.3977, -4.9551, -5.8726, -6.4714, -5.9722, -5.1681, -5.4587, -5.076, -5.2804, -6.1359, -5.8702, -6.038, -6.2587, -5.8461, -6.1665, -5.4663, -6.1875, -6.2538, -5.8754, -5.9278, -6.2122, -5.9055, -5.9546, -6.1681, -6.0824, -5.842, -5.85, -6.1094, -6.1907, -6.2832, -6.474, -6.5577, -6.5267, -6.583, -6.6046, -6.6133, -6.5758, -6.6515, -6.6712, -6.6836, -6.6872, -6.703, -6.7473, -6.7545, -6.7627, -6.7858, -6.788, -6.7304, -6.7268, -6.7902, -6.8004, -6.8032, -6.8323, -6.839, -6.8477, -6.1861, -6.6545, -6.6895, -6.7933, -5.3528, -6.2939, -6.5931, -6.6644, -6.4047, -6.0846, -5.6248, -4.7799, -5.3822, -5.5588, -5.3213, -4.5809, -5.6415, -5.1112, -6.3719, -5.3367, -4.6748, -6.0144, -5.9918, -5.4096, -5.2408, -5.6395, -5.5924, -5.6959, -5.3486, -5.369, -5.3682, -5.6699, -5.8685, -5.6689, -5.5959, -5.9652, -5.9845, -6.0051, -6.0013], \"loglift\": [30.0, 29.0, 28.0, 27.0, 26.0, 25.0, 24.0, 23.0, 22.0, 21.0, 20.0, 19.0, 18.0, 17.0, 16.0, 15.0, 14.0, 13.0, 12.0, 11.0, 10.0, 9.0, 8.0, 7.0, 6.0, 5.0, 4.0, 3.0, 2.0, 1.0, 0.9183, 0.9182, 0.9182, 0.9182, 0.9182, 0.9182, 0.9182, 0.9182, 0.9181, 0.9181, 0.9181, 0.9181, 0.9181, 0.9181, 0.9181, 0.9181, 0.9181, 0.9181, 0.9181, 0.918, 0.918, 0.918, 0.918, 0.918, 0.918, 0.918, 0.918, 0.918, 0.918, 0.918, 0.9078, 0.9146, 0.9174, 0.9176, 0.9154, 0.9157, 0.9168, 0.9179, 0.9089, 0.9098, 0.9116, 0.9037, 0.8596, 0.9045, 0.8843, 0.9117, 0.8387, 0.888, 0.7863, 0.8035, 0.7421, 0.7238, 0.7901, 0.7786, 0.6082, 0.5666, 0.6987, 0.7707, 0.6108, 0.7761, 0.4932, 0.3424, 0.5242, 0.5903, 0.7218, 0.2602, 0.6174, 0.5786, 0.4531, 0.3043, 0.2705, 0.3778, -0.1038, 0.5119, 0.3041, 0.2286, 0.353, 0.2747, -0.0482, 0.1521, 0.111, 0.094, 1.2011, 1.201, 1.201, 1.201, 1.201, 1.201, 1.201, 1.201, 1.201, 1.2009, 1.2009, 1.2009, 1.2009, 1.2009, 1.2009, 1.2009, 1.2009, 1.2009, 1.2009, 1.2009, 1.2009, 1.2009, 1.2009, 1.2009, 1.2009, 1.2009, 1.2009, 1.2009, 1.2009, 1.2009, 1.1957, 1.1998, 1.2006, 1.1913, 1.0956, 1.0489, 1.1229, 0.8884, 1.173, 0.9237, 1.0681, 0.9133, 0.8446, 1.0288, 0.3539, 0.7653, 1.0498, 0.7963, 0.2544, 0.3978, 0.153, 0.1864, 0.7825, 0.5527, 0.6824, 0.8413, 0.3623, 0.6974, -0.1612, 0.7096, 0.7879, 0.2472, 0.185, 0.6028, -0.2053, -0.1135, 0.4028, -0.2541, 1.2034, 1.2034, 1.2034, 1.2034, 1.2033, 1.2033, 1.2033, 1.2033, 1.2033, 1.2032, 1.2032, 1.2032, 1.2032, 1.2032, 1.2032, 1.2032, 1.2032, 1.2032, 1.2032, 1.2032, 1.2032, 1.2032, 1.2032, 1.2032, 1.2032, 1.2032, 1.2032, 1.2032, 1.2032, 1.2031, 1.2021, 1.203, 1.2031, 1.2031, 1.1792, 1.1948, 1.1981, 1.1994, 1.1846, 1.1633, 1.0979, 0.9203, 0.9758, 0.9937, 0.8981, 0.7242, 0.9499, 0.8067, 1.1243, 0.8327, 0.6342, 1.012, 0.9749, 0.6906, 0.598, 0.7599, 0.6985, 0.7208, 0.508, 0.4721, 0.455, 0.6351, 0.7099, 0.4712, -0.1734, 0.6057, 0.5362, 0.6523, 0.2668]}, \"token.table\": {\"Topic\": [1, 2, 3, 1, 2, 3, 1, 1, 2, 3, 1, 2, 3, 1, 2, 3, 2, 1, 2, 3, 1, 2, 3, 1, 1, 2, 3, 1, 3, 2, 1, 2, 3, 2, 3, 2, 3, 3, 1, 2, 1, 2, 3, 1, 2, 3, 1, 2, 3, 1, 2, 2, 3, 3, 1, 2, 3, 1, 2, 3, 1, 3, 1, 1, 2, 3, 2, 1, 3, 1, 2, 3, 1, 1, 1, 1, 2, 3, 1, 2, 3, 1, 2, 3, 1, 2, 3, 1, 2, 3, 1, 1, 2, 3, 3, 1, 1, 1, 2, 3, 3, 1, 2, 1, 2, 3, 3, 3, 2, 1, 2, 3, 1, 2, 3, 2, 1, 2, 1, 3, 1, 2, 3, 1, 3, 2, 1, 2, 3, 1, 2, 3, 1, 2, 3, 2, 3, 1, 1, 2, 3, 1, 2, 3, 2, 3, 1, 1, 3, 2, 2, 2, 2, 1, 2, 3, 1, 2, 3, 2, 1, 3, 3, 1, 2, 3, 1, 3, 2, 1, 2, 3, 1, 2, 1, 3, 2, 2, 3, 1, 2, 3, 3, 3, 3, 1, 2, 3, 1, 2, 3, 3, 1, 2, 3, 1, 2, 3, 1, 2, 3, 3, 1, 1, 1, 2, 3, 1, 2, 3, 2, 3, 1, 2, 3, 2, 1, 1, 3, 1, 2, 3, 2, 2, 3, 1, 1, 2, 3, 2, 1, 3, 3, 1, 2, 1, 1, 2, 3, 1, 2, 3, 1, 3, 2, 1, 2, 3, 2, 3, 3, 1, 2, 3, 2, 2, 2, 1, 2, 3, 1, 2, 3, 1, 2, 3, 3, 1, 2, 3, 3, 1, 3, 1, 2, 3, 1, 2, 3, 1, 3, 3, 1, 2, 3, 3, 1, 1, 3, 2, 1, 2, 3, 1, 1, 2, 3, 1, 2, 3, 1, 2, 2, 3, 3, 1, 2, 3, 1, 3, 2, 3, 1, 2, 1, 3, 1, 1, 2, 3, 1, 1, 1, 2, 3, 2, 1, 2, 3, 3, 1, 2, 3, 1, 1, 2, 2, 1, 2, 1, 2, 3, 1, 3, 1, 2, 3, 3, 1, 1, 2, 3, 1, 2, 3, 3, 1, 2, 1, 3, 1, 3, 2, 3, 1, 2, 3, 1, 2, 3, 1, 1, 2, 3, 1, 1, 2, 3], \"Freq\": [0.9699589908452054, 0.028251232743064236, 0.009417077581021413, 0.5245700171159453, 0.10685685533843331, 0.369141863896406, 1.0033759024045823, 0.5003512701621154, 0.23669311582519234, 0.2606620389467308, 0.17744691089236586, 0.6474414316343079, 0.17744691089236586, 0.3214078865313587, 0.28827305286833205, 0.39099103722371475, 0.9999542308429556, 0.17914522598370206, 0.31137146420976786, 0.5118435028105773, 0.8216889460108642, 0.09534957052685795, 0.08132757486114356, 0.998805515445326, 0.3169793257201315, 0.6090975278543703, 0.06836808986120482, 0.9937329177323063, 1.0034412488782396, 1.0053978699150405, 0.8783959648771507, 0.10334070175025302, 0.015501105262537953, 0.9932205983493702, 1.0000135718027257, 0.44849691138623954, 0.5516512010050746, 0.9951982733987755, 0.08009093463178027, 0.921045748265473, 0.09575630077424922, 0.8988736621066621, 0.0030889129282015877, 0.2614600772575317, 0.731271153579659, 0.008170627414297865, 0.2507732742802836, 0.2680679828513377, 0.48209000141813146, 0.3008111572127355, 0.7018927001630495, 0.9905978020559977, 1.0067435755314442, 1.0011650858253585, 0.8606337864093636, 0.1256399688188852, 0.00628199844094426, 0.6741811694680854, 0.16211226594079917, 0.16468547651128804, 0.9740144829958205, 0.03320503919303933, 1.0052134496040783, 0.1294281716341934, 0.7004348111968113, 0.17510870279920282, 0.9939095465904164, 1.004297689117712, 0.9983120718872784, 0.004282128023407179, 0.9934537014304655, 0.9979905342171933, 1.0060920160708169, 1.0010106008300093, 0.9956570137529761, 0.8032913270801878, 0.03726609249341077, 0.16148640080478002, 0.3800786415940647, 0.14651076128486293, 0.4735057937177454, 0.30055825207448944, 0.6666928500561402, 0.03278817295358067, 0.19270903745928117, 0.5937521694691366, 0.2135424469143386, 0.7418154159839593, 0.1102698591327507, 0.15036798972647822, 0.994227105623737, 0.11298064620439961, 0.280192002586911, 0.6100954895037579, 1.0020334960599684, 0.9934156686522994, 1.0046840866828581, 0.9901653586612064, 0.007389293721352286, 0.003694646860676143, 0.9979890477565022, 0.9845376219120101, 0.010586426042064626, 0.09732368196322046, 0.5495925569687743, 0.3492202705739087, 1.002806706920537, 0.9972695329302972, 0.9929883888837165, 0.9249631864591181, 0.07474449991588833, 0.004671531244743021, 0.5174369059736548, 0.36280058924589587, 0.12043790052835067, 0.995861729266077, 0.1209480876281611, 0.8796224554775353, 0.03530568156818153, 0.9620798227329467, 0.14108773983391865, 0.1681045410787116, 0.6904293651447083, 0.9940635738327535, 1.0074699059773184, 0.9898954279317186, 0.1252166917038627, 0.25549264367858854, 0.6197593831807346, 0.10772789145894157, 0.6607310676148417, 0.23700136120967147, 0.04443946371331958, 0.6602434608836052, 0.29837925636086005, 0.7507748027979055, 0.24819001745385308, 0.9930498892749885, 0.44488952819806865, 0.2522849153806121, 0.30111425384137575, 0.14970309850026678, 0.03962729077948238, 0.810157944824973, 0.025883580185717712, 0.9749481869953672, 0.9986792774613481, 0.9911278251653315, 0.013215037668871086, 0.9913877370725162, 1.0022544863420007, 0.9972246890625418, 0.9989954476358672, 0.17964751018400746, 0.21693284248634861, 0.6033444681651571, 0.359870280934429, 0.3883185244865578, 0.25176695543633965, 0.9973133126870973, 1.005755717610766, 1.0048005229400951, 1.005163726486889, 0.05269341085418613, 0.4478939922605821, 0.4983918443291771, 0.992421846164742, 0.013232291282196561, 1.0078989322660339, 0.29411894970644026, 0.032679883300715584, 0.6722718850432919, 0.14343072140225996, 0.8605843284135598, 0.9930109022708995, 0.9987813024708767, 0.997757284154098, 0.07920082736192034, 0.9277811205253526, 0.7341760361808506, 0.047971729636816944, 0.2190013744289469, 1.0075027758730093, 1.00882651708885, 0.9953284106046149, 0.17791778549408002, 0.5221500226456696, 0.29781890180530785, 0.8910467042797662, 0.01485077840466277, 0.09405492989619754, 1.0057942012549648, 0.5420824295891276, 0.15853354072889578, 0.29916813331098074, 0.005079238066170183, 0.42792580707483785, 0.5663350443779753, 0.5626199431635107, 0.35046533959560355, 0.08790936611929855, 0.9986958309351005, 0.9988785852545179, 1.0034004350916959, 0.7037397462770023, 0.14886802325090434, 0.1471763411685077, 0.6638337898029303, 0.10457655592785887, 0.22734033897360625, 0.42543080607302314, 0.5770210932944452, 0.4651898863135539, 0.36307503322033474, 0.17302794551906578, 1.0004686759035781, 1.003847847930687, 0.8375762036196299, 0.16159026436391574, 0.4394192732325691, 0.25655535207367386, 0.3029536604274234, 1.0019402386278338, 0.9992019231658384, 1.0025559969077205, 1.0021408261351754, 0.0580058000641411, 0.8584858409492883, 0.08120812008979754, 1.0016530672531518, 1.0026894491019764, 0.9951115929814721, 0.9967306270250541, 1.0052158326303244, 1.006653070376062, 0.9990684327711604, 0.7198585502121162, 0.13829794807030804, 0.14184404930288003, 0.31226114213531575, 0.3838806701480028, 0.30366679877379327, 0.433193723313048, 0.5672774948147058, 0.9963541994434769, 0.8670671830904799, 0.022232491874114867, 0.11116245937057434, 0.9850453237774408, 0.015154543442729857, 1.006869637252092, 0.9957784631003912, 0.9995023303255726, 1.0032967894013296, 0.9958320659522981, 0.9988626685904538, 0.9927280396296774, 0.6274937940182644, 0.19586511489587444, 0.1777294561092194, 0.8655489245557225, 0.08728224449301404, 0.04364112224650702, 0.8759117984225366, 0.0338189883560825, 0.09131126856142274, 1.004422941561736, 0.6530877136517547, 0.2326358195687623, 0.11311649942334313, 0.9975513709049968, 0.9922766445350252, 0.011275870960625286, 0.13253531311981187, 0.129379710426483, 0.7352554275456229, 0.823756629380358, 0.17651927772436243, 0.005883975924145414, 0.9869843493328938, 0.009054902287457742, 0.9877611445005962, 0.541120714696071, 0.21834695505280058, 0.240498095420476, 1.0005937407026504, 0.9972804525954924, 0.17682214573842508, 0.8275276420558294, 0.9993837056524968, 0.40229476389893254, 0.11952235739026257, 0.48100460900959324, 0.9943420598550369, 0.5689879082044321, 0.27008919693248357, 0.16205351815949015, 0.001877779000423322, 0.24411127005503183, 0.7529893791697521, 0.15829221691315326, 0.8442251568701508, 0.9924272246361066, 0.992313182292309, 1.0039900920704428, 0.4120310392044756, 0.430759722804679, 0.15607236333502864, 0.20655818609332693, 0.7929169079066422, 0.011230126316392964, 0.9882511158425807, 0.9941193973297907, 1.0079786094027732, 0.22433869338829818, 0.773739575155559, 0.9958487483624306, 0.08874566642296917, 0.010440666637996374, 0.8978973308676882, 1.0037401791595981, 0.9931904990776345, 0.7348067408410093, 0.1520289808636571, 0.11402173564774282, 0.9936813330332867, 0.08072947969892108, 0.29985235316742115, 0.6189260110250616, 0.9960660705498122, 0.7095634660996577, 0.07568676971729682, 0.2128690398298973, 1.0039765860948318, 0.993746133082394, 1.0069610380717846, 1.0034394048736346, 0.03319159436885181, 0.9791520338811284, 0.21642234647679748, 0.6011731846577707, 0.17434022355075351, 0.35893637221264435, 0.6423071923805215, 0.5225699347037652, 0.21589743781188422, 0.26251165733945014, 1.0043433327402012, 0.998712485777462, 0.5820744590416658, 0.14875236175509235, 0.26840100055810145, 0.2609704219738811, 0.19195345087335056, 0.5456654277635696, 1.0022211212960854, 0.9948970841929309, 1.00376796471477, 1.0032127175911965, 0.996021682732465, 0.9942966916926445, 1.0058198515065189, 0.024838419912713152, 0.9811175865521695, 0.2829365993842859, 0.12045815617350786, 0.5994894283983879, 0.22912824810222854, 0.7600351644366605, 0.01117698771230383, 1.0051876307893826, 0.9425035948265367, 0.004921689790216901, 0.05413858769238592, 0.998412645003313, 0.11962617786081484, 0.0833758209332952, 0.7975078524054323], \"Term\": [\"10 day\", \"10 day\", \"10 day\", \"10 minute\", \"10 minute\", \"10 minute\", \"15 20\", \"20 minute\", \"20 minute\", \"20 minute\", \"30 min\", \"30 min\", \"30 min\", \"30 minute\", \"30 minute\", \"30 minute\", \"40 min\", \"45 minute\", \"45 minute\", \"45 minute\", \"48 hour\", \"48 hour\", \"48 hour\", \"72 hour\", \"absolutely shocking\", \"absolutely shocking\", \"absolutely shocking\", \"account hacked\", \"anyone else\", \"app ever\", \"app said\", \"app said\", \"app said\", \"app told\", \"arrival time\", \"arrived cold\", \"arrived cold\", \"avoid like\", \"bad app\", \"bad app\", \"bad company\", \"bad company\", \"bad company\", \"bad ever\", \"bad ever\", \"bad ever\", \"bad experience\", \"bad experience\", \"bad experience\", \"bank account\", \"bank account\", \"big company\", \"blame restaurant\", \"ca even\", \"call back\", \"call back\", \"call back\", \"called restaurant\", \"called restaurant\", \"called restaurant\", \"called told\", \"called told\", \"cancelled without\", \"care customer\", \"care customer\", \"care customer\", \"charge fee\", \"charged never\", \"cold inedible\", \"company ever\", \"company ever\", \"company need\", \"completely ignored\", \"could anything\", \"could care\", \"could find\", \"could find\", \"could find\", \"could give\", \"could give\", \"could give\", \"credit account\", \"credit account\", \"credit account\", \"credit card\", \"credit card\", \"credit card\", \"day late\", \"day late\", \"day late\", \"day still\", \"deleted app\", \"deleted app\", \"deleted app\", \"deleting app\", \"delivered called\", \"delivered contacted\", \"delivered wrong\", \"delivered wrong\", \"delivered wrong\", \"deserve star\", \"different address\", \"different address\", \"discount code\", \"discount code\", \"discount code\", \"eats app\", \"eats never\", \"eats told\", \"email saying\", \"email saying\", \"email saying\", \"even though\", \"even though\", \"even though\", \"ever dealt\", \"ever experienced\", \"ever experienced\", \"every single\", \"every single\", \"every time\", \"every time\", \"every time\", \"experience eats\", \"experience never\", \"first one\", \"first time\", \"first time\", \"first time\", \"freezing cold\", \"freezing cold\", \"freezing cold\", \"full amount\", \"full amount\", \"full amount\", \"full price\", \"full price\", \"generic response\", \"give star\", \"give star\", \"give star\", \"give zero\", \"give zero\", \"give zero\", \"go wrong\", \"go wrong\", \"got cancelled\", \"got notification\", \"got notification\", \"happy meal\", \"help section\", \"highly recommend\", \"hour delivered\", \"hour half\", \"hour half\", \"hour half\", \"hour late\", \"hour late\", \"hour late\", \"hour since\", \"hour time\", \"hour trying\", \"ice cold\", \"item missing\", \"item missing\", \"item missing\", \"knock door\", \"knock door\", \"know going\", \"last time\", \"last time\", \"last time\", \"late cold\", \"late cold\", \"late received\", \"leave star\", \"letting know\", \"like plague\", \"like plague\", \"live chat\", \"live chat\", \"live chat\", \"long story\", \"lost money\", \"make sense\", \"many time\", \"many time\", \"many time\", \"marked delivered\", \"marked delivered\", \"marked delivered\", \"minute drive\", \"minute late\", \"minute late\", \"minute late\", \"missing item\", \"missing item\", \"missing item\", \"money back\", \"money back\", \"money back\", \"money time\", \"need contact\", \"never app\", \"never arrived\", \"never arrived\", \"never arrived\", \"never delivered\", \"never delivered\", \"never delivered\", \"never eats\", \"never eats\", \"never ever\", \"never ever\", \"never ever\", \"never never\", \"never ordered\", \"never received\", \"never received\", \"never using\", \"never using\", \"never using\", \"never work\", \"numerous time\", \"one bad\", \"one day\", \"one item\", \"one item\", \"one item\", \"order never\", \"ordered delivered\", \"ordered time\", \"ordered twice\", \"ordered ubereats\", \"outside door\", \"payment method\", \"phone call\", \"phone call\", \"phone call\", \"phone number\", \"phone number\", \"phone number\", \"promo code\", \"promo code\", \"promotion code\", \"received email\", \"received email\", \"received email\", \"refunded money\", \"refunded money\", \"refuse give\", \"refused help\", \"refused money\", \"response saying\", \"restaurant already\", \"restaurant cancel\", \"restaurant partner\", \"restaurant said\", \"restaurant said\", \"restaurant said\", \"said could\", \"said could\", \"said could\", \"said delivered\", \"said delivered\", \"said delivered\", \"said tried\", \"said would\", \"said would\", \"said would\", \"say cancelled\", \"saying delivered\", \"saying delivered\", \"second time\", \"second time\", \"second time\", \"sent email\", \"sent email\", \"sent email\", \"sent message\", \"sent message\", \"single time\", \"someone else\", \"someone else\", \"someone else\", \"something go\", \"speak anyone\", \"star could\", \"star could\", \"star possible\", \"star would\", \"star would\", \"star would\", \"still business\", \"still waiting\", \"still waiting\", \"still waiting\", \"stone cold\", \"stone cold\", \"stone cold\", \"stop using\", \"stop using\", \"stopped using\", \"story short\", \"taco bell\", \"take money\", \"take money\", \"take money\", \"take responsibility\", \"take responsibility\", \"thing go\", \"thing go\", \"time app\", \"time driver\", \"time ordered\", \"time ordered\", \"time told\", \"time using\", \"time using\", \"time using\", \"time went\", \"told wait\", \"told would\", \"told would\", \"told would\", \"took age\", \"took hour\", \"took hour\", \"took hour\", \"total waste\", \"tried call\", \"tried call\", \"tried call\", \"try contact\", \"trying find\", \"uber eats\", \"used app\", \"used time\", \"used time\", \"using app\", \"using app\", \"using app\", \"using eats\", \"using eats\", \"waited hour\", \"waited hour\", \"waited hour\", \"waited outside\", \"waited two\", \"waiting hour\", \"waiting hour\", \"waiting hour\", \"waste time\", \"waste time\", \"waste time\", \"went straight\", \"went wrong\", \"will never\", \"wish read\", \"within hour\", \"working day\", \"would call\", \"would delivered\", \"would delivered\", \"would give\", \"would give\", \"would give\", \"would recommend\", \"would recommend\", \"would recommend\", \"would refunded\", \"wrong address\", \"wrong address\", \"wrong address\", \"wrong house\", \"zero star\", \"zero star\", \"zero star\"]}, \"R\": 30, \"lambda.step\": 0.01, \"plot.opts\": {\"xlab\": \"PC1\", \"ylab\": \"PC2\"}, \"topic.order\": [3, 1, 2]};\n",
       "\n",
       "function LDAvis_load_lib(url, callback){\n",
       "  var s = document.createElement('script');\n",
       "  s.src = url;\n",
       "  s.async = true;\n",
       "  s.onreadystatechange = s.onload = callback;\n",
       "  s.onerror = function(){console.warn(\"failed to load library \" + url);};\n",
       "  document.getElementsByTagName(\"head\")[0].appendChild(s);\n",
       "}\n",
       "\n",
       "if(typeof(LDAvis) !== \"undefined\"){\n",
       "   // already loaded: just create the visualization\n",
       "   !function(LDAvis){\n",
       "       new LDAvis(\"#\" + \"ldavis_el1990820208389559128818872140\", ldavis_el1990820208389559128818872140_data);\n",
       "   }(LDAvis);\n",
       "}else if(typeof define === \"function\" && define.amd){\n",
       "   // require.js is available: use it to load d3/LDAvis\n",
       "   require.config({paths: {d3: \"https://d3js.org/d3.v5\"}});\n",
       "   require([\"d3\"], function(d3){\n",
       "      window.d3 = d3;\n",
       "      LDAvis_load_lib(\"https://cdn.jsdelivr.net/gh/bmabey/pyLDAvis@3.2.2/pyLDAvis/js/ldavis.v3.0.0.js\", function(){\n",
       "        new LDAvis(\"#\" + \"ldavis_el1990820208389559128818872140\", ldavis_el1990820208389559128818872140_data);\n",
       "      });\n",
       "    });\n",
       "}else{\n",
       "    // require.js not available: dynamically load d3 & LDAvis\n",
       "    LDAvis_load_lib(\"https://d3js.org/d3.v5.js\", function(){\n",
       "         LDAvis_load_lib(\"https://cdn.jsdelivr.net/gh/bmabey/pyLDAvis@3.2.2/pyLDAvis/js/ldavis.v3.0.0.js\", function(){\n",
       "                 new LDAvis(\"#\" + \"ldavis_el1990820208389559128818872140\", ldavis_el1990820208389559128818872140_data);\n",
       "            })\n",
       "         });\n",
       "}\n",
       "</script>"
      ],
      "text/plain": [
       "<IPython.core.display.HTML object>"
      ]
     },
     "execution_count": 189,
     "metadata": {},
     "output_type": "execute_result"
    }
   ],
   "source": [
    "%matplotlib inline\n",
    "\n",
    "import pyLDAvis\n",
    "import pyLDAvis.gensim\n",
    "\n",
    "vis = pyLDAvis.gensim.prepare(topic_model=lda_model, corpus=corpus, dictionary=dictionary_LDA)\n",
    "pyLDAvis.enable_notebook()\n",
    "pyLDAvis.display(vis)"
   ]
  }
 ],
 "metadata": {
  "kernelspec": {
   "display_name": "Python 3",
   "language": "python",
   "name": "python3"
  },
  "language_info": {
   "codemirror_mode": {
    "name": "ipython",
    "version": 3
   },
   "file_extension": ".py",
   "mimetype": "text/x-python",
   "name": "python",
   "nbconvert_exporter": "python",
   "pygments_lexer": "ipython3",
   "version": "3.6.5"
  }
 },
 "nbformat": 4,
 "nbformat_minor": 2
}
