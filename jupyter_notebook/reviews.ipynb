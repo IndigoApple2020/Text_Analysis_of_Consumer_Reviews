{
 "cells": [
  {
   "cell_type": "markdown",
   "metadata": {},
   "source": [
    "# Topic Modelling with Latent Dirichlet Allocation on Customer Reviews: The case of UK delivery companies\n",
    "\n",
    "**Author: Georgios Spyrou (https://github.com/gpsyrou)**\n",
    "\n",
    "_Last Update: 23/07/2021_\n",
    "\n",
    "<img src=\"../img/projectimage.png\" alt=\"Sentiment Picture\" width=\"820\" height=\"640\">\n",
    "\n",
    "### Sections\n",
    "- <a href=\"#project_idea\" style=\"text-decoration: none\"> Project Description</a>\n",
    "- <a href=\"#data_retrieval\" style=\"text-decoration: none\"> Web-Scrapping Tool and Data Retrieval</a>\n",
    "- <a href=\"#data_cleaning_eda\" style=\"text-decoration: none\"> Data Cleaning & Initial Exploratory Data Analysis (EDA)</a>\n",
    "    - <a href=\"#data_preprocessing\" style=\"text-decoration: none\"> Data Preprocessing </a>\n",
    "    - <a href=\"#eda\" style=\"text-decoration: none\"> Exploratory Data Analysis </a>\n",
    "        - <a href=\"#single_words\" style=\"text-decoration: none\"> Single Words </a>\n",
    "        - <a href=\"#bigrams_eda\" style=\"text-decoration: none\"> Analysis with Bigrams </a>\n",
    "- <a href=\"#lda\" style=\"text-decoration: none\"> Latent Dirichlet Allocation Model </a>\n",
    "    - <a href=\"#bigrams_lda\" style=\"text-decoration: none\"> Compute Bigrams as LDA Input </a>\n",
    "    - <a href=\"#lda_model\" style=\"text-decoration: none\"> Creating the LDA Model </a>\n",
    "    - <a href=\"#topic_assign\" style=\"text-decoration: none\"> Assigning Predicted Topics to Reviews </a>\n",
    "    - <a href=\"#viz_output\" style=\"text-decoration: none\"> Visualizing the Results </a>"
   ]
  },
  {
   "cell_type": "markdown",
   "metadata": {},
   "source": [
    "<a id='project_idea'></a>\n",
    "### Introduction\n",
    "\n",
    "In this project we are going to explore the world of logistic companies and the issues that they might be facing. Specifically, we are going to focus on analyzing data regarding a few of the most well-known delivery companies in the UK, namely <a href=\"https://en.wikipedia.org/wiki/Deliveroo\" style=\"text-decoration:none\"> Deliveroo</a>, <a href=\"https://en.wikipedia.org/wiki/UberEats\" style=\"text-decoration:none\"> UberEats</a>, <a href=\"https://en.wikipedia.org/wiki/Just_Eat\" style=\"text-decoration:none\"> Just Eat</a> and <a href=\"https://stuart.com/\" style=\"text-decoration:none\"> Stuart</a>. To do that we are going to utilize the internet and the reviews that we can find in many different platforms, especially these platforms that are specializing at collecting reviews and opininions of customers for a plethora of companies and services. \n",
    "\n",
    "The first iteration of this project it's using the reviews that can be found in the famous consumer review website <a href=\"https://en.wikipedia.org/wiki/Trustpilot\" style=\"text-decoration:none\"> TrustPilot</a>. Even though the website is already providing some API functionalities, we are going to write our own web-scraping tool to retrieve the data in the format that we want. We will attempt to collect as many reviews as possible and then use them to identify interesting findings in the text. For example, we will try to identify what is the sentiment across all reviews for a specific company, what are the most common words and bigrams (i.e. pairs of words that tend to appear next to each other) in the reviews, and more. Finally, we will implement a <a href=\"https://en.wikipedia.org/wiki/Latent_Dirichlet_allocation\" style=\"text-decoration:none\"> Latent Dirichlet Allocation</a> model to try and identify what are the topics that these reviews correspond to.\n",
    "\n",
    "\n",
    "We are going to discuss the specifics in more depth as we are going through the different parts of the project. As a starting point of course, we need to collect the relevant reviews for the aforementioned group of delivery companies.\n",
    "\n",
    "<a id='data_retrieval'></a>\n",
    "### Web-Scrapping Tool and Data Retrieval\n",
    "\n",
    "In order to collect the reviews directly from the TrustPilot website, we have created a web-scrapping tool that allowed us to automate this process across different companies & their corresponding reviews. This tool is iterating across different pages of the website and collects the reviews and any other relevant information, with the output being stored in csv files. Moreover, we have packaged the tool into a python library. Hence, if you are thinking of working on a similar project where you need to retrieve data from TrustPilot, you can install the package that you can find <a href=\"https://github.com/gpsyrou/Text_Analysis_of_Consumer_Reviews/blob/main/trustplt.py\" style=\"text-decoration:none\">here</a>. As of May 2021, the package contains the main functionalities to collect many different information from the website, like the reviews, reviewer_id, date of the review, user rating, and more. \n",
    "\n",
    "For the first iteration of the project, we have built the aforementioned package with the functionality to retrieve the following information - which will also be the features in our dataset:\n",
    "\n",
    "1. **Company**: Name of the Company that we are examining (e.g. Deliveroo, UberEats, JustEat, Stuart)\n",
    "2. **Id**: The unique identifier for the Review\n",
    "3. **Reviewer_Id**: Unique id for a reviewer/user\n",
    "4. **Title**: Title of the review\n",
    "5. **Review**: The text corresponding to the review submitted from the reviewer\n",
    "6. **Date**: Day of review submission\n",
    "7. **Rating**: The rating about the company, as submitted from the reviewer\n",
    "\n",
    "Thus, after collecting the data and save them in a CSV format, we can by having a first look at the data and familiarize ourselves with the features. "
   ]
  },
  {
   "cell_type": "code",
   "execution_count": 1,
   "metadata": {},
   "outputs": [],
   "source": [
    "import os\n",
    "import string\n",
    "import numpy as np\n",
    "import pandas as pd\n",
    "from typing import List\n",
    "from collections import Counter\n",
    "\n",
    "import seaborn as sns\n",
    "sns.set_style('dark')\n",
    "\n",
    "import matplotlib.pyplot as plt\n",
    "import squarify\n",
    "\n",
    "from nltk import word_tokenize\n",
    "from nltk.util import ngrams\n",
    "from nltk.corpus import stopwords\n",
    "from nltk.collocations import BigramCollocationFinder\n",
    "from nltk.stem import WordNetLemmatizer, PorterStemmer\n",
    "\n",
    "from IPython.display import display, HTML\n",
    "\n",
    "project_dir = r'D:\\GitHub\\Projects\\Analysis_of_Delivery_Companies_Reviews'\n",
    "os.chdir(project_dir)\n",
    "\n",
    "from helpers.utilities import split_ratings_col, get_ratings_mapping"
   ]
  },
  {
   "cell_type": "code",
   "execution_count": 2,
   "metadata": {},
   "outputs": [],
   "source": [
    "reviews_base_file = os.path.join(project_dir, 'reviews.csv')"
   ]
  },
  {
   "cell_type": "code",
   "execution_count": 3,
   "metadata": {},
   "outputs": [
    {
     "data": {
      "text/plain": [
       "{1: 'Bad', 2: 'Poor', 3: 'Average', 4: 'Great', 5: 'Excellent'}"
      ]
     },
     "execution_count": 3,
     "metadata": {},
     "output_type": "execute_result"
    }
   ],
   "source": [
    "col_names = ['Company', 'Id', 'Reviewer_Id', 'Title', 'Review', 'Date', 'Rating']\n",
    "\n",
    "ratings_dict = get_ratings_mapping()\n",
    "ratings_dict"
   ]
  },
  {
   "cell_type": "code",
   "execution_count": 4,
   "metadata": {},
   "outputs": [],
   "source": [
    "reviews_df = pd.read_csv(reviews_base_file, sep=',')"
   ]
  },
  {
   "cell_type": "markdown",
   "metadata": {},
   "source": [
    "<a id='data_cleaning_eda'></a>\n",
    "### Data Cleaning & Exploratory Data Analysis\n",
    "\n",
    "Here we can have an initial look about the information contained in the dataset - Please note that each row in the dataset corresponds to a different _review_ :"
   ]
  },
  {
   "cell_type": "code",
   "execution_count": 5,
   "metadata": {},
   "outputs": [
    {
     "data": {
      "text/html": [
       "<div>\n",
       "<style scoped>\n",
       "    .dataframe tbody tr th:only-of-type {\n",
       "        vertical-align: middle;\n",
       "    }\n",
       "\n",
       "    .dataframe tbody tr th {\n",
       "        vertical-align: top;\n",
       "    }\n",
       "\n",
       "    .dataframe thead th {\n",
       "        text-align: right;\n",
       "    }\n",
       "</style>\n",
       "<table border=\"1\" class=\"dataframe\">\n",
       "  <thead>\n",
       "    <tr style=\"text-align: right;\">\n",
       "      <th></th>\n",
       "      <th>Company</th>\n",
       "      <th>Id</th>\n",
       "      <th>Reviewer_Id</th>\n",
       "      <th>Title</th>\n",
       "      <th>Review</th>\n",
       "      <th>Date</th>\n",
       "      <th>Rating</th>\n",
       "    </tr>\n",
       "  </thead>\n",
       "  <tbody>\n",
       "    <tr>\n",
       "      <th>0</th>\n",
       "      <td>Deliveroo</td>\n",
       "      <td>60709f95f85d75087052ff8b</td>\n",
       "      <td>60709f8f0a30fd001b06dc52</td>\n",
       "      <td>Ordered food and apparently the driver…</td>\n",
       "      <td>Ordered food and apparently the driver was wai...</td>\n",
       "      <td>2021-04-09 18:40</td>\n",
       "      <td>{2: 'Poor'}</td>\n",
       "    </tr>\n",
       "    <tr>\n",
       "      <th>1</th>\n",
       "      <td>Deliveroo</td>\n",
       "      <td>60708710f85d75087052c89b</td>\n",
       "      <td>6070870c2158190019b3ab8e</td>\n",
       "      <td>Disgusting Live Customer Service CHAT!!!</td>\n",
       "      <td>I received standard bag of buttons that cost £...</td>\n",
       "      <td>2021-04-09 16:55</td>\n",
       "      <td>{1: 'Bad'}</td>\n",
       "    </tr>\n",
       "    <tr>\n",
       "      <th>2</th>\n",
       "      <td>Deliveroo</td>\n",
       "      <td>60707b91f85d75087052abb6</td>\n",
       "      <td>602eb3ac49aeca0019ad4b70</td>\n",
       "      <td>Just had an appalling experience with…</td>\n",
       "      <td>Just had an appalling experience with delivero...</td>\n",
       "      <td>2021-04-09 16:06</td>\n",
       "      <td>{1: 'Bad'}</td>\n",
       "    </tr>\n",
       "    <tr>\n",
       "      <th>3</th>\n",
       "      <td>Deliveroo</td>\n",
       "      <td>60705919f85d7508705251d4</td>\n",
       "      <td>60705856348d93001ad1ca1f</td>\n",
       "      <td>The same situation happened twice</td>\n",
       "      <td>The same situation happened twice. I ordered f...</td>\n",
       "      <td>2021-04-09 13:39</td>\n",
       "      <td>{2: 'Poor'}</td>\n",
       "    </tr>\n",
       "    <tr>\n",
       "      <th>4</th>\n",
       "      <td>Deliveroo</td>\n",
       "      <td>60705138f85d750870523d4d</td>\n",
       "      <td>6070512519dc76001aebe4b1</td>\n",
       "      <td>Driver left without giving us food</td>\n",
       "      <td>Driver turned up late couldn’t find us and lef...</td>\n",
       "      <td>2021-04-09 13:06</td>\n",
       "      <td>{1: 'Bad'}</td>\n",
       "    </tr>\n",
       "  </tbody>\n",
       "</table>\n",
       "</div>"
      ],
      "text/plain": [
       "     Company                        Id               Reviewer_Id  \\\n",
       "0  Deliveroo  60709f95f85d75087052ff8b  60709f8f0a30fd001b06dc52   \n",
       "1  Deliveroo  60708710f85d75087052c89b  6070870c2158190019b3ab8e   \n",
       "2  Deliveroo  60707b91f85d75087052abb6  602eb3ac49aeca0019ad4b70   \n",
       "3  Deliveroo  60705919f85d7508705251d4  60705856348d93001ad1ca1f   \n",
       "4  Deliveroo  60705138f85d750870523d4d  6070512519dc76001aebe4b1   \n",
       "\n",
       "                                      Title  \\\n",
       "0   Ordered food and apparently the driver…   \n",
       "1  Disgusting Live Customer Service CHAT!!!   \n",
       "2    Just had an appalling experience with…   \n",
       "3         The same situation happened twice   \n",
       "4        Driver left without giving us food   \n",
       "\n",
       "                                              Review              Date  \\\n",
       "0  Ordered food and apparently the driver was wai...  2021-04-09 18:40   \n",
       "1  I received standard bag of buttons that cost £...  2021-04-09 16:55   \n",
       "2  Just had an appalling experience with delivero...  2021-04-09 16:06   \n",
       "3  The same situation happened twice. I ordered f...  2021-04-09 13:39   \n",
       "4  Driver turned up late couldn’t find us and lef...  2021-04-09 13:06   \n",
       "\n",
       "        Rating  \n",
       "0  {2: 'Poor'}  \n",
       "1   {1: 'Bad'}  \n",
       "2   {1: 'Bad'}  \n",
       "3  {2: 'Poor'}  \n",
       "4   {1: 'Bad'}  "
      ]
     },
     "execution_count": 5,
     "metadata": {},
     "output_type": "execute_result"
    }
   ],
   "source": [
    "reviews_df.head()"
   ]
  },
  {
   "cell_type": "markdown",
   "metadata": {},
   "source": [
    "We can see that the _Title_ of the review sometimes seems to correspond to the first few words/lines of the full _Review_, while some other times appears to be a small summary. At the same time we can observe that the _Rating_ provides us with some useful information about how the Reviewer felt regarding the company's service on that specific occasion."
   ]
  },
  {
   "cell_type": "code",
   "execution_count": 6,
   "metadata": {},
   "outputs": [
    {
     "name": "stdout",
     "output_type": "stream",
     "text": [
      "There are 19080 reviews (rows) and 7 features in the dataset\n"
     ]
    }
   ],
   "source": [
    "print(f'There are {reviews_df.shape[0]} reviews (rows) and {reviews_df.shape[1]} features in the dataset')"
   ]
  },
  {
   "cell_type": "code",
   "execution_count": 7,
   "metadata": {},
   "outputs": [
    {
     "data": {
      "text/plain": [
       "UberEats     9340\n",
       "Deliveroo    6720\n",
       "JustEat      2740\n",
       "Stuart        280\n",
       "Name: Company, dtype: int64"
      ]
     },
     "execution_count": 7,
     "metadata": {},
     "output_type": "execute_result"
    }
   ],
   "source": [
    "reviews_df['Company'].value_counts()"
   ]
  },
  {
   "cell_type": "markdown",
   "metadata": {},
   "source": [
    "We can check if there are any missing values in the dataset, or if there are rows that are duplicates:"
   ]
  },
  {
   "cell_type": "code",
   "execution_count": 8,
   "metadata": {},
   "outputs": [
    {
     "name": "stdout",
     "output_type": "stream",
     "text": [
      "There are 161 duplicate reviews in the dataset\n"
     ]
    }
   ],
   "source": [
    "num_duplicate_reviews = reviews_df.duplicated('Id').sum()\n",
    "print(f'There are {num_duplicate_reviews} duplicate reviews in the dataset')"
   ]
  },
  {
   "cell_type": "markdown",
   "metadata": {},
   "source": [
    "Dropping the duplicate reviews"
   ]
  },
  {
   "cell_type": "code",
   "execution_count": 9,
   "metadata": {},
   "outputs": [
    {
     "data": {
      "text/plain": [
       "1"
      ]
     },
     "execution_count": 9,
     "metadata": {},
     "output_type": "execute_result"
    }
   ],
   "source": [
    "reviews_df.drop_duplicates(inplace=True)\n",
    "reviews_df.duplicated('Id').sum()"
   ]
  },
  {
   "cell_type": "code",
   "execution_count": 10,
   "metadata": {},
   "outputs": [
    {
     "data": {
      "text/html": [
       "<div>\n",
       "<style scoped>\n",
       "    .dataframe tbody tr th:only-of-type {\n",
       "        vertical-align: middle;\n",
       "    }\n",
       "\n",
       "    .dataframe tbody tr th {\n",
       "        vertical-align: top;\n",
       "    }\n",
       "\n",
       "    .dataframe thead th {\n",
       "        text-align: right;\n",
       "    }\n",
       "</style>\n",
       "<table border=\"1\" class=\"dataframe\">\n",
       "  <thead>\n",
       "    <tr style=\"text-align: right;\">\n",
       "      <th></th>\n",
       "      <th>Missing_Values</th>\n",
       "    </tr>\n",
       "  </thead>\n",
       "  <tbody>\n",
       "    <tr>\n",
       "      <th>Company</th>\n",
       "      <td>0</td>\n",
       "    </tr>\n",
       "    <tr>\n",
       "      <th>Id</th>\n",
       "      <td>0</td>\n",
       "    </tr>\n",
       "    <tr>\n",
       "      <th>Reviewer_Id</th>\n",
       "      <td>0</td>\n",
       "    </tr>\n",
       "    <tr>\n",
       "      <th>Title</th>\n",
       "      <td>0</td>\n",
       "    </tr>\n",
       "    <tr>\n",
       "      <th>Review</th>\n",
       "      <td>267</td>\n",
       "    </tr>\n",
       "    <tr>\n",
       "      <th>Date</th>\n",
       "      <td>2912</td>\n",
       "    </tr>\n",
       "    <tr>\n",
       "      <th>Rating</th>\n",
       "      <td>0</td>\n",
       "    </tr>\n",
       "  </tbody>\n",
       "</table>\n",
       "</div>"
      ],
      "text/plain": [
       "             Missing_Values\n",
       "Company                   0\n",
       "Id                        0\n",
       "Reviewer_Id               0\n",
       "Title                     0\n",
       "Review                  267\n",
       "Date                   2912\n",
       "Rating                    0"
      ]
     },
     "execution_count": 10,
     "metadata": {},
     "output_type": "execute_result"
    }
   ],
   "source": [
    "pd.DataFrame(reviews_df.isna().sum(), columns=['Missing_Values'])"
   ]
  },
  {
   "cell_type": "markdown",
   "metadata": {},
   "source": [
    "From the queries above we can quickly see that initially we had some issues as there were 57 duplicate reviews, but we have used a pandas built-in function to remove them from the dataset. The duplication is caused due to the nature of retrieving data from by using the API, as we might process pages that we have already processed in the past, and that means retrieving the same reviews as before. Luckily, the _Id_ column is sufficient to identify unique reviews in the dataset, and hence it's easy to spot and fix duplication issues.\n",
    "\n",
    "Now, regarding the missing values there are a few cases where Review appears to be empty, as well as quite a few cases on missing dates. The later is not a massive issue at this stage of the project. On the other hand, the absence of reviews can be a big issue as this project is all about analyzing customer reviews, and hence rows that have no text corresponding to a review wouldn't provide much information. That said, as we saw above there is another feature (_Title_) which we can use as text for rows where the _Review_ is empty."
   ]
  },
  {
   "cell_type": "code",
   "execution_count": 11,
   "metadata": {},
   "outputs": [
    {
     "data": {
      "text/html": [
       "<div>\n",
       "<style scoped>\n",
       "    .dataframe tbody tr th:only-of-type {\n",
       "        vertical-align: middle;\n",
       "    }\n",
       "\n",
       "    .dataframe tbody tr th {\n",
       "        vertical-align: top;\n",
       "    }\n",
       "\n",
       "    .dataframe thead th {\n",
       "        text-align: right;\n",
       "    }\n",
       "</style>\n",
       "<table border=\"1\" class=\"dataframe\">\n",
       "  <thead>\n",
       "    <tr style=\"text-align: right;\">\n",
       "      <th></th>\n",
       "      <th>Company</th>\n",
       "      <th>Id</th>\n",
       "      <th>Reviewer_Id</th>\n",
       "      <th>Title</th>\n",
       "      <th>Review</th>\n",
       "      <th>Date</th>\n",
       "      <th>Rating</th>\n",
       "    </tr>\n",
       "  </thead>\n",
       "  <tbody>\n",
       "    <tr>\n",
       "      <th>45</th>\n",
       "      <td>Deliveroo</td>\n",
       "      <td>60684978f85d75087045ed91</td>\n",
       "      <td>60684973402b0e001a95af2d</td>\n",
       "      <td>Great service</td>\n",
       "      <td>NaN</td>\n",
       "      <td>2021-04-03 10:54</td>\n",
       "      <td>{5: 'Excellent'}</td>\n",
       "    </tr>\n",
       "    <tr>\n",
       "      <th>94</th>\n",
       "      <td>Deliveroo</td>\n",
       "      <td>606221b3f85d7508703c730e</td>\n",
       "      <td>5d73f4f179586ed7bad49d52</td>\n",
       "      <td>Very very disappointed bad service</td>\n",
       "      <td>NaN</td>\n",
       "      <td>2021-03-29 18:51</td>\n",
       "      <td>{1: 'Bad'}</td>\n",
       "    </tr>\n",
       "    <tr>\n",
       "      <th>114</th>\n",
       "      <td>Deliveroo</td>\n",
       "      <td>605f8f5df85d7508703919f5</td>\n",
       "      <td>5e8d9b9a6251456b37ed292e</td>\n",
       "      <td>CRAP nothing else to say!</td>\n",
       "      <td>NaN</td>\n",
       "      <td>2021-03-27 20:02</td>\n",
       "      <td>{1: 'Bad'}</td>\n",
       "    </tr>\n",
       "    <tr>\n",
       "      <th>137</th>\n",
       "      <td>Deliveroo</td>\n",
       "      <td>605e40ddf85d750870377a98</td>\n",
       "      <td>605cb15ead7256001bdc3948</td>\n",
       "      <td>A MILLION TIMES BETTER THAN UBER EATS</td>\n",
       "      <td>NaN</td>\n",
       "      <td>2021-03-26 20:15</td>\n",
       "      <td>{5: 'Excellent'}</td>\n",
       "    </tr>\n",
       "    <tr>\n",
       "      <th>201</th>\n",
       "      <td>Deliveroo</td>\n",
       "      <td>6054f264f85d750bf4f97e45</td>\n",
       "      <td>5d57f496959de5789bc062bd</td>\n",
       "      <td>Better to use Uber eats</td>\n",
       "      <td>NaN</td>\n",
       "      <td>2021-03-19 18:50</td>\n",
       "      <td>{1: 'Bad'}</td>\n",
       "    </tr>\n",
       "  </tbody>\n",
       "</table>\n",
       "</div>"
      ],
      "text/plain": [
       "       Company                        Id               Reviewer_Id  \\\n",
       "45   Deliveroo  60684978f85d75087045ed91  60684973402b0e001a95af2d   \n",
       "94   Deliveroo  606221b3f85d7508703c730e  5d73f4f179586ed7bad49d52   \n",
       "114  Deliveroo  605f8f5df85d7508703919f5  5e8d9b9a6251456b37ed292e   \n",
       "137  Deliveroo  605e40ddf85d750870377a98  605cb15ead7256001bdc3948   \n",
       "201  Deliveroo  6054f264f85d750bf4f97e45  5d57f496959de5789bc062bd   \n",
       "\n",
       "                                     Title Review              Date  \\\n",
       "45                           Great service    NaN  2021-04-03 10:54   \n",
       "94      Very very disappointed bad service    NaN  2021-03-29 18:51   \n",
       "114              CRAP nothing else to say!    NaN  2021-03-27 20:02   \n",
       "137  A MILLION TIMES BETTER THAN UBER EATS    NaN  2021-03-26 20:15   \n",
       "201                Better to use Uber eats    NaN  2021-03-19 18:50   \n",
       "\n",
       "               Rating  \n",
       "45   {5: 'Excellent'}  \n",
       "94         {1: 'Bad'}  \n",
       "114        {1: 'Bad'}  \n",
       "137  {5: 'Excellent'}  \n",
       "201        {1: 'Bad'}  "
      ]
     },
     "execution_count": 11,
     "metadata": {},
     "output_type": "execute_result"
    }
   ],
   "source": [
    "empty_reviews_sample = reviews_df[reviews_df['Review'].isnull()].head(5)\n",
    "empty_reviews_sample"
   ]
  },
  {
   "cell_type": "markdown",
   "metadata": {},
   "source": [
    "Apply the transformation"
   ]
  },
  {
   "cell_type": "code",
   "execution_count": 12,
   "metadata": {},
   "outputs": [],
   "source": [
    "reviews_df.loc[reviews_df['Review'].isnull(), 'Review'] = reviews_df['Title']"
   ]
  },
  {
   "cell_type": "markdown",
   "metadata": {},
   "source": [
    "and we can see how the transformation affected the dataset"
   ]
  },
  {
   "cell_type": "code",
   "execution_count": 13,
   "metadata": {},
   "outputs": [
    {
     "data": {
      "text/html": [
       "<div>\n",
       "<style scoped>\n",
       "    .dataframe tbody tr th:only-of-type {\n",
       "        vertical-align: middle;\n",
       "    }\n",
       "\n",
       "    .dataframe tbody tr th {\n",
       "        vertical-align: top;\n",
       "    }\n",
       "\n",
       "    .dataframe thead th {\n",
       "        text-align: right;\n",
       "    }\n",
       "</style>\n",
       "<table border=\"1\" class=\"dataframe\">\n",
       "  <thead>\n",
       "    <tr style=\"text-align: right;\">\n",
       "      <th></th>\n",
       "      <th>Company</th>\n",
       "      <th>Id</th>\n",
       "      <th>Reviewer_Id</th>\n",
       "      <th>Title</th>\n",
       "      <th>Review</th>\n",
       "      <th>Date</th>\n",
       "      <th>Rating</th>\n",
       "    </tr>\n",
       "  </thead>\n",
       "  <tbody>\n",
       "    <tr>\n",
       "      <th>45</th>\n",
       "      <td>Deliveroo</td>\n",
       "      <td>60684978f85d75087045ed91</td>\n",
       "      <td>60684973402b0e001a95af2d</td>\n",
       "      <td>Great service</td>\n",
       "      <td>Great service</td>\n",
       "      <td>2021-04-03 10:54</td>\n",
       "      <td>{5: 'Excellent'}</td>\n",
       "    </tr>\n",
       "    <tr>\n",
       "      <th>94</th>\n",
       "      <td>Deliveroo</td>\n",
       "      <td>606221b3f85d7508703c730e</td>\n",
       "      <td>5d73f4f179586ed7bad49d52</td>\n",
       "      <td>Very very disappointed bad service</td>\n",
       "      <td>Very very disappointed bad service</td>\n",
       "      <td>2021-03-29 18:51</td>\n",
       "      <td>{1: 'Bad'}</td>\n",
       "    </tr>\n",
       "    <tr>\n",
       "      <th>114</th>\n",
       "      <td>Deliveroo</td>\n",
       "      <td>605f8f5df85d7508703919f5</td>\n",
       "      <td>5e8d9b9a6251456b37ed292e</td>\n",
       "      <td>CRAP nothing else to say!</td>\n",
       "      <td>CRAP nothing else to say!</td>\n",
       "      <td>2021-03-27 20:02</td>\n",
       "      <td>{1: 'Bad'}</td>\n",
       "    </tr>\n",
       "    <tr>\n",
       "      <th>137</th>\n",
       "      <td>Deliveroo</td>\n",
       "      <td>605e40ddf85d750870377a98</td>\n",
       "      <td>605cb15ead7256001bdc3948</td>\n",
       "      <td>A MILLION TIMES BETTER THAN UBER EATS</td>\n",
       "      <td>A MILLION TIMES BETTER THAN UBER EATS</td>\n",
       "      <td>2021-03-26 20:15</td>\n",
       "      <td>{5: 'Excellent'}</td>\n",
       "    </tr>\n",
       "    <tr>\n",
       "      <th>201</th>\n",
       "      <td>Deliveroo</td>\n",
       "      <td>6054f264f85d750bf4f97e45</td>\n",
       "      <td>5d57f496959de5789bc062bd</td>\n",
       "      <td>Better to use Uber eats</td>\n",
       "      <td>Better to use Uber eats</td>\n",
       "      <td>2021-03-19 18:50</td>\n",
       "      <td>{1: 'Bad'}</td>\n",
       "    </tr>\n",
       "  </tbody>\n",
       "</table>\n",
       "</div>"
      ],
      "text/plain": [
       "       Company                        Id               Reviewer_Id  \\\n",
       "45   Deliveroo  60684978f85d75087045ed91  60684973402b0e001a95af2d   \n",
       "94   Deliveroo  606221b3f85d7508703c730e  5d73f4f179586ed7bad49d52   \n",
       "114  Deliveroo  605f8f5df85d7508703919f5  5e8d9b9a6251456b37ed292e   \n",
       "137  Deliveroo  605e40ddf85d750870377a98  605cb15ead7256001bdc3948   \n",
       "201  Deliveroo  6054f264f85d750bf4f97e45  5d57f496959de5789bc062bd   \n",
       "\n",
       "                                     Title  \\\n",
       "45                           Great service   \n",
       "94      Very very disappointed bad service   \n",
       "114              CRAP nothing else to say!   \n",
       "137  A MILLION TIMES BETTER THAN UBER EATS   \n",
       "201                Better to use Uber eats   \n",
       "\n",
       "                                    Review              Date            Rating  \n",
       "45                           Great service  2021-04-03 10:54  {5: 'Excellent'}  \n",
       "94      Very very disappointed bad service  2021-03-29 18:51        {1: 'Bad'}  \n",
       "114              CRAP nothing else to say!  2021-03-27 20:02        {1: 'Bad'}  \n",
       "137  A MILLION TIMES BETTER THAN UBER EATS  2021-03-26 20:15  {5: 'Excellent'}  \n",
       "201                Better to use Uber eats  2021-03-19 18:50        {1: 'Bad'}  "
      ]
     },
     "execution_count": 13,
     "metadata": {},
     "output_type": "execute_result"
    }
   ],
   "source": [
    "reviews_df.iloc[list(empty_reviews_sample.index)]"
   ]
  },
  {
   "cell_type": "code",
   "execution_count": 14,
   "metadata": {},
   "outputs": [
    {
     "data": {
      "text/html": [
       "<div>\n",
       "<style scoped>\n",
       "    .dataframe tbody tr th:only-of-type {\n",
       "        vertical-align: middle;\n",
       "    }\n",
       "\n",
       "    .dataframe tbody tr th {\n",
       "        vertical-align: top;\n",
       "    }\n",
       "\n",
       "    .dataframe thead th {\n",
       "        text-align: right;\n",
       "    }\n",
       "</style>\n",
       "<table border=\"1\" class=\"dataframe\">\n",
       "  <thead>\n",
       "    <tr style=\"text-align: right;\">\n",
       "      <th></th>\n",
       "      <th>Missing_Values</th>\n",
       "    </tr>\n",
       "  </thead>\n",
       "  <tbody>\n",
       "    <tr>\n",
       "      <th>Company</th>\n",
       "      <td>0</td>\n",
       "    </tr>\n",
       "    <tr>\n",
       "      <th>Id</th>\n",
       "      <td>0</td>\n",
       "    </tr>\n",
       "    <tr>\n",
       "      <th>Reviewer_Id</th>\n",
       "      <td>0</td>\n",
       "    </tr>\n",
       "    <tr>\n",
       "      <th>Title</th>\n",
       "      <td>0</td>\n",
       "    </tr>\n",
       "    <tr>\n",
       "      <th>Review</th>\n",
       "      <td>0</td>\n",
       "    </tr>\n",
       "    <tr>\n",
       "      <th>Date</th>\n",
       "      <td>2912</td>\n",
       "    </tr>\n",
       "    <tr>\n",
       "      <th>Rating</th>\n",
       "      <td>0</td>\n",
       "    </tr>\n",
       "  </tbody>\n",
       "</table>\n",
       "</div>"
      ],
      "text/plain": [
       "             Missing_Values\n",
       "Company                   0\n",
       "Id                        0\n",
       "Reviewer_Id               0\n",
       "Title                     0\n",
       "Review                    0\n",
       "Date                   2912\n",
       "Rating                    0"
      ]
     },
     "execution_count": 14,
     "metadata": {},
     "output_type": "execute_result"
    }
   ],
   "source": [
    "pd.DataFrame(reviews_df.isna().sum(), columns=['Missing_Values'])"
   ]
  },
  {
   "cell_type": "markdown",
   "metadata": {},
   "source": [
    "<a id='data_preprocessing'></a>\n",
    "### Data Preprocessing\n",
    "\n",
    "Now that we have familiarized a bit ourselves with the dataset and it's format, as well as conducted the initial data cleaning, we will move to one of the most important steps in any project - the data preprocessing. This section is especially important for cases where we have to deal with analysis of text, such as in this project. The reason is that text in raw format usually contains a lot of noise. This could later affect the performance of the algorithms - both in terms of computational power and the final output - due to very high dimensions of the dataset. This is happening as, like we are going to see soon, each unique word in each review will become a separate feature in the dataset. Hence, the more reviews we have the more unique words we gonna end up with in the final dataset before the analysis. \n",
    " \n",
    "Therefore, its essential to use  some common text preprocessing techniques to reduce the dimensions. As a summary, we are going to perform the following steps:\n",
    "\n",
    " 1) Perform **tokenization** of the reviews. This is a technique of transforming a sentence, into a list of words. For example, the sentence \"my order was great\" would become '['my', 'order', 'was', 'great'].\n",
    " \n",
    " 2) Remove from the reviews tokens that are **stopwords**. Stopwords are words inside text that do not provide much information and are usually getting removed from the initial sentence. Such words can be words like \"the\", \"a\", and more.\n",
    " \n",
    " 3) Remove tokens that correspond to **punctuation** marks (e.g. \"!\", \"?\") and **numbers**.\n",
    " \n",
    " 4) <a href=\"https://en.wikipedia.org/wiki/Stemming\" style=\"text-decoration:none\">Stemming</a> and <a href=\"https://en.wikipedia.org/wiki/Lemmatisation\" style=\"text-decoration:none\">Lemmatization</a>: These two methods are being used to transform a token into it's stem or lemma respectively. These two techniques help drammatically with the reduction of the dimensions as words end up being \"grouped\" under a specific form. In this project we are going to use lemmatization, as in general is a more advanced method compared to stemming, as lemmatization algorithms try to identify the part of speech of the token, and thus in some way they are preserving the meaning of the word (something that does not necessarily happen with stemming).\n",
    " \n",
    "Below we are going to perform all of these steps to get a \"cleaner\" version of the reviews:"
   ]
  },
  {
   "cell_type": "code",
   "execution_count": 15,
   "metadata": {},
   "outputs": [],
   "source": [
    "from nltk.corpus import stopwords\n",
    "\n",
    "stopwords_ls = stopwords.words('english')\n",
    "stopwords_ls.extend(['\\'d', '\\'m', '\\'s', '\\'ve', '\\'re', '\\'ll', 'n\\'t', '’'])"
   ]
  },
  {
   "cell_type": "markdown",
   "metadata": {},
   "source": [
    "Except the common english stopwords, it's necessary to enhance the list with some additional tokens that we want to exclude from the reviews. These are usually words that we would expect that are getting repeated in the reviews. In our case, as we are examining the case of delivery companies, it would be beneficial to exclude words like 'delivery', 'order', and more. Moreover, we are excluding the tokens that correspond to the names of the delivery companies, as we already have this information in the dataset as a different feature."
   ]
  },
  {
   "cell_type": "code",
   "execution_count": 16,
   "metadata": {},
   "outputs": [],
   "source": [
    "common_delivery_words = ['delivery', 'deliver', 'driver', 'order', 'uber', 'stuart', 'deliveroo', 'food', 'use', 'get',\n",
    "                         'service', 'customer', 'refund','give', 'star', 'even', 'though', 'could']\n",
    "\n",
    "stopwords_ls.extend(common_delivery_words)"
   ]
  },
  {
   "cell_type": "markdown",
   "metadata": {},
   "source": [
    "Moreover, we can see that the _Rating_ columns has values like the following: {1: 'Bad'}, so we are going to use a custom function to split this into two different features for better presentation:"
   ]
  },
  {
   "cell_type": "code",
   "execution_count": 17,
   "metadata": {},
   "outputs": [],
   "source": [
    "def split_ratings(rating_text):\n",
    "    \"\"\"\n",
    "    Mapper function to split string with {Rating: Rating_As_String} format to two\n",
    "    separate entities\"\"\"\n",
    "    rating_text = rating_text.replace('\\'','').replace('{','').replace('}','')\n",
    "    return rating_text[0], rating_text[3:]\n",
    "\n",
    "\n",
    "def convertDateToYearMonthDayFormat(input_date):\n",
    "    try:\n",
    "        return input_date.replace(hour=0, minute=0, second=0, microsecond=0)\n",
    "    except AttributeError:\n",
    "        pass"
   ]
  },
  {
   "cell_type": "code",
   "execution_count": 18,
   "metadata": {},
   "outputs": [],
   "source": [
    "# Cast columns specific data format\n",
    "reviews_df['Date'] = pd.to_datetime(reviews_df['Date'], format=\"%Y-%m-%d %H:%M\", errors='coerce')\n",
    "reviews_df['Date_YMD'] = reviews_df['Date'].apply(lambda row: convertDateToYearMonthDayFormat(row))"
   ]
  },
  {
   "cell_type": "code",
   "execution_count": 19,
   "metadata": {},
   "outputs": [],
   "source": [
    "reviews_df['Rating'] = reviews_df['Rating'].apply(lambda row: split_ratings(row)[0]).astype(int)\n",
    "reviews_df['Rating_Text'] = reviews_df['Rating'].apply(lambda row: ratings_dict[row])"
   ]
  },
  {
   "cell_type": "code",
   "execution_count": 20,
   "metadata": {},
   "outputs": [
    {
     "data": {
      "text/html": [
       "<div>\n",
       "<style scoped>\n",
       "    .dataframe tbody tr th:only-of-type {\n",
       "        vertical-align: middle;\n",
       "    }\n",
       "\n",
       "    .dataframe tbody tr th {\n",
       "        vertical-align: top;\n",
       "    }\n",
       "\n",
       "    .dataframe thead th {\n",
       "        text-align: right;\n",
       "    }\n",
       "</style>\n",
       "<table border=\"1\" class=\"dataframe\">\n",
       "  <thead>\n",
       "    <tr style=\"text-align: right;\">\n",
       "      <th></th>\n",
       "      <th>Company</th>\n",
       "      <th>Id</th>\n",
       "      <th>Reviewer_Id</th>\n",
       "      <th>Title</th>\n",
       "      <th>Review</th>\n",
       "      <th>Date</th>\n",
       "      <th>Rating</th>\n",
       "      <th>Date_YMD</th>\n",
       "      <th>Rating_Text</th>\n",
       "    </tr>\n",
       "  </thead>\n",
       "  <tbody>\n",
       "    <tr>\n",
       "      <th>0</th>\n",
       "      <td>Deliveroo</td>\n",
       "      <td>60709f95f85d75087052ff8b</td>\n",
       "      <td>60709f8f0a30fd001b06dc52</td>\n",
       "      <td>Ordered food and apparently the driver…</td>\n",
       "      <td>Ordered food and apparently the driver was wai...</td>\n",
       "      <td>2021-04-09 18:40:00</td>\n",
       "      <td>2</td>\n",
       "      <td>2021-04-09</td>\n",
       "      <td>Poor</td>\n",
       "    </tr>\n",
       "    <tr>\n",
       "      <th>1</th>\n",
       "      <td>Deliveroo</td>\n",
       "      <td>60708710f85d75087052c89b</td>\n",
       "      <td>6070870c2158190019b3ab8e</td>\n",
       "      <td>Disgusting Live Customer Service CHAT!!!</td>\n",
       "      <td>I received standard bag of buttons that cost £...</td>\n",
       "      <td>2021-04-09 16:55:00</td>\n",
       "      <td>1</td>\n",
       "      <td>2021-04-09</td>\n",
       "      <td>Bad</td>\n",
       "    </tr>\n",
       "  </tbody>\n",
       "</table>\n",
       "</div>"
      ],
      "text/plain": [
       "     Company                        Id               Reviewer_Id  \\\n",
       "0  Deliveroo  60709f95f85d75087052ff8b  60709f8f0a30fd001b06dc52   \n",
       "1  Deliveroo  60708710f85d75087052c89b  6070870c2158190019b3ab8e   \n",
       "\n",
       "                                      Title  \\\n",
       "0   Ordered food and apparently the driver…   \n",
       "1  Disgusting Live Customer Service CHAT!!!   \n",
       "\n",
       "                                              Review                Date  \\\n",
       "0  Ordered food and apparently the driver was wai... 2021-04-09 18:40:00   \n",
       "1  I received standard bag of buttons that cost £... 2021-04-09 16:55:00   \n",
       "\n",
       "   Rating   Date_YMD Rating_Text  \n",
       "0       2 2021-04-09        Poor  \n",
       "1       1 2021-04-09         Bad  "
      ]
     },
     "execution_count": 20,
     "metadata": {},
     "output_type": "execute_result"
    }
   ],
   "source": [
    "reviews_df.head(2)"
   ]
  },
  {
   "cell_type": "markdown",
   "metadata": {},
   "source": [
    "Now we are ready to apply the main data preprocessing tasks that we discussed above. But to do that we have to write the function that are going to be applied in the _Review_ column. Below we can see these functions, which are coming from a custom <a href=\"https://github.com/gpsyrou/Text_Analysis_of_Consumer_Reviews/blob/main/processing/text_processing.py\" style=\"text-decoration: none\">package</a> that we had to develop, which contains functions for the most common text preprocessing tasks for pretty much any NLP project. "
   ]
  },
  {
   "cell_type": "code",
   "execution_count": 21,
   "metadata": {},
   "outputs": [],
   "source": [
    "lemmatizer = WordNetLemmatizer()\n",
    "stemmer = PorterStemmer()"
   ]
  },
  {
   "cell_type": "code",
   "execution_count": 22,
   "metadata": {},
   "outputs": [],
   "source": [
    "punct_ls = list(string.punctuation)\n",
    "punct_ls.extend([2*x for x in list(string.punctuation)])\n",
    "punct_ls.extend([3*x for x in list(string.punctuation)])"
   ]
  },
  {
   "cell_type": "code",
   "execution_count": 23,
   "metadata": {},
   "outputs": [],
   "source": [
    "def remove_stopwords(text: List['str'], stpwds_ls: List['str']) -> List['str']:\n",
    "    return [token for token in text if token not in stpwds_ls]"
   ]
  },
  {
   "cell_type": "code",
   "execution_count": 24,
   "metadata": {},
   "outputs": [],
   "source": [
    "def remove_punctuation(text: List['str'], punct_ls: List['str']) -> List['str']:\n",
    "    return [token for token in text if token not in punct_ls]"
   ]
  },
  {
   "cell_type": "code",
   "execution_count": 25,
   "metadata": {},
   "outputs": [],
   "source": [
    "def remove_numbers(text: List['str']) -> List['str']:\n",
    "    return [token for token in text if not token.isdigit()]"
   ]
  },
  {
   "cell_type": "code",
   "execution_count": 26,
   "metadata": {},
   "outputs": [],
   "source": [
    "def lemmatize(text: List['str'],\n",
    "              pos_type = 'a') -> List['str']:\n",
    "    return [lemmatizer.lemmatize(token, pos=pos_type) for token in text]\n",
    "\n",
    "def stem(text: List['str']) -> List['str']:\n",
    "    return [stemmer.stem(token) for token in text]"
   ]
  },
  {
   "cell_type": "code",
   "execution_count": 27,
   "metadata": {},
   "outputs": [],
   "source": [
    "def tokenize_and_clean(text: str,\n",
    "                       stopwords_ls: List[str],\n",
    "                       stopwords=True,\n",
    "                       punct=True, \n",
    "                       numerics=True) -> List[str]:\n",
    "    \"\"\"\n",
    "    Performs tokenizations and cleaning processes given a document/text.\n",
    "    The function will always tokenize the given text but the cleaning tasks\n",
    "    are optional.\n",
    "    \n",
    "    Parameters\n",
    "    ----------\n",
    "    text: \n",
    "        A document, which can be a word or sentence of arbitrary length.\n",
    "    stopwords: default True\n",
    "        Indicator of removing tokens that are stopwords.\n",
    "    punct: \n",
    "        Indicator of removing tokens that are punctuation marks.\n",
    "    numerics: \n",
    "        Indicator of removing tokens that correspond to numbers.\n",
    "\n",
    "    Returns\n",
    "    --------\n",
    "         A tokenized version of 'text' with the necessary updates depending on\n",
    "         the cleanup steps performed.\n",
    "    \"\"\"\n",
    "    tokenized = word_tokenize(text, language='english')\n",
    "    \n",
    "    tokenized = [token.lower() for token in tokenized]\n",
    "\n",
    "    if punct:\n",
    "        tokenized = remove_punctuation(tokenized, punct_ls=punct_ls)\n",
    "        \n",
    "    if numerics:\n",
    "        tokenized = remove_numbers(tokenized)\n",
    "        \n",
    "    if stopwords:\n",
    "        tokenized = remove_stopwords(tokenized, stpwds_ls=stopwords_ls)\n",
    "\n",
    "    return tokenized"
   ]
  },
  {
   "cell_type": "markdown",
   "metadata": {},
   "source": [
    "Split review in tokens and remove punctuation & stopwords"
   ]
  },
  {
   "cell_type": "code",
   "execution_count": 28,
   "metadata": {},
   "outputs": [],
   "source": [
    "reviews_df['Review_Tokenized'] = reviews_df['Review'].apply(lambda row: tokenize_and_clean(text=row, stopwords_ls=stopwords_ls, numerics=False))"
   ]
  },
  {
   "cell_type": "markdown",
   "metadata": {},
   "source": [
    "Lemmatize the tokens"
   ]
  },
  {
   "cell_type": "code",
   "execution_count": 29,
   "metadata": {},
   "outputs": [],
   "source": [
    "reviews_df['Review_Lemmatized'] = reviews_df['Review_Tokenized'].apply(lambda row: lemmatize(text=row, pos_type='n'))"
   ]
  },
  {
   "cell_type": "code",
   "execution_count": 30,
   "metadata": {},
   "outputs": [],
   "source": [
    "reviews_df['Review_Lemmatized'] = reviews_df['Review_Lemmatized'].apply(lambda row: lemmatize(text=row, pos_type='a'))"
   ]
  },
  {
   "cell_type": "markdown",
   "metadata": {},
   "source": [
    "Some times we need the \"clean\" tokens per document to be a single string. Therefore we are applying the appropriate transformation where we are joining back the clean tokens into a single object."
   ]
  },
  {
   "cell_type": "code",
   "execution_count": 31,
   "metadata": {},
   "outputs": [],
   "source": [
    "reviews_df['Clean_Review_String'] = reviews_df['Review_Lemmatized'].apply(lambda row: ' '.join([x for x in row]))"
   ]
  },
  {
   "cell_type": "code",
   "execution_count": 32,
   "metadata": {},
   "outputs": [
    {
     "data": {
      "text/html": [
       "<div>\n",
       "<style scoped>\n",
       "    .dataframe tbody tr th:only-of-type {\n",
       "        vertical-align: middle;\n",
       "    }\n",
       "\n",
       "    .dataframe tbody tr th {\n",
       "        vertical-align: top;\n",
       "    }\n",
       "\n",
       "    .dataframe thead th {\n",
       "        text-align: right;\n",
       "    }\n",
       "</style>\n",
       "<table border=\"1\" class=\"dataframe\">\n",
       "  <thead>\n",
       "    <tr style=\"text-align: right;\">\n",
       "      <th></th>\n",
       "      <th>Company</th>\n",
       "      <th>Title</th>\n",
       "      <th>Review</th>\n",
       "      <th>Review_Tokenized</th>\n",
       "      <th>Review_Lemmatized</th>\n",
       "      <th>Clean_Review_String</th>\n",
       "    </tr>\n",
       "  </thead>\n",
       "  <tbody>\n",
       "    <tr>\n",
       "      <th>0</th>\n",
       "      <td>Deliveroo</td>\n",
       "      <td>Ordered food and apparently the driver…</td>\n",
       "      <td>Ordered food and apparently the driver was wai...</td>\n",
       "      <td>[ordered, apparently, waiting, 10, mins, stood...</td>\n",
       "      <td>[ordered, apparently, waiting, 10, min, stood,...</td>\n",
       "      <td>ordered apparently waiting 10 min stood outsid...</td>\n",
       "    </tr>\n",
       "    <tr>\n",
       "      <th>1</th>\n",
       "      <td>Deliveroo</td>\n",
       "      <td>Disgusting Live Customer Service CHAT!!!</td>\n",
       "      <td>I received standard bag of buttons that cost £...</td>\n",
       "      <td>[received, standard, bag, buttons, cost, £1.60...</td>\n",
       "      <td>[received, standard, bag, button, cost, £1.60,...</td>\n",
       "      <td>received standard bag button cost £1.60 asked ...</td>\n",
       "    </tr>\n",
       "    <tr>\n",
       "      <th>2</th>\n",
       "      <td>Deliveroo</td>\n",
       "      <td>Just had an appalling experience with…</td>\n",
       "      <td>Just had an appalling experience with delivero...</td>\n",
       "      <td>[appalling, experience, ordered, pizza, £10, d...</td>\n",
       "      <td>[appalling, experience, ordered, pizza, £10, d...</td>\n",
       "      <td>appalling experience ordered pizza £10 discoun...</td>\n",
       "    </tr>\n",
       "    <tr>\n",
       "      <th>3</th>\n",
       "      <td>Deliveroo</td>\n",
       "      <td>The same situation happened twice</td>\n",
       "      <td>The same situation happened twice. I ordered f...</td>\n",
       "      <td>[situation, happened, twice, ordered, around, ...</td>\n",
       "      <td>[situation, happened, twice, ordered, around, ...</td>\n",
       "      <td>situation happened twice ordered around 10 pm ...</td>\n",
       "    </tr>\n",
       "    <tr>\n",
       "      <th>4</th>\n",
       "      <td>Deliveroo</td>\n",
       "      <td>Driver left without giving us food</td>\n",
       "      <td>Driver turned up late couldn’t find us and lef...</td>\n",
       "      <td>[turned, late, find, us, left, awful]</td>\n",
       "      <td>[turned, late, find, u, left, awful]</td>\n",
       "      <td>turned late find u left awful</td>\n",
       "    </tr>\n",
       "  </tbody>\n",
       "</table>\n",
       "</div>"
      ],
      "text/plain": [
       "     Company                                     Title  \\\n",
       "0  Deliveroo   Ordered food and apparently the driver…   \n",
       "1  Deliveroo  Disgusting Live Customer Service CHAT!!!   \n",
       "2  Deliveroo    Just had an appalling experience with…   \n",
       "3  Deliveroo         The same situation happened twice   \n",
       "4  Deliveroo        Driver left without giving us food   \n",
       "\n",
       "                                              Review  \\\n",
       "0  Ordered food and apparently the driver was wai...   \n",
       "1  I received standard bag of buttons that cost £...   \n",
       "2  Just had an appalling experience with delivero...   \n",
       "3  The same situation happened twice. I ordered f...   \n",
       "4  Driver turned up late couldn’t find us and lef...   \n",
       "\n",
       "                                    Review_Tokenized  \\\n",
       "0  [ordered, apparently, waiting, 10, mins, stood...   \n",
       "1  [received, standard, bag, buttons, cost, £1.60...   \n",
       "2  [appalling, experience, ordered, pizza, £10, d...   \n",
       "3  [situation, happened, twice, ordered, around, ...   \n",
       "4              [turned, late, find, us, left, awful]   \n",
       "\n",
       "                                   Review_Lemmatized  \\\n",
       "0  [ordered, apparently, waiting, 10, min, stood,...   \n",
       "1  [received, standard, bag, button, cost, £1.60,...   \n",
       "2  [appalling, experience, ordered, pizza, £10, d...   \n",
       "3  [situation, happened, twice, ordered, around, ...   \n",
       "4               [turned, late, find, u, left, awful]   \n",
       "\n",
       "                                 Clean_Review_String  \n",
       "0  ordered apparently waiting 10 min stood outsid...  \n",
       "1  received standard bag button cost £1.60 asked ...  \n",
       "2  appalling experience ordered pizza £10 discoun...  \n",
       "3  situation happened twice ordered around 10 pm ...  \n",
       "4                      turned late find u left awful  "
      ]
     },
     "execution_count": 32,
     "metadata": {},
     "output_type": "execute_result"
    }
   ],
   "source": [
    "reviews_df[['Company', 'Title', 'Review', 'Review_Tokenized', 'Review_Lemmatized', 'Clean_Review_String']].head(5)"
   ]
  },
  {
   "cell_type": "markdown",
   "metadata": {},
   "source": [
    "We can observe how big is the difference between the initial _Review_ and the final format of the review after the preprocessing tasks, as shown in <em>Review_Merged</em>.\n",
    "\n",
    "<a id=\"eda\"></a>\n",
    "### Exploratory Data Analysis\n",
    "\n",
    "Now that the data are in a better shape, we can start with the main part of this project which is the actual analysis of the reviews. As a first step we are going to perform some exploratory data analysis, mostly by analyzing the data visually. \n",
    "\n",
    "This is an important step for every data analysis project as it will allow us to further familiarize ourselves with the data, as well as make sure that we don't identify any cases that would require further data cleaning and that we might have missed in the initial text preprocessing steps performed in the previous section.\n",
    "<a id=\"single_words\"></a>"
   ]
  },
  {
   "cell_type": "code",
   "execution_count": 33,
   "metadata": {},
   "outputs": [],
   "source": [
    "def most_common_words(input_df: pd.DataFrame,\n",
    "                      text_col: str,\n",
    "                      n_most_common=20):\n",
    "    \"\"\" Given a collection of documents as text, compute the number of most common\n",
    "    words as defined by n_most_common.\n",
    "    Args:\n",
    "    ------\n",
    "        input_df: Dataframe that contains the relevant text column\n",
    "        text_col: Name of the column\n",
    "        n_most_common: Number of most common words to calculate\n",
    "    Returns:\n",
    "    --------\n",
    "        Pandas dataframe with two columns indicating a word and number\n",
    "        of times (count) that it appears in the original input_df\n",
    "    \"\"\"\n",
    "    word_list = list([x.split() for x in input_df[text_col] if x is not None])\n",
    "    word_counter = Counter(x for xs in word_list for x in set(xs))\n",
    "    word_counter.most_common(n_most_common)\n",
    "\n",
    "    return pd.DataFrame(word_counter.most_common(n_most_common), columns=['word', 'count'])"
   ]
  },
  {
   "cell_type": "code",
   "execution_count": 34,
   "metadata": {},
   "outputs": [],
   "source": [
    "def plot_most_common_words(input_df: pd.DataFrame,\n",
    "                           text_col: str,\n",
    "                           n_most_common=20,\n",
    "                           return_counts=False,\n",
    "                           figsize=(10, 10)) -> None:\n",
    "    \n",
    "    if return_counts:\n",
    "        df = most_common_words(input_df=input_df, text_col=text_col, n_most_common=n_most_common)\n",
    "        display(HTML(df.to_html()))\n",
    "\n",
    "    fig, ax = plt.subplots(figsize=figsize)\n",
    "    common_words_df = most_common_words(input_df=input_df,\n",
    "                                        text_col=text_col,\n",
    "                                        n_most_common=n_most_common)\n",
    "    sns.barplot(x='count', y='word', data=common_words_df).set_title(f'Common Words Found - Overall',\n",
    "                                                                     fontweight='bold')\n",
    "    plt.grid(True, alpha=0.3, linestyle='-', color='black')\n",
    "    plt.show()"
   ]
  },
  {
   "cell_type": "code",
   "execution_count": 35,
   "metadata": {},
   "outputs": [
    {
     "data": {
      "text/plain": [
       "Text(0.5,1,'Number of reviews per Rating')"
      ]
     },
     "execution_count": 35,
     "metadata": {},
     "output_type": "execute_result"
    },
    {
     "data": {
      "image/png": "[encoded data removed]",
      "text/plain": [
       "<Figure size 576x432 with 1 Axes>"
      ]
     },
     "metadata": {},
     "output_type": "display_data"
    }
   ],
   "source": [
    "plt.figure(figsize=(8, 6))\n",
    "sns.countplot(x=reviews_df['Rating'], palette='muted').set_title('Number of reviews per Rating')"
   ]
  },
  {
   "cell_type": "markdown",
   "metadata": {},
   "source": [
    "As we can see the vast majority of the retrieved reviews have negative rating, and only a small amount have rating good/excellent (i.e. 4 or 5 respectively)."
   ]
  },
  {
   "cell_type": "code",
   "execution_count": 36,
   "metadata": {},
   "outputs": [
    {
     "data": {
      "text/html": [
       "<table border=\"1\" class=\"dataframe\">\n",
       "  <thead>\n",
       "    <tr style=\"text-align: right;\">\n",
       "      <th></th>\n",
       "      <th>word</th>\n",
       "      <th>count</th>\n",
       "    </tr>\n",
       "  </thead>\n",
       "  <tbody>\n",
       "    <tr>\n",
       "      <th>0</th>\n",
       "      <td>time</td>\n",
       "      <td>6137</td>\n",
       "    </tr>\n",
       "    <tr>\n",
       "      <th>1</th>\n",
       "      <td>never</td>\n",
       "      <td>5469</td>\n",
       "    </tr>\n",
       "    <tr>\n",
       "      <th>2</th>\n",
       "      <td>ordered</td>\n",
       "      <td>4871</td>\n",
       "    </tr>\n",
       "    <tr>\n",
       "      <th>3</th>\n",
       "      <td>restaurant</td>\n",
       "      <td>4095</td>\n",
       "    </tr>\n",
       "    <tr>\n",
       "      <th>4</th>\n",
       "      <td>would</td>\n",
       "      <td>4041</td>\n",
       "    </tr>\n",
       "    <tr>\n",
       "      <th>5</th>\n",
       "      <td>hour</td>\n",
       "      <td>4039</td>\n",
       "    </tr>\n",
       "    <tr>\n",
       "      <th>6</th>\n",
       "      <td>delivered</td>\n",
       "      <td>3533</td>\n",
       "    </tr>\n",
       "    <tr>\n",
       "      <th>7</th>\n",
       "      <td>money</td>\n",
       "      <td>3524</td>\n",
       "    </tr>\n",
       "    <tr>\n",
       "      <th>8</th>\n",
       "      <td>eats</td>\n",
       "      <td>3428</td>\n",
       "    </tr>\n",
       "    <tr>\n",
       "      <th>9</th>\n",
       "      <td>said</td>\n",
       "      <td>3277</td>\n",
       "    </tr>\n",
       "  </tbody>\n",
       "</table>"
      ],
      "text/plain": [
       "<IPython.core.display.HTML object>"
      ]
     },
     "metadata": {},
     "output_type": "display_data"
    },
    {
     "data": {
      "image/png": "[encoded data removed]",
      "text/plain": [
       "<Figure size 720x720 with 1 Axes>"
      ]
     },
     "metadata": {},
     "output_type": "display_data"
    }
   ],
   "source": [
    "plot_most_common_words(reviews_df, n_most_common=10, text_col='Clean_Review_String', return_counts=True)"
   ]
  },
  {
   "cell_type": "code",
   "execution_count": 37,
   "metadata": {},
   "outputs": [],
   "source": [
    "def plot_wordcloud(input_df: pd.DataFrame,\n",
    "                   text_col: str,\n",
    "                   figsize=(10, 10)) -> None:\n",
    "    \"\"\" Generate a WordCloud plot based on the number of occurenences of words\n",
    "    in a set documents\n",
    "    \"\"\"\n",
    "    plt.figure(figsize=figsize)\n",
    "    combined_text = ' '.join([x for x in input_df[text_col] if x is not None])\n",
    "    wordcloud = WordCloud().generate(combined_text)\n",
    "    plt.imshow(wordcloud, interpolation='bilinear')\n",
    "    plt.axis(\"off\")\n",
    "    plt.show()"
   ]
  },
  {
   "cell_type": "markdown",
   "metadata": {},
   "source": [
    "By examining each word separately we are making the assumption that the words (and so their order) do not play any role into the general meaning of the text. Thus, we can go a step further and identify pairs of words (**bigrams**) that tend to appear next to each other.\n",
    "<a id=\"bigrams_eda\"></a>"
   ]
  },
  {
   "cell_type": "code",
   "execution_count": 38,
   "metadata": {},
   "outputs": [],
   "source": [
    "def compute_bigrams(input_df: pd.DataFrame,\n",
    "                    text_col: str) -> dict:\n",
    "    \"\"\" Calculate the number of occurences where a pair of words appear next to\n",
    "    each other, and return a dictionary of {pair of words: count}.\n",
    "    \"\"\"\n",
    "    combined_text = ' '.join([x for x in input_df[text_col]])\n",
    "\n",
    "    finder = BigramCollocationFinder.from_words(word_tokenize(combined_text))\n",
    "\n",
    "    bigrams_dict = {}\n",
    "    for k, v in finder.ngram_fd.items():\n",
    "        if len(k[0]) > 1 and len(k[1]) > 1:\n",
    "            bigrams_dict[k] = v\n",
    "        else:\n",
    "            continue\n",
    "    return bigrams_dict"
   ]
  },
  {
   "cell_type": "code",
   "execution_count": 39,
   "metadata": {},
   "outputs": [],
   "source": [
    "def plot_bigrams(input_df: pd.DataFrame,\n",
    "                 text_col: str,\n",
    "                 top_n: int,\n",
    "                 rotation=0.8,\n",
    "                 figsize=(10, 8)) -> None:\n",
    "\n",
    "    bigrams_dict = compute_bigrams(input_df=input_df, text_col=text_col)\n",
    "    bigrams_sorted = sorted(bigrams_dict.items(), key=lambda x: x[1], reverse=True)[0:top_n]\n",
    "    bgram, counts = list(zip(*bigrams_sorted))\n",
    "    bgstring = list(map(lambda txt: '_'.join(txt), bgram))\n",
    "\n",
    "    plt.figure(figsize=figsize)\n",
    "    g = sns.barplot(bgstring, counts, palette='muted')\n",
    "    g.set_xticklabels(g.get_xticklabels(), rotation=rotation)\n",
    "    plt.title(f'Top-{top_n} pairs of words that appear next to each other',\n",
    "              fontweight='bold')\n",
    "    plt.ylabel('Count')\n",
    "    plt.grid(True, alpha=0.1, color='black')\n",
    "    plt.show()"
   ]
  },
  {
   "cell_type": "code",
   "execution_count": 40,
   "metadata": {},
   "outputs": [],
   "source": [
    "bigrams = compute_bigrams(reviews_df, text_col='Clean_Review_String')"
   ]
  },
  {
   "cell_type": "code",
   "execution_count": 41,
   "metadata": {},
   "outputs": [
    {
     "data": {
      "text/html": [
       "<div>\n",
       "<style scoped>\n",
       "    .dataframe tbody tr th:only-of-type {\n",
       "        vertical-align: middle;\n",
       "    }\n",
       "\n",
       "    .dataframe tbody tr th {\n",
       "        vertical-align: top;\n",
       "    }\n",
       "\n",
       "    .dataframe thead th {\n",
       "        text-align: right;\n",
       "    }\n",
       "</style>\n",
       "<table border=\"1\" class=\"dataframe\">\n",
       "  <thead>\n",
       "    <tr style=\"text-align: right;\">\n",
       "      <th></th>\n",
       "      <th>Bigram</th>\n",
       "      <th>Count</th>\n",
       "    </tr>\n",
       "  </thead>\n",
       "  <tbody>\n",
       "    <tr>\n",
       "      <th>0</th>\n",
       "      <td>(missing, item)</td>\n",
       "      <td>842</td>\n",
       "    </tr>\n",
       "    <tr>\n",
       "      <th>1</th>\n",
       "      <td>(money, back)</td>\n",
       "      <td>814</td>\n",
       "    </tr>\n",
       "    <tr>\n",
       "      <th>2</th>\n",
       "      <td>(first, time)</td>\n",
       "      <td>786</td>\n",
       "    </tr>\n",
       "    <tr>\n",
       "      <th>3</th>\n",
       "      <td>(hour, late)</td>\n",
       "      <td>738</td>\n",
       "    </tr>\n",
       "    <tr>\n",
       "      <th>4</th>\n",
       "      <td>(never, arrived)</td>\n",
       "      <td>624</td>\n",
       "    </tr>\n",
       "    <tr>\n",
       "      <th>5</th>\n",
       "      <td>(live, chat)</td>\n",
       "      <td>523</td>\n",
       "    </tr>\n",
       "    <tr>\n",
       "      <th>6</th>\n",
       "      <td>(stone, cold)</td>\n",
       "      <td>495</td>\n",
       "    </tr>\n",
       "    <tr>\n",
       "      <th>7</th>\n",
       "      <td>(said, would)</td>\n",
       "      <td>471</td>\n",
       "    </tr>\n",
       "    <tr>\n",
       "      <th>8</th>\n",
       "      <td>(48, hour)</td>\n",
       "      <td>464</td>\n",
       "    </tr>\n",
       "    <tr>\n",
       "      <th>9</th>\n",
       "      <td>(item, missing)</td>\n",
       "      <td>447</td>\n",
       "    </tr>\n",
       "    <tr>\n",
       "      <th>10</th>\n",
       "      <td>(wrong, address)</td>\n",
       "      <td>429</td>\n",
       "    </tr>\n",
       "    <tr>\n",
       "      <th>11</th>\n",
       "      <td>(bad, ever)</td>\n",
       "      <td>416</td>\n",
       "    </tr>\n",
       "    <tr>\n",
       "      <th>12</th>\n",
       "      <td>(waste, time)</td>\n",
       "      <td>404</td>\n",
       "    </tr>\n",
       "    <tr>\n",
       "      <th>13</th>\n",
       "      <td>(bad, experience)</td>\n",
       "      <td>399</td>\n",
       "    </tr>\n",
       "    <tr>\n",
       "      <th>14</th>\n",
       "      <td>(last, time)</td>\n",
       "      <td>389</td>\n",
       "    </tr>\n",
       "  </tbody>\n",
       "</table>\n",
       "</div>"
      ],
      "text/plain": [
       "               Bigram  Count\n",
       "0     (missing, item)    842\n",
       "1       (money, back)    814\n",
       "2       (first, time)    786\n",
       "3        (hour, late)    738\n",
       "4    (never, arrived)    624\n",
       "5        (live, chat)    523\n",
       "6       (stone, cold)    495\n",
       "7       (said, would)    471\n",
       "8          (48, hour)    464\n",
       "9     (item, missing)    447\n",
       "10   (wrong, address)    429\n",
       "11        (bad, ever)    416\n",
       "12      (waste, time)    404\n",
       "13  (bad, experience)    399\n",
       "14       (last, time)    389"
      ]
     },
     "execution_count": 41,
     "metadata": {},
     "output_type": "execute_result"
    }
   ],
   "source": [
    "pd.DataFrame(sorted(bigrams.items(), key=lambda item: item[1], reverse=True), columns=['Bigram', 'Count']).head(15)"
   ]
  },
  {
   "cell_type": "code",
   "execution_count": 42,
   "metadata": {},
   "outputs": [
    {
     "data": {
      "image/png": "[encoded data removed]",
      "text/plain": [
       "<Figure size 1440x432 with 1 Axes>"
      ]
     },
     "metadata": {},
     "output_type": "display_data"
    }
   ],
   "source": [
    "plot_bigrams(input_df=reviews_df, text_col='Clean_Review_String', top_n=20, rotation=45, figsize=(20, 6))"
   ]
  },
  {
   "cell_type": "markdown",
   "metadata": {},
   "source": [
    "From the bigrams plot we can infer that there are 3 main topics in the data:\n",
    "\n",
    "1. Case where order arrived but an item was missing (e.g.\"missing item\")\n",
    "2. Case where items received very late (\"hour late\", \"stone cold\", \"waste time\")\n",
    "3. Case when the order never arrived (\"wrong-adress\", \"never arrived\")\n",
    "4. Case when there was an issue related to promotional code or pricing (\"promo_code\")\n",
    "    \n",
    "We have initially observed that the bigram \"customer service\" appears in the majority of the reviews. This is something expected, as in general reviews in TrustPilot for delivery companies tend to contain reviews about problems that the customers might have faced. \n",
    "\n",
    "Hence, it's regular when a customer facing an issue with their order, to contact the customer service of the company, independently of the nature of the issue (i.e. any of the 4 points we mentioned above). Queries about the customer service might not add a lot of information in the data as they seem to be part around in 1/3 of the total reviews. One option would be to remove these words from our analysis - by adding them in the stopwords list. Therefore, \"customer service\", as well as other combinations of words that don't offer a lot in our analysis, has been excluded from our data at this point of the project.\n",
    "\n",
    "In the next section we will finally get into the modelling part of the project. Based on our findings above and by leveraging a well known method for topic modelling (i.e. LDA), we will attempt build a model that is able to identify the different topics that exist inside the reviews.\n",
    "\n",
    "As a last step, we will split the main dataframe into two separate ones - one of positive reviews (ratings 4 & 5) and one for negative reviews (ratings 1, 2 and 3)."
   ]
  },
  {
   "cell_type": "code",
   "execution_count": 43,
   "metadata": {},
   "outputs": [
    {
     "data": {
      "text/plain": [
       "(18178, 13)"
      ]
     },
     "execution_count": 43,
     "metadata": {},
     "output_type": "execute_result"
    }
   ],
   "source": [
    "negative_reviews_df = reviews_df[reviews_df['Rating'] <= 4]\n",
    "negative_reviews_df.reset_index(inplace=True)\n",
    "negative_reviews_df.shape"
   ]
  },
  {
   "cell_type": "code",
   "execution_count": 44,
   "metadata": {},
   "outputs": [
    {
     "data": {
      "text/plain": [
       "(742, 13)"
      ]
     },
     "execution_count": 44,
     "metadata": {},
     "output_type": "execute_result"
    }
   ],
   "source": [
    "positive_reviews_df = reviews_df[reviews_df['Rating'] == 5]\n",
    "positive_reviews_df.reset_index(inplace=True)\n",
    "positive_reviews_df.shape"
   ]
  },
  {
   "cell_type": "markdown",
   "metadata": {},
   "source": [
    "<a id=\"lda\"></a>\n",
    "## Latent Dirichlet Allocation (LDA) Model\n",
    "\n",
    "LDA is one of the most - if not the most - common methods/algorithms used for _topic modeling_. We can think of topic modeling as an unsupervised technique where we use when we want to \"classify\" a collection of documents under a predefined amount of topics, _but_ without knowing what these topics are about. Algorithms that fall under this category are usually utilizing the frequencies that words appear in the documents to extract insights and identify clusters of documents that contain similar words. \n",
    "\n",
    "The LDA model attempts to identify these clusters of documents and create the topics by making a few assumptions, such as:  \n",
    "\n",
    "   1) Each document is a collection of multiple topics (i.e. one document can belong to many topics at the same time)<br>\n",
    "   2) Each topic is represented by a collection/distribution of words<br>\n",
    "   3) Each document is a distribution of words\n",
    "    \n",
    "Note that in LDA we do not care about the order of the words - hence we can think of LDA as a bag of words model. Intuitively this makes sense, as even if we change the order of words in a document we should still be able to infer what the document might be talking about just by observing the words that are present.\n",
    "\n",
    "Again, note that from this point when we are refering to <em>words</em>, we will actually mean pairs of words (<em>bigrams</em>) - which are going to be the input of the LDA algorithm."
   ]
  },
  {
   "cell_type": "code",
   "execution_count": 45,
   "metadata": {},
   "outputs": [],
   "source": [
    "from sklearn.feature_extraction.text import CountVectorizer\n",
    "from sklearn.decomposition import LatentDirichletAllocation\n",
    "from scipy.sparse.csr import csr_matrix"
   ]
  },
  {
   "cell_type": "code",
   "execution_count": 46,
   "metadata": {},
   "outputs": [],
   "source": [
    "def countvectorizer_to_dict(vectorizer: CountVectorizer,\n",
    "                            matrix: csr_matrix) -> dict:\n",
    "    feature_names = vectorizer.get_feature_names()\n",
    "    counts = np.asarray(matrix.sum(axis=0))[0]\n",
    "    return dict(zip(feature_names, counts))"
   ]
  },
  {
   "cell_type": "code",
   "execution_count": 47,
   "metadata": {},
   "outputs": [],
   "source": [
    "def get_per_topic_wordweights(model,\n",
    "                              feature_names: List[str],\n",
    "                              sort=True):\n",
    "    word_weights_per_topic = []\n",
    "    for i, topic in enumerate(model.components_):\n",
    "        weights = list(zip(feature_names, topic))\n",
    "        if sort:\n",
    "            weights = sorted(weights, key=lambda x: x[1], reverse=True)\n",
    "        word_weights_per_topic.append([i, weights])\n",
    "    return word_weights_per_topic"
   ]
  },
  {
   "cell_type": "code",
   "execution_count": 48,
   "metadata": {},
   "outputs": [],
   "source": [
    "def show_top_words_per_topic(model,\n",
    "                             feature_names: List[str],\n",
    "                             num_top_words: int):\n",
    "    for i in range(0, len(model.components_)):\n",
    "        weights = get_per_topic_wordweights(model, feature_names)[i][1]\n",
    "        print('Topic {0} : {1} \\n'.format(i+1, weights[0:num_top_words]))"
   ]
  },
  {
   "cell_type": "code",
   "execution_count": 49,
   "metadata": {},
   "outputs": [],
   "source": [
    "def vect_to_ngrams_col(vector_matrix_df: pd.DataFrame) -> List[List['str']]:\n",
    "    \"\"\" Given a sparse matrix, get the column names where respective columns of that document\n",
    "    have non-zero values - indicating that the relative column is a word present in the document. \n",
    "    \"\"\"\n",
    "    combined_ngrams_ls = []\n",
    "    for i in vector_matrix_df.index:\n",
    "        ngrams_ls = []\n",
    "        for j in list(np.where(vector_matrix_df.iloc[i] != 0)[0]):\n",
    "            ngrams_ls.append(vector_matrix_df.columns[j])\n",
    "        combined_ngrams_ls.append(ngrams_ls)\n",
    "    return combined_ngrams_ls"
   ]
  },
  {
   "cell_type": "code",
   "execution_count": 50,
   "metadata": {},
   "outputs": [],
   "source": [
    "def assign_topic(topic_probs: List[float], threshold=0.65) -> int:\n",
    "    \"\"\" Assign a topic to a review based on the topic with the highest probability.\n",
    "    If no topic probability exceeds threshold, no assignment is being completed.\n",
    "    \"\"\"\n",
    "    max_likelihood = np.max(topic_probs)\n",
    "    if threshold < max_likelihood:\n",
    "        max_topic_idx = np.argmax(topic_probs)\n",
    "        if max_topic_idx==0:\n",
    "            max_topic_idx = 1\n",
    "        else:\n",
    "            max_topic_idx += 1\n",
    "        return max_topic_idx\n",
    "    else:\n",
    "        return 0"
   ]
  },
  {
   "cell_type": "markdown",
   "metadata": {},
   "source": [
    "<a id=\"bigrams_lda\"></a>\n",
    "Compute the bigrams which will be the new tokens, and create the sparse matrix which will contain the bigram counts:"
   ]
  },
  {
   "cell_type": "code",
   "execution_count": 198,
   "metadata": {},
   "outputs": [],
   "source": [
    "vectorizer = CountVectorizer(max_df=1.0,\n",
    "                             min_df=5,\n",
    "                             max_features=12000,\n",
    "                             ngram_range=(2,2))"
   ]
  },
  {
   "cell_type": "markdown",
   "metadata": {},
   "source": [
    "The above object will help us with creating a sparse matrix where each row is a document and each column is a word.<br>\n",
    "The value under $x_i, y_i$ represents a count of how many times that specific word ($y_i$) appears in that document ($x_i$)."
   ]
  },
  {
   "cell_type": "code",
   "execution_count": 199,
   "metadata": {},
   "outputs": [],
   "source": [
    "cv = vectorizer.fit_transform(negative_reviews_df['Clean_Review_String'])"
   ]
  },
  {
   "cell_type": "code",
   "execution_count": 200,
   "metadata": {},
   "outputs": [
    {
     "data": {
      "text/plain": [
       "(18178, 12000)"
      ]
     },
     "execution_count": 200,
     "metadata": {},
     "output_type": "execute_result"
    }
   ],
   "source": [
    "cv.shape"
   ]
  },
  {
   "cell_type": "code",
   "execution_count": 201,
   "metadata": {},
   "outputs": [],
   "source": [
    "vect_matrix_df = pd.DataFrame(cv.toarray(), columns=vectorizer.get_feature_names())"
   ]
  },
  {
   "cell_type": "code",
   "execution_count": 202,
   "metadata": {},
   "outputs": [],
   "source": [
    "ngrams_gen = vect_to_ngrams_col(vector_matrix_df=vect_matrix_df)"
   ]
  },
  {
   "cell_type": "code",
   "execution_count": 203,
   "metadata": {},
   "outputs": [
    {
     "name": "stderr",
     "output_type": "stream",
     "text": [
      "C:\\ProgramData\\Anaconda3\\lib\\site-packages\\ipykernel_launcher.py:1: SettingWithCopyWarning: \n",
      "A value is trying to be set on a copy of a slice from a DataFrame.\n",
      "Try using .loc[row_indexer,col_indexer] = value instead\n",
      "\n",
      "See the caveats in the documentation: http://pandas.pydata.org/pandas-docs/stable/indexing.html#indexing-view-versus-copy\n",
      "  \"\"\"Entry point for launching an IPython kernel.\n"
     ]
    }
   ],
   "source": [
    "negative_reviews_df['ngrams'] = ngrams_gen"
   ]
  },
  {
   "cell_type": "code",
   "execution_count": 204,
   "metadata": {},
   "outputs": [
    {
     "data": {
      "text/plain": [
       "'ordered apparently waiting 10 min stood outside useless dont bother stick eat'"
      ]
     },
     "execution_count": 204,
     "metadata": {},
     "output_type": "execute_result"
    }
   ],
   "source": [
    "negative_reviews_df.iloc[0]['Clean_Review_String']"
   ]
  },
  {
   "cell_type": "code",
   "execution_count": 205,
   "metadata": {},
   "outputs": [
    {
     "data": {
      "text/plain": [
       "['10 min',\n",
       " 'apparently waiting',\n",
       " 'dont bother',\n",
       " 'stick eat',\n",
       " 'stood outside',\n",
       " 'waiting 10']"
      ]
     },
     "execution_count": 205,
     "metadata": {},
     "output_type": "execute_result"
    }
   ],
   "source": [
    "negative_reviews_df.iloc[0]['ngrams']"
   ]
  },
  {
   "cell_type": "markdown",
   "metadata": {},
   "source": [
    "Thus, we can see that we have created a matrix which consist of 17583 distinct documents (reviews) and a total of 5922 words. As a reminder, in our project we are working with bigrams, and thus we have create a matrix where each column is a bigram combination.\n",
    "\n",
    "We can better visualize the output as follows:"
   ]
  },
  {
   "cell_type": "code",
   "execution_count": 206,
   "metadata": {},
   "outputs": [],
   "source": [
    "word_counts = countvectorizer_to_dict(vectorizer=vectorizer, matrix=cv)"
   ]
  },
  {
   "cell_type": "code",
   "execution_count": 207,
   "metadata": {},
   "outputs": [
    {
     "data": {
      "text/html": [
       "<div>\n",
       "<style scoped>\n",
       "    .dataframe tbody tr th:only-of-type {\n",
       "        vertical-align: middle;\n",
       "    }\n",
       "\n",
       "    .dataframe tbody tr th {\n",
       "        vertical-align: top;\n",
       "    }\n",
       "\n",
       "    .dataframe thead th {\n",
       "        text-align: right;\n",
       "    }\n",
       "</style>\n",
       "<table border=\"1\" class=\"dataframe\">\n",
       "  <thead>\n",
       "    <tr style=\"text-align: right;\">\n",
       "      <th></th>\n",
       "      <th>Bigram</th>\n",
       "      <th>Count</th>\n",
       "    </tr>\n",
       "  </thead>\n",
       "  <tbody>\n",
       "    <tr>\n",
       "      <th>0</th>\n",
       "      <td>missing item</td>\n",
       "      <td>853</td>\n",
       "    </tr>\n",
       "    <tr>\n",
       "      <th>1</th>\n",
       "      <td>money back</td>\n",
       "      <td>848</td>\n",
       "    </tr>\n",
       "    <tr>\n",
       "      <th>2</th>\n",
       "      <td>first time</td>\n",
       "      <td>780</td>\n",
       "    </tr>\n",
       "    <tr>\n",
       "      <th>3</th>\n",
       "      <td>hour late</td>\n",
       "      <td>741</td>\n",
       "    </tr>\n",
       "    <tr>\n",
       "      <th>4</th>\n",
       "      <td>never arrived</td>\n",
       "      <td>641</td>\n",
       "    </tr>\n",
       "    <tr>\n",
       "      <th>5</th>\n",
       "      <td>live chat</td>\n",
       "      <td>528</td>\n",
       "    </tr>\n",
       "    <tr>\n",
       "      <th>6</th>\n",
       "      <td>stone cold</td>\n",
       "      <td>514</td>\n",
       "    </tr>\n",
       "    <tr>\n",
       "      <th>7</th>\n",
       "      <td>48 hour</td>\n",
       "      <td>485</td>\n",
       "    </tr>\n",
       "    <tr>\n",
       "      <th>8</th>\n",
       "      <td>said would</td>\n",
       "      <td>471</td>\n",
       "    </tr>\n",
       "    <tr>\n",
       "      <th>9</th>\n",
       "      <td>item missing</td>\n",
       "      <td>449</td>\n",
       "    </tr>\n",
       "    <tr>\n",
       "      <th>10</th>\n",
       "      <td>wrong address</td>\n",
       "      <td>434</td>\n",
       "    </tr>\n",
       "    <tr>\n",
       "      <th>11</th>\n",
       "      <td>bad ever</td>\n",
       "      <td>423</td>\n",
       "    </tr>\n",
       "    <tr>\n",
       "      <th>12</th>\n",
       "      <td>last time</td>\n",
       "      <td>418</td>\n",
       "    </tr>\n",
       "    <tr>\n",
       "      <th>13</th>\n",
       "      <td>waste time</td>\n",
       "      <td>415</td>\n",
       "    </tr>\n",
       "    <tr>\n",
       "      <th>14</th>\n",
       "      <td>bad experience</td>\n",
       "      <td>388</td>\n",
       "    </tr>\n",
       "  </tbody>\n",
       "</table>\n",
       "</div>"
      ],
      "text/plain": [
       "            Bigram  Count\n",
       "0     missing item    853\n",
       "1       money back    848\n",
       "2       first time    780\n",
       "3        hour late    741\n",
       "4    never arrived    641\n",
       "5        live chat    528\n",
       "6       stone cold    514\n",
       "7          48 hour    485\n",
       "8       said would    471\n",
       "9     item missing    449\n",
       "10   wrong address    434\n",
       "11        bad ever    423\n",
       "12       last time    418\n",
       "13      waste time    415\n",
       "14  bad experience    388"
      ]
     },
     "execution_count": 207,
     "metadata": {},
     "output_type": "execute_result"
    }
   ],
   "source": [
    "pd.DataFrame(sorted(word_counts.items(), key=lambda item: item[1], reverse=True), columns=['Bigram', 'Count']).head(15)"
   ]
  },
  {
   "cell_type": "markdown",
   "metadata": {},
   "source": [
    "Latent Dirichlet Allocation model requires the number of topics as an input from the user. As we saw above, seems like the reviews are splitted into 4 categories.\n",
    "Therefore, we are going to set this parameter to 4 and attempt to identify these topics in the reviews.\n",
    "<a id=\"lda_model\"></a>"
   ]
  },
  {
   "cell_type": "code",
   "execution_count": 208,
   "metadata": {},
   "outputs": [],
   "source": [
    "number_of_topics = 4"
   ]
  },
  {
   "cell_type": "code",
   "execution_count": 209,
   "metadata": {},
   "outputs": [],
   "source": [
    "lda_model = LatentDirichletAllocation(n_components=number_of_topics,\n",
    "                                      learning_method='batch',\n",
    "                                      learning_offset=20,\n",
    "                                      doc_topic_prior= 2 * (1/number_of_topics),\n",
    "                                      max_iter=30,\n",
    "                                      random_state=10,\n",
    "                                      n_jobs=-1,\n",
    "                                      verbose=0)"
   ]
  },
  {
   "cell_type": "code",
   "execution_count": 210,
   "metadata": {},
   "outputs": [
    {
     "data": {
      "text/plain": [
       "LatentDirichletAllocation(batch_size=128, doc_topic_prior=0.5,\n",
       "                          evaluate_every=-1, learning_decay=0.7,\n",
       "                          learning_method='batch', learning_offset=20,\n",
       "                          max_doc_update_iter=100, max_iter=30,\n",
       "                          mean_change_tol=0.001, n_components=4, n_jobs=-1,\n",
       "                          perp_tol=0.1, random_state=10, topic_word_prior=None,\n",
       "                          total_samples=1000000.0, verbose=0)"
      ]
     },
     "execution_count": 210,
     "metadata": {},
     "output_type": "execute_result"
    }
   ],
   "source": [
    "lda_model.fit(cv)"
   ]
  },
  {
   "cell_type": "code",
   "execution_count": 211,
   "metadata": {},
   "outputs": [
    {
     "data": {
      "text/plain": [
       "(4, 12000, 12000, 12000, 12000)"
      ]
     },
     "execution_count": 211,
     "metadata": {},
     "output_type": "execute_result"
    }
   ],
   "source": [
    "len(lda_model.components_), len(lda_model.components_[0]), len(lda_model.components_[1]), len(lda_model.components_[2]), len(lda_model.components_[3])"
   ]
  },
  {
   "cell_type": "markdown",
   "metadata": {},
   "source": [
    "We can see the weight (parameter) of each word for a specific topic, as follows:"
   ]
  },
  {
   "cell_type": "code",
   "execution_count": 212,
   "metadata": {},
   "outputs": [
    {
     "data": {
      "text/plain": [
       "array([ 0.28246193,  0.25453515,  0.25785953, ...,  7.22949637,\n",
       "       17.05209522,  0.30454368])"
      ]
     },
     "execution_count": 212,
     "metadata": {},
     "output_type": "execute_result"
    }
   ],
   "source": [
    "lda_model.components_[0]"
   ]
  },
  {
   "cell_type": "markdown",
   "metadata": {},
   "source": [
    "The above can be interpreted as a pseudocount of the number of times that word (bigram) $x_i$ was assigned to document topic $z_i$. Hence, the first case in the example we have a pseudocount of 3.17953413 for word $x_1$ on topic 0 (which is the first topic)."
   ]
  },
  {
   "cell_type": "code",
   "execution_count": 213,
   "metadata": {},
   "outputs": [],
   "source": [
    "topic_weights = get_per_topic_wordweights(lda_model,\n",
    "                                          feature_names=vectorizer.get_feature_names(),\n",
    "                                          sort=True)"
   ]
  },
  {
   "cell_type": "code",
   "execution_count": 214,
   "metadata": {},
   "outputs": [
    {
     "data": {
      "text/plain": [
       "[('missing item', 853.2282687314279),\n",
       " ('item missing', 449.2249394246536),\n",
       " ('promo code', 387.2376464951733),\n",
       " ('bad ever', 303.4699421989634),\n",
       " ('bad company', 284.220188758004)]"
      ]
     },
     "execution_count": 214,
     "metadata": {},
     "output_type": "execute_result"
    }
   ],
   "source": [
    "# This corresponds to topic 0, and the top 5 bigrams accounting for this topic\n",
    "topic_weights[0][1][0:5]  # [1] is a positional index and should remain same independently of the document"
   ]
  },
  {
   "cell_type": "code",
   "execution_count": 215,
   "metadata": {},
   "outputs": [
    {
     "name": "stdout",
     "output_type": "stream",
     "text": [
      "Topic 1 : [('missing item', 853.2282687314279), ('item missing', 449.2249394246536), ('promo code', 387.2376464951733), ('bad ever', 303.4699421989634), ('bad company', 284.220188758004), ('every time', 284.14615845028766), ('go wrong', 219.4100877484828), ('late cold', 219.21641950154878), ('deleted app', 203.8107798709042), ('discount code', 200.22792737958176), ('company ever', 187.21763369990433), ('bad experience', 165.01320365237413), ('star would', 161.93818268736754), ('full price', 157.23303351727452), ('full amount', 156.2181531286745), ('much good', 150.26070667120857), ('money back', 147.83710947398805), ('charged full', 141.2192552560208), ('double check', 135.23925233622475), ('zero star', 129.7846999197026)] \n",
      "\n",
      "Topic 2 : [('hour late', 741.2126709167635), ('stone cold', 514.2164459948359), ('live chat', 439.05824501052456), ('minute late', 376.4442010261395), ('still waiting', 298.2023699027176), ('20 minute', 295.3636990018864), ('waited hour', 293.39316666488816), ('half hour', 288.3603758479034), ('10 minute', 284.89768886785197), ('30 minute', 273.2262514909296), ('hour half', 268.2331234274916), ('waiting hour', 263.07655672234563), ('called restaurant', 260.61582364198796), ('two hour', 251.2263646730501), ('took hour', 223.22086059708323), ('bad experience', 222.80505316662945), ('45 minute', 214.03688658343893), ('40 minute', 205.2243181746611), ('30 min', 204.21652699141282), ('15 minute', 201.2110225769584)] \n",
      "\n",
      "Topic 3 : [('first time', 775.6744911582601), ('never arrived', 616.8021142617954), ('48 hour', 448.49614001053), ('wrong address', 434.2285996987517), ('last time', 416.6125747487885), ('never received', 357.6584688960254), ('said delivered', 311.21614861407306), ('second time', 300.07444185167157), ('delivered wrong', 255.64099824782878), ('said would', 232.63428772655124), ('money back', 225.07878194623748), ('time ordered', 224.46772225583953), ('never got', 216.29967157253773), ('never delivered', 202.46743215052874), ('never using', 200.2657973407429), ('tried call', 195.30546005371062), ('avoid avoid', 187.218061124068), ('message saying', 184.72427003363845), ('time using', 178.2223416119079), ('first last', 162.2216525221988)] \n",
      "\n",
      "Topic 4 : [('money back', 474.8371327969161), ('waste time', 415.2078484894006), ('phone number', 324.2154874573978), ('took money', 246.63879007204406), ('someone else', 245.85405259610093), ('take money', 245.75724174715896), ('credit card', 229.21820603652043), ('call back', 184.47041865054237), ('would never', 145.22057841193458), ('bank account', 145.11705338575584), ('phone call', 137.92447543979395), ('way contact', 128.55584376168315), ('email address', 124.22015956820798), ('time money', 124.21807112767364), ('gift card', 121.75182759856452), ('waste money', 116.20526907255315), ('24 hour', 110.28297450884371), ('take responsibility', 106.95310404158464), ('never ever', 105.51392873520919), ('money account', 105.26760787309705)] \n",
      "\n"
     ]
    }
   ],
   "source": [
    "show_top_words_per_topic(lda_model, feature_names=vectorizer.get_feature_names(), num_top_words=20)"
   ]
  },
  {
   "cell_type": "code",
   "execution_count": 216,
   "metadata": {},
   "outputs": [],
   "source": [
    "vectorizer_pos = CountVectorizer(max_df=1.0,\n",
    "                             min_df=2,\n",
    "                             max_features=12000,\n",
    "                             ngram_range=(2,2))"
   ]
  },
  {
   "cell_type": "code",
   "execution_count": 217,
   "metadata": {},
   "outputs": [],
   "source": [
    "cv_pos = vectorizer_pos.fit_transform(positive_reviews_df['Clean_Review_String'])"
   ]
  },
  {
   "cell_type": "code",
   "execution_count": 218,
   "metadata": {},
   "outputs": [],
   "source": [
    "vect_matrix_df_pos = pd.DataFrame(cv_pos.toarray(), columns=vectorizer_pos.get_feature_names())"
   ]
  },
  {
   "cell_type": "code",
   "execution_count": 219,
   "metadata": {},
   "outputs": [],
   "source": [
    "ngrams_gen_pos = vect_to_ngrams_col(vector_matrix_df=vect_matrix_df_pos)"
   ]
  },
  {
   "cell_type": "code",
   "execution_count": 220,
   "metadata": {},
   "outputs": [
    {
     "name": "stderr",
     "output_type": "stream",
     "text": [
      "C:\\ProgramData\\Anaconda3\\lib\\site-packages\\ipykernel_launcher.py:1: SettingWithCopyWarning: \n",
      "A value is trying to be set on a copy of a slice from a DataFrame.\n",
      "Try using .loc[row_indexer,col_indexer] = value instead\n",
      "\n",
      "See the caveats in the documentation: http://pandas.pydata.org/pandas-docs/stable/indexing.html#indexing-view-versus-copy\n",
      "  \"\"\"Entry point for launching an IPython kernel.\n"
     ]
    }
   ],
   "source": [
    "positive_reviews_df['ngrams'] = ngrams_gen_pos"
   ]
  },
  {
   "cell_type": "code",
   "execution_count": 221,
   "metadata": {},
   "outputs": [],
   "source": [
    "word_counts_pos = countvectorizer_to_dict(vectorizer=vectorizer_pos, matrix=cv_pos)"
   ]
  },
  {
   "cell_type": "code",
   "execution_count": 222,
   "metadata": {},
   "outputs": [
    {
     "data": {
      "text/html": [
       "<div>\n",
       "<style scoped>\n",
       "    .dataframe tbody tr th:only-of-type {\n",
       "        vertical-align: middle;\n",
       "    }\n",
       "\n",
       "    .dataframe tbody tr th {\n",
       "        vertical-align: top;\n",
       "    }\n",
       "\n",
       "    .dataframe thead th {\n",
       "        text-align: right;\n",
       "    }\n",
       "</style>\n",
       "<table border=\"1\" class=\"dataframe\">\n",
       "  <thead>\n",
       "    <tr style=\"text-align: right;\">\n",
       "      <th></th>\n",
       "      <th>Bigram</th>\n",
       "      <th>Count</th>\n",
       "    </tr>\n",
       "  </thead>\n",
       "  <tbody>\n",
       "    <tr>\n",
       "      <th>0</th>\n",
       "      <td>first time</td>\n",
       "      <td>24</td>\n",
       "    </tr>\n",
       "    <tr>\n",
       "      <th>1</th>\n",
       "      <td>bad review</td>\n",
       "      <td>20</td>\n",
       "    </tr>\n",
       "    <tr>\n",
       "      <th>2</th>\n",
       "      <td>bad experience</td>\n",
       "      <td>18</td>\n",
       "    </tr>\n",
       "    <tr>\n",
       "      <th>3</th>\n",
       "      <td>good experience</td>\n",
       "      <td>18</td>\n",
       "    </tr>\n",
       "    <tr>\n",
       "      <th>4</th>\n",
       "      <td>never problem</td>\n",
       "      <td>16</td>\n",
       "    </tr>\n",
       "    <tr>\n",
       "      <th>5</th>\n",
       "      <td>missing item</td>\n",
       "      <td>15</td>\n",
       "    </tr>\n",
       "    <tr>\n",
       "      <th>6</th>\n",
       "      <td>always good</td>\n",
       "      <td>14</td>\n",
       "    </tr>\n",
       "    <tr>\n",
       "      <th>7</th>\n",
       "      <td>always great</td>\n",
       "      <td>14</td>\n",
       "    </tr>\n",
       "    <tr>\n",
       "      <th>8</th>\n",
       "      <td>take away</td>\n",
       "      <td>14</td>\n",
       "    </tr>\n",
       "    <tr>\n",
       "      <th>9</th>\n",
       "      <td>would recommend</td>\n",
       "      <td>14</td>\n",
       "    </tr>\n",
       "    <tr>\n",
       "      <th>10</th>\n",
       "      <td>highly recommend</td>\n",
       "      <td>12</td>\n",
       "    </tr>\n",
       "    <tr>\n",
       "      <th>11</th>\n",
       "      <td>negative review</td>\n",
       "      <td>12</td>\n",
       "    </tr>\n",
       "    <tr>\n",
       "      <th>12</th>\n",
       "      <td>never issue</td>\n",
       "      <td>12</td>\n",
       "    </tr>\n",
       "    <tr>\n",
       "      <th>13</th>\n",
       "      <td>every time</td>\n",
       "      <td>11</td>\n",
       "    </tr>\n",
       "    <tr>\n",
       "      <th>14</th>\n",
       "      <td>always delivered</td>\n",
       "      <td>10</td>\n",
       "    </tr>\n",
       "  </tbody>\n",
       "</table>\n",
       "</div>"
      ],
      "text/plain": [
       "              Bigram  Count\n",
       "0         first time     24\n",
       "1         bad review     20\n",
       "2     bad experience     18\n",
       "3    good experience     18\n",
       "4      never problem     16\n",
       "5       missing item     15\n",
       "6        always good     14\n",
       "7       always great     14\n",
       "8          take away     14\n",
       "9    would recommend     14\n",
       "10  highly recommend     12\n",
       "11   negative review     12\n",
       "12       never issue     12\n",
       "13        every time     11\n",
       "14  always delivered     10"
      ]
     },
     "execution_count": 222,
     "metadata": {},
     "output_type": "execute_result"
    }
   ],
   "source": [
    "pd.DataFrame(sorted(word_counts_pos.items(), key=lambda item: item[1], reverse=True), columns=['Bigram', 'Count']).head(15)"
   ]
  },
  {
   "cell_type": "code",
   "execution_count": 226,
   "metadata": {},
   "outputs": [],
   "source": [
    "number_of_topics = 2"
   ]
  },
  {
   "cell_type": "code",
   "execution_count": 227,
   "metadata": {},
   "outputs": [],
   "source": [
    "lda_model_pos = LatentDirichletAllocation(n_components=number_of_topics,\n",
    "                                          learning_method='batch',\n",
    "                                          learning_offset=20,\n",
    "                                          doc_topic_prior= 2 * (1/number_of_topics),\n",
    "                                          max_iter=30,\n",
    "                                          random_state=10,\n",
    "                                          n_jobs=-1,\n",
    "                                          verbose=0)"
   ]
  },
  {
   "cell_type": "code",
   "execution_count": 229,
   "metadata": {},
   "outputs": [
    {
     "data": {
      "text/plain": [
       "LatentDirichletAllocation(batch_size=128, doc_topic_prior=1.0,\n",
       "                          evaluate_every=-1, learning_decay=0.7,\n",
       "                          learning_method='batch', learning_offset=20,\n",
       "                          max_doc_update_iter=100, max_iter=30,\n",
       "                          mean_change_tol=0.001, n_components=2, n_jobs=-1,\n",
       "                          perp_tol=0.1, random_state=10, topic_word_prior=None,\n",
       "                          total_samples=1000000.0, verbose=0)"
      ]
     },
     "execution_count": 229,
     "metadata": {},
     "output_type": "execute_result"
    }
   ],
   "source": [
    "lda_model_pos.fit(cv_pos)"
   ]
  },
  {
   "cell_type": "code",
   "execution_count": 230,
   "metadata": {},
   "outputs": [
    {
     "name": "stdout",
     "output_type": "stream",
     "text": [
      "Topic 1 : [('bad review', 20.42069078181469), ('good experience', 18.412724394463098), ('first time', 17.619199738018434), ('never problem', 16.15386726033254), ('take away', 14.429795976656342), ('always good', 14.419117558396808), ('never issue', 11.288955871855645), ('go wrong', 10.430556478060716), ('delivered time', 10.415332045638456), ('well done', 10.394764031224055), ('always delivered', 10.377364973397906), ('great selection', 10.376939055314445), ('much good', 10.257921523592229), ('every time', 9.57467912173114), ('would definitely', 9.420135594601385), ('selection restaurant', 9.375268706546018), ('straight away', 9.358516633877398), ('always great', 9.06594031756869), ('always time', 8.395684257407765), ('definitely recommend', 8.392306360375926)] \n",
      "\n",
      "Topic 2 : [('bad experience', 18.344834661512014), ('missing item', 15.440173216845052), ('would recommend', 14.31282683903532), ('highly recommend', 12.314993372461776), ('negative review', 11.506734730887985), ('arrived time', 10.425702998078682), ('piping hot', 9.908074386194645), ('great experience', 9.308100241064853), ('referral code', 8.482114911644821), ('thank much', 8.378999544584676), ('driver always', 8.089127197333642), ('never bad', 7.441375753548301), ('easy app', 7.418328126337916), ('first time', 7.380800261980723), ('app easy', 7.275714992733159), ('co op', 6.95199573762628), ('great restaurant', 6.470647586449772), ('15 minute', 6.45776582781032), ('would like', 6.4419230081054), ('super quick', 6.369828207157073)] \n",
      "\n"
     ]
    }
   ],
   "source": [
    "show_top_words_per_topic(lda_model_pos, feature_names=vectorizer_pos.get_feature_names(), num_top_words=20)"
   ]
  },
  {
   "cell_type": "markdown",
   "metadata": {},
   "source": [
    "Therefore we can see that the algorithm has identified the following 4 topics for the negative reviews:\n",
    "\n",
    "- Topic 1: This topic consists of reviews where the order took a significant amount to be completed \n",
    "- Topic 2: Orders where there was an issue with discounts/pricing\n",
    "- Topic 3: This appears to be the topic arround orders that were never arrived to their destination \n",
    "- Topic 4: Cases where an item was missing from the order\n",
    "\n",
    "And the following 2 topics for the positive reviews:\n",
    "\n",
    "- Topic 1: Topic regarding good selection of restaurants/choices \n",
    "- Topic 2: Cases where customers were satisfied with the app\n",
    "\n",
    "<a id=\"topic_assign\"></a>"
   ]
  },
  {
   "cell_type": "code",
   "execution_count": 231,
   "metadata": {},
   "outputs": [],
   "source": [
    "topic_to_review_distribution_neg = lda_model.transform(cv)"
   ]
  },
  {
   "cell_type": "code",
   "execution_count": 232,
   "metadata": {},
   "outputs": [],
   "source": [
    "topic_to_review_distribution_pos = lda_model_pos.transform(cv_pos)"
   ]
  },
  {
   "cell_type": "code",
   "execution_count": 233,
   "metadata": {},
   "outputs": [],
   "source": [
    "topics_map_negative = {0: 'Indecisive',\n",
    "                       1: 'Delayed Order',\n",
    "                       2: 'Discount/Pricing/Refund Issue',\n",
    "                       3: 'Order Never Arrived',\n",
    "                       4: 'Missing/Wrong Item'}"
   ]
  },
  {
   "cell_type": "code",
   "execution_count": 234,
   "metadata": {},
   "outputs": [],
   "source": [
    "topics_map_positive = {0: 'Indecisive',\n",
    "                       1: 'Selection of restaurants/food',\n",
    "                       2: 'App Usage'}"
   ]
  },
  {
   "cell_type": "code",
   "execution_count": 238,
   "metadata": {},
   "outputs": [
    {
     "name": "stderr",
     "output_type": "stream",
     "text": [
      "C:\\ProgramData\\Anaconda3\\lib\\site-packages\\ipykernel_launcher.py:1: SettingWithCopyWarning: \n",
      "A value is trying to be set on a copy of a slice from a DataFrame.\n",
      "Try using .loc[row_indexer,col_indexer] = value instead\n",
      "\n",
      "See the caveats in the documentation: http://pandas.pydata.org/pandas-docs/stable/indexing.html#indexing-view-versus-copy\n",
      "  \"\"\"Entry point for launching an IPython kernel.\n"
     ]
    }
   ],
   "source": [
    "negative_reviews_df['Topic_Likelihood'] = topic_to_review_distribution_neg.tolist()"
   ]
  },
  {
   "cell_type": "code",
   "execution_count": 235,
   "metadata": {},
   "outputs": [
    {
     "name": "stderr",
     "output_type": "stream",
     "text": [
      "C:\\ProgramData\\Anaconda3\\lib\\site-packages\\ipykernel_launcher.py:1: SettingWithCopyWarning: \n",
      "A value is trying to be set on a copy of a slice from a DataFrame.\n",
      "Try using .loc[row_indexer,col_indexer] = value instead\n",
      "\n",
      "See the caveats in the documentation: http://pandas.pydata.org/pandas-docs/stable/indexing.html#indexing-view-versus-copy\n",
      "  \"\"\"Entry point for launching an IPython kernel.\n"
     ]
    }
   ],
   "source": [
    "positive_reviews_df['Topic_Likelihood'] = topic_to_review_distribution_pos.tolist()"
   ]
  },
  {
   "cell_type": "code",
   "execution_count": 239,
   "metadata": {},
   "outputs": [],
   "source": [
    "cutoff_threshold = 1/number_of_topics"
   ]
  },
  {
   "cell_type": "markdown",
   "metadata": {},
   "source": [
    "As threshold to make a decision regarding the topics we will use 0.25, which means that we won't clasiffy a review on a specific topic _only_ if the review belongs to all categories with the same probability."
   ]
  },
  {
   "cell_type": "code",
   "execution_count": 240,
   "metadata": {},
   "outputs": [
    {
     "name": "stderr",
     "output_type": "stream",
     "text": [
      "C:\\ProgramData\\Anaconda3\\lib\\site-packages\\ipykernel_launcher.py:1: SettingWithCopyWarning: \n",
      "A value is trying to be set on a copy of a slice from a DataFrame.\n",
      "Try using .loc[row_indexer,col_indexer] = value instead\n",
      "\n",
      "See the caveats in the documentation: http://pandas.pydata.org/pandas-docs/stable/indexing.html#indexing-view-versus-copy\n",
      "  \"\"\"Entry point for launching an IPython kernel.\n"
     ]
    }
   ],
   "source": [
    "negative_reviews_df['Topic_Num'] = negative_reviews_df['Topic_Likelihood'].apply(lambda row: assign_topic(row, threshold=cutoff_threshold))"
   ]
  },
  {
   "cell_type": "code",
   "execution_count": 241,
   "metadata": {},
   "outputs": [
    {
     "name": "stderr",
     "output_type": "stream",
     "text": [
      "C:\\ProgramData\\Anaconda3\\lib\\site-packages\\ipykernel_launcher.py:1: SettingWithCopyWarning: \n",
      "A value is trying to be set on a copy of a slice from a DataFrame.\n",
      "Try using .loc[row_indexer,col_indexer] = value instead\n",
      "\n",
      "See the caveats in the documentation: http://pandas.pydata.org/pandas-docs/stable/indexing.html#indexing-view-versus-copy\n",
      "  \"\"\"Entry point for launching an IPython kernel.\n"
     ]
    }
   ],
   "source": [
    "positive_reviews_df['Topic_Num'] = positive_reviews_df['Topic_Likelihood'].apply(lambda row: assign_topic(row, threshold=cutoff_threshold))"
   ]
  },
  {
   "cell_type": "code",
   "execution_count": 242,
   "metadata": {},
   "outputs": [
    {
     "name": "stderr",
     "output_type": "stream",
     "text": [
      "C:\\ProgramData\\Anaconda3\\lib\\site-packages\\ipykernel_launcher.py:1: SettingWithCopyWarning: \n",
      "A value is trying to be set on a copy of a slice from a DataFrame.\n",
      "Try using .loc[row_indexer,col_indexer] = value instead\n",
      "\n",
      "See the caveats in the documentation: http://pandas.pydata.org/pandas-docs/stable/indexing.html#indexing-view-versus-copy\n",
      "  \"\"\"Entry point for launching an IPython kernel.\n"
     ]
    }
   ],
   "source": [
    "negative_reviews_df['Topic'] = negative_reviews_df['Topic_Num'].apply(lambda row: topics_map_negative[row])"
   ]
  },
  {
   "cell_type": "code",
   "execution_count": 243,
   "metadata": {},
   "outputs": [
    {
     "name": "stderr",
     "output_type": "stream",
     "text": [
      "C:\\ProgramData\\Anaconda3\\lib\\site-packages\\ipykernel_launcher.py:1: SettingWithCopyWarning: \n",
      "A value is trying to be set on a copy of a slice from a DataFrame.\n",
      "Try using .loc[row_indexer,col_indexer] = value instead\n",
      "\n",
      "See the caveats in the documentation: http://pandas.pydata.org/pandas-docs/stable/indexing.html#indexing-view-versus-copy\n",
      "  \"\"\"Entry point for launching an IPython kernel.\n"
     ]
    }
   ],
   "source": [
    "positive_reviews_df['Topic'] = positive_reviews_df['Topic_Num'].apply(lambda row: topics_map_positive[row])"
   ]
  },
  {
   "cell_type": "code",
   "execution_count": 244,
   "metadata": {},
   "outputs": [
    {
     "name": "stdout",
     "output_type": "stream",
     "text": [
      "                                                                                                Review  \\\n",
      "0  Ordered food and apparently the driver was waiting for 10 mins to deliver the food even though I...   \n",
      "1  I received standard bag of buttons that cost £1.60 but I asked for share bags at £2.85 so I've b...   \n",
      "2  Just had an appalling experience with deliveroo. Had ordered a pizza with a £10 discount code th...   \n",
      "3  The same situation happened twice. I ordered food around 10 pm and been waiting for the food for...   \n",
      "4                                               Driver turned up late couldn’t find us and left. Awful   \n",
      "\n",
      "                           Topic  Topic_Num  \n",
      "0            Order Never Arrived          3  \n",
      "1  Discount/Pricing/Refund Issue          2  \n",
      "2                  Delayed Order          1  \n",
      "3  Discount/Pricing/Refund Issue          2  \n",
      "4                     Indecisive          0  \n"
     ]
    }
   ],
   "source": [
    "with pd.option_context('display.max_colwidth', 100):\n",
    "    print(negative_reviews_df[['Review', 'Topic', 'Topic_Num']].head(5))"
   ]
  },
  {
   "cell_type": "code",
   "execution_count": 246,
   "metadata": {},
   "outputs": [],
   "source": [
    "def get_review_summary(input_df: pd.DataFrame,\n",
    "                       rev_idx: int,\n",
    "                       topics_map: dict):\n",
    "    \n",
    "    print('\\x1b[1;30m' + 'Review: ' + '\\x1b[0m' + input_df['Review'].iloc[rev_idx] + '\\n')\n",
    "    print('\\x1b[1;30m' + 'Predicted Topic: ' + '\\x1b[0m' + input_df['Topic'].iloc[rev_idx] + '\\n')\n",
    "    print(input_df['Topic_Likelihood'].iloc[rev_idx])\n",
    "    \n",
    "    topic_to_likelihood = list(zip(list(topics_map.keys()),\n",
    "                                   list(topics_map.values()),\n",
    "                                   [0.0] + input_df['Topic_Likelihood'].iloc[rev_idx]))\n",
    "    l_df = pd.DataFrame(topic_to_likelihood, columns = ['Topic_Num', 'Topic', 'Likelihood'])\n",
    "    \n",
    "    plt.figure(figsize=(12, 6))\n",
    "    sns.barplot(x='Topic', y='Likelihood', data=l_df)\n",
    "    plt.ylim(0, 1.0)\n",
    "    plt.grid(True, alpha=0.2, linestyle='-', color='black')\n",
    "    plt.show()"
   ]
  },
  {
   "cell_type": "markdown",
   "metadata": {},
   "source": [
    "<a id=\"viz_output\"></a>\n",
    "We can visualize the results for a few random cases:"
   ]
  },
  {
   "cell_type": "code",
   "execution_count": 252,
   "metadata": {},
   "outputs": [
    {
     "name": "stdout",
     "output_type": "stream",
     "text": [
      "\u001b[1;30mReview: \u001b[0mi received my order with missing items. I reported it in their website and then i received an email that they wont give me credits for the missing items. This is the third time i order food with this website and get delivered with missing items. I wont use this service again\n",
      "\n",
      "\u001b[1;30mPredicted Topic: \u001b[0mDelayed Order\n",
      "\n",
      "[0.8529632513883185, 0.04699132018234617, 0.05208267492379174, 0.04796275350554363]\n"
     ]
    },
    {
     "data": {
      "image/png": "[encoded data removed]",
      "text/plain": [
       "<Figure size 864x432 with 1 Axes>"
      ]
     },
     "metadata": {},
     "output_type": "display_data"
    }
   ],
   "source": [
    "get_review_summary(input_df=negative_reviews_df, rev_idx=980, topics_map=topics_map_negative)"
   ]
  },
  {
   "cell_type": "code",
   "execution_count": 254,
   "metadata": {},
   "outputs": [
    {
     "name": "stdout",
     "output_type": "stream",
     "text": [
      "\u001b[1;30mReview: \u001b[0mOrdered a meal from nandos beautiful meal very quick delivery\n",
      "\n",
      "\u001b[1;30mPredicted Topic: \u001b[0mSelection of restaurants/food\n",
      "\n",
      "[0.6548524662658247, 0.3451475337341752]\n"
     ]
    },
    {
     "data": {
      "image/png": "[encoded data removed]",
      "text/plain": [
       "<Figure size 864x432 with 1 Axes>"
      ]
     },
     "metadata": {},
     "output_type": "display_data"
    }
   ],
   "source": [
    "get_review_summary(input_df=positive_reviews_df, rev_idx=120, topics_map=topics_map_positive)"
   ]
  },
  {
   "cell_type": "code",
   "execution_count": 162,
   "metadata": {},
   "outputs": [
    {
     "name": "stdout",
     "output_type": "stream",
     "text": [
      "\u001b[1;30mReview: \u001b[0mHi there, we are from Sri Lanka. We've been ordering food from uber eats for almost 3 years now. But never got my canceled orders refunded. I was once charged $2 even without any orders. When I asked the hotline, they say their superior will get back and then no one answers.. sent them many complaints but never got any replies, nor my refunds.. almost -$300 now.. please don't connect your card if ordering.. only pay by cash.. Uber is mostly operated online, so they are not aware with the services been provided by their employees/ delivery guys. There's no one to complain. Which is scary, (some unknown guy delivering your foods with no tight responsibility). Hope someone can look into this and fix Uber! After reading the reviews on trustpilot, they seem to be doing this to alot of customers... What a shame :( can someone come up with a better food delivery app!!!\n",
      "\n",
      "\u001b[1;30mPredicted Topic: \u001b[0mDiscount/Pricing/Refund Issue\n",
      "\n",
      "[0.27094822317360884, 0.48911333810248686, 0.1969875286706672, 0.04295091005323701]\n"
     ]
    },
    {
     "data": {
      "image/png": "[encoded data removed]",
      "text/plain": [
       "<Figure size 864x432 with 1 Axes>"
      ]
     },
     "metadata": {},
     "output_type": "display_data"
    }
   ],
   "source": [
    "get_review_summary(input_df=reviews_df, rev_idx=4562, topics_map=topics_map)"
   ]
  },
  {
   "cell_type": "markdown",
   "metadata": {},
   "source": [
    "Finally, we can get a general picture of the results and summarize the _per company_ :"
   ]
  },
  {
   "cell_type": "code",
   "execution_count": 163,
   "metadata": {},
   "outputs": [],
   "source": [
    "def summary_per_company(input_df: pd.DataFrame,\n",
    "                        company: 'all',\n",
    "                        figsize=(6, 6)) -> None:\n",
    "    \n",
    "    if company != 'all':\n",
    "        filtered_df = input_df[input_df['Company'] == company]\n",
    "    else:\n",
    "        filtered_df = input_df\n",
    "\n",
    "    vals = filtered_df['Topic'].value_counts()\n",
    "    groups = filtered_df['Topic'].value_counts().index.tolist()\n",
    "    \n",
    "    filtered_df = pd.DataFrame({'Num_Reviews': vals, 'group': groups})\n",
    "    \n",
    "    colors_ls = [\"tab:olive\", \"tab:orange\", \"tab:purple\", \"tab:red\", \"tab:cyan\"]\n",
    "    \n",
    "    plt.figure(figsize=(figsize))\n",
    "\n",
    "    # TreePlot\n",
    "    plt.subplot(1, 2, 1)\n",
    "\n",
    "    squarify.plot(sizes=filtered_df['Num_Reviews'],\n",
    "                  label=filtered_df['group'],\n",
    "                  color=colors_ls,\n",
    "                  alpha=.4 )\n",
    "    plt.axis('on')\n",
    "    #plt.title('Treeplot for {}'.format(company), pad=30)\n",
    "    \n",
    "    # DonutPlot\n",
    "    plt.subplot(1, 2, 2)\n",
    "    \n",
    "    cen_circle = plt.Circle((0, 0), 0.6, color='white')\n",
    "    \n",
    "    plt.pie(filtered_df['Num_Reviews'],\n",
    "            labels= filtered_df['group'],\n",
    "            autopct='%1.1f%%',\n",
    "            pctdistance = 1.23,\n",
    "            startangle=85,\n",
    "            labeldistance=1.05,\n",
    "            colors=colors_ls)\n",
    "    plt.axis('equal')\n",
    "    #plt.title('Donutplot for {}'.format(company), pad=30)\n",
    "    plt.gca().add_artist(cen_circle)\n",
    "    \n",
    "    plt.tight_layout()\n",
    "    plt.show()"
   ]
  },
  {
   "cell_type": "code",
   "execution_count": 164,
   "metadata": {},
   "outputs": [
    {
     "name": "stdout",
     "output_type": "stream",
     "text": [
      "\u001b[1;30mDeliveroo\u001b[0m - Number of reviews: 6629\n"
     ]
    },
    {
     "data": {
      "image/png": "[encoded data removed]",
      "text/plain": [
       "<Figure size 1080x504 with 2 Axes>"
      ]
     },
     "metadata": {},
     "output_type": "display_data"
    },
    {
     "name": "stdout",
     "output_type": "stream",
     "text": [
      "\u001b[1;30mJustEat\u001b[0m - Number of reviews: 2692\n"
     ]
    },
    {
     "data": {
      "image/png": "[encoded data removed]",
      "text/plain": [
       "<Figure size 1080x504 with 2 Axes>"
      ]
     },
     "metadata": {},
     "output_type": "display_data"
    },
    {
     "name": "stdout",
     "output_type": "stream",
     "text": [
      "\u001b[1;30mUberEats\u001b[0m - Number of reviews: 9335\n"
     ]
    },
    {
     "data": {
      "image/png": "[encoded data removed]",
      "text/plain": [
       "<Figure size 1080x504 with 2 Axes>"
      ]
     },
     "metadata": {},
     "output_type": "display_data"
    },
    {
     "name": "stdout",
     "output_type": "stream",
     "text": [
      "\u001b[1;30mStuart\u001b[0m - Number of reviews: 264\n"
     ]
    },
    {
     "data": {
      "image/png": "[encoded data removed]",
      "text/plain": [
       "<Figure size 1080x504 with 2 Axes>"
      ]
     },
     "metadata": {},
     "output_type": "display_data"
    }
   ],
   "source": [
    "for company in reviews_df.Company.unique():\n",
    "    reviews_num = reviews_df[reviews_df['Company'] == company].shape[0]\n",
    "    print('\\x1b[1;30m' + company + '\\x1b[0m' + ' - Number of reviews: '+ str(reviews_num))\n",
    "    summary_per_company(input_df=reviews_df, company=company, figsize=(15, 7))"
   ]
  },
  {
   "cell_type": "markdown",
   "metadata": {},
   "source": [
    "#### LDA Implementiation with gensim"
   ]
  },
  {
   "cell_type": "code",
   "execution_count": 165,
   "metadata": {},
   "outputs": [],
   "source": [
    "rev = list(reviews_df['ngrams'])"
   ]
  },
  {
   "cell_type": "code",
   "execution_count": 166,
   "metadata": {},
   "outputs": [],
   "source": [
    "from gensim import corpora, models"
   ]
  },
  {
   "cell_type": "code",
   "execution_count": 167,
   "metadata": {},
   "outputs": [],
   "source": [
    "dictionary_LDA = corpora.Dictionary(rev)\n",
    "dictionary_LDA.filter_extremes(no_below=3)\n",
    "corpus = [dictionary_LDA.doc2bow(list_of_tokens) for list_of_tokens in rev]"
   ]
  },
  {
   "cell_type": "code",
   "execution_count": 168,
   "metadata": {},
   "outputs": [],
   "source": [
    "lda_model = models.LdaModel(corpus,\n",
    "                            num_topics=number_of_topics,\n",
    "                            id2word=dictionary_LDA,\n",
    "                            passes=10,\n",
    "                            alpha=2 *(1/number_of_topics),\n",
    "                            eta=2 * (1/number_of_topics)\n",
    "                           )"
   ]
  },
  {
   "cell_type": "code",
   "execution_count": 169,
   "metadata": {},
   "outputs": [
    {
     "name": "stdout",
     "output_type": "stream",
     "text": [
      "0: 0.010*\"money back\" + 0.005*\"promo code\" + 0.005*\"phone number\" + 0.004*\"take money\" + 0.004*\"took money\" + 0.004*\"first time\" + 0.004*\"bad ever\" + 0.003*\"bank account\" + 0.003*\"credit card\" + 0.003*\"full amount\" + 0.003*\"discount code\" + 0.003*\"full price\" + 0.003*\"way contact\" + 0.003*\"email saying\" + 0.003*\"charged full\"\n",
      "\n",
      "1: 0.009*\"never arrived\" + 0.007*\"live chat\" + 0.007*\"wrong address\" + 0.007*\"said would\" + 0.006*\"called restaurant\" + 0.005*\"bad experience\" + 0.005*\"48 hour\" + 0.005*\"said delivered\" + 0.004*\"told would\" + 0.004*\"restaurant said\" + 0.004*\"delivered wrong\" + 0.004*\"absolutely disgusting\" + 0.004*\"never received\" + 0.003*\"money back\" + 0.003*\"marked delivered\"\n",
      "\n",
      "2: 0.013*\"missing item\" + 0.009*\"stone cold\" + 0.007*\"waste time\" + 0.007*\"item missing\" + 0.007*\"first time\" + 0.005*\"every time\" + 0.004*\"second time\" + 0.004*\"last time\" + 0.004*\"late cold\" + 0.004*\"go wrong\" + 0.003*\"arrived cold\" + 0.003*\"much good\" + 0.003*\"time ordered\" + 0.003*\"hour late\" + 0.002*\"time never\"\n",
      "\n",
      "3: 0.007*\"hour late\" + 0.006*\"minute late\" + 0.005*\"bad company\" + 0.005*\"10 minute\" + 0.005*\"hour half\" + 0.005*\"20 minute\" + 0.005*\"waited hour\" + 0.005*\"half hour\" + 0.004*\"30 minute\" + 0.004*\"bad ever\" + 0.003*\"45 minute\" + 0.003*\"first time\" + 0.003*\"two hour\" + 0.003*\"40 minute\" + 0.003*\"company ever\"\n",
      "\n"
     ]
    }
   ],
   "source": [
    "for i,topic in lda_model.show_topics(formatted=True, num_topics=number_of_topics, num_words=15):\n",
    "    print(str(i)+\": \"+ topic)\n",
    "    print()"
   ]
  },
  {
   "cell_type": "code",
   "execution_count": 170,
   "metadata": {},
   "outputs": [
    {
     "data": {
      "text/plain": [
       "[(0, 0.047801908), (1, 0.0493197), (2, 0.68282866), (3, 0.22004974)]"
      ]
     },
     "execution_count": 170,
     "metadata": {},
     "output_type": "execute_result"
    }
   ],
   "source": [
    "lda_model[corpus[6]]"
   ]
  },
  {
   "cell_type": "code",
   "execution_count": 171,
   "metadata": {},
   "outputs": [
    {
     "data": {
      "text/html": [
       "\n",
       "<link rel=\"stylesheet\" type=\"text/css\" href=\"https://cdn.jsdelivr.net/gh/bmabey/pyLDAvis@3.2.2/pyLDAvis/js/ldavis.v1.0.0.css\">\n",
       "\n",
       "\n",
       "<div id=\"ldavis_el2107620626780565368478837082\"></div>\n",
       "<script type=\"text/javascript\">\n",
       "\n",
       "var ldavis_el2107620626780565368478837082_data = {\"mdsDat\": {\"x\": [0.1713604294791628, -0.051069297519270994, -0.20240311482412884, 0.08211198286423708], \"y\": [-0.028408633748851893, -0.20742651590738953, 0.08818478437646969, 0.14765036527977166], \"topics\": [1, 2, 3, 4], \"cluster\": [1, 1, 1, 1], \"Freq\": [25.876630880071342, 25.08982673986851, 24.75044364705053, 24.283098733009613]}, \"tinfo\": {\"Term\": [\"missing item\", \"stone cold\", \"waste time\", \"never arrived\", \"item missing\", \"money back\", \"live chat\", \"wrong address\", \"said would\", \"called restaurant\", \"minute late\", \"bad company\", \"10 minute\", \"every time\", \"promo code\", \"48 hour\", \"hour half\", \"20 minute\", \"phone number\", \"restaurant said\", \"said delivered\", \"delivered wrong\", \"half hour\", \"late cold\", \"waited hour\", \"told would\", \"go wrong\", \"hour late\", \"30 minute\", \"absolutely disgusting\", \"restaurant said\", \"delivered wrong\", \"restaurant told\", \"delivered never\", \"contacted restaurant\", \"experience ever\", \"ordered never\", \"never turned\", \"72 hour\", \"called restaurant\", \"live chat\", \"called back\", \"contacted eat\", \"within 48\", \"never eat\", \"delivered contacted\", \"rang restaurant\", \"hour told\", \"marked delivered\", \"wrong address\", \"speak manager\", \"working day\", \"contact eat\", \"correct address\", \"eat told\", \"asked speak\", \"sent wrong\", \"using eat\", \"wrong house\", \"called eat\", \"online chat\", \"48 hour\", \"said would\", \"said delivered\", \"never arrived\", \"absolutely disgusting\", \"told would\", \"never ordering\", \"absolutely shocking\", \"contact restaurant\", \"bad experience\", \"never delivered\", \"call restaurant\", \"never received\", \"call back\", \"would take\", \"app said\", \"via app\", \"straight away\", \"money back\", \"hour late\", \"ordered kfc\", \"waited hour\", \"promo code\", \"bank account\", \"credit card\", \"discount code\", \"full price\", \"charged full\", \"full amount\", \"sent email\", \"charged twice\", \"money account\", \"email address\", \"got charged\", \"money taken\", \"support team\", \"code work\", \"payment method\", \"gift card\", \"stole money\", \"joke company\", \"card detail\", \"via email\", \"send email\", \"screen shot\", \"promotion code\", \"deleted account\", \"account never\", \"keep sending\", \"trading standard\", \"tried contacting\", \"account hacked\", \"phone number\", \"received email\", \"bad app\", \"never used\", \"taking money\", \"took money\", \"week ago\", \"terrible company\", \"money back\", \"email saying\", \"take money\", \"way contact\", \"help section\", \"want money\", \"day late\", \"bad ever\", \"still charged\", \"never got\", \"first time\", \"absolute joke\", \"never received\", \"would like\", \"would never\", \"using eats\", \"never using\", \"missing item\", \"stone cold\", \"item missing\", \"waste time\", \"late cold\", \"arrived cold\", \"much good\", \"every time\", \"go wrong\", \"time money\", \"freezing cold\", \"arrived hour\", \"arrived stone\", \"cold inedible\", \"thing go\", \"always late\", \"ice cream\", \"avoid like\", \"something go\", \"late stone\", \"like plague\", \"arrived late\", \"always cold\", \"time issue\", \"meal missing\", \"order missing\", \"wrong item\", \"cold missing\", \"something missing\", \"arrives cold\", \"take responsibility\", \"time arrived\", \"happy meal\", \"cold soggy\", \"time eats\", \"half missing\", \"every single\", \"time never\", \"second time\", \"gon na\", \"time ordered\", \"last time\", \"first time\", \"next time\", \"bad review\", \"many time\", \"deleted app\", \"waste money\", \"time used\", \"hour late\", \"ordered meal\", \"last night\", \"10 minute\", \"10 min\", \"bad company\", \"minute away\", \"find address\", \"front door\", \"15 min\", \"almost hour\", \"outside house\", \"20 minute\", \"20 min\", \"mile away\", \"time kept\", \"hour wait\", \"app say\", \"missed call\", \"saying cancelled\", \"find house\", \"saying delivered\", \"got message\", \"really bad\", \"left outside\", \"ring doorbell\", \"got notification\", \"hour cancelled\", \"leave door\", \"min away\", \"outside door\", \"waited outside\", \"door bell\", \"hour half\", \"hour ago\", \"40 minute\", \"company ever\", \"minute late\", \"15 minute\", \"half hour\", \"30 minute\", \"45 minute\", \"two hour\", \"message saying\", \"40 min\", \"waited hour\", \"hour late\", \"tried call\", \"min late\", \"waiting hour\", \"bad ever\", \"phone call\", \"took hour\", \"first time\", \"last night\", \"never ever\"], \"Freq\": [649.0, 446.0, 385.0, 531.0, 382.0, 688.0, 394.0, 382.0, 393.0, 303.0, 312.0, 271.0, 265.0, 266.0, 258.0, 311.0, 265.0, 249.0, 259.0, 237.0, 279.0, 229.0, 251.0, 201.0, 355.0, 272.0, 195.0, 626.0, 231.0, 228.0, 235.98891327767436, 227.61060005838337, 135.26773151634427, 110.08178776087753, 108.74180178980168, 137.25949920163183, 92.26441902418159, 122.08611869025029, 85.29570835706025, 297.65226545030845, 385.5147725718089, 77.53115572957363, 79.55941491585597, 66.3239017417886, 68.20440827613042, 59.734813018360676, 88.43225975299157, 63.574952650445105, 167.52771040349398, 372.6763340709951, 58.626972172407214, 86.10079073530326, 53.737888387694504, 70.35962603965828, 56.72233648717571, 53.45010641815903, 64.83379345937075, 95.31524266266514, 83.87747347421379, 47.25477609861061, 73.12090613640578, 292.9953957490605, 365.51695358721753, 262.1613876169833, 473.4837262981696, 208.83200218055526, 241.06735667053826, 103.3321452095889, 152.78317555437843, 117.9519156105344, 294.6720363475923, 165.58456461851827, 113.21634563382031, 202.1021694803478, 115.9925708840417, 104.60216980785911, 119.35247208197298, 107.82107000246202, 115.70165444439844, 168.62077535735938, 149.24463463606455, 117.37727947461535, 118.553846712152, 257.2432834997456, 161.7259975576293, 157.92812513199198, 152.31352586605607, 146.5150207387547, 134.44290413341926, 154.63710008062156, 128.92712630766314, 107.09941645225103, 87.43560316141532, 95.72103754109934, 89.20342378276405, 85.9865482423269, 115.60072261493328, 63.583524737448904, 58.987525429926556, 61.01315829049448, 74.73723044812299, 122.7029559413539, 54.99605828970404, 74.91849223724842, 60.778644278622394, 51.87512914078108, 47.21782382725225, 84.97180194322408, 79.57365797967728, 48.594197151375134, 126.99416969868959, 55.4503889187899, 44.321254844967015, 250.24958478003245, 129.14683351499113, 65.41018356404678, 67.53657685110382, 63.415963497355655, 193.4864960514882, 103.656408912859, 89.09250647187706, 508.45370589681943, 139.4393132313121, 216.83142926316523, 140.66446081912343, 73.04859827078103, 87.85157954720346, 131.6666647513628, 187.4239362431504, 105.73892883571273, 114.28069234283072, 192.16050901893686, 110.11514191765625, 120.53929035320309, 91.59477134325182, 91.52583703687472, 92.82024716072056, 93.01406069507733, 648.1823012835234, 444.4626419845291, 381.0432556862623, 383.8318292635598, 199.42898892642572, 168.83583089037043, 159.75774864419762, 263.0656981323688, 192.83497395186026, 121.61293736007005, 100.5093684080343, 91.57820877544698, 79.04502568077874, 79.3756510292301, 71.51594178003273, 68.1846005831883, 81.19272932938871, 70.41196251533431, 60.93939038341677, 58.108142511506855, 70.53025971336834, 68.55487219213948, 59.134040468850664, 73.52804346536328, 52.534970775954704, 55.141046835924215, 89.35567370955965, 45.208372415733336, 47.339448859206286, 46.12211019071484, 117.68226126879131, 54.911389935832894, 54.05291528243285, 69.62492548256265, 63.331441394644486, 87.17687424925091, 99.85506719932265, 123.61218339166321, 223.49011974366982, 67.98729268119082, 146.8536463610056, 221.2804343354127, 341.10162694804825, 114.27443372909514, 103.82827967474925, 120.151002490514, 110.62727756846881, 76.87355346341175, 84.18910999230971, 132.1217387419571, 92.38572251414828, 92.2529087406953, 262.6424763654984, 137.30194578054576, 267.9931738336672, 105.62128176909182, 95.52628893703752, 91.23266977688826, 117.84144986444916, 81.51233448335665, 79.50119898364788, 243.77568140075238, 119.22316352322551, 127.18668640293653, 66.60048675973192, 69.49772034104274, 83.2313846458225, 74.78946539905016, 67.37632189116388, 61.07634413551212, 88.77029919918263, 81.79606612112556, 97.68184931145552, 55.01088178537601, 55.007093206177935, 64.10804874680679, 48.97089821863565, 51.818303747450024, 59.19860309747472, 57.47461719285486, 48.78751392507663, 51.56642205964755, 255.00759508255956, 111.84838820405018, 165.40602630818182, 164.41688946158865, 292.7230421886869, 152.1337274127329, 228.74412869339716, 208.68637856223003, 172.60052643955308, 167.63715824840492, 135.4328467034431, 106.10046644300492, 235.3445396028789, 343.9325141995419, 139.3045628599458, 120.62447896133102, 155.16688509710508, 186.11645921529563, 129.18586787635573, 119.28441614218569, 171.04936210496717, 116.69191022218095, 116.62399817518937], \"Total\": [649.0, 446.0, 385.0, 531.0, 382.0, 688.0, 394.0, 382.0, 393.0, 303.0, 312.0, 271.0, 265.0, 266.0, 258.0, 311.0, 265.0, 249.0, 259.0, 237.0, 279.0, 229.0, 251.0, 201.0, 355.0, 272.0, 195.0, 626.0, 231.0, 228.0, 237.88369578091027, 229.4920705040369, 136.99355910111677, 111.73743072195789, 110.43834095726113, 139.4159272268879, 93.83013296687336, 124.18311259270831, 86.91265817650344, 303.9458029208701, 394.01354016742226, 79.24411577758768, 81.32512733614718, 67.93055714437715, 69.94595424315379, 61.277040534384, 90.74860381150239, 65.27200309448114, 172.02457500447866, 382.7884579454636, 60.228680028397484, 88.4647272907569, 55.27991875901694, 72.41866483643616, 58.41365286381206, 55.068548288807726, 66.80394242177036, 98.23398139408015, 86.62690414468517, 48.82362521184842, 75.70828464557547, 311.4043285746605, 393.22105905662863, 279.2593819083447, 531.9681515763004, 228.20657234496025, 272.2683520059122, 110.4278009677265, 171.82964408576322, 133.21064493305948, 393.00350637108863, 204.4885824360822, 135.6063512552905, 326.4612274202155, 152.12372410612494, 127.04137043095474, 170.44293963208563, 142.74748162510218, 190.3628637437283, 688.4899530993711, 626.1213396391352, 214.15477249239018, 355.0699387248091, 258.73931829692947, 163.38951322327503, 159.5698279011906, 153.90240953402954, 148.0624786359888, 136.0575297490932, 156.55376020291362, 130.67110512846227, 108.80354411606568, 89.0243576396361, 97.50562989655481, 90.96086806907512, 87.68760869438721, 118.07062274636503, 65.0731701032814, 60.53684029208713, 62.654075369941104, 76.85104072259307, 126.19074828431236, 56.562894876123536, 77.2152386173849, 62.644195949655156, 53.55344800483301, 48.763783194720105, 87.7742847876829, 82.21563326596784, 50.233739692781256, 131.3859998236351, 57.38074332973785, 45.89331291413218, 259.59293465320866, 133.940403094891, 67.79201097785408, 70.14090050642876, 65.82871830850608, 211.06388005955804, 111.19332373212532, 95.79483994408328, 688.4899530993711, 169.02825777348687, 296.8225310025283, 177.99938288046485, 77.6698197911126, 99.18700779131456, 202.50746372189224, 397.85444587605673, 150.11800288911954, 191.05366542604938, 706.5928320238842, 202.10287850966097, 326.4612274202155, 132.98194722395894, 147.0294604146622, 209.34106076810514, 296.28254459546235, 649.8215582995078, 446.1336657107467, 382.84604741913665, 385.9395357728456, 201.09507861918678, 170.57140016523817, 161.4818056608948, 266.21310667203215, 195.47484813730148, 123.54392349098653, 102.47699811551071, 93.45271378662106, 80.68745718934429, 81.06012400517763, 73.08740365463207, 69.83710978122973, 83.19007960719, 72.18664062013004, 62.56630658791147, 59.688146706839156, 72.51079618287217, 70.48541584193418, 61.00793291031544, 75.86162424192953, 54.20459553376783, 56.9051151076043, 92.21748213417044, 46.69967709500436, 48.9116668423713, 47.66696855831378, 122.59584415544062, 56.798863590538076, 55.91158053899122, 72.25762560849059, 65.6976264799192, 91.16978387748257, 105.21200082929053, 133.6624943740236, 264.43263777910727, 71.221453889236, 174.53656432694245, 339.88969670109014, 706.5928320238842, 156.37180566664432, 153.46016881035837, 211.44393206762618, 202.64481051294052, 90.21012046298534, 117.90943560523925, 626.1213396391352, 199.71086261771956, 223.7021217288754, 265.4595049276429, 139.00995526290237, 271.57934057676636, 107.2723365142931, 97.22188907170344, 92.88042319704623, 120.01103092820344, 83.1542876732836, 81.17500797946087, 249.19327914712335, 121.89257956267731, 130.14132490334148, 68.1894571306442, 71.1791145494683, 85.24606916763184, 76.67211748013057, 69.10199161054398, 62.75860302163547, 91.30926838026797, 84.15355707351473, 100.50222960424647, 56.63124641800566, 56.630733880577345, 66.12094200306225, 50.544970877834, 53.50755679194518, 61.14077616893246, 59.38392361980888, 50.44906380485173, 53.38013795496044, 265.89050512884637, 116.3273834855139, 173.27084641082246, 173.02248576567843, 312.519674741464, 162.08005263491467, 251.88873794746945, 231.69455649713004, 196.7357542411092, 198.16274123301073, 156.32369513142214, 118.55924828104052, 355.0699387248091, 626.1213396391352, 183.28605741881813, 148.80701696767085, 255.9733300614902, 397.85444587605673, 221.09089829803804, 192.79861361579208, 706.5928320238842, 223.7021217288754, 279.50186968923384], \"Category\": [\"Default\", \"Default\", \"Default\", \"Default\", \"Default\", \"Default\", \"Default\", \"Default\", \"Default\", \"Default\", \"Default\", \"Default\", \"Default\", \"Default\", \"Default\", \"Default\", \"Default\", \"Default\", \"Default\", \"Default\", \"Default\", \"Default\", \"Default\", \"Default\", \"Default\", \"Default\", \"Default\", \"Default\", \"Default\", \"Default\", \"Topic1\", \"Topic1\", \"Topic1\", \"Topic1\", \"Topic1\", \"Topic1\", \"Topic1\", \"Topic1\", \"Topic1\", \"Topic1\", \"Topic1\", \"Topic1\", \"Topic1\", \"Topic1\", \"Topic1\", \"Topic1\", \"Topic1\", \"Topic1\", \"Topic1\", \"Topic1\", \"Topic1\", \"Topic1\", \"Topic1\", \"Topic1\", \"Topic1\", \"Topic1\", \"Topic1\", \"Topic1\", \"Topic1\", \"Topic1\", \"Topic1\", \"Topic1\", \"Topic1\", \"Topic1\", \"Topic1\", \"Topic1\", \"Topic1\", \"Topic1\", \"Topic1\", \"Topic1\", \"Topic1\", \"Topic1\", \"Topic1\", \"Topic1\", \"Topic1\", \"Topic1\", \"Topic1\", \"Topic1\", \"Topic1\", \"Topic1\", \"Topic1\", \"Topic1\", \"Topic1\", \"Topic2\", \"Topic2\", \"Topic2\", \"Topic2\", \"Topic2\", \"Topic2\", \"Topic2\", \"Topic2\", \"Topic2\", \"Topic2\", \"Topic2\", \"Topic2\", \"Topic2\", \"Topic2\", \"Topic2\", \"Topic2\", \"Topic2\", \"Topic2\", \"Topic2\", \"Topic2\", \"Topic2\", \"Topic2\", \"Topic2\", \"Topic2\", \"Topic2\", \"Topic2\", \"Topic2\", \"Topic2\", \"Topic2\", \"Topic2\", \"Topic2\", \"Topic2\", \"Topic2\", \"Topic2\", \"Topic2\", \"Topic2\", \"Topic2\", \"Topic2\", \"Topic2\", \"Topic2\", \"Topic2\", \"Topic2\", \"Topic2\", \"Topic2\", \"Topic2\", \"Topic2\", \"Topic2\", \"Topic2\", \"Topic2\", \"Topic2\", \"Topic2\", \"Topic2\", \"Topic2\", \"Topic2\", \"Topic2\", \"Topic3\", \"Topic3\", \"Topic3\", \"Topic3\", \"Topic3\", \"Topic3\", \"Topic3\", \"Topic3\", \"Topic3\", \"Topic3\", \"Topic3\", \"Topic3\", \"Topic3\", \"Topic3\", \"Topic3\", \"Topic3\", \"Topic3\", \"Topic3\", \"Topic3\", \"Topic3\", \"Topic3\", \"Topic3\", \"Topic3\", \"Topic3\", \"Topic3\", \"Topic3\", \"Topic3\", \"Topic3\", \"Topic3\", \"Topic3\", \"Topic3\", \"Topic3\", \"Topic3\", \"Topic3\", \"Topic3\", \"Topic3\", \"Topic3\", \"Topic3\", \"Topic3\", \"Topic3\", \"Topic3\", \"Topic3\", \"Topic3\", \"Topic3\", \"Topic3\", \"Topic3\", \"Topic3\", \"Topic3\", \"Topic3\", \"Topic3\", \"Topic3\", \"Topic3\", \"Topic4\", \"Topic4\", \"Topic4\", \"Topic4\", \"Topic4\", \"Topic4\", \"Topic4\", \"Topic4\", \"Topic4\", \"Topic4\", \"Topic4\", \"Topic4\", \"Topic4\", \"Topic4\", \"Topic4\", \"Topic4\", \"Topic4\", \"Topic4\", \"Topic4\", \"Topic4\", \"Topic4\", \"Topic4\", \"Topic4\", \"Topic4\", \"Topic4\", \"Topic4\", \"Topic4\", \"Topic4\", \"Topic4\", \"Topic4\", \"Topic4\", \"Topic4\", \"Topic4\", \"Topic4\", \"Topic4\", \"Topic4\", \"Topic4\", \"Topic4\", \"Topic4\", \"Topic4\", \"Topic4\", \"Topic4\", \"Topic4\", \"Topic4\", \"Topic4\", \"Topic4\", \"Topic4\", \"Topic4\", \"Topic4\", \"Topic4\", \"Topic4\", \"Topic4\", \"Topic4\"], \"logprob\": [30.0, 29.0, 28.0, 27.0, 26.0, 25.0, 24.0, 23.0, 22.0, 21.0, 20.0, 19.0, 18.0, 17.0, 16.0, 15.0, 14.0, 13.0, 12.0, 11.0, 10.0, 9.0, 8.0, 7.0, 6.0, 5.0, 4.0, 3.0, 2.0, 1.0, -5.4302, -5.4663, -5.9867, -6.1927, -6.205, -5.9721, -6.3693, -6.0892, -6.4478, -5.198, -4.9394, -6.5433, -6.5174, -6.6994, -6.6714, -6.804, -6.4117, -6.7417, -5.7728, -4.9732, -6.8228, -6.4384, -6.9098, -6.6403, -6.8558, -6.9152, -6.7221, -6.3368, -6.4646, -7.0384, -6.6018, -5.2138, -4.9926, -5.325, -4.7338, -5.5524, -5.4089, -6.256, -5.8649, -6.1237, -5.2081, -5.7845, -6.1647, -5.5852, -6.1404, -6.2438, -6.1119, -6.2135, -6.1429, -5.7663, -5.8884, -6.1286, -6.1186, -5.3131, -5.7772, -5.8009, -5.8371, -5.8759, -5.9619, -5.822, -6.0038, -6.1893, -6.3922, -6.3016, -6.3722, -6.4089, -6.1129, -6.7107, -6.7857, -6.752, -6.5491, -6.0533, -6.8558, -6.5467, -6.7558, -6.9142, -7.0083, -6.4208, -6.4864, -6.9796, -6.0189, -6.8476, -7.0716, -5.3406, -6.0021, -6.6824, -6.6504, -6.7134, -5.5979, -6.222, -6.3734, -4.6317, -5.9254, -5.484, -5.9167, -6.572, -6.3874, -5.9828, -5.6297, -6.2021, -6.1244, -5.6047, -6.1615, -6.0711, -6.3457, -6.3465, -6.3324, -6.3303, -4.3753, -4.7526, -4.9065, -4.8993, -5.554, -5.7205, -5.7758, -5.2771, -5.5876, -6.0486, -6.2392, -6.3323, -6.4794, -6.4753, -6.5795, -6.6272, -6.4526, -6.5951, -6.7396, -6.7872, -6.5934, -6.6218, -6.7697, -6.5518, -6.888, -6.8396, -6.3568, -7.0382, -6.9921, -7.0182, -6.0815, -6.8437, -6.8595, -6.6063, -6.7011, -6.3815, -6.2457, -6.0323, -5.4401, -6.6301, -5.86, -5.45, -5.0173, -6.1109, -6.2067, -6.0607, -6.1433, -6.5073, -6.4164, -5.9657, -6.3235, -6.3249, -5.2596, -5.9082, -5.2394, -6.1705, -6.271, -6.317, -6.0611, -6.4296, -6.4546, -5.3341, -6.0494, -5.9847, -6.6317, -6.5891, -6.4088, -6.5157, -6.6201, -6.7183, -6.3443, -6.4262, -6.2487, -6.8229, -6.8229, -6.6698, -6.9392, -6.8827, -6.7495, -6.7791, -6.9429, -6.8875, -5.2891, -6.1132, -5.722, -5.728, -5.1512, -5.8056, -5.3978, -5.4896, -5.6794, -5.7086, -5.9219, -6.166, -5.3693, -4.9899, -5.8937, -6.0377, -5.7859, -5.604, -5.9691, -6.0489, -5.6884, -6.0709, -6.0714], \"loglift\": [30.0, 29.0, 28.0, 27.0, 26.0, 25.0, 24.0, 23.0, 22.0, 21.0, 20.0, 19.0, 18.0, 17.0, 16.0, 15.0, 14.0, 13.0, 12.0, 11.0, 10.0, 9.0, 8.0, 7.0, 6.0, 5.0, 4.0, 3.0, 2.0, 1.0, 1.3438, 1.3436, 1.3392, 1.3369, 1.3363, 1.3362, 1.335, 1.3348, 1.3331, 1.3309, 1.33, 1.33, 1.3299, 1.3279, 1.3266, 1.3263, 1.326, 1.3255, 1.3253, 1.3251, 1.3249, 1.3247, 1.3235, 1.323, 1.3224, 1.322, 1.3219, 1.3217, 1.3196, 1.3192, 1.3171, 1.2909, 1.2788, 1.2886, 1.2354, 1.2631, 1.2301, 1.2854, 1.2343, 1.2302, 1.0639, 1.1408, 1.1714, 0.8723, 1.0807, 1.1575, 0.9955, 1.0712, 0.8539, -0.055, -0.0821, 0.7505, 0.2549, 1.3769, 1.3725, 1.3724, 1.3723, 1.3722, 1.3708, 1.3704, 1.3693, 1.3669, 1.3647, 1.3642, 1.3632, 1.3631, 1.3616, 1.3595, 1.3568, 1.3562, 1.3548, 1.3547, 1.3546, 1.3525, 1.3525, 1.3509, 1.3505, 1.3503, 1.35, 1.3495, 1.3487, 1.3485, 1.3479, 1.3461, 1.3463, 1.3469, 1.3449, 1.3454, 1.2958, 1.3125, 1.3102, 1.0796, 1.1903, 1.0687, 1.1473, 1.3214, 1.2613, 0.9522, 0.63, 1.0323, 0.8688, 0.0806, 0.7755, 0.3864, 1.0099, 0.9087, 0.5694, 0.2241, 1.3938, 1.3926, 1.3916, 1.3909, 1.388, 1.3861, 1.3856, 1.3844, 1.3827, 1.3806, 1.3769, 1.3761, 1.3758, 1.3753, 1.3746, 1.3724, 1.372, 1.3714, 1.37, 1.3695, 1.3686, 1.3686, 1.3651, 1.3651, 1.365, 1.3648, 1.3648, 1.3639, 1.3637, 1.3634, 1.3554, 1.3625, 1.3625, 1.3592, 1.3596, 1.3515, 1.3441, 1.3182, 1.2281, 1.3499, 1.2236, 0.9671, 0.6681, 1.0827, 1.0056, 0.8311, 0.791, 1.2363, 1.0595, -0.1595, 0.6254, 0.5105, 1.4047, 1.403, 1.4021, 1.3999, 1.3978, 1.3975, 1.3971, 1.3954, 1.3946, 1.3934, 1.3932, 1.3924, 1.3918, 1.3915, 1.3915, 1.3905, 1.3901, 1.3882, 1.3872, 1.387, 1.3869, 1.3864, 1.3863, 1.3845, 1.3838, 1.3833, 1.3831, 1.3827, 1.3819, 1.3808, 1.3736, 1.3761, 1.3689, 1.3644, 1.3499, 1.3521, 1.319, 1.3108, 1.2845, 1.2481, 1.2719, 1.3044, 1.0041, 0.8163, 1.141, 1.2054, 0.9148, 0.6557, 0.8781, 0.9353, -0.0031, 0.7646, 0.5413]}, \"token.table\": {\"Topic\": [1, 2, 3, 4, 1, 2, 3, 4, 1, 2, 3, 4, 1, 3, 4, 1, 2, 3, 4, 1, 2, 3, 4, 1, 2, 3, 4, 1, 2, 3, 4, 1, 2, 3, 4, 1, 2, 3, 4, 1, 2, 3, 4, 1, 2, 4, 1, 2, 3, 4, 1, 2, 3, 4, 1, 2, 3, 4, 1, 2, 3, 1, 2, 3, 4, 1, 2, 3, 4, 1, 2, 3, 4, 1, 2, 3, 4, 1, 2, 3, 4, 1, 2, 3, 4, 1, 2, 3, 4, 1, 2, 3, 4, 1, 2, 3, 4, 1, 3, 4, 1, 3, 4, 1, 2, 3, 4, 1, 2, 3, 4, 1, 2, 3, 4, 1, 2, 3, 4, 1, 2, 3, 4, 1, 2, 3, 4, 1, 2, 3, 4, 1, 2, 4, 1, 2, 3, 4, 1, 2, 3, 4, 1, 2, 4, 1, 2, 4, 1, 2, 3, 4, 1, 2, 4, 1, 2, 3, 4, 1, 2, 3, 4, 2, 3, 1, 2, 3, 4, 1, 3, 1, 3, 4, 1, 2, 3, 4, 1, 2, 3, 4, 1, 2, 3, 4, 1, 2, 3, 4, 1, 2, 3, 4, 1, 2, 3, 4, 1, 2, 3, 4, 1, 2, 3, 4, 1, 2, 3, 4, 1, 2, 3, 4, 1, 2, 4, 1, 2, 3, 4, 1, 2, 3, 4, 1, 2, 3, 4, 1, 2, 4, 1, 4, 1, 2, 3, 4, 1, 2, 3, 4, 1, 2, 3, 4, 1, 2, 3, 4, 1, 2, 3, 4, 1, 2, 3, 4, 1, 2, 3, 4, 1, 2, 3, 4, 1, 2, 3, 4, 1, 2, 3, 4, 1, 2, 3, 4, 1, 2, 3, 1, 2, 4, 1, 2, 3, 4, 1, 2, 3, 4, 1, 2, 3, 4, 1, 2, 3, 4, 1, 2, 3, 4, 1, 2, 3, 4, 1, 2, 3, 4, 1, 2, 3, 4, 1, 2, 3, 4, 1, 2, 3, 4, 1, 2, 3, 4, 1, 3, 4, 1, 2, 3, 4, 1, 2, 3, 4, 1, 2, 3, 4, 1, 2, 3, 4, 1, 2, 3, 4, 1, 2, 3, 4, 1, 2, 3, 4, 1, 2, 3, 4, 1, 2, 3, 4, 1, 2, 3, 4, 1, 3, 4, 1, 2, 3, 4, 1, 2, 3, 4, 1, 2, 3, 4, 1, 2, 3, 4, 1, 2, 3, 4, 1, 2, 3, 4, 1, 2, 3, 1, 2, 3, 4, 1, 2, 3, 4, 1, 2, 3, 4, 1, 2, 3, 4, 1, 2, 3, 4, 1, 2, 3, 4, 1, 2, 4, 1, 2, 3, 1, 2, 1, 2, 3, 4, 1, 2, 4, 1, 2, 3, 4, 1, 2, 3, 4, 1, 2, 3, 4, 1, 2, 3, 4, 1, 2, 3, 4, 1, 2, 3, 4, 1, 2, 3, 4, 1, 2, 3, 4, 1, 2, 3, 4, 1, 2, 3, 4, 1, 2, 3, 4, 1, 2, 3, 4, 1, 2, 3, 4, 1, 2, 3, 4, 1, 2, 3, 4, 1, 2, 3, 4, 1, 2, 3, 4, 1, 2, 3, 4, 1, 2, 3, 4, 1, 2, 3, 1, 2, 3, 4, 1, 2, 3, 4, 1, 2, 1, 2, 3, 4, 1, 2, 3, 4, 1, 2, 3, 4, 1, 2, 3, 4, 1, 2, 3, 4, 1, 2, 3, 4, 1, 2, 4, 1, 2, 3, 4, 1, 2, 3, 4, 1, 2, 4, 1, 2, 4, 1, 2, 3, 4, 1, 2, 3, 4, 1, 2, 3, 4, 1, 2, 3, 4, 1, 2, 3, 4, 1, 2, 3, 4, 1, 2, 3, 1, 2, 3, 4, 1, 2, 3, 4, 1, 2, 3, 4, 1, 2, 3, 4, 1, 2, 3, 4, 1, 2, 3, 4, 1, 2, 3, 4, 1, 2, 3, 4, 1, 2, 3, 4, 1, 2, 3, 4, 1, 2, 3, 4, 1, 2, 3, 4, 1, 2, 3, 4, 1, 2, 3, 4, 1, 2, 3, 4, 1, 2, 3, 4, 1, 2, 3, 4, 1, 2, 3, 4, 1, 2, 3, 4, 1, 2, 3, 4, 1, 2, 3, 4, 1, 2, 3, 4, 1, 2, 3, 4, 1, 2, 4, 1, 2, 3, 4, 1, 2, 3, 4, 1, 2, 3, 4, 1, 2, 3, 4, 1, 2, 3, 4, 1, 2, 3, 4, 1, 2, 3, 4, 1, 2, 4, 1, 2, 3, 4, 1, 2, 3, 4, 1, 2, 3, 4, 1, 2, 3, 4, 1, 2, 3, 4, 1, 2, 3, 4, 1, 2, 3, 4, 1, 2, 3, 4, 1, 2, 3, 4, 1, 2, 3, 4, 1, 2, 3, 4, 1, 2, 3, 4, 1, 2, 3, 4, 1, 2, 3, 4], \"Freq\": [0.0071937293851275005, 0.0071937293851275005, 0.0071937293851275005, 0.9855409257624675, 0.007534105816045826, 0.003767052908022913, 0.003767052908022913, 0.9907349148100261, 0.00833256736706353, 0.00833256736706353, 0.00833256736706353, 0.9832429493134965, 0.05552811622212698, 0.0061697906913474425, 0.9378081850848112, 0.008203944847075772, 0.008203944847075772, 0.008203944847075772, 0.9762694368020167, 0.008025898639181208, 0.004012949319590604, 0.01203884795877181, 0.9791596339801073, 0.09063657048093024, 0.004316027165758583, 0.004316027165758583, 0.9020496776435438, 0.08434601387059533, 0.008434601387059534, 0.016869202774119067, 0.8940677470283105, 0.02308524534194323, 0.005771311335485808, 0.02308524534194323, 0.9522663703551583, 0.0711614421791492, 0.0050829601556535145, 0.050829601556535146, 0.8793521069280581, 0.940898931434577, 0.05459140557811539, 0.0032112591516538468, 0.0032112591516538468, 0.977993330124374, 0.011505803883816165, 0.011505803883816165, 0.2523467274493178, 0.5442772552828423, 0.024739875240129196, 0.1781271017289302, 0.9158369009814172, 0.004381994741537882, 0.07887590534768187, 0.004381994741537882, 0.8904167893383693, 0.09893519881537437, 0.005819717577374962, 0.005819717577374962, 0.021789666870880103, 0.9587453423187245, 0.021789666870880103, 0.012163136866744027, 0.9730509493395221, 0.012163136866744027, 0.012163136866744027, 0.012025838089420458, 0.012025838089420458, 0.012025838089420458, 0.9861187233324775, 0.016391310970493747, 0.016391310970493747, 0.9670873472591311, 0.016391310970493747, 0.01431903472426879, 0.01431903472426879, 0.9736943612502776, 0.01431903472426879, 0.6981808707176184, 0.005867066140484187, 0.005867066140484187, 0.29335330702420936, 0.011730746177088277, 0.011730746177088277, 0.011730746177088277, 0.9736519326983268, 0.005862647542502828, 0.005862647542502828, 0.9907874346829779, 0.005862647542502828, 0.010700598832081885, 0.010700598832081885, 0.9844550925515334, 0.010700598832081885, 0.01418733206089799, 0.01418733206089799, 0.9789259122019613, 0.01418733206089799, 0.012393499991620278, 0.979086499338002, 0.012393499991620278, 0.020978888111515666, 0.9650288531297205, 0.020978888111515666, 0.962436847291503, 0.018159185797952886, 0.018159185797952886, 0.018159185797952886, 0.013852978770162344, 0.013852978770162344, 0.969708513911364, 0.013852978770162344, 0.014751000679514795, 0.9588150441684617, 0.014751000679514795, 0.014751000679514795, 0.0036821652113752505, 0.007364330422750501, 0.0036821652113752505, 0.9868202766485671, 0.05781008667467592, 0.4700211394854086, 0.0025134820293337356, 0.46750765745607487, 0.7506294351517819, 0.11195828863280816, 0.02290055903852894, 0.11450279519264471, 0.3127847465052447, 0.006516348885525931, 0.6777002840946968, 0.006516348885525931, 0.006120343835246513, 0.9914957013099351, 0.006120343835246513, 0.7625372089831024, 0.006573596629164675, 0.006573596629164675, 0.23007588202076365, 0.8332943033565433, 0.007374285870411888, 0.15486000327864963, 0.007374285870411888, 0.984300212509412, 0.01261923349371041, 0.01261923349371041, 0.9626487135288375, 0.02048188752189016, 0.02048188752189016, 0.9804379502406946, 0.0032900602357070286, 0.0032900602357070286, 0.016450301178535142, 0.017679434586756314, 0.9723689022715973, 0.017679434586756314, 0.007349832102964995, 0.9848775017973094, 0.007349832102964995, 0.007349832102964995, 0.009190877081478657, 0.9834238477182162, 0.009190877081478657, 0.009190877081478657, 0.983508255375017, 0.01536731649023464, 0.012336521961601319, 0.012336521961601319, 0.9745852349665042, 0.012336521961601319, 0.021413424293397817, 0.9636040932029017, 0.013839369776945668, 0.9687558843861969, 0.027678739553891336, 0.005779595614839819, 0.04045716930387873, 0.005779595614839819, 0.9478536808337303, 0.9768465875538545, 0.018089751621367674, 0.018089751621367674, 0.018089751621367674, 0.885815094276414, 0.007506907578613678, 0.10509670610059149, 0.007506907578613678, 0.9837058068083936, 0.01229632258510492, 0.01229632258510492, 0.01229632258510492, 0.9869760723966529, 0.00905482635226287, 0.00905482635226287, 0.00905482635226287, 0.9666016372726709, 0.013808594818181013, 0.013808594818181013, 0.013808594818181013, 0.006266848897143786, 0.9901621257487182, 0.006266848897143786, 0.006266848897143786, 0.3456662718176772, 0.6518278268561912, 0.004938089597395388, 0.004938089597395388, 0.011392858425664175, 0.9683929661814549, 0.011392858425664175, 0.011392858425664175, 0.004934742703100911, 0.4095836443573756, 0.5477564400442011, 0.039477941624807285, 0.9791595592207587, 0.016319325987012644, 0.016319325987012644, 0.9844507725769959, 0.00894955247797269, 0.00894955247797269, 0.00894955247797269, 0.9934983788295612, 0.0043574490299542155, 0.0043574490299542155, 0.0043574490299542155, 0.006497624065975971, 0.9876388580283475, 0.006497624065975971, 0.006497624065975971, 0.018733559678016407, 0.018733559678016407, 0.9741451032568531, 0.9757992730379675, 0.017119285491894166, 0.010255818059540922, 0.9845585337159285, 0.010255818059540922, 0.010255818059540922, 0.011832341091039231, 0.8223477058272265, 0.005916170545519616, 0.15973660472902962, 0.009504619170036777, 0.009504619170036777, 0.9504619170036777, 0.03801847668014711, 0.003756389054247336, 0.007512778108494672, 0.9879303212670494, 0.003756389054247336, 0.9826710815977562, 0.0071727816175018696, 0.0071727816175018696, 0.0071727816175018696, 0.010285749531800151, 0.010285749531800151, 0.010285749531800151, 0.9874319550528146, 0.01593407041987947, 0.01593407041987947, 0.01593407041987947, 0.9719782956126476, 0.0028304844167063334, 0.271726504003808, 0.48259759304842986, 0.2420064176283915, 0.009758287404875124, 0.009758287404875124, 0.9855870278923875, 0.009758287404875124, 0.010766531477559007, 0.010766531477559007, 0.010766531477559007, 0.9797543644578697, 0.006387582123251927, 0.9900752291040487, 0.006387582123251927, 0.006387582123251927, 0.006753905575621878, 0.992824119616416, 0.006753905575621878, 0.015960653702021748, 0.9735998758233265, 0.015960653702021748, 0.005115747675617071, 0.005115747675617071, 0.9873393013940948, 0.005115747675617071, 0.014040713091243624, 0.014040713091243624, 0.9547684902045663, 0.028081426182487247, 0.010993738529854467, 0.9784427291570476, 0.010993738529854467, 0.010993738529854467, 0.011883038991761472, 0.011883038991761472, 0.011883038991761472, 0.9744091973244406, 0.01512380147206141, 0.01512380147206141, 0.01512380147206141, 0.9679232942119302, 0.08734014938209753, 0.003970006790095342, 0.003970006790095342, 0.9091315549318334, 0.03290563904408849, 0.010968546348029497, 0.9542635322785663, 0.010968546348029497, 0.017885382426322705, 0.017885382426322705, 0.965810651021426, 0.017885382426322705, 0.012875013778703596, 0.9398760058453625, 0.012875013778703596, 0.03862504133611079, 0.02578928460445933, 0.008596428201486442, 0.008596428201486442, 0.9627999585664816, 0.01978436197771241, 0.01978436197771241, 0.01978436197771241, 0.9694337369079081, 0.0037609466329586146, 0.033848519696627534, 0.9590413914044467, 0.23797304223152033, 0.0015971345116209418, 0.21082175553396432, 0.549414271997604, 0.9805122712008714, 0.015320504237513615, 0.015320504237513615, 0.015320504237513615, 0.01404906490238814, 0.01404906490238814, 0.01404906490238814, 0.9693854782647816, 0.012020664059006038, 0.012020664059006038, 0.9736737887794891, 0.012020664059006038, 0.0026120159963548177, 0.0026120159963548177, 0.9951780946111856, 0.0026120159963548177, 0.015849022429868843, 0.9747148794369339, 0.007924511214934421, 0.007924511214934421, 0.019906939163115964, 0.9754400189926822, 0.019906939163115964, 0.019906939163115964, 0.004470230287810991, 0.06258322402935387, 0.41126118647861115, 0.523016943673886, 0.002942130961031843, 0.1441644170905603, 0.6502109423880373, 0.20300703631119718, 0.004972772117878117, 0.004972772117878117, 0.9895816514577453, 0.004972772117878117, 0.016753745176769218, 0.9717172202526146, 0.016753745176769218, 0.018688949000013697, 0.018688949000013697, 0.018688949000013697, 0.9718253480007123, 0.01765809624988325, 0.01765809624988325, 0.01765809624988325, 0.9711952937435788, 0.013791049783510869, 0.013791049783510869, 0.9791645346292717, 0.013791049783510869, 0.979661764506831, 0.010151935383490476, 0.005075967691745238, 0.005075967691745238, 0.009458772263846945, 0.17971667301309194, 0.5675263358308167, 0.24119869272809707, 0.976604650792633, 0.005813122921384721, 0.005813122921384721, 0.01743936876415416, 0.018448620272003138, 0.018448620272003138, 0.9777768744161663, 0.0063969828704426085, 0.12793965740885216, 0.0063969828704426085, 0.8635926875097522, 0.00768395435302906, 0.00768395435302906, 0.01536790870605812, 0.9758622028346906, 0.016355696846847213, 0.016355696846847213, 0.016355696846847213, 0.9649861139639857, 0.16800283017185533, 0.006720113206874213, 0.02016033962062264, 0.8131336980317798, 0.009322067855460189, 0.009322067855460189, 0.009322067855460189, 0.98813919267878, 0.057596373779957175, 0.0031997985433309542, 0.0031997985433309542, 0.9375409731959695, 0.013042550967229359, 0.013042550967229359, 0.978191322542202, 0.0015388840016586402, 0.0015388840016586402, 0.9971968330747989, 0.011232880826255717, 0.9772606318842474, 0.24546472935329516, 0.7378466420797275, 0.015976994218261816, 0.0014524540198419832, 0.011404119862422579, 0.9807543081683417, 0.011404119862422579, 0.006192648118512864, 0.006192648118512864, 0.9908236989620581, 0.006192648118512864, 0.8891509737912522, 0.10714927168308959, 0.0018798117839138526, 0.0018798117839138526, 0.8117812643739524, 0.1809391974809412, 0.004890248580565978, 0.009780497161131956, 0.9721791737033274, 0.014296752554460697, 0.014296752554460697, 0.014296752554460697, 0.196778647889376, 0.28622348783909235, 0.10017822074368232, 0.41860185096467256, 0.37162333337949893, 0.596690985989618, 0.005234131456049281, 0.026170657280246406, 0.9327361325442192, 0.00905569060722543, 0.00905569060722543, 0.054334143643352574, 0.618756480199068, 0.37064125794102587, 0.003063150892074594, 0.009189452676223783, 0.9824202136093302, 0.00805262470171582, 0.00805262470171582, 0.00805262470171582, 0.014257016844378053, 0.9694771454177076, 0.014257016844378053, 0.014257016844378053, 0.21601002545520928, 0.31388956823960096, 0.209259712159734, 0.2632622185235363, 0.0063950147261956835, 0.11511026507152229, 0.7290316787863079, 0.1470853387025007, 0.9642273674769654, 0.013208594075026923, 0.013208594075026923, 0.013208594075026923, 0.01757311268256039, 0.01757311268256039, 0.9665211975408214, 0.01757311268256039, 0.5463338436884824, 0.0046695200315254905, 0.26149312176542744, 0.18678080126101962, 0.30544157288411666, 0.06509410569661503, 0.4606659787760448, 0.16523888369140738, 0.9804952534009571, 0.010657557102184316, 0.010657557102184316, 0.010657557102184316, 0.01683957440067882, 0.01683957440067882, 0.01683957440067882, 0.9598557408386927, 0.012319062540197382, 0.012319062540197382, 0.012319062540197382, 0.9855250032157905, 0.016518866778891195, 0.9746131399545805, 0.016518866778891195, 0.2713815921952516, 0.1402138226342133, 0.0045230265365875265, 0.5834704232197909, 0.0038521849654186637, 0.9630462413546659, 0.0038521849654186637, 0.03081747972334931, 0.0038648938498492876, 0.993277719411267, 0.02050702251724134, 0.963830058310343, 0.02050702251724134, 0.02050702251724134, 0.9697118887116806, 0.011019453280814552, 0.011019453280814552, 0.011019453280814552, 0.00995002801368446, 0.00995002801368446, 0.00995002801368446, 0.9751027453410771, 0.007466007096391543, 0.9631149154345091, 0.007466007096391543, 0.02239802128917463, 0.9920814422580472, 0.004203734924822234, 0.004203734924822234, 0.004203734924822234, 0.985447789558885, 0.007299613255991741, 0.007299613255991741, 0.007299613255991741, 0.017658256064786233, 0.017658256064786233, 0.9712040835632427, 0.9381958744218327, 0.0035809002840527966, 0.0035809002840527966, 0.057294404544844746, 0.9307741576152246, 0.005086197582596856, 0.002543098791298428, 0.06357746978246069, 0.0144713629331548, 0.0144713629331548, 0.9695813165213716, 0.010951790740841169, 0.010951790740841169, 0.974709375934864, 0.018672933998754918, 0.9709925679352557, 0.018672933998754918, 0.018672933998754918, 0.0151267257839079, 0.06428858458160858, 0.8433149624528654, 0.0756336289195395, 0.01596317080681606, 0.9737534192157796, 0.01596317080681606, 0.01596317080681606, 0.007652801275514612, 0.9872113645413849, 0.007652801275514612, 0.007652801275514612, 0.9729964676278974, 0.014969176425044575, 0.014969176425044575, 0.014969176425044575, 0.01598304350273429, 0.01598304350273429, 0.9749656536667917, 0.01598304350273429, 0.020445019860450105, 0.020445019860450105, 0.9609159334411549, 0.9795997516827836, 0.016603385621742094, 0.016603385621742094, 0.016603385621742094, 0.2864413273054315, 0.7061111789389707, 0.006661426216405384, 0.006661426216405384, 0.013012185529271756, 0.9759139146953817, 0.013012185529271756, 0.013012185529271756, 0.002241480697061664, 0.002241480697061664, 0.995217429495379, 0.002241480697061664, 0.6093625495998126, 0.2994281493723217, 0.03151875256550755, 0.0630375051310151, 0.00846950728927858, 0.9824628455563154, 0.00846950728927858, 0.00846950728927858, 0.17855787369304707, 0.7310765771960607, 0.09096344508891077, 0.003369016484774473, 0.016313766700477857, 0.008156883350238928, 0.9625122353281935, 0.016313766700477857, 0.015190938327456159, 0.9570291146297379, 0.015190938327456159, 0.015190938327456159, 0.052194878167953165, 0.9290688313895663, 0.010438975633590633, 0.010438975633590633, 0.01368224823972965, 0.01368224823972965, 0.9851218732605348, 0.01368224823972965, 0.017605986049456568, 0.017605986049456568, 0.9683292327201113, 0.017605986049456568, 0.015221250044788984, 0.015221250044788984, 0.958938752821706, 0.015221250044788984, 0.01318189545758881, 0.01318189545758881, 0.9754602638615719, 0.01318189545758881, 0.014665023627979612, 0.014665023627979612, 0.014665023627979612, 0.982556583074634, 0.008094287211729662, 0.008094287211729662, 0.9875030398310187, 0.008094287211729662, 0.00748153028778388, 0.01496306057556776, 0.9277097556852011, 0.05237071201448716, 0.0057294584882901485, 0.022917833953160594, 0.8422303977786518, 0.13177754523067342, 0.025443256382330578, 0.23747039290175206, 0.7124111787052562, 0.025443256382330578, 0.8851561271240469, 0.0036728470005147175, 0.0036728470005147175, 0.11018541001544153, 0.00518675928859527, 0.00518675928859527, 0.3734466687788594, 0.6172243553428371, 0.01421370629192195, 0.9144151047803121, 0.004737902097307316, 0.06633062936230244, 0.02283348305015013, 0.9666174491230222, 0.00761116101671671, 0.00761116101671671, 0.2346059520596418, 0.005455952373480042, 0.7583773799137258, 0.017427449384081875, 0.9585097161245031, 0.017427449384081875, 0.017427449384081875, 0.1463443623132978, 0.0050463573211482, 0.0050463573211482, 0.8477880299528976, 0.9670787913898496, 0.010179776751472101, 0.010179776751472101, 0.010179776751472101, 0.004776893727063593, 0.4442511166169142, 0.3152749859861972, 0.23884468635317968, 0.7565807730579828, 0.23117745843438361, 0.007005377528314655, 0.007005377528314655, 0.01295081149661631, 0.9713108622462232, 0.01295081149661631, 0.01295081149661631, 0.33514524047677524, 0.0028163465586283636, 0.0028163465586283636, 0.6618414412776654, 0.019821973384247998, 0.019821973384247998, 0.9712766958281518, 0.3906656993366375, 0.003906656993366375, 0.003906656993366375, 0.6055318339717881, 0.01008196559476781, 0.8872129723395672, 0.1008196559476781, 0.01008196559476781, 0.011085230735395326, 0.011085230735395326, 0.8535627666254402, 0.13302276882474393, 0.002591079449783489, 0.002591079449783489, 0.9949745087168598, 0.002591079449783489, 0.19662989519185123, 0.7921375777728864, 0.005617997005481464, 0.005617997005481464, 0.05396007420782328, 0.9353079529356035, 0.008993345701303881, 0.008993345701303881, 0.9715804311707026, 0.014720915623798524, 0.014720915623798524, 0.014720915623798524, 0.9721388697366795, 0.011303940345775344, 0.011303940345775344, 0.011303940345775344, 0.03759908848062924, 0.691823228043578, 0.007519817696125848, 0.26319361936440466, 0.12242444438845937, 0.625724937985459, 0.006801358021581076, 0.2516502467984998, 0.8265024192026177, 0.007871451611453502, 0.007871451611453502, 0.16530048384052354, 0.9744285446901897, 0.002612408966997828, 0.002612408966997828, 0.023511680702980448, 0.969675654802373, 0.011543757795266346, 0.011543757795266346, 0.02308751559053269, 0.010843930856245512, 0.021687861712491024, 0.9651098462058505, 0.010843930856245512], \"Term\": [\"10 min\", \"10 min\", \"10 min\", \"10 min\", \"10 minute\", \"10 minute\", \"10 minute\", \"10 minute\", \"15 min\", \"15 min\", \"15 min\", \"15 min\", \"15 minute\", \"15 minute\", \"15 minute\", \"20 min\", \"20 min\", \"20 min\", \"20 min\", \"20 minute\", \"20 minute\", \"20 minute\", \"20 minute\", \"30 minute\", \"30 minute\", \"30 minute\", \"30 minute\", \"40 min\", \"40 min\", \"40 min\", \"40 min\", \"40 minute\", \"40 minute\", \"40 minute\", \"40 minute\", \"45 minute\", \"45 minute\", \"45 minute\", \"45 minute\", \"48 hour\", \"48 hour\", \"48 hour\", \"48 hour\", \"72 hour\", \"72 hour\", \"72 hour\", \"absolute joke\", \"absolute joke\", \"absolute joke\", \"absolute joke\", \"absolutely disgusting\", \"absolutely disgusting\", \"absolutely disgusting\", \"absolutely disgusting\", \"absolutely shocking\", \"absolutely shocking\", \"absolutely shocking\", \"absolutely shocking\", \"account hacked\", \"account hacked\", \"account hacked\", \"account never\", \"account never\", \"account never\", \"account never\", \"almost hour\", \"almost hour\", \"almost hour\", \"almost hour\", \"always cold\", \"always cold\", \"always cold\", \"always cold\", \"always late\", \"always late\", \"always late\", \"always late\", \"app said\", \"app said\", \"app said\", \"app said\", \"app say\", \"app say\", \"app say\", \"app say\", \"arrived cold\", \"arrived cold\", \"arrived cold\", \"arrived cold\", \"arrived hour\", \"arrived hour\", \"arrived hour\", \"arrived hour\", \"arrived late\", \"arrived late\", \"arrived late\", \"arrived late\", \"arrived stone\", \"arrived stone\", \"arrived stone\", \"arrives cold\", \"arrives cold\", \"arrives cold\", \"asked speak\", \"asked speak\", \"asked speak\", \"asked speak\", \"avoid like\", \"avoid like\", \"avoid like\", \"avoid like\", \"bad app\", \"bad app\", \"bad app\", \"bad app\", \"bad company\", \"bad company\", \"bad company\", \"bad company\", \"bad ever\", \"bad ever\", \"bad ever\", \"bad ever\", \"bad experience\", \"bad experience\", \"bad experience\", \"bad experience\", \"bad review\", \"bad review\", \"bad review\", \"bad review\", \"bank account\", \"bank account\", \"bank account\", \"call back\", \"call back\", \"call back\", \"call back\", \"call restaurant\", \"call restaurant\", \"call restaurant\", \"call restaurant\", \"called back\", \"called back\", \"called back\", \"called eat\", \"called eat\", \"called eat\", \"called restaurant\", \"called restaurant\", \"called restaurant\", \"called restaurant\", \"card detail\", \"card detail\", \"card detail\", \"charged full\", \"charged full\", \"charged full\", \"charged full\", \"charged twice\", \"charged twice\", \"charged twice\", \"charged twice\", \"code work\", \"code work\", \"cold inedible\", \"cold inedible\", \"cold inedible\", \"cold inedible\", \"cold missing\", \"cold missing\", \"cold soggy\", \"cold soggy\", \"cold soggy\", \"company ever\", \"company ever\", \"company ever\", \"company ever\", \"contact eat\", \"contact eat\", \"contact eat\", \"contact eat\", \"contact restaurant\", \"contact restaurant\", \"contact restaurant\", \"contact restaurant\", \"contacted eat\", \"contacted eat\", \"contacted eat\", \"contacted eat\", \"contacted restaurant\", \"contacted restaurant\", \"contacted restaurant\", \"contacted restaurant\", \"correct address\", \"correct address\", \"correct address\", \"correct address\", \"credit card\", \"credit card\", \"credit card\", \"credit card\", \"day late\", \"day late\", \"day late\", \"day late\", \"deleted account\", \"deleted account\", \"deleted account\", \"deleted account\", \"deleted app\", \"deleted app\", \"deleted app\", \"deleted app\", \"delivered contacted\", \"delivered contacted\", \"delivered contacted\", \"delivered never\", \"delivered never\", \"delivered never\", \"delivered never\", \"delivered wrong\", \"delivered wrong\", \"delivered wrong\", \"delivered wrong\", \"discount code\", \"discount code\", \"discount code\", \"discount code\", \"door bell\", \"door bell\", \"door bell\", \"eat told\", \"eat told\", \"email address\", \"email address\", \"email address\", \"email address\", \"email saying\", \"email saying\", \"email saying\", \"email saying\", \"every single\", \"every single\", \"every single\", \"every single\", \"every time\", \"every time\", \"every time\", \"every time\", \"experience ever\", \"experience ever\", \"experience ever\", \"experience ever\", \"find address\", \"find address\", \"find address\", \"find address\", \"find house\", \"find house\", \"find house\", \"find house\", \"first time\", \"first time\", \"first time\", \"first time\", \"freezing cold\", \"freezing cold\", \"freezing cold\", \"freezing cold\", \"front door\", \"front door\", \"front door\", \"front door\", \"full amount\", \"full amount\", \"full amount\", \"full amount\", \"full price\", \"full price\", \"full price\", \"gift card\", \"gift card\", \"gift card\", \"go wrong\", \"go wrong\", \"go wrong\", \"go wrong\", \"gon na\", \"gon na\", \"gon na\", \"gon na\", \"got charged\", \"got charged\", \"got charged\", \"got charged\", \"got message\", \"got message\", \"got message\", \"got message\", \"got notification\", \"got notification\", \"got notification\", \"got notification\", \"half hour\", \"half hour\", \"half hour\", \"half hour\", \"half missing\", \"half missing\", \"half missing\", \"half missing\", \"happy meal\", \"happy meal\", \"happy meal\", \"happy meal\", \"help section\", \"help section\", \"help section\", \"help section\", \"hour ago\", \"hour ago\", \"hour ago\", \"hour ago\", \"hour cancelled\", \"hour cancelled\", \"hour cancelled\", \"hour cancelled\", \"hour half\", \"hour half\", \"hour half\", \"hour late\", \"hour late\", \"hour late\", \"hour late\", \"hour told\", \"hour told\", \"hour told\", \"hour told\", \"hour wait\", \"hour wait\", \"hour wait\", \"hour wait\", \"ice cream\", \"ice cream\", \"ice cream\", \"ice cream\", \"item missing\", \"item missing\", \"item missing\", \"item missing\", \"joke company\", \"joke company\", \"joke company\", \"joke company\", \"keep sending\", \"keep sending\", \"keep sending\", \"keep sending\", \"last night\", \"last night\", \"last night\", \"last night\", \"last time\", \"last time\", \"last time\", \"last time\", \"late cold\", \"late cold\", \"late cold\", \"late cold\", \"late stone\", \"late stone\", \"late stone\", \"leave door\", \"leave door\", \"leave door\", \"leave door\", \"left outside\", \"left outside\", \"left outside\", \"left outside\", \"like plague\", \"like plague\", \"like plague\", \"like plague\", \"live chat\", \"live chat\", \"live chat\", \"live chat\", \"many time\", \"many time\", \"many time\", \"many time\", \"marked delivered\", \"marked delivered\", \"marked delivered\", \"marked delivered\", \"meal missing\", \"meal missing\", \"meal missing\", \"message saying\", \"message saying\", \"message saying\", \"message saying\", \"mile away\", \"mile away\", \"mile away\", \"mile away\", \"min away\", \"min away\", \"min away\", \"min away\", \"min late\", \"min late\", \"min late\", \"min late\", \"minute away\", \"minute away\", \"minute away\", \"minute away\", \"minute late\", \"minute late\", \"minute late\", \"minute late\", \"missed call\", \"missed call\", \"missed call\", \"missing item\", \"missing item\", \"missing item\", \"money account\", \"money account\", \"money back\", \"money back\", \"money back\", \"money back\", \"money taken\", \"money taken\", \"money taken\", \"much good\", \"much good\", \"much good\", \"much good\", \"never arrived\", \"never arrived\", \"never arrived\", \"never arrived\", \"never delivered\", \"never delivered\", \"never delivered\", \"never delivered\", \"never eat\", \"never eat\", \"never eat\", \"never eat\", \"never ever\", \"never ever\", \"never ever\", \"never ever\", \"never got\", \"never got\", \"never got\", \"never got\", \"never ordering\", \"never ordering\", \"never ordering\", \"never ordering\", \"never received\", \"never received\", \"never received\", \"never received\", \"never turned\", \"never turned\", \"never turned\", \"never turned\", \"never used\", \"never used\", \"never used\", \"never used\", \"never using\", \"never using\", \"never using\", \"never using\", \"next time\", \"next time\", \"next time\", \"next time\", \"online chat\", \"online chat\", \"online chat\", \"online chat\", \"order missing\", \"order missing\", \"order missing\", \"order missing\", \"ordered kfc\", \"ordered kfc\", \"ordered kfc\", \"ordered kfc\", \"ordered meal\", \"ordered meal\", \"ordered meal\", \"ordered meal\", \"ordered never\", \"ordered never\", \"ordered never\", \"ordered never\", \"outside door\", \"outside door\", \"outside door\", \"outside door\", \"outside house\", \"outside house\", \"outside house\", \"outside house\", \"payment method\", \"payment method\", \"payment method\", \"phone call\", \"phone call\", \"phone call\", \"phone call\", \"phone number\", \"phone number\", \"phone number\", \"phone number\", \"promo code\", \"promo code\", \"promotion code\", \"promotion code\", \"promotion code\", \"promotion code\", \"rang restaurant\", \"rang restaurant\", \"rang restaurant\", \"rang restaurant\", \"really bad\", \"really bad\", \"really bad\", \"really bad\", \"received email\", \"received email\", \"received email\", \"received email\", \"restaurant said\", \"restaurant said\", \"restaurant said\", \"restaurant said\", \"restaurant told\", \"restaurant told\", \"restaurant told\", \"restaurant told\", \"ring doorbell\", \"ring doorbell\", \"ring doorbell\", \"said delivered\", \"said delivered\", \"said delivered\", \"said delivered\", \"said would\", \"said would\", \"said would\", \"said would\", \"saying cancelled\", \"saying cancelled\", \"saying cancelled\", \"saying delivered\", \"saying delivered\", \"saying delivered\", \"screen shot\", \"screen shot\", \"screen shot\", \"screen shot\", \"second time\", \"second time\", \"second time\", \"second time\", \"send email\", \"send email\", \"send email\", \"send email\", \"sent email\", \"sent email\", \"sent email\", \"sent email\", \"sent wrong\", \"sent wrong\", \"sent wrong\", \"sent wrong\", \"something go\", \"something go\", \"something go\", \"something go\", \"something missing\", \"something missing\", \"something missing\", \"speak manager\", \"speak manager\", \"speak manager\", \"speak manager\", \"still charged\", \"still charged\", \"still charged\", \"still charged\", \"stole money\", \"stole money\", \"stole money\", \"stole money\", \"stone cold\", \"stone cold\", \"stone cold\", \"stone cold\", \"straight away\", \"straight away\", \"straight away\", \"straight away\", \"support team\", \"support team\", \"support team\", \"support team\", \"take money\", \"take money\", \"take money\", \"take money\", \"take responsibility\", \"take responsibility\", \"take responsibility\", \"take responsibility\", \"taking money\", \"taking money\", \"taking money\", \"taking money\", \"terrible company\", \"terrible company\", \"terrible company\", \"terrible company\", \"thing go\", \"thing go\", \"thing go\", \"thing go\", \"time arrived\", \"time arrived\", \"time arrived\", \"time arrived\", \"time eats\", \"time eats\", \"time eats\", \"time eats\", \"time issue\", \"time issue\", \"time issue\", \"time issue\", \"time kept\", \"time kept\", \"time kept\", \"time kept\", \"time money\", \"time money\", \"time money\", \"time money\", \"time never\", \"time never\", \"time never\", \"time never\", \"time ordered\", \"time ordered\", \"time ordered\", \"time ordered\", \"time used\", \"time used\", \"time used\", \"time used\", \"told would\", \"told would\", \"told would\", \"told would\", \"took hour\", \"took hour\", \"took hour\", \"took hour\", \"took money\", \"took money\", \"took money\", \"took money\", \"trading standard\", \"trading standard\", \"trading standard\", \"trading standard\", \"tried call\", \"tried call\", \"tried call\", \"tried contacting\", \"tried contacting\", \"tried contacting\", \"tried contacting\", \"two hour\", \"two hour\", \"two hour\", \"two hour\", \"using eat\", \"using eat\", \"using eat\", \"using eat\", \"using eats\", \"using eats\", \"using eats\", \"using eats\", \"via app\", \"via app\", \"via app\", \"via app\", \"via email\", \"via email\", \"via email\", \"via email\", \"waited hour\", \"waited hour\", \"waited hour\", \"waited hour\", \"waited outside\", \"waited outside\", \"waited outside\", \"waiting hour\", \"waiting hour\", \"waiting hour\", \"waiting hour\", \"want money\", \"want money\", \"want money\", \"want money\", \"waste money\", \"waste money\", \"waste money\", \"waste money\", \"waste time\", \"waste time\", \"waste time\", \"waste time\", \"way contact\", \"way contact\", \"way contact\", \"way contact\", \"week ago\", \"week ago\", \"week ago\", \"week ago\", \"within 48\", \"within 48\", \"within 48\", \"within 48\", \"working day\", \"working day\", \"working day\", \"working day\", \"would like\", \"would like\", \"would like\", \"would like\", \"would never\", \"would never\", \"would never\", \"would never\", \"would take\", \"would take\", \"would take\", \"would take\", \"wrong address\", \"wrong address\", \"wrong address\", \"wrong address\", \"wrong house\", \"wrong house\", \"wrong house\", \"wrong house\", \"wrong item\", \"wrong item\", \"wrong item\", \"wrong item\"]}, \"R\": 30, \"lambda.step\": 0.01, \"plot.opts\": {\"xlab\": \"PC1\", \"ylab\": \"PC2\"}, \"topic.order\": [2, 1, 3, 4]};\n",
       "\n",
       "function LDAvis_load_lib(url, callback){\n",
       "  var s = document.createElement('script');\n",
       "  s.src = url;\n",
       "  s.async = true;\n",
       "  s.onreadystatechange = s.onload = callback;\n",
       "  s.onerror = function(){console.warn(\"failed to load library \" + url);};\n",
       "  document.getElementsByTagName(\"head\")[0].appendChild(s);\n",
       "}\n",
       "\n",
       "if(typeof(LDAvis) !== \"undefined\"){\n",
       "   // already loaded: just create the visualization\n",
       "   !function(LDAvis){\n",
       "       new LDAvis(\"#\" + \"ldavis_el2107620626780565368478837082\", ldavis_el2107620626780565368478837082_data);\n",
       "   }(LDAvis);\n",
       "}else if(typeof define === \"function\" && define.amd){\n",
       "   // require.js is available: use it to load d3/LDAvis\n",
       "   require.config({paths: {d3: \"https://d3js.org/d3.v5\"}});\n",
       "   require([\"d3\"], function(d3){\n",
       "      window.d3 = d3;\n",
       "      LDAvis_load_lib(\"https://cdn.jsdelivr.net/gh/bmabey/pyLDAvis@3.2.2/pyLDAvis/js/ldavis.v3.0.0.js\", function(){\n",
       "        new LDAvis(\"#\" + \"ldavis_el2107620626780565368478837082\", ldavis_el2107620626780565368478837082_data);\n",
       "      });\n",
       "    });\n",
       "}else{\n",
       "    // require.js not available: dynamically load d3 & LDAvis\n",
       "    LDAvis_load_lib(\"https://d3js.org/d3.v5.js\", function(){\n",
       "         LDAvis_load_lib(\"https://cdn.jsdelivr.net/gh/bmabey/pyLDAvis@3.2.2/pyLDAvis/js/ldavis.v3.0.0.js\", function(){\n",
       "                 new LDAvis(\"#\" + \"ldavis_el2107620626780565368478837082\", ldavis_el2107620626780565368478837082_data);\n",
       "            })\n",
       "         });\n",
       "}\n",
       "</script>"
      ],
      "text/plain": [
       "<IPython.core.display.HTML object>"
      ]
     },
     "execution_count": 171,
     "metadata": {},
     "output_type": "execute_result"
    }
   ],
   "source": [
    "%matplotlib inline\n",
    "\n",
    "import pyLDAvis\n",
    "import pyLDAvis.gensim\n",
    "\n",
    "vis = pyLDAvis.gensim.prepare(topic_model=lda_model, corpus=corpus, dictionary=dictionary_LDA)\n",
    "pyLDAvis.enable_notebook()\n",
    "pyLDAvis.display(vis)"
   ]
  }
 ],
 "metadata": {
  "kernelspec": {
   "display_name": "Python 3",
   "language": "python",
   "name": "python3"
  },
  "language_info": {
   "codemirror_mode": {
    "name": "ipython",
    "version": 3
   },
   "file_extension": ".py",
   "mimetype": "text/x-python",
   "name": "python",
   "nbconvert_exporter": "python",
   "pygments_lexer": "ipython3",
   "version": "3.6.5"
  }
 },
 "nbformat": 4,
 "nbformat_minor": 2
}
