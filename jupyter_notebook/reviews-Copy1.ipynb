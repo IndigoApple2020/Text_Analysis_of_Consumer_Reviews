{
 "cells": [
  {
   "cell_type": "markdown",
   "metadata": {},
   "source": [
    "# Topic Modelling with Latent Dirichlet Allocation on Customer Reviews: The case of UK delivery companies\n",
    "\n",
    "**Author: Georgios Spyrou (https://github.com/gpsyrou)**\n",
    "\n",
    "_Last Update: 29/07/2021_\n",
    "\n",
    "<img src=\"../img/projectimage.png\" alt=\"Sentiment Picture\" width=\"820\" height=\"640\">\n",
    "\n",
    "### Sections\n",
    "- <a href=\"#project_idea\" style=\"text-decoration: none\"> Project Description</a>\n",
    "- <a href=\"#data_retrieval\" style=\"text-decoration: none\"> Web-Scrapping Tool and Data Retrieval</a>\n",
    "- <a href=\"#data_cleaning_eda\" style=\"text-decoration: none\"> Data Cleaning & Initial Exploratory Data Analysis (EDA)</a>\n",
    "    - <a href=\"#data_preprocessing\" style=\"text-decoration: none\"> Data Preprocessing </a>\n",
    "    - <a href=\"#eda\" style=\"text-decoration: none\"> Exploratory Data Analysis </a>\n",
    "        - <a href=\"#single_words\" style=\"text-decoration: none\"> Single Words </a>\n",
    "        - <a href=\"#bigrams_eda\" style=\"text-decoration: none\"> Analysis with Bigrams </a>\n",
    "- <a href=\"#lda\" style=\"text-decoration: none\"> Latent Dirichlet Allocation Model </a>\n",
    "    - <a href=\"#bigrams_lda\" style=\"text-decoration: none\"> Compute Bigrams as LDA Input </a>\n",
    "    - <a href=\"#lda_model\" style=\"text-decoration: none\"> Creating the LDA Model </a>\n",
    "    - <a href=\"#topic_assign\" style=\"text-decoration: none\"> Assigning Predicted Topics to Reviews </a>\n",
    "    - <a href=\"#viz_output\" style=\"text-decoration: none\"> Visualizing the Results </a>"
   ]
  },
  {
   "cell_type": "markdown",
   "metadata": {},
   "source": [
    "<a id='project_idea'></a>\n",
    "### Introduction\n",
    "\n",
    "In this project we are going to explore the world of logistic companies and the issues that they might be facing. Specifically, we are going to focus on analyzing data regarding a few of the most well-known delivery companies in the UK, namely <a href=\"https://en.wikipedia.org/wiki/Deliveroo\" style=\"text-decoration:none\"> Deliveroo</a>, <a href=\"https://en.wikipedia.org/wiki/UberEats\" style=\"text-decoration:none\"> UberEats</a>, <a href=\"https://en.wikipedia.org/wiki/Just_Eat\" style=\"text-decoration:none\"> Just Eat</a> and <a href=\"https://stuart.com/\" style=\"text-decoration:none\"> Stuart</a>. To do that we are going to utilize the internet and the reviews that we can find in many different platforms, especially these platforms that are specializing at collecting reviews and opininions of customers for a plethora of companies and services. \n",
    "\n",
    "The first iteration of this project it's using the reviews that can be found in the famous consumer review website <a href=\"https://en.wikipedia.org/wiki/Trustpilot\" style=\"text-decoration:none\"> TrustPilot</a>. Even though the website is already providing some API functionalities, we are going to write our own web-scraping tool to retrieve the data in the format that we want. We will attempt to collect as many reviews as possible and then use them to identify interesting findings in the text. For example, we will try to identify what is the sentiment across all reviews for a specific company, what are the most common words and bigrams (i.e. pairs of words that tend to appear next to each other) in the reviews, and more. Finally, we will implement a <a href=\"https://en.wikipedia.org/wiki/Latent_Dirichlet_allocation\" style=\"text-decoration:none\"> Latent Dirichlet Allocation</a> model to try and identify what are the topics that these reviews correspond to.\n",
    "\n",
    "\n",
    "We are going to discuss the specifics in more depth as we are going through the different parts of the project. As a starting point of course, we need to collect the relevant reviews for the aforementioned group of delivery companies.\n",
    "\n",
    "<a id='data_retrieval'></a>\n",
    "### Web-Scrapping Tool and Data Retrieval\n",
    "\n",
    "In order to collect the reviews directly from the TrustPilot website, we have created a web-scrapping tool that allowed us to automate this process across different companies & their corresponding reviews. This tool is iterating across different pages of the website and collects the reviews and any other relevant information, with the output being stored in csv files. Moreover, we have packaged the tool into a python library. Hence, if you are thinking of working on a similar project where you need to retrieve data from TrustPilot, you can install the package that you can find <a href=\"https://github.com/gpsyrou/Text_Analysis_of_Consumer_Reviews/blob/main/trustplt.py\" style=\"text-decoration:none\">here</a>. As of May 2021, the package contains the main functionalities to collect many different information from the website, like the reviews, reviewer_id, date of the review, user rating, and more. \n",
    "\n",
    "For the first iteration of the project, we have built the aforementioned package with the functionality to retrieve the following information - which will also be the features in our dataset:\n",
    "\n",
    "1. **Company**: Name of the Company that we are examining (e.g. Deliveroo, UberEats, JustEat, Stuart)\n",
    "2. **Id**: The unique identifier for the Review\n",
    "3. **Reviewer_Id**: Unique id for a reviewer/user\n",
    "4. **Title**: Title of the review\n",
    "5. **Review**: The text corresponding to the review submitted from the reviewer\n",
    "6. **Date**: Day of review submission\n",
    "7. **Rating**: The rating about the company, as submitted from the reviewer\n",
    "\n",
    "Thus, after collecting the data and save them in a CSV format, we can by having a first look at the data and familiarize ourselves with the features. "
   ]
  },
  {
   "cell_type": "code",
   "execution_count": 1,
   "metadata": {},
   "outputs": [],
   "source": [
    "import os\n",
    "import string\n",
    "import numpy as np\n",
    "import pandas as pd\n",
    "from typing import List\n",
    "from collections import Counter\n",
    "\n",
    "import seaborn as sns\n",
    "sns.set_style('dark')\n",
    "\n",
    "import matplotlib.pyplot as plt\n",
    "import squarify\n",
    "\n",
    "from nltk import word_tokenize\n",
    "from nltk.util import ngrams\n",
    "from nltk.corpus import stopwords\n",
    "from nltk.collocations import BigramCollocationFinder\n",
    "from nltk.stem import WordNetLemmatizer, PorterStemmer\n",
    "\n",
    "from IPython.display import display, HTML\n",
    "\n",
    "project_dir = r'D:\\GitHub\\Projects\\Analysis_of_Delivery_Companies_Reviews'\n",
    "os.chdir(project_dir)\n",
    "\n",
    "from helpers.utilities import split_ratings_col, get_ratings_mapping\n",
    "\n",
    "import warnings\n",
    "warnings.filterwarnings('ignore')"
   ]
  },
  {
   "cell_type": "code",
   "execution_count": 2,
   "metadata": {},
   "outputs": [],
   "source": [
    "reviews_base_file = os.path.join(project_dir, 'reviews.csv')"
   ]
  },
  {
   "cell_type": "code",
   "execution_count": 3,
   "metadata": {},
   "outputs": [
    {
     "data": {
      "text/plain": [
       "{1: 'Bad', 2: 'Poor', 3: 'Average', 4: 'Great', 5: 'Excellent'}"
      ]
     },
     "execution_count": 3,
     "metadata": {},
     "output_type": "execute_result"
    }
   ],
   "source": [
    "col_names = ['Company', 'Id', 'Reviewer_Id', 'Title', 'Review', 'Date', 'Rating']\n",
    "\n",
    "ratings_dict = get_ratings_mapping()\n",
    "ratings_dict"
   ]
  },
  {
   "cell_type": "code",
   "execution_count": 4,
   "metadata": {},
   "outputs": [],
   "source": [
    "reviews_df = pd.read_csv(reviews_base_file, sep=',')"
   ]
  },
  {
   "cell_type": "markdown",
   "metadata": {},
   "source": [
    "<a id='data_cleaning_eda'></a>\n",
    "### Data Cleaning & Exploratory Data Analysis\n",
    "\n",
    "Here we can have an initial look about the information contained in the dataset - Please note that each row in the dataset corresponds to a different _review_ :"
   ]
  },
  {
   "cell_type": "code",
   "execution_count": 5,
   "metadata": {},
   "outputs": [
    {
     "data": {
      "text/html": [
       "<div>\n",
       "<style scoped>\n",
       "    .dataframe tbody tr th:only-of-type {\n",
       "        vertical-align: middle;\n",
       "    }\n",
       "\n",
       "    .dataframe tbody tr th {\n",
       "        vertical-align: top;\n",
       "    }\n",
       "\n",
       "    .dataframe thead th {\n",
       "        text-align: right;\n",
       "    }\n",
       "</style>\n",
       "<table border=\"1\" class=\"dataframe\">\n",
       "  <thead>\n",
       "    <tr style=\"text-align: right;\">\n",
       "      <th></th>\n",
       "      <th>Company</th>\n",
       "      <th>Id</th>\n",
       "      <th>Reviewer_Id</th>\n",
       "      <th>Title</th>\n",
       "      <th>Review</th>\n",
       "      <th>Date</th>\n",
       "      <th>Rating</th>\n",
       "    </tr>\n",
       "  </thead>\n",
       "  <tbody>\n",
       "    <tr>\n",
       "      <th>0</th>\n",
       "      <td>Deliveroo</td>\n",
       "      <td>60709f95f85d75087052ff8b</td>\n",
       "      <td>60709f8f0a30fd001b06dc52</td>\n",
       "      <td>Ordered food and apparently the driver…</td>\n",
       "      <td>Ordered food and apparently the driver was wai...</td>\n",
       "      <td>2021-04-09 18:40</td>\n",
       "      <td>{2: 'Poor'}</td>\n",
       "    </tr>\n",
       "    <tr>\n",
       "      <th>1</th>\n",
       "      <td>Deliveroo</td>\n",
       "      <td>60708710f85d75087052c89b</td>\n",
       "      <td>6070870c2158190019b3ab8e</td>\n",
       "      <td>Disgusting Live Customer Service CHAT!!!</td>\n",
       "      <td>I received standard bag of buttons that cost £...</td>\n",
       "      <td>2021-04-09 16:55</td>\n",
       "      <td>{1: 'Bad'}</td>\n",
       "    </tr>\n",
       "    <tr>\n",
       "      <th>2</th>\n",
       "      <td>Deliveroo</td>\n",
       "      <td>60707b91f85d75087052abb6</td>\n",
       "      <td>602eb3ac49aeca0019ad4b70</td>\n",
       "      <td>Just had an appalling experience with…</td>\n",
       "      <td>Just had an appalling experience with delivero...</td>\n",
       "      <td>2021-04-09 16:06</td>\n",
       "      <td>{1: 'Bad'}</td>\n",
       "    </tr>\n",
       "    <tr>\n",
       "      <th>3</th>\n",
       "      <td>Deliveroo</td>\n",
       "      <td>60705919f85d7508705251d4</td>\n",
       "      <td>60705856348d93001ad1ca1f</td>\n",
       "      <td>The same situation happened twice</td>\n",
       "      <td>The same situation happened twice. I ordered f...</td>\n",
       "      <td>2021-04-09 13:39</td>\n",
       "      <td>{2: 'Poor'}</td>\n",
       "    </tr>\n",
       "    <tr>\n",
       "      <th>4</th>\n",
       "      <td>Deliveroo</td>\n",
       "      <td>60705138f85d750870523d4d</td>\n",
       "      <td>6070512519dc76001aebe4b1</td>\n",
       "      <td>Driver left without giving us food</td>\n",
       "      <td>Driver turned up late couldn’t find us and lef...</td>\n",
       "      <td>2021-04-09 13:06</td>\n",
       "      <td>{1: 'Bad'}</td>\n",
       "    </tr>\n",
       "  </tbody>\n",
       "</table>\n",
       "</div>"
      ],
      "text/plain": [
       "     Company                        Id               Reviewer_Id  \\\n",
       "0  Deliveroo  60709f95f85d75087052ff8b  60709f8f0a30fd001b06dc52   \n",
       "1  Deliveroo  60708710f85d75087052c89b  6070870c2158190019b3ab8e   \n",
       "2  Deliveroo  60707b91f85d75087052abb6  602eb3ac49aeca0019ad4b70   \n",
       "3  Deliveroo  60705919f85d7508705251d4  60705856348d93001ad1ca1f   \n",
       "4  Deliveroo  60705138f85d750870523d4d  6070512519dc76001aebe4b1   \n",
       "\n",
       "                                      Title  \\\n",
       "0   Ordered food and apparently the driver…   \n",
       "1  Disgusting Live Customer Service CHAT!!!   \n",
       "2    Just had an appalling experience with…   \n",
       "3         The same situation happened twice   \n",
       "4        Driver left without giving us food   \n",
       "\n",
       "                                              Review              Date  \\\n",
       "0  Ordered food and apparently the driver was wai...  2021-04-09 18:40   \n",
       "1  I received standard bag of buttons that cost £...  2021-04-09 16:55   \n",
       "2  Just had an appalling experience with delivero...  2021-04-09 16:06   \n",
       "3  The same situation happened twice. I ordered f...  2021-04-09 13:39   \n",
       "4  Driver turned up late couldn’t find us and lef...  2021-04-09 13:06   \n",
       "\n",
       "        Rating  \n",
       "0  {2: 'Poor'}  \n",
       "1   {1: 'Bad'}  \n",
       "2   {1: 'Bad'}  \n",
       "3  {2: 'Poor'}  \n",
       "4   {1: 'Bad'}  "
      ]
     },
     "execution_count": 5,
     "metadata": {},
     "output_type": "execute_result"
    }
   ],
   "source": [
    "reviews_df.head()"
   ]
  },
  {
   "cell_type": "markdown",
   "metadata": {},
   "source": [
    "We can see that the _Title_ of the review sometimes seems to correspond to the first few words/lines of the full _Review_, while some other times appears to be a small summary. At the same time we can observe that the _Rating_ provides us with some useful information about how the Reviewer felt regarding the company's service on that specific occasion."
   ]
  },
  {
   "cell_type": "code",
   "execution_count": 6,
   "metadata": {},
   "outputs": [
    {
     "name": "stdout",
     "output_type": "stream",
     "text": [
      "There are 19080 reviews (rows) and 7 features in the dataset\n"
     ]
    }
   ],
   "source": [
    "print(f'There are {reviews_df.shape[0]} reviews (rows) and {reviews_df.shape[1]} features in the dataset')"
   ]
  },
  {
   "cell_type": "code",
   "execution_count": 7,
   "metadata": {},
   "outputs": [
    {
     "data": {
      "text/plain": [
       "UberEats     9340\n",
       "Deliveroo    6720\n",
       "JustEat      2740\n",
       "Stuart        280\n",
       "Name: Company, dtype: int64"
      ]
     },
     "execution_count": 7,
     "metadata": {},
     "output_type": "execute_result"
    }
   ],
   "source": [
    "reviews_df['Company'].value_counts()"
   ]
  },
  {
   "cell_type": "markdown",
   "metadata": {},
   "source": [
    "We can check if there are any missing values in the dataset, or if there are rows that are duplicates:"
   ]
  },
  {
   "cell_type": "code",
   "execution_count": 8,
   "metadata": {},
   "outputs": [
    {
     "name": "stdout",
     "output_type": "stream",
     "text": [
      "There are 161 duplicate reviews in the dataset\n"
     ]
    }
   ],
   "source": [
    "num_duplicate_reviews = reviews_df.duplicated('Id').sum()\n",
    "print(f'There are {num_duplicate_reviews} duplicate reviews in the dataset')"
   ]
  },
  {
   "cell_type": "markdown",
   "metadata": {},
   "source": [
    "Dropping the duplicate reviews"
   ]
  },
  {
   "cell_type": "code",
   "execution_count": 9,
   "metadata": {},
   "outputs": [
    {
     "data": {
      "text/plain": [
       "1"
      ]
     },
     "execution_count": 9,
     "metadata": {},
     "output_type": "execute_result"
    }
   ],
   "source": [
    "reviews_df.drop_duplicates(inplace=True)\n",
    "reviews_df.duplicated('Id').sum()"
   ]
  },
  {
   "cell_type": "code",
   "execution_count": 10,
   "metadata": {},
   "outputs": [
    {
     "data": {
      "text/html": [
       "<div>\n",
       "<style scoped>\n",
       "    .dataframe tbody tr th:only-of-type {\n",
       "        vertical-align: middle;\n",
       "    }\n",
       "\n",
       "    .dataframe tbody tr th {\n",
       "        vertical-align: top;\n",
       "    }\n",
       "\n",
       "    .dataframe thead th {\n",
       "        text-align: right;\n",
       "    }\n",
       "</style>\n",
       "<table border=\"1\" class=\"dataframe\">\n",
       "  <thead>\n",
       "    <tr style=\"text-align: right;\">\n",
       "      <th></th>\n",
       "      <th>Missing_Values</th>\n",
       "    </tr>\n",
       "  </thead>\n",
       "  <tbody>\n",
       "    <tr>\n",
       "      <th>Company</th>\n",
       "      <td>0</td>\n",
       "    </tr>\n",
       "    <tr>\n",
       "      <th>Id</th>\n",
       "      <td>0</td>\n",
       "    </tr>\n",
       "    <tr>\n",
       "      <th>Reviewer_Id</th>\n",
       "      <td>0</td>\n",
       "    </tr>\n",
       "    <tr>\n",
       "      <th>Title</th>\n",
       "      <td>0</td>\n",
       "    </tr>\n",
       "    <tr>\n",
       "      <th>Review</th>\n",
       "      <td>267</td>\n",
       "    </tr>\n",
       "    <tr>\n",
       "      <th>Date</th>\n",
       "      <td>2912</td>\n",
       "    </tr>\n",
       "    <tr>\n",
       "      <th>Rating</th>\n",
       "      <td>0</td>\n",
       "    </tr>\n",
       "  </tbody>\n",
       "</table>\n",
       "</div>"
      ],
      "text/plain": [
       "             Missing_Values\n",
       "Company                   0\n",
       "Id                        0\n",
       "Reviewer_Id               0\n",
       "Title                     0\n",
       "Review                  267\n",
       "Date                   2912\n",
       "Rating                    0"
      ]
     },
     "execution_count": 10,
     "metadata": {},
     "output_type": "execute_result"
    }
   ],
   "source": [
    "pd.DataFrame(reviews_df.isna().sum(), columns=['Missing_Values'])"
   ]
  },
  {
   "cell_type": "markdown",
   "metadata": {},
   "source": [
    "From the queries above we can quickly see that initially we had some issues as there were 57 duplicate reviews, but we have used a pandas built-in function to remove them from the dataset. The duplication is caused due to the nature of retrieving data from by using the API, as we might process pages that we have already processed in the past, and that means retrieving the same reviews as before. Luckily, the _Id_ column is sufficient to identify unique reviews in the dataset, and hence it's easy to spot and fix duplication issues.\n",
    "\n",
    "Now, regarding the missing values there are a few cases where Review appears to be empty, as well as quite a few cases on missing dates. The later is not a massive issue at this stage of the project. On the other hand, the absence of reviews can be a big issue as this project is all about analyzing customer reviews, and hence rows that have no text corresponding to a review wouldn't provide much information. That said, as we saw above there is another feature (_Title_) which we can use as text for rows where the _Review_ is empty."
   ]
  },
  {
   "cell_type": "code",
   "execution_count": 11,
   "metadata": {},
   "outputs": [
    {
     "data": {
      "text/html": [
       "<div>\n",
       "<style scoped>\n",
       "    .dataframe tbody tr th:only-of-type {\n",
       "        vertical-align: middle;\n",
       "    }\n",
       "\n",
       "    .dataframe tbody tr th {\n",
       "        vertical-align: top;\n",
       "    }\n",
       "\n",
       "    .dataframe thead th {\n",
       "        text-align: right;\n",
       "    }\n",
       "</style>\n",
       "<table border=\"1\" class=\"dataframe\">\n",
       "  <thead>\n",
       "    <tr style=\"text-align: right;\">\n",
       "      <th></th>\n",
       "      <th>Company</th>\n",
       "      <th>Id</th>\n",
       "      <th>Reviewer_Id</th>\n",
       "      <th>Title</th>\n",
       "      <th>Review</th>\n",
       "      <th>Date</th>\n",
       "      <th>Rating</th>\n",
       "    </tr>\n",
       "  </thead>\n",
       "  <tbody>\n",
       "    <tr>\n",
       "      <th>45</th>\n",
       "      <td>Deliveroo</td>\n",
       "      <td>60684978f85d75087045ed91</td>\n",
       "      <td>60684973402b0e001a95af2d</td>\n",
       "      <td>Great service</td>\n",
       "      <td>NaN</td>\n",
       "      <td>2021-04-03 10:54</td>\n",
       "      <td>{5: 'Excellent'}</td>\n",
       "    </tr>\n",
       "    <tr>\n",
       "      <th>94</th>\n",
       "      <td>Deliveroo</td>\n",
       "      <td>606221b3f85d7508703c730e</td>\n",
       "      <td>5d73f4f179586ed7bad49d52</td>\n",
       "      <td>Very very disappointed bad service</td>\n",
       "      <td>NaN</td>\n",
       "      <td>2021-03-29 18:51</td>\n",
       "      <td>{1: 'Bad'}</td>\n",
       "    </tr>\n",
       "    <tr>\n",
       "      <th>114</th>\n",
       "      <td>Deliveroo</td>\n",
       "      <td>605f8f5df85d7508703919f5</td>\n",
       "      <td>5e8d9b9a6251456b37ed292e</td>\n",
       "      <td>CRAP nothing else to say!</td>\n",
       "      <td>NaN</td>\n",
       "      <td>2021-03-27 20:02</td>\n",
       "      <td>{1: 'Bad'}</td>\n",
       "    </tr>\n",
       "    <tr>\n",
       "      <th>137</th>\n",
       "      <td>Deliveroo</td>\n",
       "      <td>605e40ddf85d750870377a98</td>\n",
       "      <td>605cb15ead7256001bdc3948</td>\n",
       "      <td>A MILLION TIMES BETTER THAN UBER EATS</td>\n",
       "      <td>NaN</td>\n",
       "      <td>2021-03-26 20:15</td>\n",
       "      <td>{5: 'Excellent'}</td>\n",
       "    </tr>\n",
       "    <tr>\n",
       "      <th>201</th>\n",
       "      <td>Deliveroo</td>\n",
       "      <td>6054f264f85d750bf4f97e45</td>\n",
       "      <td>5d57f496959de5789bc062bd</td>\n",
       "      <td>Better to use Uber eats</td>\n",
       "      <td>NaN</td>\n",
       "      <td>2021-03-19 18:50</td>\n",
       "      <td>{1: 'Bad'}</td>\n",
       "    </tr>\n",
       "  </tbody>\n",
       "</table>\n",
       "</div>"
      ],
      "text/plain": [
       "       Company                        Id               Reviewer_Id  \\\n",
       "45   Deliveroo  60684978f85d75087045ed91  60684973402b0e001a95af2d   \n",
       "94   Deliveroo  606221b3f85d7508703c730e  5d73f4f179586ed7bad49d52   \n",
       "114  Deliveroo  605f8f5df85d7508703919f5  5e8d9b9a6251456b37ed292e   \n",
       "137  Deliveroo  605e40ddf85d750870377a98  605cb15ead7256001bdc3948   \n",
       "201  Deliveroo  6054f264f85d750bf4f97e45  5d57f496959de5789bc062bd   \n",
       "\n",
       "                                     Title Review              Date  \\\n",
       "45                           Great service    NaN  2021-04-03 10:54   \n",
       "94      Very very disappointed bad service    NaN  2021-03-29 18:51   \n",
       "114              CRAP nothing else to say!    NaN  2021-03-27 20:02   \n",
       "137  A MILLION TIMES BETTER THAN UBER EATS    NaN  2021-03-26 20:15   \n",
       "201                Better to use Uber eats    NaN  2021-03-19 18:50   \n",
       "\n",
       "               Rating  \n",
       "45   {5: 'Excellent'}  \n",
       "94         {1: 'Bad'}  \n",
       "114        {1: 'Bad'}  \n",
       "137  {5: 'Excellent'}  \n",
       "201        {1: 'Bad'}  "
      ]
     },
     "execution_count": 11,
     "metadata": {},
     "output_type": "execute_result"
    }
   ],
   "source": [
    "empty_reviews_sample = reviews_df[reviews_df['Review'].isnull()].head(5)\n",
    "empty_reviews_sample"
   ]
  },
  {
   "cell_type": "markdown",
   "metadata": {},
   "source": [
    "Apply the transformation"
   ]
  },
  {
   "cell_type": "code",
   "execution_count": 12,
   "metadata": {},
   "outputs": [],
   "source": [
    "reviews_df.loc[reviews_df['Review'].isnull(), 'Review'] = reviews_df['Title']"
   ]
  },
  {
   "cell_type": "markdown",
   "metadata": {},
   "source": [
    "and we can see how the transformation affected the dataset"
   ]
  },
  {
   "cell_type": "code",
   "execution_count": 13,
   "metadata": {},
   "outputs": [
    {
     "data": {
      "text/html": [
       "<div>\n",
       "<style scoped>\n",
       "    .dataframe tbody tr th:only-of-type {\n",
       "        vertical-align: middle;\n",
       "    }\n",
       "\n",
       "    .dataframe tbody tr th {\n",
       "        vertical-align: top;\n",
       "    }\n",
       "\n",
       "    .dataframe thead th {\n",
       "        text-align: right;\n",
       "    }\n",
       "</style>\n",
       "<table border=\"1\" class=\"dataframe\">\n",
       "  <thead>\n",
       "    <tr style=\"text-align: right;\">\n",
       "      <th></th>\n",
       "      <th>Company</th>\n",
       "      <th>Id</th>\n",
       "      <th>Reviewer_Id</th>\n",
       "      <th>Title</th>\n",
       "      <th>Review</th>\n",
       "      <th>Date</th>\n",
       "      <th>Rating</th>\n",
       "    </tr>\n",
       "  </thead>\n",
       "  <tbody>\n",
       "    <tr>\n",
       "      <th>45</th>\n",
       "      <td>Deliveroo</td>\n",
       "      <td>60684978f85d75087045ed91</td>\n",
       "      <td>60684973402b0e001a95af2d</td>\n",
       "      <td>Great service</td>\n",
       "      <td>Great service</td>\n",
       "      <td>2021-04-03 10:54</td>\n",
       "      <td>{5: 'Excellent'}</td>\n",
       "    </tr>\n",
       "    <tr>\n",
       "      <th>94</th>\n",
       "      <td>Deliveroo</td>\n",
       "      <td>606221b3f85d7508703c730e</td>\n",
       "      <td>5d73f4f179586ed7bad49d52</td>\n",
       "      <td>Very very disappointed bad service</td>\n",
       "      <td>Very very disappointed bad service</td>\n",
       "      <td>2021-03-29 18:51</td>\n",
       "      <td>{1: 'Bad'}</td>\n",
       "    </tr>\n",
       "    <tr>\n",
       "      <th>114</th>\n",
       "      <td>Deliveroo</td>\n",
       "      <td>605f8f5df85d7508703919f5</td>\n",
       "      <td>5e8d9b9a6251456b37ed292e</td>\n",
       "      <td>CRAP nothing else to say!</td>\n",
       "      <td>CRAP nothing else to say!</td>\n",
       "      <td>2021-03-27 20:02</td>\n",
       "      <td>{1: 'Bad'}</td>\n",
       "    </tr>\n",
       "    <tr>\n",
       "      <th>137</th>\n",
       "      <td>Deliveroo</td>\n",
       "      <td>605e40ddf85d750870377a98</td>\n",
       "      <td>605cb15ead7256001bdc3948</td>\n",
       "      <td>A MILLION TIMES BETTER THAN UBER EATS</td>\n",
       "      <td>A MILLION TIMES BETTER THAN UBER EATS</td>\n",
       "      <td>2021-03-26 20:15</td>\n",
       "      <td>{5: 'Excellent'}</td>\n",
       "    </tr>\n",
       "    <tr>\n",
       "      <th>201</th>\n",
       "      <td>Deliveroo</td>\n",
       "      <td>6054f264f85d750bf4f97e45</td>\n",
       "      <td>5d57f496959de5789bc062bd</td>\n",
       "      <td>Better to use Uber eats</td>\n",
       "      <td>Better to use Uber eats</td>\n",
       "      <td>2021-03-19 18:50</td>\n",
       "      <td>{1: 'Bad'}</td>\n",
       "    </tr>\n",
       "  </tbody>\n",
       "</table>\n",
       "</div>"
      ],
      "text/plain": [
       "       Company                        Id               Reviewer_Id  \\\n",
       "45   Deliveroo  60684978f85d75087045ed91  60684973402b0e001a95af2d   \n",
       "94   Deliveroo  606221b3f85d7508703c730e  5d73f4f179586ed7bad49d52   \n",
       "114  Deliveroo  605f8f5df85d7508703919f5  5e8d9b9a6251456b37ed292e   \n",
       "137  Deliveroo  605e40ddf85d750870377a98  605cb15ead7256001bdc3948   \n",
       "201  Deliveroo  6054f264f85d750bf4f97e45  5d57f496959de5789bc062bd   \n",
       "\n",
       "                                     Title  \\\n",
       "45                           Great service   \n",
       "94      Very very disappointed bad service   \n",
       "114              CRAP nothing else to say!   \n",
       "137  A MILLION TIMES BETTER THAN UBER EATS   \n",
       "201                Better to use Uber eats   \n",
       "\n",
       "                                    Review              Date            Rating  \n",
       "45                           Great service  2021-04-03 10:54  {5: 'Excellent'}  \n",
       "94      Very very disappointed bad service  2021-03-29 18:51        {1: 'Bad'}  \n",
       "114              CRAP nothing else to say!  2021-03-27 20:02        {1: 'Bad'}  \n",
       "137  A MILLION TIMES BETTER THAN UBER EATS  2021-03-26 20:15  {5: 'Excellent'}  \n",
       "201                Better to use Uber eats  2021-03-19 18:50        {1: 'Bad'}  "
      ]
     },
     "execution_count": 13,
     "metadata": {},
     "output_type": "execute_result"
    }
   ],
   "source": [
    "reviews_df.iloc[list(empty_reviews_sample.index)]"
   ]
  },
  {
   "cell_type": "code",
   "execution_count": 14,
   "metadata": {},
   "outputs": [
    {
     "data": {
      "text/html": [
       "<div>\n",
       "<style scoped>\n",
       "    .dataframe tbody tr th:only-of-type {\n",
       "        vertical-align: middle;\n",
       "    }\n",
       "\n",
       "    .dataframe tbody tr th {\n",
       "        vertical-align: top;\n",
       "    }\n",
       "\n",
       "    .dataframe thead th {\n",
       "        text-align: right;\n",
       "    }\n",
       "</style>\n",
       "<table border=\"1\" class=\"dataframe\">\n",
       "  <thead>\n",
       "    <tr style=\"text-align: right;\">\n",
       "      <th></th>\n",
       "      <th>Missing_Values</th>\n",
       "    </tr>\n",
       "  </thead>\n",
       "  <tbody>\n",
       "    <tr>\n",
       "      <th>Company</th>\n",
       "      <td>0</td>\n",
       "    </tr>\n",
       "    <tr>\n",
       "      <th>Id</th>\n",
       "      <td>0</td>\n",
       "    </tr>\n",
       "    <tr>\n",
       "      <th>Reviewer_Id</th>\n",
       "      <td>0</td>\n",
       "    </tr>\n",
       "    <tr>\n",
       "      <th>Title</th>\n",
       "      <td>0</td>\n",
       "    </tr>\n",
       "    <tr>\n",
       "      <th>Review</th>\n",
       "      <td>0</td>\n",
       "    </tr>\n",
       "    <tr>\n",
       "      <th>Date</th>\n",
       "      <td>2912</td>\n",
       "    </tr>\n",
       "    <tr>\n",
       "      <th>Rating</th>\n",
       "      <td>0</td>\n",
       "    </tr>\n",
       "  </tbody>\n",
       "</table>\n",
       "</div>"
      ],
      "text/plain": [
       "             Missing_Values\n",
       "Company                   0\n",
       "Id                        0\n",
       "Reviewer_Id               0\n",
       "Title                     0\n",
       "Review                    0\n",
       "Date                   2912\n",
       "Rating                    0"
      ]
     },
     "execution_count": 14,
     "metadata": {},
     "output_type": "execute_result"
    }
   ],
   "source": [
    "pd.DataFrame(reviews_df.isna().sum(), columns=['Missing_Values'])"
   ]
  },
  {
   "cell_type": "markdown",
   "metadata": {},
   "source": [
    "<a id='data_preprocessing'></a>\n",
    "### Data Preprocessing\n",
    "\n",
    "Now that we have familiarized a bit ourselves with the dataset and it's format, as well as conducted the initial data cleaning, we will move to one of the most important steps in any project - the data preprocessing. This section is especially important for cases where we have to deal with analysis of text, such as in this project. The reason is that text in raw format usually contains a lot of noise. This could later affect the performance of the algorithms - both in terms of computational power and the final output - due to very high dimensions of the dataset. This is happening as, like we are going to see soon, each unique word in each review will become a separate feature in the dataset. Hence, the more reviews we have the more unique words we gonna end up with in the final dataset before the analysis. \n",
    " \n",
    "Therefore, its essential to use  some common text preprocessing techniques to reduce the dimensions. As a summary, we are going to perform the following steps:\n",
    "\n",
    " 1) Perform **tokenization** of the reviews. This is a technique of transforming a sentence, into a list of words. For example, the sentence \"my order was great\" would become '['my', 'order', 'was', 'great'].\n",
    " \n",
    " 2) Remove from the reviews tokens that are **stopwords**. Stopwords are words inside text that do not provide much information and are usually getting removed from the initial sentence. Such words can be words like \"the\", \"a\", and more.\n",
    " \n",
    " 3) Remove tokens that correspond to **punctuation** marks (e.g. \"!\", \"?\") and **numbers**.\n",
    " \n",
    " 4) <a href=\"https://en.wikipedia.org/wiki/Stemming\" style=\"text-decoration:none\">Stemming</a> and <a href=\"https://en.wikipedia.org/wiki/Lemmatisation\" style=\"text-decoration:none\">Lemmatization</a>: These two methods are being used to transform a token into it's stem or lemma respectively. These two techniques help drammatically with the reduction of the dimensions as words end up being \"grouped\" under a specific form. In this project we are going to use lemmatization, as in general is a more advanced method compared to stemming, as lemmatization algorithms try to identify the part of speech of the token, and thus in some way they are preserving the meaning of the word (something that does not necessarily happen with stemming).\n",
    " \n",
    "Below we are going to perform all of these steps to get a \"cleaner\" version of the reviews:"
   ]
  },
  {
   "cell_type": "code",
   "execution_count": 15,
   "metadata": {},
   "outputs": [],
   "source": [
    "from nltk.corpus import stopwords\n",
    "\n",
    "stopwords_ls = stopwords.words('english')\n",
    "stopwords_ls.extend(['\\'d', '\\'m', '\\'s', '\\'ve', '\\'re', '\\'ll', 'n\\'t', '’'])"
   ]
  },
  {
   "cell_type": "markdown",
   "metadata": {},
   "source": [
    "Except the common english stopwords, it's necessary to enhance the list with some additional tokens that we want to exclude from the reviews. These are usually words that we would expect that are getting repeated in the reviews. In our case, as we are examining the case of delivery companies, it would be beneficial to exclude words like 'delivery', 'order', and more. Moreover, we are excluding the tokens that correspond to the names of the delivery companies, as we already have this information in the dataset as a different feature."
   ]
  },
  {
   "cell_type": "code",
   "execution_count": 16,
   "metadata": {},
   "outputs": [],
   "source": [
    "common_delivery_words = ['delivery', 'deliver', 'driver', 'order', 'uber', 'stuart', 'deliveroo', 'food', 'use', 'get',\n",
    "                         'service', 'customer', 'refund','give', 'star', 'even', 'though', 'could']\n",
    "\n",
    "stopwords_ls.extend(common_delivery_words)"
   ]
  },
  {
   "cell_type": "markdown",
   "metadata": {},
   "source": [
    "Moreover, we can see that the _Rating_ columns has values like the following: {1: 'Bad'}, so we are going to use a custom function to split this into two different features for better presentation:"
   ]
  },
  {
   "cell_type": "code",
   "execution_count": 17,
   "metadata": {},
   "outputs": [],
   "source": [
    "def split_ratings(rating_text):\n",
    "    \"\"\"\n",
    "    Mapper function to split string with {Rating: Rating_As_String} format to two\n",
    "    separate entities\"\"\"\n",
    "    rating_text = rating_text.replace('\\'','').replace('{','').replace('}','')\n",
    "    return rating_text[0], rating_text[3:]\n",
    "\n",
    "\n",
    "def convertDateToYearMonthDayFormat(input_date):\n",
    "    try:\n",
    "        return input_date.replace(hour=0, minute=0, second=0, microsecond=0)\n",
    "    except AttributeError:\n",
    "        pass"
   ]
  },
  {
   "cell_type": "code",
   "execution_count": 18,
   "metadata": {},
   "outputs": [],
   "source": [
    "# Cast columns specific data format\n",
    "reviews_df['Date'] = pd.to_datetime(reviews_df['Date'], format=\"%Y-%m-%d %H:%M\", errors='coerce')\n",
    "reviews_df['Date_YMD'] = reviews_df['Date'].apply(lambda row: convertDateToYearMonthDayFormat(row))"
   ]
  },
  {
   "cell_type": "code",
   "execution_count": 19,
   "metadata": {},
   "outputs": [],
   "source": [
    "reviews_df['Rating'] = reviews_df['Rating'].apply(lambda row: split_ratings(row)[0]).astype(int)\n",
    "reviews_df['Rating_Text'] = reviews_df['Rating'].apply(lambda row: ratings_dict[row])"
   ]
  },
  {
   "cell_type": "code",
   "execution_count": 20,
   "metadata": {},
   "outputs": [
    {
     "data": {
      "text/html": [
       "<div>\n",
       "<style scoped>\n",
       "    .dataframe tbody tr th:only-of-type {\n",
       "        vertical-align: middle;\n",
       "    }\n",
       "\n",
       "    .dataframe tbody tr th {\n",
       "        vertical-align: top;\n",
       "    }\n",
       "\n",
       "    .dataframe thead th {\n",
       "        text-align: right;\n",
       "    }\n",
       "</style>\n",
       "<table border=\"1\" class=\"dataframe\">\n",
       "  <thead>\n",
       "    <tr style=\"text-align: right;\">\n",
       "      <th></th>\n",
       "      <th>Company</th>\n",
       "      <th>Id</th>\n",
       "      <th>Reviewer_Id</th>\n",
       "      <th>Title</th>\n",
       "      <th>Review</th>\n",
       "      <th>Date</th>\n",
       "      <th>Rating</th>\n",
       "      <th>Date_YMD</th>\n",
       "      <th>Rating_Text</th>\n",
       "    </tr>\n",
       "  </thead>\n",
       "  <tbody>\n",
       "    <tr>\n",
       "      <th>0</th>\n",
       "      <td>Deliveroo</td>\n",
       "      <td>60709f95f85d75087052ff8b</td>\n",
       "      <td>60709f8f0a30fd001b06dc52</td>\n",
       "      <td>Ordered food and apparently the driver…</td>\n",
       "      <td>Ordered food and apparently the driver was wai...</td>\n",
       "      <td>2021-04-09 18:40:00</td>\n",
       "      <td>2</td>\n",
       "      <td>2021-04-09</td>\n",
       "      <td>Poor</td>\n",
       "    </tr>\n",
       "    <tr>\n",
       "      <th>1</th>\n",
       "      <td>Deliveroo</td>\n",
       "      <td>60708710f85d75087052c89b</td>\n",
       "      <td>6070870c2158190019b3ab8e</td>\n",
       "      <td>Disgusting Live Customer Service CHAT!!!</td>\n",
       "      <td>I received standard bag of buttons that cost £...</td>\n",
       "      <td>2021-04-09 16:55:00</td>\n",
       "      <td>1</td>\n",
       "      <td>2021-04-09</td>\n",
       "      <td>Bad</td>\n",
       "    </tr>\n",
       "  </tbody>\n",
       "</table>\n",
       "</div>"
      ],
      "text/plain": [
       "     Company                        Id               Reviewer_Id  \\\n",
       "0  Deliveroo  60709f95f85d75087052ff8b  60709f8f0a30fd001b06dc52   \n",
       "1  Deliveroo  60708710f85d75087052c89b  6070870c2158190019b3ab8e   \n",
       "\n",
       "                                      Title  \\\n",
       "0   Ordered food and apparently the driver…   \n",
       "1  Disgusting Live Customer Service CHAT!!!   \n",
       "\n",
       "                                              Review                Date  \\\n",
       "0  Ordered food and apparently the driver was wai... 2021-04-09 18:40:00   \n",
       "1  I received standard bag of buttons that cost £... 2021-04-09 16:55:00   \n",
       "\n",
       "   Rating   Date_YMD Rating_Text  \n",
       "0       2 2021-04-09        Poor  \n",
       "1       1 2021-04-09         Bad  "
      ]
     },
     "execution_count": 20,
     "metadata": {},
     "output_type": "execute_result"
    }
   ],
   "source": [
    "reviews_df.head(2)"
   ]
  },
  {
   "cell_type": "markdown",
   "metadata": {},
   "source": [
    "Now we are ready to apply the main data preprocessing tasks that we discussed above. But to do that we have to write the function that are going to be applied in the _Review_ column. Below we can see these functions, which are coming from a custom <a href=\"https://github.com/gpsyrou/Text_Analysis_of_Consumer_Reviews/blob/main/processing/text_processing.py\" style=\"text-decoration: none\">package</a> that we had to develop, which contains functions for the most common text preprocessing tasks for pretty much any NLP project. "
   ]
  },
  {
   "cell_type": "code",
   "execution_count": 21,
   "metadata": {},
   "outputs": [],
   "source": [
    "lemmatizer = WordNetLemmatizer()\n",
    "stemmer = PorterStemmer()"
   ]
  },
  {
   "cell_type": "code",
   "execution_count": 22,
   "metadata": {},
   "outputs": [],
   "source": [
    "punct_ls = list(string.punctuation)\n",
    "punct_ls.extend([2*x for x in list(string.punctuation)])\n",
    "punct_ls.extend([3*x for x in list(string.punctuation)])"
   ]
  },
  {
   "cell_type": "code",
   "execution_count": 23,
   "metadata": {},
   "outputs": [],
   "source": [
    "def remove_stopwords(text: List['str'], stpwds_ls: List['str']) -> List['str']:\n",
    "    return [token for token in text if token not in stpwds_ls]"
   ]
  },
  {
   "cell_type": "code",
   "execution_count": 24,
   "metadata": {},
   "outputs": [],
   "source": [
    "def remove_punctuation(text: List['str'], punct_ls: List['str']) -> List['str']:\n",
    "    return [token for token in text if token not in punct_ls]"
   ]
  },
  {
   "cell_type": "code",
   "execution_count": 25,
   "metadata": {},
   "outputs": [],
   "source": [
    "def remove_numbers(text: List['str']) -> List['str']:\n",
    "    return [token for token in text if not token.isdigit()]"
   ]
  },
  {
   "cell_type": "code",
   "execution_count": 26,
   "metadata": {},
   "outputs": [],
   "source": [
    "def lemmatize(text: List['str'],\n",
    "              pos_type = 'a') -> List['str']:\n",
    "    return [lemmatizer.lemmatize(token, pos=pos_type) for token in text]\n",
    "\n",
    "def stem(text: List['str']) -> List['str']:\n",
    "    return [stemmer.stem(token) for token in text]"
   ]
  },
  {
   "cell_type": "code",
   "execution_count": 27,
   "metadata": {},
   "outputs": [],
   "source": [
    "def tokenize_and_clean(text: str,\n",
    "                       stopwords_ls: List[str],\n",
    "                       stopwords=True,\n",
    "                       punct=True, \n",
    "                       numerics=True) -> List[str]:\n",
    "    \"\"\"\n",
    "    Performs tokenizations and cleaning processes given a document/text.\n",
    "    The function will always tokenize the given text but the cleaning tasks\n",
    "    are optional.\n",
    "    \n",
    "    Parameters\n",
    "    ----------\n",
    "    text: \n",
    "        A document, which can be a word or sentence of arbitrary length.\n",
    "    stopwords: default True\n",
    "        Indicator of removing tokens that are stopwords.\n",
    "    punct: \n",
    "        Indicator of removing tokens that are punctuation marks.\n",
    "    numerics: \n",
    "        Indicator of removing tokens that correspond to numbers.\n",
    "\n",
    "    Returns\n",
    "    --------\n",
    "         A tokenized version of 'text' with the necessary updates depending on\n",
    "         the cleanup steps performed.\n",
    "    \"\"\"\n",
    "    tokenized = word_tokenize(text, language='english')\n",
    "    \n",
    "    tokenized = [token.lower() for token in tokenized]\n",
    "\n",
    "    if punct:\n",
    "        tokenized = remove_punctuation(tokenized, punct_ls=punct_ls)\n",
    "        \n",
    "    if numerics:\n",
    "        tokenized = remove_numbers(tokenized)\n",
    "        \n",
    "    if stopwords:\n",
    "        tokenized = remove_stopwords(tokenized, stpwds_ls=stopwords_ls)\n",
    "\n",
    "    return tokenized"
   ]
  },
  {
   "cell_type": "markdown",
   "metadata": {},
   "source": [
    "Split review in tokens and remove punctuation & stopwords"
   ]
  },
  {
   "cell_type": "code",
   "execution_count": 28,
   "metadata": {},
   "outputs": [],
   "source": [
    "reviews_df['Review_Tokenized'] = reviews_df['Review'].apply(lambda row: tokenize_and_clean(text=row, stopwords_ls=stopwords_ls, numerics=False))"
   ]
  },
  {
   "cell_type": "markdown",
   "metadata": {},
   "source": [
    "Lemmatize the tokens"
   ]
  },
  {
   "cell_type": "code",
   "execution_count": 29,
   "metadata": {},
   "outputs": [],
   "source": [
    "reviews_df['Review_Lemmatized'] = reviews_df['Review_Tokenized'].apply(lambda row: lemmatize(text=row, pos_type='n'))"
   ]
  },
  {
   "cell_type": "code",
   "execution_count": 30,
   "metadata": {},
   "outputs": [],
   "source": [
    "reviews_df['Review_Lemmatized'] = reviews_df['Review_Lemmatized'].apply(lambda row: lemmatize(text=row, pos_type='a'))"
   ]
  },
  {
   "cell_type": "markdown",
   "metadata": {},
   "source": [
    "Some times we need the \"clean\" tokens per document to be a single string. Therefore we are applying the appropriate transformation where we are joining back the clean tokens into a single object."
   ]
  },
  {
   "cell_type": "code",
   "execution_count": 31,
   "metadata": {},
   "outputs": [],
   "source": [
    "reviews_df['Clean_Review_String'] = reviews_df['Review_Lemmatized'].apply(lambda row: ' '.join([x for x in row]))"
   ]
  },
  {
   "cell_type": "code",
   "execution_count": 32,
   "metadata": {},
   "outputs": [
    {
     "data": {
      "text/html": [
       "<div>\n",
       "<style scoped>\n",
       "    .dataframe tbody tr th:only-of-type {\n",
       "        vertical-align: middle;\n",
       "    }\n",
       "\n",
       "    .dataframe tbody tr th {\n",
       "        vertical-align: top;\n",
       "    }\n",
       "\n",
       "    .dataframe thead th {\n",
       "        text-align: right;\n",
       "    }\n",
       "</style>\n",
       "<table border=\"1\" class=\"dataframe\">\n",
       "  <thead>\n",
       "    <tr style=\"text-align: right;\">\n",
       "      <th></th>\n",
       "      <th>Company</th>\n",
       "      <th>Title</th>\n",
       "      <th>Review</th>\n",
       "      <th>Review_Tokenized</th>\n",
       "      <th>Review_Lemmatized</th>\n",
       "      <th>Clean_Review_String</th>\n",
       "    </tr>\n",
       "  </thead>\n",
       "  <tbody>\n",
       "    <tr>\n",
       "      <th>0</th>\n",
       "      <td>Deliveroo</td>\n",
       "      <td>Ordered food and apparently the driver…</td>\n",
       "      <td>Ordered food and apparently the driver was wai...</td>\n",
       "      <td>[ordered, apparently, waiting, 10, mins, stood...</td>\n",
       "      <td>[ordered, apparently, waiting, 10, min, stood,...</td>\n",
       "      <td>ordered apparently waiting 10 min stood outsid...</td>\n",
       "    </tr>\n",
       "    <tr>\n",
       "      <th>1</th>\n",
       "      <td>Deliveroo</td>\n",
       "      <td>Disgusting Live Customer Service CHAT!!!</td>\n",
       "      <td>I received standard bag of buttons that cost £...</td>\n",
       "      <td>[received, standard, bag, buttons, cost, £1.60...</td>\n",
       "      <td>[received, standard, bag, button, cost, £1.60,...</td>\n",
       "      <td>received standard bag button cost £1.60 asked ...</td>\n",
       "    </tr>\n",
       "    <tr>\n",
       "      <th>2</th>\n",
       "      <td>Deliveroo</td>\n",
       "      <td>Just had an appalling experience with…</td>\n",
       "      <td>Just had an appalling experience with delivero...</td>\n",
       "      <td>[appalling, experience, ordered, pizza, £10, d...</td>\n",
       "      <td>[appalling, experience, ordered, pizza, £10, d...</td>\n",
       "      <td>appalling experience ordered pizza £10 discoun...</td>\n",
       "    </tr>\n",
       "    <tr>\n",
       "      <th>3</th>\n",
       "      <td>Deliveroo</td>\n",
       "      <td>The same situation happened twice</td>\n",
       "      <td>The same situation happened twice. I ordered f...</td>\n",
       "      <td>[situation, happened, twice, ordered, around, ...</td>\n",
       "      <td>[situation, happened, twice, ordered, around, ...</td>\n",
       "      <td>situation happened twice ordered around 10 pm ...</td>\n",
       "    </tr>\n",
       "    <tr>\n",
       "      <th>4</th>\n",
       "      <td>Deliveroo</td>\n",
       "      <td>Driver left without giving us food</td>\n",
       "      <td>Driver turned up late couldn’t find us and lef...</td>\n",
       "      <td>[turned, late, find, us, left, awful]</td>\n",
       "      <td>[turned, late, find, u, left, awful]</td>\n",
       "      <td>turned late find u left awful</td>\n",
       "    </tr>\n",
       "  </tbody>\n",
       "</table>\n",
       "</div>"
      ],
      "text/plain": [
       "     Company                                     Title  \\\n",
       "0  Deliveroo   Ordered food and apparently the driver…   \n",
       "1  Deliveroo  Disgusting Live Customer Service CHAT!!!   \n",
       "2  Deliveroo    Just had an appalling experience with…   \n",
       "3  Deliveroo         The same situation happened twice   \n",
       "4  Deliveroo        Driver left without giving us food   \n",
       "\n",
       "                                              Review  \\\n",
       "0  Ordered food and apparently the driver was wai...   \n",
       "1  I received standard bag of buttons that cost £...   \n",
       "2  Just had an appalling experience with delivero...   \n",
       "3  The same situation happened twice. I ordered f...   \n",
       "4  Driver turned up late couldn’t find us and lef...   \n",
       "\n",
       "                                    Review_Tokenized  \\\n",
       "0  [ordered, apparently, waiting, 10, mins, stood...   \n",
       "1  [received, standard, bag, buttons, cost, £1.60...   \n",
       "2  [appalling, experience, ordered, pizza, £10, d...   \n",
       "3  [situation, happened, twice, ordered, around, ...   \n",
       "4              [turned, late, find, us, left, awful]   \n",
       "\n",
       "                                   Review_Lemmatized  \\\n",
       "0  [ordered, apparently, waiting, 10, min, stood,...   \n",
       "1  [received, standard, bag, button, cost, £1.60,...   \n",
       "2  [appalling, experience, ordered, pizza, £10, d...   \n",
       "3  [situation, happened, twice, ordered, around, ...   \n",
       "4               [turned, late, find, u, left, awful]   \n",
       "\n",
       "                                 Clean_Review_String  \n",
       "0  ordered apparently waiting 10 min stood outsid...  \n",
       "1  received standard bag button cost £1.60 asked ...  \n",
       "2  appalling experience ordered pizza £10 discoun...  \n",
       "3  situation happened twice ordered around 10 pm ...  \n",
       "4                      turned late find u left awful  "
      ]
     },
     "execution_count": 32,
     "metadata": {},
     "output_type": "execute_result"
    }
   ],
   "source": [
    "reviews_df[['Company', 'Title', 'Review', 'Review_Tokenized', 'Review_Lemmatized', 'Clean_Review_String']].head(5)"
   ]
  },
  {
   "cell_type": "markdown",
   "metadata": {},
   "source": [
    "We can observe how big is the difference between the initial _Review_ and the final format of the review after the preprocessing tasks, as shown in <em>Review_Merged</em>.\n",
    "\n",
    "<a id=\"eda\"></a>\n",
    "### Exploratory Data Analysis\n",
    "\n",
    "Now that the data are in a better shape, we can start with the main part of this project which is the actual analysis of the reviews. As a first step we are going to perform some exploratory data analysis, mostly by analyzing the data visually. \n",
    "\n",
    "This is an important step for every data analysis project as it will allow us to further familiarize ourselves with the data, as well as make sure that we don't identify any cases that would require further data cleaning and that we might have missed in the initial text preprocessing steps performed in the previous section.\n",
    "<a id=\"single_words\"></a>"
   ]
  },
  {
   "cell_type": "code",
   "execution_count": 33,
   "metadata": {},
   "outputs": [],
   "source": [
    "def most_common_words(input_df: pd.DataFrame,\n",
    "                      text_col: str,\n",
    "                      n_most_common=20):\n",
    "    \"\"\" Given a collection of documents as text, compute the number of most common\n",
    "    words as defined by n_most_common.\n",
    "    Args:\n",
    "    ------\n",
    "        input_df: Dataframe that contains the relevant text column\n",
    "        text_col: Name of the column\n",
    "        n_most_common: Number of most common words to calculate\n",
    "    Returns:\n",
    "    --------\n",
    "        Pandas dataframe with two columns indicating a word and number\n",
    "        of times (count) that it appears in the original input_df\n",
    "    \"\"\"\n",
    "    word_list = list([x.split() for x in input_df[text_col] if x is not None])\n",
    "    word_counter = Counter(x for xs in word_list for x in set(xs))\n",
    "    word_counter.most_common(n_most_common)\n",
    "\n",
    "    return pd.DataFrame(word_counter.most_common(n_most_common), columns=['word', 'count'])"
   ]
  },
  {
   "cell_type": "code",
   "execution_count": 34,
   "metadata": {},
   "outputs": [],
   "source": [
    "def plot_most_common_words(input_df: pd.DataFrame,\n",
    "                           text_col: str,\n",
    "                           n_most_common=20,\n",
    "                           return_counts=False,\n",
    "                           figsize=(10, 10)) -> None:\n",
    "    \n",
    "    if return_counts:\n",
    "        df = most_common_words(input_df=input_df, text_col=text_col, n_most_common=n_most_common)\n",
    "        display(HTML(df.to_html()))\n",
    "\n",
    "    fig, ax = plt.subplots(figsize=figsize)\n",
    "    common_words_df = most_common_words(input_df=input_df,\n",
    "                                        text_col=text_col,\n",
    "                                        n_most_common=n_most_common)\n",
    "    sns.barplot(x='count', y='word', data=common_words_df).set_title(f'Common Words Found - Overall',\n",
    "                                                                     fontweight='bold')\n",
    "    plt.grid(True, alpha=0.3, linestyle='-', color='black')\n",
    "    plt.show()"
   ]
  },
  {
   "cell_type": "code",
   "execution_count": 35,
   "metadata": {},
   "outputs": [
    {
     "data": {
      "text/plain": [
       "Text(0.5,1,'Number of reviews per Rating')"
      ]
     },
     "execution_count": 35,
     "metadata": {},
     "output_type": "execute_result"
    },
    {
     "data": {
      "image/png": "[encoded data removed]",
      "text/plain": [
       "<Figure size 576x432 with 1 Axes>"
      ]
     },
     "metadata": {},
     "output_type": "display_data"
    }
   ],
   "source": [
    "plt.figure(figsize=(8, 6))\n",
    "sns.countplot(x=reviews_df['Rating'], palette='muted').set_title('Number of reviews per Rating')"
   ]
  },
  {
   "cell_type": "markdown",
   "metadata": {},
   "source": [
    "As we can see the vast majority of the retrieved reviews have negative rating, and only a small amount have rating good/excellent (i.e. 4 or 5 respectively)."
   ]
  },
  {
   "cell_type": "code",
   "execution_count": 36,
   "metadata": {},
   "outputs": [
    {
     "data": {
      "text/html": [
       "<table border=\"1\" class=\"dataframe\">\n",
       "  <thead>\n",
       "    <tr style=\"text-align: right;\">\n",
       "      <th></th>\n",
       "      <th>word</th>\n",
       "      <th>count</th>\n",
       "    </tr>\n",
       "  </thead>\n",
       "  <tbody>\n",
       "    <tr>\n",
       "      <th>0</th>\n",
       "      <td>time</td>\n",
       "      <td>6137</td>\n",
       "    </tr>\n",
       "    <tr>\n",
       "      <th>1</th>\n",
       "      <td>never</td>\n",
       "      <td>5469</td>\n",
       "    </tr>\n",
       "    <tr>\n",
       "      <th>2</th>\n",
       "      <td>ordered</td>\n",
       "      <td>4871</td>\n",
       "    </tr>\n",
       "    <tr>\n",
       "      <th>3</th>\n",
       "      <td>restaurant</td>\n",
       "      <td>4095</td>\n",
       "    </tr>\n",
       "    <tr>\n",
       "      <th>4</th>\n",
       "      <td>would</td>\n",
       "      <td>4041</td>\n",
       "    </tr>\n",
       "    <tr>\n",
       "      <th>5</th>\n",
       "      <td>hour</td>\n",
       "      <td>4039</td>\n",
       "    </tr>\n",
       "    <tr>\n",
       "      <th>6</th>\n",
       "      <td>delivered</td>\n",
       "      <td>3533</td>\n",
       "    </tr>\n",
       "    <tr>\n",
       "      <th>7</th>\n",
       "      <td>money</td>\n",
       "      <td>3524</td>\n",
       "    </tr>\n",
       "    <tr>\n",
       "      <th>8</th>\n",
       "      <td>eats</td>\n",
       "      <td>3428</td>\n",
       "    </tr>\n",
       "    <tr>\n",
       "      <th>9</th>\n",
       "      <td>said</td>\n",
       "      <td>3277</td>\n",
       "    </tr>\n",
       "  </tbody>\n",
       "</table>"
      ],
      "text/plain": [
       "<IPython.core.display.HTML object>"
      ]
     },
     "metadata": {},
     "output_type": "display_data"
    },
    {
     "data": {
      "image/png": "[encoded data removed]",
      "text/plain": [
       "<Figure size 720x720 with 1 Axes>"
      ]
     },
     "metadata": {},
     "output_type": "display_data"
    }
   ],
   "source": [
    "plot_most_common_words(reviews_df, n_most_common=10, text_col='Clean_Review_String', return_counts=True)"
   ]
  },
  {
   "cell_type": "code",
   "execution_count": 37,
   "metadata": {},
   "outputs": [],
   "source": [
    "def plot_wordcloud(input_df: pd.DataFrame,\n",
    "                   text_col: str,\n",
    "                   figsize=(10, 10)) -> None:\n",
    "    \"\"\" Generate a WordCloud plot based on the number of occurenences of words\n",
    "    in a set documents\n",
    "    \"\"\"\n",
    "    plt.figure(figsize=figsize)\n",
    "    combined_text = ' '.join([x for x in input_df[text_col] if x is not None])\n",
    "    wordcloud = WordCloud().generate(combined_text)\n",
    "    plt.imshow(wordcloud, interpolation='bilinear')\n",
    "    plt.axis(\"off\")\n",
    "    plt.show()"
   ]
  },
  {
   "cell_type": "markdown",
   "metadata": {},
   "source": [
    "By examining each word separately we are making the assumption that the words (and so their order) do not play any role into the general meaning of the text. Thus, we can go a step further and identify pairs of words (**bigrams**) that tend to appear next to each other.\n",
    "<a id=\"bigrams_eda\"></a>"
   ]
  },
  {
   "cell_type": "code",
   "execution_count": 38,
   "metadata": {},
   "outputs": [],
   "source": [
    "def compute_bigrams(input_df: pd.DataFrame,\n",
    "                    text_col: str) -> dict:\n",
    "    \"\"\" Calculate the number of occurences where a pair of words appear next to\n",
    "    each other, and return a dictionary of {pair of words: count}.\n",
    "    \"\"\"\n",
    "    combined_text = ' '.join([x for x in input_df[text_col]])\n",
    "\n",
    "    finder = BigramCollocationFinder.from_words(word_tokenize(combined_text))\n",
    "\n",
    "    bigrams_dict = {}\n",
    "    for k, v in finder.ngram_fd.items():\n",
    "        if len(k[0]) > 1 and len(k[1]) > 1:\n",
    "            bigrams_dict[k] = v\n",
    "        else:\n",
    "            continue\n",
    "    return bigrams_dict"
   ]
  },
  {
   "cell_type": "code",
   "execution_count": 39,
   "metadata": {},
   "outputs": [],
   "source": [
    "def plot_bigrams(input_df: pd.DataFrame,\n",
    "                 text_col: str,\n",
    "                 top_n: int,\n",
    "                 rotation=0.8,\n",
    "                 figsize=(10, 8)) -> None:\n",
    "\n",
    "    bigrams_dict = compute_bigrams(input_df=input_df, text_col=text_col)\n",
    "    bigrams_sorted = sorted(bigrams_dict.items(), key=lambda x: x[1], reverse=True)[0:top_n]\n",
    "    bgram, counts = list(zip(*bigrams_sorted))\n",
    "    bgstring = list(map(lambda txt: '_'.join(txt), bgram))\n",
    "\n",
    "    plt.figure(figsize=figsize)\n",
    "    g = sns.barplot(bgstring, counts, palette='muted')\n",
    "    g.set_xticklabels(g.get_xticklabels(), rotation=rotation)\n",
    "    plt.title(f'Top-{top_n} pairs of words that appear next to each other',\n",
    "              fontweight='bold')\n",
    "    plt.ylabel('Count')\n",
    "    plt.grid(True, alpha=0.1, color='black')\n",
    "    plt.show()"
   ]
  },
  {
   "cell_type": "code",
   "execution_count": 40,
   "metadata": {},
   "outputs": [],
   "source": [
    "bigrams = compute_bigrams(reviews_df, text_col='Clean_Review_String')"
   ]
  },
  {
   "cell_type": "code",
   "execution_count": 41,
   "metadata": {},
   "outputs": [
    {
     "data": {
      "text/html": [
       "<div>\n",
       "<style scoped>\n",
       "    .dataframe tbody tr th:only-of-type {\n",
       "        vertical-align: middle;\n",
       "    }\n",
       "\n",
       "    .dataframe tbody tr th {\n",
       "        vertical-align: top;\n",
       "    }\n",
       "\n",
       "    .dataframe thead th {\n",
       "        text-align: right;\n",
       "    }\n",
       "</style>\n",
       "<table border=\"1\" class=\"dataframe\">\n",
       "  <thead>\n",
       "    <tr style=\"text-align: right;\">\n",
       "      <th></th>\n",
       "      <th>Bigram</th>\n",
       "      <th>Count</th>\n",
       "    </tr>\n",
       "  </thead>\n",
       "  <tbody>\n",
       "    <tr>\n",
       "      <th>0</th>\n",
       "      <td>(missing, item)</td>\n",
       "      <td>842</td>\n",
       "    </tr>\n",
       "    <tr>\n",
       "      <th>1</th>\n",
       "      <td>(money, back)</td>\n",
       "      <td>814</td>\n",
       "    </tr>\n",
       "    <tr>\n",
       "      <th>2</th>\n",
       "      <td>(first, time)</td>\n",
       "      <td>786</td>\n",
       "    </tr>\n",
       "    <tr>\n",
       "      <th>3</th>\n",
       "      <td>(hour, late)</td>\n",
       "      <td>738</td>\n",
       "    </tr>\n",
       "    <tr>\n",
       "      <th>4</th>\n",
       "      <td>(never, arrived)</td>\n",
       "      <td>624</td>\n",
       "    </tr>\n",
       "    <tr>\n",
       "      <th>5</th>\n",
       "      <td>(live, chat)</td>\n",
       "      <td>523</td>\n",
       "    </tr>\n",
       "    <tr>\n",
       "      <th>6</th>\n",
       "      <td>(stone, cold)</td>\n",
       "      <td>495</td>\n",
       "    </tr>\n",
       "    <tr>\n",
       "      <th>7</th>\n",
       "      <td>(said, would)</td>\n",
       "      <td>471</td>\n",
       "    </tr>\n",
       "    <tr>\n",
       "      <th>8</th>\n",
       "      <td>(48, hour)</td>\n",
       "      <td>464</td>\n",
       "    </tr>\n",
       "    <tr>\n",
       "      <th>9</th>\n",
       "      <td>(item, missing)</td>\n",
       "      <td>447</td>\n",
       "    </tr>\n",
       "    <tr>\n",
       "      <th>10</th>\n",
       "      <td>(wrong, address)</td>\n",
       "      <td>429</td>\n",
       "    </tr>\n",
       "    <tr>\n",
       "      <th>11</th>\n",
       "      <td>(bad, ever)</td>\n",
       "      <td>416</td>\n",
       "    </tr>\n",
       "    <tr>\n",
       "      <th>12</th>\n",
       "      <td>(waste, time)</td>\n",
       "      <td>404</td>\n",
       "    </tr>\n",
       "    <tr>\n",
       "      <th>13</th>\n",
       "      <td>(bad, experience)</td>\n",
       "      <td>399</td>\n",
       "    </tr>\n",
       "    <tr>\n",
       "      <th>14</th>\n",
       "      <td>(last, time)</td>\n",
       "      <td>389</td>\n",
       "    </tr>\n",
       "  </tbody>\n",
       "</table>\n",
       "</div>"
      ],
      "text/plain": [
       "               Bigram  Count\n",
       "0     (missing, item)    842\n",
       "1       (money, back)    814\n",
       "2       (first, time)    786\n",
       "3        (hour, late)    738\n",
       "4    (never, arrived)    624\n",
       "5        (live, chat)    523\n",
       "6       (stone, cold)    495\n",
       "7       (said, would)    471\n",
       "8          (48, hour)    464\n",
       "9     (item, missing)    447\n",
       "10   (wrong, address)    429\n",
       "11        (bad, ever)    416\n",
       "12      (waste, time)    404\n",
       "13  (bad, experience)    399\n",
       "14       (last, time)    389"
      ]
     },
     "execution_count": 41,
     "metadata": {},
     "output_type": "execute_result"
    }
   ],
   "source": [
    "pd.DataFrame(sorted(bigrams.items(), key=lambda item: item[1], reverse=True), columns=['Bigram', 'Count']).head(15)"
   ]
  },
  {
   "cell_type": "markdown",
   "metadata": {},
   "source": [
    "Except the overall case as presented above, we can visualize the most common bigrams in two separate situations: Positive Reviews (5/5 rating) vs Negative Reviews."
   ]
  },
  {
   "cell_type": "code",
   "execution_count": 42,
   "metadata": {},
   "outputs": [
    {
     "data": {
      "image/png": "[encoded data removed]",
      "text/plain": [
       "<Figure size 1440x432 with 1 Axes>"
      ]
     },
     "metadata": {},
     "output_type": "display_data"
    }
   ],
   "source": [
    "plot_bigrams(input_df=reviews_df[reviews_df['Rating'] == 5], text_col='Clean_Review_String', top_n=20, rotation=45, figsize=(20, 6))"
   ]
  },
  {
   "cell_type": "code",
   "execution_count": 43,
   "metadata": {},
   "outputs": [
    {
     "data": {
      "image/png": "[encoded data removed]",
      "text/plain": [
       "<Figure size 1440x432 with 1 Axes>"
      ]
     },
     "metadata": {},
     "output_type": "display_data"
    }
   ],
   "source": [
    "plot_bigrams(input_df=reviews_df[reviews_df['Rating'] <= 4], text_col='Clean_Review_String', top_n=20, rotation=45, figsize=(20, 6))"
   ]
  },
  {
   "cell_type": "markdown",
   "metadata": {},
   "source": [
    "From the bigrams plots above we can infer that there are 4 main topics in the data for the negative reviews:\n",
    "\n",
    "1. Case where order arrived but an item was missing (e.g.\"missing item\")\n",
    "2. Case where items received very late (\"hour late\", \"stone cold\", \"waste time\")\n",
    "3. Case when the order never arrived (\"wrong-adress\", \"never arrived\")\n",
    "4. Case when there was an issue related to promotional code or pricing (\"promo_code\")\n",
    "    \n",
    "We have initially observed that the bigram \"customer service\" appears in the majority of the reviews. This is something expected, as in general reviews in TrustPilot for delivery companies tend to contain reviews about problems that the customers might have faced. \n",
    "\n",
    "Hence, it's regular when a customer facing an issue with their order, to contact the customer service of the company, independently of the nature of the issue (i.e. any of the 4 points we mentioned above). Queries about the customer service might not add a lot of information in the data as they seem to be part around in 1/3 of the total reviews. One option would be to remove these words from our analysis - by adding them in the stopwords list. Therefore, \"customer service\", as well as other combinations of words that don't offer a lot in our analysis, has been excluded from our data at this point of the project.\n",
    "\n",
    "In the next section we will finally get into the modelling part of the project. Based on our findings above and by leveraging a well known method for topic modelling (i.e. LDA), we will attempt build a model that is able to identify the different topics that exist inside the reviews.\n",
    "\n",
    "As a last step, we will split the main dataframe into two separate ones - one of positive reviews (ratings 4 & 5) and one for negative reviews (ratings 1, 2 and 3)."
   ]
  },
  {
   "cell_type": "code",
   "execution_count": 44,
   "metadata": {},
   "outputs": [
    {
     "data": {
      "text/plain": [
       "(18178, 13)"
      ]
     },
     "execution_count": 44,
     "metadata": {},
     "output_type": "execute_result"
    }
   ],
   "source": [
    "negative_reviews_df = reviews_df[reviews_df['Rating'] <= 4]\n",
    "negative_reviews_df.reset_index(inplace=True)\n",
    "negative_reviews_df.shape"
   ]
  },
  {
   "cell_type": "code",
   "execution_count": 45,
   "metadata": {},
   "outputs": [
    {
     "data": {
      "text/plain": [
       "(742, 13)"
      ]
     },
     "execution_count": 45,
     "metadata": {},
     "output_type": "execute_result"
    }
   ],
   "source": [
    "positive_reviews_df = reviews_df[reviews_df['Rating'] == 5]\n",
    "positive_reviews_df.reset_index(inplace=True)\n",
    "positive_reviews_df.shape"
   ]
  },
  {
   "cell_type": "markdown",
   "metadata": {},
   "source": [
    "<a id=\"lda\"></a>\n",
    "## Latent Dirichlet Allocation (LDA) Model\n",
    "\n",
    "LDA is one of the most - if not the most - common methods/algorithms used for _topic modeling_. We can think of topic modeling as an unsupervised technique where we use when we want to \"classify\" a collection of documents under a predefined amount of topics, _but_ without knowing what these topics are about. Algorithms that fall under this category are usually utilizing the frequencies that words appear in the documents to extract insights and identify clusters of documents that contain similar words. \n",
    "\n",
    "The LDA model attempts to identify these clusters of documents and create the topics by making a few assumptions, such as:  \n",
    "\n",
    "   1) Each document is a collection of multiple topics (i.e. one document can belong to many topics at the same time)<br>\n",
    "   2) Each topic is represented by a collection/distribution of words<br>\n",
    "   3) Each document is a distribution of words\n",
    "    \n",
    "Note that in LDA we do not care about the order of the words - hence we can think of LDA as a bag of words model. Intuitively this makes sense, as even if we change the order of words in a document we should still be able to infer what the document might be talking about just by observing the words that are present.\n",
    "\n",
    "Again, note that from this point when we are refering to <em>words</em>, we will actually mean pairs of words (<em>bigrams</em>) - which are going to be the input of the LDA algorithm."
   ]
  },
  {
   "cell_type": "code",
   "execution_count": 46,
   "metadata": {},
   "outputs": [],
   "source": [
    "from sklearn.feature_extraction.text import CountVectorizer\n",
    "from sklearn.decomposition import LatentDirichletAllocation\n",
    "from scipy.sparse.csr import csr_matrix"
   ]
  },
  {
   "cell_type": "code",
   "execution_count": 47,
   "metadata": {},
   "outputs": [],
   "source": [
    "class LDAModeller:\n",
    "    \"\"\" Common class used to perform an end-to-end Latent Dirichlet Allocation\n",
    "    analysis. The base object of the class is a Pandas Dataframe.\n",
    "    \"\"\"\n",
    "\n",
    "    def __init__(self, input_df: pd.DataFrame, reviews_col: str):\n",
    "        self.input_df = input_df\n",
    "        self.reviews_col = reviews_col\n",
    "        \n",
    "    def setCountVectorizer(self, max_df: float, min_df: float, max_features: int, ngram_range: tuple):\n",
    "        self.vectorizer = CountVectorizer(max_df=max_df, min_df=min_df,\n",
    "                                          max_features=max_features, ngram_range=ngram_range)\n",
    "\n",
    "    def computeCountVectMatrix(self):\n",
    "        try:\n",
    "            self.cv_matrix = self.vectorizer.fit_transform(self.input_df[self.reviews_col])\n",
    "            self.cv_matrix_shape = self.cv_matrix.shape\n",
    "            self.cv_feature_names = self.vectorizer.get_feature_names()           \n",
    "        except AttributeError:\n",
    "            raise Exception('CountVectorizer was not set up')\n",
    "\n",
    "    def identifyNGramsFromCountVectMatrix(self) -> List[List['str']]:\n",
    "        \"\"\" Given a sparse matrix, get the column names where respective \n",
    "        columns of that document have non-zero values - indicating that the\n",
    "        relative column is a word present in the document. \n",
    "        \"\"\"\n",
    "        vector_matrix_df = pd.DataFrame(self.cv_matrix.toarray(),\n",
    "                                        columns=self.cv_feature_names)\n",
    "        \n",
    "        combined_ngrams_ls = []\n",
    "        for i in vector_matrix_df.index:\n",
    "            ngrams_ls = []\n",
    "            for j in list(np.where(vector_matrix_df.iloc[i] != 0)[0]):\n",
    "                ngrams_ls.append(vector_matrix_df.columns[j])\n",
    "            combined_ngrams_ls.append(ngrams_ls)\n",
    "        return combined_ngrams_ls\n",
    "\n",
    "    def countVectorizerToDict(self) -> dict:\n",
    "        counts = np.asarray(self.cv_matrix .sum(axis=0))[0]\n",
    "        return dict(zip(self.cv_feature_names, counts))\n",
    "\n",
    "\n",
    "    def assignNGramsAsColumn(self, ngram_colname: 'str') -> None:\n",
    "        self.input_df[ngram_colname] = self.identifyNGramsFromCountVectMatrix()\n",
    "    \n",
    "    def retrieveTopNgrams(self, top_n: int, n_gram_type='Bigram') -> None:\n",
    "        self.n_gram_counts = self.countVectorizerToDict()\n",
    "        if top_n is not None:\n",
    "            return pd.DataFrame(sorted(self.n_gram_counts.items(),\n",
    "                                       key=lambda item: item[1],\n",
    "                                       reverse=True),\n",
    "            columns=[n_gram_type, 'Count']).head(top_n)        \n",
    "\n",
    "    def setAndFitLDAModel(self, lda_model: LatentDirichletAllocation, topic_num: int, fit_model=True):\n",
    "        self.lda_model = lda_model\n",
    "        self.number_of_topics = topic_num\n",
    "        if fit_model:\n",
    "            self.fitted_lda_model = self.lda_model.fit(self.cv_matrix)\n",
    "            \n",
    "    def getPerTopicWordWeights(self, sort=True):\n",
    "        self.word_weights_per_topic = []\n",
    "        for i, topic in enumerate(self.fitted_lda_model.components_):\n",
    "            weights = list(zip(self.cv_feature_names, topic))\n",
    "            if sort:\n",
    "                weights = sorted(weights, key=lambda x: x[1], reverse=True)\n",
    "            self.word_weights_per_topic.append([i, weights])\n",
    "    \n",
    "    def showTopWordsPerTopic(self, num_top_words: int):\n",
    "        for i in range(0, len(self.fitted_lda_model.components_)):\n",
    "            self.getPerTopicWordWeights()\n",
    "            weights = self.word_weights_per_topic[i][1]\n",
    "            print('Topic {0} : {1} \\n'.format(i+1, weights[0:num_top_words]))\n"
   ]
  },
  {
   "cell_type": "code",
   "execution_count": 48,
   "metadata": {},
   "outputs": [],
   "source": [
    "def assign_topic(topic_probs: List[float], threshold=0.65) -> int:\n",
    "    \"\"\" Assign a topic to a review based on the topic with the highest probability.\n",
    "    If no topic probability exceeds threshold, no assignment is being completed.\n",
    "    \"\"\"\n",
    "    max_likelihood = np.max(topic_probs)\n",
    "    if threshold < max_likelihood:\n",
    "        max_topic_idx = np.argmax(topic_probs)\n",
    "        if max_topic_idx==0:\n",
    "            max_topic_idx = 1\n",
    "        else:\n",
    "            max_topic_idx += 1\n",
    "        return max_topic_idx\n",
    "    else:\n",
    "        return 0"
   ]
  },
  {
   "cell_type": "markdown",
   "metadata": {},
   "source": [
    "**Negative Reviews:**\n",
    "\n",
    "We will start the analysis by identifying the topics for the negative reviews (i.e. reviews that did not get 5/5 rating). As a reminder, we are making the assumption that the negative reviews can be separated in 4 different topics. That is because it's necessary to decide the number of topics _prior_ to constructing the LDA model, as it's a necessary input for the algorithm."
   ]
  },
  {
   "cell_type": "code",
   "execution_count": 796,
   "metadata": {},
   "outputs": [],
   "source": [
    "number_of_topics_neg = 4\n",
    "\n",
    "lda_neg= LatentDirichletAllocation(n_components=number_of_topics_neg,\n",
    "                                      learning_method='batch',\n",
    "                                      learning_offset=20,\n",
    "                                      doc_topic_prior= 2 * (1/number_of_topics_neg),\n",
    "                                      max_iter=30,\n",
    "                                      random_state=10,\n",
    "                                      n_jobs=-1,\n",
    "                                      verbose=0)"
   ]
  },
  {
   "cell_type": "code",
   "execution_count": 797,
   "metadata": {},
   "outputs": [],
   "source": [
    "neg_lda = LDAModeller(input_df=negative_reviews_df, reviews_col='Clean_Review_String')"
   ]
  },
  {
   "cell_type": "markdown",
   "metadata": {},
   "source": [
    "<a id=\"bigrams_lda\"></a>\n",
    "Compute the bigrams which will be the new tokens, and create the sparse matrix which will contain the bigram counts:"
   ]
  },
  {
   "cell_type": "code",
   "execution_count": 798,
   "metadata": {},
   "outputs": [],
   "source": [
    "neg_lda.setCountVectorizer(max_df=1.0, min_df=5, max_features=12000, ngram_range=(2,2))"
   ]
  },
  {
   "cell_type": "code",
   "execution_count": 799,
   "metadata": {},
   "outputs": [],
   "source": [
    "neg_lda.computeCountVectMatrix()"
   ]
  },
  {
   "cell_type": "markdown",
   "metadata": {},
   "source": [
    "The above object will help us with creating a sparse matrix where each row is a document and each column is a word.<br>\n",
    "The value under $x_i, y_i$ represents a count of how many times that specific word ($y_i$) appears in that document ($x_i$)."
   ]
  },
  {
   "cell_type": "code",
   "execution_count": 800,
   "metadata": {},
   "outputs": [],
   "source": [
    "neg_lda.assignNGramsAsColumn(ngram_colname='ngrams')"
   ]
  },
  {
   "cell_type": "code",
   "execution_count": 801,
   "metadata": {},
   "outputs": [
    {
     "data": {
      "text/plain": [
       "'ordered apparently waiting 10 min stood outside useless dont bother stick eat'"
      ]
     },
     "execution_count": 801,
     "metadata": {},
     "output_type": "execute_result"
    }
   ],
   "source": [
    "neg_lda.input_df.iloc[0]['Clean_Review_String']"
   ]
  },
  {
   "cell_type": "code",
   "execution_count": 802,
   "metadata": {},
   "outputs": [
    {
     "data": {
      "text/plain": [
       "['10 min',\n",
       " 'apparently waiting',\n",
       " 'dont bother',\n",
       " 'stick eat',\n",
       " 'stood outside',\n",
       " 'waiting 10']"
      ]
     },
     "execution_count": 802,
     "metadata": {},
     "output_type": "execute_result"
    }
   ],
   "source": [
    "neg_lda.input_df.iloc[0]['ngrams']"
   ]
  },
  {
   "cell_type": "code",
   "execution_count": 803,
   "metadata": {},
   "outputs": [
    {
     "data": {
      "text/plain": [
       "(18178, 12000)"
      ]
     },
     "execution_count": 803,
     "metadata": {},
     "output_type": "execute_result"
    }
   ],
   "source": [
    "neg_lda.cv_matrix_shape"
   ]
  },
  {
   "cell_type": "markdown",
   "metadata": {},
   "source": [
    "Thus, we can see that we have created a matrix which consist of 18178 distinct documents (reviews) and a total of 12000 words. As a reminder, in our project we are working with bigrams, and thus we have create a matrix where each column is a bigram combination.\n",
    "\n",
    "We can better visualize the output as follows:"
   ]
  },
  {
   "cell_type": "code",
   "execution_count": 804,
   "metadata": {},
   "outputs": [
    {
     "data": {
      "text/html": [
       "<div>\n",
       "<style scoped>\n",
       "    .dataframe tbody tr th:only-of-type {\n",
       "        vertical-align: middle;\n",
       "    }\n",
       "\n",
       "    .dataframe tbody tr th {\n",
       "        vertical-align: top;\n",
       "    }\n",
       "\n",
       "    .dataframe thead th {\n",
       "        text-align: right;\n",
       "    }\n",
       "</style>\n",
       "<table border=\"1\" class=\"dataframe\">\n",
       "  <thead>\n",
       "    <tr style=\"text-align: right;\">\n",
       "      <th></th>\n",
       "      <th>Bigram</th>\n",
       "      <th>Count</th>\n",
       "    </tr>\n",
       "  </thead>\n",
       "  <tbody>\n",
       "    <tr>\n",
       "      <th>0</th>\n",
       "      <td>missing item</td>\n",
       "      <td>853</td>\n",
       "    </tr>\n",
       "    <tr>\n",
       "      <th>1</th>\n",
       "      <td>money back</td>\n",
       "      <td>848</td>\n",
       "    </tr>\n",
       "    <tr>\n",
       "      <th>2</th>\n",
       "      <td>first time</td>\n",
       "      <td>780</td>\n",
       "    </tr>\n",
       "    <tr>\n",
       "      <th>3</th>\n",
       "      <td>hour late</td>\n",
       "      <td>741</td>\n",
       "    </tr>\n",
       "    <tr>\n",
       "      <th>4</th>\n",
       "      <td>never arrived</td>\n",
       "      <td>641</td>\n",
       "    </tr>\n",
       "    <tr>\n",
       "      <th>5</th>\n",
       "      <td>live chat</td>\n",
       "      <td>528</td>\n",
       "    </tr>\n",
       "    <tr>\n",
       "      <th>6</th>\n",
       "      <td>stone cold</td>\n",
       "      <td>514</td>\n",
       "    </tr>\n",
       "    <tr>\n",
       "      <th>7</th>\n",
       "      <td>48 hour</td>\n",
       "      <td>485</td>\n",
       "    </tr>\n",
       "    <tr>\n",
       "      <th>8</th>\n",
       "      <td>said would</td>\n",
       "      <td>471</td>\n",
       "    </tr>\n",
       "    <tr>\n",
       "      <th>9</th>\n",
       "      <td>item missing</td>\n",
       "      <td>449</td>\n",
       "    </tr>\n",
       "    <tr>\n",
       "      <th>10</th>\n",
       "      <td>wrong address</td>\n",
       "      <td>434</td>\n",
       "    </tr>\n",
       "    <tr>\n",
       "      <th>11</th>\n",
       "      <td>bad ever</td>\n",
       "      <td>423</td>\n",
       "    </tr>\n",
       "    <tr>\n",
       "      <th>12</th>\n",
       "      <td>last time</td>\n",
       "      <td>418</td>\n",
       "    </tr>\n",
       "    <tr>\n",
       "      <th>13</th>\n",
       "      <td>waste time</td>\n",
       "      <td>415</td>\n",
       "    </tr>\n",
       "    <tr>\n",
       "      <th>14</th>\n",
       "      <td>bad experience</td>\n",
       "      <td>388</td>\n",
       "    </tr>\n",
       "  </tbody>\n",
       "</table>\n",
       "</div>"
      ],
      "text/plain": [
       "            Bigram  Count\n",
       "0     missing item    853\n",
       "1       money back    848\n",
       "2       first time    780\n",
       "3        hour late    741\n",
       "4    never arrived    641\n",
       "5        live chat    528\n",
       "6       stone cold    514\n",
       "7          48 hour    485\n",
       "8       said would    471\n",
       "9     item missing    449\n",
       "10   wrong address    434\n",
       "11        bad ever    423\n",
       "12       last time    418\n",
       "13      waste time    415\n",
       "14  bad experience    388"
      ]
     },
     "execution_count": 804,
     "metadata": {},
     "output_type": "execute_result"
    }
   ],
   "source": [
    "neg_lda.retrieveTopNgrams(top_n=15)"
   ]
  },
  {
   "cell_type": "markdown",
   "metadata": {},
   "source": [
    "Latent Dirichlet Allocation model requires the number of topics as an input from the user. As we saw above, seems like the reviews are splitted into 4 categories.\n",
    "Therefore, we are going to set this parameter to 4 and attempt to identify these topics in the reviews.\n",
    "<a id=\"lda_model\"></a>"
   ]
  },
  {
   "cell_type": "code",
   "execution_count": 805,
   "metadata": {},
   "outputs": [],
   "source": [
    "neg_lda.setAndFitLDAModel(lda_model=lda_neg, topic_num=number_of_topics_neg, fit_model=True)"
   ]
  },
  {
   "cell_type": "markdown",
   "metadata": {},
   "source": [
    "We can see the weight (parameter) of each word for a specific topic, as follows:"
   ]
  },
  {
   "cell_type": "code",
   "execution_count": 806,
   "metadata": {},
   "outputs": [
    {
     "data": {
      "text/plain": [
       "array([ 0.28246193,  0.25453515,  0.25785953, ...,  7.22949637,\n",
       "       17.05209522,  0.30454368])"
      ]
     },
     "execution_count": 806,
     "metadata": {},
     "output_type": "execute_result"
    }
   ],
   "source": [
    "neg_lda.lda_model.components_[0]"
   ]
  },
  {
   "cell_type": "markdown",
   "metadata": {},
   "source": [
    "The above can be interpreted as a pseudocount of the number of times that word (bigram) $x_i$ was assigned to document topic $z_i$. Hence, the first case in the example we have a pseudocount of 0.28246193 for word $x_1$ on topic 0 (which is the first topic)."
   ]
  },
  {
   "cell_type": "code",
   "execution_count": 807,
   "metadata": {},
   "outputs": [],
   "source": [
    "neg_lda.getPerTopicWordWeights(sort=True)"
   ]
  },
  {
   "cell_type": "code",
   "execution_count": 808,
   "metadata": {},
   "outputs": [
    {
     "data": {
      "text/plain": [
       "[('missing item', 853.2282687314279),\n",
       " ('item missing', 449.2249394246536),\n",
       " ('promo code', 387.2376464951733),\n",
       " ('bad ever', 303.4699421989634),\n",
       " ('bad company', 284.220188758004)]"
      ]
     },
     "execution_count": 808,
     "metadata": {},
     "output_type": "execute_result"
    }
   ],
   "source": [
    "neg_lda.word_weights_per_topic[0][1][0:5]"
   ]
  },
  {
   "cell_type": "code",
   "execution_count": 809,
   "metadata": {
    "scrolled": true
   },
   "outputs": [
    {
     "name": "stdout",
     "output_type": "stream",
     "text": [
      "Topic 1 : [('missing item', 853.2282687314279), ('item missing', 449.2249394246536), ('promo code', 387.2376464951733), ('bad ever', 303.4699421989634), ('bad company', 284.220188758004), ('every time', 284.14615845028766), ('go wrong', 219.4100877484828), ('late cold', 219.21641950154878), ('deleted app', 203.8107798709042), ('discount code', 200.22792737958176), ('company ever', 187.21763369990433), ('bad experience', 165.01320365237413), ('star would', 161.93818268736754), ('full price', 157.23303351727452), ('full amount', 156.2181531286745)] \n",
      "\n",
      "Topic 2 : [('hour late', 741.2126709167635), ('stone cold', 514.2164459948359), ('live chat', 439.05824501052456), ('minute late', 376.4442010261395), ('still waiting', 298.2023699027176), ('20 minute', 295.3636990018864), ('waited hour', 293.39316666488816), ('half hour', 288.3603758479034), ('10 minute', 284.89768886785197), ('30 minute', 273.2262514909296), ('hour half', 268.2331234274916), ('waiting hour', 263.07655672234563), ('called restaurant', 260.61582364198796), ('two hour', 251.2263646730501), ('took hour', 223.22086059708323)] \n",
      "\n",
      "Topic 3 : [('first time', 775.6744911582601), ('never arrived', 616.8021142617954), ('48 hour', 448.49614001053), ('wrong address', 434.2285996987517), ('last time', 416.6125747487885), ('never received', 357.6584688960254), ('said delivered', 311.21614861407306), ('second time', 300.07444185167157), ('delivered wrong', 255.64099824782878), ('said would', 232.63428772655124), ('money back', 225.07878194623748), ('time ordered', 224.46772225583953), ('never got', 216.29967157253773), ('never delivered', 202.46743215052874), ('never using', 200.2657973407429)] \n",
      "\n",
      "Topic 4 : [('money back', 474.8371327969161), ('waste time', 415.2078484894006), ('phone number', 324.2154874573978), ('took money', 246.63879007204406), ('someone else', 245.85405259610093), ('take money', 245.75724174715896), ('credit card', 229.21820603652043), ('call back', 184.47041865054237), ('would never', 145.22057841193458), ('bank account', 145.11705338575584), ('phone call', 137.92447543979395), ('way contact', 128.55584376168315), ('email address', 124.22015956820798), ('time money', 124.21807112767364), ('gift card', 121.75182759856452)] \n",
      "\n"
     ]
    }
   ],
   "source": [
    "neg_lda.showTopWordsPerTopic(num_top_words=15)"
   ]
  },
  {
   "cell_type": "markdown",
   "metadata": {},
   "source": [
    "**Positive Reviews:**\n",
    "\n",
    "We are going to follow the same process as above, but now we will implement an LDA model on the positive reviews (i.e. reviews that received rating 5/5). Again, we start by setting up the number of expected topics for the positive reviews, as well as the LDA model hyperparameters. For the case of positive reviews we are assuming the the predetermined number of topics in the reviews is 2."
   ]
  },
  {
   "cell_type": "code",
   "execution_count": 810,
   "metadata": {},
   "outputs": [],
   "source": [
    "number_of_topics_pos = 2\n",
    "\n",
    "lda_pos = LatentDirichletAllocation(n_components=number_of_topics_pos,\n",
    "                                    learning_method='online',\n",
    "                                    learning_offset=1,\n",
    "                                    doc_topic_prior= 2 * (1/number_of_topics_pos),\n",
    "                                    max_iter=30,\n",
    "                                    random_state=10,\n",
    "                                    n_jobs=-1,\n",
    "                                    verbose=0)"
   ]
  },
  {
   "cell_type": "code",
   "execution_count": 811,
   "metadata": {},
   "outputs": [],
   "source": [
    "pos_lda = LDAModeller(input_df=positive_reviews_df, reviews_col='Clean_Review_String')"
   ]
  },
  {
   "cell_type": "code",
   "execution_count": 812,
   "metadata": {},
   "outputs": [],
   "source": [
    "pos_lda.setCountVectorizer(max_df=20, min_df=2, max_features=5000, ngram_range=(2,2))"
   ]
  },
  {
   "cell_type": "code",
   "execution_count": 813,
   "metadata": {},
   "outputs": [],
   "source": [
    "pos_lda.computeCountVectMatrix()"
   ]
  },
  {
   "cell_type": "code",
   "execution_count": 814,
   "metadata": {},
   "outputs": [],
   "source": [
    "pos_lda.assignNGramsAsColumn(ngram_colname='ngrams')"
   ]
  },
  {
   "cell_type": "code",
   "execution_count": 815,
   "metadata": {},
   "outputs": [
    {
     "data": {
      "text/plain": [
       "(742, 897)"
      ]
     },
     "execution_count": 815,
     "metadata": {},
     "output_type": "execute_result"
    }
   ],
   "source": [
    "pos_lda.cv_matrix_shape"
   ]
  },
  {
   "cell_type": "code",
   "execution_count": 816,
   "metadata": {},
   "outputs": [
    {
     "data": {
      "text/html": [
       "<div>\n",
       "<style scoped>\n",
       "    .dataframe tbody tr th:only-of-type {\n",
       "        vertical-align: middle;\n",
       "    }\n",
       "\n",
       "    .dataframe tbody tr th {\n",
       "        vertical-align: top;\n",
       "    }\n",
       "\n",
       "    .dataframe thead th {\n",
       "        text-align: right;\n",
       "    }\n",
       "</style>\n",
       "<table border=\"1\" class=\"dataframe\">\n",
       "  <thead>\n",
       "    <tr style=\"text-align: right;\">\n",
       "      <th></th>\n",
       "      <th>Bigram</th>\n",
       "      <th>Count</th>\n",
       "    </tr>\n",
       "  </thead>\n",
       "  <tbody>\n",
       "    <tr>\n",
       "      <th>0</th>\n",
       "      <td>bad review</td>\n",
       "      <td>20</td>\n",
       "    </tr>\n",
       "    <tr>\n",
       "      <th>1</th>\n",
       "      <td>bad experience</td>\n",
       "      <td>18</td>\n",
       "    </tr>\n",
       "    <tr>\n",
       "      <th>2</th>\n",
       "      <td>good experience</td>\n",
       "      <td>18</td>\n",
       "    </tr>\n",
       "    <tr>\n",
       "      <th>3</th>\n",
       "      <td>never problem</td>\n",
       "      <td>16</td>\n",
       "    </tr>\n",
       "    <tr>\n",
       "      <th>4</th>\n",
       "      <td>missing item</td>\n",
       "      <td>15</td>\n",
       "    </tr>\n",
       "    <tr>\n",
       "      <th>5</th>\n",
       "      <td>always good</td>\n",
       "      <td>14</td>\n",
       "    </tr>\n",
       "    <tr>\n",
       "      <th>6</th>\n",
       "      <td>always great</td>\n",
       "      <td>14</td>\n",
       "    </tr>\n",
       "    <tr>\n",
       "      <th>7</th>\n",
       "      <td>take away</td>\n",
       "      <td>14</td>\n",
       "    </tr>\n",
       "    <tr>\n",
       "      <th>8</th>\n",
       "      <td>would recommend</td>\n",
       "      <td>14</td>\n",
       "    </tr>\n",
       "    <tr>\n",
       "      <th>9</th>\n",
       "      <td>highly recommend</td>\n",
       "      <td>12</td>\n",
       "    </tr>\n",
       "  </tbody>\n",
       "</table>\n",
       "</div>"
      ],
      "text/plain": [
       "             Bigram  Count\n",
       "0        bad review     20\n",
       "1    bad experience     18\n",
       "2   good experience     18\n",
       "3     never problem     16\n",
       "4      missing item     15\n",
       "5       always good     14\n",
       "6      always great     14\n",
       "7         take away     14\n",
       "8   would recommend     14\n",
       "9  highly recommend     12"
      ]
     },
     "execution_count": 816,
     "metadata": {},
     "output_type": "execute_result"
    }
   ],
   "source": [
    "pos_lda.retrieveTopNgrams(top_n=10)"
   ]
  },
  {
   "cell_type": "code",
   "execution_count": 817,
   "metadata": {},
   "outputs": [],
   "source": [
    "pos_lda.setAndFitLDAModel(lda_model=lda_pos, topic_num=number_of_topics_pos, fit_model=True)"
   ]
  },
  {
   "cell_type": "code",
   "execution_count": 818,
   "metadata": {},
   "outputs": [],
   "source": [
    "pos_lda.getPerTopicWordWeights(sort=True)"
   ]
  },
  {
   "cell_type": "code",
   "execution_count": 819,
   "metadata": {},
   "outputs": [
    {
     "name": "stdout",
     "output_type": "stream",
     "text": [
      "Topic 1 : [('always great', 13.460131474844825), ('highly recommend', 12.135414259921749), ('every time', 10.85038621311818), ('delivered time', 10.49743427785251), ('well done', 10.097958139283445), ('arrived time', 9.850886433769162), ('always delivered', 9.821110793796466), ('great selection', 9.643093553637035), ('piping hot', 9.626529884769367), ('co op', 8.815331648719484), ('selection restaurant', 8.799512504515146), ('straight away', 8.585320931648573), ('would definitely', 8.546850134428043), ('always time', 8.128751765219473), ('good eats', 8.009346262456578)] \n",
      "\n",
      "Topic 2 : [('bad review', 19.922958714558913), ('good experience', 15.79454598504475), ('never problem', 15.634407692948797), ('missing item', 15.597930121812725), ('would recommend', 13.891152510332645), ('always good', 13.101038792568678), ('bad experience', 12.959318106817506), ('take away', 11.098527087784795), ('negative review', 10.641844950236006), ('go wrong', 9.961262980331247), ('never issue', 8.693962536567755), ('referral code', 8.18054051608383), ('co uk', 8.121746726273678), ('item missing', 7.453709654223293), ('never bad', 7.360008260325234)] \n",
      "\n"
     ]
    }
   ],
   "source": [
    "pos_lda.showTopWordsPerTopic(num_top_words=15)"
   ]
  },
  {
   "cell_type": "markdown",
   "metadata": {},
   "source": [
    "Therefore we can see that the algorithm has identified the following 4 topics for the negative reviews:\n",
    "\n",
    "- Topic 1: This topic consists of reviews where the order took a significant amount to be completed \n",
    "- Topic 2: Orders where there was an issue with discounts/pricing\n",
    "- Topic 3: This appears to be the topic arround orders that were never arrived to their destination \n",
    "- Topic 4: Cases where an item was missing from the order\n",
    "\n",
    "And the following 2 topics for the positive reviews:\n",
    "\n",
    "- Topic 1: Topic regarding good selection of restaurants/choices \n",
    "- Topic 2: Cases where customers were satisfied with the app\n",
    "\n",
    "<a id=\"topic_assign\"></a>"
   ]
  },
  {
   "cell_type": "code",
   "execution_count": 820,
   "metadata": {},
   "outputs": [],
   "source": [
    "topic_to_review_distribution_neg = neg_lda.lda_model.transform(neg_lda.cv_matrix)"
   ]
  },
  {
   "cell_type": "code",
   "execution_count": 821,
   "metadata": {},
   "outputs": [],
   "source": [
    "topic_to_review_distribution_pos = pos_lda.lda_model.transform(pos_lda.cv_matrix)"
   ]
  },
  {
   "cell_type": "code",
   "execution_count": 822,
   "metadata": {},
   "outputs": [],
   "source": [
    "topics_map_negative = {0: 'Indecisive',\n",
    "                       1: 'Missing/Wrong Item',\n",
    "                       2: 'Delayed Order',\n",
    "                       3: 'Order Never Arrived',\n",
    "                       4: 'Discount/Pricing/Refund Issue'}"
   ]
  },
  {
   "cell_type": "code",
   "execution_count": 823,
   "metadata": {},
   "outputs": [],
   "source": [
    "topics_map_positive = {0: 'Indecisive',\n",
    "                       1: 'Quality of Order/Food',\n",
    "                       2: 'Delivery Time/Service Satisfaction'}"
   ]
  },
  {
   "cell_type": "code",
   "execution_count": 824,
   "metadata": {},
   "outputs": [],
   "source": [
    "negative_reviews_df['Topic_Likelihood'] = topic_to_review_distribution_neg.tolist()"
   ]
  },
  {
   "cell_type": "code",
   "execution_count": 825,
   "metadata": {},
   "outputs": [],
   "source": [
    "positive_reviews_df['Topic_Likelihood'] = topic_to_review_distribution_pos.tolist()"
   ]
  },
  {
   "cell_type": "code",
   "execution_count": 835,
   "metadata": {},
   "outputs": [],
   "source": [
    "cutoff_threshold_neg = 1/number_of_topics_neg\n",
    "cutoff_threshold_pos = 0"
   ]
  },
  {
   "cell_type": "markdown",
   "metadata": {},
   "source": [
    "As threshold to make a decision regarding the topics we will use 0.25, which means that we won't clasiffy a review on a specific topic _only_ if the review belongs to all categories with the same probability."
   ]
  },
  {
   "cell_type": "code",
   "execution_count": 836,
   "metadata": {},
   "outputs": [],
   "source": [
    "negative_reviews_df['Topic_Num'] = negative_reviews_df['Topic_Likelihood'].apply(lambda row: assign_topic(row, threshold=cutoff_threshold_neg))"
   ]
  },
  {
   "cell_type": "code",
   "execution_count": 837,
   "metadata": {},
   "outputs": [],
   "source": [
    "positive_reviews_df['Topic_Num'] = positive_reviews_df['Topic_Likelihood'].apply(lambda row: assign_topic(row, threshold=cutoff_threshold_pos))"
   ]
  },
  {
   "cell_type": "code",
   "execution_count": 838,
   "metadata": {},
   "outputs": [],
   "source": [
    "negative_reviews_df['Topic'] = negative_reviews_df['Topic_Num'].apply(lambda row: topics_map_negative[row])"
   ]
  },
  {
   "cell_type": "code",
   "execution_count": 839,
   "metadata": {},
   "outputs": [],
   "source": [
    "positive_reviews_df['Topic'] = positive_reviews_df['Topic_Num'].apply(lambda row: topics_map_positive[row])"
   ]
  },
  {
   "cell_type": "code",
   "execution_count": 840,
   "metadata": {},
   "outputs": [
    {
     "name": "stdout",
     "output_type": "stream",
     "text": [
      "                                                                                                Review  \\\n",
      "0  Ordered food and apparently the driver was waiting for 10 mins to deliver the food even though I...   \n",
      "1  I received standard bag of buttons that cost £1.60 but I asked for share bags at £2.85 so I've b...   \n",
      "2  Just had an appalling experience with deliveroo. Had ordered a pizza with a £10 discount code th...   \n",
      "3  The same situation happened twice. I ordered food around 10 pm and been waiting for the food for...   \n",
      "4                                               Driver turned up late couldn’t find us and left. Awful   \n",
      "\n",
      "                 Topic  Topic_Num  \n",
      "0  Order Never Arrived          3  \n",
      "1        Delayed Order          2  \n",
      "2   Missing/Wrong Item          1  \n",
      "3        Delayed Order          2  \n",
      "4        Delayed Order          2  \n"
     ]
    }
   ],
   "source": [
    "with pd.option_context('display.max_colwidth', 100):\n",
    "    print(negative_reviews_df[['Review', 'Topic', 'Topic_Num']].head(5))"
   ]
  },
  {
   "cell_type": "code",
   "execution_count": 841,
   "metadata": {},
   "outputs": [],
   "source": [
    "def get_review_summary(input_df: pd.DataFrame,\n",
    "                       rev_idx: int,\n",
    "                       topics_map: dict):\n",
    "    \n",
    "    print('\\x1b[1;30m' + 'Review: ' + '\\x1b[0m' + input_df['Review'].iloc[rev_idx] + '\\n')\n",
    "    print('\\x1b[1;30m' + 'Predicted Topic: ' + '\\x1b[0m' + input_df['Topic'].iloc[rev_idx] + '\\n')\n",
    "    print(input_df['Topic_Likelihood'].iloc[rev_idx])\n",
    "    \n",
    "    topic_to_likelihood = list(zip(list(topics_map.keys()),\n",
    "                                   list(topics_map.values()),\n",
    "                                   [0.0] + input_df['Topic_Likelihood'].iloc[rev_idx]))\n",
    "    l_df = pd.DataFrame(topic_to_likelihood, columns = ['Topic_Num', 'Topic', 'Likelihood'])\n",
    "    \n",
    "    plt.figure(figsize=(12, 6))\n",
    "    sns.barplot(x='Topic', y='Likelihood', data=l_df)\n",
    "    plt.ylim(0, 1.0)\n",
    "    plt.grid(True, alpha=0.2, linestyle='-', color='black')\n",
    "    plt.show()"
   ]
  },
  {
   "cell_type": "markdown",
   "metadata": {},
   "source": [
    "<a id=\"viz_output\"></a>\n",
    "We can visualize the results for a few random cases:"
   ]
  },
  {
   "cell_type": "code",
   "execution_count": 842,
   "metadata": {},
   "outputs": [
    {
     "name": "stdout",
     "output_type": "stream",
     "text": [
      "\u001b[1;30mReview: \u001b[0mi received my order with missing items. I reported it in their website and then i received an email that they wont give me credits for the missing items. This is the third time i order food with this website and get delivered with missing items. I wont use this service again\n",
      "\n",
      "\u001b[1;30mPredicted Topic: \u001b[0mMissing/Wrong Item\n",
      "\n",
      "[0.8529632513883185, 0.04699132018234617, 0.05208267492379174, 0.04796275350554363]\n"
     ]
    },
    {
     "data": {
      "image/png": "[encoded data removed]",
      "text/plain": [
       "<Figure size 864x432 with 1 Axes>"
      ]
     },
     "metadata": {},
     "output_type": "display_data"
    }
   ],
   "source": [
    "get_review_summary(input_df=negative_reviews_df, rev_idx=980, topics_map=topics_map_negative)"
   ]
  },
  {
   "cell_type": "code",
   "execution_count": 847,
   "metadata": {},
   "outputs": [
    {
     "name": "stdout",
     "output_type": "stream",
     "text": [
      "\u001b[1;30mReview: \u001b[0mNever had a bad experience with UberEATS - I like the tracking of my order real-time, and the ability to share that; the fees are steep, which is why I usually use DoorDash since I have DashPass but overall, great service.\n",
      "\n",
      "\u001b[1;30mPredicted Topic: \u001b[0mDelivery Time/Service Satisfaction\n",
      "\n",
      "[0.15740870815760735, 0.8425912918423927]\n"
     ]
    },
    {
     "data": {
      "image/png": "[encoded data removed]",
      "text/plain": [
       "<Figure size 864x432 with 1 Axes>"
      ]
     },
     "metadata": {},
     "output_type": "display_data"
    }
   ],
   "source": [
    "get_review_summary(input_df=positive_reviews_df, rev_idx=400, topics_map=topics_map_positive)"
   ]
  },
  {
   "cell_type": "code",
   "execution_count": 848,
   "metadata": {},
   "outputs": [
    {
     "name": "stdout",
     "output_type": "stream",
     "text": [
      "\u001b[1;30mReview: \u001b[0mI pick restaurants by delivery time. I’d like to know in advance if my food is going to get cold because other food is being delivered.\n",
      "\n",
      "\u001b[1;30mPredicted Topic: \u001b[0mDelayed Order\n",
      "\n",
      "[0.19118409622632937, 0.5570481465553836, 0.18708599941354506, 0.06468175780474186]\n"
     ]
    },
    {
     "data": {
      "image/png": "[encoded data removed]",
      "text/plain": [
       "<Figure size 864x432 with 1 Axes>"
      ]
     },
     "metadata": {},
     "output_type": "display_data"
    }
   ],
   "source": [
    "get_review_summary(input_df=negative_reviews_df, rev_idx=4562, topics_map=topics_map_negative)"
   ]
  },
  {
   "cell_type": "markdown",
   "metadata": {},
   "source": [
    "Finally, we can get a general picture of the results and summarize the _per company_ :"
   ]
  },
  {
   "cell_type": "code",
   "execution_count": 849,
   "metadata": {},
   "outputs": [],
   "source": [
    "def summary_per_company(input_df: pd.DataFrame,\n",
    "                        company: 'all',\n",
    "                        figsize=(6, 6)) -> None:\n",
    "    \n",
    "    if company != 'all':\n",
    "        filtered_df = input_df[input_df['Company'] == company]\n",
    "    else:\n",
    "        filtered_df = input_df\n",
    "\n",
    "    vals = filtered_df['Topic'].value_counts()\n",
    "    groups = filtered_df['Topic'].value_counts().index.tolist()\n",
    "    \n",
    "    filtered_df = pd.DataFrame({'Num_Reviews': vals, 'group': groups})\n",
    "    \n",
    "    colors_ls = [\"tab:olive\", \"tab:orange\", \"tab:purple\", \"tab:red\", \"tab:cyan\"]\n",
    "    \n",
    "    plt.figure(figsize=(figsize))\n",
    "\n",
    "    # TreePlot\n",
    "    plt.subplot(1, 2, 1)\n",
    "\n",
    "    squarify.plot(sizes=filtered_df['Num_Reviews'],\n",
    "                  label=filtered_df['group'],\n",
    "                  color=colors_ls,\n",
    "                  alpha=.4 )\n",
    "    plt.axis('on')\n",
    "    #plt.title('Treeplot for {}'.format(company), pad=30)\n",
    "    \n",
    "    # DonutPlot\n",
    "    plt.subplot(1, 2, 2)\n",
    "    \n",
    "    cen_circle = plt.Circle((0, 0), 0.6, color='white')\n",
    "    \n",
    "    plt.pie(filtered_df['Num_Reviews'],\n",
    "            labels= filtered_df['group'],\n",
    "            autopct='%1.1f%%',\n",
    "            pctdistance = 1.23,\n",
    "            startangle=85,\n",
    "            labeldistance=1.05,\n",
    "            colors=colors_ls)\n",
    "    plt.axis('equal')\n",
    "    #plt.title('Donutplot for {}'.format(company), pad=30)\n",
    "    plt.gca().add_artist(cen_circle)\n",
    "    \n",
    "    plt.tight_layout()\n",
    "    plt.show()"
   ]
  },
  {
   "cell_type": "code",
   "execution_count": 851,
   "metadata": {},
   "outputs": [
    {
     "name": "stdout",
     "output_type": "stream",
     "text": [
      "\u001b[1;30mDeliveroo\u001b[0m - Number of reviews: 6161\n"
     ]
    },
    {
     "data": {
      "image/png": "[encoded data removed]",
      "text/plain": [
       "<Figure size 1080x504 with 2 Axes>"
      ]
     },
     "metadata": {},
     "output_type": "display_data"
    },
    {
     "name": "stdout",
     "output_type": "stream",
     "text": [
      "\u001b[1;30mJustEat\u001b[0m - Number of reviews: 2603\n"
     ]
    },
    {
     "data": {
      "image/png": "[encoded data removed]",
      "text/plain": [
       "<Figure size 1080x504 with 2 Axes>"
      ]
     },
     "metadata": {},
     "output_type": "display_data"
    },
    {
     "name": "stdout",
     "output_type": "stream",
     "text": [
      "\u001b[1;30mUberEats\u001b[0m - Number of reviews: 9227\n"
     ]
    },
    {
     "data": {
      "image/png": "[encoded data removed]",
      "text/plain": [
       "<Figure size 1080x504 with 2 Axes>"
      ]
     },
     "metadata": {},
     "output_type": "display_data"
    },
    {
     "name": "stdout",
     "output_type": "stream",
     "text": [
      "\u001b[1;30mStuart\u001b[0m - Number of reviews: 187\n"
     ]
    },
    {
     "data": {
      "image/png": "[encoded data removed]",
      "text/plain": [
       "<Figure size 1080x504 with 2 Axes>"
      ]
     },
     "metadata": {},
     "output_type": "display_data"
    }
   ],
   "source": [
    "for company in negative_reviews_df.Company.unique():\n",
    "    reviews_num = negative_reviews_df[negative_reviews_df['Company'] == company].shape[0]\n",
    "    print('\\x1b[1;30m' + company + '\\x1b[0m' + ' - Number of reviews: '+ str(reviews_num))\n",
    "    summary_per_company(input_df=negative_reviews_df, company=company, figsize=(15, 7))"
   ]
  },
  {
   "cell_type": "markdown",
   "metadata": {},
   "source": [
    "#### LDA Implementiation with gensim"
   ]
  },
  {
   "cell_type": "code",
   "execution_count": 861,
   "metadata": {},
   "outputs": [],
   "source": [
    "rev = list(negative_reviews_df['ngrams'])\n",
    "\n",
    "number_of_topics = 4"
   ]
  },
  {
   "cell_type": "code",
   "execution_count": 862,
   "metadata": {},
   "outputs": [],
   "source": [
    "from gensim import corpora, models"
   ]
  },
  {
   "cell_type": "code",
   "execution_count": 863,
   "metadata": {},
   "outputs": [],
   "source": [
    "dictionary_LDA = corpora.Dictionary(rev)\n",
    "dictionary_LDA.filter_extremes(no_below=3)\n",
    "corpus = [dictionary_LDA.doc2bow(list_of_tokens) for list_of_tokens in rev]"
   ]
  },
  {
   "cell_type": "code",
   "execution_count": 864,
   "metadata": {},
   "outputs": [],
   "source": [
    "lda_model = models.LdaModel(corpus,\n",
    "                            num_topics=number_of_topics,\n",
    "                            id2word=dictionary_LDA,\n",
    "                            passes=10,\n",
    "                            alpha=2 *(1/number_of_topics),\n",
    "                            eta=2 * (1/number_of_topics)\n",
    "                           )"
   ]
  },
  {
   "cell_type": "code",
   "execution_count": 865,
   "metadata": {},
   "outputs": [
    {
     "name": "stdout",
     "output_type": "stream",
     "text": [
      "0: 0.008*\"waited hour\" + 0.005*\"stone cold\" + 0.005*\"restaurant said\" + 0.004*\"said delivered\" + 0.004*\"called restaurant\" + 0.004*\"said would\" + 0.004*\"live chat\" + 0.004*\"half hour\" + 0.003*\"arrived cold\" + 0.003*\"15 min\" + 0.003*\"go wrong\" + 0.003*\"much good\" + 0.003*\"just eat\" + 0.003*\"min late\" + 0.002*\"30 min\"\n",
      "\n",
      "1: 0.013*\"never arrived\" + 0.008*\"missing item\" + 0.005*\"absolutely disgusting\" + 0.005*\"zero star\" + 0.004*\"two hour\" + 0.003*\"never received\" + 0.003*\"take money\" + 0.003*\"marked delivered\" + 0.003*\"live chat\" + 0.003*\"speak anyone\" + 0.003*\"many time\" + 0.002*\"star would\" + 0.002*\"several time\" + 0.002*\"never ever\" + 0.002*\"care customer\"\n",
      "\n",
      "2: 0.011*\"money back\" + 0.006*\"bad ever\" + 0.006*\"wrong address\" + 0.005*\"48 hour\" + 0.005*\"bad company\" + 0.004*\"bad experience\" + 0.003*\"took money\" + 0.003*\"said would\" + 0.003*\"phone number\" + 0.003*\"promo code\" + 0.003*\"day late\" + 0.003*\"never got\" + 0.003*\"delivered wrong\" + 0.003*\"sent email\" + 0.003*\"via app\"\n",
      "\n",
      "3: 0.014*\"first time\" + 0.010*\"hour late\" + 0.007*\"last time\" + 0.006*\"missing item\" + 0.006*\"every time\" + 0.006*\"second time\" + 0.005*\"waste time\" + 0.005*\"item missing\" + 0.004*\"took hour\" + 0.004*\"minute late\" + 0.004*\"20 minute\" + 0.004*\"last night\" + 0.004*\"30 minute\" + 0.004*\"absolute joke\" + 0.003*\"stone cold\"\n",
      "\n"
     ]
    }
   ],
   "source": [
    "for i,topic in lda_model.show_topics(formatted=True, num_topics=number_of_topics, num_words=15):\n",
    "    print(str(i)+\": \"+ topic)\n",
    "    print()"
   ]
  },
  {
   "cell_type": "code",
   "execution_count": 866,
   "metadata": {},
   "outputs": [
    {
     "data": {
      "text/plain": [
       "[(0, 0.43032718), (1, 0.04622426), (2, 0.047977816), (3, 0.47547075)]"
      ]
     },
     "execution_count": 866,
     "metadata": {},
     "output_type": "execute_result"
    }
   ],
   "source": [
    "lda_model[corpus[6]]"
   ]
  },
  {
   "cell_type": "code",
   "execution_count": 867,
   "metadata": {},
   "outputs": [
    {
     "data": {
      "text/html": [
       "\n",
       "<link rel=\"stylesheet\" type=\"text/css\" href=\"https://cdn.jsdelivr.net/gh/bmabey/pyLDAvis@3.2.2/pyLDAvis/js/ldavis.v1.0.0.css\">\n",
       "\n",
       "\n",
       "<div id=\"ldavis_el1761624319596750724377121101\"></div>\n",
       "<script type=\"text/javascript\">\n",
       "\n",
       "var ldavis_el1761624319596750724377121101_data = {\"mdsDat\": {\"x\": [-0.18013868930189483, 0.1736359348627774, 0.11307200448822344, -0.10656925004910608], \"y\": [-0.09531610100357521, 0.1111095915146064, -0.17367336486391297, 0.15787987435288175], \"topics\": [1, 2, 3, 4], \"cluster\": [1, 1, 1, 1], \"Freq\": [30.010100309769854, 25.601728895400193, 23.646461571760845, 20.74170922306911]}, \"tinfo\": {\"Term\": [\"first time\", \"never arrived\", \"money back\", \"hour late\", \"waited hour\", \"missing item\", \"last time\", \"bad ever\", \"every time\", \"wrong address\", \"second time\", \"bad company\", \"absolutely disgusting\", \"zero star\", \"stone cold\", \"took hour\", \"48 hour\", \"20 minute\", \"last night\", \"restaurant said\", \"said would\", \"said delivered\", \"30 minute\", \"took money\", \"two hour\", \"absolute joke\", \"called restaurant\", \"promo code\", \"minute late\", \"day late\", \"wrong address\", \"bad company\", \"promo code\", \"took money\", \"day late\", \"company ever\", \"bank account\", \"sent email\", \"charged twice\", \"received email\", \"experience ever\", \"full price\", \"charged full\", \"still charged\", \"day ago\", \"10 day\", \"working day\", \"discount code\", \"email sent\", \"call back\", \"bad ever\", \"stole money\", \"money account\", \"24 hour\", \"correct address\", \"went wrong\", \"via app\", \"got charged\", \"copy paste\", \"never eats\", \"would take\", \"credit card\", \"money back\", \"email address\", \"delivered wrong\", \"tried call\", \"48 hour\", \"full amount\", \"phone number\", \"never got\", \"email saying\", \"bad experience\", \"said would\", \"never received\", \"told would\", \"take money\", \"phone call\", \"first time\", \"last time\", \"second time\", \"every time\", \"last night\", \"time never\", \"took hour\", \"40 minute\", \"20 minute\", \"minute away\", \"time using\", \"time used\", \"time eat\", \"late cold\", \"first last\", \"one hour\", \"time happened\", \"25 minute\", \"something missing\", \"every single\", \"find house\", \"absolute joke\", \"like plague\", \"company go\", \"minute time\", \"late time\", \"three time\", \"time change\", \"used app\", \"avoid like\", \"30 minute\", \"time time\", \"hour still\", \"using ubereats\", \"waiting hour\", \"hour late\", \"time ordered\", \"say delivered\", \"minute late\", \"45 minute\", \"item missing\", \"waste time\", \"10 minute\", \"missing item\", \"late still\", \"hour half\", \"stone cold\", \"joke company\", \"15 min\", \"go wrong\", \"min late\", \"just eat\", \"really bad\", \"45 min\", \"contacted restaurant\", \"option cancel\", \"arrives cold\", \"contacted eat\", \"hour ago\", \"called eat\", \"eat told\", \"burger king\", \"left chat\", \"said never\", \"finally arrived\", \"ordered pizza\", \"restaurant called\", \"arrived stone\", \"ordered burger\", \"ring eat\", \"app showing\", \"nearly hour\", \"driver take\", \"delivered contacted\", \"got chat\", \"story short\", \"long story\", \"bad app\", \"waited hour\", \"saying cancelled\", \"10 15\", \"phoned restaurant\", \"restaurant closed\", \"rubbish company\", \"said delivered\", \"take responsibility\", \"restaurant said\", \"called restaurant\", \"told restaurant\", \"using eat\", \"half hour\", \"arrived cold\", \"much good\", \"30 min\", \"stone cold\", \"app said\", \"said would\", \"live chat\", \"10 min\", \"wait another\", \"15 minute\", \"ordered kfc\", \"hour half\", \"never using\", \"bad experience\", \"never arrived\", \"absolutely disgusting\", \"zero star\", \"absolutely appalling\", \"charge fee\", \"time money\", \"solve problem\", \"ordered never\", \"treat customer\", \"problem like\", \"marked delivered\", \"eat never\", \"impossible contact\", \"would zero\", \"horrible company\", \"chat option\", \"everyone else\", \"option available\", \"care customer\", \"bad ordered\", \"issue resolved\", \"order missing\", \"eat restaurant\", \"contact via\", \"made complaint\", \"speak anyone\", \"issue arise\", \"write review\", \"meal ordered\", \"round circle\", \"eat account\", \"hour cancelled\", \"via chat\", \"would star\", \"never eat\", \"two hour\", \"keep getting\", \"never turned\", \"avoid avoid\", \"missing item\", \"several time\", \"never received\", \"take money\", \"many time\", \"avoid cost\", \"deleted app\", \"star would\", \"contact restaurant\", \"never ever\", \"live chat\", \"never came\", \"waste time\", \"way contacting\", \"joke company\", \"item missing\", \"someone else\", \"eat app\"], \"Freq\": [719.0, 548.0, 720.0, 627.0, 386.0, 645.0, 349.0, 372.0, 299.0, 341.0, 296.0, 308.0, 221.0, 214.0, 414.0, 227.0, 365.0, 218.0, 209.0, 260.0, 410.0, 233.0, 210.0, 216.0, 216.0, 199.0, 230.0, 204.0, 281.0, 195.0, 339.96298641246517, 307.0102883824972, 202.6706455898141, 214.2657363528333, 193.2682890176547, 167.56746957246293, 136.90334572793844, 175.7014947979893, 149.53839506773227, 138.98578649594708, 132.46308910275616, 112.72729844073979, 107.83099887304817, 127.14263590254235, 122.7594043609117, 101.05226215261568, 131.54214188969252, 122.60084681152425, 87.9603884101532, 132.12419349055028, 365.5705324936883, 85.50043786096593, 80.10194618521032, 87.9838895698065, 83.63166550697403, 86.67133761525966, 172.62896551621648, 76.04667698291452, 105.78851294419381, 139.29901580200325, 145.32089043474878, 151.30906907897375, 674.4509339003589, 101.05226932197495, 176.78280623897388, 142.88451273880742, 331.5818907281311, 133.72409336422575, 207.22026362114377, 184.23505407634008, 172.2045251093239, 240.4554344059438, 210.19050048499926, 148.58412467282955, 139.1210866438961, 137.75239860634585, 132.81470315828875, 717.8999506244206, 347.6802763575838, 294.48600750596864, 298.03592756964656, 207.76609129777407, 166.17624918939927, 224.90482930408209, 161.72930171033494, 215.99473862924077, 134.80312756862597, 118.03415098587521, 115.35259779056126, 117.95302561333877, 155.1253391993667, 96.99471008332875, 116.40315423952804, 91.24129792909912, 85.71420379054845, 80.95165390284019, 82.28060787194522, 72.89896373682139, 194.45987882584805, 97.2398782496529, 65.19330716833862, 60.822726652595314, 65.002781197298, 72.74734907610019, 54.14138800411511, 83.09243652078816, 77.93150135974349, 204.31020180386207, 106.21897197432504, 91.80888195890779, 69.99060934545824, 179.57145247634378, 524.465649657262, 155.11558996506156, 120.62703140894601, 216.8797538136515, 161.6811549271167, 236.89929881401383, 256.0520793923033, 170.2070743941957, 311.96223782655295, 148.16547459039663, 162.37596829946932, 181.10402721614267, 120.26104980144933, 150.98083767184326, 150.23573302915358, 128.49330636512067, 134.57286493661255, 116.23774783212342, 86.73004370092306, 101.8379840131692, 73.79340739463707, 76.6507942741409, 75.56182342646582, 104.5937605785814, 69.95978870333556, 74.73508932702269, 66.35428621225282, 63.9514144075911, 64.98767352786366, 84.74467408524544, 89.57548273952492, 61.62991785030195, 61.11916601130893, 54.71543963730219, 50.61003722324186, 55.36327247266747, 111.74331467973903, 65.73120772148916, 60.60915985316652, 48.41907435849263, 55.46946420471254, 52.71399833965477, 77.73962954347951, 367.2449039959712, 107.4634455430231, 78.57872386793139, 81.32314574766369, 99.5577823575318, 69.49411666122091, 212.61182320154498, 108.46395717524474, 227.15381999365752, 201.94727644709724, 73.38986412521268, 99.74303885613197, 189.28066699429323, 156.67719537347955, 149.26682244752564, 119.81135551955012, 232.46164407753685, 114.9892295279025, 199.21846867244912, 197.31194350852982, 111.33103225670928, 94.34166007098665, 99.339614217752, 108.45592415880851, 98.53767965568933, 96.09111208300078, 95.26814028239488, 543.9010478754017, 219.96139102723828, 210.96956453815565, 96.34274514417208, 80.69683128186061, 93.94643111487682, 61.351243432769245, 70.4231006660354, 65.74392588704524, 54.624151728288105, 125.35682584134629, 66.74878717388316, 55.5041083672012, 60.677401513381724, 57.096012084487086, 63.52746424403472, 50.521900948712386, 58.51417312433464, 102.18175375190711, 52.943877737225435, 51.64525986519581, 61.17335328874174, 47.71068665062696, 45.438712381333985, 70.24575558930157, 110.06161323094419, 40.643777697059754, 56.73372567500846, 49.30033577137991, 49.55605161463014, 65.15713121445803, 55.41665479750924, 87.87578872795767, 62.1185743033369, 85.36158159819716, 188.83362855801226, 63.58651485256886, 98.7288713702328, 58.30168111747304, 323.9092321828618, 105.03681623619029, 140.23786659106887, 135.4049332836895, 109.63596522615414, 95.44957805612313, 97.43072919329583, 105.49035186578776, 73.88657717383592, 102.6245366903475, 115.00051753052891, 73.61290384083762, 99.53138881218594, 71.43849166195571, 78.68797090554023, 82.65278544459375, 75.56770345193961, 72.2193847978215], \"Total\": [719.0, 548.0, 720.0, 627.0, 386.0, 645.0, 349.0, 372.0, 299.0, 341.0, 296.0, 308.0, 221.0, 214.0, 414.0, 227.0, 365.0, 218.0, 209.0, 260.0, 410.0, 233.0, 210.0, 216.0, 216.0, 199.0, 230.0, 204.0, 281.0, 195.0, 341.9511661842022, 308.93739478427756, 204.23048863771308, 216.13157522825986, 195.02954281523728, 169.28283063608185, 138.42404992475392, 177.65533779509673, 151.24553565208427, 140.79221482702692, 134.3313190488457, 114.33493070530054, 109.39055779807394, 129.06394004889648, 124.6884993103063, 102.77625481250074, 133.87673360218548, 124.78311673141151, 89.56235436726767, 134.56521422707456, 372.36074945080543, 87.15423813526608, 81.67766447880824, 89.75166572462388, 85.37303549430742, 88.48562441893971, 176.31393485763556, 77.69473482994465, 108.13570963241915, 142.47817793351933, 148.87635977146348, 155.51617095765607, 720.966256718972, 103.53379899816214, 184.31258398849323, 148.33131826246958, 365.54966345701547, 139.4851795666865, 224.14052806833755, 204.13524516840042, 210.1840453785024, 339.7688989963335, 410.6637054464691, 290.6264368738823, 272.3127703141564, 274.75388329029886, 185.48813018779754, 719.7262655284237, 349.3412289262176, 296.1928123851855, 299.9329832234642, 209.68270206344522, 167.8475934933224, 227.30895271182027, 163.5540120241064, 218.71764390769167, 136.5042786102603, 119.63489268785307, 116.99641382434832, 119.76481780755873, 157.67533717499876, 98.59391153158502, 118.32340558276462, 92.9127279311123, 87.33301990680813, 82.60022326829575, 84.02274845332512, 74.58979752861974, 199.03304992533182, 99.70176572284055, 66.89186332130475, 62.4414932079466, 66.88480088904781, 74.85934158330681, 55.71856656783147, 85.53440891216864, 80.22841263090825, 210.44210701337076, 109.5551855237031, 94.72594365310749, 72.1181405098499, 197.95939773712595, 627.9306906770512, 173.7758693432119, 133.98196051613812, 281.6424168185237, 200.75823884072247, 344.25124594124077, 389.9033046052062, 227.7135736760292, 645.5463510343195, 208.12717499187895, 262.03005128408574, 414.7484107441659, 200.41883289112448, 152.6879325052751, 152.1404342833639, 130.1834509531961, 136.49080339164664, 118.11389001378755, 88.40806439939286, 103.89247052364371, 75.48010054929853, 78.42338269944786, 77.34448637058902, 107.06143947041599, 71.62750943356906, 76.55371530620326, 67.99256387169112, 65.53519240190724, 66.64700531393, 86.96869040742708, 92.00205584623129, 63.29980850988832, 62.854313727928385, 56.29186871661529, 52.089475881582985, 56.99250134261731, 115.04061261735353, 67.67954496722106, 62.44204212363626, 49.93395698225791, 57.255195200934885, 54.43966441201806, 80.2982084559595, 386.10487291255515, 111.87267555606861, 81.51321383906999, 84.83848957471449, 104.52867632291516, 72.16282301442915, 233.07483286877192, 115.39480580500839, 260.34550129816637, 230.12082523364936, 76.54902353909789, 108.41851551659741, 225.3043423209198, 181.6757455038639, 177.53760389280166, 149.63410093834102, 414.7484107441659, 150.3690445756089, 410.6637054464691, 417.59999748449775, 155.51011343180073, 116.9637027800864, 152.8865029656851, 254.9664960598024, 262.03005128408574, 322.6782927566208, 339.7688989963335, 548.267318923996, 221.9429195711865, 214.50397801746618, 98.17866227549202, 82.360511177557, 96.27021280667928, 62.88509877853069, 72.19349841169338, 67.40661683624664, 56.19323359525419, 128.97562881120268, 68.68798457536957, 57.160177440967104, 62.491209096145866, 58.8202265238521, 65.50389579605192, 52.10117227812739, 60.5033951285155, 105.750775879631, 54.823853866007184, 53.53818374303559, 63.42345356954759, 49.475693484525124, 47.134315739642545, 72.90077082996824, 114.23504755485571, 42.2036791385029, 58.9224309912998, 51.21046266218624, 51.48597608473071, 67.77462079818818, 57.58301582697951, 91.74377354148375, 64.95056364350916, 91.16964316686932, 216.84404681570228, 67.47788973148319, 114.37429280313664, 61.574126067640904, 645.5463510343195, 174.03623474536357, 290.6264368738823, 274.75388329029886, 229.5404362283026, 181.17454949140395, 198.04639450860162, 243.3116021951011, 102.47053103851732, 277.30901645774134, 417.59999748449775, 106.29621572633974, 389.9033046052062, 101.53369791022507, 200.41883289112448, 344.25124594124077, 263.9213826449099, 122.64842258056044], \"Category\": [\"Default\", \"Default\", \"Default\", \"Default\", \"Default\", \"Default\", \"Default\", \"Default\", \"Default\", \"Default\", \"Default\", \"Default\", \"Default\", \"Default\", \"Default\", \"Default\", \"Default\", \"Default\", \"Default\", \"Default\", \"Default\", \"Default\", \"Default\", \"Default\", \"Default\", \"Default\", \"Default\", \"Default\", \"Default\", \"Default\", \"Topic1\", \"Topic1\", \"Topic1\", \"Topic1\", \"Topic1\", \"Topic1\", \"Topic1\", \"Topic1\", \"Topic1\", \"Topic1\", \"Topic1\", \"Topic1\", \"Topic1\", \"Topic1\", \"Topic1\", \"Topic1\", \"Topic1\", \"Topic1\", \"Topic1\", \"Topic1\", \"Topic1\", \"Topic1\", \"Topic1\", \"Topic1\", \"Topic1\", \"Topic1\", \"Topic1\", \"Topic1\", \"Topic1\", \"Topic1\", \"Topic1\", \"Topic1\", \"Topic1\", \"Topic1\", \"Topic1\", \"Topic1\", \"Topic1\", \"Topic1\", \"Topic1\", \"Topic1\", \"Topic1\", \"Topic1\", \"Topic1\", \"Topic1\", \"Topic1\", \"Topic1\", \"Topic1\", \"Topic2\", \"Topic2\", \"Topic2\", \"Topic2\", \"Topic2\", \"Topic2\", \"Topic2\", \"Topic2\", \"Topic2\", \"Topic2\", \"Topic2\", \"Topic2\", \"Topic2\", \"Topic2\", \"Topic2\", \"Topic2\", \"Topic2\", \"Topic2\", \"Topic2\", \"Topic2\", \"Topic2\", \"Topic2\", \"Topic2\", \"Topic2\", \"Topic2\", \"Topic2\", \"Topic2\", \"Topic2\", \"Topic2\", \"Topic2\", \"Topic2\", \"Topic2\", \"Topic2\", \"Topic2\", \"Topic2\", \"Topic2\", \"Topic2\", \"Topic2\", \"Topic2\", \"Topic2\", \"Topic2\", \"Topic2\", \"Topic2\", \"Topic2\", \"Topic2\", \"Topic2\", \"Topic2\", \"Topic2\", \"Topic3\", \"Topic3\", \"Topic3\", \"Topic3\", \"Topic3\", \"Topic3\", \"Topic3\", \"Topic3\", \"Topic3\", \"Topic3\", \"Topic3\", \"Topic3\", \"Topic3\", \"Topic3\", \"Topic3\", \"Topic3\", \"Topic3\", \"Topic3\", \"Topic3\", \"Topic3\", \"Topic3\", \"Topic3\", \"Topic3\", \"Topic3\", \"Topic3\", \"Topic3\", \"Topic3\", \"Topic3\", \"Topic3\", \"Topic3\", \"Topic3\", \"Topic3\", \"Topic3\", \"Topic3\", \"Topic3\", \"Topic3\", \"Topic3\", \"Topic3\", \"Topic3\", \"Topic3\", \"Topic3\", \"Topic3\", \"Topic3\", \"Topic3\", \"Topic3\", \"Topic3\", \"Topic3\", \"Topic3\", \"Topic3\", \"Topic3\", \"Topic3\", \"Topic3\", \"Topic3\", \"Topic3\", \"Topic3\", \"Topic3\", \"Topic3\", \"Topic4\", \"Topic4\", \"Topic4\", \"Topic4\", \"Topic4\", \"Topic4\", \"Topic4\", \"Topic4\", \"Topic4\", \"Topic4\", \"Topic4\", \"Topic4\", \"Topic4\", \"Topic4\", \"Topic4\", \"Topic4\", \"Topic4\", \"Topic4\", \"Topic4\", \"Topic4\", \"Topic4\", \"Topic4\", \"Topic4\", \"Topic4\", \"Topic4\", \"Topic4\", \"Topic4\", \"Topic4\", \"Topic4\", \"Topic4\", \"Topic4\", \"Topic4\", \"Topic4\", \"Topic4\", \"Topic4\", \"Topic4\", \"Topic4\", \"Topic4\", \"Topic4\", \"Topic4\", \"Topic4\", \"Topic4\", \"Topic4\", \"Topic4\", \"Topic4\", \"Topic4\", \"Topic4\", \"Topic4\", \"Topic4\", \"Topic4\", \"Topic4\", \"Topic4\", \"Topic4\", \"Topic4\", \"Topic4\", \"Topic4\", \"Topic4\"], \"logprob\": [30.0, 29.0, 28.0, 27.0, 26.0, 25.0, 24.0, 23.0, 22.0, 21.0, 20.0, 19.0, 18.0, 17.0, 16.0, 15.0, 14.0, 13.0, 12.0, 11.0, 10.0, 9.0, 8.0, 7.0, 6.0, 5.0, 4.0, 3.0, 2.0, 1.0, -5.1993, -5.3013, -5.7166, -5.6609, -5.7641, -5.9068, -6.1089, -5.8594, -6.0206, -6.0938, -6.1419, -6.3032, -6.3476, -6.1829, -6.2179, -6.4125, -6.1488, -6.2192, -6.5513, -6.1444, -5.1267, -6.5796, -6.6449, -6.551, -6.6017, -6.566, -5.877, -6.6968, -6.3667, -6.0915, -6.0492, -6.0088, -4.5143, -6.4125, -5.8532, -6.0661, -5.2243, -6.1324, -5.6944, -5.812, -5.8795, -5.5456, -5.6801, -6.027, -6.0928, -6.1027, -6.1392, -4.293, -5.018, -5.1841, -5.1721, -5.5329, -5.7562, -5.4536, -5.7834, -5.494, -5.9655, -6.0983, -6.1213, -6.099, -5.8251, -6.2946, -6.1122, -6.3558, -6.4183, -6.4754, -6.4592, -6.5802, -5.5991, -6.2921, -6.6919, -6.7613, -6.6949, -6.5823, -6.8777, -6.4493, -6.5135, -5.5496, -6.2038, -6.3496, -6.6209, -5.6787, -4.6069, -5.8251, -6.0766, -5.4899, -5.7837, -5.4017, -5.3239, -5.7323, -5.1264, -5.871, -5.7794, -5.6702, -6.0796, -5.7727, -5.7776, -5.934, -5.8877, -6.0342, -6.327, -6.1665, -6.4886, -6.4506, -6.4649, -6.1398, -6.5419, -6.4759, -6.5948, -6.6317, -6.6156, -6.3502, -6.2948, -6.6687, -6.677, -6.7877, -6.8657, -6.7759, -6.0736, -6.6043, -6.6854, -6.9099, -6.774, -6.825, -6.4365, -4.8838, -6.1127, -6.4257, -6.3914, -6.1891, -6.5486, -5.4304, -6.1034, -5.3642, -5.4818, -6.4941, -6.1872, -5.5466, -5.7357, -5.7841, -6.0039, -5.3411, -6.045, -5.4954, -5.5051, -6.0773, -6.2429, -6.1913, -6.1035, -6.1994, -6.2245, -6.2331, -4.36, -5.2653, -5.3071, -6.0909, -6.2681, -6.1161, -6.5422, -6.4043, -6.473, -6.6583, -5.8276, -6.4578, -6.6423, -6.5532, -6.614, -6.5073, -6.7364, -6.5895, -6.032, -6.6895, -6.7144, -6.5451, -6.7936, -6.8424, -6.4068, -5.9577, -6.9539, -6.6204, -6.7608, -6.7557, -6.482, -6.6439, -6.1829, -6.5297, -6.2119, -5.4179, -6.5064, -6.0664, -6.5931, -4.8783, -6.0045, -5.7154, -5.7505, -5.9616, -6.1002, -6.0796, -6.0002, -6.3562, -6.0277, -5.9138, -6.36, -6.0583, -6.3899, -6.2933, -6.2441, -6.3337, -6.3791], \"loglift\": [30.0, 29.0, 28.0, 27.0, 26.0, 25.0, 24.0, 23.0, 22.0, 21.0, 20.0, 19.0, 18.0, 17.0, 16.0, 15.0, 14.0, 13.0, 12.0, 11.0, 10.0, 9.0, 8.0, 7.0, 6.0, 5.0, 4.0, 3.0, 2.0, 1.0, 1.1978, 1.1974, 1.196, 1.195, 1.1946, 1.1935, 1.1926, 1.1926, 1.1923, 1.1907, 1.1896, 1.1895, 1.1893, 1.1886, 1.188, 1.1867, 1.186, 1.186, 1.1856, 1.1853, 1.1852, 1.1845, 1.1842, 1.1837, 1.183, 1.1829, 1.1825, 1.1822, 1.1817, 1.1811, 1.1795, 1.1762, 1.1369, 1.1794, 1.1619, 1.1662, 1.1061, 1.1615, 1.1251, 1.1011, 1.0043, 0.8579, 0.5339, 0.5327, 0.532, 0.5132, 0.8696, 1.36, 1.3577, 1.3567, 1.3562, 1.3533, 1.3525, 1.3519, 1.3513, 1.35, 1.35, 1.349, 1.3484, 1.3473, 1.3462, 1.3462, 1.3461, 1.3444, 1.3438, 1.3424, 1.3416, 1.3396, 1.3393, 1.3375, 1.3368, 1.3362, 1.334, 1.3339, 1.3338, 1.3335, 1.3335, 1.3329, 1.3316, 1.3312, 1.3326, 1.265, 1.1825, 1.2489, 1.2575, 1.1012, 1.146, 0.9888, 0.942, 1.0714, 0.6353, 1.0227, 0.884, 0.5339, 0.8518, 1.4307, 1.4294, 1.4289, 1.4278, 1.4259, 1.4228, 1.422, 1.4194, 1.4191, 1.4186, 1.4186, 1.4184, 1.4179, 1.4176, 1.4175, 1.4167, 1.4161, 1.4152, 1.4152, 1.414, 1.4136, 1.4131, 1.413, 1.4129, 1.4127, 1.4122, 1.4111, 1.4103, 1.4097, 1.4096, 1.3919, 1.4017, 1.4053, 1.3996, 1.3932, 1.4043, 1.3501, 1.38, 1.3056, 1.3114, 1.3998, 1.3586, 1.2677, 1.2939, 1.2685, 1.2197, 0.863, 1.1737, 0.7186, 0.6922, 1.1078, 1.227, 1.0108, 0.5872, 0.4639, 0.2306, 0.1704, 1.565, 1.5641, 1.5564, 1.5541, 1.5526, 1.5486, 1.5483, 1.5482, 1.548, 1.5447, 1.5446, 1.5444, 1.5436, 1.5436, 1.5433, 1.5424, 1.5422, 1.5396, 1.5387, 1.5381, 1.537, 1.5369, 1.5367, 1.5364, 1.5359, 1.5358, 1.5354, 1.5352, 1.535, 1.5348, 1.5336, 1.5347, 1.5299, 1.5284, 1.5072, 1.4347, 1.5136, 1.4259, 1.5184, 0.8834, 1.0681, 0.8443, 0.8654, 0.8341, 0.9322, 0.8637, 0.7373, 1.246, 0.579, 0.2834, 1.2056, 0.2076, 1.2215, 0.6381, 0.1463, 0.3224, 1.0434]}, \"token.table\": {\"Topic\": [1, 2, 3, 4, 1, 2, 3, 4, 1, 2, 3, 4, 1, 2, 3, 4, 1, 2, 3, 1, 2, 3, 4, 1, 2, 3, 4, 1, 2, 3, 4, 1, 2, 3, 4, 1, 2, 3, 4, 1, 2, 3, 4, 1, 2, 3, 4, 1, 2, 3, 4, 1, 2, 3, 4, 1, 2, 3, 4, 1, 2, 3, 4, 1, 2, 3, 4, 1, 2, 3, 4, 1, 2, 3, 4, 1, 2, 3, 1, 2, 3, 4, 1, 2, 3, 4, 1, 2, 3, 4, 1, 2, 3, 4, 1, 2, 3, 4, 1, 2, 3, 4, 1, 2, 3, 4, 1, 2, 3, 4, 1, 2, 3, 4, 1, 2, 3, 4, 1, 2, 3, 4, 1, 2, 4, 1, 2, 3, 4, 1, 2, 3, 4, 1, 2, 3, 4, 1, 2, 3, 4, 1, 2, 3, 4, 1, 2, 3, 4, 1, 2, 4, 1, 2, 3, 4, 1, 2, 3, 4, 1, 2, 3, 4, 1, 2, 3, 4, 1, 2, 3, 4, 1, 2, 3, 4, 1, 2, 3, 4, 1, 2, 3, 4, 1, 2, 3, 4, 1, 2, 3, 4, 1, 2, 3, 4, 1, 2, 3, 4, 1, 2, 3, 4, 1, 2, 3, 4, 1, 2, 3, 4, 1, 2, 3, 4, 1, 2, 3, 4, 1, 2, 3, 4, 1, 2, 3, 4, 1, 2, 3, 4, 1, 2, 3, 4, 1, 2, 3, 4, 1, 2, 3, 4, 1, 2, 3, 4, 1, 2, 3, 4, 1, 2, 3, 4, 1, 2, 3, 4, 1, 2, 3, 4, 1, 2, 3, 4, 1, 2, 3, 4, 1, 2, 3, 4, 1, 2, 3, 4, 1, 2, 3, 4, 1, 2, 3, 4, 1, 2, 3, 4, 1, 2, 3, 4, 1, 2, 3, 4, 1, 2, 3, 4, 1, 3, 4, 1, 2, 3, 4, 1, 2, 3, 4, 1, 2, 3, 4, 1, 2, 3, 4, 1, 2, 3, 4, 1, 2, 3, 4, 1, 2, 3, 4, 1, 2, 3, 4, 1, 2, 4, 1, 2, 3, 4, 1, 2, 3, 4, 1, 2, 3, 4, 1, 2, 3, 4, 1, 2, 3, 4, 1, 2, 3, 4, 1, 2, 3, 4, 1, 2, 3, 4, 1, 2, 3, 4, 1, 2, 3, 4, 1, 3, 4, 1, 2, 3, 4, 1, 2, 3, 4, 1, 2, 3, 4, 1, 2, 3, 4, 1, 2, 3, 4, 1, 2, 3, 4, 1, 2, 3, 4, 1, 2, 3, 4, 1, 2, 3, 4, 1, 2, 3, 4, 1, 2, 3, 4, 1, 2, 3, 4, 1, 2, 4, 1, 2, 3, 4, 1, 2, 3, 4, 1, 2, 3, 4, 1, 2, 3, 4, 1, 2, 3, 4, 1, 2, 3, 4, 1, 2, 3, 4, 1, 2, 3, 4, 1, 2, 3, 4, 1, 2, 3, 4, 1, 2, 3, 4, 1, 2, 3, 4, 1, 2, 3, 4, 1, 2, 3, 4, 1, 2, 3, 4, 1, 2, 3, 4, 1, 2, 3, 4, 1, 2, 3, 4, 1, 2, 3, 4, 1, 2, 3, 4, 1, 2, 3, 4, 1, 2, 3, 4, 1, 2, 3, 4, 1, 2, 4, 1, 2, 4, 1, 2, 3, 4, 1, 2, 3, 4, 1, 2, 3, 4, 1, 2, 3, 4, 1, 2, 3, 4, 1, 3, 1, 2, 3, 4, 1, 2, 3, 4, 1, 2, 3, 4, 1, 3, 1, 2, 3, 4, 1, 2, 3, 4, 1, 2, 3, 4, 1, 2, 3, 4, 1, 2, 3, 4, 1, 2, 3, 4, 1, 2, 4, 1, 2, 3, 4, 1, 2, 4, 1, 2, 3, 4, 1, 2, 3, 4, 1, 2, 3, 4, 1, 2, 3, 4, 1, 2, 3, 4, 1, 2, 3, 4, 1, 2, 3, 4, 1, 2, 3, 4, 1, 2, 3, 4, 1, 2, 3, 4, 1, 2, 3, 4, 1, 2, 3, 4, 1, 2, 3, 4, 1, 2, 3, 4, 1, 2, 3, 4, 1, 2, 3, 4, 1, 2, 3, 4, 1, 2, 3, 4, 1, 2, 3, 4, 1, 2, 3, 4, 1, 2, 3, 4, 1, 2, 3, 4, 1, 2, 3, 4, 1, 2, 3, 4, 1, 2, 3, 4, 1, 2, 3, 4, 1, 2, 3, 4, 1, 2, 3, 4, 1, 2, 3, 4, 1, 2, 3, 4, 1, 2, 3, 4, 1, 2, 3, 4, 1, 2, 3, 4, 1, 2, 3, 4, 1, 2, 3, 4, 1, 2, 3, 4, 1, 2, 3, 4, 1, 2, 3, 4, 1, 2, 3, 4, 1, 2, 3, 4, 1, 2, 3, 4, 1, 2, 3, 4, 1, 2, 3, 4], \"Freq\": [0.012267949610897213, 0.024535899221794426, 0.9691680192608798, 0.012267949610897213, 0.9827172646469631, 0.009729873907395674, 0.009729873907395674, 0.009729873907395674, 0.12217854891046998, 0.16076124856640786, 0.7137799436348509, 0.0064304499426563145, 0.008782963473426594, 0.7465518952412604, 0.24153149551923134, 0.004391481736713297, 0.006549306049222008, 0.006549306049222008, 0.9889452134325233, 0.026163198990154072, 0.32049918762938734, 0.6475391750063132, 0.006540799747538518, 0.004572104847755417, 0.98757464711517, 0.009144209695510833, 0.004572104847755417, 0.9804831953760241, 0.011141854492909366, 0.011141854492909366, 0.011141854492909366, 0.01145042277327735, 0.9847363585018521, 0.01145042277327735, 0.01145042277327735, 0.0066829686129638655, 0.19380608977595212, 0.8019562335556639, 0.0066829686129638655, 0.004751900720783334, 0.9693877470398001, 0.023759503603916668, 0.004751900720783334, 0.006114188136531979, 0.9904984781181805, 0.006114188136531979, 0.006114188136531979, 0.011311185317692212, 0.011311185317692212, 0.9840731226392224, 0.011311185317692212, 0.004981115623321341, 0.8069407309780573, 0.18928239368621097, 0.004981115623321341, 0.9082213258255112, 0.002735606403088889, 0.04650530885251111, 0.04376970244942222, 0.010048582387449267, 0.9747124915825789, 0.005024291193724634, 0.005024291193724634, 0.010185512583110703, 0.010185512583110703, 0.010185512583110703, 0.9778092079786275, 0.004505662996287916, 0.004505662996287916, 0.004505662996287916, 0.9912458591833414, 0.22611036796808295, 0.006650304940237734, 0.7647850681273394, 0.006650304940237734, 0.017546167942136443, 0.017546167942136443, 0.9650392368175044, 0.005504312076587746, 0.1321034898381059, 0.8641769960242761, 0.005504312076587746, 0.015909806991587037, 0.015909806991587037, 0.9704982264868092, 0.015909806991587037, 0.012751298982249085, 0.012751298982249085, 0.9818500216331796, 0.012751298982249085, 0.032481175580193276, 0.016240587790096638, 0.016240587790096638, 0.941954091825605, 0.1435080151874952, 0.32013326464902775, 0.005519539045672893, 0.5243562093389248, 0.012464412135392877, 0.9722241465606444, 0.012464412135392877, 0.012464412135392877, 0.012453577971773329, 0.012453577971773329, 0.9713790817983197, 0.012453577971773329, 0.9937288433935607, 0.0032369017700115987, 0.0032369017700115987, 0.0032369017700115987, 0.9829177767522842, 0.0026855676960444923, 0.013427838480222462, 0.0026855676960444923, 0.706362473754815, 0.008829530921935187, 0.2796018125279476, 0.0029431769739783954, 0.018240235399066627, 0.018240235399066627, 0.018240235399066627, 0.9667324761505313, 0.9897124096172015, 0.007224178172388332, 0.007224178172388332, 0.014707490688056737, 0.014707490688056737, 0.9706943854117446, 0.014707490688056737, 0.9809370182196876, 0.0074313410471188454, 0.0074313410471188454, 0.0074313410471188454, 0.013961116446851333, 0.013961116446851333, 0.9772781512795933, 0.013961116446851333, 0.004345543255308017, 0.004345543255308017, 0.8777997375722195, 0.11732966789331647, 0.009456195396034095, 0.009456195396034095, 0.01891239079206819, 0.9645319303954777, 0.012141741056513708, 0.012141741056513708, 0.012141741056513708, 0.9834810255776103, 0.987288136873378, 0.009141556822901648, 0.009141556822901648, 0.9917648104672033, 0.006611765403114689, 0.006611765403114689, 0.006611765403114689, 0.015266267568474491, 0.015266267568474491, 0.015266267568474491, 0.9770411243823675, 0.9924219684225412, 0.005907273621562745, 0.005907273621562745, 0.005907273621562745, 0.01494950133466389, 0.9717175867531529, 0.01494950133466389, 0.01494950133466389, 0.009758903265799541, 0.009758903265799541, 0.26349038817658765, 0.7221588416691661, 0.021215965147849705, 0.021215965147849705, 0.021215965147849705, 0.9547184316532367, 0.012929169833885657, 0.012929169833885657, 0.9826169073753099, 0.012929169833885657, 0.009625336609667216, 0.009625336609667216, 0.9817843341860562, 0.009625336609667216, 0.9802497284229329, 0.00924763894738616, 0.00924763894738616, 0.00924763894738616, 0.9839172229690841, 0.011713300273441477, 0.011713300273441477, 0.011713300273441477, 0.9709601199036354, 0.006430199469560499, 0.012860398939120998, 0.012860398939120998, 0.9864582594253203, 0.008019985848986343, 0.008019985848986343, 0.008019985848986343, 0.9895936647036087, 0.00512742831452647, 0.00512742831452647, 0.00512742831452647, 0.015147965745317838, 0.33325524639699244, 0.16157830128339026, 0.48978422576527675, 0.016014850988056793, 0.016014850988056793, 0.9769059102714642, 0.016014850988056793, 0.9603250964733382, 0.016276696550395563, 0.005425565516798521, 0.021702262067194084, 0.9857102725262941, 0.008013904654685317, 0.008013904654685317, 0.008013904654685317, 0.01477551305175479, 0.01477551305175479, 0.9751838614158161, 0.01477551305175479, 0.014754785614775922, 0.014754785614775922, 0.014754785614775922, 0.959061064960435, 0.3995159413307156, 0.008153386557769706, 0.008153386557769706, 0.5870438321594189, 0.014558587010261243, 0.014558587010261243, 0.014558587010261243, 0.9754253296875033, 0.020211945090022384, 0.020211945090022384, 0.020211945090022384, 0.9701733643210744, 0.013062723291745562, 0.013062723291745562, 0.9797042468809171, 0.013062723291745562, 0.9755268422227303, 0.009658681606165648, 0.009658681606165648, 0.009658681606165648, 0.8183304288879776, 0.009515470103348576, 0.16652072680860008, 0.004757735051674288, 0.982555680025327, 0.011165405454833261, 0.011165405454833261, 0.011165405454833261, 0.01190153879048009, 0.9759261808193674, 0.01190153879048009, 0.01190153879048009, 0.0033340781305634297, 0.9935552829079021, 0.0033340781305634297, 0.0033340781305634297, 0.01919342610300172, 0.01919342610300172, 0.01919342610300172, 0.9788647312530878, 0.9826450073940093, 0.007444280359045524, 0.007444280359045524, 0.007444280359045524, 0.011498390918792087, 0.011498390918792087, 0.9773632280973275, 0.011498390918792087, 0.013406659263504568, 0.9786861262358335, 0.013406659263504568, 0.013406659263504568, 0.010142614127644639, 0.9838335703815301, 0.010142614127644639, 0.010142614127644639, 0.001389417126893096, 0.997601497109243, 0.001389417126893096, 0.001389417126893096, 0.960675538550215, 0.007169220436941903, 0.007169220436941903, 0.028676881747767613, 0.9883243843586057, 0.008746233489899165, 0.008746233489899165, 0.008746233489899165, 0.00657287462541013, 0.00657287462541013, 0.9859311938115195, 0.00657287462541013, 0.9781872628350683, 0.01287088503730353, 0.01287088503730353, 0.01287088503730353, 0.020026452146688696, 0.9612697030410575, 0.020026452146688696, 0.00443844086491514, 0.11096102162287849, 0.8388653234689614, 0.0443844086491514, 0.017000954588206007, 0.017000954588206007, 0.017000954588206007, 0.9690544115277424, 0.009340431110832648, 0.009340431110832648, 0.9807452666374281, 0.009340431110832648, 0.0173662317896776, 0.0173662317896776, 0.0173662317896776, 0.955142748432268, 0.003816356158766796, 0.618249697720221, 0.3778192597179128, 0.003816356158766796, 0.022295454272038905, 0.8344870027534561, 0.12740259584022232, 0.01592532448002779, 0.010556769998112284, 0.9712228398263302, 0.010556769998112284, 0.010556769998112284, 0.017494697265990167, 0.017494697265990167, 0.017494697265990167, 0.9797030468954493, 0.023694616687759067, 0.023694616687759067, 0.9714792841981218, 0.018678257835559896, 0.018678257835559896, 0.018678257835559896, 0.9712694074491147, 0.06971652327467971, 0.6884506673374621, 0.0029048551364449877, 0.241102976324934, 0.004989551059521637, 0.5987461271425965, 0.004989551059521637, 0.3941745337022093, 0.0073265009447603625, 0.0073265009447603625, 0.9890776275426489, 0.0073265009447603625, 0.044459007416177226, 0.014819669138725742, 0.014819669138725742, 0.9484588248784475, 0.004769110614081188, 0.9919750077288871, 0.004769110614081188, 0.004769110614081188, 0.0028625307212484913, 0.996160690994475, 0.0028625307212484913, 0.0028625307212484913, 0.0063421459431549036, 0.9830326211890101, 0.0063421459431549036, 0.0063421459431549036, 0.2786757664022641, 0.7111036797850877, 0.009609509186284969, 0.004804754593142484, 0.014951079867290853, 0.9718201913739054, 0.014951079867290853, 0.014951079867290853, 0.015258977098400912, 0.9765745342976584, 0.015258977098400912, 0.010029912637454036, 0.9729015258330415, 0.010029912637454036, 0.010029912637454036, 0.002394636029750269, 0.24904214709402797, 0.471743297860803, 0.27538314342128095, 0.018368959669399446, 0.018368959669399446, 0.9735548624781706, 0.018368959669399446, 0.027434552162208893, 0.013717276081104447, 0.013717276081104447, 0.9602093256773112, 0.17426123543747082, 0.2396091987265224, 0.10891327214841927, 0.4792183974530448, 0.015506805575863043, 0.007753402787931522, 0.007753402787931522, 0.9691753484914403, 0.01952725962654501, 0.01952725962654501, 0.01952725962654501, 0.9568357217007055, 0.007681467903009598, 0.007681467903009598, 0.9832278915852285, 0.007681467903009598, 0.007325777698552193, 0.9889799893045461, 0.007325777698552193, 0.007325777698552193, 0.007101203087916619, 0.7704805350389531, 0.22013729572541518, 0.0035506015439583094, 0.01601499177269411, 0.9769144981343407, 0.01601499177269411, 0.01601499177269411, 0.0015490754434561687, 0.48331153835832463, 0.013941678991105518, 0.5019004436797986, 0.9794599357178789, 0.012243249196473486, 0.012243249196473486, 0.9348565119639446, 0.0013870274658218764, 0.06102920849616256, 0.002774054931643753, 0.005632609532140618, 0.005632609532140618, 0.8392588202889522, 0.1520804573677967, 0.017385164721369938, 0.008692582360684969, 0.9735692243967166, 0.008692582360684969, 0.005471783373642735, 0.001823927791214245, 0.001823927791214245, 0.9922167184205493, 0.15993043481215366, 0.00940767263600904, 0.14111508954013557, 0.6961677750646689, 0.01096856327681006, 0.01096856327681006, 0.054842816384050294, 0.932327878528855, 0.9755879954111831, 0.007018618672022901, 0.007018618672022901, 0.007018618672022901, 0.45076067701191586, 0.16587992914038505, 0.014424341664381307, 0.3714267978578187, 0.9013632106900994, 0.004898713101576627, 0.07837940962522603, 0.01469613930472988, 0.5126856372830897, 0.003440843203242213, 0.003440843203242213, 0.4817180484539098, 0.00874322345949907, 0.122405128432987, 0.00874322345949907, 0.865579122490408, 0.33159962229223905, 0.2727174463711873, 0.29750994149584065, 0.09607091860803188, 0.008451413269207519, 0.9803639392280723, 0.008451413269207519, 0.008451413269207519, 0.016527998104501344, 0.016527998104501344, 0.016527998104501344, 0.9751518881655793, 0.013248525011527604, 0.013248525011527604, 0.9803908508530427, 0.013248525011527604, 0.01576703796023092, 0.01576703796023092, 0.01576703796023092, 0.961789315574086, 0.017764555037854637, 0.017764555037854637, 0.977050527082005, 0.017764555037854637, 0.03137667153775216, 0.3372992190308357, 0.42358506575965416, 0.20787044893760806, 0.013851662850543163, 0.013851662850543163, 0.013851662850543163, 0.9696163995380214, 0.01086932232983317, 0.01086932232983317, 0.9782390096849852, 0.01086932232983317, 0.7170270133476686, 0.24799430536836659, 0.01617354165445869, 0.021564722205944922, 0.9235277608380059, 0.004461486767333362, 0.008922973534666725, 0.06246081474266707, 0.011787102823410507, 0.023574205646821014, 0.9547553286962511, 0.011787102823410507, 0.017795736888942003, 0.017795736888942003, 0.9787655288918101, 0.9939750002758116, 0.0048964285727872495, 0.0048964285727872495, 0.008466404754625125, 0.008466404754625125, 0.9821029515365145, 0.008466404754625125, 0.9872704976675821, 0.007102665450845915, 0.007102665450845915, 0.007102665450845915, 0.015797836099990508, 0.015797836099990508, 0.9794658381994114, 0.015797836099990508, 0.009566752734060753, 0.03826701093624301, 0.9566752734060752, 0.009566752734060753, 0.003841049662904404, 0.003841049662904404, 0.8719182734792997, 0.12291358921294093, 0.019197735878036835, 0.9790845297798785, 0.019422764722461423, 0.019422764722461423, 0.019422764722461423, 0.971138236123071, 0.013857550996862294, 0.013857550996862294, 0.9561710187834983, 0.013857550996862294, 0.012871402558032036, 0.0042904675193440114, 0.9138695816202745, 0.0729379478288482, 0.01500442510942031, 0.9752876321123201, 0.511367323712453, 0.0024350824938688233, 0.48458141627989587, 0.0024350824938688233, 0.007463691351788737, 0.9031066535664372, 0.014927382703577474, 0.0821006048696761, 0.008938733207456164, 0.026816199622368492, 0.9564444531978096, 0.008938733207456164, 0.0033761791582556863, 0.9925966725271718, 0.0033761791582556863, 0.0033761791582556863, 0.9906823075757738, 0.0056288767475896236, 0.0056288767475896236, 0.0056288767475896236, 0.1896156857695931, 0.09193487794889363, 0.11491859743611703, 0.6033226365396144, 0.015902018433998317, 0.015902018433998317, 0.9700231244738973, 0.3523776628782133, 0.3599556771336588, 0.003789007127722724, 0.28796454170692704, 0.012106504806311192, 0.9806268893112065, 0.012106504806311192, 0.026261642676337127, 0.008753880892112376, 0.008753880892112376, 0.9629268981323613, 0.2959168381221143, 0.15617833123111588, 0.11507877038082222, 0.43154538892808336, 0.9840083911267969, 0.007748097567927535, 0.007748097567927535, 0.007748097567927535, 0.98675637398752, 0.01147391132543628, 0.01147391132543628, 0.01147391132543628, 0.002411100257637495, 0.4364091466323866, 0.5593752597718988, 0.002411100257637495, 0.017465663971462132, 0.017465663971462132, 0.9606115184304173, 0.017465663971462132, 0.5022676962647049, 0.0036396209874253976, 0.0036396209874253976, 0.4913488333024287, 0.008665901320461323, 0.008665901320461323, 0.9359173426098227, 0.05199540792276793, 0.013358386259477788, 0.9751621969418786, 0.013358386259477788, 0.013358386259477788, 0.01794733894998188, 0.9691563032990215, 0.01794733894998188, 0.01794733894998188, 0.008349697501371616, 0.9852643051618507, 0.008349697501371616, 0.008349697501371616, 0.010762788072926065, 0.979413714636272, 0.010762788072926065, 0.010762788072926065, 0.0103874289964239, 0.0103874289964239, 0.0103874289964239, 0.9764183256638468, 0.005957785745911119, 0.9889924338212457, 0.005957785745911119, 0.005957785745911119, 0.005754538899903149, 0.8919535294849882, 0.09782716129835355, 0.005754538899903149, 0.009127819876528276, 0.9675489069119972, 0.01825563975305655, 0.009127819876528276, 0.0085472705300296, 0.9829361109534039, 0.0085472705300296, 0.0085472705300296, 0.008358765386359003, 0.9863343155903623, 0.008358765386359003, 0.008358765386359003, 0.013063523919273037, 0.013063523919273037, 0.9536372461069317, 0.026127047838546073, 0.5104424586465087, 0.062428214366839194, 0.2864353365066739, 0.13954542034940526, 0.004399298787266812, 0.9898422271350327, 0.004399298787266812, 0.004399298787266812, 0.9901376037906138, 0.00462681123266642, 0.00462681123266642, 0.00462681123266642, 0.014835338827779126, 0.014835338827779126, 0.014835338827779126, 0.9791323626334224, 0.9640580403051774, 0.02022499385255617, 0.006741664617518723, 0.006741664617518723, 0.06456252871861742, 0.004611609194186959, 0.05533931033024351, 0.8715941377013352, 0.011691201385711966, 0.9703697150140932, 0.011691201385711966, 0.011691201385711966, 0.009223516806471248, 0.009223516806471248, 0.9223516806471248, 0.06456461764529874, 0.013866136771280452, 0.9706295739896317, 0.013866136771280452, 0.013866136771280452, 0.9812043508625033, 0.005671701450072274, 0.005671701450072274, 0.011343402900144548, 0.010899922266090684, 0.010899922266090684, 0.021799844532181367, 0.9591931594159802, 0.008549660930965795, 0.1795428795502817, 0.8036681275107848, 0.008549660930965795, 0.0025899699023650487, 0.04402948834020583, 0.9505189541679728, 0.0025899699023650487, 0.015154622787768616, 0.909277367266117, 0.07577311393884308, 0.005051540929256205, 0.002564738457429959, 0.6565730451020695, 0.08720110755261862, 0.2564738457429959, 0.28561946030608937, 0.00984894690710653, 0.00984894690710653, 0.6992752304045636, 0.9832105561926541, 0.011301270760835104, 0.011301270760835104, 0.011301270760835104, 0.9859816298793023, 0.0074695578021159266, 0.0074695578021159266, 0.0074695578021159266, 0.03079265040681245, 0.015396325203406225, 0.015396325203406225, 0.9545721626111859, 0.9739625567322173, 0.013433966299754721, 0.006716983149877361, 0.006716983149877361, 0.01600225078797003, 0.01600225078797003, 0.01600225078797003, 0.9761372980661718, 0.016971465419470814, 0.016971465419470814, 0.016971465419470814, 0.9673735289098365, 0.9942940209680375, 0.0029243941793177576, 0.0029243941793177576, 0.0029243941793177576, 0.004661918204232902, 0.004661918204232902, 0.009323836408465805, 0.9836647410931425], \"Term\": [\"10 15\", \"10 15\", \"10 15\", \"10 15\", \"10 day\", \"10 day\", \"10 day\", \"10 day\", \"10 min\", \"10 min\", \"10 min\", \"10 min\", \"10 minute\", \"10 minute\", \"10 minute\", \"10 minute\", \"15 min\", \"15 min\", \"15 min\", \"15 minute\", \"15 minute\", \"15 minute\", \"15 minute\", \"20 minute\", \"20 minute\", \"20 minute\", \"20 minute\", \"24 hour\", \"24 hour\", \"24 hour\", \"24 hour\", \"25 minute\", \"25 minute\", \"25 minute\", \"25 minute\", \"30 min\", \"30 min\", \"30 min\", \"30 min\", \"30 minute\", \"30 minute\", \"30 minute\", \"30 minute\", \"40 minute\", \"40 minute\", \"40 minute\", \"40 minute\", \"45 min\", \"45 min\", \"45 min\", \"45 min\", \"45 minute\", \"45 minute\", \"45 minute\", \"45 minute\", \"48 hour\", \"48 hour\", \"48 hour\", \"48 hour\", \"absolute joke\", \"absolute joke\", \"absolute joke\", \"absolute joke\", \"absolutely appalling\", \"absolutely appalling\", \"absolutely appalling\", \"absolutely appalling\", \"absolutely disgusting\", \"absolutely disgusting\", \"absolutely disgusting\", \"absolutely disgusting\", \"app said\", \"app said\", \"app said\", \"app said\", \"app showing\", \"app showing\", \"app showing\", \"arrived cold\", \"arrived cold\", \"arrived cold\", \"arrived cold\", \"arrived stone\", \"arrived stone\", \"arrived stone\", \"arrived stone\", \"arrives cold\", \"arrives cold\", \"arrives cold\", \"arrives cold\", \"avoid avoid\", \"avoid avoid\", \"avoid avoid\", \"avoid avoid\", \"avoid cost\", \"avoid cost\", \"avoid cost\", \"avoid cost\", \"avoid like\", \"avoid like\", \"avoid like\", \"avoid like\", \"bad app\", \"bad app\", \"bad app\", \"bad app\", \"bad company\", \"bad company\", \"bad company\", \"bad company\", \"bad ever\", \"bad ever\", \"bad ever\", \"bad ever\", \"bad experience\", \"bad experience\", \"bad experience\", \"bad experience\", \"bad ordered\", \"bad ordered\", \"bad ordered\", \"bad ordered\", \"bank account\", \"bank account\", \"bank account\", \"burger king\", \"burger king\", \"burger king\", \"burger king\", \"call back\", \"call back\", \"call back\", \"call back\", \"called eat\", \"called eat\", \"called eat\", \"called eat\", \"called restaurant\", \"called restaurant\", \"called restaurant\", \"called restaurant\", \"care customer\", \"care customer\", \"care customer\", \"care customer\", \"charge fee\", \"charge fee\", \"charge fee\", \"charge fee\", \"charged full\", \"charged full\", \"charged full\", \"charged twice\", \"charged twice\", \"charged twice\", \"charged twice\", \"chat option\", \"chat option\", \"chat option\", \"chat option\", \"company ever\", \"company ever\", \"company ever\", \"company ever\", \"company go\", \"company go\", \"company go\", \"company go\", \"contact restaurant\", \"contact restaurant\", \"contact restaurant\", \"contact restaurant\", \"contact via\", \"contact via\", \"contact via\", \"contact via\", \"contacted eat\", \"contacted eat\", \"contacted eat\", \"contacted eat\", \"contacted restaurant\", \"contacted restaurant\", \"contacted restaurant\", \"contacted restaurant\", \"copy paste\", \"copy paste\", \"copy paste\", \"copy paste\", \"correct address\", \"correct address\", \"correct address\", \"correct address\", \"credit card\", \"credit card\", \"credit card\", \"credit card\", \"day ago\", \"day ago\", \"day ago\", \"day ago\", \"day late\", \"day late\", \"day late\", \"day late\", \"deleted app\", \"deleted app\", \"deleted app\", \"deleted app\", \"delivered contacted\", \"delivered contacted\", \"delivered contacted\", \"delivered contacted\", \"delivered wrong\", \"delivered wrong\", \"delivered wrong\", \"delivered wrong\", \"discount code\", \"discount code\", \"discount code\", \"discount code\", \"driver take\", \"driver take\", \"driver take\", \"driver take\", \"eat account\", \"eat account\", \"eat account\", \"eat account\", \"eat app\", \"eat app\", \"eat app\", \"eat app\", \"eat never\", \"eat never\", \"eat never\", \"eat never\", \"eat restaurant\", \"eat restaurant\", \"eat restaurant\", \"eat restaurant\", \"eat told\", \"eat told\", \"eat told\", \"eat told\", \"email address\", \"email address\", \"email address\", \"email address\", \"email saying\", \"email saying\", \"email saying\", \"email saying\", \"email sent\", \"email sent\", \"email sent\", \"email sent\", \"every single\", \"every single\", \"every single\", \"every single\", \"every time\", \"every time\", \"every time\", \"every time\", \"everyone else\", \"everyone else\", \"everyone else\", \"everyone else\", \"experience ever\", \"experience ever\", \"experience ever\", \"experience ever\", \"finally arrived\", \"finally arrived\", \"finally arrived\", \"finally arrived\", \"find house\", \"find house\", \"find house\", \"find house\", \"first last\", \"first last\", \"first last\", \"first last\", \"first time\", \"first time\", \"first time\", \"first time\", \"full amount\", \"full amount\", \"full amount\", \"full amount\", \"full price\", \"full price\", \"full price\", \"full price\", \"go wrong\", \"go wrong\", \"go wrong\", \"go wrong\", \"got charged\", \"got charged\", \"got charged\", \"got charged\", \"got chat\", \"got chat\", \"got chat\", \"half hour\", \"half hour\", \"half hour\", \"half hour\", \"horrible company\", \"horrible company\", \"horrible company\", \"horrible company\", \"hour ago\", \"hour ago\", \"hour ago\", \"hour ago\", \"hour cancelled\", \"hour cancelled\", \"hour cancelled\", \"hour cancelled\", \"hour half\", \"hour half\", \"hour half\", \"hour half\", \"hour late\", \"hour late\", \"hour late\", \"hour late\", \"hour still\", \"hour still\", \"hour still\", \"hour still\", \"impossible contact\", \"impossible contact\", \"impossible contact\", \"impossible contact\", \"issue arise\", \"issue arise\", \"issue arise\", \"issue resolved\", \"issue resolved\", \"issue resolved\", \"issue resolved\", \"item missing\", \"item missing\", \"item missing\", \"item missing\", \"joke company\", \"joke company\", \"joke company\", \"joke company\", \"just eat\", \"just eat\", \"just eat\", \"just eat\", \"keep getting\", \"keep getting\", \"keep getting\", \"keep getting\", \"last night\", \"last night\", \"last night\", \"last night\", \"last time\", \"last time\", \"last time\", \"last time\", \"late cold\", \"late cold\", \"late cold\", \"late cold\", \"late still\", \"late still\", \"late still\", \"late still\", \"late time\", \"late time\", \"late time\", \"late time\", \"left chat\", \"left chat\", \"left chat\", \"like plague\", \"like plague\", \"like plague\", \"like plague\", \"live chat\", \"live chat\", \"live chat\", \"live chat\", \"long story\", \"long story\", \"long story\", \"long story\", \"made complaint\", \"made complaint\", \"made complaint\", \"made complaint\", \"many time\", \"many time\", \"many time\", \"many time\", \"marked delivered\", \"marked delivered\", \"marked delivered\", \"marked delivered\", \"meal ordered\", \"meal ordered\", \"meal ordered\", \"meal ordered\", \"min late\", \"min late\", \"min late\", \"min late\", \"minute away\", \"minute away\", \"minute away\", \"minute away\", \"minute late\", \"minute late\", \"minute late\", \"minute late\", \"minute time\", \"minute time\", \"minute time\", \"minute time\", \"missing item\", \"missing item\", \"missing item\", \"missing item\", \"money account\", \"money account\", \"money account\", \"money back\", \"money back\", \"money back\", \"money back\", \"much good\", \"much good\", \"much good\", \"much good\", \"nearly hour\", \"nearly hour\", \"nearly hour\", \"nearly hour\", \"never arrived\", \"never arrived\", \"never arrived\", \"never arrived\", \"never came\", \"never came\", \"never came\", \"never came\", \"never eat\", \"never eat\", \"never eat\", \"never eat\", \"never eats\", \"never eats\", \"never eats\", \"never eats\", \"never ever\", \"never ever\", \"never ever\", \"never ever\", \"never got\", \"never got\", \"never got\", \"never got\", \"never received\", \"never received\", \"never received\", \"never received\", \"never turned\", \"never turned\", \"never turned\", \"never turned\", \"never using\", \"never using\", \"never using\", \"never using\", \"one hour\", \"one hour\", \"one hour\", \"one hour\", \"option available\", \"option available\", \"option available\", \"option available\", \"option cancel\", \"option cancel\", \"option cancel\", \"option cancel\", \"order missing\", \"order missing\", \"order missing\", \"order missing\", \"ordered burger\", \"ordered burger\", \"ordered burger\", \"ordered burger\", \"ordered kfc\", \"ordered kfc\", \"ordered kfc\", \"ordered kfc\", \"ordered never\", \"ordered never\", \"ordered never\", \"ordered never\", \"ordered pizza\", \"ordered pizza\", \"ordered pizza\", \"ordered pizza\", \"phone call\", \"phone call\", \"phone call\", \"phone call\", \"phone number\", \"phone number\", \"phone number\", \"phone number\", \"phoned restaurant\", \"phoned restaurant\", \"phoned restaurant\", \"phoned restaurant\", \"problem like\", \"problem like\", \"problem like\", \"promo code\", \"promo code\", \"promo code\", \"really bad\", \"really bad\", \"really bad\", \"really bad\", \"received email\", \"received email\", \"received email\", \"received email\", \"restaurant called\", \"restaurant called\", \"restaurant called\", \"restaurant called\", \"restaurant closed\", \"restaurant closed\", \"restaurant closed\", \"restaurant closed\", \"restaurant said\", \"restaurant said\", \"restaurant said\", \"restaurant said\", \"ring eat\", \"ring eat\", \"round circle\", \"round circle\", \"round circle\", \"round circle\", \"rubbish company\", \"rubbish company\", \"rubbish company\", \"rubbish company\", \"said delivered\", \"said delivered\", \"said delivered\", \"said delivered\", \"said never\", \"said never\", \"said would\", \"said would\", \"said would\", \"said would\", \"say delivered\", \"say delivered\", \"say delivered\", \"say delivered\", \"saying cancelled\", \"saying cancelled\", \"saying cancelled\", \"saying cancelled\", \"second time\", \"second time\", \"second time\", \"second time\", \"sent email\", \"sent email\", \"sent email\", \"sent email\", \"several time\", \"several time\", \"several time\", \"several time\", \"solve problem\", \"solve problem\", \"solve problem\", \"someone else\", \"someone else\", \"someone else\", \"someone else\", \"something missing\", \"something missing\", \"something missing\", \"speak anyone\", \"speak anyone\", \"speak anyone\", \"speak anyone\", \"star would\", \"star would\", \"star would\", \"star would\", \"still charged\", \"still charged\", \"still charged\", \"still charged\", \"stole money\", \"stole money\", \"stole money\", \"stole money\", \"stone cold\", \"stone cold\", \"stone cold\", \"stone cold\", \"story short\", \"story short\", \"story short\", \"story short\", \"take money\", \"take money\", \"take money\", \"take money\", \"take responsibility\", \"take responsibility\", \"take responsibility\", \"take responsibility\", \"three time\", \"three time\", \"three time\", \"three time\", \"time change\", \"time change\", \"time change\", \"time change\", \"time eat\", \"time eat\", \"time eat\", \"time eat\", \"time happened\", \"time happened\", \"time happened\", \"time happened\", \"time money\", \"time money\", \"time money\", \"time money\", \"time never\", \"time never\", \"time never\", \"time never\", \"time ordered\", \"time ordered\", \"time ordered\", \"time ordered\", \"time time\", \"time time\", \"time time\", \"time time\", \"time used\", \"time used\", \"time used\", \"time used\", \"time using\", \"time using\", \"time using\", \"time using\", \"told restaurant\", \"told restaurant\", \"told restaurant\", \"told restaurant\", \"told would\", \"told would\", \"told would\", \"told would\", \"took hour\", \"took hour\", \"took hour\", \"took hour\", \"took money\", \"took money\", \"took money\", \"took money\", \"treat customer\", \"treat customer\", \"treat customer\", \"treat customer\", \"tried call\", \"tried call\", \"tried call\", \"tried call\", \"two hour\", \"two hour\", \"two hour\", \"two hour\", \"used app\", \"used app\", \"used app\", \"used app\", \"using eat\", \"using eat\", \"using eat\", \"using eat\", \"using ubereats\", \"using ubereats\", \"using ubereats\", \"using ubereats\", \"via app\", \"via app\", \"via app\", \"via app\", \"via chat\", \"via chat\", \"via chat\", \"via chat\", \"wait another\", \"wait another\", \"wait another\", \"wait another\", \"waited hour\", \"waited hour\", \"waited hour\", \"waited hour\", \"waiting hour\", \"waiting hour\", \"waiting hour\", \"waiting hour\", \"waste time\", \"waste time\", \"waste time\", \"waste time\", \"way contacting\", \"way contacting\", \"way contacting\", \"way contacting\", \"went wrong\", \"went wrong\", \"went wrong\", \"went wrong\", \"working day\", \"working day\", \"working day\", \"working day\", \"would star\", \"would star\", \"would star\", \"would star\", \"would take\", \"would take\", \"would take\", \"would take\", \"would zero\", \"would zero\", \"would zero\", \"would zero\", \"write review\", \"write review\", \"write review\", \"write review\", \"wrong address\", \"wrong address\", \"wrong address\", \"wrong address\", \"zero star\", \"zero star\", \"zero star\", \"zero star\"]}, \"R\": 30, \"lambda.step\": 0.01, \"plot.opts\": {\"xlab\": \"PC1\", \"ylab\": \"PC2\"}, \"topic.order\": [3, 4, 1, 2]};\n",
       "\n",
       "function LDAvis_load_lib(url, callback){\n",
       "  var s = document.createElement('script');\n",
       "  s.src = url;\n",
       "  s.async = true;\n",
       "  s.onreadystatechange = s.onload = callback;\n",
       "  s.onerror = function(){console.warn(\"failed to load library \" + url);};\n",
       "  document.getElementsByTagName(\"head\")[0].appendChild(s);\n",
       "}\n",
       "\n",
       "if(typeof(LDAvis) !== \"undefined\"){\n",
       "   // already loaded: just create the visualization\n",
       "   !function(LDAvis){\n",
       "       new LDAvis(\"#\" + \"ldavis_el1761624319596750724377121101\", ldavis_el1761624319596750724377121101_data);\n",
       "   }(LDAvis);\n",
       "}else if(typeof define === \"function\" && define.amd){\n",
       "   // require.js is available: use it to load d3/LDAvis\n",
       "   require.config({paths: {d3: \"https://d3js.org/d3.v5\"}});\n",
       "   require([\"d3\"], function(d3){\n",
       "      window.d3 = d3;\n",
       "      LDAvis_load_lib(\"https://cdn.jsdelivr.net/gh/bmabey/pyLDAvis@3.2.2/pyLDAvis/js/ldavis.v3.0.0.js\", function(){\n",
       "        new LDAvis(\"#\" + \"ldavis_el1761624319596750724377121101\", ldavis_el1761624319596750724377121101_data);\n",
       "      });\n",
       "    });\n",
       "}else{\n",
       "    // require.js not available: dynamically load d3 & LDAvis\n",
       "    LDAvis_load_lib(\"https://d3js.org/d3.v5.js\", function(){\n",
       "         LDAvis_load_lib(\"https://cdn.jsdelivr.net/gh/bmabey/pyLDAvis@3.2.2/pyLDAvis/js/ldavis.v3.0.0.js\", function(){\n",
       "                 new LDAvis(\"#\" + \"ldavis_el1761624319596750724377121101\", ldavis_el1761624319596750724377121101_data);\n",
       "            })\n",
       "         });\n",
       "}\n",
       "</script>"
      ],
      "text/plain": [
       "<IPython.core.display.HTML object>"
      ]
     },
     "execution_count": 867,
     "metadata": {},
     "output_type": "execute_result"
    }
   ],
   "source": [
    "%matplotlib inline\n",
    "\n",
    "import pyLDAvis\n",
    "import pyLDAvis.gensim\n",
    "\n",
    "vis = pyLDAvis.gensim.prepare(topic_model=lda_model, corpus=corpus, dictionary=dictionary_LDA)\n",
    "pyLDAvis.enable_notebook()\n",
    "pyLDAvis.display(vis)"
   ]
  }
 ],
 "metadata": {
  "kernelspec": {
   "display_name": "Python 3",
   "language": "python",
   "name": "python3"
  },
  "language_info": {
   "codemirror_mode": {
    "name": "ipython",
    "version": 3
   },
   "file_extension": ".py",
   "mimetype": "text/x-python",
   "name": "python",
   "nbconvert_exporter": "python",
   "pygments_lexer": "ipython3",
   "version": "3.6.5"
  }
 },
 "nbformat": 4,
 "nbformat_minor": 2
}
