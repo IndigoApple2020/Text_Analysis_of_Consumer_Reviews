{
 "cells": [
  {
   "cell_type": "markdown",
   "metadata": {},
   "source": [
    "# Latent Dirichlet Allocation for Topic Modelling on Customer Reviews: The case of UK Delivery Companies \n",
    "\n",
    "**Author: Georgios Spyrou (https://github.com/gpsyrou)**\n",
    "\n",
    "_Last Update: 22/05/2021_\n",
    "\n",
    "<img src=\"../img/projectimage.png\" alt=\"Sentiment Picture\" width=\"820\" height=\"640\">\n",
    "\n",
    "### Sections\n",
    "- <a href=\"#project_idea\" style=\"text-decoration: none\"> Project Description</a>\n",
    "- <a href=\"#data_retrieval\" style=\"text-decoration: none\"> Web-Scrapping Tool and Data Retrieval</a>\n",
    "- <a href=\"#data_cleaning_eda\" style=\"text-decoration: none\"> Data Cleaning & Initial Exploratory Data Analysis (EDA)</a>\n",
    "    - <a href=\"#data_preprocessing\" style=\"text-decoration: none\"> Data Preprocessing </a>\n",
    "    - <a href=\"#eda\" style=\"text-decoration: none\"> Exploratory Data Analysis </a>\n",
    "- <a href=\"#lda\" style=\"text-decoration: none\"> Latent Dirichlet Allocation model </a>\n",
    "    - <a href=\"#bigrams_lda\" style=\"text-decoration: none\"> Compute bigrams as LDA input </a>"
   ]
  },
  {
   "cell_type": "markdown",
   "metadata": {},
   "source": [
    "<a id='project_idea'></a>\n",
    "### Introduction\n",
    "\n",
    "In this project we are going to explore the world of logistic companies and the issues that they might be facing. Specifically, we are going to focus on analyzing data regarding a few of the most well-known delivery companies in the UK, namely <a href=\"https://en.wikipedia.org/wiki/Deliveroo\" style=\"text-decoration:none\"> Deliveroo</a>, <a href=\"https://en.wikipedia.org/wiki/UberEats\" style=\"text-decoration:none\"> UberEats</a>, <a href=\"https://en.wikipedia.org/wiki/Just_Eat\" style=\"text-decoration:none\"> Just Eat</a> and <a href=\"https://stuart.com/\" style=\"text-decoration:none\"> Stuart</a>. To do that we are going to utilize the internet and the reviews that we can find in many different platforms, especially these platforms that are specializing at collecting reviews and opininions of customers for a plethora of companies and services. \n",
    "\n",
    "The first iteration of this project it's using the reviews that can be found in the famous consumer review website <a href=\"https://en.wikipedia.org/wiki/Trustpilot\" style=\"text-decoration:none\"> TrustPilot</a>. Even though the website is already providing some API functionalities, we are going to write our own web-scraping tool to retrieve the data in the format that we want. We will attempt to collect as many reviews as possible and then use them to identify interesting findings in the text. For example, we will try to identify what is the sentiment across all reviews for a specific company, what are the most common words and bigrams (i.e. pairs of words that tend to appear next to each other) in the reviews, and more. Finally, we will implement a <a href=\"https://en.wikipedia.org/wiki/Latent_Dirichlet_allocation\" style=\"text-decoration:none\"> Latent Dirichlet Allocation</a> model to try and identify what are the topics that these reviews correspond to.\n",
    "\n",
    "\n",
    "We are going to discuss the specifics in more depth as we are going through the different parts of the project. As a starting point of course, we need to collect the relevant reviews for the aforementioned group of delivery companies.\n",
    "\n",
    "<a id='data_retrieval'></a>\n",
    "### Web-Scrapping Tool and Data Retrieval\n",
    "\n",
    "In order to collect the reviews directly from the TrustPilot website, we have created a web-scrapping tool that allowed us to automate this process across different companies & their corresponding reviews. This tool is iterating across different pages of the website and collects the reviews and any other relevant information, with the output being stored in csv files. Moreover, we have packaged the tool into a python library. Hence, if you are thinking of working on a similar project where you need to retrieve data from TrustPilot, you can install the package that you can find <a href=\"https://github.com/gpsyrou/Text_Analysis_of_Consumer_Reviews/blob/main/trustplt.py\" style=\"text-decoration:none\">here</a>. As of May 2021, the package contains the main functionalities to collect many different information from the website, like the reviews, reviewer_id, date of the review, user rating, and more. \n",
    "\n",
    "For the first iteration of the project, we have built the aforementioned package with the functionality to retrieve the following information - which will also be the features in our dataset:\n",
    "\n",
    "1. **Company**: Name of the Company that we are examining (e.g. Deliveroo, UberEats, JustEat, Stuart)\n",
    "2. **Id**: The unique identifier for the Review\n",
    "3. **Reviewer_Id**: Unique id for a reviewer/user\n",
    "4. **Title**: Title of the review\n",
    "5. **Review**: The text corresponding to the review submitted from the reviewer\n",
    "6. **Date**: Day of review submission\n",
    "7. **Rating**: The rating about the company, as submitted from the reviewer\n",
    "\n",
    "Thus, after collecting the data and save them in a CSV format, we can by having a first look at the data and familiarize ourselves with the features. "
   ]
  },
  {
   "cell_type": "code",
   "execution_count": 12,
   "metadata": {},
   "outputs": [],
   "source": [
    "import os\n",
    "import string\n",
    "import numpy as np\n",
    "import pandas as pd\n",
    "from typing import List\n",
    "from collections import Counter\n",
    "\n",
    "import seaborn as sns\n",
    "sns.set_style('dark')\n",
    "\n",
    "import matplotlib.pyplot as plt\n",
    "from wordcloud import WordCloud\n",
    "\n",
    "from nltk import word_tokenize\n",
    "from nltk.util import ngrams\n",
    "from nltk.corpus import stopwords\n",
    "from nltk.collocations import BigramCollocationFinder\n",
    "from nltk.stem import WordNetLemmatizer, PorterStemmer\n",
    "\n",
    "from IPython.display import display, HTML\n",
    "\n",
    "project_dir = r'D:\\GitHub\\Projects\\Analysis_of_Delivery_Companies_Reviews'\n",
    "os.chdir(project_dir)\n",
    "\n",
    "from helpers.utilities import splitRatingsColumn, getRatingsMapping"
   ]
  },
  {
   "cell_type": "code",
   "execution_count": 13,
   "metadata": {},
   "outputs": [],
   "source": [
    "reviews_base_file = os.path.join(project_dir, 'reviews.csv')"
   ]
  },
  {
   "cell_type": "code",
   "execution_count": 14,
   "metadata": {},
   "outputs": [
    {
     "data": {
      "text/plain": [
       "{1: 'Bad', 2: 'Poor', 3: 'Average', 4: 'Great', 5: 'Excellent'}"
      ]
     },
     "execution_count": 14,
     "metadata": {},
     "output_type": "execute_result"
    }
   ],
   "source": [
    "col_names = ['Company', 'Id', 'Reviewer_Id', 'Title', 'Review', 'Date', 'Rating']\n",
    "\n",
    "ratings_dict = getRatingsMapping()\n",
    "ratings_dict"
   ]
  },
  {
   "cell_type": "code",
   "execution_count": 15,
   "metadata": {},
   "outputs": [],
   "source": [
    "reviews_df = pd.read_csv(reviews_base_file, sep=',')"
   ]
  },
  {
   "cell_type": "markdown",
   "metadata": {},
   "source": [
    "<a id='data_cleaning_eda'></a>\n",
    "### Data Cleaning & Exploratory Data Analysis\n",
    "\n",
    "Here we can have an initial look about the information contained in the dataset - Please note that each row in the dataset corresponds to a different _review_ :"
   ]
  },
  {
   "cell_type": "code",
   "execution_count": 16,
   "metadata": {},
   "outputs": [
    {
     "data": {
      "text/html": [
       "<div>\n",
       "<style scoped>\n",
       "    .dataframe tbody tr th:only-of-type {\n",
       "        vertical-align: middle;\n",
       "    }\n",
       "\n",
       "    .dataframe tbody tr th {\n",
       "        vertical-align: top;\n",
       "    }\n",
       "\n",
       "    .dataframe thead th {\n",
       "        text-align: right;\n",
       "    }\n",
       "</style>\n",
       "<table border=\"1\" class=\"dataframe\">\n",
       "  <thead>\n",
       "    <tr style=\"text-align: right;\">\n",
       "      <th></th>\n",
       "      <th>Company</th>\n",
       "      <th>Id</th>\n",
       "      <th>Reviewer_Id</th>\n",
       "      <th>Title</th>\n",
       "      <th>Review</th>\n",
       "      <th>Date</th>\n",
       "      <th>Rating</th>\n",
       "    </tr>\n",
       "  </thead>\n",
       "  <tbody>\n",
       "    <tr>\n",
       "      <th>0</th>\n",
       "      <td>Deliveroo</td>\n",
       "      <td>60709f95f85d75087052ff8b</td>\n",
       "      <td>60709f8f0a30fd001b06dc52</td>\n",
       "      <td>Ordered food and apparently the driver…</td>\n",
       "      <td>Ordered food and apparently the driver was wai...</td>\n",
       "      <td>2021-04-09 18:40</td>\n",
       "      <td>{2: 'Poor'}</td>\n",
       "    </tr>\n",
       "    <tr>\n",
       "      <th>1</th>\n",
       "      <td>Deliveroo</td>\n",
       "      <td>60708710f85d75087052c89b</td>\n",
       "      <td>6070870c2158190019b3ab8e</td>\n",
       "      <td>Disgusting Live Customer Service CHAT!!!</td>\n",
       "      <td>I received standard bag of buttons that cost £...</td>\n",
       "      <td>2021-04-09 16:55</td>\n",
       "      <td>{1: 'Bad'}</td>\n",
       "    </tr>\n",
       "    <tr>\n",
       "      <th>2</th>\n",
       "      <td>Deliveroo</td>\n",
       "      <td>60707b91f85d75087052abb6</td>\n",
       "      <td>602eb3ac49aeca0019ad4b70</td>\n",
       "      <td>Just had an appalling experience with…</td>\n",
       "      <td>Just had an appalling experience with delivero...</td>\n",
       "      <td>2021-04-09 16:06</td>\n",
       "      <td>{1: 'Bad'}</td>\n",
       "    </tr>\n",
       "    <tr>\n",
       "      <th>3</th>\n",
       "      <td>Deliveroo</td>\n",
       "      <td>60705919f85d7508705251d4</td>\n",
       "      <td>60705856348d93001ad1ca1f</td>\n",
       "      <td>The same situation happened twice</td>\n",
       "      <td>The same situation happened twice. I ordered f...</td>\n",
       "      <td>2021-04-09 13:39</td>\n",
       "      <td>{2: 'Poor'}</td>\n",
       "    </tr>\n",
       "    <tr>\n",
       "      <th>4</th>\n",
       "      <td>Deliveroo</td>\n",
       "      <td>60705138f85d750870523d4d</td>\n",
       "      <td>6070512519dc76001aebe4b1</td>\n",
       "      <td>Driver left without giving us food</td>\n",
       "      <td>Driver turned up late couldn’t find us and lef...</td>\n",
       "      <td>2021-04-09 13:06</td>\n",
       "      <td>{1: 'Bad'}</td>\n",
       "    </tr>\n",
       "  </tbody>\n",
       "</table>\n",
       "</div>"
      ],
      "text/plain": [
       "     Company                        Id               Reviewer_Id  \\\n",
       "0  Deliveroo  60709f95f85d75087052ff8b  60709f8f0a30fd001b06dc52   \n",
       "1  Deliveroo  60708710f85d75087052c89b  6070870c2158190019b3ab8e   \n",
       "2  Deliveroo  60707b91f85d75087052abb6  602eb3ac49aeca0019ad4b70   \n",
       "3  Deliveroo  60705919f85d7508705251d4  60705856348d93001ad1ca1f   \n",
       "4  Deliveroo  60705138f85d750870523d4d  6070512519dc76001aebe4b1   \n",
       "\n",
       "                                      Title  \\\n",
       "0   Ordered food and apparently the driver…   \n",
       "1  Disgusting Live Customer Service CHAT!!!   \n",
       "2    Just had an appalling experience with…   \n",
       "3         The same situation happened twice   \n",
       "4        Driver left without giving us food   \n",
       "\n",
       "                                              Review              Date  \\\n",
       "0  Ordered food and apparently the driver was wai...  2021-04-09 18:40   \n",
       "1  I received standard bag of buttons that cost £...  2021-04-09 16:55   \n",
       "2  Just had an appalling experience with delivero...  2021-04-09 16:06   \n",
       "3  The same situation happened twice. I ordered f...  2021-04-09 13:39   \n",
       "4  Driver turned up late couldn’t find us and lef...  2021-04-09 13:06   \n",
       "\n",
       "        Rating  \n",
       "0  {2: 'Poor'}  \n",
       "1   {1: 'Bad'}  \n",
       "2   {1: 'Bad'}  \n",
       "3  {2: 'Poor'}  \n",
       "4   {1: 'Bad'}  "
      ]
     },
     "execution_count": 16,
     "metadata": {},
     "output_type": "execute_result"
    }
   ],
   "source": [
    "reviews_df.head()"
   ]
  },
  {
   "cell_type": "markdown",
   "metadata": {},
   "source": [
    "We can see that the _Title_ of the review sometimes seems to correspond to the first few words/lines of the full _Review_, while some other times appears to be a small summary. At the same time we can observe that the _Rating_ provides us with some useful information about how the Reviewer felt regarding the company's service on that specific occasion."
   ]
  },
  {
   "cell_type": "code",
   "execution_count": 17,
   "metadata": {},
   "outputs": [
    {
     "name": "stdout",
     "output_type": "stream",
     "text": [
      "There are 16640 reviews (rows) and 7 features in the dataset\n"
     ]
    }
   ],
   "source": [
    "print(f'There are {reviews_df.shape[0]} reviews (rows) and {reviews_df.shape[1]} features in the dataset')"
   ]
  },
  {
   "cell_type": "code",
   "execution_count": 18,
   "metadata": {},
   "outputs": [
    {
     "data": {
      "text/plain": [
       "UberEats     8240\n",
       "Deliveroo    6160\n",
       "JustEat      2040\n",
       "Stuart        200\n",
       "Name: Company, dtype: int64"
      ]
     },
     "execution_count": 18,
     "metadata": {},
     "output_type": "execute_result"
    }
   ],
   "source": [
    "reviews_df['Company'].value_counts()"
   ]
  },
  {
   "cell_type": "markdown",
   "metadata": {},
   "source": [
    "We can check if there are any missing values in the dataset, or if there are rows that are duplicates:"
   ]
  },
  {
   "cell_type": "code",
   "execution_count": 19,
   "metadata": {},
   "outputs": [
    {
     "name": "stdout",
     "output_type": "stream",
     "text": [
      "There are 57 duplicate reviews in the dataset\n"
     ]
    }
   ],
   "source": [
    "num_duplicate_reviews = reviews_df.duplicated('Id').sum()\n",
    "print(f'There are {num_duplicate_reviews} duplicate reviews in the dataset')"
   ]
  },
  {
   "cell_type": "markdown",
   "metadata": {},
   "source": [
    "Dropping the duplicate reviews"
   ]
  },
  {
   "cell_type": "code",
   "execution_count": 20,
   "metadata": {},
   "outputs": [
    {
     "data": {
      "text/plain": [
       "0"
      ]
     },
     "execution_count": 20,
     "metadata": {},
     "output_type": "execute_result"
    }
   ],
   "source": [
    "reviews_df.drop_duplicates(inplace=True)\n",
    "reviews_df.duplicated('Id').sum()"
   ]
  },
  {
   "cell_type": "code",
   "execution_count": 21,
   "metadata": {},
   "outputs": [
    {
     "data": {
      "text/html": [
       "<div>\n",
       "<style scoped>\n",
       "    .dataframe tbody tr th:only-of-type {\n",
       "        vertical-align: middle;\n",
       "    }\n",
       "\n",
       "    .dataframe tbody tr th {\n",
       "        vertical-align: top;\n",
       "    }\n",
       "\n",
       "    .dataframe thead th {\n",
       "        text-align: right;\n",
       "    }\n",
       "</style>\n",
       "<table border=\"1\" class=\"dataframe\">\n",
       "  <thead>\n",
       "    <tr style=\"text-align: right;\">\n",
       "      <th></th>\n",
       "      <th>Missing_Values</th>\n",
       "    </tr>\n",
       "  </thead>\n",
       "  <tbody>\n",
       "    <tr>\n",
       "      <th>Company</th>\n",
       "      <td>0</td>\n",
       "    </tr>\n",
       "    <tr>\n",
       "      <th>Id</th>\n",
       "      <td>0</td>\n",
       "    </tr>\n",
       "    <tr>\n",
       "      <th>Reviewer_Id</th>\n",
       "      <td>0</td>\n",
       "    </tr>\n",
       "    <tr>\n",
       "      <th>Title</th>\n",
       "      <td>0</td>\n",
       "    </tr>\n",
       "    <tr>\n",
       "      <th>Review</th>\n",
       "      <td>224</td>\n",
       "    </tr>\n",
       "    <tr>\n",
       "      <th>Date</th>\n",
       "      <td>2886</td>\n",
       "    </tr>\n",
       "    <tr>\n",
       "      <th>Rating</th>\n",
       "      <td>0</td>\n",
       "    </tr>\n",
       "  </tbody>\n",
       "</table>\n",
       "</div>"
      ],
      "text/plain": [
       "             Missing_Values\n",
       "Company                   0\n",
       "Id                        0\n",
       "Reviewer_Id               0\n",
       "Title                     0\n",
       "Review                  224\n",
       "Date                   2886\n",
       "Rating                    0"
      ]
     },
     "execution_count": 21,
     "metadata": {},
     "output_type": "execute_result"
    }
   ],
   "source": [
    "pd.DataFrame(reviews_df.isna().sum(), columns=['Missing_Values'])"
   ]
  },
  {
   "cell_type": "markdown",
   "metadata": {},
   "source": [
    "From the queries above we can quickly see that initially we had some issues as there were 57 duplicate reviews, but we have used a pandas built-in function to remove them from the dataset. The duplication is caused due to the nature of retrieving data from by using the API, as we might process pages that we have already processed in the past, and that means retrieving the same reviews as before. Luckily, the _Id_ column is sufficient to identify unique reviews in the dataset, and hence it's easy to spot and fix duplication issues.\n",
    "\n",
    "Now, regarding the missing values there are a few cases where Review appears to be empty, as well as quite a few cases on missing dates. The later is not a massive issue at this stage of the project. On the other hand, the absence of reviews can be a big issue as this project is all about analyzing customer reviews, and hence rows that have no text corresponding to a review wouldn't provide much information. That said, as we saw above there is another feature (_Title_) which we can use as text for rows where the _Review_ is empty."
   ]
  },
  {
   "cell_type": "code",
   "execution_count": 22,
   "metadata": {},
   "outputs": [
    {
     "data": {
      "text/html": [
       "<div>\n",
       "<style scoped>\n",
       "    .dataframe tbody tr th:only-of-type {\n",
       "        vertical-align: middle;\n",
       "    }\n",
       "\n",
       "    .dataframe tbody tr th {\n",
       "        vertical-align: top;\n",
       "    }\n",
       "\n",
       "    .dataframe thead th {\n",
       "        text-align: right;\n",
       "    }\n",
       "</style>\n",
       "<table border=\"1\" class=\"dataframe\">\n",
       "  <thead>\n",
       "    <tr style=\"text-align: right;\">\n",
       "      <th></th>\n",
       "      <th>Company</th>\n",
       "      <th>Id</th>\n",
       "      <th>Reviewer_Id</th>\n",
       "      <th>Title</th>\n",
       "      <th>Review</th>\n",
       "      <th>Date</th>\n",
       "      <th>Rating</th>\n",
       "    </tr>\n",
       "  </thead>\n",
       "  <tbody>\n",
       "    <tr>\n",
       "      <th>45</th>\n",
       "      <td>Deliveroo</td>\n",
       "      <td>60684978f85d75087045ed91</td>\n",
       "      <td>60684973402b0e001a95af2d</td>\n",
       "      <td>Great service</td>\n",
       "      <td>NaN</td>\n",
       "      <td>2021-04-03 10:54</td>\n",
       "      <td>{5: 'Excellent'}</td>\n",
       "    </tr>\n",
       "    <tr>\n",
       "      <th>94</th>\n",
       "      <td>Deliveroo</td>\n",
       "      <td>606221b3f85d7508703c730e</td>\n",
       "      <td>5d73f4f179586ed7bad49d52</td>\n",
       "      <td>Very very disappointed bad service</td>\n",
       "      <td>NaN</td>\n",
       "      <td>2021-03-29 18:51</td>\n",
       "      <td>{1: 'Bad'}</td>\n",
       "    </tr>\n",
       "    <tr>\n",
       "      <th>114</th>\n",
       "      <td>Deliveroo</td>\n",
       "      <td>605f8f5df85d7508703919f5</td>\n",
       "      <td>5e8d9b9a6251456b37ed292e</td>\n",
       "      <td>CRAP nothing else to say!</td>\n",
       "      <td>NaN</td>\n",
       "      <td>2021-03-27 20:02</td>\n",
       "      <td>{1: 'Bad'}</td>\n",
       "    </tr>\n",
       "    <tr>\n",
       "      <th>137</th>\n",
       "      <td>Deliveroo</td>\n",
       "      <td>605e40ddf85d750870377a98</td>\n",
       "      <td>605cb15ead7256001bdc3948</td>\n",
       "      <td>A MILLION TIMES BETTER THAN UBER EATS</td>\n",
       "      <td>NaN</td>\n",
       "      <td>2021-03-26 20:15</td>\n",
       "      <td>{5: 'Excellent'}</td>\n",
       "    </tr>\n",
       "    <tr>\n",
       "      <th>201</th>\n",
       "      <td>Deliveroo</td>\n",
       "      <td>6054f264f85d750bf4f97e45</td>\n",
       "      <td>5d57f496959de5789bc062bd</td>\n",
       "      <td>Better to use Uber eats</td>\n",
       "      <td>NaN</td>\n",
       "      <td>2021-03-19 18:50</td>\n",
       "      <td>{1: 'Bad'}</td>\n",
       "    </tr>\n",
       "  </tbody>\n",
       "</table>\n",
       "</div>"
      ],
      "text/plain": [
       "       Company                        Id               Reviewer_Id  \\\n",
       "45   Deliveroo  60684978f85d75087045ed91  60684973402b0e001a95af2d   \n",
       "94   Deliveroo  606221b3f85d7508703c730e  5d73f4f179586ed7bad49d52   \n",
       "114  Deliveroo  605f8f5df85d7508703919f5  5e8d9b9a6251456b37ed292e   \n",
       "137  Deliveroo  605e40ddf85d750870377a98  605cb15ead7256001bdc3948   \n",
       "201  Deliveroo  6054f264f85d750bf4f97e45  5d57f496959de5789bc062bd   \n",
       "\n",
       "                                     Title Review              Date  \\\n",
       "45                           Great service    NaN  2021-04-03 10:54   \n",
       "94      Very very disappointed bad service    NaN  2021-03-29 18:51   \n",
       "114              CRAP nothing else to say!    NaN  2021-03-27 20:02   \n",
       "137  A MILLION TIMES BETTER THAN UBER EATS    NaN  2021-03-26 20:15   \n",
       "201                Better to use Uber eats    NaN  2021-03-19 18:50   \n",
       "\n",
       "               Rating  \n",
       "45   {5: 'Excellent'}  \n",
       "94         {1: 'Bad'}  \n",
       "114        {1: 'Bad'}  \n",
       "137  {5: 'Excellent'}  \n",
       "201        {1: 'Bad'}  "
      ]
     },
     "execution_count": 22,
     "metadata": {},
     "output_type": "execute_result"
    }
   ],
   "source": [
    "empty_reviews_sample = reviews_df[reviews_df['Review'].isnull()].head(5)\n",
    "empty_reviews_sample"
   ]
  },
  {
   "cell_type": "markdown",
   "metadata": {},
   "source": [
    "Apply the transformation"
   ]
  },
  {
   "cell_type": "code",
   "execution_count": 23,
   "metadata": {},
   "outputs": [],
   "source": [
    "reviews_df.loc[reviews_df['Review'].isnull(), 'Review'] = reviews_df['Title']"
   ]
  },
  {
   "cell_type": "markdown",
   "metadata": {},
   "source": [
    "and we can see how the transformation affected the dataset"
   ]
  },
  {
   "cell_type": "code",
   "execution_count": 24,
   "metadata": {},
   "outputs": [
    {
     "data": {
      "text/html": [
       "<div>\n",
       "<style scoped>\n",
       "    .dataframe tbody tr th:only-of-type {\n",
       "        vertical-align: middle;\n",
       "    }\n",
       "\n",
       "    .dataframe tbody tr th {\n",
       "        vertical-align: top;\n",
       "    }\n",
       "\n",
       "    .dataframe thead th {\n",
       "        text-align: right;\n",
       "    }\n",
       "</style>\n",
       "<table border=\"1\" class=\"dataframe\">\n",
       "  <thead>\n",
       "    <tr style=\"text-align: right;\">\n",
       "      <th></th>\n",
       "      <th>Company</th>\n",
       "      <th>Id</th>\n",
       "      <th>Reviewer_Id</th>\n",
       "      <th>Title</th>\n",
       "      <th>Review</th>\n",
       "      <th>Date</th>\n",
       "      <th>Rating</th>\n",
       "    </tr>\n",
       "  </thead>\n",
       "  <tbody>\n",
       "    <tr>\n",
       "      <th>45</th>\n",
       "      <td>Deliveroo</td>\n",
       "      <td>60684978f85d75087045ed91</td>\n",
       "      <td>60684973402b0e001a95af2d</td>\n",
       "      <td>Great service</td>\n",
       "      <td>Great service</td>\n",
       "      <td>2021-04-03 10:54</td>\n",
       "      <td>{5: 'Excellent'}</td>\n",
       "    </tr>\n",
       "    <tr>\n",
       "      <th>94</th>\n",
       "      <td>Deliveroo</td>\n",
       "      <td>606221b3f85d7508703c730e</td>\n",
       "      <td>5d73f4f179586ed7bad49d52</td>\n",
       "      <td>Very very disappointed bad service</td>\n",
       "      <td>Very very disappointed bad service</td>\n",
       "      <td>2021-03-29 18:51</td>\n",
       "      <td>{1: 'Bad'}</td>\n",
       "    </tr>\n",
       "    <tr>\n",
       "      <th>114</th>\n",
       "      <td>Deliveroo</td>\n",
       "      <td>605f8f5df85d7508703919f5</td>\n",
       "      <td>5e8d9b9a6251456b37ed292e</td>\n",
       "      <td>CRAP nothing else to say!</td>\n",
       "      <td>CRAP nothing else to say!</td>\n",
       "      <td>2021-03-27 20:02</td>\n",
       "      <td>{1: 'Bad'}</td>\n",
       "    </tr>\n",
       "    <tr>\n",
       "      <th>137</th>\n",
       "      <td>Deliveroo</td>\n",
       "      <td>605e40ddf85d750870377a98</td>\n",
       "      <td>605cb15ead7256001bdc3948</td>\n",
       "      <td>A MILLION TIMES BETTER THAN UBER EATS</td>\n",
       "      <td>A MILLION TIMES BETTER THAN UBER EATS</td>\n",
       "      <td>2021-03-26 20:15</td>\n",
       "      <td>{5: 'Excellent'}</td>\n",
       "    </tr>\n",
       "    <tr>\n",
       "      <th>201</th>\n",
       "      <td>Deliveroo</td>\n",
       "      <td>6054f264f85d750bf4f97e45</td>\n",
       "      <td>5d57f496959de5789bc062bd</td>\n",
       "      <td>Better to use Uber eats</td>\n",
       "      <td>Better to use Uber eats</td>\n",
       "      <td>2021-03-19 18:50</td>\n",
       "      <td>{1: 'Bad'}</td>\n",
       "    </tr>\n",
       "  </tbody>\n",
       "</table>\n",
       "</div>"
      ],
      "text/plain": [
       "       Company                        Id               Reviewer_Id  \\\n",
       "45   Deliveroo  60684978f85d75087045ed91  60684973402b0e001a95af2d   \n",
       "94   Deliveroo  606221b3f85d7508703c730e  5d73f4f179586ed7bad49d52   \n",
       "114  Deliveroo  605f8f5df85d7508703919f5  5e8d9b9a6251456b37ed292e   \n",
       "137  Deliveroo  605e40ddf85d750870377a98  605cb15ead7256001bdc3948   \n",
       "201  Deliveroo  6054f264f85d750bf4f97e45  5d57f496959de5789bc062bd   \n",
       "\n",
       "                                     Title  \\\n",
       "45                           Great service   \n",
       "94      Very very disappointed bad service   \n",
       "114              CRAP nothing else to say!   \n",
       "137  A MILLION TIMES BETTER THAN UBER EATS   \n",
       "201                Better to use Uber eats   \n",
       "\n",
       "                                    Review              Date            Rating  \n",
       "45                           Great service  2021-04-03 10:54  {5: 'Excellent'}  \n",
       "94      Very very disappointed bad service  2021-03-29 18:51        {1: 'Bad'}  \n",
       "114              CRAP nothing else to say!  2021-03-27 20:02        {1: 'Bad'}  \n",
       "137  A MILLION TIMES BETTER THAN UBER EATS  2021-03-26 20:15  {5: 'Excellent'}  \n",
       "201                Better to use Uber eats  2021-03-19 18:50        {1: 'Bad'}  "
      ]
     },
     "execution_count": 24,
     "metadata": {},
     "output_type": "execute_result"
    }
   ],
   "source": [
    "reviews_df.iloc[list(empty_reviews_sample.index)]"
   ]
  },
  {
   "cell_type": "code",
   "execution_count": 25,
   "metadata": {},
   "outputs": [
    {
     "data": {
      "text/html": [
       "<div>\n",
       "<style scoped>\n",
       "    .dataframe tbody tr th:only-of-type {\n",
       "        vertical-align: middle;\n",
       "    }\n",
       "\n",
       "    .dataframe tbody tr th {\n",
       "        vertical-align: top;\n",
       "    }\n",
       "\n",
       "    .dataframe thead th {\n",
       "        text-align: right;\n",
       "    }\n",
       "</style>\n",
       "<table border=\"1\" class=\"dataframe\">\n",
       "  <thead>\n",
       "    <tr style=\"text-align: right;\">\n",
       "      <th></th>\n",
       "      <th>Missing_Values</th>\n",
       "    </tr>\n",
       "  </thead>\n",
       "  <tbody>\n",
       "    <tr>\n",
       "      <th>Company</th>\n",
       "      <td>0</td>\n",
       "    </tr>\n",
       "    <tr>\n",
       "      <th>Id</th>\n",
       "      <td>0</td>\n",
       "    </tr>\n",
       "    <tr>\n",
       "      <th>Reviewer_Id</th>\n",
       "      <td>0</td>\n",
       "    </tr>\n",
       "    <tr>\n",
       "      <th>Title</th>\n",
       "      <td>0</td>\n",
       "    </tr>\n",
       "    <tr>\n",
       "      <th>Review</th>\n",
       "      <td>0</td>\n",
       "    </tr>\n",
       "    <tr>\n",
       "      <th>Date</th>\n",
       "      <td>2886</td>\n",
       "    </tr>\n",
       "    <tr>\n",
       "      <th>Rating</th>\n",
       "      <td>0</td>\n",
       "    </tr>\n",
       "  </tbody>\n",
       "</table>\n",
       "</div>"
      ],
      "text/plain": [
       "             Missing_Values\n",
       "Company                   0\n",
       "Id                        0\n",
       "Reviewer_Id               0\n",
       "Title                     0\n",
       "Review                    0\n",
       "Date                   2886\n",
       "Rating                    0"
      ]
     },
     "execution_count": 25,
     "metadata": {},
     "output_type": "execute_result"
    }
   ],
   "source": [
    "pd.DataFrame(reviews_df.isna().sum(), columns=['Missing_Values'])"
   ]
  },
  {
   "cell_type": "markdown",
   "metadata": {},
   "source": [
    "<a id='data_preprocessing'></a>\n",
    "### Data Preprocessing\n",
    "\n",
    "Now that we have familiarized a bit ourselves with the dataset and it's format, as well as conducted the initial data cleaning, we will move to one of the most important steps in any project - the data preprocessing. This section is especially important for cases where we have to deal with analysis of text, such as in this project. The reason is that text in raw format usually contains a lot of noise. This could later affect the performance of the algorithms - both in terms of computational power and the final output - due to very high dimensions of the dataset. This is happening as, like we are going to see soon, each unique word in each review will become a separate feature in the dataset. Hence, the more reviews we have the more unique words we gonna end up with in the final dataset before the analysis. \n",
    " \n",
    "Therefore, its essential to use  some common text preprocessing techniques to reduce the dimensions. As a summary, we are going to perform the following steps:\n",
    "\n",
    " 1) Perform **tokenization** of the reviews. This is a technique of transforming a sentence, into a list of words. For example, the sentence \"my order was great\" would become '['my', 'order', 'was', 'great'].\n",
    " \n",
    " 2) Remove from the reviews tokens that are **stopwords**. Stopwords are words inside text that do not provide much information and are usually getting removed from the initial sentence. Such words can be words like \"the\", \"a\", and more.\n",
    " \n",
    " 3) Remove tokens that correspond to **punctuation** marks (e.g. \"!\", \"?\") and **numbers**.\n",
    " \n",
    " 4) <a href=\"https://en.wikipedia.org/wiki/Stemming\" style=\"text-decoration:none\">Stemming</a> and <a href=\"https://en.wikipedia.org/wiki/Lemmatisation\" style=\"text-decoration:none\">Lemmatization</a>: These two methods are being used to transform a token into it's stem or lemma respectively. These two techniques help drammatically with the reduction of the dimensions as words end up being \"grouped\" under a specific form. In this project we are going to use lemmatization, as in general is a more advanced method compared to stemming, as lemmatization algorithms try to identify the part of speech of the token, and thus in some way they are preserving the meaning of the word (something that does not necessarily happen with stemming).\n",
    " \n",
    "Below we are going to perform all of these steps to get a \"cleaner\" version of the reviews:"
   ]
  },
  {
   "cell_type": "code",
   "execution_count": 26,
   "metadata": {},
   "outputs": [],
   "source": [
    "from nltk.corpus import stopwords\n",
    "\n",
    "stopwords_ls = stopwords.words('english')\n",
    "stopwords_ls.extend(['\\'d', '\\'m', '\\'s', '\\'ve', '\\'re', '\\'ll', 'n\\'t', '’'])"
   ]
  },
  {
   "cell_type": "markdown",
   "metadata": {},
   "source": [
    "Except the common english stopwords, it's necessary to enhance the list with some additional tokens that we want to exclude from the reviews. These are usually words that we would expect that are getting repeated in the reviews. In our case, as we are examining the case of delivery companies, it would be beneficial to exclude words like 'delivery', 'order', and more. Moreover, we are excluding the tokens that correspond to the names of the delivery companies, as we already have this information in the dataset as a different feature."
   ]
  },
  {
   "cell_type": "code",
   "execution_count": 27,
   "metadata": {},
   "outputs": [],
   "source": [
    "common_delivery_words = ['delivery', 'deliver', 'driver', 'order', 'uber', 'stuart',\n",
    "                         'deliveroo', 'food', 'use', 'get', 'service', 'customer', 'refund']\n",
    "\n",
    "stopwords_ls.extend(common_delivery_words)"
   ]
  },
  {
   "cell_type": "markdown",
   "metadata": {},
   "source": [
    "Moreover, we can see that the _Rating_ columns has values like the following: {1: 'Bad'}, so we are going to use a custom function to split this into two different features for better presentation:"
   ]
  },
  {
   "cell_type": "code",
   "execution_count": 28,
   "metadata": {},
   "outputs": [],
   "source": [
    "def splitRatingsColumn(rating_text):\n",
    "    \"\"\"\n",
    "    Mapper function to split string with {Rating: Rating_As_String} format to two\n",
    "    separate entities\"\"\"\n",
    "    rating_text = rating_text.replace('\\'','').replace('{','').replace('}','')\n",
    "    return rating_text[0], rating_text[3:]"
   ]
  },
  {
   "cell_type": "code",
   "execution_count": 29,
   "metadata": {},
   "outputs": [],
   "source": [
    "# Cast columns specific data format\n",
    "reviews_df['Date'] = pd.to_datetime(reviews_df['Date'], format=\"%Y-%m-%d %H:%M\", errors='coerce')\n",
    "\n",
    "reviews_df['Rating'] = reviews_df['Rating'].apply(lambda row: splitRatingsColumn(row)[0]).astype(int)\n",
    "reviews_df['Rating_Text'] = reviews_df['Rating'].apply(lambda row: ratings_dict[row])"
   ]
  },
  {
   "cell_type": "code",
   "execution_count": 30,
   "metadata": {},
   "outputs": [
    {
     "data": {
      "text/html": [
       "<div>\n",
       "<style scoped>\n",
       "    .dataframe tbody tr th:only-of-type {\n",
       "        vertical-align: middle;\n",
       "    }\n",
       "\n",
       "    .dataframe tbody tr th {\n",
       "        vertical-align: top;\n",
       "    }\n",
       "\n",
       "    .dataframe thead th {\n",
       "        text-align: right;\n",
       "    }\n",
       "</style>\n",
       "<table border=\"1\" class=\"dataframe\">\n",
       "  <thead>\n",
       "    <tr style=\"text-align: right;\">\n",
       "      <th></th>\n",
       "      <th>Company</th>\n",
       "      <th>Id</th>\n",
       "      <th>Reviewer_Id</th>\n",
       "      <th>Title</th>\n",
       "      <th>Review</th>\n",
       "      <th>Date</th>\n",
       "      <th>Rating</th>\n",
       "      <th>Rating_Text</th>\n",
       "    </tr>\n",
       "  </thead>\n",
       "  <tbody>\n",
       "    <tr>\n",
       "      <th>0</th>\n",
       "      <td>Deliveroo</td>\n",
       "      <td>60709f95f85d75087052ff8b</td>\n",
       "      <td>60709f8f0a30fd001b06dc52</td>\n",
       "      <td>Ordered food and apparently the driver…</td>\n",
       "      <td>Ordered food and apparently the driver was wai...</td>\n",
       "      <td>2021-04-09 18:40:00</td>\n",
       "      <td>2</td>\n",
       "      <td>Poor</td>\n",
       "    </tr>\n",
       "    <tr>\n",
       "      <th>1</th>\n",
       "      <td>Deliveroo</td>\n",
       "      <td>60708710f85d75087052c89b</td>\n",
       "      <td>6070870c2158190019b3ab8e</td>\n",
       "      <td>Disgusting Live Customer Service CHAT!!!</td>\n",
       "      <td>I received standard bag of buttons that cost £...</td>\n",
       "      <td>2021-04-09 16:55:00</td>\n",
       "      <td>1</td>\n",
       "      <td>Bad</td>\n",
       "    </tr>\n",
       "  </tbody>\n",
       "</table>\n",
       "</div>"
      ],
      "text/plain": [
       "     Company                        Id               Reviewer_Id  \\\n",
       "0  Deliveroo  60709f95f85d75087052ff8b  60709f8f0a30fd001b06dc52   \n",
       "1  Deliveroo  60708710f85d75087052c89b  6070870c2158190019b3ab8e   \n",
       "\n",
       "                                      Title  \\\n",
       "0   Ordered food and apparently the driver…   \n",
       "1  Disgusting Live Customer Service CHAT!!!   \n",
       "\n",
       "                                              Review                Date  \\\n",
       "0  Ordered food and apparently the driver was wai... 2021-04-09 18:40:00   \n",
       "1  I received standard bag of buttons that cost £... 2021-04-09 16:55:00   \n",
       "\n",
       "   Rating Rating_Text  \n",
       "0       2        Poor  \n",
       "1       1         Bad  "
      ]
     },
     "execution_count": 30,
     "metadata": {},
     "output_type": "execute_result"
    }
   ],
   "source": [
    "reviews_df.head(2)"
   ]
  },
  {
   "cell_type": "markdown",
   "metadata": {},
   "source": [
    "Now we are ready to apply the main data preprocessing tasks that we discussed above. But to do that we have to write the function that are going to be applied in the _Review_ column. Below we can see these functions, which are coming from a custom <a href=\"https://github.com/gpsyrou/Text_Analysis_of_Consumer_Reviews/blob/main/processing/text_processing.py\" style=\"text-decoration: none\">package</a> that we had to develop, which contains functions for the most common text preprocessing tasks for pretty much any NLP project. "
   ]
  },
  {
   "cell_type": "code",
   "execution_count": 31,
   "metadata": {},
   "outputs": [],
   "source": [
    "lemmatizer = WordNetLemmatizer()\n",
    "stemmer = PorterStemmer()"
   ]
  },
  {
   "cell_type": "code",
   "execution_count": 32,
   "metadata": {},
   "outputs": [],
   "source": [
    "punct_ls = list(string.punctuation)\n",
    "punct_ls.extend([2*x for x in list(string.punctuation)])\n",
    "punct_ls.extend([3*x for x in list(string.punctuation)])"
   ]
  },
  {
   "cell_type": "code",
   "execution_count": 33,
   "metadata": {},
   "outputs": [],
   "source": [
    "def remove_stopwords(text: List['str'], stpwds_ls: List['str']) -> List['str']:\n",
    "    return [token for token in text if token not in stpwds_ls]"
   ]
  },
  {
   "cell_type": "code",
   "execution_count": 34,
   "metadata": {},
   "outputs": [],
   "source": [
    "def remove_punctuation(text: List['str'], punct_ls: List['str']) -> List['str']:\n",
    "    return [token for token in text if token not in punct_ls]"
   ]
  },
  {
   "cell_type": "code",
   "execution_count": 35,
   "metadata": {},
   "outputs": [],
   "source": [
    "def remove_numbers(text: List['str']) -> List['str']:\n",
    "    return [token for token in text if not token.isdigit()]"
   ]
  },
  {
   "cell_type": "code",
   "execution_count": 36,
   "metadata": {},
   "outputs": [],
   "source": [
    "def lemmatize(text: List['str'],\n",
    "              pos_type = 'a') -> List['str']:\n",
    "    return [lemmatizer.lemmatize(token, pos=pos_type) for token in text]\n",
    "\n",
    "def stem(text: List['str']) -> List['str']:\n",
    "    return [stemmer.stem(token) for token in text]"
   ]
  },
  {
   "cell_type": "code",
   "execution_count": 39,
   "metadata": {},
   "outputs": [],
   "source": [
    "def tokenize_and_clean(text: str,\n",
    "                       stopwords_ls: List[str],\n",
    "                       stopwords=True,\n",
    "                       punct=True, numerics=True) -> List[str]:\n",
    "    \"\"\"\n",
    "    Performs tokenizations and cleaning processes given a document/text.\n",
    "    The function will always tokenize the given text but the cleaning tasks\n",
    "    are optional.\n",
    "    \n",
    "    Parameters\n",
    "    ----------\n",
    "    text: \n",
    "        A document, which can be a word or sentence of arbitrary length.\n",
    "    stopwords: default True\n",
    "        Indicator of removing tokens that are stopwords.\n",
    "    punct: \n",
    "        Indicator of removing tokens that are punctuation marks.\n",
    "    numerics: \n",
    "        Indicator of removing tokens that correspond to numbers.\n",
    "\n",
    "    Returns\n",
    "    --------\n",
    "         A tokenized version of 'text' with the necessary updates depending on\n",
    "         the cleanup steps performed.\n",
    "    \"\"\"\n",
    "    tokenized = word_tokenize(text, language='english')\n",
    "    \n",
    "    tokenized = [token.lower() for token in tokenized]\n",
    "\n",
    "    if punct:\n",
    "        tokenized = remove_punctuation(tokenized, punct_ls=punct_ls)\n",
    "        \n",
    "    if numerics:\n",
    "        tokenized = remove_numbers(tokenized)\n",
    "        \n",
    "    if stopwords:\n",
    "        tokenized = remove_stopwords(tokenized, stpwds_ls=stopwords_ls)\n",
    "\n",
    "    return tokenized"
   ]
  },
  {
   "cell_type": "markdown",
   "metadata": {},
   "source": [
    "Split review in tokens and remove punctuation & stopwords"
   ]
  },
  {
   "cell_type": "code",
   "execution_count": 40,
   "metadata": {},
   "outputs": [],
   "source": [
    "reviews_df['Review_Tokenized'] = reviews_df['Review'].apply(lambda row: tokenize_and_clean(text=row, stopwords_ls=stopwords_ls))"
   ]
  },
  {
   "cell_type": "markdown",
   "metadata": {},
   "source": [
    "Lemmatize the tokens"
   ]
  },
  {
   "cell_type": "code",
   "execution_count": 41,
   "metadata": {},
   "outputs": [],
   "source": [
    "reviews_df['Review_Lemmatized'] = reviews_df['Review_Tokenized'].apply(lambda row: lemmatize(text=row, pos_type='n'))"
   ]
  },
  {
   "cell_type": "code",
   "execution_count": 42,
   "metadata": {},
   "outputs": [],
   "source": [
    "reviews_df['Review_Lemmatized'] = reviews_df['Review_Lemmatized'].apply(lambda row: lemmatize(text=row, pos_type='a'))"
   ]
  },
  {
   "cell_type": "markdown",
   "metadata": {},
   "source": [
    "Some times we need the \"clean\" tokens per document to be a single string. Therefore we are applying the appropriate transformation where we are joining back the clean tokens into a single object."
   ]
  },
  {
   "cell_type": "code",
   "execution_count": 43,
   "metadata": {},
   "outputs": [],
   "source": [
    "reviews_df['Clean_Review_String'] = reviews_df['Review_Lemmatized'].apply(lambda row: ' '.join([x for x in row]))"
   ]
  },
  {
   "cell_type": "code",
   "execution_count": 44,
   "metadata": {},
   "outputs": [
    {
     "data": {
      "text/html": [
       "<div>\n",
       "<style scoped>\n",
       "    .dataframe tbody tr th:only-of-type {\n",
       "        vertical-align: middle;\n",
       "    }\n",
       "\n",
       "    .dataframe tbody tr th {\n",
       "        vertical-align: top;\n",
       "    }\n",
       "\n",
       "    .dataframe thead th {\n",
       "        text-align: right;\n",
       "    }\n",
       "</style>\n",
       "<table border=\"1\" class=\"dataframe\">\n",
       "  <thead>\n",
       "    <tr style=\"text-align: right;\">\n",
       "      <th></th>\n",
       "      <th>Company</th>\n",
       "      <th>Title</th>\n",
       "      <th>Review</th>\n",
       "      <th>Review_Tokenized</th>\n",
       "      <th>Review_Lemmatized</th>\n",
       "      <th>Clean_Review_String</th>\n",
       "    </tr>\n",
       "  </thead>\n",
       "  <tbody>\n",
       "    <tr>\n",
       "      <th>0</th>\n",
       "      <td>Deliveroo</td>\n",
       "      <td>Ordered food and apparently the driver…</td>\n",
       "      <td>Ordered food and apparently the driver was wai...</td>\n",
       "      <td>[ordered, apparently, waiting, mins, even, tho...</td>\n",
       "      <td>[ordered, apparently, waiting, min, even, thou...</td>\n",
       "      <td>ordered apparently waiting min even though sto...</td>\n",
       "    </tr>\n",
       "    <tr>\n",
       "      <th>1</th>\n",
       "      <td>Deliveroo</td>\n",
       "      <td>Disgusting Live Customer Service CHAT!!!</td>\n",
       "      <td>I received standard bag of buttons that cost £...</td>\n",
       "      <td>[received, standard, bag, buttons, cost, £1.60...</td>\n",
       "      <td>[received, standard, bag, button, cost, £1.60,...</td>\n",
       "      <td>received standard bag button cost £1.60 asked ...</td>\n",
       "    </tr>\n",
       "    <tr>\n",
       "      <th>2</th>\n",
       "      <td>Deliveroo</td>\n",
       "      <td>Just had an appalling experience with…</td>\n",
       "      <td>Just had an appalling experience with delivero...</td>\n",
       "      <td>[appalling, experience, ordered, pizza, £10, d...</td>\n",
       "      <td>[appalling, experience, ordered, pizza, £10, d...</td>\n",
       "      <td>appalling experience ordered pizza £10 discoun...</td>\n",
       "    </tr>\n",
       "    <tr>\n",
       "      <th>3</th>\n",
       "      <td>Deliveroo</td>\n",
       "      <td>The same situation happened twice</td>\n",
       "      <td>The same situation happened twice. I ordered f...</td>\n",
       "      <td>[situation, happened, twice, ordered, around, ...</td>\n",
       "      <td>[situation, happened, twice, ordered, around, ...</td>\n",
       "      <td>situation happened twice ordered around pm wai...</td>\n",
       "    </tr>\n",
       "    <tr>\n",
       "      <th>4</th>\n",
       "      <td>Deliveroo</td>\n",
       "      <td>Driver left without giving us food</td>\n",
       "      <td>Driver turned up late couldn’t find us and lef...</td>\n",
       "      <td>[turned, late, find, us, left, awful]</td>\n",
       "      <td>[turned, late, find, u, left, awful]</td>\n",
       "      <td>turned late find u left awful</td>\n",
       "    </tr>\n",
       "  </tbody>\n",
       "</table>\n",
       "</div>"
      ],
      "text/plain": [
       "     Company                                     Title  \\\n",
       "0  Deliveroo   Ordered food and apparently the driver…   \n",
       "1  Deliveroo  Disgusting Live Customer Service CHAT!!!   \n",
       "2  Deliveroo    Just had an appalling experience with…   \n",
       "3  Deliveroo         The same situation happened twice   \n",
       "4  Deliveroo        Driver left without giving us food   \n",
       "\n",
       "                                              Review  \\\n",
       "0  Ordered food and apparently the driver was wai...   \n",
       "1  I received standard bag of buttons that cost £...   \n",
       "2  Just had an appalling experience with delivero...   \n",
       "3  The same situation happened twice. I ordered f...   \n",
       "4  Driver turned up late couldn’t find us and lef...   \n",
       "\n",
       "                                    Review_Tokenized  \\\n",
       "0  [ordered, apparently, waiting, mins, even, tho...   \n",
       "1  [received, standard, bag, buttons, cost, £1.60...   \n",
       "2  [appalling, experience, ordered, pizza, £10, d...   \n",
       "3  [situation, happened, twice, ordered, around, ...   \n",
       "4              [turned, late, find, us, left, awful]   \n",
       "\n",
       "                                   Review_Lemmatized  \\\n",
       "0  [ordered, apparently, waiting, min, even, thou...   \n",
       "1  [received, standard, bag, button, cost, £1.60,...   \n",
       "2  [appalling, experience, ordered, pizza, £10, d...   \n",
       "3  [situation, happened, twice, ordered, around, ...   \n",
       "4               [turned, late, find, u, left, awful]   \n",
       "\n",
       "                                 Clean_Review_String  \n",
       "0  ordered apparently waiting min even though sto...  \n",
       "1  received standard bag button cost £1.60 asked ...  \n",
       "2  appalling experience ordered pizza £10 discoun...  \n",
       "3  situation happened twice ordered around pm wai...  \n",
       "4                      turned late find u left awful  "
      ]
     },
     "execution_count": 44,
     "metadata": {},
     "output_type": "execute_result"
    }
   ],
   "source": [
    "reviews_df[['Company', 'Title', 'Review', 'Review_Tokenized', 'Review_Lemmatized', 'Clean_Review_String']].head(5)"
   ]
  },
  {
   "cell_type": "markdown",
   "metadata": {},
   "source": [
    "We can observe how big is the difference between the initial _Review_ and the final format of the review after the preprocessing tasks, as shown in <em>Review_Merged</em>.\n",
    "\n",
    "<a id=\"eda\"></a>\n",
    "### Exploratory Data Analysis\n",
    "\n",
    "Now that the data are in a better shape, we can start with the main part of this project which is the actual analysis of the reviews. As a first step we are going to perform some exploratory data analysis, mostly by analyzing the data visually. \n",
    "\n",
    "This is an important step for every data analysis project as it will allow us to further familiarize ourselves with the data, as well as make sure that we don't identify any cases that would require further data cleaning and that we might have missed in the initial text preprocessing steps performed in the previous section."
   ]
  },
  {
   "cell_type": "code",
   "execution_count": 49,
   "metadata": {},
   "outputs": [],
   "source": [
    "def most_common_words(input_df: pd.DataFrame,\n",
    "                      text_col: str,\n",
    "                      n_most_common=20):\n",
    "    \"\"\"\n",
    "    Given a collection of documents as text, compute the number of most common\n",
    "    words as defined by n_most_common.\n",
    "    Args:\n",
    "    ------\n",
    "        input_df: Dataframe that contains the relevant text column\n",
    "        text_col: Name of the column\n",
    "        n_most_common: Number of most common words to calculate\n",
    "    Returns:\n",
    "    --------\n",
    "        Pandas dataframe with two columns indicating a word and number\n",
    "        of times (count) that it appears in the original input_df\n",
    "    \"\"\"\n",
    "    word_list = list([x.split() for x in input_df[text_col] if x is not None])\n",
    "    word_counter = Counter(x for xs in word_list for x in set(xs))\n",
    "    word_counter.most_common(n_most_common)\n",
    "\n",
    "    return pd.DataFrame(word_counter.most_common(n_most_common), columns=['word', 'count'])"
   ]
  },
  {
   "cell_type": "code",
   "execution_count": 50,
   "metadata": {},
   "outputs": [],
   "source": [
    "def plot_most_common_words(input_df: pd.DataFrame,\n",
    "                           text_col: str,\n",
    "                           n_most_common=20,\n",
    "                           return_counts=False,\n",
    "                           figsize=(10, 10)) -> None:\n",
    "    \n",
    "    if return_counts:\n",
    "        df = most_common_words(input_df=input_df, text_col=text_col, n_most_common=n_most_common)\n",
    "        display(HTML(df.to_html()))\n",
    "\n",
    "    fig, ax = plt.subplots(figsize=figsize)\n",
    "    common_words_df = most_common_words(input_df=input_df,\n",
    "                                        text_col=text_col,\n",
    "                                        n_most_common=n_most_common)\n",
    "    sns.barplot(x='count', y='word', data=common_words_df).set_title(f'Common Words Found - Overall',\n",
    "                                                                     fontweight='bold')\n",
    "    plt.grid(True, alpha=0.3, linestyle='-', color='black')\n",
    "    plt.show()"
   ]
  },
  {
   "cell_type": "code",
   "execution_count": 51,
   "metadata": {},
   "outputs": [
    {
     "data": {
      "text/html": [
       "<table border=\"1\" class=\"dataframe\">\n",
       "  <thead>\n",
       "    <tr style=\"text-align: right;\">\n",
       "      <th></th>\n",
       "      <th>word</th>\n",
       "      <th>count</th>\n",
       "    </tr>\n",
       "  </thead>\n",
       "  <tbody>\n",
       "    <tr>\n",
       "      <th>0</th>\n",
       "      <td>time</td>\n",
       "      <td>5427</td>\n",
       "    </tr>\n",
       "    <tr>\n",
       "      <th>1</th>\n",
       "      <td>never</td>\n",
       "      <td>4825</td>\n",
       "    </tr>\n",
       "    <tr>\n",
       "      <th>2</th>\n",
       "      <td>ordered</td>\n",
       "      <td>4324</td>\n",
       "    </tr>\n",
       "    <tr>\n",
       "      <th>3</th>\n",
       "      <td>restaurant</td>\n",
       "      <td>3639</td>\n",
       "    </tr>\n",
       "    <tr>\n",
       "      <th>4</th>\n",
       "      <td>would</td>\n",
       "      <td>3587</td>\n",
       "    </tr>\n",
       "    <tr>\n",
       "      <th>5</th>\n",
       "      <td>hour</td>\n",
       "      <td>3570</td>\n",
       "    </tr>\n",
       "    <tr>\n",
       "      <th>6</th>\n",
       "      <td>delivered</td>\n",
       "      <td>3117</td>\n",
       "    </tr>\n",
       "    <tr>\n",
       "      <th>7</th>\n",
       "      <td>money</td>\n",
       "      <td>3064</td>\n",
       "    </tr>\n",
       "    <tr>\n",
       "      <th>8</th>\n",
       "      <td>eats</td>\n",
       "      <td>3035</td>\n",
       "    </tr>\n",
       "    <tr>\n",
       "      <th>9</th>\n",
       "      <td>even</td>\n",
       "      <td>3025</td>\n",
       "    </tr>\n",
       "  </tbody>\n",
       "</table>"
      ],
      "text/plain": [
       "<IPython.core.display.HTML object>"
      ]
     },
     "metadata": {},
     "output_type": "display_data"
    },
    {
     "data": {
      "image/png": "[encoded data removed]",
      "text/plain": [
       "<Figure size 720x720 with 1 Axes>"
      ]
     },
     "metadata": {},
     "output_type": "display_data"
    }
   ],
   "source": [
    "plot_most_common_words(reviews_df, n_most_common=10, text_col='Clean_Review_String', return_counts=True)"
   ]
  },
  {
   "cell_type": "code",
   "execution_count": 52,
   "metadata": {},
   "outputs": [],
   "source": [
    "def plot_wordcloud(input_df: pd.DataFrame,\n",
    "                   text_col: str,\n",
    "                   figsize=(10, 10)) -> None:\n",
    "    \"\"\" Generate a WordCloud plot based on the number of occurenences of words\n",
    "    in a set documents\n",
    "    \"\"\"\n",
    "    plt.figure(figsize=figsize)\n",
    "    combined_text = ' '.join([x for x in input_df[text_col] if x is not None])\n",
    "    wordcloud = WordCloud().generate(combined_text)\n",
    "    plt.imshow(wordcloud, interpolation='bilinear')\n",
    "    plt.axis(\"off\")\n",
    "    plt.show()"
   ]
  },
  {
   "cell_type": "code",
   "execution_count": 53,
   "metadata": {},
   "outputs": [],
   "source": [
    "# plot_wordcloud(reviews_df, text_col='Clean_Review_String')"
   ]
  },
  {
   "cell_type": "markdown",
   "metadata": {},
   "source": [
    "By examining each word separately we are making the assumption that the words (and so their order) do not play any role into the general meaning of the text. Thus, we can go a step further and identify pairs of words (**bigrams**) that tend to appear next to each other."
   ]
  },
  {
   "cell_type": "code",
   "execution_count": 57,
   "metadata": {},
   "outputs": [],
   "source": [
    "def compute_bigrams(input_df: pd.DataFrame,\n",
    "                    text_col: str) -> dict:\n",
    "    \"\"\" Calculate the number of occurences where a pair of words appear next to\n",
    "    each other, and return a dictionary of {pair of words: count}.\n",
    "    \"\"\"\n",
    "    combined_text = ' '.join([x for x in input_df[text_col]])\n",
    "\n",
    "    finder = BigramCollocationFinder.from_words(word_tokenize(combined_text))\n",
    "\n",
    "    bigrams_dict = {}\n",
    "    for k, v in finder.ngram_fd.items():\n",
    "        if len(k[0]) > 1 and len(k[1]) > 1:\n",
    "            bigrams_dict[k] = v\n",
    "        else:\n",
    "            continue\n",
    "    return bigrams_dict"
   ]
  },
  {
   "cell_type": "code",
   "execution_count": 58,
   "metadata": {},
   "outputs": [],
   "source": [
    "def plot_bigrams(input_df: pd.DataFrame,\n",
    "                 text_col: str,\n",
    "                 top_n: int,\n",
    "                 rotation=0.8,\n",
    "                 figsize=(10, 8)) -> None:\n",
    "\n",
    "    bigrams_dict = compute_bigrams(input_df=input_df, text_col=text_col)\n",
    "    bigrams_sorted = sorted(bigrams_dict.items(), key=lambda x: x[1], reverse=True)[0:top_n]\n",
    "    bgram, counts = list(zip(*bigrams_sorted))\n",
    "    bgstring = list(map(lambda txt: '-'.join(txt), bgram))\n",
    "\n",
    "    plt.figure(figsize=figsize)\n",
    "    g = sns.barplot(bgstring, counts, palette='muted')\n",
    "    g.set_xticklabels(g.get_xticklabels(), rotation=rotation)\n",
    "    plt.title(f'Top-{top_n} pairs of words that appear next to each other',\n",
    "              fontweight='bold')\n",
    "    plt.ylabel('Count')\n",
    "    plt.grid(True, alpha=0.1, color='black')\n",
    "    plt.show()"
   ]
  },
  {
   "cell_type": "code",
   "execution_count": 59,
   "metadata": {},
   "outputs": [],
   "source": [
    "bigrams = compute_bigrams(reviews_df, text_col='Clean_Review_String')"
   ]
  },
  {
   "cell_type": "code",
   "execution_count": 60,
   "metadata": {},
   "outputs": [
    {
     "data": {
      "text/html": [
       "<div>\n",
       "<style scoped>\n",
       "    .dataframe tbody tr th:only-of-type {\n",
       "        vertical-align: middle;\n",
       "    }\n",
       "\n",
       "    .dataframe tbody tr th {\n",
       "        vertical-align: top;\n",
       "    }\n",
       "\n",
       "    .dataframe thead th {\n",
       "        text-align: right;\n",
       "    }\n",
       "</style>\n",
       "<table border=\"1\" class=\"dataframe\">\n",
       "  <thead>\n",
       "    <tr style=\"text-align: right;\">\n",
       "      <th></th>\n",
       "      <th>Bigram</th>\n",
       "      <th>Count</th>\n",
       "    </tr>\n",
       "  </thead>\n",
       "  <tbody>\n",
       "    <tr>\n",
       "      <th>0</th>\n",
       "      <td>(missing, item)</td>\n",
       "      <td>736</td>\n",
       "    </tr>\n",
       "    <tr>\n",
       "      <th>1</th>\n",
       "      <td>(money, back)</td>\n",
       "      <td>703</td>\n",
       "    </tr>\n",
       "    <tr>\n",
       "      <th>2</th>\n",
       "      <td>(first, time)</td>\n",
       "      <td>695</td>\n",
       "    </tr>\n",
       "    <tr>\n",
       "      <th>3</th>\n",
       "      <td>(hour, late)</td>\n",
       "      <td>662</td>\n",
       "    </tr>\n",
       "    <tr>\n",
       "      <th>4</th>\n",
       "      <td>(even, though)</td>\n",
       "      <td>589</td>\n",
       "    </tr>\n",
       "    <tr>\n",
       "      <th>5</th>\n",
       "      <td>(never, arrived)</td>\n",
       "      <td>554</td>\n",
       "    </tr>\n",
       "    <tr>\n",
       "      <th>6</th>\n",
       "      <td>(live, chat)</td>\n",
       "      <td>456</td>\n",
       "    </tr>\n",
       "    <tr>\n",
       "      <th>7</th>\n",
       "      <td>(stone, cold)</td>\n",
       "      <td>441</td>\n",
       "    </tr>\n",
       "    <tr>\n",
       "      <th>8</th>\n",
       "      <td>(said, would)</td>\n",
       "      <td>420</td>\n",
       "    </tr>\n",
       "    <tr>\n",
       "      <th>9</th>\n",
       "      <td>(item, missing)</td>\n",
       "      <td>389</td>\n",
       "    </tr>\n",
       "    <tr>\n",
       "      <th>10</th>\n",
       "      <td>(could, give)</td>\n",
       "      <td>381</td>\n",
       "    </tr>\n",
       "    <tr>\n",
       "      <th>11</th>\n",
       "      <td>(wrong, address)</td>\n",
       "      <td>378</td>\n",
       "    </tr>\n",
       "    <tr>\n",
       "      <th>12</th>\n",
       "      <td>(last, time)</td>\n",
       "      <td>364</td>\n",
       "    </tr>\n",
       "    <tr>\n",
       "      <th>13</th>\n",
       "      <td>(bad, ever)</td>\n",
       "      <td>363</td>\n",
       "    </tr>\n",
       "    <tr>\n",
       "      <th>14</th>\n",
       "      <td>(waste, time)</td>\n",
       "      <td>353</td>\n",
       "    </tr>\n",
       "  </tbody>\n",
       "</table>\n",
       "</div>"
      ],
      "text/plain": [
       "              Bigram  Count\n",
       "0    (missing, item)    736\n",
       "1      (money, back)    703\n",
       "2      (first, time)    695\n",
       "3       (hour, late)    662\n",
       "4     (even, though)    589\n",
       "5   (never, arrived)    554\n",
       "6       (live, chat)    456\n",
       "7      (stone, cold)    441\n",
       "8      (said, would)    420\n",
       "9    (item, missing)    389\n",
       "10     (could, give)    381\n",
       "11  (wrong, address)    378\n",
       "12      (last, time)    364\n",
       "13       (bad, ever)    363\n",
       "14     (waste, time)    353"
      ]
     },
     "execution_count": 60,
     "metadata": {},
     "output_type": "execute_result"
    }
   ],
   "source": [
    "pd.DataFrame(sorted(bigrams.items(), key=lambda item: item[1], reverse=True), columns=['Bigram', 'Count']).head(15)"
   ]
  },
  {
   "cell_type": "code",
   "execution_count": 61,
   "metadata": {},
   "outputs": [
    {
     "data": {
      "image/png": "[encoded data removed]",
      "text/plain": [
       "<Figure size 1440x432 with 1 Axes>"
      ]
     },
     "metadata": {},
     "output_type": "display_data"
    }
   ],
   "source": [
    "plot_bigrams(input_df=reviews_df, text_col='Clean_Review_String', top_n=15, rotation=0.0, figsize=(20, 6))"
   ]
  },
  {
   "cell_type": "markdown",
   "metadata": {},
   "source": [
    "From the bigrams plot we can infer that there are 3 main topics in the data:\n",
    "\n",
    "1. Case where order arrived but an item was missing (e.g.\"missing item\")\n",
    "2. Case where items received very late (\"cold food\", \"stone cold\", \"hour cold\")\n",
    "3. Case when the order never arrived (\"wrong-adress\", \"never arrived\")\n",
    "    \n",
    "We can also observe that the bigram \"customer service\" appears in the majority of the reviews. This is something expected, as in general reviews in TrustPilot for delivery companies tend to contain reviews about problems that the customers might have faced. \n",
    "\n",
    "Hence, it's regular when a customer facing an issue with their order, to contact the customer service of the company, independently of the nature of the issue (i.e. any of the 3 points we mentioned above). Queries about the customer service might not add a lot of information in the data as they seem to be part around in 1/3 of the total reviews. One option would be to remove these words from our analysis - by adding them in the stopwords list - but for now we will leave this set of words inside our dataset as it might provide us with some useful findings later.\n",
    "\n",
    "In the next section we will finally get into the modelling part of the project. Based on our findings above and by leveraging a well known method for topic modelling (i.e. LDA), we will attempt to identify the different topics that exist inside the reviews."
   ]
  },
  {
   "cell_type": "markdown",
   "metadata": {},
   "source": [
    "<a id=\"lda\"></a>\n",
    "## Latent Dirichlet Allocation Model"
   ]
  },
  {
   "cell_type": "code",
   "execution_count": 119,
   "metadata": {},
   "outputs": [],
   "source": [
    "from sklearn.feature_extraction.text import CountVectorizer\n",
    "from sklearn.decomposition import LatentDirichletAllocation\n",
    "from scipy.sparse.csr import csr_matrix"
   ]
  },
  {
   "cell_type": "code",
   "execution_count": 120,
   "metadata": {},
   "outputs": [],
   "source": [
    "def sentenceToNGramTokens(text: str,\n",
    "                          ngram_size=2) -> List[str]:\n",
    "    \"\"\" Given a sentence as tokens, return the n-gram combinations joined by an\n",
    "    underscore.\n",
    "    \"\"\"\n",
    "    return [\"_\".join(w) for w in ngrams(text, ngram_size)]"
   ]
  },
  {
   "cell_type": "code",
   "execution_count": 121,
   "metadata": {},
   "outputs": [],
   "source": [
    "def countVectorizerToDict(vectorizer: CountVectorizer,\n",
    "                          matrix: csr_matrix) -> dict:\n",
    "    feature_names = vectorizer.get_feature_names()\n",
    "    counts = np.asarray(matrix.sum(axis=0))[0]\n",
    "    return dict(zip(feature_names, counts))"
   ]
  },
  {
   "cell_type": "code",
   "execution_count": 122,
   "metadata": {},
   "outputs": [],
   "source": [
    "def getWordWeightsPerTopic(model, feature_names: List[str], sort=True):\n",
    "    word_weights_per_topic = []\n",
    "    for i, topic in enumerate(model.components_):\n",
    "        weights = list(zip(feature_names, topic))\n",
    "        if sort:\n",
    "            weights = sorted(weights, key=lambda x: x[1], reverse=True)\n",
    "        word_weights_per_topic.append([i, weights])\n",
    "    return word_weights_per_topic"
   ]
  },
  {
   "cell_type": "code",
   "execution_count": 140,
   "metadata": {},
   "outputs": [],
   "source": [
    "def showTopWordsPerTopic(model, feature_names: List[str], num_top_words: int):\n",
    "    for i in range(0, len(model.components_)):\n",
    "        weights = get_word_weights_per_topic(model, feature_names)[i][1]\n",
    "        print('Topic {0} : {1} \\n'.format(i, weights[0:num_top_words]))"
   ]
  },
  {
   "cell_type": "code",
   "execution_count": 124,
   "metadata": {},
   "outputs": [
    {
     "name": "stderr",
     "output_type": "stream",
     "text": [
      "C:\\ProgramData\\Anaconda3\\lib\\site-packages\\ipykernel_launcher.py:6: DeprecationWarning: generator 'ngrams' raised StopIteration\n",
      "  \n"
     ]
    }
   ],
   "source": [
    "reviews_df['Review_Bigram'] = reviews_df['Review_Lemmatized'].apply(lambda row: sentenceToNGramTokens(text=row, ngram_size=2))"
   ]
  },
  {
   "cell_type": "code",
   "execution_count": 125,
   "metadata": {},
   "outputs": [],
   "source": [
    "reviews_df['Review_Bigram_Sentence'] = reviews_df['Review_Bigram'].apply(lambda row: ' '.join([x for x in row]))"
   ]
  },
  {
   "cell_type": "code",
   "execution_count": 126,
   "metadata": {},
   "outputs": [],
   "source": [
    "vectorizer = CountVectorizer(max_df=0.7,\n",
    "                             min_df=1,\n",
    "                             max_features=6000)"
   ]
  },
  {
   "cell_type": "markdown",
   "metadata": {},
   "source": [
    "The above object will help us with creating a sparse matrix where each row is a document and each column is a word.<br>\n",
    "The value under $x_i, y_i$ represents a count of how many times that specific word ($y_i$) appears in that document ($x_i$)."
   ]
  },
  {
   "cell_type": "code",
   "execution_count": 127,
   "metadata": {},
   "outputs": [],
   "source": [
    "cv = vectorizer.fit_transform(reviews_df['Review_Bigram_Sentence'])"
   ]
  },
  {
   "cell_type": "code",
   "execution_count": 128,
   "metadata": {},
   "outputs": [
    {
     "data": {
      "text/plain": [
       "(16583, 6000)"
      ]
     },
     "execution_count": 128,
     "metadata": {},
     "output_type": "execute_result"
    }
   ],
   "source": [
    "cv.shape"
   ]
  },
  {
   "cell_type": "markdown",
   "metadata": {},
   "source": [
    "Thus, we can see that we have created a matrix which consist of 16583 distinct documents (reviews) and a total of 6000 words. Note that 6000 is an arbitrary number that the data analyst has to decide depending on the context of the problem. As a reminder, in our project we are working with bigrams, and thus we have create a matrix where each column is a bigram combination.\n",
    "\n",
    "We can better visualize it as follows:"
   ]
  },
  {
   "cell_type": "code",
   "execution_count": 129,
   "metadata": {},
   "outputs": [],
   "source": [
    "word_counts = countVectorizerToDict(vectorizer=vectorizer, matrix=cv)"
   ]
  },
  {
   "cell_type": "code",
   "execution_count": 130,
   "metadata": {},
   "outputs": [
    {
     "data": {
      "text/html": [
       "<div>\n",
       "<style scoped>\n",
       "    .dataframe tbody tr th:only-of-type {\n",
       "        vertical-align: middle;\n",
       "    }\n",
       "\n",
       "    .dataframe tbody tr th {\n",
       "        vertical-align: top;\n",
       "    }\n",
       "\n",
       "    .dataframe thead th {\n",
       "        text-align: right;\n",
       "    }\n",
       "</style>\n",
       "<table border=\"1\" class=\"dataframe\">\n",
       "  <thead>\n",
       "    <tr style=\"text-align: right;\">\n",
       "      <th></th>\n",
       "      <th>Bigram</th>\n",
       "      <th>Count</th>\n",
       "    </tr>\n",
       "  </thead>\n",
       "  <tbody>\n",
       "    <tr>\n",
       "      <th>0</th>\n",
       "      <td>10</td>\n",
       "      <td>806</td>\n",
       "    </tr>\n",
       "    <tr>\n",
       "      <th>1</th>\n",
       "      <td>missing_item</td>\n",
       "      <td>744</td>\n",
       "    </tr>\n",
       "    <tr>\n",
       "      <th>2</th>\n",
       "      <td>money_back</td>\n",
       "      <td>737</td>\n",
       "    </tr>\n",
       "    <tr>\n",
       "      <th>3</th>\n",
       "      <td>first_time</td>\n",
       "      <td>706</td>\n",
       "    </tr>\n",
       "    <tr>\n",
       "      <th>4</th>\n",
       "      <td>hour_late</td>\n",
       "      <td>665</td>\n",
       "    </tr>\n",
       "    <tr>\n",
       "      <th>5</th>\n",
       "      <td>30</td>\n",
       "      <td>646</td>\n",
       "    </tr>\n",
       "    <tr>\n",
       "      <th>6</th>\n",
       "      <td>even_though</td>\n",
       "      <td>592</td>\n",
       "    </tr>\n",
       "    <tr>\n",
       "      <th>7</th>\n",
       "      <td>20</td>\n",
       "      <td>579</td>\n",
       "    </tr>\n",
       "    <tr>\n",
       "      <th>8</th>\n",
       "      <td>never_arrived</td>\n",
       "      <td>571</td>\n",
       "    </tr>\n",
       "    <tr>\n",
       "      <th>9</th>\n",
       "      <td>15</td>\n",
       "      <td>546</td>\n",
       "    </tr>\n",
       "    <tr>\n",
       "      <th>10</th>\n",
       "      <td>50</td>\n",
       "      <td>512</td>\n",
       "    </tr>\n",
       "    <tr>\n",
       "      <th>11</th>\n",
       "      <td>live_chat</td>\n",
       "      <td>464</td>\n",
       "    </tr>\n",
       "    <tr>\n",
       "      <th>12</th>\n",
       "      <td>stone_cold</td>\n",
       "      <td>455</td>\n",
       "    </tr>\n",
       "    <tr>\n",
       "      <th>13</th>\n",
       "      <td>said_would</td>\n",
       "      <td>422</td>\n",
       "    </tr>\n",
       "    <tr>\n",
       "      <th>14</th>\n",
       "      <td>item_missing</td>\n",
       "      <td>395</td>\n",
       "    </tr>\n",
       "  </tbody>\n",
       "</table>\n",
       "</div>"
      ],
      "text/plain": [
       "           Bigram  Count\n",
       "0              10    806\n",
       "1    missing_item    744\n",
       "2      money_back    737\n",
       "3      first_time    706\n",
       "4       hour_late    665\n",
       "5              30    646\n",
       "6     even_though    592\n",
       "7              20    579\n",
       "8   never_arrived    571\n",
       "9              15    546\n",
       "10             50    512\n",
       "11      live_chat    464\n",
       "12     stone_cold    455\n",
       "13     said_would    422\n",
       "14   item_missing    395"
      ]
     },
     "execution_count": 130,
     "metadata": {},
     "output_type": "execute_result"
    }
   ],
   "source": [
    "pd.DataFrame(sorted(word_counts.items(), key=lambda item: item[1], reverse=True), columns=['Bigram', 'Count']).head(15)"
   ]
  },
  {
   "cell_type": "markdown",
   "metadata": {},
   "source": [
    "Latent Dirichlet Allocation model requires the number of topics as an input from the user. As we saw above, seems like the reviews are splitted into 3 categories.\n",
    "Therefore, we are going to set this parameter to 3 and attempt to identify these topics in the reviews."
   ]
  },
  {
   "cell_type": "code",
   "execution_count": 131,
   "metadata": {},
   "outputs": [],
   "source": [
    "number_of_topics = 3"
   ]
  },
  {
   "cell_type": "code",
   "execution_count": 132,
   "metadata": {},
   "outputs": [],
   "source": [
    "lda_model = LatentDirichletAllocation(n_components=number_of_topics,\n",
    "                                      max_iter=10,\n",
    "                                      random_state=45,\n",
    "                                      n_jobs=-1,\n",
    "                                      verbose=0)"
   ]
  },
  {
   "cell_type": "code",
   "execution_count": 133,
   "metadata": {},
   "outputs": [
    {
     "data": {
      "text/plain": [
       "LatentDirichletAllocation(batch_size=128, doc_topic_prior=None,\n",
       "                          evaluate_every=-1, learning_decay=0.7,\n",
       "                          learning_method='batch', learning_offset=10.0,\n",
       "                          max_doc_update_iter=100, max_iter=10,\n",
       "                          mean_change_tol=0.001, n_components=3, n_jobs=-1,\n",
       "                          perp_tol=0.1, random_state=45, topic_word_prior=None,\n",
       "                          total_samples=1000000.0, verbose=0)"
      ]
     },
     "execution_count": 133,
     "metadata": {},
     "output_type": "execute_result"
    }
   ],
   "source": [
    "lda_model.fit(cv)"
   ]
  },
  {
   "cell_type": "code",
   "execution_count": 134,
   "metadata": {},
   "outputs": [
    {
     "data": {
      "text/plain": [
       "(3, 6000, 6000, 6000)"
      ]
     },
     "execution_count": 134,
     "metadata": {},
     "output_type": "execute_result"
    }
   ],
   "source": [
    "len(lda_model.components_), len(lda_model.components_[0]), len(lda_model.components_[1]), len(lda_model.components_[2])"
   ]
  },
  {
   "cell_type": "markdown",
   "metadata": {},
   "source": [
    "We can see the weight (parameter) of each word for a specific document, as follows:"
   ]
  },
  {
   "cell_type": "code",
   "execution_count": 135,
   "metadata": {},
   "outputs": [
    {
     "data": {
      "text/plain": [
       "array([ 28.22290733,   8.10877624,   1.4943486 , ...,   9.33262565,\n",
       "       204.32420069,  39.08952828])"
      ]
     },
     "execution_count": 135,
     "metadata": {},
     "output_type": "execute_result"
    }
   ],
   "source": [
    "lda_model.components_[0]"
   ]
  },
  {
   "cell_type": "markdown",
   "metadata": {},
   "source": [
    "The above can be interpreted as a pseudocount of the number of times that word (bigram) $x_i$ was assigned to document topic $z_i$. Hence, the first case in the example we have a pseudocount of 28.22290733 for word $x_1$ on topic 0 (which is the first topic)."
   ]
  },
  {
   "cell_type": "code",
   "execution_count": 136,
   "metadata": {},
   "outputs": [],
   "source": [
    "topic_weights = getWordWeightsPerTopic(lda_model,\n",
    "                                       feature_names=vectorizer.get_feature_names(),\n",
    "                                       sort=True)"
   ]
  },
  {
   "cell_type": "code",
   "execution_count": 137,
   "metadata": {},
   "outputs": [
    {
     "data": {
      "text/plain": [
       "[('never_arrived', 484.3687590949713),\n",
       " ('could_give', 368.7496680786886),\n",
       " ('hour_late', 335.22871884501365),\n",
       " ('star_would', 290.5105492377538),\n",
       " ('the', 277.50938397646837)]"
      ]
     },
     "execution_count": 137,
     "metadata": {},
     "output_type": "execute_result"
    }
   ],
   "source": [
    "# This corresponds to topic 0, and the top 5 bigrams accounting for this topic\n",
    "topic_weights[0][1][0:5]  # [1] is a positional index and should remain same independently of the document"
   ]
  },
  {
   "cell_type": "code",
   "execution_count": 141,
   "metadata": {},
   "outputs": [
    {
     "name": "stdout",
     "output_type": "stream",
     "text": [
      "Topic 0 : [('never_arrived', 484.3687590949713), ('could_give', 368.7496680786886), ('hour_late', 335.22871884501365), ('star_would', 290.5105492377538), ('the', 277.50938397646837)] \n",
      "\n",
      "Topic 1 : [('10', 750.7097176580332), ('30', 517.5506419461683), ('15', 470.24382439817094), ('50', 439.2050852797538), ('missing_item', 402.579311228515)] \n",
      "\n",
      "Topic 2 : [('money_back', 590.4584532167905), ('take_money', 255.9206874179631), ('missing_item', 247.4836568414474), ('last_time', 222.35736991795733), ('phone_number', 222.1955026220696)] \n",
      "\n"
     ]
    }
   ],
   "source": [
    "showTopWordsPerTopic(lda_model, feature_names=vectorizer.get_feature_names(), num_top_words=5)"
   ]
  },
  {
   "cell_type": "code",
   "execution_count": 107,
   "metadata": {},
   "outputs": [
    {
     "name": "stdout",
     "output_type": "stream",
     "text": [
      "[(0,\n",
      "  '0.019*\"food\" + 0.017*\"service\" + 0.010*\"refund\" + 0.010*\"time\" + '\n",
      "  '0.009*\"driver\" + 0.009*\"never\" + 0.008*\"customer\" + 0.008*\"delivered\" + '\n",
      "  '0.007*\"even\" + 0.007*\"restaurant\"'),\n",
      " (1,\n",
      "  '0.019*\"food\" + 0.012*\"service\" + 0.011*\"refund\" + 0.011*\"customer\" + '\n",
      "  '0.011*\"time\" + 0.010*\"would\" + 0.009*\"never\" + 0.009*\"driver\" + '\n",
      "  '0.008*\"ordered\" + 0.007*\"restaurant\"'),\n",
      " (2,\n",
      "  '0.022*\"food\" + 0.018*\"service\" + 0.014*\"customer\" + 0.010*\"never\" + '\n",
      "  '0.009*\"driver\" + 0.009*\"refund\" + 0.008*\"eats\" + 0.008*\"ordered\" + '\n",
      "  '0.007*\"said\" + 0.007*\"time\"')]\n"
     ]
    }
   ],
   "source": [
    "# Gensim\n",
    "from pprint import pprint\n",
    "import gensim\n",
    "import gensim.corpora as corpora\n",
    "\n",
    "# Create Dictionary\n",
    "id2word = corpora.Dictionary(base_df['Review_Lemma'])\n",
    "\n",
    "# Create Corpus\n",
    "texts = base_df['Review_Lemma']\n",
    "\n",
    "# Term Document Frequency\n",
    "corpus = [id2word.doc2bow(text) for text in texts]\n",
    "\n",
    "# Number of topics\n",
    "num_topics = 3\n",
    "\n",
    "# Build LDA model\n",
    "lda_model = gensim.models.LdaMulticore(corpus=corpus,\n",
    "                                       id2word=id2word,\n",
    "                                       num_topics=num_topics)\n",
    "# Print the Keyword in the 5 topics\n",
    "pprint(lda_model.print_topics())\n",
    "doc_lda = lda_model[corpus]"
   ]
  },
  {
   "cell_type": "code",
   "execution_count": 108,
   "metadata": {},
   "outputs": [],
   "source": [
    "import pyLDAvis.gensim\n",
    "import pickle \n",
    "import pyLDAvis"
   ]
  },
  {
   "cell_type": "code",
   "execution_count": 109,
   "metadata": {},
   "outputs": [],
   "source": [
    "# Visualize the topics\n",
    "pyLDAvis.enable_notebook()\n",
    "LDAvis_data_filepath = os.path.join('./results/ldavis_prepared_'+ str(num_topics))"
   ]
  },
  {
   "cell_type": "code",
   "execution_count": 110,
   "metadata": {},
   "outputs": [],
   "source": [
    "LDAvis_prepared = pyLDAvis.gensim.prepare(lda_model, corpus, id2word)"
   ]
  },
  {
   "cell_type": "code",
   "execution_count": 111,
   "metadata": {},
   "outputs": [
    {
     "data": {
      "text/html": [
       "\n",
       "<link rel=\"stylesheet\" type=\"text/css\" href=\"https://cdn.jsdelivr.net/gh/bmabey/pyLDAvis@3.2.2/pyLDAvis/js/ldavis.v1.0.0.css\">\n",
       "\n",
       "\n",
       "<div id=\"ldavis_el2555624529496799444409625272\"></div>\n",
       "<script type=\"text/javascript\">\n",
       "\n",
       "var ldavis_el2555624529496799444409625272_data = {\"mdsDat\": {\"x\": [0.0007929029455084797, -0.009669538450553777, 0.008876635505045295], \"y\": [-0.009764978642652081, 0.00425626741050583, 0.005508711232146248], \"topics\": [1, 2, 3], \"cluster\": [1, 1, 1], \"Freq\": [34.733362819255944, 32.6666689096319, 32.59996827111217]}, \"tinfo\": {\"Term\": [\"service\", \"eats\", \"minutes\", \"bad\", \"hour\", \"customer\", \"issue\", \"arrived\", \"avoid\", \"delivered\", \"even\", \"back\", \"told\", \"would\", \"meal\", \"got\", \"call\", \"times\", \"used\", \"hours\", \"using\", \"contacted\", \"time\", \"another\", \"email\", \"good\", \"asked\", \"orders\", \"rider\", \"star\", \"2-4\", \"lollipops\", \"transactions.waiting\", \"fact.items\", \"\\ud83e\\udd37\\ud83c\\udffc\", \"f**kin\", \"relived\", \"dc\", \"cancel/refund\", \"kristoffer\", \"beings\", \"cancelled.order\", \"magnum\", \"order.took\", \"\\ud83e\\udd2c\\ud83d\\ude21this\", \"faux-employer\", \"anyth\", \"169th\", \".literally\", \"help.poor\", \"estimatated\", \"else.never\", \"correct.disgusting\", \"unhelpful-\", \"anmd\", \"quairy\", \"shovel\", \"helpful.rubbish\", \"recommande\", \"9:51pm\", \"ivan\", \"pas\", \"yous\", \"global\", \"deliver\\u00f2o\", \"bothers\", \"guests\", \"times\", \"recommend\", \"would\", \"using\", \"\\u201c\", \"call\", \"back\", \"\\u201d\", \"awful\", \"time\", \"still\", \"us\", \"phone\", \"app\", \"email\", \"money\", \"anything\", \"went\", \"next\", \"chat\", \"refund\", \"absolutely\", \"mins\", \"food\", \"address\", \"account\", \"people\", \"ordered\", \"sent\", \"restaurant\", \"customer\", \"never\", \"driver\", \"go\", \"said\", \"service\", \"delivered\", \"hours\", \"told\", \"one\", \"company\", \"could\", \"give\", \"even\", \"cold\", \"late\", \"eat\", \"17.15\", \"cutleries\", \"deivery\", \"half-hearted\", \"10:20pm\", \"habe\", \"moment.stuart\", \"non-existentavoid\", \"service\\u2026..\", \"again\\u2026..\", \"\\u2026\\u2026\", \"mins\\u2026..\", \"apology.on\", \"barrel\", \"mn\", \"artlud\", \"away\\u2026\\u2026\", \"driver.ordered\", \"slashes\", \"roo.it/\", \"scam.scam\", \"ha151203\", \"\\u00a38-10\", \"daytook\", \"hastily\", \"deliveries.https\", \"expected.very\", \"10.36\", \"tailpipe\", \"chap.much\", \"yall\", \"g.\", \"useless.i\", \"bryan\", \"miserably\", \"10:40pm\", \"avoid\", \"hour\", \"minutes\", \"arrived\", \"bad\", \"delayed\", \"customer\", \"star\", \"got\", \"building\", \"contacted\", \"charisma\", \"told\", \"rider\", \"eats\", \"service\", \"good\", \"horrible\", \"wait\", \"food\", \"half\", \"said\", \"scam\", \"late\", \"another\", \"hours\", \"waited\", \"called\", \"joke\", \"never\", \"way\", \"driver\", \"response\", \"asked\", \"ordered\", \"app\", \"one\", \"company\", \"could\", \"refund\", \"eat\", \"restaurant\", \"back\", \"would\", \"time\", \"money\", \"even\", \"delivered\", \"cold\", \"presentable\", \"crew\", \"wifi\", \"sauces..well\", \"premise..\", \"safedeliveruined\", \"ucl\", \"addresses.second\", \"takers\", \"disjointed\", \"116\\u20ac\", \"drivers.they\", \"elsewhere.uber\", \"urinated\", \"traveled\", \"premiums\", \"occasions.be\", \"course.but\", \"midlands\", \"deliveroo.made\", \"house.we\", \"appriciated\", \"eatsutterly\", \"up.whilst\", \"eatsgeoffrey\", \"me.really\", \"realy\", \"arrived-\", \"complecated\", \"intervened\", \"-50\", \"bycicle\", \"bbc\", \"issue\", \"price\", \"funding\", \"mandatory\", \"meal\", \"seamlessly\", \"even\", \"delivered\", \"fee\", \"discount\", \"though\", \"shopping\", \"bag\", \"used\", \"family\", \"month\", \"like\", \"know\", \"since\", \"appealing\", \"cancer\", \"claim\", \"service\", \"always\", \"wrong\", \"ask\", \"code\", \"last\", \"tip\", \"eats\", \"time\", \"take\", \"really\", \"completely\", \"plus\", \"food\", \"drivers\", \"refund\", \"cold\", \"driver\", \"eat\", \"never\", \"restaurant\", \"cancel\", \"ordered\", \"company\", \"missing\", \"could\", \"help\", \"customer\", \"bad\", \"money\", \"said\", \"would\", \"one\", \"still\", \"give\", \"app\", \"late\", \"told\", \"got\"], \"Freq\": [9741.0, 3732.0, 2284.0, 2875.0, 2226.0, 6930.0, 1355.0, 2000.0, 1084.0, 3713.0, 3563.0, 2844.0, 3225.0, 4959.0, 1324.0, 2703.0, 2123.0, 1878.0, 1357.0, 2146.0, 2281.0, 1426.0, 5859.0, 1410.0, 1661.0, 1874.0, 1272.0, 1601.0, 937.0, 696.0, 3.217584576530293, 4.331030888384242, 2.520764480269646, 2.5167720956577337, 2.5138495057834724, 2.512630929003635, 2.5116028171705644, 2.511366281645051, 2.5108756598973585, 2.5101800141022568, 2.51039221798012, 2.5079766039118074, 2.5064999521150946, 2.505934939346309, 2.507713941781031, 2.5068405951821915, 2.506397240651655, 2.5021015082030598, 2.5028585814364903, 2.5005408922779813, 2.50078919474785, 2.4991350415871345, 2.500971083786019, 2.4995345193760077, 2.496829119372981, 2.4966621883149243, 2.494247372005551, 2.4928602686497787, 2.4923911863934487, 2.49114369085206, 5.3708957050287, 7.381873276287137, 6.855104273294524, 9.824369427578686, 5.666062523788726, 3.5831111410232976, 19.279622175997616, 940.3145049122885, 294.95243859577636, 2263.5196033687826, 1072.4418677456172, 340.68156375231393, 986.4536143429302, 1276.2902354690978, 315.8930363669386, 461.34641980581455, 2320.4170473366066, 1023.8433632360719, 656.1013567522948, 828.2352199129349, 1475.4491591567237, 735.0586096086706, 1501.4629932163487, 460.38767949459077, 534.3899430835281, 355.44130395949486, 609.8826501257217, 2458.2548835349976, 612.2021501970231, 418.4224448345607, 4177.868619908979, 757.1069307684958, 966.1540318347041, 558.9513708361245, 1737.6528402082736, 494.5193042946215, 1644.1850032166508, 2409.358821323151, 1951.7062934534708, 1915.8043330718353, 665.6627210127529, 1306.9431717844698, 2591.907306177478, 1250.2770140883383, 825.3439372904888, 1106.609640598707, 1014.5895637660501, 1120.793564785546, 1046.3782024716054, 837.8165472930909, 1074.1709496169508, 888.302664330395, 846.9702758817622, 839.6331911856063, 3.14123441423227, 6.074119789427465, 3.1282958346926573, 3.0930788665263775, 3.085292534812829, 3.088364413458797, 4.182538438349971, 2.443005795397623, 2.4430877646818807, 2.4358377034115652, 2.435422417381024, 2.4353777750706045, 2.4356377508783416, 2.4560158401484538, 2.455110614139695, 2.4326887323723936, 2.4333790000293, 2.4347430289426226, 2.4342048827720615, 2.4328787435507757, 2.431108619670822, 2.4307529817693285, 2.4303673322305785, 2.4309099801467284, 2.429687193501246, 2.4298560089608157, 2.4291383556849118, 2.4262923146093014, 2.4253518249267656, 2.4251479333661523, 7.5216230706159495, 12.407585892500654, 5.118268650362034, 11.787976133769432, 6.097995922592593, 3.489245233262207, 585.8846855593781, 1074.3779107866724, 1097.818007875259, 955.857105378918, 1305.3687913822498, 81.6860824438735, 2802.3808540040277, 345.41447327572115, 1182.1834572654916, 98.18962582725646, 655.9821704301432, 11.588462520740764, 1377.5721808346707, 443.120767687284, 1554.9613169171794, 3719.0301802472036, 817.7086892052048, 255.4279162552158, 498.26693506289854, 4436.996129392456, 507.202287818716, 1500.7261107742033, 183.48654040070164, 1066.1402205551817, 600.2402840596358, 866.115107188091, 440.42082476242143, 817.2315762007507, 336.1116100147116, 1980.0279959845343, 642.8559446291641, 1896.303114979911, 421.3536873245611, 522.7401047337942, 1547.9928548392443, 1232.5948446916118, 1032.729441253347, 1144.6909992594904, 1076.8955270128722, 1892.5023452004684, 1018.0958629641618, 1373.9887433275871, 990.5926223585785, 1436.0748977397075, 1484.8094749690147, 1107.5558958206334, 947.1099375933557, 886.1906356377805, 836.1819323557174, 3.1393895797269944, 3.12465812185819, 2.4432805556380828, 2.4382460876797927, 2.4376925676294987, 2.437407852040558, 2.435542880697615, 2.433713662594309, 2.432912864902338, 2.431962876990521, 2.43267176452196, 2.429958823673494, 2.4292684679259504, 3.5587745190981646, 2.4260063123911255, 2.424882799593741, 2.424572439010925, 2.4212700376827914, 2.4209570564436667, 2.420672528044462, 2.41788414973226, 2.418967603926072, 2.4170154021660046, 2.4184822209397976, 2.414102917058623, 2.4127875347815118, 2.411781202759063, 2.4100603675130854, 2.409028016117288, 2.4105172976594393, 3.536987131308565, 4.035287332527212, 6.017101011362067, 723.6812471162903, 189.01309014189016, 2.94132093750272, 8.312040439798132, 640.1975718333837, 2.9370561937401725, 1541.8310023491056, 1577.2375007035173, 204.55138369480062, 240.5271544901972, 355.7225561468075, 34.592327827677884, 245.42978846099263, 613.1008841146312, 163.57138731491378, 126.23160534394631, 795.8538463080147, 556.8191780482543, 283.14344673858614, 4.908682445555358, 5.374146571987934, 123.39425220665127, 3430.162246667861, 430.1169447618094, 861.1273206772635, 257.4139329531894, 355.2431108189693, 530.4133612231993, 176.2100429664255, 1381.4557015772036, 2053.7881384394445, 680.9896716485075, 465.1656681219541, 316.1806801078591, 183.02468381958784, 3843.99702682988, 656.894345226423, 2124.625478799097, 1007.0812126794559, 1870.4714386311998, 1054.404119796839, 1826.6900535036773, 1448.6389066016259, 467.14598578041637, 1430.707315896469, 1079.3212840372569, 710.7667486693393, 994.7156923110372, 578.4686384500628, 1719.1827409751427, 906.0808430080766, 1075.883653848571, 1091.6739616922462, 1259.8836051794863, 854.6800868534401, 761.3394852517903, 744.723410102837, 882.735473545579, 790.9644623755148, 740.871937850062, 719.1109662760517], \"Total\": [9741.0, 3732.0, 2284.0, 2875.0, 2226.0, 6930.0, 1355.0, 2000.0, 1084.0, 3713.0, 3563.0, 2844.0, 3225.0, 4959.0, 1324.0, 2703.0, 2123.0, 1878.0, 1357.0, 2146.0, 2281.0, 1426.0, 5859.0, 1410.0, 1661.0, 1874.0, 1272.0, 1601.0, 937.0, 696.0, 3.9066969666609896, 5.353588424848034, 3.1623439763048715, 3.1621799829762955, 3.161226771539594, 3.161615716334433, 3.160672541974785, 3.1608716908044387, 3.1605484477996626, 3.159935745590671, 3.160570572231558, 3.1578347872793935, 3.1576916326886924, 3.1597988170518776, 3.1620533524895893, 3.1611149419762508, 3.1606829762173634, 3.159637332089473, 3.160656495779086, 3.1597068346663653, 3.16119723866119, 3.1593122457011176, 3.161800957066539, 3.1609245718735672, 3.1599371257686824, 3.1604406452479776, 3.160540147180178, 3.160312896102014, 3.159773616575916, 3.1607379534518847, 6.82721520588786, 9.7489710998233, 9.03802437397303, 13.432044591429772, 7.530401363183356, 4.632756515219558, 28.071989116617686, 1878.5781013684275, 539.3684284811281, 4959.4781062879765, 2281.400145974778, 658.9560808422552, 2123.2012879176928, 2844.9091893935865, 623.8498879015375, 960.9694568822625, 5859.014660745066, 2368.7478505710765, 1449.9288382214202, 1881.950711384049, 3590.779477393915, 1661.1324751390682, 3684.902542885553, 995.3224214614132, 1178.2989291791457, 750.4413017920671, 1368.149712317354, 6475.382707534563, 1398.8990351457726, 930.7820599178426, 12458.861776131316, 1815.9744960921403, 2404.782612460269, 1299.3505970841957, 4716.353010943987, 1133.3060827452637, 4466.812653145864, 6930.922416302321, 5758.424342941683, 5682.578886682946, 1613.2941707797715, 3899.3432442509193, 9741.099733092542, 3713.705150429636, 2146.580177240463, 3225.05375928344, 2901.999091872837, 3344.805848082294, 3117.9894217955143, 2279.212145711963, 3563.111889559412, 2731.5658093655684, 2704.0749588124586, 2912.1331739466073, 3.8104250257730348, 7.376816080972617, 3.812564819896463, 3.8110724361510027, 3.813142869484484, 3.8386648919212596, 5.230392156062837, 3.092711494039421, 3.0938785958252852, 3.090892242276997, 3.091045284304752, 3.091221245589927, 3.0919197373154454, 3.1178241299959084, 3.1186006754535693, 3.090161833535823, 3.0910489111228974, 3.093055551895352, 3.09262940357267, 3.0915415274256297, 3.089904843026098, 3.0909318681025253, 3.0910753016482824, 3.0918014474499236, 3.0903178847848447, 3.0911087534170743, 3.0918641231755046, 3.0918840538040397, 3.0911804555833347, 3.093727390008577, 9.63514018349936, 16.162880830030442, 6.688647111622556, 16.162649198499192, 8.090068856388692, 4.536781688877216, 1084.9329040868633, 2226.002033896604, 2284.998018229533, 2000.69307601743, 2875.014134515335, 142.37433865425405, 6930.922416302321, 696.570634114451, 2703.3765781226884, 175.77104423685063, 1426.6429460406239, 16.908344035417848, 3225.05375928344, 937.4160438456589, 3732.7982983460242, 9741.099733092542, 1874.4679423636521, 514.9490423686173, 1089.3296373191058, 12458.861776131316, 1126.5807641258857, 3899.3432442509193, 369.54401770402797, 2704.0749588124586, 1410.237765290746, 2146.580177240463, 1015.0262277510691, 2072.644857442696, 746.8533770433692, 5758.424342941683, 1591.665648669075, 5682.578886682946, 980.7877855606135, 1272.2739955949294, 4716.353010943987, 3590.779477393915, 2901.999091872837, 3344.805848082294, 3117.9894217955143, 6475.382707534563, 2912.1331739466073, 4466.812653145864, 2844.9091893935865, 4959.4781062879765, 5859.014660745066, 3684.902542885553, 3563.111889559412, 3713.705150429636, 2731.5658093655684, 3.8172920811320363, 3.81832108239436, 3.097412015531123, 3.094900073352183, 3.0947975380150674, 3.0963377843157343, 3.09520240501055, 3.0954210310981765, 3.095090270334219, 3.0953249654113484, 3.0966851534480053, 3.0932772771363584, 3.0950287384749866, 4.538066090807745, 3.0964560118629745, 3.095280473814124, 3.0955149759006457, 3.0919310959842194, 3.093116735413582, 3.094044799170356, 3.0948211535895545, 3.096352609212845, 3.094067209274735, 3.096306257869254, 3.09212743279793, 3.095124396054642, 3.09540633768086, 3.094168173422206, 3.093684851822987, 3.0970617476340516, 4.548265650742895, 5.248617774014307, 8.130817760302225, 1355.5366912947175, 323.16349850579775, 3.823256611691031, 11.73991710643351, 1324.424234876909, 3.817642724137308, 3563.111889559412, 3713.705150429636, 394.5666536924662, 471.8102032713142, 731.7175166975571, 56.63901792034957, 494.2074992214224, 1357.6840524793433, 318.2020506463309, 243.7182431456155, 1904.477535291158, 1282.4979897984927, 606.0176819085669, 6.714129375075604, 7.428760309494856, 241.68646367823476, 9741.099733092542, 970.9114411641956, 2124.466733727306, 554.1025203303793, 795.9813450865213, 1251.3793968384202, 364.35429790348485, 3732.7982983460242, 5859.014660745066, 1685.316977813542, 1097.9719590179488, 711.4944289018216, 386.2467678807164, 12458.861776131316, 1653.9884190112598, 6475.382707534563, 2731.5658093655684, 5682.578886682946, 2912.1331739466073, 5758.424342941683, 4466.812653145864, 1131.576300908458, 4716.353010943987, 3344.805848082294, 1991.5940773499474, 3117.9894217955143, 1523.2770130773167, 6930.922416302321, 2875.014134515335, 3684.902542885553, 3899.3432442509193, 4959.4781062879765, 2901.999091872837, 2368.7478505710765, 2279.212145711963, 3590.779477393915, 2704.0749588124586, 3225.05375928344, 2703.3765781226884], \"Category\": [\"Default\", \"Default\", \"Default\", \"Default\", \"Default\", \"Default\", \"Default\", \"Default\", \"Default\", \"Default\", \"Default\", \"Default\", \"Default\", \"Default\", \"Default\", \"Default\", \"Default\", \"Default\", \"Default\", \"Default\", \"Default\", \"Default\", \"Default\", \"Default\", \"Default\", \"Default\", \"Default\", \"Default\", \"Default\", \"Default\", \"Topic1\", \"Topic1\", \"Topic1\", \"Topic1\", \"Topic1\", \"Topic1\", \"Topic1\", \"Topic1\", \"Topic1\", \"Topic1\", \"Topic1\", \"Topic1\", \"Topic1\", \"Topic1\", \"Topic1\", \"Topic1\", \"Topic1\", \"Topic1\", \"Topic1\", \"Topic1\", \"Topic1\", \"Topic1\", \"Topic1\", \"Topic1\", \"Topic1\", \"Topic1\", \"Topic1\", \"Topic1\", \"Topic1\", \"Topic1\", \"Topic1\", \"Topic1\", \"Topic1\", \"Topic1\", \"Topic1\", \"Topic1\", \"Topic1\", \"Topic1\", \"Topic1\", \"Topic1\", \"Topic1\", \"Topic1\", \"Topic1\", \"Topic1\", \"Topic1\", \"Topic1\", \"Topic1\", \"Topic1\", \"Topic1\", \"Topic1\", \"Topic1\", \"Topic1\", \"Topic1\", \"Topic1\", \"Topic1\", \"Topic1\", \"Topic1\", \"Topic1\", \"Topic1\", \"Topic1\", \"Topic1\", \"Topic1\", \"Topic1\", \"Topic1\", \"Topic1\", \"Topic1\", \"Topic1\", \"Topic1\", \"Topic1\", \"Topic1\", \"Topic1\", \"Topic1\", \"Topic1\", \"Topic1\", \"Topic1\", \"Topic1\", \"Topic1\", \"Topic1\", \"Topic1\", \"Topic1\", \"Topic1\", \"Topic1\", \"Topic1\", \"Topic1\", \"Topic2\", \"Topic2\", \"Topic2\", \"Topic2\", \"Topic2\", \"Topic2\", \"Topic2\", \"Topic2\", \"Topic2\", \"Topic2\", \"Topic2\", \"Topic2\", \"Topic2\", \"Topic2\", \"Topic2\", \"Topic2\", \"Topic2\", \"Topic2\", \"Topic2\", \"Topic2\", \"Topic2\", \"Topic2\", \"Topic2\", \"Topic2\", \"Topic2\", \"Topic2\", \"Topic2\", \"Topic2\", \"Topic2\", \"Topic2\", \"Topic2\", \"Topic2\", \"Topic2\", \"Topic2\", \"Topic2\", \"Topic2\", \"Topic2\", \"Topic2\", \"Topic2\", \"Topic2\", \"Topic2\", \"Topic2\", \"Topic2\", \"Topic2\", \"Topic2\", \"Topic2\", \"Topic2\", \"Topic2\", \"Topic2\", \"Topic2\", \"Topic2\", \"Topic2\", \"Topic2\", \"Topic2\", \"Topic2\", \"Topic2\", \"Topic2\", \"Topic2\", \"Topic2\", \"Topic2\", \"Topic2\", \"Topic2\", \"Topic2\", \"Topic2\", \"Topic2\", \"Topic2\", \"Topic2\", \"Topic2\", \"Topic2\", \"Topic2\", \"Topic2\", \"Topic2\", \"Topic2\", \"Topic2\", \"Topic2\", \"Topic2\", \"Topic2\", \"Topic2\", \"Topic2\", \"Topic2\", \"Topic2\", \"Topic2\", \"Topic2\", \"Topic2\", \"Topic2\", \"Topic3\", \"Topic3\", \"Topic3\", \"Topic3\", \"Topic3\", \"Topic3\", \"Topic3\", \"Topic3\", \"Topic3\", \"Topic3\", \"Topic3\", \"Topic3\", \"Topic3\", \"Topic3\", \"Topic3\", \"Topic3\", \"Topic3\", \"Topic3\", \"Topic3\", \"Topic3\", \"Topic3\", \"Topic3\", \"Topic3\", \"Topic3\", \"Topic3\", \"Topic3\", \"Topic3\", \"Topic3\", \"Topic3\", \"Topic3\", \"Topic3\", \"Topic3\", \"Topic3\", \"Topic3\", \"Topic3\", \"Topic3\", \"Topic3\", \"Topic3\", \"Topic3\", \"Topic3\", \"Topic3\", \"Topic3\", \"Topic3\", \"Topic3\", \"Topic3\", \"Topic3\", \"Topic3\", \"Topic3\", \"Topic3\", \"Topic3\", \"Topic3\", \"Topic3\", \"Topic3\", \"Topic3\", \"Topic3\", \"Topic3\", \"Topic3\", \"Topic3\", \"Topic3\", \"Topic3\", \"Topic3\", \"Topic3\", \"Topic3\", \"Topic3\", \"Topic3\", \"Topic3\", \"Topic3\", \"Topic3\", \"Topic3\", \"Topic3\", \"Topic3\", \"Topic3\", \"Topic3\", \"Topic3\", \"Topic3\", \"Topic3\", \"Topic3\", \"Topic3\", \"Topic3\", \"Topic3\", \"Topic3\", \"Topic3\", \"Topic3\", \"Topic3\", \"Topic3\", \"Topic3\", \"Topic3\", \"Topic3\", \"Topic3\", \"Topic3\", \"Topic3\", \"Topic3\", \"Topic3\", \"Topic3\"], \"logprob\": [30.0, 29.0, 28.0, 27.0, 26.0, 25.0, 24.0, 23.0, 22.0, 21.0, 20.0, 19.0, 18.0, 17.0, 16.0, 15.0, 14.0, 13.0, 12.0, 11.0, 10.0, 9.0, 8.0, 7.0, 6.0, 5.0, 4.0, 3.0, 2.0, 1.0, -11.1295, -10.8323, -11.3736, -11.3752, -11.3763, -11.3768, -11.3772, -11.3773, -11.3775, -11.3778, -11.3777, -11.3787, -11.3792, -11.3795, -11.3788, -11.3791, -11.3793, -11.381, -11.3807, -11.3816, -11.3815, -11.3822, -11.3815, -11.382, -11.3831, -11.3832, -11.3841, -11.3847, -11.3849, -11.3854, -10.6171, -10.2991, -10.3731, -10.0133, -10.5636, -11.0219, -9.3391, -5.4519, -6.6113, -4.5735, -5.3204, -6.4672, -5.404, -5.1464, -6.5427, -6.164, -4.5486, -5.3668, -5.8118, -5.5788, -5.0014, -5.6982, -4.9839, -6.1661, -6.017, -6.4248, -5.8849, -4.4909, -5.8811, -6.2616, -3.9606, -5.6686, -5.4248, -5.9721, -4.8378, -6.0945, -4.8931, -4.511, -4.7217, -4.7402, -5.7974, -5.1227, -4.438, -5.167, -5.5823, -5.2891, -5.3759, -5.2763, -5.345, -5.5673, -5.3188, -5.5088, -5.5565, -5.5652, -11.0922, -10.4328, -11.0963, -11.1076, -11.1101, -11.1091, -10.8059, -11.3436, -11.3435, -11.3465, -11.3467, -11.3467, -11.3466, -11.3382, -11.3386, -11.3478, -11.3475, -11.3469, -11.3472, -11.3477, -11.3484, -11.3486, -11.3487, -11.3485, -11.349, -11.349, -11.3493, -11.3504, -11.3508, -11.3509, -10.219, -9.7185, -10.604, -9.7697, -10.4288, -10.9871, -5.8637, -5.2573, -5.2357, -5.3742, -5.0625, -7.8339, -4.2986, -6.392, -5.1617, -7.6499, -5.7507, -9.7868, -5.0087, -6.1429, -4.8876, -4.0156, -5.5303, -6.6938, -6.0257, -3.8391, -6.0079, -4.9231, -7.0246, -5.265, -5.8395, -5.4728, -6.1491, -5.5309, -6.4193, -4.6459, -5.7709, -4.6891, -6.1933, -5.9777, -4.8921, -5.1199, -5.2968, -5.1939, -5.255, -4.6911, -5.3111, -5.0113, -5.3385, -4.9671, -4.9337, -5.2269, -5.3834, -5.4499, -5.5079, -11.0907, -11.0954, -11.3414, -11.3435, -11.3437, -11.3438, -11.3446, -11.3453, -11.3457, -11.346, -11.3458, -11.3469, -11.3472, -10.9653, -11.3485, -11.349, -11.3491, -11.3505, -11.3506, -11.3507, -11.3519, -11.3514, -11.3522, -11.3516, -11.3534, -11.354, -11.3544, -11.3551, -11.3555, -11.3549, -10.9715, -10.8397, -10.4401, -5.6504, -6.9929, -11.1559, -10.117, -5.773, -11.1573, -4.894, -4.8713, -6.9139, -6.7519, -6.3606, -8.6911, -6.7317, -5.8162, -7.1375, -7.3966, -5.5553, -5.9125, -6.5888, -10.6437, -10.5531, -7.4194, -4.0944, -6.1707, -5.4765, -6.6841, -6.3619, -5.9611, -7.0631, -5.0039, -4.6073, -5.7112, -6.0924, -6.4784, -7.0251, -3.9805, -5.7472, -4.5734, -5.3199, -4.7008, -5.274, -4.7245, -4.9564, -6.0881, -4.9688, -5.2507, -5.6684, -5.3323, -5.8744, -4.7851, -5.4256, -5.2538, -5.2393, -5.096, -5.484, -5.5997, -5.6217, -5.4517, -5.5615, -5.6269, -5.6567], \"loglift\": [30.0, 29.0, 28.0, 27.0, 26.0, 25.0, 24.0, 23.0, 22.0, 21.0, 20.0, 19.0, 18.0, 17.0, 16.0, 15.0, 14.0, 13.0, 12.0, 11.0, 10.0, 9.0, 8.0, 7.0, 6.0, 5.0, 4.0, 3.0, 2.0, 1.0, 0.8634, 0.8455, 0.8307, 0.8292, 0.8283, 0.8277, 0.8276, 0.8274, 0.8274, 0.8273, 0.8272, 0.8271, 0.8265, 0.8256, 0.8256, 0.8256, 0.8255, 0.8241, 0.8241, 0.8235, 0.8231, 0.8231, 0.823, 0.8227, 0.8219, 0.8217, 0.8207, 0.8202, 0.8202, 0.8194, 0.8175, 0.7793, 0.781, 0.7447, 0.773, 0.8005, 0.6817, 0.3654, 0.4539, 0.2731, 0.3026, 0.3978, 0.2909, 0.2559, 0.377, 0.3237, 0.1312, 0.2187, 0.2645, 0.2367, 0.1681, 0.2422, 0.1597, 0.2865, 0.2668, 0.3102, 0.2495, 0.0889, 0.2311, 0.2579, -0.0352, 0.1826, 0.1456, 0.2139, 0.059, 0.2282, 0.058, 0.0008, -0.0245, -0.0298, 0.1722, -0.0356, -0.2665, -0.0312, 0.1016, -0.0122, 0.0066, -0.0359, -0.0344, 0.0567, -0.1416, -0.0658, -0.1034, -0.1862, 0.9257, 0.9245, 0.921, 0.9101, 0.907, 0.9013, 0.8952, 0.883, 0.8827, 0.8806, 0.8804, 0.8804, 0.8802, 0.8802, 0.8796, 0.8796, 0.8796, 0.8795, 0.8794, 0.8792, 0.879, 0.8785, 0.8783, 0.8783, 0.8783, 0.8781, 0.8776, 0.8764, 0.8762, 0.8753, 0.8712, 0.8544, 0.8512, 0.8032, 0.8361, 0.8563, 0.5027, 0.3903, 0.3858, 0.3802, 0.3292, 0.5632, 0.2133, 0.4174, 0.2917, 0.5365, 0.3419, 0.741, 0.2682, 0.3695, 0.2431, 0.1559, 0.2892, 0.4177, 0.3366, 0.0864, 0.3208, 0.164, 0.4187, 0.1881, 0.2646, 0.2112, 0.2839, 0.1882, 0.3204, 0.0513, 0.2122, 0.0213, 0.2739, 0.2293, 0.0047, 0.0496, 0.0856, 0.0465, 0.0557, -0.1113, 0.0679, -0.0601, 0.0638, -0.1206, -0.2539, -0.0833, -0.2062, -0.314, -0.065, 0.9253, 0.9204, 0.8836, 0.8824, 0.8822, 0.8816, 0.8812, 0.8804, 0.8801, 0.8797, 0.8795, 0.8795, 0.8787, 0.8778, 0.8768, 0.8768, 0.8766, 0.8764, 0.8758, 0.8754, 0.874, 0.874, 0.8739, 0.8738, 0.8733, 0.8718, 0.8713, 0.871, 0.8707, 0.8702, 0.8694, 0.858, 0.8198, 0.4933, 0.5845, 0.8586, 0.7756, 0.3939, 0.8586, 0.2832, 0.2645, 0.4639, 0.4471, 0.3996, 0.6278, 0.4209, 0.3259, 0.4554, 0.463, 0.2483, 0.2865, 0.3599, 0.8077, 0.7971, 0.4486, 0.0771, 0.3067, 0.2178, 0.3542, 0.3141, 0.2625, 0.3944, 0.1268, 0.0726, 0.2147, 0.262, 0.3098, 0.374, -0.0551, 0.1974, 0.0064, 0.123, 0.0096, 0.1049, -0.0273, -0.0052, 0.2361, -0.072, -0.0102, 0.0905, -0.0216, 0.1526, -0.2733, -0.0338, -0.1102, -0.1522, -0.2494, -0.1016, -0.0142, 0.0023, -0.2822, -0.1084, -0.35, -0.2034]}, \"token.table\": {\"Topic\": [1, 3, 1, 2, 2, 2, 3, 3, 1, 2, 1, 1, 1, 2, 3, 1, 2, 3, 1, 2, 3, 3, 2, 1, 2, 3, 1, 1, 2, 3, 1, 1, 2, 3, 2, 1, 2, 3, 1, 2, 3, 3, 1, 2, 3, 3, 2, 1, 2, 3, 1, 2, 3, 1, 2, 3, 2, 1, 2, 3, 1, 2, 3, 1, 2, 3, 1, 2, 3, 2, 1, 2, 3, 1, 1, 3, 1, 2, 3, 1, 2, 3, 1, 3, 1, 2, 3, 1, 2, 3, 1, 2, 3, 1, 1, 1, 2, 3, 2, 1, 2, 3, 1, 2, 3, 1, 2, 3, 1, 2, 3, 1, 2, 3, 1, 2, 3, 3, 1, 2, 3, 1, 2, 3, 1, 1, 2, 3, 3, 3, 1, 2, 3, 1, 2, 2, 1, 2, 1, 2, 3, 1, 2, 3, 2, 3, 1, 2, 3, 1, 2, 3, 3, 1, 2, 3, 2, 1, 2, 3, 3, 1, 2, 3, 1, 2, 3, 3, 3, 1, 3, 1, 2, 3, 1, 1, 2, 3, 2, 1, 1, 1, 2, 3, 1, 1, 2, 3, 1, 2, 3, 1, 3, 1, 2, 3, 1, 2, 3, 1, 2, 3, 1, 2, 3, 1, 2, 3, 1, 2, 3, 1, 2, 3, 2, 2, 1, 2, 3, 2, 2, 1, 2, 3, 1, 1, 1, 2, 3, 1, 2, 3, 1, 2, 3, 3, 3, 1, 2, 3, 1, 2, 3, 1, 2, 3, 1, 2, 3, 1, 1, 2, 3, 1, 2, 3, 1, 2, 3, 1, 2, 1, 1, 2, 3, 3, 1, 2, 3, 3, 1, 2, 3, 2, 1, 2, 3, 1, 2, 3, 1, 2, 3, 2, 1, 2, 3, 1, 2, 3, 1, 2, 3, 1, 2, 3, 1, 2, 3, 2, 3, 1, 2, 3, 1, 1, 2, 3, 1, 2, 3, 1, 2, 3, 1, 2, 3, 1, 2, 3, 1, 2, 3, 3, 3, 3, 1, 2, 3, 1, 1, 2, 3, 3, 1, 1, 2, 3, 1, 2, 3, 1, 1, 2, 3, 1, 2, 3, 1, 2, 3, 2, 3, 1, 2, 3, 3, 1, 2, 3, 2, 3, 1, 2, 3, 1, 2, 3, 2, 1, 2, 3, 1, 1, 2, 3, 2, 1, 2, 3, 1, 2, 3, 2, 1, 2, 3, 3, 1, 2, 3, 1, 2, 3, 1, 2, 3, 1, 2, 3, 1, 2, 3, 1, 3, 3, 1, 3, 2, 3, 1, 2, 3, 1, 2, 3, 1, 2, 1, 2, 3, 1, 2, 3, 1, 2, 3, 1, 2, 3, 1, 2, 3, 3, 1, 2, 3, 1, 2, 3, 1, 2, 3, 1, 3, 2, 1, 2, 3, 1, 2, 3, 2, 1, 1], \"Freq\": [0.21986402659586607, 0.8794561063834643, 0.949169896825664, 0.6468547866597192, 0.7867525824978028, 0.661261706146247, 0.22042056871541568, 0.6458519032111156, 0.9494760583855032, 0.7873137457655079, 0.7679121328327819, 0.6327636233860428, 0.4374868983566254, 0.31739245567049296, 0.24519282048418714, 0.40169951121349434, 0.33350207866793213, 0.26488880811904336, 0.41685607459191476, 0.34196515498227087, 0.24119281462517655, 0.6461156591969174, 0.6470623506844227, 0.2883888150130964, 0.26778961394073236, 0.44288282305582655, 0.6329239856357846, 0.3772413511350822, 0.42546017045310025, 0.1971298789766031, 0.9491619446093055, 0.46216179810818553, 0.23108089905409276, 0.3064333661369491, 0.646847321378561, 0.41077432053012425, 0.3433794828567072, 0.24590761018854218, 0.14893963820718595, 0.14893963820718595, 0.7446981910359297, 0.6459212668638666, 0.24641460797243495, 0.47783441221429573, 0.27590438864256406, 0.6463772774793827, 0.6472152941296155, 0.3645534762764823, 0.16964369688113534, 0.46381308615374234, 0.3961410841886492, 0.41107497426718953, 0.19256858259170445, 0.24333301995499557, 0.5401255670213159, 0.21660325639933317, 0.6470295545318473, 0.47972388372847263, 0.3225908979519013, 0.19667638617067532, 0.44852046763291903, 0.3483415230597357, 0.20316992969578934, 0.23095538628088727, 0.45391081189240645, 0.31512888549771667, 0.18413318321426117, 0.3197037686577282, 0.495743185576857, 0.6414730005962923, 0.12298885911357946, 0.12298885911357946, 0.7379331546814767, 0.9491957010413518, 0.8634168419728464, 0.2158542104932116, 0.18561313576480826, 0.742452543059233, 0.12374209050987217, 0.22756876807365492, 0.5575434817804545, 0.21619032966997218, 0.19052635247149435, 0.7621054098859774, 0.46439308680290464, 0.33063280622275765, 0.20487930300128146, 0.3203636154142042, 0.39418234005030856, 0.28562539205603754, 0.22976797922620457, 0.35702409079764097, 0.41269863961014436, 0.9492023455892807, 0.9500180351691626, 0.13461196193419767, 0.13461196193419767, 0.6730598096709883, 0.6464693710438576, 0.17742719178861696, 0.7097087671544678, 0.11828479452574464, 0.4458576386109017, 0.28578743720797145, 0.26897641148985546, 0.2937690382797965, 0.1944668281570484, 0.5089238268790841, 0.2701068326879319, 0.282669941185045, 0.4459903516475155, 0.3250882687707408, 0.30605156834722896, 0.3686530255091621, 0.33514650802309276, 0.3423218123875479, 0.32258972538529623, 0.6464782600016542, 0.2656380602891269, 0.29093692317380565, 0.44413559286436033, 0.3049116117016243, 0.4598207293707253, 0.23551793455573736, 0.9488263305427503, 0.3354725941942594, 0.34541489861110647, 0.31911589983105937, 0.646844945088714, 0.7856856286477579, 0.3475727840112244, 0.40427519335801193, 0.24801893553976534, 0.1355598389634993, 0.8133590337809958, 0.6468720692428594, 0.9491052764740675, 0.7868718675533156, 0.16856970312804959, 0.5759464856875027, 0.2528545546920744, 0.33659107262605065, 0.2385757522773447, 0.42464329722502553, 0.6470170283685732, 0.6464030516094287, 0.7967702796472985, 0.13279504660788308, 0.13279504660788308, 0.26705653910486493, 0.2246666122628229, 0.5107986184466068, 0.6461357118716009, 0.3371708581978725, 0.333651329406663, 0.32907594197809065, 0.6466097897189227, 0.2744880162289149, 0.3282973409962573, 0.3972216446308306, 0.6465634409119398, 0.2884483469077095, 0.3495719251810098, 0.36193399719134023, 0.21324484646081782, 0.4165775580987082, 0.36996373487737366, 0.6468038732123947, 0.6463983697590105, 0.6330491716104997, 0.6461975538829601, 0.44246922566393543, 0.35517937842411146, 0.20227164601779907, 0.9490075352813293, 0.3014219124431714, 0.2657789116235413, 0.43276777373125724, 0.6468589563845052, 0.9488819227778227, 0.9487126021132899, 0.2482699273607303, 0.2356992981272756, 0.5153957985716426, 0.9490322418091113, 0.21289178701216707, 0.26864915980106796, 0.519557337351122, 0.33534363532342987, 0.3561320512039393, 0.3085354078945104, 0.26155712304063705, 0.784671369121911, 0.12374031715212697, 0.7424419029127618, 0.06187015857606348, 0.36767090837796146, 0.30580742618071494, 0.32686733501382015, 0.7444882967690887, 0.1488976593538177, 0.1488976593538177, 0.4128199382745521, 0.26467584631116176, 0.3223218737278785, 0.28594780838135797, 0.4363904986118486, 0.277945537624417, 0.29666603109986794, 0.43723098349132655, 0.2659636862354178, 0.6768312683889091, 0.17811349168129187, 0.14249079334503348, 0.6470540553285533, 0.7815217229078034, 0.2804947590643308, 0.4500343128025814, 0.2689554177104185, 0.7871799999240775, 0.6471826118105791, 0.29344629779252873, 0.32627026846283397, 0.37944510094872846, 0.9494551732096915, 0.6328487291454069, 0.2330327665977095, 0.49519462902013267, 0.2699296213090135, 0.3036834601703691, 0.482479343525113, 0.21383628260517115, 0.3843322549733871, 0.4034324034023675, 0.21196506183380742, 0.6462408975330556, 0.6457733693969345, 0.24344601080831402, 0.2220522704645531, 0.5341057934097556, 0.7323630278547465, 0.1464726055709493, 0.1464726055709493, 0.3012639520902032, 0.4498875017880367, 0.2490448670612346, 0.2947373040790432, 0.270565726231291, 0.4343086729418706, 0.9493863931208592, 0.3484155173894851, 0.22774867535780563, 0.4235326243496035, 0.313230961752619, 0.39421984088346146, 0.29252147667806566, 0.27934170403257996, 0.3024451532382821, 0.4179623992667926, 0.7471624044602463, 0.18679060111506157, 0.9500611044294968, 0.1703589541449142, 0.1703589541449142, 0.6814358165796568, 0.6461775825712859, 0.30956848206428744, 0.20688235142832867, 0.4832288500515706, 0.6465969994283385, 0.4490847191843122, 0.23636037851805905, 0.31478904957177867, 0.6469934828680698, 0.21225401340863687, 0.4805255808715119, 0.30722127301621255, 0.12360834224671702, 0.7416500534803021, 0.12360834224671702, 0.3283801691508466, 0.31482318969049056, 0.3570004591227094, 0.6413132709621824, 0.19119025307516277, 0.7647610123006511, 0.19119025307516277, 0.40733777421006234, 0.3006863782976343, 0.2920022951699048, 0.3077324004637166, 0.1723301442596813, 0.5169904327790439, 0.3389816178435408, 0.3438440590830998, 0.3172742908812239, 0.4730549866488608, 0.27583769644032163, 0.2505192605351714, 0.6466817237413182, 0.6460960504376485, 0.3497588964939884, 0.35596151731851233, 0.29462448916488676, 0.9494275343767071, 0.368505070754264, 0.3282197062874572, 0.3034124029052657, 0.2397769396581229, 0.39525729896768697, 0.3652851815104216, 0.7180244897973771, 0.10257492711391102, 0.10257492711391102, 0.43021490985914235, 0.2547426389326943, 0.3147726263549002, 0.4399690145928749, 0.25771131893423227, 0.30181449310235864, 0.35728454313595237, 0.16828619785389062, 0.47379037241941513, 0.6462458288249623, 0.6461449994337743, 0.7858974205375282, 0.24755271053164674, 0.16709807960886155, 0.5848432786310154, 0.6328231485717631, 0.3014648937811253, 0.2750525616975826, 0.42350808340852947, 0.6461187262084758, 0.632956737630874, 0.5469359799770366, 0.18169398656864266, 0.272540979852964, 0.3795914637045227, 0.29233793360157095, 0.32816593180313697, 0.9491650780519019, 0.3660322908638155, 0.4292467812079842, 0.20493729934157914, 0.3680476723916711, 0.3076018867799003, 0.32439238278316995, 0.24535530569377412, 0.4725756540101823, 0.28162522044850596, 0.6469264547338713, 0.6459243594580828, 0.33518464985789687, 0.38493661777865584, 0.28004715963643717, 0.6462244184296837, 0.28142790849693794, 0.49520487745134273, 0.22189508169950878, 0.6472691236799707, 0.7858252373990615, 0.43677520798347513, 0.32647843829067835, 0.2373586483788986, 0.26608905267589417, 0.3817844085268713, 0.3521163004160174, 0.6464377764204107, 0.2648351004442596, 0.14124538690360514, 0.6179485677032724, 0.6328032256715336, 0.21451519300655286, 0.31847255577126693, 0.4669830740065728, 0.6466988892007424, 0.2282611299026931, 0.4952835837511265, 0.2756360813919313, 0.4322959067817733, 0.2465437593364801, 0.321266782286064, 0.6470020203406667, 0.36847667719200144, 0.22725695227783665, 0.40407828851490013, 0.6461847071697954, 0.28152940895789236, 0.23233009477107622, 0.48652655140295964, 0.39597101805254326, 0.2534555869862184, 0.3505708927068637, 0.5003784507629832, 0.2320904303538943, 0.26722338540746543, 0.20584359902313276, 0.31013768919485335, 0.4830463123742849, 0.34325009213054464, 0.42727969914714586, 0.2297636118055407, 0.9486634036267722, 0.6458996970529238, 0.6461612968387387, 0.6327262655351958, 0.6459309362299047, 0.2203581834177313, 0.8814327336709252, 0.45243599734501005, 0.2669096508727422, 0.2807034312796023, 0.3491239358187952, 0.199604613094712, 0.45150416172346297, 0.1495070652273381, 0.7475353261366905, 0.46988688147995394, 0.2336284587955368, 0.29630926481385156, 0.2928406508658617, 0.45716189382821043, 0.2496948496411109, 0.3260999479130468, 0.43348633559438243, 0.24038787701143027, 0.283350966565823, 0.403979315968568, 0.31225150861023065, 0.4531956931947716, 0.29024892710226946, 0.2563016841663315, 0.6457003427285581, 0.4564996460271779, 0.28954659527165527, 0.25405899028014317, 0.34926411801148133, 0.24523801278164659, 0.40527817467370003, 0.10378676188983198, 0.8302940951186558, 0.10378676188983198, 0.7745055457205927, 0.2212872987773122, 0.6470240304186449, 0.517485170732692, 0.17755356297866556, 0.30502791588642547, 0.5065321099326292, 0.18594216693729426, 0.3061633955605449, 0.6470303137114494, 0.9487505951276883, 0.9489986694434221], \"Term\": [\"-50\", \"-50\", \".literally\", \"10.36\", \"10:20pm\", \"10:40pm\", \"10:40pm\", \"116\\u20ac\", \"169th\", \"17.15\", \"2-4\", \"9:51pm\", \"absolutely\", \"absolutely\", \"absolutely\", \"account\", \"account\", \"account\", \"address\", \"address\", \"address\", \"addresses.second\", \"again\\u2026..\", \"always\", \"always\", \"always\", \"anmd\", \"another\", \"another\", \"another\", \"anyth\", \"anything\", \"anything\", \"anything\", \"apology.on\", \"app\", \"app\", \"app\", \"appealing\", \"appealing\", \"appealing\", \"appriciated\", \"arrived\", \"arrived\", \"arrived\", \"arrived-\", \"artlud\", \"ask\", \"ask\", \"ask\", \"asked\", \"asked\", \"asked\", \"avoid\", \"avoid\", \"avoid\", \"away\\u2026\\u2026\", \"awful\", \"awful\", \"awful\", \"back\", \"back\", \"back\", \"bad\", \"bad\", \"bad\", \"bag\", \"bag\", \"bag\", \"barrel\", \"bbc\", \"bbc\", \"bbc\", \"beings\", \"bothers\", \"bothers\", \"bryan\", \"bryan\", \"bryan\", \"building\", \"building\", \"building\", \"bycicle\", \"bycicle\", \"call\", \"call\", \"call\", \"called\", \"called\", \"called\", \"cancel\", \"cancel\", \"cancel\", \"cancel/refund\", \"cancelled.order\", \"cancer\", \"cancer\", \"cancer\", \"chap.much\", \"charisma\", \"charisma\", \"charisma\", \"chat\", \"chat\", \"chat\", \"claim\", \"claim\", \"claim\", \"code\", \"code\", \"code\", \"cold\", \"cold\", \"cold\", \"company\", \"company\", \"company\", \"complecated\", \"completely\", \"completely\", \"completely\", \"contacted\", \"contacted\", \"contacted\", \"correct.disgusting\", \"could\", \"could\", \"could\", \"course.but\", \"crew\", \"customer\", \"customer\", \"customer\", \"cutleries\", \"cutleries\", \"daytook\", \"dc\", \"deivery\", \"delayed\", \"delayed\", \"delayed\", \"delivered\", \"delivered\", \"delivered\", \"deliveries.https\", \"deliveroo.made\", \"deliver\\u00f2o\", \"deliver\\u00f2o\", \"deliver\\u00f2o\", \"discount\", \"discount\", \"discount\", \"disjointed\", \"driver\", \"driver\", \"driver\", \"driver.ordered\", \"drivers\", \"drivers\", \"drivers\", \"drivers.they\", \"eat\", \"eat\", \"eat\", \"eats\", \"eats\", \"eats\", \"eatsgeoffrey\", \"eatsutterly\", \"else.never\", \"elsewhere.uber\", \"email\", \"email\", \"email\", \"estimatated\", \"even\", \"even\", \"even\", \"expected.very\", \"f**kin\", \"fact.items\", \"family\", \"family\", \"family\", \"faux-employer\", \"fee\", \"fee\", \"fee\", \"food\", \"food\", \"food\", \"funding\", \"funding\", \"g.\", \"g.\", \"g.\", \"give\", \"give\", \"give\", \"global\", \"global\", \"global\", \"go\", \"go\", \"go\", \"good\", \"good\", \"good\", \"got\", \"got\", \"got\", \"guests\", \"guests\", \"guests\", \"ha151203\", \"habe\", \"half\", \"half\", \"half\", \"half-hearted\", \"hastily\", \"help\", \"help\", \"help\", \"help.poor\", \"helpful.rubbish\", \"horrible\", \"horrible\", \"horrible\", \"hour\", \"hour\", \"hour\", \"hours\", \"hours\", \"hours\", \"house.we\", \"intervened\", \"issue\", \"issue\", \"issue\", \"ivan\", \"ivan\", \"ivan\", \"joke\", \"joke\", \"joke\", \"know\", \"know\", \"know\", \"kristoffer\", \"last\", \"last\", \"last\", \"late\", \"late\", \"late\", \"like\", \"like\", \"like\", \"lollipops\", \"lollipops\", \"magnum\", \"mandatory\", \"mandatory\", \"mandatory\", \"me.really\", \"meal\", \"meal\", \"meal\", \"midlands\", \"mins\", \"mins\", \"mins\", \"mins\\u2026..\", \"minutes\", \"minutes\", \"minutes\", \"miserably\", \"miserably\", \"miserably\", \"missing\", \"missing\", \"missing\", \"mn\", \"moment.stuart\", \"moment.stuart\", \"moment.stuart\", \"money\", \"money\", \"money\", \"month\", \"month\", \"month\", \"never\", \"never\", \"never\", \"next\", \"next\", \"next\", \"non-existentavoid\", \"occasions.be\", \"one\", \"one\", \"one\", \"order.took\", \"ordered\", \"ordered\", \"ordered\", \"orders\", \"orders\", \"orders\", \"pas\", \"pas\", \"pas\", \"people\", \"people\", \"people\", \"phone\", \"phone\", \"phone\", \"plus\", \"plus\", \"plus\", \"premise..\", \"premiums\", \"presentable\", \"price\", \"price\", \"price\", \"quairy\", \"really\", \"really\", \"really\", \"realy\", \"recommande\", \"recommend\", \"recommend\", \"recommend\", \"refund\", \"refund\", \"refund\", \"relived\", \"response\", \"response\", \"response\", \"restaurant\", \"restaurant\", \"restaurant\", \"rider\", \"rider\", \"rider\", \"roo.it/\", \"safedeliveruined\", \"said\", \"said\", \"said\", \"sauces..well\", \"scam\", \"scam\", \"scam\", \"scam.scam\", \"seamlessly\", \"sent\", \"sent\", \"sent\", \"service\", \"service\", \"service\", \"service\\u2026..\", \"shopping\", \"shopping\", \"shopping\", \"shovel\", \"since\", \"since\", \"since\", \"slashes\", \"star\", \"star\", \"star\", \"still\", \"still\", \"still\", \"tailpipe\", \"take\", \"take\", \"take\", \"takers\", \"though\", \"though\", \"though\", \"time\", \"time\", \"time\", \"times\", \"times\", \"times\", \"tip\", \"tip\", \"tip\", \"told\", \"told\", \"told\", \"transactions.waiting\", \"traveled\", \"ucl\", \"unhelpful-\", \"up.whilst\", \"urinated\", \"urinated\", \"us\", \"us\", \"us\", \"used\", \"used\", \"used\", \"useless.i\", \"useless.i\", \"using\", \"using\", \"using\", \"wait\", \"wait\", \"wait\", \"waited\", \"waited\", \"waited\", \"way\", \"way\", \"way\", \"went\", \"went\", \"went\", \"wifi\", \"would\", \"would\", \"would\", \"wrong\", \"wrong\", \"wrong\", \"yall\", \"yall\", \"yall\", \"yous\", \"yous\", \"\\u00a38-10\", \"\\u201c\", \"\\u201c\", \"\\u201c\", \"\\u201d\", \"\\u201d\", \"\\u201d\", \"\\u2026\\u2026\", \"\\ud83e\\udd2c\\ud83d\\ude21this\", \"\\ud83e\\udd37\\ud83c\\udffc\"]}, \"R\": 30, \"lambda.step\": 0.01, \"plot.opts\": {\"xlab\": \"PC1\", \"ylab\": \"PC2\"}, \"topic.order\": [2, 3, 1]};\n",
       "\n",
       "function LDAvis_load_lib(url, callback){\n",
       "  var s = document.createElement('script');\n",
       "  s.src = url;\n",
       "  s.async = true;\n",
       "  s.onreadystatechange = s.onload = callback;\n",
       "  s.onerror = function(){console.warn(\"failed to load library \" + url);};\n",
       "  document.getElementsByTagName(\"head\")[0].appendChild(s);\n",
       "}\n",
       "\n",
       "if(typeof(LDAvis) !== \"undefined\"){\n",
       "   // already loaded: just create the visualization\n",
       "   !function(LDAvis){\n",
       "       new LDAvis(\"#\" + \"ldavis_el2555624529496799444409625272\", ldavis_el2555624529496799444409625272_data);\n",
       "   }(LDAvis);\n",
       "}else if(typeof define === \"function\" && define.amd){\n",
       "   // require.js is available: use it to load d3/LDAvis\n",
       "   require.config({paths: {d3: \"https://d3js.org/d3.v5\"}});\n",
       "   require([\"d3\"], function(d3){\n",
       "      window.d3 = d3;\n",
       "      LDAvis_load_lib(\"https://cdn.jsdelivr.net/gh/bmabey/pyLDAvis@3.2.2/pyLDAvis/js/ldavis.v3.0.0.js\", function(){\n",
       "        new LDAvis(\"#\" + \"ldavis_el2555624529496799444409625272\", ldavis_el2555624529496799444409625272_data);\n",
       "      });\n",
       "    });\n",
       "}else{\n",
       "    // require.js not available: dynamically load d3 & LDAvis\n",
       "    LDAvis_load_lib(\"https://d3js.org/d3.v5.js\", function(){\n",
       "         LDAvis_load_lib(\"https://cdn.jsdelivr.net/gh/bmabey/pyLDAvis@3.2.2/pyLDAvis/js/ldavis.v3.0.0.js\", function(){\n",
       "                 new LDAvis(\"#\" + \"ldavis_el2555624529496799444409625272\", ldavis_el2555624529496799444409625272_data);\n",
       "            })\n",
       "         });\n",
       "}\n",
       "</script>"
      ],
      "text/plain": [
       "PreparedData(topic_coordinates=              x         y  topics  cluster       Freq\n",
       "topic                                                \n",
       "1      0.000793 -0.009765       1        1  34.733363\n",
       "2     -0.009670  0.004256       2        1  32.666669\n",
       "0      0.008877  0.005509       3        1  32.599968, topic_info=            Term         Freq         Total Category  logprob  loglift\n",
       "term                                                                  \n",
       "11       service  9741.000000   9741.000000  Default  30.0000  30.0000\n",
       "1318        eats  3732.000000   3732.000000  Default  29.0000  29.0000\n",
       "636      minutes  2284.000000   2284.000000  Default  28.0000  28.0000\n",
       "186          bad  2875.000000   2875.000000  Default  27.0000  27.0000\n",
       "513         hour  2226.000000   2226.000000  Default  26.0000  26.0000\n",
       "2       customer  6930.000000   6930.000000  Default  25.0000  25.0000\n",
       "449        issue  1355.000000   1355.000000  Default  24.0000  24.0000\n",
       "345      arrived  2000.000000   2000.000000  Default  23.0000  23.0000\n",
       "268        avoid  1084.000000   1084.000000  Default  22.0000  22.0000\n",
       "211    delivered  3713.000000   3713.000000  Default  21.0000  21.0000\n",
       "6           even  3563.000000   3563.000000  Default  20.0000  20.0000\n",
       "167         back  2844.000000   2844.000000  Default  19.0000  19.0000\n",
       "183         told  3225.000000   3225.000000  Default  18.0000  18.0000\n",
       "82         would  4959.000000   4959.000000  Default  17.0000  17.0000\n",
       "627         meal  1324.000000   1324.000000  Default  16.0000  16.0000\n",
       "30           got  2703.000000   2703.000000  Default  15.0000  15.0000\n",
       "168         call  2123.000000   2123.000000  Default  14.0000  14.0000\n",
       "303        times  1878.000000   1878.000000  Default  13.0000  13.0000\n",
       "597         used  1357.000000   1357.000000  Default  12.0000  12.0000\n",
       "92         hours  2146.000000   2146.000000  Default  11.0000  11.0000\n",
       "336        using  2281.000000   2281.000000  Default  10.0000  10.0000\n",
       "913    contacted  1426.000000   1426.000000  Default   9.0000   9.0000\n",
       "45          time  5859.000000   5859.000000  Default   8.0000   8.0000\n",
       "316      another  1410.000000   1410.000000  Default   7.0000   7.0000\n",
       "232        email  1661.000000   1661.000000  Default   6.0000   6.0000\n",
       "309         good  1874.000000   1874.000000  Default   5.0000   5.0000\n",
       "18         asked  1272.000000   1272.000000  Default   4.0000   4.0000\n",
       "97        orders  1601.000000   1601.000000  Default   3.0000   3.0000\n",
       "127        rider   937.000000    937.000000  Default   2.0000   2.0000\n",
       "203         star   696.000000    696.000000  Default   1.0000   1.0000\n",
       "...          ...          ...           ...      ...      ...      ...\n",
       "130         take   680.989672   1685.316978   Topic3  -5.7112   0.2147\n",
       "125       really   465.165668   1097.971959   Topic3  -6.0924   0.2620\n",
       "700   completely   316.180680    711.494429   Topic3  -6.4784   0.3098\n",
       "398         plus   183.024684    386.246768   Topic3  -7.0251   0.3740\n",
       "7           food  3843.997027  12458.861776   Topic3  -3.9805  -0.0551\n",
       "138      drivers   656.894345   1653.988419   Topic3  -5.7472   0.1974\n",
       "40        refund  2124.625479   6475.382708   Topic3  -4.5734   0.0064\n",
       "137         cold  1007.081213   2731.565809   Topic3  -5.3199   0.1230\n",
       "4         driver  1870.471439   5682.578887   Topic3  -4.7008   0.0096\n",
       "5            eat  1054.404120   2912.133174   Topic3  -5.2740   0.1049\n",
       "69         never  1826.690054   5758.424343   Topic3  -4.7245  -0.0273\n",
       "410   restaurant  1448.638907   4466.812653   Topic3  -4.9564  -0.0052\n",
       "482       cancel   467.145986   1131.576301   Topic3  -6.0881   0.2361\n",
       "9        ordered  1430.707316   4716.353011   Topic3  -4.9688  -0.0720\n",
       "318      company  1079.321284   3344.805848   Topic3  -5.2507  -0.0102\n",
       "591      missing   710.766749   1991.594077   Topic3  -5.6684   0.0905\n",
       "189        could   994.715692   3117.989422   Topic3  -5.3323  -0.0216\n",
       "284         help   578.468638   1523.277013   Topic3  -5.8744   0.1526\n",
       "2       customer  1719.182741   6930.922416   Topic3  -4.7851  -0.2733\n",
       "186          bad   906.080843   2875.014135   Topic3  -5.4256  -0.0338\n",
       "67         money  1075.883654   3684.902543   Topic3  -5.2538  -0.1102\n",
       "256         said  1091.673962   3899.343244   Topic3  -5.2393  -0.1522\n",
       "82         would  1259.883605   4959.478106   Topic3  -5.0960  -0.2494\n",
       "122          one   854.680087   2901.999092   Topic3  -5.4840  -0.1016\n",
       "423        still   761.339485   2368.747851   Topic3  -5.5997  -0.0142\n",
       "117         give   744.723410   2279.212146   Topic3  -5.6217   0.0023\n",
       "185          app   882.735474   3590.779477   Topic3  -5.4517  -0.2822\n",
       "107         late   790.964462   2704.074959   Topic3  -5.5615  -0.1084\n",
       "183         told   740.871938   3225.053759   Topic3  -5.6269  -0.3500\n",
       "30           got   719.110966   2703.376578   Topic3  -5.6567  -0.2034\n",
       "\n",
       "[293 rows x 6 columns], token_table=       Topic      Freq              Term\n",
       "term                                    \n",
       "15521      1  0.219864               -50\n",
       "15521      3  0.879456               -50\n",
       "27708      1  0.949170        .literally\n",
       "26811      2  0.646855             10.36\n",
       "12133      2  0.786753           10:20pm\n",
       "4473       2  0.661262           10:40pm\n",
       "4473       3  0.220421           10:40pm\n",
       "29302      3  0.645852              116€\n",
       "29549      1  0.949476             169th\n",
       "18329      2  0.787314             17.15\n",
       "14766      1  0.767912               2-4\n",
       "27381      1  0.632764            9:51pm\n",
       "148        1  0.437487        absolutely\n",
       "148        2  0.317392        absolutely\n",
       "148        3  0.245193        absolutely\n",
       "85         1  0.401700           account\n",
       "85         2  0.333502           account\n",
       "85         3  0.264889           account\n",
       "165        1  0.416856           address\n",
       "165        2  0.341965           address\n",
       "165        3  0.241193           address\n",
       "29120      3  0.646116  addresses.second\n",
       "28770      2  0.647062          again…..\n",
       "469        1  0.288389            always\n",
       "469        2  0.267790            always\n",
       "469        3  0.442883            always\n",
       "27633      1  0.632924              anmd\n",
       "316        1  0.377241           another\n",
       "316        2  0.425460           another\n",
       "316        3  0.197130           another\n",
       "...      ...       ...               ...\n",
       "815        2  0.433486            waited\n",
       "815        3  0.240388            waited\n",
       "164        1  0.283351               way\n",
       "164        2  0.403979               way\n",
       "164        3  0.312252               way\n",
       "80         1  0.453196              went\n",
       "80         2  0.290249              went\n",
       "80         3  0.256302              went\n",
       "29049      3  0.645700              wifi\n",
       "82         1  0.456500             would\n",
       "82         2  0.289547             would\n",
       "82         3  0.254059             would\n",
       "51         1  0.349264             wrong\n",
       "51         2  0.245238             wrong\n",
       "51         3  0.405278             wrong\n",
       "16621      1  0.103787              yall\n",
       "16621      2  0.830294              yall\n",
       "16621      3  0.103787              yall\n",
       "11118      1  0.774506              yous\n",
       "11118      3  0.221287              yous\n",
       "27208      2  0.647024             £8-10\n",
       "2362       1  0.517485                 “\n",
       "2362       2  0.177554                 “\n",
       "2362       3  0.305028                 “\n",
       "2363       1  0.506532                 ”\n",
       "2363       2  0.185942                 ”\n",
       "2363       3  0.306163                 ”\n",
       "28774      2  0.647030                ……\n",
       "29100      1  0.948751            🤬😡this\n",
       "29705      1  0.948999                🤷🏼\n",
       "\n",
       "[455 rows x 3 columns], R=30, lambda_step=0.01, plot_opts={'xlab': 'PC1', 'ylab': 'PC2'}, topic_order=[2, 3, 1])"
      ]
     },
     "execution_count": 111,
     "metadata": {},
     "output_type": "execute_result"
    }
   ],
   "source": [
    "LDAvis_prepared"
   ]
  },
  {
   "cell_type": "code",
   "execution_count": 17,
   "metadata": {},
   "outputs": [
    {
     "ename": "PermissionError",
     "evalue": "[Errno 13] Permission denied: './results/ldavis_prepared_5'",
     "output_type": "error",
     "traceback": [
      "\u001b[1;31m---------------------------------------------------------------------------\u001b[0m",
      "\u001b[1;31mPermissionError\u001b[0m                           Traceback (most recent call last)",
      "\u001b[1;32m<ipython-input-17-2626f1679d77>\u001b[0m in \u001b[0;36m<module>\u001b[1;34m()\u001b[0m\n\u001b[0;32m      4\u001b[0m \u001b[1;32mif\u001b[0m \u001b[1;36m1\u001b[0m \u001b[1;33m==\u001b[0m \u001b[1;36m1\u001b[0m\u001b[1;33m:\u001b[0m\u001b[1;33m\u001b[0m\u001b[0m\n\u001b[0;32m      5\u001b[0m     \u001b[0mLDAvis_prepared\u001b[0m \u001b[1;33m=\u001b[0m \u001b[0mpyLDAvis\u001b[0m\u001b[1;33m.\u001b[0m\u001b[0mgensim\u001b[0m\u001b[1;33m.\u001b[0m\u001b[0mprepare\u001b[0m\u001b[1;33m(\u001b[0m\u001b[0mlda_model\u001b[0m\u001b[1;33m,\u001b[0m \u001b[0mcorpus\u001b[0m\u001b[1;33m,\u001b[0m \u001b[0mid2word\u001b[0m\u001b[1;33m)\u001b[0m\u001b[1;33m\u001b[0m\u001b[0m\n\u001b[1;32m----> 6\u001b[1;33m     \u001b[1;32mwith\u001b[0m \u001b[0mopen\u001b[0m\u001b[1;33m(\u001b[0m\u001b[0mLDAvis_data_filepath\u001b[0m\u001b[1;33m,\u001b[0m \u001b[1;34m'wb'\u001b[0m\u001b[1;33m)\u001b[0m \u001b[1;32mas\u001b[0m \u001b[0mf\u001b[0m\u001b[1;33m:\u001b[0m\u001b[1;33m\u001b[0m\u001b[0m\n\u001b[0m\u001b[0;32m      7\u001b[0m         \u001b[0mpickle\u001b[0m\u001b[1;33m.\u001b[0m\u001b[0mdump\u001b[0m\u001b[1;33m(\u001b[0m\u001b[0mLDAvis_prepared\u001b[0m\u001b[1;33m,\u001b[0m \u001b[0mf\u001b[0m\u001b[1;33m)\u001b[0m\u001b[1;33m\u001b[0m\u001b[0m\n\u001b[0;32m      8\u001b[0m \u001b[1;31m# load the pre-prepared pyLDAvis data from disk\u001b[0m\u001b[1;33m\u001b[0m\u001b[1;33m\u001b[0m\u001b[0m\n",
      "\u001b[1;31mPermissionError\u001b[0m: [Errno 13] Permission denied: './results/ldavis_prepared_5'"
     ]
    }
   ],
   "source": [
    "# # this is a bit time consuming - make the if statement True\n",
    "# # if you want to execute visualization prep yourself\n",
    "if 1 == 1:\n",
    "    LDAvis_prepared = pyLDAvis.gensim.prepare(lda_model, corpus, id2word)\n",
    "    with open(LDAvis_data_filepath, 'wb') as f:\n",
    "        pickle.dump(LDAvis_prepared, f)\n",
    "# load the pre-prepared pyLDAvis data from disk\n",
    "with open(LDAvis_data_filepath, 'rb') as f:\n",
    "    LDAvis_prepared = pickle.load(f)\n",
    "pyLDAvis.save_html(LDAvis_prepared, './results/ldavis_prepared_'+ str(num_topics) +'.html')\n",
    "LDAvis_prepared"
   ]
  },
  {
   "cell_type": "code",
   "execution_count": null,
   "metadata": {},
   "outputs": [],
   "source": []
  }
 ],
 "metadata": {
  "kernelspec": {
   "display_name": "Python 3",
   "language": "python",
   "name": "python3"
  },
  "language_info": {
   "codemirror_mode": {
    "name": "ipython",
    "version": 3
   },
   "file_extension": ".py",
   "mimetype": "text/x-python",
   "name": "python",
   "nbconvert_exporter": "python",
   "pygments_lexer": "ipython3",
   "version": "3.6.5"
  }
 },
 "nbformat": 4,
 "nbformat_minor": 2
}
