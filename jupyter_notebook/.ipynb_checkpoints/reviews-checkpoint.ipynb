{
 "cells": [
  {
   "cell_type": "markdown",
   "metadata": {},
   "source": [
    "# Latent Dirichlet Allocation for Topic Modelling on Customer Reviews: The case of UK Delivery Companies \n",
    "\n",
    "**Author: Georgios Spyrou (https://github.com/gpsyrou)**\n",
    "\n",
    "_Last Update: 22/05/2021_\n",
    "\n",
    "<img src=\"../img/projectimage.png\" alt=\"Sentiment Picture\" width=\"820\" height=\"640\">\n",
    "\n",
    "### Sections\n",
    "- <a href=\"#project_idea\" style=\"text-decoration: none\"> Project Description</a>\n",
    "- <a href=\"#data_retrieval\" style=\"text-decoration: none\"> Web-Scrapping Tool and Data Retrieval</a>\n",
    "- <a href=\"#data_cleaning_eda\" style=\"text-decoration: none\"> Data Cleaning & Initial Exploratory Data Analysis (EDA)</a>\n",
    "    - <a href=\"#data_preprocessing\" style=\"text-decoration: none\"> Data Preprocessing </a>\n",
    "    - <a href=\"#eda\" style=\"text-decoration: none\"> Exploratory Data Analysis </a>\n",
    "- <a href=\"#lda\" style=\"text-decoration: none\"> Latent Dirichlet Allocation model </a>\n",
    "    - <a href=\"#bigrams_lda\" style=\"text-decoration: none\"> Compute bigrams as LDA input </a>"
   ]
  },
  {
   "cell_type": "markdown",
   "metadata": {},
   "source": [
    "<a id='project_idea'></a>\n",
    "### Introduction\n",
    "\n",
    "In this project we are going to explore the world of logistic companies and the issues that they might be facing. Specifically, we are going to focus on analyzing data regarding a few of the most well-known delivery companies in the UK, namely <a href=\"https://en.wikipedia.org/wiki/Deliveroo\" style=\"text-decoration:none\"> Deliveroo</a>, <a href=\"https://en.wikipedia.org/wiki/UberEats\" style=\"text-decoration:none\"> UberEats</a>, <a href=\"https://en.wikipedia.org/wiki/Just_Eat\" style=\"text-decoration:none\"> Just Eat</a> and <a href=\"https://stuart.com/\" style=\"text-decoration:none\"> Stuart</a>. To do that we are going to utilize the internet and the reviews that we can find in many different platforms, especially these platforms that are specializing at collecting reviews and opininions of customers for a plethora of companies and services. \n",
    "\n",
    "The first iteration of this project it's using the reviews that can be found in the famous consumer review website <a href=\"https://en.wikipedia.org/wiki/Trustpilot\" style=\"text-decoration:none\"> TrustPilot</a>. Even though the website is already providing some API functionalities, we are going to write our own web-scraping tool to retrieve the data in the format that we want. We will attempt to collect as many reviews as possible and then use them to identify interesting findings in the text. For example, we will try to identify what is the sentiment across all reviews for a specific company, what are the most common words and bigrams (i.e. pairs of words that tend to appear next to each other) in the reviews, and more. Finally, we will implement a <a href=\"https://en.wikipedia.org/wiki/Latent_Dirichlet_allocation\" style=\"text-decoration:none\"> Latent Dirichlet Allocation</a> model to try and identify what are the topics that these reviews correspond to.\n",
    "\n",
    "\n",
    "We are going to discuss the specifics in more depth as we are going through the different parts of the project. As a starting point of course, we need to collect the relevant reviews for the aforementioned group of delivery companies.\n",
    "\n",
    "<a id='data_retrieval'></a>\n",
    "### Web-Scrapping Tool and Data Retrieval\n",
    "\n",
    "In order to collect the reviews directly from the TrustPilot website, we have created a web-scrapping tool that allowed us to automate this process across different companies & their corresponding reviews. This tool is iterating across different pages of the website and collects the reviews and any other relevant information, with the output being stored in csv files. Moreover, we have packaged the tool into a python library. Hence, if you are thinking of working on a similar project where you need to retrieve data from TrustPilot, you can install the package that you can find <a href=\"https://github.com/gpsyrou/Text_Analysis_of_Consumer_Reviews/blob/main/trustplt.py\" style=\"text-decoration:none\">here</a>. As of May 2021, the package contains the main functionalities to collect many different information from the website, like the reviews, reviewer_id, date of the review, user rating, and more. \n",
    "\n",
    "For the first iteration of the project, we have built the aforementioned package with the functionality to retrieve the following information - which will also be the features in our dataset:\n",
    "\n",
    "1. **Company**: Name of the Company that we are examining (e.g. Deliveroo, UberEats, JustEat, Stuart)\n",
    "2. **Id**: The unique identifier for the Review\n",
    "3. **Reviewer_Id**: Unique id for a reviewer/user\n",
    "4. **Title**: Title of the review\n",
    "5. **Review**: The text corresponding to the review submitted from the reviewer\n",
    "6. **Date**: Day of review submission\n",
    "7. **Rating**: The rating about the company, as submitted from the reviewer\n",
    "\n",
    "Thus, after collecting the data and save them in a CSV format, we can by having a first look at the data and familiarize ourselves with the features. "
   ]
  },
  {
   "cell_type": "code",
   "execution_count": 69,
   "metadata": {},
   "outputs": [],
   "source": [
    "import os\n",
    "import string\n",
    "import numpy as np\n",
    "import pandas as pd\n",
    "from typing import List\n",
    "from collections import Counter\n",
    "\n",
    "import seaborn as sns\n",
    "sns.set_style('dark')\n",
    "\n",
    "import matplotlib.pyplot as plt\n",
    "from wordcloud import WordCloud\n",
    "\n",
    "from nltk import word_tokenize\n",
    "from nltk.util import ngrams\n",
    "from nltk.corpus import stopwords\n",
    "from nltk.collocations import BigramCollocationFinder\n",
    "from nltk.stem import WordNetLemmatizer, PorterStemmer\n",
    "\n",
    "from IPython.display import display, HTML\n",
    "\n",
    "project_dir = r'D:\\GitHub\\Projects\\Analysis_of_Delivery_Companies_Reviews'\n",
    "os.chdir(project_dir)\n",
    "\n",
    "from helpers.utilities import splitRatingsColumn, getRatingsMapping"
   ]
  },
  {
   "cell_type": "code",
   "execution_count": 70,
   "metadata": {},
   "outputs": [],
   "source": [
    "reviews_base_file = os.path.join(project_dir, 'reviews.csv')"
   ]
  },
  {
   "cell_type": "code",
   "execution_count": 71,
   "metadata": {},
   "outputs": [
    {
     "data": {
      "text/plain": [
       "{1: 'Bad', 2: 'Poor', 3: 'Average', 4: 'Great', 5: 'Excellent'}"
      ]
     },
     "execution_count": 71,
     "metadata": {},
     "output_type": "execute_result"
    }
   ],
   "source": [
    "col_names = ['Company', 'Id', 'Reviewer_Id', 'Title', 'Review', 'Date', 'Rating']\n",
    "\n",
    "ratings_dict = getRatingsMapping()\n",
    "ratings_dict"
   ]
  },
  {
   "cell_type": "code",
   "execution_count": 72,
   "metadata": {},
   "outputs": [],
   "source": [
    "reviews_df = pd.read_csv(reviews_base_file, sep=',')"
   ]
  },
  {
   "cell_type": "markdown",
   "metadata": {},
   "source": [
    "<a id='data_cleaning_eda'></a>\n",
    "### Data Cleaning & Exploratory Data Analysis\n",
    "\n",
    "Here we can have an initial look about the information contained in the dataset - Please note that each row in the dataset corresponds to a different _review_ :"
   ]
  },
  {
   "cell_type": "code",
   "execution_count": 73,
   "metadata": {},
   "outputs": [
    {
     "data": {
      "text/html": [
       "<div>\n",
       "<style scoped>\n",
       "    .dataframe tbody tr th:only-of-type {\n",
       "        vertical-align: middle;\n",
       "    }\n",
       "\n",
       "    .dataframe tbody tr th {\n",
       "        vertical-align: top;\n",
       "    }\n",
       "\n",
       "    .dataframe thead th {\n",
       "        text-align: right;\n",
       "    }\n",
       "</style>\n",
       "<table border=\"1\" class=\"dataframe\">\n",
       "  <thead>\n",
       "    <tr style=\"text-align: right;\">\n",
       "      <th></th>\n",
       "      <th>Company</th>\n",
       "      <th>Id</th>\n",
       "      <th>Reviewer_Id</th>\n",
       "      <th>Title</th>\n",
       "      <th>Review</th>\n",
       "      <th>Date</th>\n",
       "      <th>Rating</th>\n",
       "    </tr>\n",
       "  </thead>\n",
       "  <tbody>\n",
       "    <tr>\n",
       "      <th>0</th>\n",
       "      <td>Deliveroo</td>\n",
       "      <td>60709f95f85d75087052ff8b</td>\n",
       "      <td>60709f8f0a30fd001b06dc52</td>\n",
       "      <td>Ordered food and apparently the driver…</td>\n",
       "      <td>Ordered food and apparently the driver was wai...</td>\n",
       "      <td>2021-04-09 18:40</td>\n",
       "      <td>{2: 'Poor'}</td>\n",
       "    </tr>\n",
       "    <tr>\n",
       "      <th>1</th>\n",
       "      <td>Deliveroo</td>\n",
       "      <td>60708710f85d75087052c89b</td>\n",
       "      <td>6070870c2158190019b3ab8e</td>\n",
       "      <td>Disgusting Live Customer Service CHAT!!!</td>\n",
       "      <td>I received standard bag of buttons that cost £...</td>\n",
       "      <td>2021-04-09 16:55</td>\n",
       "      <td>{1: 'Bad'}</td>\n",
       "    </tr>\n",
       "    <tr>\n",
       "      <th>2</th>\n",
       "      <td>Deliveroo</td>\n",
       "      <td>60707b91f85d75087052abb6</td>\n",
       "      <td>602eb3ac49aeca0019ad4b70</td>\n",
       "      <td>Just had an appalling experience with…</td>\n",
       "      <td>Just had an appalling experience with delivero...</td>\n",
       "      <td>2021-04-09 16:06</td>\n",
       "      <td>{1: 'Bad'}</td>\n",
       "    </tr>\n",
       "    <tr>\n",
       "      <th>3</th>\n",
       "      <td>Deliveroo</td>\n",
       "      <td>60705919f85d7508705251d4</td>\n",
       "      <td>60705856348d93001ad1ca1f</td>\n",
       "      <td>The same situation happened twice</td>\n",
       "      <td>The same situation happened twice. I ordered f...</td>\n",
       "      <td>2021-04-09 13:39</td>\n",
       "      <td>{2: 'Poor'}</td>\n",
       "    </tr>\n",
       "    <tr>\n",
       "      <th>4</th>\n",
       "      <td>Deliveroo</td>\n",
       "      <td>60705138f85d750870523d4d</td>\n",
       "      <td>6070512519dc76001aebe4b1</td>\n",
       "      <td>Driver left without giving us food</td>\n",
       "      <td>Driver turned up late couldn’t find us and lef...</td>\n",
       "      <td>2021-04-09 13:06</td>\n",
       "      <td>{1: 'Bad'}</td>\n",
       "    </tr>\n",
       "  </tbody>\n",
       "</table>\n",
       "</div>"
      ],
      "text/plain": [
       "     Company                        Id               Reviewer_Id  \\\n",
       "0  Deliveroo  60709f95f85d75087052ff8b  60709f8f0a30fd001b06dc52   \n",
       "1  Deliveroo  60708710f85d75087052c89b  6070870c2158190019b3ab8e   \n",
       "2  Deliveroo  60707b91f85d75087052abb6  602eb3ac49aeca0019ad4b70   \n",
       "3  Deliveroo  60705919f85d7508705251d4  60705856348d93001ad1ca1f   \n",
       "4  Deliveroo  60705138f85d750870523d4d  6070512519dc76001aebe4b1   \n",
       "\n",
       "                                      Title  \\\n",
       "0   Ordered food and apparently the driver…   \n",
       "1  Disgusting Live Customer Service CHAT!!!   \n",
       "2    Just had an appalling experience with…   \n",
       "3         The same situation happened twice   \n",
       "4        Driver left without giving us food   \n",
       "\n",
       "                                              Review              Date  \\\n",
       "0  Ordered food and apparently the driver was wai...  2021-04-09 18:40   \n",
       "1  I received standard bag of buttons that cost £...  2021-04-09 16:55   \n",
       "2  Just had an appalling experience with delivero...  2021-04-09 16:06   \n",
       "3  The same situation happened twice. I ordered f...  2021-04-09 13:39   \n",
       "4  Driver turned up late couldn’t find us and lef...  2021-04-09 13:06   \n",
       "\n",
       "        Rating  \n",
       "0  {2: 'Poor'}  \n",
       "1   {1: 'Bad'}  \n",
       "2   {1: 'Bad'}  \n",
       "3  {2: 'Poor'}  \n",
       "4   {1: 'Bad'}  "
      ]
     },
     "execution_count": 73,
     "metadata": {},
     "output_type": "execute_result"
    }
   ],
   "source": [
    "reviews_df.head()"
   ]
  },
  {
   "cell_type": "markdown",
   "metadata": {},
   "source": [
    "We can see that the _Title_ of the review sometimes seems to correspond to the first few words/lines of the full _Review_, while some other times appears to be a small summary. At the same time we can observe that the _Rating_ provides us with some useful information about how the Reviewer felt regarding the company's service on that specific occasion."
   ]
  },
  {
   "cell_type": "code",
   "execution_count": 74,
   "metadata": {},
   "outputs": [
    {
     "name": "stdout",
     "output_type": "stream",
     "text": [
      "There are 17640 reviews (rows) and 7 features in the dataset\n"
     ]
    }
   ],
   "source": [
    "print(f'There are {reviews_df.shape[0]} reviews (rows) and {reviews_df.shape[1]} features in the dataset')"
   ]
  },
  {
   "cell_type": "code",
   "execution_count": 75,
   "metadata": {},
   "outputs": [
    {
     "data": {
      "text/plain": [
       "UberEats     8740\n",
       "Deliveroo    6360\n",
       "JustEat      2340\n",
       "Stuart        200\n",
       "Name: Company, dtype: int64"
      ]
     },
     "execution_count": 75,
     "metadata": {},
     "output_type": "execute_result"
    }
   ],
   "source": [
    "reviews_df['Company'].value_counts()"
   ]
  },
  {
   "cell_type": "markdown",
   "metadata": {},
   "source": [
    "We can check if there are any missing values in the dataset, or if there are rows that are duplicates:"
   ]
  },
  {
   "cell_type": "code",
   "execution_count": 76,
   "metadata": {},
   "outputs": [
    {
     "name": "stdout",
     "output_type": "stream",
     "text": [
      "There are 57 duplicate reviews in the dataset\n"
     ]
    }
   ],
   "source": [
    "num_duplicate_reviews = reviews_df.duplicated('Id').sum()\n",
    "print(f'There are {num_duplicate_reviews} duplicate reviews in the dataset')"
   ]
  },
  {
   "cell_type": "markdown",
   "metadata": {},
   "source": [
    "Dropping the duplicate reviews"
   ]
  },
  {
   "cell_type": "code",
   "execution_count": 77,
   "metadata": {},
   "outputs": [
    {
     "data": {
      "text/plain": [
       "0"
      ]
     },
     "execution_count": 77,
     "metadata": {},
     "output_type": "execute_result"
    }
   ],
   "source": [
    "reviews_df.drop_duplicates(inplace=True)\n",
    "reviews_df.duplicated('Id').sum()"
   ]
  },
  {
   "cell_type": "code",
   "execution_count": 78,
   "metadata": {},
   "outputs": [
    {
     "data": {
      "text/html": [
       "<div>\n",
       "<style scoped>\n",
       "    .dataframe tbody tr th:only-of-type {\n",
       "        vertical-align: middle;\n",
       "    }\n",
       "\n",
       "    .dataframe tbody tr th {\n",
       "        vertical-align: top;\n",
       "    }\n",
       "\n",
       "    .dataframe thead th {\n",
       "        text-align: right;\n",
       "    }\n",
       "</style>\n",
       "<table border=\"1\" class=\"dataframe\">\n",
       "  <thead>\n",
       "    <tr style=\"text-align: right;\">\n",
       "      <th></th>\n",
       "      <th>Missing_Values</th>\n",
       "    </tr>\n",
       "  </thead>\n",
       "  <tbody>\n",
       "    <tr>\n",
       "      <th>Company</th>\n",
       "      <td>0</td>\n",
       "    </tr>\n",
       "    <tr>\n",
       "      <th>Id</th>\n",
       "      <td>0</td>\n",
       "    </tr>\n",
       "    <tr>\n",
       "      <th>Reviewer_Id</th>\n",
       "      <td>0</td>\n",
       "    </tr>\n",
       "    <tr>\n",
       "      <th>Title</th>\n",
       "      <td>0</td>\n",
       "    </tr>\n",
       "    <tr>\n",
       "      <th>Review</th>\n",
       "      <td>240</td>\n",
       "    </tr>\n",
       "    <tr>\n",
       "      <th>Date</th>\n",
       "      <td>2886</td>\n",
       "    </tr>\n",
       "    <tr>\n",
       "      <th>Rating</th>\n",
       "      <td>0</td>\n",
       "    </tr>\n",
       "  </tbody>\n",
       "</table>\n",
       "</div>"
      ],
      "text/plain": [
       "             Missing_Values\n",
       "Company                   0\n",
       "Id                        0\n",
       "Reviewer_Id               0\n",
       "Title                     0\n",
       "Review                  240\n",
       "Date                   2886\n",
       "Rating                    0"
      ]
     },
     "execution_count": 78,
     "metadata": {},
     "output_type": "execute_result"
    }
   ],
   "source": [
    "pd.DataFrame(reviews_df.isna().sum(), columns=['Missing_Values'])"
   ]
  },
  {
   "cell_type": "markdown",
   "metadata": {},
   "source": [
    "From the queries above we can quickly see that initially we had some issues as there were 57 duplicate reviews, but we have used a pandas built-in function to remove them from the dataset. The duplication is caused due to the nature of retrieving data from by using the API, as we might process pages that we have already processed in the past, and that means retrieving the same reviews as before. Luckily, the _Id_ column is sufficient to identify unique reviews in the dataset, and hence it's easy to spot and fix duplication issues.\n",
    "\n",
    "Now, regarding the missing values there are a few cases where Review appears to be empty, as well as quite a few cases on missing dates. The later is not a massive issue at this stage of the project. On the other hand, the absence of reviews can be a big issue as this project is all about analyzing customer reviews, and hence rows that have no text corresponding to a review wouldn't provide much information. That said, as we saw above there is another feature (_Title_) which we can use as text for rows where the _Review_ is empty."
   ]
  },
  {
   "cell_type": "code",
   "execution_count": 79,
   "metadata": {},
   "outputs": [
    {
     "data": {
      "text/html": [
       "<div>\n",
       "<style scoped>\n",
       "    .dataframe tbody tr th:only-of-type {\n",
       "        vertical-align: middle;\n",
       "    }\n",
       "\n",
       "    .dataframe tbody tr th {\n",
       "        vertical-align: top;\n",
       "    }\n",
       "\n",
       "    .dataframe thead th {\n",
       "        text-align: right;\n",
       "    }\n",
       "</style>\n",
       "<table border=\"1\" class=\"dataframe\">\n",
       "  <thead>\n",
       "    <tr style=\"text-align: right;\">\n",
       "      <th></th>\n",
       "      <th>Company</th>\n",
       "      <th>Id</th>\n",
       "      <th>Reviewer_Id</th>\n",
       "      <th>Title</th>\n",
       "      <th>Review</th>\n",
       "      <th>Date</th>\n",
       "      <th>Rating</th>\n",
       "    </tr>\n",
       "  </thead>\n",
       "  <tbody>\n",
       "    <tr>\n",
       "      <th>45</th>\n",
       "      <td>Deliveroo</td>\n",
       "      <td>60684978f85d75087045ed91</td>\n",
       "      <td>60684973402b0e001a95af2d</td>\n",
       "      <td>Great service</td>\n",
       "      <td>NaN</td>\n",
       "      <td>2021-04-03 10:54</td>\n",
       "      <td>{5: 'Excellent'}</td>\n",
       "    </tr>\n",
       "    <tr>\n",
       "      <th>94</th>\n",
       "      <td>Deliveroo</td>\n",
       "      <td>606221b3f85d7508703c730e</td>\n",
       "      <td>5d73f4f179586ed7bad49d52</td>\n",
       "      <td>Very very disappointed bad service</td>\n",
       "      <td>NaN</td>\n",
       "      <td>2021-03-29 18:51</td>\n",
       "      <td>{1: 'Bad'}</td>\n",
       "    </tr>\n",
       "    <tr>\n",
       "      <th>114</th>\n",
       "      <td>Deliveroo</td>\n",
       "      <td>605f8f5df85d7508703919f5</td>\n",
       "      <td>5e8d9b9a6251456b37ed292e</td>\n",
       "      <td>CRAP nothing else to say!</td>\n",
       "      <td>NaN</td>\n",
       "      <td>2021-03-27 20:02</td>\n",
       "      <td>{1: 'Bad'}</td>\n",
       "    </tr>\n",
       "    <tr>\n",
       "      <th>137</th>\n",
       "      <td>Deliveroo</td>\n",
       "      <td>605e40ddf85d750870377a98</td>\n",
       "      <td>605cb15ead7256001bdc3948</td>\n",
       "      <td>A MILLION TIMES BETTER THAN UBER EATS</td>\n",
       "      <td>NaN</td>\n",
       "      <td>2021-03-26 20:15</td>\n",
       "      <td>{5: 'Excellent'}</td>\n",
       "    </tr>\n",
       "    <tr>\n",
       "      <th>201</th>\n",
       "      <td>Deliveroo</td>\n",
       "      <td>6054f264f85d750bf4f97e45</td>\n",
       "      <td>5d57f496959de5789bc062bd</td>\n",
       "      <td>Better to use Uber eats</td>\n",
       "      <td>NaN</td>\n",
       "      <td>2021-03-19 18:50</td>\n",
       "      <td>{1: 'Bad'}</td>\n",
       "    </tr>\n",
       "  </tbody>\n",
       "</table>\n",
       "</div>"
      ],
      "text/plain": [
       "       Company                        Id               Reviewer_Id  \\\n",
       "45   Deliveroo  60684978f85d75087045ed91  60684973402b0e001a95af2d   \n",
       "94   Deliveroo  606221b3f85d7508703c730e  5d73f4f179586ed7bad49d52   \n",
       "114  Deliveroo  605f8f5df85d7508703919f5  5e8d9b9a6251456b37ed292e   \n",
       "137  Deliveroo  605e40ddf85d750870377a98  605cb15ead7256001bdc3948   \n",
       "201  Deliveroo  6054f264f85d750bf4f97e45  5d57f496959de5789bc062bd   \n",
       "\n",
       "                                     Title Review              Date  \\\n",
       "45                           Great service    NaN  2021-04-03 10:54   \n",
       "94      Very very disappointed bad service    NaN  2021-03-29 18:51   \n",
       "114              CRAP nothing else to say!    NaN  2021-03-27 20:02   \n",
       "137  A MILLION TIMES BETTER THAN UBER EATS    NaN  2021-03-26 20:15   \n",
       "201                Better to use Uber eats    NaN  2021-03-19 18:50   \n",
       "\n",
       "               Rating  \n",
       "45   {5: 'Excellent'}  \n",
       "94         {1: 'Bad'}  \n",
       "114        {1: 'Bad'}  \n",
       "137  {5: 'Excellent'}  \n",
       "201        {1: 'Bad'}  "
      ]
     },
     "execution_count": 79,
     "metadata": {},
     "output_type": "execute_result"
    }
   ],
   "source": [
    "empty_reviews_sample = reviews_df[reviews_df['Review'].isnull()].head(5)\n",
    "empty_reviews_sample"
   ]
  },
  {
   "cell_type": "markdown",
   "metadata": {},
   "source": [
    "Apply the transformation"
   ]
  },
  {
   "cell_type": "code",
   "execution_count": 80,
   "metadata": {},
   "outputs": [],
   "source": [
    "reviews_df.loc[reviews_df['Review'].isnull(), 'Review'] = reviews_df['Title']"
   ]
  },
  {
   "cell_type": "markdown",
   "metadata": {},
   "source": [
    "and we can see how the transformation affected the dataset"
   ]
  },
  {
   "cell_type": "code",
   "execution_count": 81,
   "metadata": {},
   "outputs": [
    {
     "data": {
      "text/html": [
       "<div>\n",
       "<style scoped>\n",
       "    .dataframe tbody tr th:only-of-type {\n",
       "        vertical-align: middle;\n",
       "    }\n",
       "\n",
       "    .dataframe tbody tr th {\n",
       "        vertical-align: top;\n",
       "    }\n",
       "\n",
       "    .dataframe thead th {\n",
       "        text-align: right;\n",
       "    }\n",
       "</style>\n",
       "<table border=\"1\" class=\"dataframe\">\n",
       "  <thead>\n",
       "    <tr style=\"text-align: right;\">\n",
       "      <th></th>\n",
       "      <th>Company</th>\n",
       "      <th>Id</th>\n",
       "      <th>Reviewer_Id</th>\n",
       "      <th>Title</th>\n",
       "      <th>Review</th>\n",
       "      <th>Date</th>\n",
       "      <th>Rating</th>\n",
       "    </tr>\n",
       "  </thead>\n",
       "  <tbody>\n",
       "    <tr>\n",
       "      <th>45</th>\n",
       "      <td>Deliveroo</td>\n",
       "      <td>60684978f85d75087045ed91</td>\n",
       "      <td>60684973402b0e001a95af2d</td>\n",
       "      <td>Great service</td>\n",
       "      <td>Great service</td>\n",
       "      <td>2021-04-03 10:54</td>\n",
       "      <td>{5: 'Excellent'}</td>\n",
       "    </tr>\n",
       "    <tr>\n",
       "      <th>94</th>\n",
       "      <td>Deliveroo</td>\n",
       "      <td>606221b3f85d7508703c730e</td>\n",
       "      <td>5d73f4f179586ed7bad49d52</td>\n",
       "      <td>Very very disappointed bad service</td>\n",
       "      <td>Very very disappointed bad service</td>\n",
       "      <td>2021-03-29 18:51</td>\n",
       "      <td>{1: 'Bad'}</td>\n",
       "    </tr>\n",
       "    <tr>\n",
       "      <th>114</th>\n",
       "      <td>Deliveroo</td>\n",
       "      <td>605f8f5df85d7508703919f5</td>\n",
       "      <td>5e8d9b9a6251456b37ed292e</td>\n",
       "      <td>CRAP nothing else to say!</td>\n",
       "      <td>CRAP nothing else to say!</td>\n",
       "      <td>2021-03-27 20:02</td>\n",
       "      <td>{1: 'Bad'}</td>\n",
       "    </tr>\n",
       "    <tr>\n",
       "      <th>137</th>\n",
       "      <td>Deliveroo</td>\n",
       "      <td>605e40ddf85d750870377a98</td>\n",
       "      <td>605cb15ead7256001bdc3948</td>\n",
       "      <td>A MILLION TIMES BETTER THAN UBER EATS</td>\n",
       "      <td>A MILLION TIMES BETTER THAN UBER EATS</td>\n",
       "      <td>2021-03-26 20:15</td>\n",
       "      <td>{5: 'Excellent'}</td>\n",
       "    </tr>\n",
       "    <tr>\n",
       "      <th>201</th>\n",
       "      <td>Deliveroo</td>\n",
       "      <td>6054f264f85d750bf4f97e45</td>\n",
       "      <td>5d57f496959de5789bc062bd</td>\n",
       "      <td>Better to use Uber eats</td>\n",
       "      <td>Better to use Uber eats</td>\n",
       "      <td>2021-03-19 18:50</td>\n",
       "      <td>{1: 'Bad'}</td>\n",
       "    </tr>\n",
       "  </tbody>\n",
       "</table>\n",
       "</div>"
      ],
      "text/plain": [
       "       Company                        Id               Reviewer_Id  \\\n",
       "45   Deliveroo  60684978f85d75087045ed91  60684973402b0e001a95af2d   \n",
       "94   Deliveroo  606221b3f85d7508703c730e  5d73f4f179586ed7bad49d52   \n",
       "114  Deliveroo  605f8f5df85d7508703919f5  5e8d9b9a6251456b37ed292e   \n",
       "137  Deliveroo  605e40ddf85d750870377a98  605cb15ead7256001bdc3948   \n",
       "201  Deliveroo  6054f264f85d750bf4f97e45  5d57f496959de5789bc062bd   \n",
       "\n",
       "                                     Title  \\\n",
       "45                           Great service   \n",
       "94      Very very disappointed bad service   \n",
       "114              CRAP nothing else to say!   \n",
       "137  A MILLION TIMES BETTER THAN UBER EATS   \n",
       "201                Better to use Uber eats   \n",
       "\n",
       "                                    Review              Date            Rating  \n",
       "45                           Great service  2021-04-03 10:54  {5: 'Excellent'}  \n",
       "94      Very very disappointed bad service  2021-03-29 18:51        {1: 'Bad'}  \n",
       "114              CRAP nothing else to say!  2021-03-27 20:02        {1: 'Bad'}  \n",
       "137  A MILLION TIMES BETTER THAN UBER EATS  2021-03-26 20:15  {5: 'Excellent'}  \n",
       "201                Better to use Uber eats  2021-03-19 18:50        {1: 'Bad'}  "
      ]
     },
     "execution_count": 81,
     "metadata": {},
     "output_type": "execute_result"
    }
   ],
   "source": [
    "reviews_df.iloc[list(empty_reviews_sample.index)]"
   ]
  },
  {
   "cell_type": "code",
   "execution_count": 82,
   "metadata": {},
   "outputs": [
    {
     "data": {
      "text/html": [
       "<div>\n",
       "<style scoped>\n",
       "    .dataframe tbody tr th:only-of-type {\n",
       "        vertical-align: middle;\n",
       "    }\n",
       "\n",
       "    .dataframe tbody tr th {\n",
       "        vertical-align: top;\n",
       "    }\n",
       "\n",
       "    .dataframe thead th {\n",
       "        text-align: right;\n",
       "    }\n",
       "</style>\n",
       "<table border=\"1\" class=\"dataframe\">\n",
       "  <thead>\n",
       "    <tr style=\"text-align: right;\">\n",
       "      <th></th>\n",
       "      <th>Missing_Values</th>\n",
       "    </tr>\n",
       "  </thead>\n",
       "  <tbody>\n",
       "    <tr>\n",
       "      <th>Company</th>\n",
       "      <td>0</td>\n",
       "    </tr>\n",
       "    <tr>\n",
       "      <th>Id</th>\n",
       "      <td>0</td>\n",
       "    </tr>\n",
       "    <tr>\n",
       "      <th>Reviewer_Id</th>\n",
       "      <td>0</td>\n",
       "    </tr>\n",
       "    <tr>\n",
       "      <th>Title</th>\n",
       "      <td>0</td>\n",
       "    </tr>\n",
       "    <tr>\n",
       "      <th>Review</th>\n",
       "      <td>0</td>\n",
       "    </tr>\n",
       "    <tr>\n",
       "      <th>Date</th>\n",
       "      <td>2886</td>\n",
       "    </tr>\n",
       "    <tr>\n",
       "      <th>Rating</th>\n",
       "      <td>0</td>\n",
       "    </tr>\n",
       "  </tbody>\n",
       "</table>\n",
       "</div>"
      ],
      "text/plain": [
       "             Missing_Values\n",
       "Company                   0\n",
       "Id                        0\n",
       "Reviewer_Id               0\n",
       "Title                     0\n",
       "Review                    0\n",
       "Date                   2886\n",
       "Rating                    0"
      ]
     },
     "execution_count": 82,
     "metadata": {},
     "output_type": "execute_result"
    }
   ],
   "source": [
    "pd.DataFrame(reviews_df.isna().sum(), columns=['Missing_Values'])"
   ]
  },
  {
   "cell_type": "markdown",
   "metadata": {},
   "source": [
    "<a id='data_preprocessing'></a>\n",
    "### Data Preprocessing\n",
    "\n",
    "Now that we have familiarized a bit ourselves with the dataset and it's format, as well as conducted the initial data cleaning, we will move to one of the most important steps in any project - the data preprocessing. This section is especially important for cases where we have to deal with analysis of text, such as in this project. The reason is that text in raw format usually contains a lot of noise. This could later affect the performance of the algorithms - both in terms of computational power and the final output - due to very high dimensions of the dataset. This is happening as, like we are going to see soon, each unique word in each review will become a separate feature in the dataset. Hence, the more reviews we have the more unique words we gonna end up with in the final dataset before the analysis. \n",
    " \n",
    "Therefore, its essential to use  some common text preprocessing techniques to reduce the dimensions. As a summary, we are going to perform the following steps:\n",
    "\n",
    " 1) Perform **tokenization** of the reviews. This is a technique of transforming a sentence, into a list of words. For example, the sentence \"my order was great\" would become '['my', 'order', 'was', 'great'].\n",
    " \n",
    " 2) Remove from the reviews tokens that are **stopwords**. Stopwords are words inside text that do not provide much information and are usually getting removed from the initial sentence. Such words can be words like \"the\", \"a\", and more.\n",
    " \n",
    " 3) Remove tokens that correspond to **punctuation** marks (e.g. \"!\", \"?\") and **numbers**.\n",
    " \n",
    " 4) <a href=\"https://en.wikipedia.org/wiki/Stemming\" style=\"text-decoration:none\">Stemming</a> and <a href=\"https://en.wikipedia.org/wiki/Lemmatisation\" style=\"text-decoration:none\">Lemmatization</a>: These two methods are being used to transform a token into it's stem or lemma respectively. These two techniques help drammatically with the reduction of the dimensions as words end up being \"grouped\" under a specific form. In this project we are going to use lemmatization, as in general is a more advanced method compared to stemming, as lemmatization algorithms try to identify the part of speech of the token, and thus in some way they are preserving the meaning of the word (something that does not necessarily happen with stemming).\n",
    " \n",
    "Below we are going to perform all of these steps to get a \"cleaner\" version of the reviews:"
   ]
  },
  {
   "cell_type": "code",
   "execution_count": 83,
   "metadata": {},
   "outputs": [],
   "source": [
    "from nltk.corpus import stopwords\n",
    "\n",
    "stopwords_ls = stopwords.words('english')\n",
    "stopwords_ls.extend(['\\'d', '\\'m', '\\'s', '\\'ve', '\\'re', '\\'ll', 'n\\'t', '’'])"
   ]
  },
  {
   "cell_type": "markdown",
   "metadata": {},
   "source": [
    "Except the common english stopwords, it's necessary to enhance the list with some additional tokens that we want to exclude from the reviews. These are usually words that we would expect that are getting repeated in the reviews. In our case, as we are examining the case of delivery companies, it would be beneficial to exclude words like 'delivery', 'order', and more. Moreover, we are excluding the tokens that correspond to the names of the delivery companies, as we already have this information in the dataset as a different feature."
   ]
  },
  {
   "cell_type": "code",
   "execution_count": 84,
   "metadata": {},
   "outputs": [],
   "source": [
    "common_delivery_words = ['delivery', 'deliver', 'driver', 'order', 'uber', 'stuart',\n",
    "                         'deliveroo', 'food', 'use', 'get', 'service', 'customer', 'refund']\n",
    "\n",
    "stopwords_ls.extend(common_delivery_words)"
   ]
  },
  {
   "cell_type": "markdown",
   "metadata": {},
   "source": [
    "Moreover, we can see that the _Rating_ columns has values like the following: {1: 'Bad'}, so we are going to use a custom function to split this into two different features for better presentation:"
   ]
  },
  {
   "cell_type": "code",
   "execution_count": 85,
   "metadata": {},
   "outputs": [],
   "source": [
    "def splitRatingsColumn(rating_text):\n",
    "    \"\"\"\n",
    "    Mapper function to split string with {Rating: Rating_As_String} format to two\n",
    "    separate entities\"\"\"\n",
    "    rating_text = rating_text.replace('\\'','').replace('{','').replace('}','')\n",
    "    return rating_text[0], rating_text[3:]"
   ]
  },
  {
   "cell_type": "code",
   "execution_count": 86,
   "metadata": {},
   "outputs": [],
   "source": [
    "# Cast columns specific data format\n",
    "reviews_df['Date'] = pd.to_datetime(reviews_df['Date'], format=\"%Y-%m-%d %H:%M\", errors='coerce')\n",
    "\n",
    "reviews_df['Rating'] = reviews_df['Rating'].apply(lambda row: splitRatingsColumn(row)[0]).astype(int)\n",
    "reviews_df['Rating_Text'] = reviews_df['Rating'].apply(lambda row: ratings_dict[row])"
   ]
  },
  {
   "cell_type": "code",
   "execution_count": 87,
   "metadata": {},
   "outputs": [
    {
     "data": {
      "text/html": [
       "<div>\n",
       "<style scoped>\n",
       "    .dataframe tbody tr th:only-of-type {\n",
       "        vertical-align: middle;\n",
       "    }\n",
       "\n",
       "    .dataframe tbody tr th {\n",
       "        vertical-align: top;\n",
       "    }\n",
       "\n",
       "    .dataframe thead th {\n",
       "        text-align: right;\n",
       "    }\n",
       "</style>\n",
       "<table border=\"1\" class=\"dataframe\">\n",
       "  <thead>\n",
       "    <tr style=\"text-align: right;\">\n",
       "      <th></th>\n",
       "      <th>Company</th>\n",
       "      <th>Id</th>\n",
       "      <th>Reviewer_Id</th>\n",
       "      <th>Title</th>\n",
       "      <th>Review</th>\n",
       "      <th>Date</th>\n",
       "      <th>Rating</th>\n",
       "      <th>Rating_Text</th>\n",
       "    </tr>\n",
       "  </thead>\n",
       "  <tbody>\n",
       "    <tr>\n",
       "      <th>0</th>\n",
       "      <td>Deliveroo</td>\n",
       "      <td>60709f95f85d75087052ff8b</td>\n",
       "      <td>60709f8f0a30fd001b06dc52</td>\n",
       "      <td>Ordered food and apparently the driver…</td>\n",
       "      <td>Ordered food and apparently the driver was wai...</td>\n",
       "      <td>2021-04-09 18:40:00</td>\n",
       "      <td>2</td>\n",
       "      <td>Poor</td>\n",
       "    </tr>\n",
       "    <tr>\n",
       "      <th>1</th>\n",
       "      <td>Deliveroo</td>\n",
       "      <td>60708710f85d75087052c89b</td>\n",
       "      <td>6070870c2158190019b3ab8e</td>\n",
       "      <td>Disgusting Live Customer Service CHAT!!!</td>\n",
       "      <td>I received standard bag of buttons that cost £...</td>\n",
       "      <td>2021-04-09 16:55:00</td>\n",
       "      <td>1</td>\n",
       "      <td>Bad</td>\n",
       "    </tr>\n",
       "  </tbody>\n",
       "</table>\n",
       "</div>"
      ],
      "text/plain": [
       "     Company                        Id               Reviewer_Id  \\\n",
       "0  Deliveroo  60709f95f85d75087052ff8b  60709f8f0a30fd001b06dc52   \n",
       "1  Deliveroo  60708710f85d75087052c89b  6070870c2158190019b3ab8e   \n",
       "\n",
       "                                      Title  \\\n",
       "0   Ordered food and apparently the driver…   \n",
       "1  Disgusting Live Customer Service CHAT!!!   \n",
       "\n",
       "                                              Review                Date  \\\n",
       "0  Ordered food and apparently the driver was wai... 2021-04-09 18:40:00   \n",
       "1  I received standard bag of buttons that cost £... 2021-04-09 16:55:00   \n",
       "\n",
       "   Rating Rating_Text  \n",
       "0       2        Poor  \n",
       "1       1         Bad  "
      ]
     },
     "execution_count": 87,
     "metadata": {},
     "output_type": "execute_result"
    }
   ],
   "source": [
    "reviews_df.head(2)"
   ]
  },
  {
   "cell_type": "markdown",
   "metadata": {},
   "source": [
    "Now we are ready to apply the main data preprocessing tasks that we discussed above. But to do that we have to write the function that are going to be applied in the _Review_ column. Below we can see these functions, which are coming from a custom <a href=\"https://github.com/gpsyrou/Text_Analysis_of_Consumer_Reviews/blob/main/processing/text_processing.py\" style=\"text-decoration: none\">package</a> that we had to develop, which contains functions for the most common text preprocessing tasks for pretty much any NLP project. "
   ]
  },
  {
   "cell_type": "code",
   "execution_count": 88,
   "metadata": {},
   "outputs": [],
   "source": [
    "lemmatizer = WordNetLemmatizer()\n",
    "stemmer = PorterStemmer()"
   ]
  },
  {
   "cell_type": "code",
   "execution_count": 89,
   "metadata": {},
   "outputs": [],
   "source": [
    "punct_ls = list(string.punctuation)\n",
    "punct_ls.extend([2*x for x in list(string.punctuation)])\n",
    "punct_ls.extend([3*x for x in list(string.punctuation)])"
   ]
  },
  {
   "cell_type": "code",
   "execution_count": 90,
   "metadata": {},
   "outputs": [],
   "source": [
    "def remove_stopwords(text: List['str'], stpwds_ls: List['str']) -> List['str']:\n",
    "    return [token for token in text if token not in stpwds_ls]"
   ]
  },
  {
   "cell_type": "code",
   "execution_count": 91,
   "metadata": {},
   "outputs": [],
   "source": [
    "def remove_punctuation(text: List['str'], punct_ls: List['str']) -> List['str']:\n",
    "    return [token for token in text if token not in punct_ls]"
   ]
  },
  {
   "cell_type": "code",
   "execution_count": 92,
   "metadata": {},
   "outputs": [],
   "source": [
    "def remove_numbers(text: List['str']) -> List['str']:\n",
    "    return [token for token in text if not token.isdigit()]"
   ]
  },
  {
   "cell_type": "code",
   "execution_count": 93,
   "metadata": {},
   "outputs": [],
   "source": [
    "def lemmatize(text: List['str'],\n",
    "              pos_type = 'a') -> List['str']:\n",
    "    return [lemmatizer.lemmatize(token, pos=pos_type) for token in text]\n",
    "\n",
    "def stem(text: List['str']) -> List['str']:\n",
    "    return [stemmer.stem(token) for token in text]"
   ]
  },
  {
   "cell_type": "code",
   "execution_count": 94,
   "metadata": {},
   "outputs": [],
   "source": [
    "def tokenize_and_clean(text: str,\n",
    "                       stopwords_ls: List[str],\n",
    "                       stopwords=True,\n",
    "                       punct=True, numerics=True) -> List[str]:\n",
    "    \"\"\"\n",
    "    Performs tokenizations and cleaning processes given a document/text.\n",
    "    The function will always tokenize the given text but the cleaning tasks\n",
    "    are optional.\n",
    "    \n",
    "    Parameters\n",
    "    ----------\n",
    "    text: \n",
    "        A document, which can be a word or sentence of arbitrary length.\n",
    "    stopwords: default True\n",
    "        Indicator of removing tokens that are stopwords.\n",
    "    punct: \n",
    "        Indicator of removing tokens that are punctuation marks.\n",
    "    numerics: \n",
    "        Indicator of removing tokens that correspond to numbers.\n",
    "\n",
    "    Returns\n",
    "    --------\n",
    "         A tokenized version of 'text' with the necessary updates depending on\n",
    "         the cleanup steps performed.\n",
    "    \"\"\"\n",
    "    tokenized = word_tokenize(text, language='english')\n",
    "    \n",
    "    tokenized = [token.lower() for token in tokenized]\n",
    "\n",
    "    if punct:\n",
    "        tokenized = remove_punctuation(tokenized, punct_ls=punct_ls)\n",
    "        \n",
    "    if numerics:\n",
    "        tokenized = remove_numbers(tokenized)\n",
    "        \n",
    "    if stopwords:\n",
    "        tokenized = remove_stopwords(tokenized, stpwds_ls=stopwords_ls)\n",
    "\n",
    "    return tokenized"
   ]
  },
  {
   "cell_type": "markdown",
   "metadata": {},
   "source": [
    "Split review in tokens and remove punctuation & stopwords"
   ]
  },
  {
   "cell_type": "code",
   "execution_count": 95,
   "metadata": {},
   "outputs": [],
   "source": [
    "reviews_df['Review_Tokenized'] = reviews_df['Review'].apply(lambda row: tokenize_and_clean(text=row, stopwords_ls=stopwords_ls))"
   ]
  },
  {
   "cell_type": "markdown",
   "metadata": {},
   "source": [
    "Lemmatize the tokens"
   ]
  },
  {
   "cell_type": "code",
   "execution_count": 96,
   "metadata": {},
   "outputs": [],
   "source": [
    "reviews_df['Review_Lemmatized'] = reviews_df['Review_Tokenized'].apply(lambda row: lemmatize(text=row, pos_type='n'))"
   ]
  },
  {
   "cell_type": "code",
   "execution_count": 97,
   "metadata": {},
   "outputs": [],
   "source": [
    "reviews_df['Review_Lemmatized'] = reviews_df['Review_Lemmatized'].apply(lambda row: lemmatize(text=row, pos_type='a'))"
   ]
  },
  {
   "cell_type": "markdown",
   "metadata": {},
   "source": [
    "Some times we need the \"clean\" tokens per document to be a single string. Therefore we are applying the appropriate transformation where we are joining back the clean tokens into a single object."
   ]
  },
  {
   "cell_type": "code",
   "execution_count": 98,
   "metadata": {},
   "outputs": [],
   "source": [
    "reviews_df['Clean_Review_String'] = reviews_df['Review_Lemmatized'].apply(lambda row: ' '.join([x for x in row]))"
   ]
  },
  {
   "cell_type": "code",
   "execution_count": 99,
   "metadata": {},
   "outputs": [
    {
     "data": {
      "text/html": [
       "<div>\n",
       "<style scoped>\n",
       "    .dataframe tbody tr th:only-of-type {\n",
       "        vertical-align: middle;\n",
       "    }\n",
       "\n",
       "    .dataframe tbody tr th {\n",
       "        vertical-align: top;\n",
       "    }\n",
       "\n",
       "    .dataframe thead th {\n",
       "        text-align: right;\n",
       "    }\n",
       "</style>\n",
       "<table border=\"1\" class=\"dataframe\">\n",
       "  <thead>\n",
       "    <tr style=\"text-align: right;\">\n",
       "      <th></th>\n",
       "      <th>Company</th>\n",
       "      <th>Title</th>\n",
       "      <th>Review</th>\n",
       "      <th>Review_Tokenized</th>\n",
       "      <th>Review_Lemmatized</th>\n",
       "      <th>Clean_Review_String</th>\n",
       "    </tr>\n",
       "  </thead>\n",
       "  <tbody>\n",
       "    <tr>\n",
       "      <th>0</th>\n",
       "      <td>Deliveroo</td>\n",
       "      <td>Ordered food and apparently the driver…</td>\n",
       "      <td>Ordered food and apparently the driver was wai...</td>\n",
       "      <td>[ordered, apparently, waiting, mins, even, tho...</td>\n",
       "      <td>[ordered, apparently, waiting, min, even, thou...</td>\n",
       "      <td>ordered apparently waiting min even though sto...</td>\n",
       "    </tr>\n",
       "    <tr>\n",
       "      <th>1</th>\n",
       "      <td>Deliveroo</td>\n",
       "      <td>Disgusting Live Customer Service CHAT!!!</td>\n",
       "      <td>I received standard bag of buttons that cost £...</td>\n",
       "      <td>[received, standard, bag, buttons, cost, £1.60...</td>\n",
       "      <td>[received, standard, bag, button, cost, £1.60,...</td>\n",
       "      <td>received standard bag button cost £1.60 asked ...</td>\n",
       "    </tr>\n",
       "    <tr>\n",
       "      <th>2</th>\n",
       "      <td>Deliveroo</td>\n",
       "      <td>Just had an appalling experience with…</td>\n",
       "      <td>Just had an appalling experience with delivero...</td>\n",
       "      <td>[appalling, experience, ordered, pizza, £10, d...</td>\n",
       "      <td>[appalling, experience, ordered, pizza, £10, d...</td>\n",
       "      <td>appalling experience ordered pizza £10 discoun...</td>\n",
       "    </tr>\n",
       "    <tr>\n",
       "      <th>3</th>\n",
       "      <td>Deliveroo</td>\n",
       "      <td>The same situation happened twice</td>\n",
       "      <td>The same situation happened twice. I ordered f...</td>\n",
       "      <td>[situation, happened, twice, ordered, around, ...</td>\n",
       "      <td>[situation, happened, twice, ordered, around, ...</td>\n",
       "      <td>situation happened twice ordered around pm wai...</td>\n",
       "    </tr>\n",
       "    <tr>\n",
       "      <th>4</th>\n",
       "      <td>Deliveroo</td>\n",
       "      <td>Driver left without giving us food</td>\n",
       "      <td>Driver turned up late couldn’t find us and lef...</td>\n",
       "      <td>[turned, late, find, us, left, awful]</td>\n",
       "      <td>[turned, late, find, u, left, awful]</td>\n",
       "      <td>turned late find u left awful</td>\n",
       "    </tr>\n",
       "  </tbody>\n",
       "</table>\n",
       "</div>"
      ],
      "text/plain": [
       "     Company                                     Title  \\\n",
       "0  Deliveroo   Ordered food and apparently the driver…   \n",
       "1  Deliveroo  Disgusting Live Customer Service CHAT!!!   \n",
       "2  Deliveroo    Just had an appalling experience with…   \n",
       "3  Deliveroo         The same situation happened twice   \n",
       "4  Deliveroo        Driver left without giving us food   \n",
       "\n",
       "                                              Review  \\\n",
       "0  Ordered food and apparently the driver was wai...   \n",
       "1  I received standard bag of buttons that cost £...   \n",
       "2  Just had an appalling experience with delivero...   \n",
       "3  The same situation happened twice. I ordered f...   \n",
       "4  Driver turned up late couldn’t find us and lef...   \n",
       "\n",
       "                                    Review_Tokenized  \\\n",
       "0  [ordered, apparently, waiting, mins, even, tho...   \n",
       "1  [received, standard, bag, buttons, cost, £1.60...   \n",
       "2  [appalling, experience, ordered, pizza, £10, d...   \n",
       "3  [situation, happened, twice, ordered, around, ...   \n",
       "4              [turned, late, find, us, left, awful]   \n",
       "\n",
       "                                   Review_Lemmatized  \\\n",
       "0  [ordered, apparently, waiting, min, even, thou...   \n",
       "1  [received, standard, bag, button, cost, £1.60,...   \n",
       "2  [appalling, experience, ordered, pizza, £10, d...   \n",
       "3  [situation, happened, twice, ordered, around, ...   \n",
       "4               [turned, late, find, u, left, awful]   \n",
       "\n",
       "                                 Clean_Review_String  \n",
       "0  ordered apparently waiting min even though sto...  \n",
       "1  received standard bag button cost £1.60 asked ...  \n",
       "2  appalling experience ordered pizza £10 discoun...  \n",
       "3  situation happened twice ordered around pm wai...  \n",
       "4                      turned late find u left awful  "
      ]
     },
     "execution_count": 99,
     "metadata": {},
     "output_type": "execute_result"
    }
   ],
   "source": [
    "reviews_df[['Company', 'Title', 'Review', 'Review_Tokenized', 'Review_Lemmatized', 'Clean_Review_String']].head(5)"
   ]
  },
  {
   "cell_type": "markdown",
   "metadata": {},
   "source": [
    "We can observe how big is the difference between the initial _Review_ and the final format of the review after the preprocessing tasks, as shown in <em>Review_Merged</em>.\n",
    "\n",
    "<a id=\"eda\"></a>\n",
    "### Exploratory Data Analysis\n",
    "\n",
    "Now that the data are in a better shape, we can start with the main part of this project which is the actual analysis of the reviews. As a first step we are going to perform some exploratory data analysis, mostly by analyzing the data visually. \n",
    "\n",
    "This is an important step for every data analysis project as it will allow us to further familiarize ourselves with the data, as well as make sure that we don't identify any cases that would require further data cleaning and that we might have missed in the initial text preprocessing steps performed in the previous section."
   ]
  },
  {
   "cell_type": "code",
   "execution_count": 100,
   "metadata": {},
   "outputs": [],
   "source": [
    "def most_common_words(input_df: pd.DataFrame,\n",
    "                      text_col: str,\n",
    "                      n_most_common=20):\n",
    "    \"\"\"\n",
    "    Given a collection of documents as text, compute the number of most common\n",
    "    words as defined by n_most_common.\n",
    "    Args:\n",
    "    ------\n",
    "        input_df: Dataframe that contains the relevant text column\n",
    "        text_col: Name of the column\n",
    "        n_most_common: Number of most common words to calculate\n",
    "    Returns:\n",
    "    --------\n",
    "        Pandas dataframe with two columns indicating a word and number\n",
    "        of times (count) that it appears in the original input_df\n",
    "    \"\"\"\n",
    "    word_list = list([x.split() for x in input_df[text_col] if x is not None])\n",
    "    word_counter = Counter(x for xs in word_list for x in set(xs))\n",
    "    word_counter.most_common(n_most_common)\n",
    "\n",
    "    return pd.DataFrame(word_counter.most_common(n_most_common), columns=['word', 'count'])"
   ]
  },
  {
   "cell_type": "code",
   "execution_count": 101,
   "metadata": {},
   "outputs": [],
   "source": [
    "def plot_most_common_words(input_df: pd.DataFrame,\n",
    "                           text_col: str,\n",
    "                           n_most_common=20,\n",
    "                           return_counts=False,\n",
    "                           figsize=(10, 10)) -> None:\n",
    "    \n",
    "    if return_counts:\n",
    "        df = most_common_words(input_df=input_df, text_col=text_col, n_most_common=n_most_common)\n",
    "        display(HTML(df.to_html()))\n",
    "\n",
    "    fig, ax = plt.subplots(figsize=figsize)\n",
    "    common_words_df = most_common_words(input_df=input_df,\n",
    "                                        text_col=text_col,\n",
    "                                        n_most_common=n_most_common)\n",
    "    sns.barplot(x='count', y='word', data=common_words_df).set_title(f'Common Words Found - Overall',\n",
    "                                                                     fontweight='bold')\n",
    "    plt.grid(True, alpha=0.3, linestyle='-', color='black')\n",
    "    plt.show()"
   ]
  },
  {
   "cell_type": "code",
   "execution_count": 102,
   "metadata": {},
   "outputs": [
    {
     "data": {
      "text/html": [
       "<table border=\"1\" class=\"dataframe\">\n",
       "  <thead>\n",
       "    <tr style=\"text-align: right;\">\n",
       "      <th></th>\n",
       "      <th>word</th>\n",
       "      <th>count</th>\n",
       "    </tr>\n",
       "  </thead>\n",
       "  <tbody>\n",
       "    <tr>\n",
       "      <th>0</th>\n",
       "      <td>time</td>\n",
       "      <td>5727</td>\n",
       "    </tr>\n",
       "    <tr>\n",
       "      <th>1</th>\n",
       "      <td>never</td>\n",
       "      <td>5101</td>\n",
       "    </tr>\n",
       "    <tr>\n",
       "      <th>2</th>\n",
       "      <td>ordered</td>\n",
       "      <td>4542</td>\n",
       "    </tr>\n",
       "    <tr>\n",
       "      <th>3</th>\n",
       "      <td>restaurant</td>\n",
       "      <td>3845</td>\n",
       "    </tr>\n",
       "    <tr>\n",
       "      <th>4</th>\n",
       "      <td>would</td>\n",
       "      <td>3781</td>\n",
       "    </tr>\n",
       "    <tr>\n",
       "      <th>5</th>\n",
       "      <td>hour</td>\n",
       "      <td>3762</td>\n",
       "    </tr>\n",
       "    <tr>\n",
       "      <th>6</th>\n",
       "      <td>delivered</td>\n",
       "      <td>3297</td>\n",
       "    </tr>\n",
       "    <tr>\n",
       "      <th>7</th>\n",
       "      <td>money</td>\n",
       "      <td>3272</td>\n",
       "    </tr>\n",
       "    <tr>\n",
       "      <th>8</th>\n",
       "      <td>eats</td>\n",
       "      <td>3213</td>\n",
       "    </tr>\n",
       "    <tr>\n",
       "      <th>9</th>\n",
       "      <td>even</td>\n",
       "      <td>3187</td>\n",
       "    </tr>\n",
       "  </tbody>\n",
       "</table>"
      ],
      "text/plain": [
       "<IPython.core.display.HTML object>"
      ]
     },
     "metadata": {},
     "output_type": "display_data"
    },
    {
     "data": {
      "image/png": "[encoded data removed]",
      "text/plain": [
       "<Figure size 720x720 with 1 Axes>"
      ]
     },
     "metadata": {},
     "output_type": "display_data"
    }
   ],
   "source": [
    "plot_most_common_words(reviews_df, n_most_common=10, text_col='Clean_Review_String', return_counts=True)"
   ]
  },
  {
   "cell_type": "code",
   "execution_count": 103,
   "metadata": {},
   "outputs": [],
   "source": [
    "def plot_wordcloud(input_df: pd.DataFrame,\n",
    "                   text_col: str,\n",
    "                   figsize=(10, 10)) -> None:\n",
    "    \"\"\" Generate a WordCloud plot based on the number of occurenences of words\n",
    "    in a set documents\n",
    "    \"\"\"\n",
    "    plt.figure(figsize=figsize)\n",
    "    combined_text = ' '.join([x for x in input_df[text_col] if x is not None])\n",
    "    wordcloud = WordCloud().generate(combined_text)\n",
    "    plt.imshow(wordcloud, interpolation='bilinear')\n",
    "    plt.axis(\"off\")\n",
    "    plt.show()"
   ]
  },
  {
   "cell_type": "code",
   "execution_count": 104,
   "metadata": {},
   "outputs": [],
   "source": [
    "# plot_wordcloud(reviews_df, text_col='Clean_Review_String')"
   ]
  },
  {
   "cell_type": "markdown",
   "metadata": {},
   "source": [
    "By examining each word separately we are making the assumption that the words (and so their order) do not play any role into the general meaning of the text. Thus, we can go a step further and identify pairs of words (**bigrams**) that tend to appear next to each other."
   ]
  },
  {
   "cell_type": "code",
   "execution_count": 105,
   "metadata": {},
   "outputs": [],
   "source": [
    "def compute_bigrams(input_df: pd.DataFrame,\n",
    "                    text_col: str) -> dict:\n",
    "    \"\"\" Calculate the number of occurences where a pair of words appear next to\n",
    "    each other, and return a dictionary of {pair of words: count}.\n",
    "    \"\"\"\n",
    "    combined_text = ' '.join([x for x in input_df[text_col]])\n",
    "\n",
    "    finder = BigramCollocationFinder.from_words(word_tokenize(combined_text))\n",
    "\n",
    "    bigrams_dict = {}\n",
    "    for k, v in finder.ngram_fd.items():\n",
    "        if len(k[0]) > 1 and len(k[1]) > 1:\n",
    "            bigrams_dict[k] = v\n",
    "        else:\n",
    "            continue\n",
    "    return bigrams_dict"
   ]
  },
  {
   "cell_type": "code",
   "execution_count": 106,
   "metadata": {},
   "outputs": [],
   "source": [
    "def plot_bigrams(input_df: pd.DataFrame,\n",
    "                 text_col: str,\n",
    "                 top_n: int,\n",
    "                 rotation=0.8,\n",
    "                 figsize=(10, 8)) -> None:\n",
    "\n",
    "    bigrams_dict = compute_bigrams(input_df=input_df, text_col=text_col)\n",
    "    bigrams_sorted = sorted(bigrams_dict.items(), key=lambda x: x[1], reverse=True)[0:top_n]\n",
    "    bgram, counts = list(zip(*bigrams_sorted))\n",
    "    bgstring = list(map(lambda txt: '-'.join(txt), bgram))\n",
    "\n",
    "    plt.figure(figsize=figsize)\n",
    "    g = sns.barplot(bgstring, counts, palette='muted')\n",
    "    g.set_xticklabels(g.get_xticklabels(), rotation=rotation)\n",
    "    plt.title(f'Top-{top_n} pairs of words that appear next to each other',\n",
    "              fontweight='bold')\n",
    "    plt.ylabel('Count')\n",
    "    plt.grid(True, alpha=0.1, color='black')\n",
    "    plt.show()"
   ]
  },
  {
   "cell_type": "code",
   "execution_count": 107,
   "metadata": {},
   "outputs": [],
   "source": [
    "bigrams = compute_bigrams(reviews_df, text_col='Clean_Review_String')"
   ]
  },
  {
   "cell_type": "code",
   "execution_count": 108,
   "metadata": {},
   "outputs": [
    {
     "data": {
      "text/html": [
       "<div>\n",
       "<style scoped>\n",
       "    .dataframe tbody tr th:only-of-type {\n",
       "        vertical-align: middle;\n",
       "    }\n",
       "\n",
       "    .dataframe tbody tr th {\n",
       "        vertical-align: top;\n",
       "    }\n",
       "\n",
       "    .dataframe thead th {\n",
       "        text-align: right;\n",
       "    }\n",
       "</style>\n",
       "<table border=\"1\" class=\"dataframe\">\n",
       "  <thead>\n",
       "    <tr style=\"text-align: right;\">\n",
       "      <th></th>\n",
       "      <th>Bigram</th>\n",
       "      <th>Count</th>\n",
       "    </tr>\n",
       "  </thead>\n",
       "  <tbody>\n",
       "    <tr>\n",
       "      <th>0</th>\n",
       "      <td>(missing, item)</td>\n",
       "      <td>792</td>\n",
       "    </tr>\n",
       "    <tr>\n",
       "      <th>1</th>\n",
       "      <td>(money, back)</td>\n",
       "      <td>760</td>\n",
       "    </tr>\n",
       "    <tr>\n",
       "      <th>2</th>\n",
       "      <td>(first, time)</td>\n",
       "      <td>720</td>\n",
       "    </tr>\n",
       "    <tr>\n",
       "      <th>3</th>\n",
       "      <td>(hour, late)</td>\n",
       "      <td>690</td>\n",
       "    </tr>\n",
       "    <tr>\n",
       "      <th>4</th>\n",
       "      <td>(even, though)</td>\n",
       "      <td>617</td>\n",
       "    </tr>\n",
       "    <tr>\n",
       "      <th>5</th>\n",
       "      <td>(never, arrived)</td>\n",
       "      <td>580</td>\n",
       "    </tr>\n",
       "    <tr>\n",
       "      <th>6</th>\n",
       "      <td>(live, chat)</td>\n",
       "      <td>483</td>\n",
       "    </tr>\n",
       "    <tr>\n",
       "      <th>7</th>\n",
       "      <td>(stone, cold)</td>\n",
       "      <td>462</td>\n",
       "    </tr>\n",
       "    <tr>\n",
       "      <th>8</th>\n",
       "      <td>(said, would)</td>\n",
       "      <td>441</td>\n",
       "    </tr>\n",
       "    <tr>\n",
       "      <th>9</th>\n",
       "      <td>(item, missing)</td>\n",
       "      <td>417</td>\n",
       "    </tr>\n",
       "    <tr>\n",
       "      <th>10</th>\n",
       "      <td>(could, give)</td>\n",
       "      <td>403</td>\n",
       "    </tr>\n",
       "    <tr>\n",
       "      <th>11</th>\n",
       "      <td>(wrong, address)</td>\n",
       "      <td>391</td>\n",
       "    </tr>\n",
       "    <tr>\n",
       "      <th>12</th>\n",
       "      <td>(bad, ever)</td>\n",
       "      <td>389</td>\n",
       "    </tr>\n",
       "    <tr>\n",
       "      <th>13</th>\n",
       "      <td>(last, time)</td>\n",
       "      <td>382</td>\n",
       "    </tr>\n",
       "    <tr>\n",
       "      <th>14</th>\n",
       "      <td>(waste, time)</td>\n",
       "      <td>376</td>\n",
       "    </tr>\n",
       "  </tbody>\n",
       "</table>\n",
       "</div>"
      ],
      "text/plain": [
       "              Bigram  Count\n",
       "0    (missing, item)    792\n",
       "1      (money, back)    760\n",
       "2      (first, time)    720\n",
       "3       (hour, late)    690\n",
       "4     (even, though)    617\n",
       "5   (never, arrived)    580\n",
       "6       (live, chat)    483\n",
       "7      (stone, cold)    462\n",
       "8      (said, would)    441\n",
       "9    (item, missing)    417\n",
       "10     (could, give)    403\n",
       "11  (wrong, address)    391\n",
       "12       (bad, ever)    389\n",
       "13      (last, time)    382\n",
       "14     (waste, time)    376"
      ]
     },
     "execution_count": 108,
     "metadata": {},
     "output_type": "execute_result"
    }
   ],
   "source": [
    "pd.DataFrame(sorted(bigrams.items(), key=lambda item: item[1], reverse=True), columns=['Bigram', 'Count']).head(15)"
   ]
  },
  {
   "cell_type": "code",
   "execution_count": 109,
   "metadata": {},
   "outputs": [
    {
     "data": {
      "image/png": "[encoded data removed]",
      "text/plain": [
       "<Figure size 1440x432 with 1 Axes>"
      ]
     },
     "metadata": {},
     "output_type": "display_data"
    }
   ],
   "source": [
    "plot_bigrams(input_df=reviews_df, text_col='Clean_Review_String', top_n=15, rotation=0.0, figsize=(20, 6))"
   ]
  },
  {
   "cell_type": "markdown",
   "metadata": {},
   "source": [
    "From the bigrams plot we can infer that there are 3 main topics in the data:\n",
    "\n",
    "1. Case where order arrived but an item was missing (e.g.\"missing item\")\n",
    "2. Case where items received very late (\"cold food\", \"stone cold\", \"hour cold\")\n",
    "3. Case when the order never arrived (\"wrong-adress\", \"never arrived\")\n",
    "    \n",
    "We can also observe that the bigram \"customer service\" appears in the majority of the reviews. This is something expected, as in general reviews in TrustPilot for delivery companies tend to contain reviews about problems that the customers might have faced. \n",
    "\n",
    "Hence, it's regular when a customer facing an issue with their order, to contact the customer service of the company, independently of the nature of the issue (i.e. any of the 3 points we mentioned above). Queries about the customer service might not add a lot of information in the data as they seem to be part around in 1/3 of the total reviews. One option would be to remove these words from our analysis - by adding them in the stopwords list - but for now we will leave this set of words inside our dataset as it might provide us with some useful findings later.\n",
    "\n",
    "In the next section we will finally get into the modelling part of the project. Based on our findings above and by leveraging a well known method for topic modelling (i.e. LDA), we will attempt to identify the different topics that exist inside the reviews."
   ]
  },
  {
   "cell_type": "markdown",
   "metadata": {},
   "source": [
    "<a id=\"lda\"></a>\n",
    "## Latent Dirichlet Allocation Model"
   ]
  },
  {
   "cell_type": "code",
   "execution_count": 110,
   "metadata": {},
   "outputs": [],
   "source": [
    "from sklearn.feature_extraction.text import CountVectorizer\n",
    "from sklearn.decomposition import LatentDirichletAllocation\n",
    "from scipy.sparse.csr import csr_matrix"
   ]
  },
  {
   "cell_type": "code",
   "execution_count": 111,
   "metadata": {},
   "outputs": [],
   "source": [
    "def sentenceToNGramTokens(text: str,\n",
    "                          ngram_size=2) -> List[str]:\n",
    "    \"\"\" Given a sentence as tokens, return the n-gram combinations joined by an\n",
    "    underscore.\n",
    "    \"\"\"\n",
    "    return [\"_\".join(w) for w in ngrams(text, ngram_size)]"
   ]
  },
  {
   "cell_type": "code",
   "execution_count": 112,
   "metadata": {},
   "outputs": [],
   "source": [
    "def countVectorizerToDict(vectorizer: CountVectorizer,\n",
    "                          matrix: csr_matrix) -> dict:\n",
    "    feature_names = vectorizer.get_feature_names()\n",
    "    counts = np.asarray(matrix.sum(axis=0))[0]\n",
    "    return dict(zip(feature_names, counts))"
   ]
  },
  {
   "cell_type": "code",
   "execution_count": 113,
   "metadata": {},
   "outputs": [],
   "source": [
    "def getWordWeightsPerTopic(model,\n",
    "                           feature_names: List[str],\n",
    "                           sort=True):\n",
    "    word_weights_per_topic = []\n",
    "    for i, topic in enumerate(model.components_):\n",
    "        weights = list(zip(feature_names, topic))\n",
    "        if sort:\n",
    "            weights = sorted(weights, key=lambda x: x[1], reverse=True)\n",
    "        word_weights_per_topic.append([i, weights])\n",
    "    return word_weights_per_topic"
   ]
  },
  {
   "cell_type": "code",
   "execution_count": 137,
   "metadata": {},
   "outputs": [],
   "source": [
    "def showTopWordsPerTopic(model,\n",
    "                         feature_names: List[str],\n",
    "                         num_top_words: int):\n",
    "    for i in range(0, len(model.components_)):\n",
    "        weights = getWordWeightsPerTopic(model, feature_names)[i][1]\n",
    "        print('Topic {0} : {1} \\n'.format(i+1, weights[0:num_top_words]))"
   ]
  },
  {
   "cell_type": "code",
   "execution_count": 115,
   "metadata": {},
   "outputs": [
    {
     "name": "stderr",
     "output_type": "stream",
     "text": [
      "C:\\ProgramData\\Anaconda3\\lib\\site-packages\\ipykernel_launcher.py:6: DeprecationWarning: generator 'ngrams' raised StopIteration\n",
      "  \n"
     ]
    }
   ],
   "source": [
    "reviews_df['Review_Bigram'] = reviews_df['Review_Lemmatized'].apply(lambda row: sentenceToNGramTokens(text=row, ngram_size=2))"
   ]
  },
  {
   "cell_type": "code",
   "execution_count": 116,
   "metadata": {},
   "outputs": [],
   "source": [
    "reviews_df['Review_Bigram_Sentence'] = reviews_df['Review_Bigram'].apply(lambda row: ' '.join([x for x in row]))"
   ]
  },
  {
   "cell_type": "code",
   "execution_count": 117,
   "metadata": {},
   "outputs": [],
   "source": [
    "vectorizer = CountVectorizer(max_df=1.0,\n",
    "                             min_df=1,\n",
    "                             max_features=10000)"
   ]
  },
  {
   "cell_type": "markdown",
   "metadata": {},
   "source": [
    "The above object will help us with creating a sparse matrix where each row is a document and each column is a word.<br>\n",
    "The value under $x_i, y_i$ represents a count of how many times that specific word ($y_i$) appears in that document ($x_i$)."
   ]
  },
  {
   "cell_type": "code",
   "execution_count": 118,
   "metadata": {},
   "outputs": [],
   "source": [
    "cv = vectorizer.fit_transform(reviews_df['Review_Bigram_Sentence'])"
   ]
  },
  {
   "cell_type": "code",
   "execution_count": 119,
   "metadata": {},
   "outputs": [
    {
     "data": {
      "text/plain": [
       "(17583, 10000)"
      ]
     },
     "execution_count": 119,
     "metadata": {},
     "output_type": "execute_result"
    }
   ],
   "source": [
    "cv.shape"
   ]
  },
  {
   "cell_type": "markdown",
   "metadata": {},
   "source": [
    "Thus, we can see that we have created a matrix which consist of 16583 distinct documents (reviews) and a total of 6000 words. Note that 6000 is an arbitrary number that the data analyst has to decide depending on the context of the problem. As a reminder, in our project we are working with bigrams, and thus we have create a matrix where each column is a bigram combination.\n",
    "\n",
    "We can better visualize it as follows:"
   ]
  },
  {
   "cell_type": "code",
   "execution_count": 120,
   "metadata": {},
   "outputs": [],
   "source": [
    "word_counts = countVectorizerToDict(vectorizer=vectorizer, matrix=cv)"
   ]
  },
  {
   "cell_type": "code",
   "execution_count": 121,
   "metadata": {},
   "outputs": [
    {
     "data": {
      "text/html": [
       "<div>\n",
       "<style scoped>\n",
       "    .dataframe tbody tr th:only-of-type {\n",
       "        vertical-align: middle;\n",
       "    }\n",
       "\n",
       "    .dataframe tbody tr th {\n",
       "        vertical-align: top;\n",
       "    }\n",
       "\n",
       "    .dataframe thead th {\n",
       "        text-align: right;\n",
       "    }\n",
       "</style>\n",
       "<table border=\"1\" class=\"dataframe\">\n",
       "  <thead>\n",
       "    <tr style=\"text-align: right;\">\n",
       "      <th></th>\n",
       "      <th>Bigram</th>\n",
       "      <th>Count</th>\n",
       "    </tr>\n",
       "  </thead>\n",
       "  <tbody>\n",
       "    <tr>\n",
       "      <th>0</th>\n",
       "      <td>10</td>\n",
       "      <td>844</td>\n",
       "    </tr>\n",
       "    <tr>\n",
       "      <th>1</th>\n",
       "      <td>missing_item</td>\n",
       "      <td>800</td>\n",
       "    </tr>\n",
       "    <tr>\n",
       "      <th>2</th>\n",
       "      <td>money_back</td>\n",
       "      <td>796</td>\n",
       "    </tr>\n",
       "    <tr>\n",
       "      <th>3</th>\n",
       "      <td>first_time</td>\n",
       "      <td>731</td>\n",
       "    </tr>\n",
       "    <tr>\n",
       "      <th>4</th>\n",
       "      <td>hour_late</td>\n",
       "      <td>694</td>\n",
       "    </tr>\n",
       "    <tr>\n",
       "      <th>5</th>\n",
       "      <td>30</td>\n",
       "      <td>684</td>\n",
       "    </tr>\n",
       "    <tr>\n",
       "      <th>6</th>\n",
       "      <td>even_though</td>\n",
       "      <td>621</td>\n",
       "    </tr>\n",
       "    <tr>\n",
       "      <th>7</th>\n",
       "      <td>20</td>\n",
       "      <td>599</td>\n",
       "    </tr>\n",
       "    <tr>\n",
       "      <th>8</th>\n",
       "      <td>never_arrived</td>\n",
       "      <td>597</td>\n",
       "    </tr>\n",
       "    <tr>\n",
       "      <th>9</th>\n",
       "      <td>15</td>\n",
       "      <td>560</td>\n",
       "    </tr>\n",
       "    <tr>\n",
       "      <th>10</th>\n",
       "      <td>50</td>\n",
       "      <td>542</td>\n",
       "    </tr>\n",
       "    <tr>\n",
       "      <th>11</th>\n",
       "      <td>live_chat</td>\n",
       "      <td>492</td>\n",
       "    </tr>\n",
       "    <tr>\n",
       "      <th>12</th>\n",
       "      <td>stone_cold</td>\n",
       "      <td>476</td>\n",
       "    </tr>\n",
       "    <tr>\n",
       "      <th>13</th>\n",
       "      <td>said_would</td>\n",
       "      <td>443</td>\n",
       "    </tr>\n",
       "    <tr>\n",
       "      <th>14</th>\n",
       "      <td>item_missing</td>\n",
       "      <td>423</td>\n",
       "    </tr>\n",
       "  </tbody>\n",
       "</table>\n",
       "</div>"
      ],
      "text/plain": [
       "           Bigram  Count\n",
       "0              10    844\n",
       "1    missing_item    800\n",
       "2      money_back    796\n",
       "3      first_time    731\n",
       "4       hour_late    694\n",
       "5              30    684\n",
       "6     even_though    621\n",
       "7              20    599\n",
       "8   never_arrived    597\n",
       "9              15    560\n",
       "10             50    542\n",
       "11      live_chat    492\n",
       "12     stone_cold    476\n",
       "13     said_would    443\n",
       "14   item_missing    423"
      ]
     },
     "execution_count": 121,
     "metadata": {},
     "output_type": "execute_result"
    }
   ],
   "source": [
    "pd.DataFrame(sorted(word_counts.items(), key=lambda item: item[1], reverse=True), columns=['Bigram', 'Count']).head(15)"
   ]
  },
  {
   "cell_type": "markdown",
   "metadata": {},
   "source": [
    "Latent Dirichlet Allocation model requires the number of topics as an input from the user. As we saw above, seems like the reviews are splitted into 3 categories.\n",
    "Therefore, we are going to set this parameter to 3 and attempt to identify these topics in the reviews."
   ]
  },
  {
   "cell_type": "code",
   "execution_count": 122,
   "metadata": {},
   "outputs": [],
   "source": [
    "number_of_topics = 3"
   ]
  },
  {
   "cell_type": "code",
   "execution_count": 123,
   "metadata": {},
   "outputs": [],
   "source": [
    "lda_model = LatentDirichletAllocation(n_components=number_of_topics,\n",
    "                                      max_iter=20,\n",
    "                                      random_state=10,\n",
    "                                      n_jobs=-1,\n",
    "                                      verbose=0)"
   ]
  },
  {
   "cell_type": "code",
   "execution_count": 124,
   "metadata": {},
   "outputs": [
    {
     "data": {
      "text/plain": [
       "LatentDirichletAllocation(batch_size=128, doc_topic_prior=None,\n",
       "                          evaluate_every=-1, learning_decay=0.7,\n",
       "                          learning_method='batch', learning_offset=10.0,\n",
       "                          max_doc_update_iter=100, max_iter=20,\n",
       "                          mean_change_tol=0.001, n_components=3, n_jobs=-1,\n",
       "                          perp_tol=0.1, random_state=10, topic_word_prior=None,\n",
       "                          total_samples=1000000.0, verbose=0)"
      ]
     },
     "execution_count": 124,
     "metadata": {},
     "output_type": "execute_result"
    }
   ],
   "source": [
    "lda_model.fit(cv)"
   ]
  },
  {
   "cell_type": "code",
   "execution_count": 125,
   "metadata": {},
   "outputs": [
    {
     "data": {
      "text/plain": [
       "(3, 10000, 10000, 10000)"
      ]
     },
     "execution_count": 125,
     "metadata": {},
     "output_type": "execute_result"
    }
   ],
   "source": [
    "len(lda_model.components_), len(lda_model.components_[0]), len(lda_model.components_[1]), len(lda_model.components_[2])"
   ]
  },
  {
   "cell_type": "markdown",
   "metadata": {},
   "source": [
    "We can see the weight (parameter) of each word for a specific document, as follows:"
   ]
  },
  {
   "cell_type": "code",
   "execution_count": 126,
   "metadata": {},
   "outputs": [
    {
     "data": {
      "text/plain": [
       "array([71.94355822,  8.87221491,  1.74932562, ...,  3.6978268 ,\n",
       "        0.35155908,  0.37975885])"
      ]
     },
     "execution_count": 126,
     "metadata": {},
     "output_type": "execute_result"
    }
   ],
   "source": [
    "lda_model.components_[0]"
   ]
  },
  {
   "cell_type": "markdown",
   "metadata": {},
   "source": [
    "The above can be interpreted as a pseudocount of the number of times that word (bigram) $x_i$ was assigned to document topic $z_i$. Hence, the first case in the example we have a pseudocount of 3.08690378 for word $x_1$ on topic 0 (which is the first topic)."
   ]
  },
  {
   "cell_type": "code",
   "execution_count": 127,
   "metadata": {},
   "outputs": [],
   "source": [
    "topic_weights = getWordWeightsPerTopic(lda_model,\n",
    "                                       feature_names=vectorizer.get_feature_names(),\n",
    "                                       sort=True)"
   ]
  },
  {
   "cell_type": "code",
   "execution_count": 128,
   "metadata": {},
   "outputs": [
    {
     "data": {
      "text/plain": [
       "[('missing_item', 800.2727531656146),\n",
       " ('item_missing', 423.29824305306715),\n",
       " ('waste_time', 281.39425905689694),\n",
       " ('bad_experience', 237.97072851758958),\n",
       " ('the', 225.61662138202848)]"
      ]
     },
     "execution_count": 128,
     "metadata": {},
     "output_type": "execute_result"
    }
   ],
   "source": [
    "# This corresponds to topic 0, and the top 5 bigrams accounting for this topic\n",
    "topic_weights[0][1][0:5]  # [1] is a positional index and should remain same independently of the document"
   ]
  },
  {
   "cell_type": "code",
   "execution_count": 138,
   "metadata": {},
   "outputs": [
    {
     "name": "stdout",
     "output_type": "stream",
     "text": [
      "Topic 1 : [('missing_item', 800.2727531656146), ('item_missing', 423.29824305306715), ('waste_time', 281.39425905689694), ('bad_experience', 237.97072851758958), ('the', 225.61662138202848)] \n",
      "\n",
      "Topic 2 : [('never_arrived', 446.8110896595017), ('said_would', 359.45462046324), ('first_time', 345.4789838482554), ('even_though', 308.57425337020953), ('waited_hour', 308.14905882659275)] \n",
      "\n",
      "Topic 3 : [('10', 767.9567021706697), ('30', 627.0639361424451), ('15', 534.8365457740227), ('50', 460.56285763994117), ('20', 446.7129261945139)] \n",
      "\n"
     ]
    }
   ],
   "source": [
    "showTopWordsPerTopic(lda_model, feature_names=vectorizer.get_feature_names(), num_top_words=5)"
   ]
  },
  {
   "cell_type": "markdown",
   "metadata": {},
   "source": [
    "Therefore we can see that the algorithm has identified the following 3 topics:\n",
    "\n",
    "- Topic 1: Cases where an item was missing from the order\n",
    "- Topic 2: This topic consists of reviews where the order took a significant amount to be completed\n",
    "- Topic 3: This appears to be the topic arround orders that were never arrived to their destination"
   ]
  },
  {
   "cell_type": "code",
   "execution_count": 130,
   "metadata": {},
   "outputs": [],
   "source": [
    "topic_to_review_distribution = lda_model.transform(cv)"
   ]
  },
  {
   "cell_type": "code",
   "execution_count": 134,
   "metadata": {},
   "outputs": [],
   "source": [
    "def assignTopic(topic_probs: List[float]) -> int:\n",
    "    max_topic_idx = np.argmax(topic_probs)\n",
    "    if max_topic_idx==0:\n",
    "        max_topic_idx = 1\n",
    "    else:\n",
    "        max_topic_idx += 1\n",
    "    return max_topic_idx"
   ]
  },
  {
   "cell_type": "code",
   "execution_count": 132,
   "metadata": {},
   "outputs": [],
   "source": [
    "reviews_df['Topic_Likelihood'] = topic_to_review_distribution.tolist()"
   ]
  },
  {
   "cell_type": "code",
   "execution_count": 135,
   "metadata": {},
   "outputs": [],
   "source": [
    "reviews_df['Topic'] = reviews_df['Topic_Likelihood'].apply(lambda row: assignTopic(row))"
   ]
  },
  {
   "cell_type": "code",
   "execution_count": 136,
   "metadata": {},
   "outputs": [
    {
     "data": {
      "text/html": [
       "<div>\n",
       "<style scoped>\n",
       "    .dataframe tbody tr th:only-of-type {\n",
       "        vertical-align: middle;\n",
       "    }\n",
       "\n",
       "    .dataframe tbody tr th {\n",
       "        vertical-align: top;\n",
       "    }\n",
       "\n",
       "    .dataframe thead th {\n",
       "        text-align: right;\n",
       "    }\n",
       "</style>\n",
       "<table border=\"1\" class=\"dataframe\">\n",
       "  <thead>\n",
       "    <tr style=\"text-align: right;\">\n",
       "      <th></th>\n",
       "      <th>Company</th>\n",
       "      <th>Id</th>\n",
       "      <th>Reviewer_Id</th>\n",
       "      <th>Title</th>\n",
       "      <th>Review</th>\n",
       "      <th>Date</th>\n",
       "      <th>Rating</th>\n",
       "      <th>Rating_Text</th>\n",
       "      <th>Review_Tokenized</th>\n",
       "      <th>Review_Lemmatized</th>\n",
       "      <th>Clean_Review_String</th>\n",
       "      <th>Review_Bigram</th>\n",
       "      <th>Review_Bigram_Sentence</th>\n",
       "      <th>Topic_Likelihood</th>\n",
       "      <th>Topic</th>\n",
       "    </tr>\n",
       "  </thead>\n",
       "  <tbody>\n",
       "    <tr>\n",
       "      <th>0</th>\n",
       "      <td>Deliveroo</td>\n",
       "      <td>60709f95f85d75087052ff8b</td>\n",
       "      <td>60709f8f0a30fd001b06dc52</td>\n",
       "      <td>Ordered food and apparently the driver…</td>\n",
       "      <td>Ordered food and apparently the driver was wai...</td>\n",
       "      <td>2021-04-09 18:40:00</td>\n",
       "      <td>2</td>\n",
       "      <td>Poor</td>\n",
       "      <td>[ordered, apparently, waiting, mins, even, tho...</td>\n",
       "      <td>[ordered, apparently, waiting, min, even, thou...</td>\n",
       "      <td>ordered apparently waiting min even though sto...</td>\n",
       "      <td>[ordered_apparently, apparently_waiting, waiti...</td>\n",
       "      <td>ordered_apparently apparently_waiting waiting_...</td>\n",
       "      <td>[0.8726446445128381, 0.06626498917826568, 0.06...</td>\n",
       "      <td>1</td>\n",
       "    </tr>\n",
       "    <tr>\n",
       "      <th>1</th>\n",
       "      <td>Deliveroo</td>\n",
       "      <td>60708710f85d75087052c89b</td>\n",
       "      <td>6070870c2158190019b3ab8e</td>\n",
       "      <td>Disgusting Live Customer Service CHAT!!!</td>\n",
       "      <td>I received standard bag of buttons that cost £...</td>\n",
       "      <td>2021-04-09 16:55:00</td>\n",
       "      <td>1</td>\n",
       "      <td>Bad</td>\n",
       "      <td>[received, standard, bag, buttons, cost, £1.60...</td>\n",
       "      <td>[received, standard, bag, button, cost, £1.60,...</td>\n",
       "      <td>received standard bag button cost £1.60 asked ...</td>\n",
       "      <td>[received_standard, standard_bag, bag_button, ...</td>\n",
       "      <td>received_standard standard_bag bag_button butt...</td>\n",
       "      <td>[0.2298157788107342, 0.030077792929094474, 0.7...</td>\n",
       "      <td>3</td>\n",
       "    </tr>\n",
       "    <tr>\n",
       "      <th>2</th>\n",
       "      <td>Deliveroo</td>\n",
       "      <td>60707b91f85d75087052abb6</td>\n",
       "      <td>602eb3ac49aeca0019ad4b70</td>\n",
       "      <td>Just had an appalling experience with…</td>\n",
       "      <td>Just had an appalling experience with delivero...</td>\n",
       "      <td>2021-04-09 16:06:00</td>\n",
       "      <td>1</td>\n",
       "      <td>Bad</td>\n",
       "      <td>[appalling, experience, ordered, pizza, £10, d...</td>\n",
       "      <td>[appalling, experience, ordered, pizza, £10, d...</td>\n",
       "      <td>appalling experience ordered pizza £10 discoun...</td>\n",
       "      <td>[appalling_experience, experience_ordered, ord...</td>\n",
       "      <td>appalling_experience experience_ordered ordere...</td>\n",
       "      <td>[0.27614707219569484, 0.0228582741076049, 0.70...</td>\n",
       "      <td>3</td>\n",
       "    </tr>\n",
       "    <tr>\n",
       "      <th>3</th>\n",
       "      <td>Deliveroo</td>\n",
       "      <td>60705919f85d7508705251d4</td>\n",
       "      <td>60705856348d93001ad1ca1f</td>\n",
       "      <td>The same situation happened twice</td>\n",
       "      <td>The same situation happened twice. I ordered f...</td>\n",
       "      <td>2021-04-09 13:39:00</td>\n",
       "      <td>2</td>\n",
       "      <td>Poor</td>\n",
       "      <td>[situation, happened, twice, ordered, around, ...</td>\n",
       "      <td>[situation, happened, twice, ordered, around, ...</td>\n",
       "      <td>situation happened twice ordered around pm wai...</td>\n",
       "      <td>[situation_happened, happened_twice, twice_ord...</td>\n",
       "      <td>situation_happened happened_twice twice_ordere...</td>\n",
       "      <td>[0.03631664434817537, 0.3649054212837097, 0.59...</td>\n",
       "      <td>3</td>\n",
       "    </tr>\n",
       "    <tr>\n",
       "      <th>4</th>\n",
       "      <td>Deliveroo</td>\n",
       "      <td>60705138f85d750870523d4d</td>\n",
       "      <td>6070512519dc76001aebe4b1</td>\n",
       "      <td>Driver left without giving us food</td>\n",
       "      <td>Driver turned up late couldn’t find us and lef...</td>\n",
       "      <td>2021-04-09 13:06:00</td>\n",
       "      <td>1</td>\n",
       "      <td>Bad</td>\n",
       "      <td>[turned, late, find, us, left, awful]</td>\n",
       "      <td>[turned, late, find, u, left, awful]</td>\n",
       "      <td>turned late find u left awful</td>\n",
       "      <td>[turned_late, late_find, find_u, u_left, left_...</td>\n",
       "      <td>turned_late late_find find_u u_left left_awful</td>\n",
       "      <td>[0.07860942856521938, 0.8502131752114503, 0.07...</td>\n",
       "      <td>2</td>\n",
       "    </tr>\n",
       "    <tr>\n",
       "      <th>5</th>\n",
       "      <td>Deliveroo</td>\n",
       "      <td>60701fb8f85d75087051b618</td>\n",
       "      <td>5fcf534133b62e00194147a9</td>\n",
       "      <td>Wish Icould give it zero stars</td>\n",
       "      <td>Wish Icould give it zero stars. Customers serv...</td>\n",
       "      <td>2021-04-09 09:34:00</td>\n",
       "      <td>1</td>\n",
       "      <td>Bad</td>\n",
       "      <td>[wish, icould, give, zero, stars, customers, a...</td>\n",
       "      <td>[wish, icould, give, zero, star, customer, acc...</td>\n",
       "      <td>wish icould give zero star customer accused co...</td>\n",
       "      <td>[wish_icould, icould_give, give_zero, zero_sta...</td>\n",
       "      <td>wish_icould icould_give give_zero zero_star st...</td>\n",
       "      <td>[0.034881851660274965, 0.03662830903161981, 0....</td>\n",
       "      <td>3</td>\n",
       "    </tr>\n",
       "    <tr>\n",
       "      <th>6</th>\n",
       "      <td>Deliveroo</td>\n",
       "      <td>606f6220f85d75087050df29</td>\n",
       "      <td>606f621b252e9400195d0279</td>\n",
       "      <td>Once again we placed an order</td>\n",
       "      <td>Once again we placed an order - paid Deliveroo...</td>\n",
       "      <td>2021-04-08 20:05:00</td>\n",
       "      <td>1</td>\n",
       "      <td>Bad</td>\n",
       "      <td>[placed, paid, premium, time, 8.35, drivers, w...</td>\n",
       "      <td>[placed, paid, premium, time, 8.35, driver, wa...</td>\n",
       "      <td>placed paid premium time 8.35 driver waiting r...</td>\n",
       "      <td>[placed_paid, paid_premium, premium_time, time...</td>\n",
       "      <td>placed_paid paid_premium premium_time time_8.3...</td>\n",
       "      <td>[0.1689022843029567, 0.03130941806192434, 0.79...</td>\n",
       "      <td>3</td>\n",
       "    </tr>\n",
       "    <tr>\n",
       "      <th>7</th>\n",
       "      <td>Deliveroo</td>\n",
       "      <td>606ed6abf85d7508704f5b9c</td>\n",
       "      <td>529cb994000064000157b639</td>\n",
       "      <td>Deliveroo rider stole from me</td>\n",
       "      <td>Deliveroo rider stole from me on his way out o...</td>\n",
       "      <td>2021-04-08 10:10:00</td>\n",
       "      <td>1</td>\n",
       "      <td>Bad</td>\n",
       "      <td>[rider, stole, way, building, effectively, shr...</td>\n",
       "      <td>[rider, stole, way, building, effectively, shr...</td>\n",
       "      <td>rider stole way building effectively shrugged ...</td>\n",
       "      <td>[rider_stole, stole_way, way_building, buildin...</td>\n",
       "      <td>rider_stole stole_way way_building building_ef...</td>\n",
       "      <td>[0.20413354700513764, 0.629018331271135, 0.166...</td>\n",
       "      <td>2</td>\n",
       "    </tr>\n",
       "    <tr>\n",
       "      <th>8</th>\n",
       "      <td>Deliveroo</td>\n",
       "      <td>606e15cef85d7508704e7ee8</td>\n",
       "      <td>551017660000ff0001b3597e</td>\n",
       "      <td>Useless service</td>\n",
       "      <td>Useless service. I live 5 mins from store and ...</td>\n",
       "      <td>2021-04-07 20:27:00</td>\n",
       "      <td>1</td>\n",
       "      <td>Bad</td>\n",
       "      <td>[useless, live, mins, store, find, address, to...</td>\n",
       "      <td>[useless, live, min, store, find, address, tol...</td>\n",
       "      <td>useless live min store find address told nearb...</td>\n",
       "      <td>[useless_live, live_min, min_store, store_find...</td>\n",
       "      <td>useless_live live_min min_store store_find fin...</td>\n",
       "      <td>[0.023109279725821105, 0.030272016967597633, 0...</td>\n",
       "      <td>3</td>\n",
       "    </tr>\n",
       "    <tr>\n",
       "      <th>9</th>\n",
       "      <td>Deliveroo</td>\n",
       "      <td>606dfc12f85d7508704e45f5</td>\n",
       "      <td>606dfc0dc80f69001ac5410f</td>\n",
       "      <td>Do not use this app</td>\n",
       "      <td>Do not use this app! There t and c protect dri...</td>\n",
       "      <td>2021-04-07 18:38:00</td>\n",
       "      <td>1</td>\n",
       "      <td>Bad</td>\n",
       "      <td>[app, c, protect, theft, receive, entitled, co...</td>\n",
       "      <td>[app, c, protect, theft, receive, entitled, co...</td>\n",
       "      <td>app c protect theft receive entitled comfirmed...</td>\n",
       "      <td>[app_c, c_protect, protect_theft, theft_receiv...</td>\n",
       "      <td>app_c c_protect protect_theft theft_receive re...</td>\n",
       "      <td>[0.043440897219952715, 0.21139369527074756, 0....</td>\n",
       "      <td>3</td>\n",
       "    </tr>\n",
       "  </tbody>\n",
       "</table>\n",
       "</div>"
      ],
      "text/plain": [
       "     Company                        Id               Reviewer_Id  \\\n",
       "0  Deliveroo  60709f95f85d75087052ff8b  60709f8f0a30fd001b06dc52   \n",
       "1  Deliveroo  60708710f85d75087052c89b  6070870c2158190019b3ab8e   \n",
       "2  Deliveroo  60707b91f85d75087052abb6  602eb3ac49aeca0019ad4b70   \n",
       "3  Deliveroo  60705919f85d7508705251d4  60705856348d93001ad1ca1f   \n",
       "4  Deliveroo  60705138f85d750870523d4d  6070512519dc76001aebe4b1   \n",
       "5  Deliveroo  60701fb8f85d75087051b618  5fcf534133b62e00194147a9   \n",
       "6  Deliveroo  606f6220f85d75087050df29  606f621b252e9400195d0279   \n",
       "7  Deliveroo  606ed6abf85d7508704f5b9c  529cb994000064000157b639   \n",
       "8  Deliveroo  606e15cef85d7508704e7ee8  551017660000ff0001b3597e   \n",
       "9  Deliveroo  606dfc12f85d7508704e45f5  606dfc0dc80f69001ac5410f   \n",
       "\n",
       "                                      Title  \\\n",
       "0   Ordered food and apparently the driver…   \n",
       "1  Disgusting Live Customer Service CHAT!!!   \n",
       "2    Just had an appalling experience with…   \n",
       "3         The same situation happened twice   \n",
       "4        Driver left without giving us food   \n",
       "5            Wish Icould give it zero stars   \n",
       "6             Once again we placed an order   \n",
       "7             Deliveroo rider stole from me   \n",
       "8                           Useless service   \n",
       "9                       Do not use this app   \n",
       "\n",
       "                                              Review                Date  \\\n",
       "0  Ordered food and apparently the driver was wai... 2021-04-09 18:40:00   \n",
       "1  I received standard bag of buttons that cost £... 2021-04-09 16:55:00   \n",
       "2  Just had an appalling experience with delivero... 2021-04-09 16:06:00   \n",
       "3  The same situation happened twice. I ordered f... 2021-04-09 13:39:00   \n",
       "4  Driver turned up late couldn’t find us and lef... 2021-04-09 13:06:00   \n",
       "5  Wish Icould give it zero stars. Customers serv... 2021-04-09 09:34:00   \n",
       "6  Once again we placed an order - paid Deliveroo... 2021-04-08 20:05:00   \n",
       "7  Deliveroo rider stole from me on his way out o... 2021-04-08 10:10:00   \n",
       "8  Useless service. I live 5 mins from store and ... 2021-04-07 20:27:00   \n",
       "9  Do not use this app! There t and c protect dri... 2021-04-07 18:38:00   \n",
       "\n",
       "   Rating Rating_Text                                   Review_Tokenized  \\\n",
       "0       2        Poor  [ordered, apparently, waiting, mins, even, tho...   \n",
       "1       1         Bad  [received, standard, bag, buttons, cost, £1.60...   \n",
       "2       1         Bad  [appalling, experience, ordered, pizza, £10, d...   \n",
       "3       2        Poor  [situation, happened, twice, ordered, around, ...   \n",
       "4       1         Bad              [turned, late, find, us, left, awful]   \n",
       "5       1         Bad  [wish, icould, give, zero, stars, customers, a...   \n",
       "6       1         Bad  [placed, paid, premium, time, 8.35, drivers, w...   \n",
       "7       1         Bad  [rider, stole, way, building, effectively, shr...   \n",
       "8       1         Bad  [useless, live, mins, store, find, address, to...   \n",
       "9       1         Bad  [app, c, protect, theft, receive, entitled, co...   \n",
       "\n",
       "                                   Review_Lemmatized  \\\n",
       "0  [ordered, apparently, waiting, min, even, thou...   \n",
       "1  [received, standard, bag, button, cost, £1.60,...   \n",
       "2  [appalling, experience, ordered, pizza, £10, d...   \n",
       "3  [situation, happened, twice, ordered, around, ...   \n",
       "4               [turned, late, find, u, left, awful]   \n",
       "5  [wish, icould, give, zero, star, customer, acc...   \n",
       "6  [placed, paid, premium, time, 8.35, driver, wa...   \n",
       "7  [rider, stole, way, building, effectively, shr...   \n",
       "8  [useless, live, min, store, find, address, tol...   \n",
       "9  [app, c, protect, theft, receive, entitled, co...   \n",
       "\n",
       "                                 Clean_Review_String  \\\n",
       "0  ordered apparently waiting min even though sto...   \n",
       "1  received standard bag button cost £1.60 asked ...   \n",
       "2  appalling experience ordered pizza £10 discoun...   \n",
       "3  situation happened twice ordered around pm wai...   \n",
       "4                      turned late find u left awful   \n",
       "5  wish icould give zero star customer accused co...   \n",
       "6  placed paid premium time 8.35 driver waiting r...   \n",
       "7  rider stole way building effectively shrugged ...   \n",
       "8  useless live min store find address told nearb...   \n",
       "9  app c protect theft receive entitled comfirmed...   \n",
       "\n",
       "                                       Review_Bigram  \\\n",
       "0  [ordered_apparently, apparently_waiting, waiti...   \n",
       "1  [received_standard, standard_bag, bag_button, ...   \n",
       "2  [appalling_experience, experience_ordered, ord...   \n",
       "3  [situation_happened, happened_twice, twice_ord...   \n",
       "4  [turned_late, late_find, find_u, u_left, left_...   \n",
       "5  [wish_icould, icould_give, give_zero, zero_sta...   \n",
       "6  [placed_paid, paid_premium, premium_time, time...   \n",
       "7  [rider_stole, stole_way, way_building, buildin...   \n",
       "8  [useless_live, live_min, min_store, store_find...   \n",
       "9  [app_c, c_protect, protect_theft, theft_receiv...   \n",
       "\n",
       "                              Review_Bigram_Sentence  \\\n",
       "0  ordered_apparently apparently_waiting waiting_...   \n",
       "1  received_standard standard_bag bag_button butt...   \n",
       "2  appalling_experience experience_ordered ordere...   \n",
       "3  situation_happened happened_twice twice_ordere...   \n",
       "4     turned_late late_find find_u u_left left_awful   \n",
       "5  wish_icould icould_give give_zero zero_star st...   \n",
       "6  placed_paid paid_premium premium_time time_8.3...   \n",
       "7  rider_stole stole_way way_building building_ef...   \n",
       "8  useless_live live_min min_store store_find fin...   \n",
       "9  app_c c_protect protect_theft theft_receive re...   \n",
       "\n",
       "                                    Topic_Likelihood  Topic  \n",
       "0  [0.8726446445128381, 0.06626498917826568, 0.06...      1  \n",
       "1  [0.2298157788107342, 0.030077792929094474, 0.7...      3  \n",
       "2  [0.27614707219569484, 0.0228582741076049, 0.70...      3  \n",
       "3  [0.03631664434817537, 0.3649054212837097, 0.59...      3  \n",
       "4  [0.07860942856521938, 0.8502131752114503, 0.07...      2  \n",
       "5  [0.034881851660274965, 0.03662830903161981, 0....      3  \n",
       "6  [0.1689022843029567, 0.03130941806192434, 0.79...      3  \n",
       "7  [0.20413354700513764, 0.629018331271135, 0.166...      2  \n",
       "8  [0.023109279725821105, 0.030272016967597633, 0...      3  \n",
       "9  [0.043440897219952715, 0.21139369527074756, 0....      3  "
      ]
     },
     "execution_count": 136,
     "metadata": {},
     "output_type": "execute_result"
    }
   ],
   "source": [
    "reviews_df.head(10)"
   ]
  },
  {
   "cell_type": "code",
   "execution_count": 96,
   "metadata": {},
   "outputs": [
    {
     "name": "stdout",
     "output_type": "stream",
     "text": [
      "[(0,\n",
      "  '0.001*\"money_back\" + 0.001*\"first_time\" + 0.001*\"hour_late\" + '\n",
      "  '0.001*\"missing_item\" + 0.001*\"stone_cold\" + 0.001*\"said_would\" + '\n",
      "  '0.001*\"never_arrived\" + 0.001*\"waited_hour\" + 0.001*\"live_chat\" + '\n",
      "  '0.001*\"even_though\"'),\n",
      " (1,\n",
      "  '0.001*\"missing_item\" + 0.001*\"first_time\" + 0.001*\"money_back\" + '\n",
      "  '0.001*\"hour_late\" + 0.001*\"live_chat\" + 0.001*\"even_though\" + '\n",
      "  '0.001*\"stone_cold\" + 0.001*\"waste_time\" + 0.000*\"could_give\" + '\n",
      "  '0.000*\"said_would\"'),\n",
      " (2,\n",
      "  '0.001*\"even_though\" + 0.001*\"hour_late\" + 0.001*\"first_time\" + '\n",
      "  '0.001*\"never_arrived\" + 0.001*\"money_back\" + 0.001*\"item_missing\" + '\n",
      "  '0.001*\"live_chat\" + 0.001*\"missing_item\" + 0.000*\"bad_ever\" + '\n",
      "  '0.000*\"half_hour\"')]\n"
     ]
    }
   ],
   "source": [
    "# Gensim\n",
    "from pprint import pprint\n",
    "import gensim\n",
    "import gensim.corpora as corpora\n",
    "\n",
    "# Create Dictionary\n",
    "id2word = corpora.Dictionary(reviews_df['Review_Bigram'])\n",
    "\n",
    "# Create Corpus\n",
    "texts = reviews_df['Review_Bigram']\n",
    "\n",
    "# Term Document Frequency\n",
    "corpus = [id2word.doc2bow(text) for text in texts]\n",
    "\n",
    "# Number of topics\n",
    "num_topics = 3\n",
    "\n",
    "# Build LDA model\n",
    "lda_model = gensim.models.LdaMulticore(corpus=corpus,\n",
    "                                       id2word=id2word,\n",
    "                                       num_topics=num_topics)\n",
    "# Print the Keyword in the 5 topics\n",
    "pprint(lda_model.print_topics())\n",
    "doc_lda = lda_model[corpus]"
   ]
  },
  {
   "cell_type": "code",
   "execution_count": 97,
   "metadata": {},
   "outputs": [],
   "source": [
    "import pyLDAvis.gensim\n",
    "import pickle \n",
    "import pyLDAvis"
   ]
  },
  {
   "cell_type": "code",
   "execution_count": 98,
   "metadata": {},
   "outputs": [],
   "source": [
    "# Visualize the topics\n",
    "pyLDAvis.enable_notebook()\n",
    "LDAvis_data_filepath = os.path.join('./results/ldavis_prepared_'+ str(num_topics))"
   ]
  },
  {
   "cell_type": "code",
   "execution_count": 99,
   "metadata": {},
   "outputs": [],
   "source": [
    "LDAvis_prepared = pyLDAvis.gensim.prepare(lda_model, corpus, id2word)"
   ]
  },
  {
   "cell_type": "code",
   "execution_count": 100,
   "metadata": {},
   "outputs": [
    {
     "data": {
      "text/html": [
       "\n",
       "<link rel=\"stylesheet\" type=\"text/css\" href=\"https://cdn.jsdelivr.net/gh/bmabey/pyLDAvis@3.2.2/pyLDAvis/js/ldavis.v1.0.0.css\">\n",
       "\n",
       "\n",
       "<div id=\"ldavis_el940016724296072169407377425\"></div>\n",
       "<script type=\"text/javascript\">\n",
       "\n",
       "var ldavis_el940016724296072169407377425_data = {\"mdsDat\": {\"x\": [-0.00875544493923627, -0.016276028750769615, 0.025031473690005877], \"y\": [-0.02316354765604169, 0.01894631370999351, 0.00421723394604817], \"topics\": [1, 2, 3], \"cluster\": [1, 1, 1], \"Freq\": [34.09438214633054, 33.07261100253521, 32.83300685113425]}, \"tinfo\": {\"Term\": [\"avoid_avoid\", \"missing_item\", \"item_missing\", \"waited_hour\", \"half_hour\", \"absolute_joke\", \"please_double\", \"check_ip\", \"ip_address\", \"address_thanks\", \"stone_cold\", \"newcastle_upon\", \"one_star\", \"awful_awful\", \"hour_half\", \"double_check\", \"waste_time\", \"give_zero\", \"restaurant_said\", \"two_hour\", \"never_arrived\", \"even_though\", \"tyne_please\", \"received_email\", \"upon_tyne\", \"much_good\", \"say_delivered\", \"hour_cancelled\", \"got_wrong\", \"using_app\", \"cold_nothing\", \"location_london\", \"terrible_wait\", \"still_warm\", \"hr_ordering\", \"arrived_terrible\", \"wont_delivered\", \"perfect_temperature\", \"inedible_would\", \"discount_good\", \"month_anything\", \"king_via\", \"taking_delivering\", \"temperature_receive\", \"expensive_however\", \"used_save\", \"thing_terrible\", \"bad_nothing\", \"start_came\", \"away_find\", \"found_long\", \"totally_worth\", \"good_arrived\", \"cold_side\", \"ordered_rejected\", \"disgusting_people\", \"consumer_care\", \"inedible_nothing\", \"assigned_show\", \"2x_missing\", \"whenever_issue\", \"app_much\", \"e_bicycle\", \"rule_company\", \"avoid_avoid\", \"le_one\", \"awful_awful\", \"missing_item\", \"cancel_button\", \"one_star\", \"accept_first\", \"\\u00a310_spend\", \"two_hour\", \"restaurant_said\", \"waste_time\", \"investigation_team\", \"please_double\", \"ip_address\", \"give_le\", \"late_cold\", \"never_received\", \"much_good\", \"using_app\", \"go_wrong\", \"arrived_cold\", \"joke_company\", \"could_give\", \"stone_cold\", \"live_chat\", \"first_time\", \"app_said\", \"anything_go\", \"never_using\", \"newcastle_upon\", \"next_time\", \"completely_different\", \"hour_late\", \"money_back\", \"call_restaurant\", \"even_though\", \"never_ever\", \"give_star\", \"second_time\", \"star_would\", \"said_would\", \"called_restaurant\", \"promo_code\", \"bad_experience\", \"said_delivered\", \"wrong_address\", \"minute_late\", \"never_arrived\", \"item_missing\", \"bad_ever\", \"last_time\", \"hair_refused\", \"code_ro283551\", \"mcdonalds_app\", \"available_either\", \"ordering_stick\", \"missing_expensive\", \"finally_showed\", \"fault_using\", \"hate_fact\", \"though_missed\", \"bad_get\", \"one_cost\", \"turned_disgusting\", \"placed_arrive\", \"con_job\", \"good_stay\", \"full_went\", \"support_u\", \"charged_scam\", \"always_rectify\", \"arrived_piping\", \"customer_cold\", \"app_least\", \"staff_call\", \"none_delivered\", \"placed_charged\", \"cancelled_disgusting\", \"friendly_arrived\", \"helpline.._leaving\", \"went_previous\", \"everytime_meal\", \"attempt_eats\", \"burger_delivered\", \"company_year\", \"recommend_app\", \"month_far\", \"every_email\", \"turned_even\", \"redeliver_never\", \"absolute_joke\", \"half_hour\", \"item_missing\", \"hour_even\", \"cancelled_hour\", \"received_email\", \"never_arrived\", \"even_though\", \"give_zero\", \"driver_name\", \"item_said\", \"solve_problem\", \"service_terrible\", \"long_take\", \"still_waiting\", \"straight_away\", \"still_charged\", \"bad_ever\", \"email_saying\", \"message_saying\", \"zero_star\", \"hour_late\", \"email_address\", \"ordered_meal\", \"would_give\", \"money_back\", \"phone_number\", \"wrong_address\", \"first_time\", \"marked_delivered\", \"live_chat\", \"credit_account\", \"last_time\", \"discount_code\", \"day_late\", \"give_star\", \"told_would\", \"waste_time\", \"minute_late\", \"someone_else\", \"bad_experience\", \"said_would\", \"missing_item\", \"called_restaurant\", \"could_give\", \"never_ever\", \"never_received\", \"star_would\", \"promo_code\", \"stone_cold\", \"would_authorise\", \"sure_rider\", \"charge_absolutely\", \"section_provides\", \"told_delayed\", \"order_top\", \"actually_hot\", \"probably_best\", \"help_speak\", \"twice_taken\", \"complained_nothing\", \"problem_stick\", \"money_pizza\", \"time_site\", \"mistake_taking\", \"way_overpriced\", \"eat_telephone\", \"ordering_several\", \"offered_instead\", \"great_support\", \"talk_reply\", \"experience_cold\", \"never_scam\", \"notified_hour\", \"refused_given\", \"complained_far\", \"took_app\", \"upset_hungry\", \"driving_car\", \"phone_delayed\", \"arrive_still\", \"u_rider\", \"please_save\", \"give_apparently\", \"almost_pound\", \"code_ordered\", \"waited_hour\", \"available_cancelled\", \"hour_cancelled\", \"looking_around\", \"got_stone\", \"told_getting\", \"keep_waiting\", \"message_told\", \"cold_compensation\", \"hour_half\", \"really_bad\", \"take_money\", \"stone_cold\", \"said_would\", \"stay_away\", \"absolutely_shocking\", \"ordered_restaurant\", \"third_time\", \"would_arrive\", \"money_back\", \"told_would\", \"waiting_hour\", \"ice_cream\", \"ordered_waited\", \"estimated_time\", \"say_delivered\", \"last_night\", \"would_recommend\", \"took_minute\", \"bad_experience\", \"first_time\", \"delivered_wrong\", \"every_time\", \"company_ever\", \"hour_late\", \"several_time\", \"minute_late\", \"avoid_cost\", \"last_time\", \"missing_item\", \"bad_company\", \"never_arrived\", \"wrong_address\", \"phone_call\", \"live_chat\", \"bad_ever\", \"called_restaurant\", \"even_though\", \"would_give\", \"could_give\", \"promo_code\", \"never_using\", \"second_time\", \"phone_number\"], \"Freq\": [117.0, 452.0, 242.0, 187.0, 170.0, 127.0, 55.0, 54.0, 55.0, 54.0, 292.0, 54.0, 153.0, 37.0, 151.0, 69.0, 235.0, 103.0, 139.0, 151.0, 325.0, 369.0, 30.0, 101.0, 32.0, 100.0, 84.0, 30.0, 46.0, 75.0, 4.460590635248214, 3.161076693709642, 3.16298874766741, 6.12749345527655, 3.0227108079733194, 2.603290014854273, 3.007755573845467, 2.96671256067668, 2.1933872851762697, 2.172883867026646, 2.1638815013141492, 2.5649764046222328, 2.1536528461267896, 2.9378716154611624, 2.157981479502338, 2.1450264361173597, 2.123727304175443, 2.129731068480789, 2.126562400319279, 2.111982057868919, 2.123249556692395, 2.113753128438037, 2.500573773986088, 2.913616265797488, 2.9049073938060173, 2.0923119490818958, 1.7218586769369437, 1.7120453463989158, 1.7171487677304547, 1.708778610546936, 2.4720812971462904, 4.3527190131329245, 3.9395727788279897, 2.819032549734468, 78.57427660715373, 10.549695111814515, 25.750148120368326, 221.6908123798709, 4.828263608566428, 81.09732242394027, 4.4818012757298336, 4.139574474030999, 77.2697699029434, 70.44478640292773, 108.80397523448617, 22.777697624442386, 30.73525548280163, 30.48129669602948, 15.667406306821851, 59.17369117300942, 92.1465044799954, 49.69633876915524, 39.02550434565909, 62.21243471834259, 55.77539210546757, 32.483696355996564, 95.36009438256929, 115.31135135655083, 129.31502883163373, 164.0868511819283, 44.46811433120578, 15.193092079627913, 77.05241359594154, 28.077617524317105, 50.856801947162566, 19.363286372297765, 138.77990801835068, 140.92642497696062, 44.37218462279075, 117.83568535363315, 64.99668037061242, 69.98574023338061, 66.26194581162717, 65.82242663942728, 92.17171763001392, 70.65851651077094, 65.96993179550005, 76.46374357477998, 61.699909204709385, 75.46767376676735, 73.0115963009528, 85.8125843884205, 68.38735817763778, 67.60744161837718, 65.82468521104721, 3.0372615276474293, 3.0257445889331986, 5.041105650133706, 2.548777840054378, 2.930004509632828, 2.131048065498766, 2.8836429395208816, 2.1143220988352356, 2.122763954704723, 2.1186460685368176, 2.118507762058457, 3.28487037729091, 2.8240421365885524, 2.4729191449953585, 2.064132845327765, 2.4663151826766234, 2.082227770890292, 2.0550507199154198, 2.8307859535924953, 2.0369501175944524, 2.0323767145674694, 2.0232529595932296, 2.0404738363789527, 2.0423734861806144, 2.026753283252037, 2.790931668882818, 2.0374245569816645, 3.152665210092628, 1.6601564802888287, 1.6559001156195798, 2.0425773334155117, 2.7508952118341057, 4.570286314576644, 3.829339632804815, 3.8157408719498878, 3.1065162603877137, 5.813917869283041, 2.7508788696507174, 2.728509861051689, 72.07988132869978, 92.16393616774425, 125.9531143602183, 12.639990070886142, 13.936305728422976, 51.187197365208135, 139.41672845493684, 155.28176137388994, 51.722125537990955, 4.960491551731652, 7.247844344237065, 6.991551430363984, 5.548591340478831, 8.822003954961675, 69.55366464691649, 55.791292044732685, 45.17904559341192, 92.62670826815491, 50.87572291883691, 44.2177206121192, 52.557606761998045, 144.49787451864788, 37.39233856672404, 50.59510801943839, 67.08342561999682, 137.68195511350353, 68.82624137993301, 84.61603557465793, 139.99599176709145, 53.23768930405013, 109.94577302022728, 48.727290726741515, 79.20752839804638, 41.9174623113805, 44.145870052564916, 66.92976092971081, 68.52744433931957, 76.31611105183019, 71.38744065554641, 56.11121626003062, 69.93295743411964, 77.25217480211009, 96.96336088022989, 62.940060784028326, 66.29384288023134, 58.01718136944547, 61.44980779160107, 56.31421989421895, 55.76688404771574, 58.292913568493496, 3.0520052775029245, 3.0338998719978862, 4.221377981536953, 2.9829633266229987, 2.936346065860474, 3.309459710421116, 2.92204146686867, 2.1164395550082395, 3.287861921145604, 2.1268439554401377, 2.1142460989129845, 2.0999391090472064, 2.0995724514454848, 2.1170782599129616, 2.095511381222411, 2.0976483102258308, 3.2643227422024768, 2.865980253905305, 2.870193998509347, 2.0899590887458523, 2.0745446118995594, 2.076057522795531, 2.070208078839235, 2.0763761921410424, 2.0692365301218647, 2.070236769326934, 2.06900666466685, 2.4693357984604476, 2.077899520416476, 2.06762815504361, 3.2404389358535393, 3.9106173055813276, 5.3768873736042595, 3.121308858306389, 3.8282469153982057, 2.7732020477560355, 100.0395008079392, 2.782920438133851, 18.788079265265967, 4.097905735297967, 4.06052817778814, 6.73153641612834, 5.505151614395788, 4.341253328657421, 3.0734466353097933, 68.69166734939812, 30.569974223625078, 71.77356674886944, 118.56171898583783, 112.82049554914161, 40.427386408905285, 42.2134157194185, 23.98411649121456, 29.796467745557077, 21.580356388700576, 151.8501497080486, 79.44332651469227, 62.26836992028874, 30.160918912153246, 13.843018228423876, 34.919607907117935, 38.762501999593205, 52.916877597806156, 45.69736448650836, 26.35315837118565, 87.01295921087386, 147.44499583221756, 56.83770325215344, 67.50149848197702, 46.129910476336974, 136.89296234790393, 51.27481442213789, 82.04634068806041, 50.86724555117159, 79.20744152211533, 134.0228315367782, 57.2691699331591, 100.73096888575317, 78.33119030895699, 56.792907837359785, 97.22711165262777, 75.55588019346195, 67.33725773582495, 96.65709450788374, 61.00189528529855, 68.28332793390506, 59.27448747222239, 59.747208342111456, 57.278738893913484, 56.839211552078176], \"Total\": [117.0, 452.0, 242.0, 187.0, 170.0, 127.0, 55.0, 54.0, 55.0, 54.0, 292.0, 54.0, 153.0, 37.0, 151.0, 69.0, 235.0, 103.0, 139.0, 151.0, 325.0, 369.0, 30.0, 101.0, 32.0, 100.0, 84.0, 30.0, 46.0, 75.0, 5.134406090049105, 3.646250188563259, 3.6594218939881706, 7.109424581003557, 3.611426813111581, 3.136472354796174, 3.6321738779209465, 3.6059472161258865, 2.6665511161117568, 2.6483119066465974, 2.639695483089975, 3.1294591604428237, 2.6312184897546285, 3.5917142208094326, 2.6553419170535006, 2.6395014336062967, 2.62864570525, 2.64071137988159, 2.647532302522643, 2.6346211197883704, 2.64920105789635, 2.644635324501421, 3.1295715295632864, 3.6510617727457575, 3.6444056817319317, 2.633473742851574, 2.1732949736692437, 2.1622254400152148, 2.1695088567146614, 2.1591945334641927, 3.14399136836661, 5.606527678231815, 5.101906512857677, 3.6135929497769546, 117.59988823670209, 14.494071842204772, 37.678609300861275, 452.677004796879, 6.583437344574385, 153.71618189179043, 6.069534042200306, 5.558269460554339, 151.44055916679991, 139.06160615224013, 235.9291256690157, 39.50930163534689, 55.942524299314584, 55.53120720957105, 25.77705263009308, 122.59240544976832, 205.339737992814, 100.13296159769786, 75.89106346795879, 134.28064479723872, 118.64375301456388, 62.87731630810464, 229.9372651967057, 292.1659839108822, 336.4879135044888, 451.52783878123734, 94.34052409954835, 25.74157731088159, 187.2388028209325, 54.64204682805842, 115.86610506353011, 34.758497591785904, 420.17074488490243, 430.45852979851276, 99.87574260116645, 369.77454123540684, 170.50179956384548, 188.8556561922456, 175.57451038405657, 173.98584998436797, 282.2443879812656, 200.93583503062422, 181.01130331543817, 233.4096602197735, 167.4098983317916, 238.41489965038227, 226.44537764455964, 325.96028172911053, 242.43360477673377, 235.79003007999404, 224.2396551312089, 3.523837065236374, 3.5285520098258965, 5.949656609197479, 3.059626916301003, 3.555291339015098, 2.597293340716429, 3.5156072740342905, 2.5831650215909034, 2.593516427991997, 2.5911620930797263, 2.5930169305797923, 4.046785196349588, 3.4865776031926035, 3.0531819406315788, 2.5504850909054664, 3.0658407927236557, 2.5894319019452134, 2.5596273962730836, 3.5395283917395677, 2.561630623917828, 2.566696156764608, 2.564480511227614, 2.5863276499948653, 2.589661850187812, 2.5749685145049233, 3.551484397272596, 2.595550845722707, 4.018983041911774, 2.1187522794989913, 2.113990611398519, 2.6088026794743255, 3.526133431624171, 5.969428943721341, 4.979513997284611, 5.011988945028005, 4.045849491116439, 7.8861572799276525, 3.5555846270653997, 3.5313797693669793, 127.29309482531784, 170.49087081166076, 242.43360477673377, 19.049771184879884, 22.576271673774304, 101.23857706326858, 325.96028172911053, 369.77454123540684, 103.23004409656227, 6.96697109018465, 10.868876922520016, 10.424949977308607, 7.960327438492145, 13.74300197669305, 164.63457161540774, 127.15715386615119, 98.80509892702145, 235.79003007999404, 115.7817828084805, 97.61076134689345, 121.4797400065861, 420.17074488490243, 81.332748719101, 118.59353823929091, 172.02709441480582, 430.45852979851276, 182.52901122443592, 238.41489965038227, 451.52783878123734, 133.1840999011385, 336.4879135044888, 119.63582162745868, 224.2396551312089, 100.14963696303944, 107.3887946442558, 188.8556561922456, 198.99565479316146, 235.9291256690157, 226.44537764455964, 158.5564199084384, 233.4096602197735, 282.2443879812656, 452.677004796879, 200.93583503062422, 229.9372651967057, 170.50179956384548, 205.339737992814, 173.98584998436797, 181.01130331543817, 292.1659839108822, 3.5322359963679713, 3.562569158767188, 5.0029163625164585, 3.5453653420830946, 3.5298233733018165, 4.042011927727097, 3.5718750537239856, 2.5874871720028523, 4.027770855469714, 2.6121747924863987, 2.599492808659739, 2.585951185991872, 2.587376063494381, 2.6094642685328022, 2.5853650709184905, 2.595303849662492, 4.040861012629488, 3.5509837585682043, 3.5597576177550168, 2.5948154059519686, 2.5772373645908524, 2.581111362865671, 2.5794480693154505, 2.591370801196338, 2.5831930458366115, 2.5886593507202953, 2.5874988791140483, 3.089181583338251, 2.599495993804368, 2.5879169445635872, 4.07145961672117, 5.023246519282319, 7.037708203192733, 4.020561719021618, 5.011429985748317, 3.5559659468358418, 187.0736862444781, 3.573126792918389, 30.09078805337071, 5.5080097748979, 5.512475442491556, 9.861600748366248, 7.862628471994107, 5.991483749284058, 4.01563953370458, 151.42066722391522, 58.437394727842744, 161.45455087126226, 292.1659839108822, 282.2443879812656, 83.9624561082899, 89.20848472987561, 45.968306924275865, 59.935796958344724, 40.871668451396545, 430.45852979851276, 198.99565479316146, 148.15214659706305, 61.264541434292994, 23.957608505273896, 74.4311041399302, 84.8936922099092, 124.92441601467303, 104.52313620020868, 53.018604612292535, 233.4096602197735, 451.52783878123734, 137.9030281472928, 171.91355236620706, 107.00552020661657, 420.17074488490243, 122.947159575391, 226.44537764455964, 122.75709165651764, 224.2396551312089, 452.677004796879, 149.78453490217115, 325.96028172911053, 238.41489965038227, 151.4438689489785, 336.4879135044888, 235.79003007999404, 200.93583503062422, 369.77454123540684, 172.02709441480582, 229.9372651967057, 181.01130331543817, 187.2388028209325, 175.57451038405657, 182.52901122443592], \"Category\": [\"Default\", \"Default\", \"Default\", \"Default\", \"Default\", \"Default\", \"Default\", \"Default\", \"Default\", \"Default\", \"Default\", \"Default\", \"Default\", \"Default\", \"Default\", \"Default\", \"Default\", \"Default\", \"Default\", \"Default\", \"Default\", \"Default\", \"Default\", \"Default\", \"Default\", \"Default\", \"Default\", \"Default\", \"Default\", \"Default\", \"Topic1\", \"Topic1\", \"Topic1\", \"Topic1\", \"Topic1\", \"Topic1\", \"Topic1\", \"Topic1\", \"Topic1\", \"Topic1\", \"Topic1\", \"Topic1\", \"Topic1\", \"Topic1\", \"Topic1\", \"Topic1\", \"Topic1\", \"Topic1\", \"Topic1\", \"Topic1\", \"Topic1\", \"Topic1\", \"Topic1\", \"Topic1\", \"Topic1\", \"Topic1\", \"Topic1\", \"Topic1\", \"Topic1\", \"Topic1\", \"Topic1\", \"Topic1\", \"Topic1\", \"Topic1\", \"Topic1\", \"Topic1\", \"Topic1\", \"Topic1\", \"Topic1\", \"Topic1\", \"Topic1\", \"Topic1\", \"Topic1\", \"Topic1\", \"Topic1\", \"Topic1\", \"Topic1\", \"Topic1\", \"Topic1\", \"Topic1\", \"Topic1\", \"Topic1\", \"Topic1\", \"Topic1\", \"Topic1\", \"Topic1\", \"Topic1\", \"Topic1\", \"Topic1\", \"Topic1\", \"Topic1\", \"Topic1\", \"Topic1\", \"Topic1\", \"Topic1\", \"Topic1\", \"Topic1\", \"Topic1\", \"Topic1\", \"Topic1\", \"Topic1\", \"Topic1\", \"Topic1\", \"Topic1\", \"Topic1\", \"Topic1\", \"Topic1\", \"Topic1\", \"Topic1\", \"Topic1\", \"Topic1\", \"Topic1\", \"Topic1\", \"Topic1\", \"Topic1\", \"Topic2\", \"Topic2\", \"Topic2\", \"Topic2\", \"Topic2\", \"Topic2\", \"Topic2\", \"Topic2\", \"Topic2\", \"Topic2\", \"Topic2\", \"Topic2\", \"Topic2\", \"Topic2\", \"Topic2\", \"Topic2\", \"Topic2\", \"Topic2\", \"Topic2\", \"Topic2\", \"Topic2\", \"Topic2\", \"Topic2\", \"Topic2\", \"Topic2\", \"Topic2\", \"Topic2\", \"Topic2\", \"Topic2\", \"Topic2\", \"Topic2\", \"Topic2\", \"Topic2\", \"Topic2\", \"Topic2\", \"Topic2\", \"Topic2\", \"Topic2\", \"Topic2\", \"Topic2\", \"Topic2\", \"Topic2\", \"Topic2\", \"Topic2\", \"Topic2\", \"Topic2\", \"Topic2\", \"Topic2\", \"Topic2\", \"Topic2\", \"Topic2\", \"Topic2\", \"Topic2\", \"Topic2\", \"Topic2\", \"Topic2\", \"Topic2\", \"Topic2\", \"Topic2\", \"Topic2\", \"Topic2\", \"Topic2\", \"Topic2\", \"Topic2\", \"Topic2\", \"Topic2\", \"Topic2\", \"Topic2\", \"Topic2\", \"Topic2\", \"Topic2\", \"Topic2\", \"Topic2\", \"Topic2\", \"Topic2\", \"Topic2\", \"Topic2\", \"Topic2\", \"Topic2\", \"Topic2\", \"Topic2\", \"Topic2\", \"Topic2\", \"Topic2\", \"Topic2\", \"Topic2\", \"Topic2\", \"Topic2\", \"Topic2\", \"Topic3\", \"Topic3\", \"Topic3\", \"Topic3\", \"Topic3\", \"Topic3\", \"Topic3\", \"Topic3\", \"Topic3\", \"Topic3\", \"Topic3\", \"Topic3\", \"Topic3\", \"Topic3\", \"Topic3\", \"Topic3\", \"Topic3\", \"Topic3\", \"Topic3\", \"Topic3\", \"Topic3\", \"Topic3\", \"Topic3\", \"Topic3\", \"Topic3\", \"Topic3\", \"Topic3\", \"Topic3\", \"Topic3\", \"Topic3\", \"Topic3\", \"Topic3\", \"Topic3\", \"Topic3\", \"Topic3\", \"Topic3\", \"Topic3\", \"Topic3\", \"Topic3\", \"Topic3\", \"Topic3\", \"Topic3\", \"Topic3\", \"Topic3\", \"Topic3\", \"Topic3\", \"Topic3\", \"Topic3\", \"Topic3\", \"Topic3\", \"Topic3\", \"Topic3\", \"Topic3\", \"Topic3\", \"Topic3\", \"Topic3\", \"Topic3\", \"Topic3\", \"Topic3\", \"Topic3\", \"Topic3\", \"Topic3\", \"Topic3\", \"Topic3\", \"Topic3\", \"Topic3\", \"Topic3\", \"Topic3\", \"Topic3\", \"Topic3\", \"Topic3\", \"Topic3\", \"Topic3\", \"Topic3\", \"Topic3\", \"Topic3\", \"Topic3\", \"Topic3\", \"Topic3\", \"Topic3\", \"Topic3\", \"Topic3\", \"Topic3\", \"Topic3\", \"Topic3\", \"Topic3\", \"Topic3\", \"Topic3\", \"Topic3\", \"Topic3\"], \"logprob\": [30.0, 29.0, 28.0, 27.0, 26.0, 25.0, 24.0, 23.0, 22.0, 21.0, 20.0, 19.0, 18.0, 17.0, 16.0, 15.0, 14.0, 13.0, 12.0, 11.0, 10.0, 9.0, 8.0, 7.0, 6.0, 5.0, 4.0, 3.0, 2.0, 1.0, -10.6854, -11.0298, -11.0292, -10.3679, -11.0745, -11.2239, -11.0795, -11.0932, -11.3952, -11.4046, -11.4088, -11.2387, -11.4135, -11.103, -11.4115, -11.4175, -11.4275, -11.4247, -11.4262, -11.433, -11.4277, -11.4322, -11.2642, -11.1113, -11.1143, -11.4424, -11.6373, -11.643, -11.64, -11.6449, -11.2756, -10.7099, -10.8096, -11.1443, -7.8166, -9.8246, -8.9322, -6.7794, -10.6062, -7.785, -10.6807, -10.7601, -7.8334, -7.9258, -7.4911, -9.0549, -8.7553, -8.7636, -9.4291, -8.1002, -7.6573, -8.2747, -8.5165, -8.0501, -8.1593, -8.6999, -7.623, -7.433, -7.3184, -7.0803, -8.3859, -9.4598, -7.8362, -8.8457, -8.2517, -9.2173, -7.2478, -7.2324, -8.3881, -7.4114, -8.0063, -7.9324, -7.9871, -7.9937, -7.657, -7.9228, -7.9915, -7.8439, -8.0584, -7.857, -7.8901, -7.7285, -7.9555, -7.967, -7.9937, -11.0393, -11.0431, -10.5326, -11.2146, -11.0752, -11.3936, -11.0912, -11.4015, -11.3975, -11.3995, -11.3995, -10.9609, -11.1121, -11.2449, -11.4255, -11.2475, -11.4168, -11.4299, -11.1097, -11.4388, -11.441, -11.4455, -11.4371, -11.4361, -11.4438, -11.1239, -11.4386, -11.002, -11.6433, -11.6459, -11.436, -11.1383, -10.6307, -10.8076, -10.8111, -11.0167, -10.39, -11.1383, -11.1465, -7.8725, -7.6267, -7.3143, -9.6134, -9.5158, -8.2148, -7.2128, -7.105, -8.2044, -10.5487, -10.1695, -10.2055, -10.4367, -9.973, -7.9082, -8.1286, -8.3396, -7.6217, -8.2209, -8.3611, -8.1883, -7.177, -8.5288, -8.2264, -7.9443, -7.2253, -7.9187, -7.7121, -7.2086, -8.1755, -7.4503, -8.264, -7.7782, -8.4145, -8.3628, -7.9466, -7.923, -7.8154, -7.8821, -8.1229, -7.9027, -7.8032, -7.5759, -8.0081, -7.9562, -8.0895, -8.032, -8.1193, -8.1291, -8.0848, -11.0272, -11.0331, -10.7028, -11.0501, -11.0658, -10.9462, -11.0707, -11.3932, -10.9527, -11.3883, -11.3943, -11.4011, -11.4012, -11.3929, -11.4032, -11.4022, -10.9599, -11.0901, -11.0886, -11.4058, -11.4132, -11.4125, -11.4153, -11.4124, -11.4158, -11.4153, -11.4159, -11.239, -11.4116, -11.4166, -10.9673, -10.7793, -10.4609, -11.0047, -10.8006, -11.123, -7.5374, -11.1195, -9.2098, -10.7325, -10.7417, -10.2362, -10.4373, -10.6748, -11.0202, -7.9134, -8.723, -7.8695, -7.3675, -7.4172, -8.4435, -8.4002, -8.9656, -8.7486, -9.0712, -7.1201, -7.7679, -8.0115, -8.7364, -9.5152, -8.5899, -8.4855, -8.1743, -8.3209, -8.8714, -7.6769, -7.1495, -8.1028, -7.9308, -8.3115, -7.2238, -8.2058, -7.7357, -8.2138, -7.7709, -7.245, -8.0952, -7.5305, -7.782, -8.1036, -7.5659, -7.8181, -7.9333, -7.5718, -8.0321, -7.9193, -8.0608, -8.0529, -8.095, -8.1028], \"loglift\": [30.0, 29.0, 28.0, 27.0, 26.0, 25.0, 24.0, 23.0, 22.0, 21.0, 20.0, 19.0, 18.0, 17.0, 16.0, 15.0, 14.0, 13.0, 12.0, 11.0, 10.0, 9.0, 8.0, 7.0, 6.0, 5.0, 4.0, 3.0, 2.0, 1.0, 0.9354, 0.9333, 0.9302, 0.9274, 0.8981, 0.8897, 0.8874, 0.8809, 0.8807, 0.8782, 0.8773, 0.8771, 0.8758, 0.8751, 0.8686, 0.8686, 0.8627, 0.861, 0.8569, 0.8549, 0.8547, 0.852, 0.8517, 0.8504, 0.8492, 0.846, 0.8432, 0.8426, 0.8422, 0.8421, 0.8356, 0.8229, 0.8175, 0.8277, 0.6728, 0.7584, 0.6954, 0.3621, 0.766, 0.4366, 0.7728, 0.7813, 0.4031, 0.3959, 0.3021, 0.5253, 0.4771, 0.4762, 0.5781, 0.3476, 0.2748, 0.3755, 0.411, 0.3067, 0.3212, 0.4156, 0.1959, 0.1464, 0.1197, 0.0638, 0.3239, 0.5488, 0.1881, 0.4102, 0.2526, 0.491, -0.0317, -0.0406, 0.2647, -0.0676, 0.1116, 0.0833, 0.1016, 0.104, -0.0431, 0.0309, 0.0667, -0.0399, 0.0779, -0.0743, -0.0558, -0.2586, -0.1895, -0.1732, -0.1497, 0.9579, 0.9527, 0.9408, 0.9238, 0.913, 0.9086, 0.9083, 0.9062, 0.9062, 0.9051, 0.9044, 0.8979, 0.8957, 0.8957, 0.8949, 0.8889, 0.8885, 0.8869, 0.883, 0.8773, 0.8731, 0.8694, 0.8694, 0.8691, 0.8671, 0.8655, 0.8644, 0.8637, 0.8625, 0.8622, 0.8618, 0.8582, 0.8394, 0.8438, 0.8338, 0.8423, 0.8016, 0.8499, 0.8485, 0.5377, 0.4914, 0.4516, 0.6963, 0.6241, 0.4245, 0.2572, 0.2388, 0.4154, 0.7668, 0.7013, 0.707, 0.7455, 0.6632, 0.2448, 0.2827, 0.3239, 0.1721, 0.2841, 0.3146, 0.2686, 0.0391, 0.3294, 0.2546, 0.1647, -0.0334, 0.1311, 0.0706, -0.0646, 0.1895, -0.0121, 0.2083, 0.0658, 0.2355, 0.2175, 0.0691, 0.0404, -0.0222, -0.0479, 0.0677, -0.0988, -0.1892, -0.4344, -0.0543, -0.1372, 0.0285, -0.1, -0.0216, -0.0709, -0.5054, 0.9676, 0.9531, 0.9439, 0.941, 0.9297, 0.9138, 0.9129, 0.9128, 0.9108, 0.9082, 0.9071, 0.9056, 0.9048, 0.9046, 0.9037, 0.9008, 0.9003, 0.8994, 0.8984, 0.8974, 0.8968, 0.896, 0.8938, 0.8922, 0.8919, 0.8903, 0.8901, 0.8898, 0.8898, 0.8893, 0.8854, 0.8634, 0.8446, 0.8606, 0.8444, 0.8651, 0.4878, 0.8638, 0.6427, 0.818, 0.808, 0.7319, 0.7573, 0.7916, 0.8463, 0.3233, 0.4658, 0.303, 0.2118, 0.1968, 0.3829, 0.3655, 0.4632, 0.4149, 0.4751, 0.0718, 0.1955, 0.2469, 0.4051, 0.5652, 0.3569, 0.3298, 0.2547, 0.2864, 0.4147, 0.127, -0.0054, 0.2274, 0.1789, 0.2723, -0.0077, 0.2392, 0.0985, 0.2327, 0.0731, -0.1034, 0.1523, -0.0606, 0.0007, 0.1329, -0.1278, -0.0243, 0.0205, -0.228, 0.077, -0.1004, -0.0026, -0.0285, -0.0064, -0.0529]}, \"token.table\": {\"Topic\": [1, 1, 2, 3, 1, 2, 3, 1, 2, 3, 3, 1, 2, 3, 2, 3, 2, 1, 2, 3, 2, 1, 2, 3, 1, 2, 3, 1, 3, 1, 2, 3, 2, 1, 1, 2, 3, 3, 2, 1, 2, 3, 1, 2, 3, 1, 1, 2, 3, 1, 2, 3, 1, 2, 3, 1, 2, 3, 2, 1, 1, 2, 3, 1, 2, 3, 1, 2, 3, 1, 2, 3, 2, 1, 2, 3, 3, 2, 1, 2, 3, 3, 2, 1, 3, 1, 1, 1, 2, 3, 2, 3, 3, 3, 1, 2, 3, 2, 1, 1, 2, 3, 1, 2, 3, 2, 1, 2, 3, 1, 2, 3, 1, 2, 3, 1, 1, 1, 2, 3, 1, 2, 3, 3, 1, 2, 3, 3, 1, 2, 3, 1, 2, 3, 1, 2, 3, 1, 2, 3, 1, 2, 3, 1, 2, 3, 2, 1, 3, 2, 2, 1, 2, 3, 1, 1, 2, 2, 2, 3, 1, 2, 3, 1, 2, 3, 1, 2, 3, 1, 2, 3, 1, 2, 1, 2, 3, 1, 2, 3, 3, 2, 1, 2, 3, 2, 3, 2, 1, 2, 3, 1, 2, 3, 1, 2, 3, 1, 2, 3, 1, 1, 2, 3, 1, 1, 1, 2, 3, 1, 2, 3, 1, 2, 3, 1, 2, 3, 1, 2, 3, 1, 2, 3, 1, 1, 2, 3, 1, 2, 3, 1, 2, 3, 1, 2, 3, 1, 2, 3, 1, 1, 2, 3, 2, 3, 1, 2, 3, 2, 3, 1, 2, 3, 1, 2, 3, 1, 2, 3, 2, 1, 2, 3, 3, 1, 2, 3, 3, 1, 1, 2, 1, 2, 3, 1, 2, 3, 1, 2, 3, 1, 2, 3, 3, 1, 2, 3, 1, 2, 3, 1, 2, 3, 2, 3, 3, 2, 1, 2, 3, 3, 1, 2, 3, 1, 1, 2, 3, 1, 2, 3, 3, 2, 1, 1, 2, 3, 3, 1, 2, 3, 2, 2, 1, 2, 3, 1, 2, 3, 3, 3, 1, 2, 3, 1, 2, 3, 1, 2, 3, 1, 2, 3, 2, 3, 1, 2, 3, 1, 3, 1, 2, 3, 1, 2, 3, 1, 2, 3, 1, 2, 3, 3, 1, 2, 3, 1, 2, 3, 1, 2, 3, 1, 2, 3, 2, 1, 2, 3, 1, 1, 2, 3, 1, 2, 3, 1, 2, 3, 1, 2, 1, 2, 3, 1, 2, 3, 2, 3, 1, 2, 3, 1, 3, 1, 1, 1, 1, 2, 3, 2, 3, 3, 1, 2, 3, 1, 2, 3, 3, 1, 2, 3, 1, 2, 1, 2, 3, 1, 2, 3, 1, 2, 3, 2, 3, 1, 2, 3, 3, 1, 1, 2, 3, 1, 2, 3, 1, 2, 3, 1, 2, 3, 3, 2, 1, 1, 1, 2, 3, 3, 1, 2, 3, 1, 2, 3, 1, 2, 3, 1, 2, 3, 1, 2, 3], \"Freq\": [0.9262713335936515, 0.20425302751637361, 0.5656237685068808, 0.22782068453749366, 0.23540361730824438, 0.2914520976197311, 0.47080723461648877, 0.6590291729461878, 0.16475729323654695, 0.16475729323654695, 0.8398950004906367, 0.47964483663152535, 0.4611969582995436, 0.05534363499594523, 0.19954384334288527, 0.7981753733715411, 0.7807526898398588, 0.5827148748052489, 0.23308594992209955, 0.19423829160174963, 0.7732972270562745, 0.7134540716762355, 0.17836351791905888, 0.17836351791905888, 0.46639554337827394, 0.2967971639679925, 0.23319777168913697, 0.24561216225578592, 0.7368364867673578, 0.4720012522962404, 0.2528578137301288, 0.2697150013121374, 0.7792118263507496, 0.9564885835555076, 0.9218676355295674, 0.85079026593108, 0.28359675531036, 0.8396007681411491, 0.980511703572967, 0.6717693459112035, 0.26360569269933304, 0.06802727553531175, 0.33399292412955395, 0.25253123531746763, 0.4154546129416403, 0.7591224350925467, 0.6900466997704632, 0.23886231915131417, 0.07962077305043805, 0.3271365767634382, 0.28707903675158863, 0.38054663011257095, 0.2883921766197254, 0.3944187121416832, 0.3223206679867519, 0.3256077744530369, 0.299901897522534, 0.37273521549229227, 0.7713023298898418, 0.7573716746317352, 0.167520211636291, 0.8376010581814549, 0.167520211636291, 0.44054741275571874, 0.21026126517886576, 0.3504354419647763, 0.3533466292320583, 0.31353292452985454, 0.3334397768809564, 0.7594816717015853, 0.15189633434031707, 0.15189633434031707, 0.770549343425834, 0.2657657600289197, 0.6201201067341461, 0.13288288001445986, 0.799533654004163, 0.847570542731427, 0.49318671535147673, 0.45665436606618215, 0.05479852392794186, 0.8436526234649268, 0.8502071080845494, 0.2490263360559811, 0.7470790081679433, 0.7790579727911129, 0.8216787846193765, 0.24297811879047637, 0.3270859291410259, 0.4298843640139197, 0.8032912453266018, 0.20082281133165045, 0.7726006897908368, 0.7693808551181072, 0.5466289200166713, 0.17261965895263306, 0.28769943158772177, 0.7841645525126224, 0.9202616415310324, 0.4131561707439193, 0.28703481335893344, 0.29573283800617384, 0.29255451689869816, 0.4095763236581774, 0.3009132173815181, 0.7798850454287922, 0.3445424648127301, 0.40972617437189524, 0.24211092121975628, 0.29731036766073277, 0.29731036766073277, 0.41333392577223826, 0.2695965838594546, 0.4193724637813739, 0.30953681850529974, 0.755198054647756, 0.7594531767893623, 0.44907294629617595, 0.44907294629617595, 0.10140356851849135, 0.1435343978115311, 0.7176719890576555, 0.1435343978115311, 0.7693799124010173, 0.7840206381515059, 0.19600515953787648, 0.19600515953787648, 0.7424160322821461, 0.28278891789868216, 0.45492130270657566, 0.25819857721184025, 0.2245603701145947, 0.4404838029170896, 0.33684055517189204, 0.2955753546076662, 0.22839913765137843, 0.4702335186940144, 0.3191133700166733, 0.4191743419710539, 0.2623220075560789, 0.12680447073320023, 0.7608268243992015, 0.12680447073320023, 0.30829448446914987, 0.29666073033823853, 0.3955476404509847, 0.7666352138226876, 0.7531986698795081, 0.7748600191273831, 0.7742439926537301, 0.8533376359064669, 0.36321127052247393, 0.31005840166552656, 0.32556132174880287, 0.7549445875535544, 0.2488191638460644, 0.7464574915381932, 0.7723701861005015, 0.2487214647816287, 0.7461643943448861, 0.6207071161161773, 0.1939709737863054, 0.1939709737863054, 0.3706534472483234, 0.35476829950910954, 0.27534256081304026, 0.3293614789914854, 0.503729320810507, 0.17436784181902165, 0.4617195582700608, 0.2829894066816502, 0.26064813773309886, 0.9585976775608744, 0.6523495951736047, 0.18140670383612903, 0.18140670383612903, 0.7256268153445161, 0.13013054642568966, 0.498833761298477, 0.36870321487278734, 0.7707677376249634, 0.8513446974026775, 0.21702041771417463, 0.5396183359379477, 0.2463475011890631, 0.7711537811805877, 0.7448288663010705, 0.9439517867907277, 0.1661638103705267, 0.19939657244463202, 0.6314224794080013, 0.20997627536727925, 0.6824228949436576, 0.15748220652545944, 0.1915194308126769, 0.35001827010592673, 0.4556841629680933, 0.3308178917551157, 0.3427178159189688, 0.3260579220895745, 0.8306966069776782, 0.19587186517783953, 0.3101304531982459, 0.4896796629445988, 0.9249729297357294, 0.7500325000018409, 0.582141395772562, 0.22779445921535033, 0.20248396374697805, 0.5402367696920762, 0.3961736311075226, 0.054023676969207624, 0.2804891675913649, 0.5197299281839997, 0.19799235359390463, 0.18401165219343452, 0.6440407826770208, 0.09200582609671726, 0.5089275732316095, 0.20675182662534136, 0.27036777327929257, 0.1271839313738274, 0.1271839313738274, 0.7631035882429645, 0.9586320978144655, 0.3201936120742145, 0.26415972996122694, 0.4242565359983342, 0.29432795890352914, 0.3523016477784667, 0.3523016477784667, 0.48126961685383507, 0.26918470095214503, 0.24471336450195003, 0.7589309698306788, 0.13798744906012342, 0.13798744906012342, 0.38337186811994994, 0.3269062441332906, 0.288271869826629, 0.8227630702384955, 0.1455286118267194, 0.6548787532202373, 0.21829291774007908, 0.18155378092416996, 0.7262151236966798, 0.3303697666062304, 0.3979454006847776, 0.27030253631418855, 0.840384635353674, 0.1680769270707348, 0.2663640733996536, 0.4507699703686446, 0.2868536175073193, 0.1669035654347712, 0.1669035654347712, 0.6676142617390848, 0.32237354879720515, 0.3135413967753639, 0.3621182328954907, 0.7700323905070833, 0.4904158984166067, 0.21428082047932817, 0.29601680354876264, 0.7735851398694226, 0.3275576861399371, 0.3205883736688746, 0.3531118318671662, 0.7729838844141194, 0.7576631519855616, 0.24716688107051984, 0.7415006432115595, 0.49933607477709463, 0.31957508785734057, 0.18974770841529595, 0.2638358254686697, 0.42643232255982655, 0.3098537020039027, 0.3812276478387569, 0.3401723626868908, 0.27565691459110114, 0.44803797306500703, 0.29706865605397204, 0.25323885434109095, 0.7753596685242716, 0.41123954458114986, 0.267038665312435, 0.32044639837492195, 0.5124258995660854, 0.42092127464357015, 0.054902774953509155, 0.4401632381794173, 0.3020728105152864, 0.2589195518702455, 0.7767085262339724, 0.7717922881112481, 0.8427540080360777, 0.741329192047593, 0.5269451726105226, 0.2537143423680294, 0.22118686257725642, 0.7422046380963945, 0.26139704118996826, 0.4300402935705929, 0.3119900169041557, 0.8231794871350078, 0.2610494230246013, 0.21754118585383442, 0.5220988460492026, 0.20870196617910872, 0.2504423594149305, 0.5843655053015044, 0.8448363056466451, 0.8438127044831922, 0.8319589334485886, 0.363170859155279, 0.2641242612038393, 0.37637707221547095, 0.7728223288623621, 0.31227912548057, 0.3780220992659532, 0.31227912548057, 0.6550543134636391, 0.8447172124151482, 0.5541401713325942, 0.4111362561499893, 0.05362646819347686, 0.14209171098431433, 0.14209171098431433, 0.7104585549215717, 0.7729506919456122, 0.7734098040342074, 0.3646181138477608, 0.30937294508294855, 0.32594649571239226, 0.25668495438338196, 0.22246029379893104, 0.5304822390589894, 0.22718612476769856, 0.503760537528375, 0.2666967551620809, 0.19952158932673233, 0.7980863573069293, 0.19952158932673233, 0.8495263030115189, 0.7742355931251222, 0.5033740220385939, 0.2013496088154376, 0.287642298307768, 0.830198653167389, 0.2767328843891297, 0.37034847173206864, 0.3285349346010286, 0.3046414848118629, 0.32595865114634853, 0.2728132188942265, 0.4003622562993194, 0.18847101101973748, 0.36516258385074135, 0.4593980893606101, 0.3759087800138515, 0.2961705539503072, 0.32464849183014444, 0.846175135857039, 0.2512459462821849, 0.7537378388465547, 0.12562297314109244, 0.24400726380021856, 0.341610169320306, 0.41481234846037157, 0.19184744333097864, 0.6714660516584252, 0.09592372166548932, 0.32165206574070593, 0.35318658198979475, 0.32165206574070593, 0.7723016037228769, 0.37934119358516727, 0.3218652551631722, 0.2988748797943742, 0.7554204336220351, 0.23820170260628348, 0.2858420431275402, 0.47640340521256697, 0.24290244390855445, 0.4554420823285396, 0.2935071197228366, 0.2854807440431994, 0.4251840868728502, 0.2915548024270973, 0.8439501582212505, 0.14065835970354176, 0.39361187247273055, 0.198517292203638, 0.40730272021091246, 0.23592852692801503, 0.4403999169322947, 0.3224356534682872, 0.7813637261861149, 0.8420889156964849, 0.2787162068654311, 0.27252251337953265, 0.44594593098468976, 0.7601041144198207, 0.7760247571598857, 0.8352557624486942, 0.8198016208321067, 0.7608480656048656, 0.2836368391299605, 0.2168987593346757, 0.5005355984646362, 0.7718544530044816, 0.7664408453941085, 0.8499008824891381, 0.20280683136876496, 0.10140341568438248, 0.7098239097906773, 0.2562870031157717, 0.3467412395095735, 0.3969935930616856, 0.7729471947384162, 0.28291955455429324, 0.2263356436434346, 0.4903938945607749, 0.7562479338723381, 0.860442629257111, 0.2812477004169493, 0.843743101250848, 0.765645547821974, 0.5084503149198659, 0.2377170303521451, 0.25092353203837536, 0.5582278907462991, 0.3940432169973876, 0.0656738694995646, 0.19907444242710032, 0.7962977697084013, 0.5622279270934072, 0.37481861806227146, 0.06246976967704525, 0.6474206666215935, 0.7577188534682632, 0.5138944984802566, 0.1844749481723998, 0.30306598628322823, 0.28331082293816945, 0.18174656565844832, 0.534548722524848, 0.3644901625817583, 0.21599417041881971, 0.41848870518646325, 0.4620031532389765, 0.32213063895561667, 0.21616661298337433, 0.7706226769016242, 0.9460779954348482, 0.6361340619834638, 0.8259516479197845, 0.2202014339273316, 0.24466825991925734, 0.5382701718223661, 0.8493203747101711, 0.25577366257145284, 0.38947353164289406, 0.3545953049286051, 0.2870177942473573, 0.27745053443911205, 0.4400939511792812, 0.31457765479415056, 0.3565213421000373, 0.32716076098591657, 0.2881138862999086, 0.4362867421112901, 0.27988206097705404, 0.7196484496455253, 0.17991211241138133, 0.17991211241138133], \"Term\": [\"2x_missing\", \"absolute_joke\", \"absolute_joke\", \"absolute_joke\", \"absolutely_shocking\", \"absolutely_shocking\", \"absolutely_shocking\", \"accept_first\", \"accept_first\", \"accept_first\", \"actually_hot\", \"address_thanks\", \"address_thanks\", \"address_thanks\", \"almost_pound\", \"almost_pound\", \"always_rectify\", \"anything_go\", \"anything_go\", \"anything_go\", \"app_least\", \"app_much\", \"app_much\", \"app_much\", \"app_said\", \"app_said\", \"app_said\", \"arrive_still\", \"arrive_still\", \"arrived_cold\", \"arrived_cold\", \"arrived_cold\", \"arrived_piping\", \"arrived_terrible\", \"assigned_show\", \"attempt_eats\", \"attempt_eats\", \"available_cancelled\", \"available_either\", \"avoid_avoid\", \"avoid_avoid\", \"avoid_avoid\", \"avoid_cost\", \"avoid_cost\", \"avoid_cost\", \"away_find\", \"awful_awful\", \"awful_awful\", \"awful_awful\", \"bad_company\", \"bad_company\", \"bad_company\", \"bad_ever\", \"bad_ever\", \"bad_ever\", \"bad_experience\", \"bad_experience\", \"bad_experience\", \"bad_get\", \"bad_nothing\", \"burger_delivered\", \"burger_delivered\", \"burger_delivered\", \"call_restaurant\", \"call_restaurant\", \"call_restaurant\", \"called_restaurant\", \"called_restaurant\", \"called_restaurant\", \"cancel_button\", \"cancel_button\", \"cancel_button\", \"cancelled_disgusting\", \"cancelled_hour\", \"cancelled_hour\", \"cancelled_hour\", \"charge_absolutely\", \"charged_scam\", \"check_ip\", \"check_ip\", \"check_ip\", \"code_ordered\", \"code_ro283551\", \"cold_compensation\", \"cold_compensation\", \"cold_nothing\", \"cold_side\", \"company_ever\", \"company_ever\", \"company_ever\", \"company_year\", \"company_year\", \"complained_far\", \"complained_nothing\", \"completely_different\", \"completely_different\", \"completely_different\", \"con_job\", \"consumer_care\", \"could_give\", \"could_give\", \"could_give\", \"credit_account\", \"credit_account\", \"credit_account\", \"customer_cold\", \"day_late\", \"day_late\", \"day_late\", \"delivered_wrong\", \"delivered_wrong\", \"delivered_wrong\", \"discount_code\", \"discount_code\", \"discount_code\", \"discount_good\", \"disgusting_people\", \"double_check\", \"double_check\", \"double_check\", \"driver_name\", \"driver_name\", \"driver_name\", \"driving_car\", \"e_bicycle\", \"e_bicycle\", \"e_bicycle\", \"eat_telephone\", \"email_address\", \"email_address\", \"email_address\", \"email_saying\", \"email_saying\", \"email_saying\", \"estimated_time\", \"estimated_time\", \"estimated_time\", \"even_though\", \"even_though\", \"even_though\", \"every_email\", \"every_email\", \"every_email\", \"every_time\", \"every_time\", \"every_time\", \"everytime_meal\", \"expensive_however\", \"experience_cold\", \"fault_using\", \"finally_showed\", \"first_time\", \"first_time\", \"first_time\", \"found_long\", \"friendly_arrived\", \"friendly_arrived\", \"full_went\", \"give_apparently\", \"give_apparently\", \"give_le\", \"give_le\", \"give_le\", \"give_star\", \"give_star\", \"give_star\", \"give_zero\", \"give_zero\", \"give_zero\", \"go_wrong\", \"go_wrong\", \"go_wrong\", \"good_arrived\", \"good_stay\", \"got_stone\", \"got_stone\", \"got_stone\", \"got_wrong\", \"got_wrong\", \"got_wrong\", \"great_support\", \"hair_refused\", \"half_hour\", \"half_hour\", \"half_hour\", \"hate_fact\", \"help_speak\", \"helpline.._leaving\", \"hour_cancelled\", \"hour_cancelled\", \"hour_cancelled\", \"hour_even\", \"hour_even\", \"hour_even\", \"hour_half\", \"hour_half\", \"hour_half\", \"hour_late\", \"hour_late\", \"hour_late\", \"hr_ordering\", \"ice_cream\", \"ice_cream\", \"ice_cream\", \"inedible_nothing\", \"inedible_would\", \"investigation_team\", \"investigation_team\", \"investigation_team\", \"ip_address\", \"ip_address\", \"ip_address\", \"item_missing\", \"item_missing\", \"item_missing\", \"item_said\", \"item_said\", \"item_said\", \"joke_company\", \"joke_company\", \"joke_company\", \"keep_waiting\", \"keep_waiting\", \"keep_waiting\", \"king_via\", \"last_night\", \"last_night\", \"last_night\", \"last_time\", \"last_time\", \"last_time\", \"late_cold\", \"late_cold\", \"late_cold\", \"le_one\", \"le_one\", \"le_one\", \"live_chat\", \"live_chat\", \"live_chat\", \"location_london\", \"long_take\", \"long_take\", \"long_take\", \"looking_around\", \"looking_around\", \"marked_delivered\", \"marked_delivered\", \"marked_delivered\", \"mcdonalds_app\", \"mcdonalds_app\", \"message_saying\", \"message_saying\", \"message_saying\", \"message_told\", \"message_told\", \"message_told\", \"minute_late\", \"minute_late\", \"minute_late\", \"missing_expensive\", \"missing_item\", \"missing_item\", \"missing_item\", \"mistake_taking\", \"money_back\", \"money_back\", \"money_back\", \"money_pizza\", \"month_anything\", \"month_far\", \"month_far\", \"much_good\", \"much_good\", \"much_good\", \"never_arrived\", \"never_arrived\", \"never_arrived\", \"never_ever\", \"never_ever\", \"never_ever\", \"never_received\", \"never_received\", \"never_received\", \"never_scam\", \"never_using\", \"never_using\", \"never_using\", \"newcastle_upon\", \"newcastle_upon\", \"newcastle_upon\", \"next_time\", \"next_time\", \"next_time\", \"none_delivered\", \"notified_hour\", \"offered_instead\", \"one_cost\", \"one_star\", \"one_star\", \"one_star\", \"order_top\", \"ordered_meal\", \"ordered_meal\", \"ordered_meal\", \"ordered_rejected\", \"ordered_restaurant\", \"ordered_restaurant\", \"ordered_restaurant\", \"ordered_waited\", \"ordered_waited\", \"ordered_waited\", \"ordering_several\", \"ordering_stick\", \"perfect_temperature\", \"phone_call\", \"phone_call\", \"phone_call\", \"phone_delayed\", \"phone_number\", \"phone_number\", \"phone_number\", \"placed_arrive\", \"placed_charged\", \"please_double\", \"please_double\", \"please_double\", \"please_save\", \"please_save\", \"please_save\", \"probably_best\", \"problem_stick\", \"promo_code\", \"promo_code\", \"promo_code\", \"really_bad\", \"really_bad\", \"really_bad\", \"received_email\", \"received_email\", \"received_email\", \"recommend_app\", \"recommend_app\", \"recommend_app\", \"redeliver_never\", \"refused_given\", \"restaurant_said\", \"restaurant_said\", \"restaurant_said\", \"rule_company\", \"rule_company\", \"said_delivered\", \"said_delivered\", \"said_delivered\", \"said_would\", \"said_would\", \"said_would\", \"say_delivered\", \"say_delivered\", \"say_delivered\", \"second_time\", \"second_time\", \"second_time\", \"section_provides\", \"service_terrible\", \"service_terrible\", \"service_terrible\", \"several_time\", \"several_time\", \"several_time\", \"solve_problem\", \"solve_problem\", \"solve_problem\", \"someone_else\", \"someone_else\", \"someone_else\", \"staff_call\", \"star_would\", \"star_would\", \"star_would\", \"start_came\", \"stay_away\", \"stay_away\", \"stay_away\", \"still_charged\", \"still_charged\", \"still_charged\", \"still_waiting\", \"still_waiting\", \"still_waiting\", \"still_warm\", \"still_warm\", \"stone_cold\", \"stone_cold\", \"stone_cold\", \"straight_away\", \"straight_away\", \"straight_away\", \"support_u\", \"sure_rider\", \"take_money\", \"take_money\", \"take_money\", \"taking_delivering\", \"talk_reply\", \"temperature_receive\", \"terrible_wait\", \"thing_terrible\", \"third_time\", \"third_time\", \"third_time\", \"though_missed\", \"time_site\", \"told_delayed\", \"told_getting\", \"told_getting\", \"told_getting\", \"told_would\", \"told_would\", \"told_would\", \"took_app\", \"took_minute\", \"took_minute\", \"took_minute\", \"totally_worth\", \"turned_disgusting\", \"turned_even\", \"turned_even\", \"twice_taken\", \"two_hour\", \"two_hour\", \"two_hour\", \"tyne_please\", \"tyne_please\", \"tyne_please\", \"u_rider\", \"u_rider\", \"upon_tyne\", \"upon_tyne\", \"upon_tyne\", \"upset_hungry\", \"used_save\", \"using_app\", \"using_app\", \"using_app\", \"waited_hour\", \"waited_hour\", \"waited_hour\", \"waiting_hour\", \"waiting_hour\", \"waiting_hour\", \"waste_time\", \"waste_time\", \"waste_time\", \"way_overpriced\", \"went_previous\", \"whenever_issue\", \"wont_delivered\", \"would_arrive\", \"would_arrive\", \"would_arrive\", \"would_authorise\", \"would_give\", \"would_give\", \"would_give\", \"would_recommend\", \"would_recommend\", \"would_recommend\", \"wrong_address\", \"wrong_address\", \"wrong_address\", \"zero_star\", \"zero_star\", \"zero_star\", \"\\u00a310_spend\", \"\\u00a310_spend\", \"\\u00a310_spend\"]}, \"R\": 30, \"lambda.step\": 0.01, \"plot.opts\": {\"xlab\": \"PC1\", \"ylab\": \"PC2\"}, \"topic.order\": [2, 3, 1]};\n",
       "\n",
       "function LDAvis_load_lib(url, callback){\n",
       "  var s = document.createElement('script');\n",
       "  s.src = url;\n",
       "  s.async = true;\n",
       "  s.onreadystatechange = s.onload = callback;\n",
       "  s.onerror = function(){console.warn(\"failed to load library \" + url);};\n",
       "  document.getElementsByTagName(\"head\")[0].appendChild(s);\n",
       "}\n",
       "\n",
       "if(typeof(LDAvis) !== \"undefined\"){\n",
       "   // already loaded: just create the visualization\n",
       "   !function(LDAvis){\n",
       "       new LDAvis(\"#\" + \"ldavis_el940016724296072169407377425\", ldavis_el940016724296072169407377425_data);\n",
       "   }(LDAvis);\n",
       "}else if(typeof define === \"function\" && define.amd){\n",
       "   // require.js is available: use it to load d3/LDAvis\n",
       "   require.config({paths: {d3: \"https://d3js.org/d3.v5\"}});\n",
       "   require([\"d3\"], function(d3){\n",
       "      window.d3 = d3;\n",
       "      LDAvis_load_lib(\"https://cdn.jsdelivr.net/gh/bmabey/pyLDAvis@3.2.2/pyLDAvis/js/ldavis.v3.0.0.js\", function(){\n",
       "        new LDAvis(\"#\" + \"ldavis_el940016724296072169407377425\", ldavis_el940016724296072169407377425_data);\n",
       "      });\n",
       "    });\n",
       "}else{\n",
       "    // require.js not available: dynamically load d3 & LDAvis\n",
       "    LDAvis_load_lib(\"https://d3js.org/d3.v5.js\", function(){\n",
       "         LDAvis_load_lib(\"https://cdn.jsdelivr.net/gh/bmabey/pyLDAvis@3.2.2/pyLDAvis/js/ldavis.v3.0.0.js\", function(){\n",
       "                 new LDAvis(\"#\" + \"ldavis_el940016724296072169407377425\", ldavis_el940016724296072169407377425_data);\n",
       "            })\n",
       "         });\n",
       "}\n",
       "</script>"
      ],
      "text/plain": [
       "PreparedData(topic_coordinates=              x         y  topics  cluster       Freq\n",
       "topic                                                \n",
       "1     -0.008755 -0.023164       1        1  34.094382\n",
       "2     -0.016276  0.018946       2        1  33.072611\n",
       "0      0.025031  0.004217       3        1  32.833007, topic_info=                     Term        Freq       Total Category  logprob  loglift\n",
       "term                                                                        \n",
       "686           avoid_avoid  117.000000  117.000000  Default  30.0000  30.0000\n",
       "2459         missing_item  452.000000  452.000000  Default  29.0000  29.0000\n",
       "910          item_missing  242.000000  242.000000  Default  28.0000  28.0000\n",
       "1381          waited_hour  187.000000  187.000000  Default  27.0000  27.0000\n",
       "1532            half_hour  170.000000  170.000000  Default  26.0000  26.0000\n",
       "1069        absolute_joke  127.000000  127.000000  Default  25.0000  25.0000\n",
       "138335      please_double   55.000000   55.000000  Default  24.0000  24.0000\n",
       "138233           check_ip   54.000000   54.000000  Default  23.0000  23.0000\n",
       "137682         ip_address   55.000000   55.000000  Default  22.0000  22.0000\n",
       "138227     address_thanks   54.000000   54.000000  Default  21.0000  21.0000\n",
       "155            stone_cold  292.000000  292.000000  Default  20.0000  20.0000\n",
       "138317     newcastle_upon   54.000000   54.000000  Default  19.0000  19.0000\n",
       "4442             one_star  153.000000  153.000000  Default  18.0000  18.0000\n",
       "8966          awful_awful   37.000000   37.000000  Default  17.0000  17.0000\n",
       "1365            hour_half  151.000000  151.000000  Default  16.0000  16.0000\n",
       "28102        double_check   69.000000   69.000000  Default  15.0000  15.0000\n",
       "1384           waste_time  235.000000  235.000000  Default  14.0000  14.0000\n",
       "123             give_zero  103.000000  103.000000  Default  13.0000  13.0000\n",
       "985       restaurant_said  139.000000  139.000000  Default  12.0000  12.0000\n",
       "5143             two_hour  151.000000  151.000000  Default  11.0000  11.0000\n",
       "551         never_arrived  325.000000  325.000000  Default  10.0000  10.0000\n",
       "3             even_though  369.000000  369.000000  Default   9.0000   9.0000\n",
       "138516        tyne_please   30.000000   30.000000  Default   8.0000   8.0000\n",
       "1890       received_email  101.000000  101.000000  Default   7.0000   7.0000\n",
       "138521          upon_tyne   32.000000   32.000000  Default   6.0000   6.0000\n",
       "944             much_good  100.000000  100.000000  Default   5.0000   5.0000\n",
       "2774        say_delivered   84.000000   84.000000  Default   4.0000   4.0000\n",
       "10421      hour_cancelled   30.000000   30.000000  Default   3.0000   3.0000\n",
       "30              got_wrong   46.000000   46.000000  Default   2.0000   2.0000\n",
       "1750            using_app   75.000000   75.000000  Default   1.0000   1.0000\n",
       "...                   ...         ...         ...      ...      ...      ...\n",
       "3491       estimated_time   34.919608   74.431104   Topic3  -8.5899   0.3569\n",
       "2774        say_delivered   38.762502   84.893692   Topic3  -8.4855   0.3298\n",
       "1589           last_night   52.916878  124.924416   Topic3  -8.1743   0.2547\n",
       "1435      would_recommend   45.697364  104.523136   Topic3  -8.3209   0.2864\n",
       "9302          took_minute   26.353158   53.018605   Topic3  -8.8714   0.4147\n",
       "427        bad_experience   87.012959  233.409660   Topic3  -7.6769   0.1270\n",
       "187            first_time  147.444996  451.527839   Topic3  -7.1495  -0.0054\n",
       "502       delivered_wrong   56.837703  137.903028   Topic3  -8.1028   0.2274\n",
       "148            every_time   67.501498  171.913552   Topic3  -7.9308   0.1789\n",
       "1423         company_ever   46.129910  107.005520   Topic3  -8.3115   0.2723\n",
       "1439            hour_late  136.892962  420.170745   Topic3  -7.2238  -0.0077\n",
       "5782         several_time   51.274814  122.947160   Topic3  -8.2058   0.2392\n",
       "2926          minute_late   82.046341  226.445378   Topic3  -7.7357   0.0985\n",
       "687            avoid_cost   50.867246  122.757092   Topic3  -8.2138   0.2327\n",
       "31              last_time   79.207442  224.239655   Topic3  -7.7709   0.0731\n",
       "2459         missing_item  134.022832  452.677005   Topic3  -7.2450  -0.1034\n",
       "1421          bad_company   57.269170  149.784535   Topic3  -8.0952   0.1523\n",
       "551         never_arrived  100.730969  325.960282   Topic3  -7.5305  -0.0606\n",
       "3102        wrong_address   78.331190  238.414900   Topic3  -7.7820   0.0007\n",
       "4847           phone_call   56.792908  151.443869   Topic3  -8.1036   0.1329\n",
       "32              live_chat   97.227112  336.487914   Topic3  -7.5659  -0.1278\n",
       "214              bad_ever   75.555880  235.790030   Topic3  -7.8181  -0.0243\n",
       "704     called_restaurant   67.337258  200.935835   Topic3  -7.9333   0.0205\n",
       "3             even_though   96.657095  369.774541   Topic3  -7.5718  -0.2280\n",
       "241            would_give   61.001895  172.027094   Topic3  -8.0321   0.0770\n",
       "718            could_give   68.283328  229.937265   Topic3  -7.9193  -0.1004\n",
       "1077           promo_code   59.274487  181.011303   Topic3  -8.0608  -0.0026\n",
       "2754          never_using   59.747208  187.238803   Topic3  -8.0529  -0.0285\n",
       "397           second_time   57.278739  175.574510   Topic3  -8.0950  -0.0064\n",
       "318          phone_number   56.839212  182.529011   Topic3  -8.1028  -0.0529\n",
       "\n",
       "[294 rows x 6 columns], token_table=        Topic      Freq                 Term\n",
       "term                                        \n",
       "295684      1  0.926271           2x_missing\n",
       "1069        1  0.204253        absolute_joke\n",
       "1069        2  0.565624        absolute_joke\n",
       "1069        3  0.227821        absolute_joke\n",
       "352         1  0.235404  absolutely_shocking\n",
       "352         2  0.291452  absolutely_shocking\n",
       "352         3  0.470807  absolutely_shocking\n",
       "103504      1  0.659029         accept_first\n",
       "103504      2  0.164757         accept_first\n",
       "103504      3  0.164757         accept_first\n",
       "279653      3  0.839895         actually_hot\n",
       "138227      1  0.479645       address_thanks\n",
       "138227      2  0.461197       address_thanks\n",
       "138227      3  0.055344       address_thanks\n",
       "152096      2  0.199544         almost_pound\n",
       "152096      3  0.798175         almost_pound\n",
       "160714      2  0.780753       always_rectify\n",
       "16596       1  0.582715          anything_go\n",
       "16596       2  0.233086          anything_go\n",
       "16596       3  0.194238          anything_go\n",
       "65058       2  0.773297            app_least\n",
       "98875       1  0.713454             app_much\n",
       "98875       2  0.178364             app_much\n",
       "98875       3  0.178364             app_much\n",
       "12080       1  0.466396             app_said\n",
       "12080       2  0.296797             app_said\n",
       "12080       3  0.233198             app_said\n",
       "44089       1  0.245612         arrive_still\n",
       "44089       3  0.736836         arrive_still\n",
       "1603        1  0.472001         arrived_cold\n",
       "...       ...       ...                  ...\n",
       "1381        3  0.534549          waited_hour\n",
       "109         1  0.364490         waiting_hour\n",
       "109         2  0.215994         waiting_hour\n",
       "109         3  0.418489         waiting_hour\n",
       "1384        1  0.462003           waste_time\n",
       "1384        2  0.322131           waste_time\n",
       "1384        3  0.216167           waste_time\n",
       "223028      3  0.770623       way_overpriced\n",
       "306265      2  0.946078        went_previous\n",
       "659         1  0.636134       whenever_issue\n",
       "270560      1  0.825952       wont_delivered\n",
       "18101       1  0.220201         would_arrive\n",
       "18101       2  0.244668         would_arrive\n",
       "18101       3  0.538270         would_arrive\n",
       "271009      3  0.849320      would_authorise\n",
       "241         1  0.255774           would_give\n",
       "241         2  0.389474           would_give\n",
       "241         3  0.354595           would_give\n",
       "1435        1  0.287018      would_recommend\n",
       "1435        2  0.277451      would_recommend\n",
       "1435        3  0.440094      would_recommend\n",
       "3102        1  0.314578        wrong_address\n",
       "3102        2  0.356521        wrong_address\n",
       "3102        3  0.327161        wrong_address\n",
       "142         1  0.288114            zero_star\n",
       "142         2  0.436287            zero_star\n",
       "142         3  0.279882            zero_star\n",
       "240734      1  0.719648            £10_spend\n",
       "240734      2  0.179912            £10_spend\n",
       "240734      3  0.179912            £10_spend\n",
       "\n",
       "[477 rows x 3 columns], R=30, lambda_step=0.01, plot_opts={'xlab': 'PC1', 'ylab': 'PC2'}, topic_order=[2, 3, 1])"
      ]
     },
     "execution_count": 100,
     "metadata": {},
     "output_type": "execute_result"
    }
   ],
   "source": [
    "LDAvis_prepared"
   ]
  },
  {
   "cell_type": "code",
   "execution_count": 17,
   "metadata": {},
   "outputs": [
    {
     "ename": "PermissionError",
     "evalue": "[Errno 13] Permission denied: './results/ldavis_prepared_5'",
     "output_type": "error",
     "traceback": [
      "\u001b[1;31m---------------------------------------------------------------------------\u001b[0m",
      "\u001b[1;31mPermissionError\u001b[0m                           Traceback (most recent call last)",
      "\u001b[1;32m<ipython-input-17-2626f1679d77>\u001b[0m in \u001b[0;36m<module>\u001b[1;34m()\u001b[0m\n\u001b[0;32m      4\u001b[0m \u001b[1;32mif\u001b[0m \u001b[1;36m1\u001b[0m \u001b[1;33m==\u001b[0m \u001b[1;36m1\u001b[0m\u001b[1;33m:\u001b[0m\u001b[1;33m\u001b[0m\u001b[0m\n\u001b[0;32m      5\u001b[0m     \u001b[0mLDAvis_prepared\u001b[0m \u001b[1;33m=\u001b[0m \u001b[0mpyLDAvis\u001b[0m\u001b[1;33m.\u001b[0m\u001b[0mgensim\u001b[0m\u001b[1;33m.\u001b[0m\u001b[0mprepare\u001b[0m\u001b[1;33m(\u001b[0m\u001b[0mlda_model\u001b[0m\u001b[1;33m,\u001b[0m \u001b[0mcorpus\u001b[0m\u001b[1;33m,\u001b[0m \u001b[0mid2word\u001b[0m\u001b[1;33m)\u001b[0m\u001b[1;33m\u001b[0m\u001b[0m\n\u001b[1;32m----> 6\u001b[1;33m     \u001b[1;32mwith\u001b[0m \u001b[0mopen\u001b[0m\u001b[1;33m(\u001b[0m\u001b[0mLDAvis_data_filepath\u001b[0m\u001b[1;33m,\u001b[0m \u001b[1;34m'wb'\u001b[0m\u001b[1;33m)\u001b[0m \u001b[1;32mas\u001b[0m \u001b[0mf\u001b[0m\u001b[1;33m:\u001b[0m\u001b[1;33m\u001b[0m\u001b[0m\n\u001b[0m\u001b[0;32m      7\u001b[0m         \u001b[0mpickle\u001b[0m\u001b[1;33m.\u001b[0m\u001b[0mdump\u001b[0m\u001b[1;33m(\u001b[0m\u001b[0mLDAvis_prepared\u001b[0m\u001b[1;33m,\u001b[0m \u001b[0mf\u001b[0m\u001b[1;33m)\u001b[0m\u001b[1;33m\u001b[0m\u001b[0m\n\u001b[0;32m      8\u001b[0m \u001b[1;31m# load the pre-prepared pyLDAvis data from disk\u001b[0m\u001b[1;33m\u001b[0m\u001b[1;33m\u001b[0m\u001b[0m\n",
      "\u001b[1;31mPermissionError\u001b[0m: [Errno 13] Permission denied: './results/ldavis_prepared_5'"
     ]
    }
   ],
   "source": [
    "# # this is a bit time consuming - make the if statement True\n",
    "# # if you want to execute visualization prep yourself\n",
    "if 1 == 1:\n",
    "    LDAvis_prepared = pyLDAvis.gensim.prepare(lda_model, corpus, id2word)\n",
    "    with open(LDAvis_data_filepath, 'wb') as f:\n",
    "        pickle.dump(LDAvis_prepared, f)\n",
    "# load the pre-prepared pyLDAvis data from disk\n",
    "with open(LDAvis_data_filepath, 'rb') as f:\n",
    "    LDAvis_prepared = pickle.load(f)\n",
    "pyLDAvis.save_html(LDAvis_prepared, './results/ldavis_prepared_'+ str(num_topics) +'.html')\n",
    "LDAvis_prepared"
   ]
  },
  {
   "cell_type": "code",
   "execution_count": null,
   "metadata": {},
   "outputs": [],
   "source": []
  }
 ],
 "metadata": {
  "kernelspec": {
   "display_name": "Python 3",
   "language": "python",
   "name": "python3"
  },
  "language_info": {
   "codemirror_mode": {
    "name": "ipython",
    "version": 3
   },
   "file_extension": ".py",
   "mimetype": "text/x-python",
   "name": "python",
   "nbconvert_exporter": "python",
   "pygments_lexer": "ipython3",
   "version": "3.6.5"
  }
 },
 "nbformat": 4,
 "nbformat_minor": 2
}
