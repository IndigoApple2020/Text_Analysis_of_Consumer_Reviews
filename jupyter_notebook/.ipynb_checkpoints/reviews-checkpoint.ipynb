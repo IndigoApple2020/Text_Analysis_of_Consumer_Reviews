{
 "cells": [
  {
   "cell_type": "markdown",
   "metadata": {},
   "source": [
    "# Latent Dirichlet Allocation for Topic Modelling on Customer Reviews: The case of UK Delivery Companies \n",
    "\n",
    "**Author: Georgios Spyrou (https://github.com/gpsyrou)**\n",
    "\n",
    "_Last Update: 14/07/2021_\n",
    "\n",
    "<img src=\"../img/projectimage.png\" alt=\"Sentiment Picture\" width=\"820\" height=\"640\">\n",
    "\n",
    "### Sections\n",
    "- <a href=\"#project_idea\" style=\"text-decoration: none\"> Project Description</a>\n",
    "- <a href=\"#data_retrieval\" style=\"text-decoration: none\"> Web-Scrapping Tool and Data Retrieval</a>\n",
    "- <a href=\"#data_cleaning_eda\" style=\"text-decoration: none\"> Data Cleaning & Initial Exploratory Data Analysis (EDA)</a>\n",
    "    - <a href=\"#data_preprocessing\" style=\"text-decoration: none\"> Data Preprocessing </a>\n",
    "    - <a href=\"#eda\" style=\"text-decoration: none\"> Exploratory Data Analysis </a>\n",
    "- <a href=\"#lda\" style=\"text-decoration: none\"> Latent Dirichlet Allocation model </a>\n",
    "    - <a href=\"#bigrams_lda\" style=\"text-decoration: none\"> Compute bigrams as LDA input </a>"
   ]
  },
  {
   "cell_type": "markdown",
   "metadata": {},
   "source": [
    "<a id='project_idea'></a>\n",
    "### Introduction\n",
    "\n",
    "In this project we are going to explore the world of logistic companies and the issues that they might be facing. Specifically, we are going to focus on analyzing data regarding a few of the most well-known delivery companies in the UK, namely <a href=\"https://en.wikipedia.org/wiki/Deliveroo\" style=\"text-decoration:none\"> Deliveroo</a>, <a href=\"https://en.wikipedia.org/wiki/UberEats\" style=\"text-decoration:none\"> UberEats</a>, <a href=\"https://en.wikipedia.org/wiki/Just_Eat\" style=\"text-decoration:none\"> Just Eat</a> and <a href=\"https://stuart.com/\" style=\"text-decoration:none\"> Stuart</a>. To do that we are going to utilize the internet and the reviews that we can find in many different platforms, especially these platforms that are specializing at collecting reviews and opininions of customers for a plethora of companies and services. \n",
    "\n",
    "The first iteration of this project it's using the reviews that can be found in the famous consumer review website <a href=\"https://en.wikipedia.org/wiki/Trustpilot\" style=\"text-decoration:none\"> TrustPilot</a>. Even though the website is already providing some API functionalities, we are going to write our own web-scraping tool to retrieve the data in the format that we want. We will attempt to collect as many reviews as possible and then use them to identify interesting findings in the text. For example, we will try to identify what is the sentiment across all reviews for a specific company, what are the most common words and bigrams (i.e. pairs of words that tend to appear next to each other) in the reviews, and more. Finally, we will implement a <a href=\"https://en.wikipedia.org/wiki/Latent_Dirichlet_allocation\" style=\"text-decoration:none\"> Latent Dirichlet Allocation</a> model to try and identify what are the topics that these reviews correspond to.\n",
    "\n",
    "\n",
    "We are going to discuss the specifics in more depth as we are going through the different parts of the project. As a starting point of course, we need to collect the relevant reviews for the aforementioned group of delivery companies.\n",
    "\n",
    "<a id='data_retrieval'></a>\n",
    "### Web-Scrapping Tool and Data Retrieval\n",
    "\n",
    "In order to collect the reviews directly from the TrustPilot website, we have created a web-scrapping tool that allowed us to automate this process across different companies & their corresponding reviews. This tool is iterating across different pages of the website and collects the reviews and any other relevant information, with the output being stored in csv files. Moreover, we have packaged the tool into a python library. Hence, if you are thinking of working on a similar project where you need to retrieve data from TrustPilot, you can install the package that you can find <a href=\"https://github.com/gpsyrou/Text_Analysis_of_Consumer_Reviews/blob/main/trustplt.py\" style=\"text-decoration:none\">here</a>. As of May 2021, the package contains the main functionalities to collect many different information from the website, like the reviews, reviewer_id, date of the review, user rating, and more. \n",
    "\n",
    "For the first iteration of the project, we have built the aforementioned package with the functionality to retrieve the following information - which will also be the features in our dataset:\n",
    "\n",
    "1. **Company**: Name of the Company that we are examining (e.g. Deliveroo, UberEats, JustEat, Stuart)\n",
    "2. **Id**: The unique identifier for the Review\n",
    "3. **Reviewer_Id**: Unique id for a reviewer/user\n",
    "4. **Title**: Title of the review\n",
    "5. **Review**: The text corresponding to the review submitted from the reviewer\n",
    "6. **Date**: Day of review submission\n",
    "7. **Rating**: The rating about the company, as submitted from the reviewer\n",
    "\n",
    "Thus, after collecting the data and save them in a CSV format, we can by having a first look at the data and familiarize ourselves with the features. "
   ]
  },
  {
   "cell_type": "code",
   "execution_count": 158,
   "metadata": {},
   "outputs": [],
   "source": [
    "import os\n",
    "import string\n",
    "import numpy as np\n",
    "import pandas as pd\n",
    "from typing import List\n",
    "from collections import Counter\n",
    "\n",
    "import seaborn as sns\n",
    "sns.set_style('dark')\n",
    "\n",
    "import matplotlib.pyplot as plt\n",
    "\n",
    "from nltk import word_tokenize\n",
    "from nltk.util import ngrams\n",
    "from nltk.corpus import stopwords\n",
    "from nltk.collocations import BigramCollocationFinder\n",
    "from nltk.stem import WordNetLemmatizer, PorterStemmer\n",
    "\n",
    "from IPython.display import display, HTML\n",
    "\n",
    "project_dir = '/Users/georgiosspyrou/Desktop/GitHub/Projects/Text_Analysis_of_Consumer_Reviews/Text_Analysis_of_Consumer_Reviews'\n",
    "os.chdir(project_dir)\n",
    "\n",
    "from helpers.utilities import split_ratings_col, get_ratings_mapping"
   ]
  },
  {
   "cell_type": "code",
   "execution_count": 159,
   "metadata": {},
   "outputs": [],
   "source": [
    "reviews_base_file = os.path.join(project_dir, 'reviews.csv')"
   ]
  },
  {
   "cell_type": "code",
   "execution_count": 160,
   "metadata": {},
   "outputs": [
    {
     "data": {
      "text/plain": [
       "{1: 'Bad', 2: 'Poor', 3: 'Average', 4: 'Great', 5: 'Excellent'}"
      ]
     },
     "execution_count": 160,
     "metadata": {},
     "output_type": "execute_result"
    }
   ],
   "source": [
    "col_names = ['Company', 'Id', 'Reviewer_Id', 'Title', 'Review', 'Date', 'Rating']\n",
    "\n",
    "ratings_dict = get_ratings_mapping()\n",
    "ratings_dict"
   ]
  },
  {
   "cell_type": "code",
   "execution_count": 161,
   "metadata": {},
   "outputs": [],
   "source": [
    "reviews_df = pd.read_csv(reviews_base_file, sep=',')"
   ]
  },
  {
   "cell_type": "markdown",
   "metadata": {},
   "source": [
    "<a id='data_cleaning_eda'></a>\n",
    "### Data Cleaning & Exploratory Data Analysis\n",
    "\n",
    "Here we can have an initial look about the information contained in the dataset - Please note that each row in the dataset corresponds to a different _review_ :"
   ]
  },
  {
   "cell_type": "code",
   "execution_count": 162,
   "metadata": {},
   "outputs": [
    {
     "data": {
      "text/html": [
       "<div>\n",
       "<style scoped>\n",
       "    .dataframe tbody tr th:only-of-type {\n",
       "        vertical-align: middle;\n",
       "    }\n",
       "\n",
       "    .dataframe tbody tr th {\n",
       "        vertical-align: top;\n",
       "    }\n",
       "\n",
       "    .dataframe thead th {\n",
       "        text-align: right;\n",
       "    }\n",
       "</style>\n",
       "<table border=\"1\" class=\"dataframe\">\n",
       "  <thead>\n",
       "    <tr style=\"text-align: right;\">\n",
       "      <th></th>\n",
       "      <th>Company</th>\n",
       "      <th>Id</th>\n",
       "      <th>Reviewer_Id</th>\n",
       "      <th>Title</th>\n",
       "      <th>Review</th>\n",
       "      <th>Date</th>\n",
       "      <th>Rating</th>\n",
       "    </tr>\n",
       "  </thead>\n",
       "  <tbody>\n",
       "    <tr>\n",
       "      <td>0</td>\n",
       "      <td>Deliveroo</td>\n",
       "      <td>60709f95f85d75087052ff8b</td>\n",
       "      <td>60709f8f0a30fd001b06dc52</td>\n",
       "      <td>Ordered food and apparently the driver…</td>\n",
       "      <td>Ordered food and apparently the driver was wai...</td>\n",
       "      <td>2021-04-09 18:40</td>\n",
       "      <td>{2: 'Poor'}</td>\n",
       "    </tr>\n",
       "    <tr>\n",
       "      <td>1</td>\n",
       "      <td>Deliveroo</td>\n",
       "      <td>60708710f85d75087052c89b</td>\n",
       "      <td>6070870c2158190019b3ab8e</td>\n",
       "      <td>Disgusting Live Customer Service CHAT!!!</td>\n",
       "      <td>I received standard bag of buttons that cost £...</td>\n",
       "      <td>2021-04-09 16:55</td>\n",
       "      <td>{1: 'Bad'}</td>\n",
       "    </tr>\n",
       "    <tr>\n",
       "      <td>2</td>\n",
       "      <td>Deliveroo</td>\n",
       "      <td>60707b91f85d75087052abb6</td>\n",
       "      <td>602eb3ac49aeca0019ad4b70</td>\n",
       "      <td>Just had an appalling experience with…</td>\n",
       "      <td>Just had an appalling experience with delivero...</td>\n",
       "      <td>2021-04-09 16:06</td>\n",
       "      <td>{1: 'Bad'}</td>\n",
       "    </tr>\n",
       "    <tr>\n",
       "      <td>3</td>\n",
       "      <td>Deliveroo</td>\n",
       "      <td>60705919f85d7508705251d4</td>\n",
       "      <td>60705856348d93001ad1ca1f</td>\n",
       "      <td>The same situation happened twice</td>\n",
       "      <td>The same situation happened twice. I ordered f...</td>\n",
       "      <td>2021-04-09 13:39</td>\n",
       "      <td>{2: 'Poor'}</td>\n",
       "    </tr>\n",
       "    <tr>\n",
       "      <td>4</td>\n",
       "      <td>Deliveroo</td>\n",
       "      <td>60705138f85d750870523d4d</td>\n",
       "      <td>6070512519dc76001aebe4b1</td>\n",
       "      <td>Driver left without giving us food</td>\n",
       "      <td>Driver turned up late couldn’t find us and lef...</td>\n",
       "      <td>2021-04-09 13:06</td>\n",
       "      <td>{1: 'Bad'}</td>\n",
       "    </tr>\n",
       "  </tbody>\n",
       "</table>\n",
       "</div>"
      ],
      "text/plain": [
       "     Company                        Id               Reviewer_Id  \\\n",
       "0  Deliveroo  60709f95f85d75087052ff8b  60709f8f0a30fd001b06dc52   \n",
       "1  Deliveroo  60708710f85d75087052c89b  6070870c2158190019b3ab8e   \n",
       "2  Deliveroo  60707b91f85d75087052abb6  602eb3ac49aeca0019ad4b70   \n",
       "3  Deliveroo  60705919f85d7508705251d4  60705856348d93001ad1ca1f   \n",
       "4  Deliveroo  60705138f85d750870523d4d  6070512519dc76001aebe4b1   \n",
       "\n",
       "                                      Title  \\\n",
       "0   Ordered food and apparently the driver…   \n",
       "1  Disgusting Live Customer Service CHAT!!!   \n",
       "2    Just had an appalling experience with…   \n",
       "3         The same situation happened twice   \n",
       "4        Driver left without giving us food   \n",
       "\n",
       "                                              Review              Date  \\\n",
       "0  Ordered food and apparently the driver was wai...  2021-04-09 18:40   \n",
       "1  I received standard bag of buttons that cost £...  2021-04-09 16:55   \n",
       "2  Just had an appalling experience with delivero...  2021-04-09 16:06   \n",
       "3  The same situation happened twice. I ordered f...  2021-04-09 13:39   \n",
       "4  Driver turned up late couldn’t find us and lef...  2021-04-09 13:06   \n",
       "\n",
       "        Rating  \n",
       "0  {2: 'Poor'}  \n",
       "1   {1: 'Bad'}  \n",
       "2   {1: 'Bad'}  \n",
       "3  {2: 'Poor'}  \n",
       "4   {1: 'Bad'}  "
      ]
     },
     "execution_count": 162,
     "metadata": {},
     "output_type": "execute_result"
    }
   ],
   "source": [
    "reviews_df.head()"
   ]
  },
  {
   "cell_type": "markdown",
   "metadata": {},
   "source": [
    "We can see that the _Title_ of the review sometimes seems to correspond to the first few words/lines of the full _Review_, while some other times appears to be a small summary. At the same time we can observe that the _Rating_ provides us with some useful information about how the Reviewer felt regarding the company's service on that specific occasion."
   ]
  },
  {
   "cell_type": "code",
   "execution_count": 163,
   "metadata": {},
   "outputs": [
    {
     "name": "stdout",
     "output_type": "stream",
     "text": [
      "There are 17640 reviews (rows) and 7 features in the dataset\n"
     ]
    }
   ],
   "source": [
    "print(f'There are {reviews_df.shape[0]} reviews (rows) and {reviews_df.shape[1]} features in the dataset')"
   ]
  },
  {
   "cell_type": "code",
   "execution_count": 164,
   "metadata": {},
   "outputs": [
    {
     "data": {
      "text/plain": [
       "UberEats     8740\n",
       "Deliveroo    6360\n",
       "JustEat      2340\n",
       "Stuart        200\n",
       "Name: Company, dtype: int64"
      ]
     },
     "execution_count": 164,
     "metadata": {},
     "output_type": "execute_result"
    }
   ],
   "source": [
    "reviews_df['Company'].value_counts()"
   ]
  },
  {
   "cell_type": "markdown",
   "metadata": {},
   "source": [
    "We can check if there are any missing values in the dataset, or if there are rows that are duplicates:"
   ]
  },
  {
   "cell_type": "code",
   "execution_count": 165,
   "metadata": {},
   "outputs": [
    {
     "name": "stdout",
     "output_type": "stream",
     "text": [
      "There are 57 duplicate reviews in the dataset\n"
     ]
    }
   ],
   "source": [
    "num_duplicate_reviews = reviews_df.duplicated('Id').sum()\n",
    "print(f'There are {num_duplicate_reviews} duplicate reviews in the dataset')"
   ]
  },
  {
   "cell_type": "markdown",
   "metadata": {},
   "source": [
    "Dropping the duplicate reviews"
   ]
  },
  {
   "cell_type": "code",
   "execution_count": 166,
   "metadata": {},
   "outputs": [
    {
     "data": {
      "text/plain": [
       "0"
      ]
     },
     "execution_count": 166,
     "metadata": {},
     "output_type": "execute_result"
    }
   ],
   "source": [
    "reviews_df.drop_duplicates(inplace=True)\n",
    "reviews_df.duplicated('Id').sum()"
   ]
  },
  {
   "cell_type": "code",
   "execution_count": 167,
   "metadata": {},
   "outputs": [
    {
     "data": {
      "text/html": [
       "<div>\n",
       "<style scoped>\n",
       "    .dataframe tbody tr th:only-of-type {\n",
       "        vertical-align: middle;\n",
       "    }\n",
       "\n",
       "    .dataframe tbody tr th {\n",
       "        vertical-align: top;\n",
       "    }\n",
       "\n",
       "    .dataframe thead th {\n",
       "        text-align: right;\n",
       "    }\n",
       "</style>\n",
       "<table border=\"1\" class=\"dataframe\">\n",
       "  <thead>\n",
       "    <tr style=\"text-align: right;\">\n",
       "      <th></th>\n",
       "      <th>Missing_Values</th>\n",
       "    </tr>\n",
       "  </thead>\n",
       "  <tbody>\n",
       "    <tr>\n",
       "      <td>Company</td>\n",
       "      <td>0</td>\n",
       "    </tr>\n",
       "    <tr>\n",
       "      <td>Id</td>\n",
       "      <td>0</td>\n",
       "    </tr>\n",
       "    <tr>\n",
       "      <td>Reviewer_Id</td>\n",
       "      <td>0</td>\n",
       "    </tr>\n",
       "    <tr>\n",
       "      <td>Title</td>\n",
       "      <td>0</td>\n",
       "    </tr>\n",
       "    <tr>\n",
       "      <td>Review</td>\n",
       "      <td>240</td>\n",
       "    </tr>\n",
       "    <tr>\n",
       "      <td>Date</td>\n",
       "      <td>2886</td>\n",
       "    </tr>\n",
       "    <tr>\n",
       "      <td>Rating</td>\n",
       "      <td>0</td>\n",
       "    </tr>\n",
       "  </tbody>\n",
       "</table>\n",
       "</div>"
      ],
      "text/plain": [
       "             Missing_Values\n",
       "Company                   0\n",
       "Id                        0\n",
       "Reviewer_Id               0\n",
       "Title                     0\n",
       "Review                  240\n",
       "Date                   2886\n",
       "Rating                    0"
      ]
     },
     "execution_count": 167,
     "metadata": {},
     "output_type": "execute_result"
    }
   ],
   "source": [
    "pd.DataFrame(reviews_df.isna().sum(), columns=['Missing_Values'])"
   ]
  },
  {
   "cell_type": "markdown",
   "metadata": {},
   "source": [
    "From the queries above we can quickly see that initially we had some issues as there were 57 duplicate reviews, but we have used a pandas built-in function to remove them from the dataset. The duplication is caused due to the nature of retrieving data from by using the API, as we might process pages that we have already processed in the past, and that means retrieving the same reviews as before. Luckily, the _Id_ column is sufficient to identify unique reviews in the dataset, and hence it's easy to spot and fix duplication issues.\n",
    "\n",
    "Now, regarding the missing values there are a few cases where Review appears to be empty, as well as quite a few cases on missing dates. The later is not a massive issue at this stage of the project. On the other hand, the absence of reviews can be a big issue as this project is all about analyzing customer reviews, and hence rows that have no text corresponding to a review wouldn't provide much information. That said, as we saw above there is another feature (_Title_) which we can use as text for rows where the _Review_ is empty."
   ]
  },
  {
   "cell_type": "code",
   "execution_count": 168,
   "metadata": {},
   "outputs": [
    {
     "data": {
      "text/html": [
       "<div>\n",
       "<style scoped>\n",
       "    .dataframe tbody tr th:only-of-type {\n",
       "        vertical-align: middle;\n",
       "    }\n",
       "\n",
       "    .dataframe tbody tr th {\n",
       "        vertical-align: top;\n",
       "    }\n",
       "\n",
       "    .dataframe thead th {\n",
       "        text-align: right;\n",
       "    }\n",
       "</style>\n",
       "<table border=\"1\" class=\"dataframe\">\n",
       "  <thead>\n",
       "    <tr style=\"text-align: right;\">\n",
       "      <th></th>\n",
       "      <th>Company</th>\n",
       "      <th>Id</th>\n",
       "      <th>Reviewer_Id</th>\n",
       "      <th>Title</th>\n",
       "      <th>Review</th>\n",
       "      <th>Date</th>\n",
       "      <th>Rating</th>\n",
       "    </tr>\n",
       "  </thead>\n",
       "  <tbody>\n",
       "    <tr>\n",
       "      <td>45</td>\n",
       "      <td>Deliveroo</td>\n",
       "      <td>60684978f85d75087045ed91</td>\n",
       "      <td>60684973402b0e001a95af2d</td>\n",
       "      <td>Great service</td>\n",
       "      <td>NaN</td>\n",
       "      <td>2021-04-03 10:54</td>\n",
       "      <td>{5: 'Excellent'}</td>\n",
       "    </tr>\n",
       "    <tr>\n",
       "      <td>94</td>\n",
       "      <td>Deliveroo</td>\n",
       "      <td>606221b3f85d7508703c730e</td>\n",
       "      <td>5d73f4f179586ed7bad49d52</td>\n",
       "      <td>Very very disappointed bad service</td>\n",
       "      <td>NaN</td>\n",
       "      <td>2021-03-29 18:51</td>\n",
       "      <td>{1: 'Bad'}</td>\n",
       "    </tr>\n",
       "    <tr>\n",
       "      <td>114</td>\n",
       "      <td>Deliveroo</td>\n",
       "      <td>605f8f5df85d7508703919f5</td>\n",
       "      <td>5e8d9b9a6251456b37ed292e</td>\n",
       "      <td>CRAP nothing else to say!</td>\n",
       "      <td>NaN</td>\n",
       "      <td>2021-03-27 20:02</td>\n",
       "      <td>{1: 'Bad'}</td>\n",
       "    </tr>\n",
       "    <tr>\n",
       "      <td>137</td>\n",
       "      <td>Deliveroo</td>\n",
       "      <td>605e40ddf85d750870377a98</td>\n",
       "      <td>605cb15ead7256001bdc3948</td>\n",
       "      <td>A MILLION TIMES BETTER THAN UBER EATS</td>\n",
       "      <td>NaN</td>\n",
       "      <td>2021-03-26 20:15</td>\n",
       "      <td>{5: 'Excellent'}</td>\n",
       "    </tr>\n",
       "    <tr>\n",
       "      <td>201</td>\n",
       "      <td>Deliveroo</td>\n",
       "      <td>6054f264f85d750bf4f97e45</td>\n",
       "      <td>5d57f496959de5789bc062bd</td>\n",
       "      <td>Better to use Uber eats</td>\n",
       "      <td>NaN</td>\n",
       "      <td>2021-03-19 18:50</td>\n",
       "      <td>{1: 'Bad'}</td>\n",
       "    </tr>\n",
       "  </tbody>\n",
       "</table>\n",
       "</div>"
      ],
      "text/plain": [
       "       Company                        Id               Reviewer_Id  \\\n",
       "45   Deliveroo  60684978f85d75087045ed91  60684973402b0e001a95af2d   \n",
       "94   Deliveroo  606221b3f85d7508703c730e  5d73f4f179586ed7bad49d52   \n",
       "114  Deliveroo  605f8f5df85d7508703919f5  5e8d9b9a6251456b37ed292e   \n",
       "137  Deliveroo  605e40ddf85d750870377a98  605cb15ead7256001bdc3948   \n",
       "201  Deliveroo  6054f264f85d750bf4f97e45  5d57f496959de5789bc062bd   \n",
       "\n",
       "                                     Title Review              Date  \\\n",
       "45                           Great service    NaN  2021-04-03 10:54   \n",
       "94      Very very disappointed bad service    NaN  2021-03-29 18:51   \n",
       "114              CRAP nothing else to say!    NaN  2021-03-27 20:02   \n",
       "137  A MILLION TIMES BETTER THAN UBER EATS    NaN  2021-03-26 20:15   \n",
       "201                Better to use Uber eats    NaN  2021-03-19 18:50   \n",
       "\n",
       "               Rating  \n",
       "45   {5: 'Excellent'}  \n",
       "94         {1: 'Bad'}  \n",
       "114        {1: 'Bad'}  \n",
       "137  {5: 'Excellent'}  \n",
       "201        {1: 'Bad'}  "
      ]
     },
     "execution_count": 168,
     "metadata": {},
     "output_type": "execute_result"
    }
   ],
   "source": [
    "empty_reviews_sample = reviews_df[reviews_df['Review'].isnull()].head(5)\n",
    "empty_reviews_sample"
   ]
  },
  {
   "cell_type": "markdown",
   "metadata": {},
   "source": [
    "Apply the transformation"
   ]
  },
  {
   "cell_type": "code",
   "execution_count": 169,
   "metadata": {},
   "outputs": [],
   "source": [
    "reviews_df.loc[reviews_df['Review'].isnull(), 'Review'] = reviews_df['Title']"
   ]
  },
  {
   "cell_type": "markdown",
   "metadata": {},
   "source": [
    "and we can see how the transformation affected the dataset"
   ]
  },
  {
   "cell_type": "code",
   "execution_count": 170,
   "metadata": {},
   "outputs": [
    {
     "data": {
      "text/html": [
       "<div>\n",
       "<style scoped>\n",
       "    .dataframe tbody tr th:only-of-type {\n",
       "        vertical-align: middle;\n",
       "    }\n",
       "\n",
       "    .dataframe tbody tr th {\n",
       "        vertical-align: top;\n",
       "    }\n",
       "\n",
       "    .dataframe thead th {\n",
       "        text-align: right;\n",
       "    }\n",
       "</style>\n",
       "<table border=\"1\" class=\"dataframe\">\n",
       "  <thead>\n",
       "    <tr style=\"text-align: right;\">\n",
       "      <th></th>\n",
       "      <th>Company</th>\n",
       "      <th>Id</th>\n",
       "      <th>Reviewer_Id</th>\n",
       "      <th>Title</th>\n",
       "      <th>Review</th>\n",
       "      <th>Date</th>\n",
       "      <th>Rating</th>\n",
       "    </tr>\n",
       "  </thead>\n",
       "  <tbody>\n",
       "    <tr>\n",
       "      <td>45</td>\n",
       "      <td>Deliveroo</td>\n",
       "      <td>60684978f85d75087045ed91</td>\n",
       "      <td>60684973402b0e001a95af2d</td>\n",
       "      <td>Great service</td>\n",
       "      <td>Great service</td>\n",
       "      <td>2021-04-03 10:54</td>\n",
       "      <td>{5: 'Excellent'}</td>\n",
       "    </tr>\n",
       "    <tr>\n",
       "      <td>94</td>\n",
       "      <td>Deliveroo</td>\n",
       "      <td>606221b3f85d7508703c730e</td>\n",
       "      <td>5d73f4f179586ed7bad49d52</td>\n",
       "      <td>Very very disappointed bad service</td>\n",
       "      <td>Very very disappointed bad service</td>\n",
       "      <td>2021-03-29 18:51</td>\n",
       "      <td>{1: 'Bad'}</td>\n",
       "    </tr>\n",
       "    <tr>\n",
       "      <td>114</td>\n",
       "      <td>Deliveroo</td>\n",
       "      <td>605f8f5df85d7508703919f5</td>\n",
       "      <td>5e8d9b9a6251456b37ed292e</td>\n",
       "      <td>CRAP nothing else to say!</td>\n",
       "      <td>CRAP nothing else to say!</td>\n",
       "      <td>2021-03-27 20:02</td>\n",
       "      <td>{1: 'Bad'}</td>\n",
       "    </tr>\n",
       "    <tr>\n",
       "      <td>137</td>\n",
       "      <td>Deliveroo</td>\n",
       "      <td>605e40ddf85d750870377a98</td>\n",
       "      <td>605cb15ead7256001bdc3948</td>\n",
       "      <td>A MILLION TIMES BETTER THAN UBER EATS</td>\n",
       "      <td>A MILLION TIMES BETTER THAN UBER EATS</td>\n",
       "      <td>2021-03-26 20:15</td>\n",
       "      <td>{5: 'Excellent'}</td>\n",
       "    </tr>\n",
       "    <tr>\n",
       "      <td>201</td>\n",
       "      <td>Deliveroo</td>\n",
       "      <td>6054f264f85d750bf4f97e45</td>\n",
       "      <td>5d57f496959de5789bc062bd</td>\n",
       "      <td>Better to use Uber eats</td>\n",
       "      <td>Better to use Uber eats</td>\n",
       "      <td>2021-03-19 18:50</td>\n",
       "      <td>{1: 'Bad'}</td>\n",
       "    </tr>\n",
       "  </tbody>\n",
       "</table>\n",
       "</div>"
      ],
      "text/plain": [
       "       Company                        Id               Reviewer_Id  \\\n",
       "45   Deliveroo  60684978f85d75087045ed91  60684973402b0e001a95af2d   \n",
       "94   Deliveroo  606221b3f85d7508703c730e  5d73f4f179586ed7bad49d52   \n",
       "114  Deliveroo  605f8f5df85d7508703919f5  5e8d9b9a6251456b37ed292e   \n",
       "137  Deliveroo  605e40ddf85d750870377a98  605cb15ead7256001bdc3948   \n",
       "201  Deliveroo  6054f264f85d750bf4f97e45  5d57f496959de5789bc062bd   \n",
       "\n",
       "                                     Title  \\\n",
       "45                           Great service   \n",
       "94      Very very disappointed bad service   \n",
       "114              CRAP nothing else to say!   \n",
       "137  A MILLION TIMES BETTER THAN UBER EATS   \n",
       "201                Better to use Uber eats   \n",
       "\n",
       "                                    Review              Date            Rating  \n",
       "45                           Great service  2021-04-03 10:54  {5: 'Excellent'}  \n",
       "94      Very very disappointed bad service  2021-03-29 18:51        {1: 'Bad'}  \n",
       "114              CRAP nothing else to say!  2021-03-27 20:02        {1: 'Bad'}  \n",
       "137  A MILLION TIMES BETTER THAN UBER EATS  2021-03-26 20:15  {5: 'Excellent'}  \n",
       "201                Better to use Uber eats  2021-03-19 18:50        {1: 'Bad'}  "
      ]
     },
     "execution_count": 170,
     "metadata": {},
     "output_type": "execute_result"
    }
   ],
   "source": [
    "reviews_df.iloc[list(empty_reviews_sample.index)]"
   ]
  },
  {
   "cell_type": "code",
   "execution_count": 171,
   "metadata": {},
   "outputs": [
    {
     "data": {
      "text/html": [
       "<div>\n",
       "<style scoped>\n",
       "    .dataframe tbody tr th:only-of-type {\n",
       "        vertical-align: middle;\n",
       "    }\n",
       "\n",
       "    .dataframe tbody tr th {\n",
       "        vertical-align: top;\n",
       "    }\n",
       "\n",
       "    .dataframe thead th {\n",
       "        text-align: right;\n",
       "    }\n",
       "</style>\n",
       "<table border=\"1\" class=\"dataframe\">\n",
       "  <thead>\n",
       "    <tr style=\"text-align: right;\">\n",
       "      <th></th>\n",
       "      <th>Missing_Values</th>\n",
       "    </tr>\n",
       "  </thead>\n",
       "  <tbody>\n",
       "    <tr>\n",
       "      <td>Company</td>\n",
       "      <td>0</td>\n",
       "    </tr>\n",
       "    <tr>\n",
       "      <td>Id</td>\n",
       "      <td>0</td>\n",
       "    </tr>\n",
       "    <tr>\n",
       "      <td>Reviewer_Id</td>\n",
       "      <td>0</td>\n",
       "    </tr>\n",
       "    <tr>\n",
       "      <td>Title</td>\n",
       "      <td>0</td>\n",
       "    </tr>\n",
       "    <tr>\n",
       "      <td>Review</td>\n",
       "      <td>0</td>\n",
       "    </tr>\n",
       "    <tr>\n",
       "      <td>Date</td>\n",
       "      <td>2886</td>\n",
       "    </tr>\n",
       "    <tr>\n",
       "      <td>Rating</td>\n",
       "      <td>0</td>\n",
       "    </tr>\n",
       "  </tbody>\n",
       "</table>\n",
       "</div>"
      ],
      "text/plain": [
       "             Missing_Values\n",
       "Company                   0\n",
       "Id                        0\n",
       "Reviewer_Id               0\n",
       "Title                     0\n",
       "Review                    0\n",
       "Date                   2886\n",
       "Rating                    0"
      ]
     },
     "execution_count": 171,
     "metadata": {},
     "output_type": "execute_result"
    }
   ],
   "source": [
    "pd.DataFrame(reviews_df.isna().sum(), columns=['Missing_Values'])"
   ]
  },
  {
   "cell_type": "markdown",
   "metadata": {},
   "source": [
    "<a id='data_preprocessing'></a>\n",
    "### Data Preprocessing\n",
    "\n",
    "Now that we have familiarized a bit ourselves with the dataset and it's format, as well as conducted the initial data cleaning, we will move to one of the most important steps in any project - the data preprocessing. This section is especially important for cases where we have to deal with analysis of text, such as in this project. The reason is that text in raw format usually contains a lot of noise. This could later affect the performance of the algorithms - both in terms of computational power and the final output - due to very high dimensions of the dataset. This is happening as, like we are going to see soon, each unique word in each review will become a separate feature in the dataset. Hence, the more reviews we have the more unique words we gonna end up with in the final dataset before the analysis. \n",
    " \n",
    "Therefore, its essential to use  some common text preprocessing techniques to reduce the dimensions. As a summary, we are going to perform the following steps:\n",
    "\n",
    " 1) Perform **tokenization** of the reviews. This is a technique of transforming a sentence, into a list of words. For example, the sentence \"my order was great\" would become '['my', 'order', 'was', 'great'].\n",
    " \n",
    " 2) Remove from the reviews tokens that are **stopwords**. Stopwords are words inside text that do not provide much information and are usually getting removed from the initial sentence. Such words can be words like \"the\", \"a\", and more.\n",
    " \n",
    " 3) Remove tokens that correspond to **punctuation** marks (e.g. \"!\", \"?\") and **numbers**.\n",
    " \n",
    " 4) <a href=\"https://en.wikipedia.org/wiki/Stemming\" style=\"text-decoration:none\">Stemming</a> and <a href=\"https://en.wikipedia.org/wiki/Lemmatisation\" style=\"text-decoration:none\">Lemmatization</a>: These two methods are being used to transform a token into it's stem or lemma respectively. These two techniques help drammatically with the reduction of the dimensions as words end up being \"grouped\" under a specific form. In this project we are going to use lemmatization, as in general is a more advanced method compared to stemming, as lemmatization algorithms try to identify the part of speech of the token, and thus in some way they are preserving the meaning of the word (something that does not necessarily happen with stemming).\n",
    " \n",
    "Below we are going to perform all of these steps to get a \"cleaner\" version of the reviews:"
   ]
  },
  {
   "cell_type": "code",
   "execution_count": 172,
   "metadata": {},
   "outputs": [],
   "source": [
    "from nltk.corpus import stopwords\n",
    "\n",
    "stopwords_ls = stopwords.words('english')\n",
    "stopwords_ls.extend(['\\'d', '\\'m', '\\'s', '\\'ve', '\\'re', '\\'ll', 'n\\'t', '’'])"
   ]
  },
  {
   "cell_type": "markdown",
   "metadata": {},
   "source": [
    "Except the common english stopwords, it's necessary to enhance the list with some additional tokens that we want to exclude from the reviews. These are usually words that we would expect that are getting repeated in the reviews. In our case, as we are examining the case of delivery companies, it would be beneficial to exclude words like 'delivery', 'order', and more. Moreover, we are excluding the tokens that correspond to the names of the delivery companies, as we already have this information in the dataset as a different feature."
   ]
  },
  {
   "cell_type": "code",
   "execution_count": 173,
   "metadata": {},
   "outputs": [],
   "source": [
    "common_delivery_words = ['delivery', 'deliver', 'driver', 'order', 'uber', 'stuart',\n",
    "                         'deliveroo', 'food', 'use', 'get', 'service', 'customer', 'refund',\n",
    "                        'give', 'star', 'even', 'though', 'could']\n",
    "\n",
    "stopwords_ls.extend(common_delivery_words)"
   ]
  },
  {
   "cell_type": "markdown",
   "metadata": {},
   "source": [
    "Moreover, we can see that the _Rating_ columns has values like the following: {1: 'Bad'}, so we are going to use a custom function to split this into two different features for better presentation:"
   ]
  },
  {
   "cell_type": "code",
   "execution_count": 174,
   "metadata": {},
   "outputs": [],
   "source": [
    "def split_ratings(rating_text):\n",
    "    \"\"\"\n",
    "    Mapper function to split string with {Rating: Rating_As_String} format to two\n",
    "    separate entities\"\"\"\n",
    "    rating_text = rating_text.replace('\\'','').replace('{','').replace('}','')\n",
    "    return rating_text[0], rating_text[3:]"
   ]
  },
  {
   "cell_type": "code",
   "execution_count": 175,
   "metadata": {},
   "outputs": [],
   "source": [
    "# Cast columns specific data format\n",
    "reviews_df['Date'] = pd.to_datetime(reviews_df['Date'], format=\"%Y-%m-%d %H:%M\", errors='coerce')\n",
    "\n",
    "reviews_df['Rating'] = reviews_df['Rating'].apply(lambda row: split_ratings(row)[0]).astype(int)\n",
    "reviews_df['Rating_Text'] = reviews_df['Rating'].apply(lambda row: ratings_dict[row])"
   ]
  },
  {
   "cell_type": "code",
   "execution_count": 176,
   "metadata": {},
   "outputs": [
    {
     "data": {
      "text/html": [
       "<div>\n",
       "<style scoped>\n",
       "    .dataframe tbody tr th:only-of-type {\n",
       "        vertical-align: middle;\n",
       "    }\n",
       "\n",
       "    .dataframe tbody tr th {\n",
       "        vertical-align: top;\n",
       "    }\n",
       "\n",
       "    .dataframe thead th {\n",
       "        text-align: right;\n",
       "    }\n",
       "</style>\n",
       "<table border=\"1\" class=\"dataframe\">\n",
       "  <thead>\n",
       "    <tr style=\"text-align: right;\">\n",
       "      <th></th>\n",
       "      <th>Company</th>\n",
       "      <th>Id</th>\n",
       "      <th>Reviewer_Id</th>\n",
       "      <th>Title</th>\n",
       "      <th>Review</th>\n",
       "      <th>Date</th>\n",
       "      <th>Rating</th>\n",
       "      <th>Rating_Text</th>\n",
       "    </tr>\n",
       "  </thead>\n",
       "  <tbody>\n",
       "    <tr>\n",
       "      <td>0</td>\n",
       "      <td>Deliveroo</td>\n",
       "      <td>60709f95f85d75087052ff8b</td>\n",
       "      <td>60709f8f0a30fd001b06dc52</td>\n",
       "      <td>Ordered food and apparently the driver…</td>\n",
       "      <td>Ordered food and apparently the driver was wai...</td>\n",
       "      <td>2021-04-09 18:40:00</td>\n",
       "      <td>2</td>\n",
       "      <td>Poor</td>\n",
       "    </tr>\n",
       "    <tr>\n",
       "      <td>1</td>\n",
       "      <td>Deliveroo</td>\n",
       "      <td>60708710f85d75087052c89b</td>\n",
       "      <td>6070870c2158190019b3ab8e</td>\n",
       "      <td>Disgusting Live Customer Service CHAT!!!</td>\n",
       "      <td>I received standard bag of buttons that cost £...</td>\n",
       "      <td>2021-04-09 16:55:00</td>\n",
       "      <td>1</td>\n",
       "      <td>Bad</td>\n",
       "    </tr>\n",
       "  </tbody>\n",
       "</table>\n",
       "</div>"
      ],
      "text/plain": [
       "     Company                        Id               Reviewer_Id  \\\n",
       "0  Deliveroo  60709f95f85d75087052ff8b  60709f8f0a30fd001b06dc52   \n",
       "1  Deliveroo  60708710f85d75087052c89b  6070870c2158190019b3ab8e   \n",
       "\n",
       "                                      Title  \\\n",
       "0   Ordered food and apparently the driver…   \n",
       "1  Disgusting Live Customer Service CHAT!!!   \n",
       "\n",
       "                                              Review                Date  \\\n",
       "0  Ordered food and apparently the driver was wai... 2021-04-09 18:40:00   \n",
       "1  I received standard bag of buttons that cost £... 2021-04-09 16:55:00   \n",
       "\n",
       "   Rating Rating_Text  \n",
       "0       2        Poor  \n",
       "1       1         Bad  "
      ]
     },
     "execution_count": 176,
     "metadata": {},
     "output_type": "execute_result"
    }
   ],
   "source": [
    "reviews_df.head(2)"
   ]
  },
  {
   "cell_type": "markdown",
   "metadata": {},
   "source": [
    "Now we are ready to apply the main data preprocessing tasks that we discussed above. But to do that we have to write the function that are going to be applied in the _Review_ column. Below we can see these functions, which are coming from a custom <a href=\"https://github.com/gpsyrou/Text_Analysis_of_Consumer_Reviews/blob/main/processing/text_processing.py\" style=\"text-decoration: none\">package</a> that we had to develop, which contains functions for the most common text preprocessing tasks for pretty much any NLP project. "
   ]
  },
  {
   "cell_type": "code",
   "execution_count": 177,
   "metadata": {},
   "outputs": [],
   "source": [
    "lemmatizer = WordNetLemmatizer()\n",
    "stemmer = PorterStemmer()"
   ]
  },
  {
   "cell_type": "code",
   "execution_count": 178,
   "metadata": {},
   "outputs": [],
   "source": [
    "punct_ls = list(string.punctuation)\n",
    "punct_ls.extend([2*x for x in list(string.punctuation)])\n",
    "punct_ls.extend([3*x for x in list(string.punctuation)])"
   ]
  },
  {
   "cell_type": "code",
   "execution_count": 179,
   "metadata": {},
   "outputs": [],
   "source": [
    "def remove_stopwords(text: List['str'], stpwds_ls: List['str']) -> List['str']:\n",
    "    return [token for token in text if token not in stpwds_ls]"
   ]
  },
  {
   "cell_type": "code",
   "execution_count": 180,
   "metadata": {},
   "outputs": [],
   "source": [
    "def remove_punctuation(text: List['str'], punct_ls: List['str']) -> List['str']:\n",
    "    return [token for token in text if token not in punct_ls]"
   ]
  },
  {
   "cell_type": "code",
   "execution_count": 181,
   "metadata": {},
   "outputs": [],
   "source": [
    "def remove_numbers(text: List['str']) -> List['str']:\n",
    "    return [token for token in text if not token.isdigit()]"
   ]
  },
  {
   "cell_type": "code",
   "execution_count": 182,
   "metadata": {},
   "outputs": [],
   "source": [
    "def lemmatize(text: List['str'],\n",
    "              pos_type = 'a') -> List['str']:\n",
    "    return [lemmatizer.lemmatize(token, pos=pos_type) for token in text]\n",
    "\n",
    "def stem(text: List['str']) -> List['str']:\n",
    "    return [stemmer.stem(token) for token in text]"
   ]
  },
  {
   "cell_type": "code",
   "execution_count": 183,
   "metadata": {},
   "outputs": [],
   "source": [
    "def tokenize_and_clean(text: str,\n",
    "                       stopwords_ls: List[str],\n",
    "                       stopwords=True,\n",
    "                       punct=True, \n",
    "                       numerics=True) -> List[str]:\n",
    "    \"\"\"\n",
    "    Performs tokenizations and cleaning processes given a document/text.\n",
    "    The function will always tokenize the given text but the cleaning tasks\n",
    "    are optional.\n",
    "    \n",
    "    Parameters\n",
    "    ----------\n",
    "    text: \n",
    "        A document, which can be a word or sentence of arbitrary length.\n",
    "    stopwords: default True\n",
    "        Indicator of removing tokens that are stopwords.\n",
    "    punct: \n",
    "        Indicator of removing tokens that are punctuation marks.\n",
    "    numerics: \n",
    "        Indicator of removing tokens that correspond to numbers.\n",
    "\n",
    "    Returns\n",
    "    --------\n",
    "         A tokenized version of 'text' with the necessary updates depending on\n",
    "         the cleanup steps performed.\n",
    "    \"\"\"\n",
    "    tokenized = word_tokenize(text, language='english')\n",
    "    \n",
    "    tokenized = [token.lower() for token in tokenized]\n",
    "\n",
    "    if punct:\n",
    "        tokenized = remove_punctuation(tokenized, punct_ls=punct_ls)\n",
    "        \n",
    "    if numerics:\n",
    "        tokenized = remove_numbers(tokenized)\n",
    "        \n",
    "    if stopwords:\n",
    "        tokenized = remove_stopwords(tokenized, stpwds_ls=stopwords_ls)\n",
    "\n",
    "    return tokenized"
   ]
  },
  {
   "cell_type": "markdown",
   "metadata": {},
   "source": [
    "Split review in tokens and remove punctuation & stopwords"
   ]
  },
  {
   "cell_type": "code",
   "execution_count": 184,
   "metadata": {},
   "outputs": [],
   "source": [
    "reviews_df['Review_Tokenized'] = reviews_df['Review'].apply(lambda row: tokenize_and_clean(text=row, stopwords_ls=stopwords_ls, numerics=False))"
   ]
  },
  {
   "cell_type": "markdown",
   "metadata": {},
   "source": [
    "Lemmatize the tokens"
   ]
  },
  {
   "cell_type": "code",
   "execution_count": 185,
   "metadata": {},
   "outputs": [],
   "source": [
    "reviews_df['Review_Lemmatized'] = reviews_df['Review_Tokenized'].apply(lambda row: lemmatize(text=row, pos_type='n'))"
   ]
  },
  {
   "cell_type": "code",
   "execution_count": 186,
   "metadata": {},
   "outputs": [],
   "source": [
    "reviews_df['Review_Lemmatized'] = reviews_df['Review_Lemmatized'].apply(lambda row: lemmatize(text=row, pos_type='a'))"
   ]
  },
  {
   "cell_type": "markdown",
   "metadata": {},
   "source": [
    "Some times we need the \"clean\" tokens per document to be a single string. Therefore we are applying the appropriate transformation where we are joining back the clean tokens into a single object."
   ]
  },
  {
   "cell_type": "code",
   "execution_count": 187,
   "metadata": {},
   "outputs": [],
   "source": [
    "reviews_df['Clean_Review_String'] = reviews_df['Review_Lemmatized'].apply(lambda row: ' '.join([x for x in row]))"
   ]
  },
  {
   "cell_type": "code",
   "execution_count": 188,
   "metadata": {},
   "outputs": [
    {
     "data": {
      "text/html": [
       "<div>\n",
       "<style scoped>\n",
       "    .dataframe tbody tr th:only-of-type {\n",
       "        vertical-align: middle;\n",
       "    }\n",
       "\n",
       "    .dataframe tbody tr th {\n",
       "        vertical-align: top;\n",
       "    }\n",
       "\n",
       "    .dataframe thead th {\n",
       "        text-align: right;\n",
       "    }\n",
       "</style>\n",
       "<table border=\"1\" class=\"dataframe\">\n",
       "  <thead>\n",
       "    <tr style=\"text-align: right;\">\n",
       "      <th></th>\n",
       "      <th>Company</th>\n",
       "      <th>Title</th>\n",
       "      <th>Review</th>\n",
       "      <th>Review_Tokenized</th>\n",
       "      <th>Review_Lemmatized</th>\n",
       "      <th>Clean_Review_String</th>\n",
       "    </tr>\n",
       "  </thead>\n",
       "  <tbody>\n",
       "    <tr>\n",
       "      <td>0</td>\n",
       "      <td>Deliveroo</td>\n",
       "      <td>Ordered food and apparently the driver…</td>\n",
       "      <td>Ordered food and apparently the driver was wai...</td>\n",
       "      <td>[ordered, apparently, waiting, 10, mins, stood...</td>\n",
       "      <td>[ordered, apparently, waiting, 10, min, stood,...</td>\n",
       "      <td>ordered apparently waiting 10 min stood outsid...</td>\n",
       "    </tr>\n",
       "    <tr>\n",
       "      <td>1</td>\n",
       "      <td>Deliveroo</td>\n",
       "      <td>Disgusting Live Customer Service CHAT!!!</td>\n",
       "      <td>I received standard bag of buttons that cost £...</td>\n",
       "      <td>[received, standard, bag, buttons, cost, £1.60...</td>\n",
       "      <td>[received, standard, bag, button, cost, £1.60,...</td>\n",
       "      <td>received standard bag button cost £1.60 asked ...</td>\n",
       "    </tr>\n",
       "    <tr>\n",
       "      <td>2</td>\n",
       "      <td>Deliveroo</td>\n",
       "      <td>Just had an appalling experience with…</td>\n",
       "      <td>Just had an appalling experience with delivero...</td>\n",
       "      <td>[appalling, experience, ordered, pizza, £10, d...</td>\n",
       "      <td>[appalling, experience, ordered, pizza, £10, d...</td>\n",
       "      <td>appalling experience ordered pizza £10 discoun...</td>\n",
       "    </tr>\n",
       "    <tr>\n",
       "      <td>3</td>\n",
       "      <td>Deliveroo</td>\n",
       "      <td>The same situation happened twice</td>\n",
       "      <td>The same situation happened twice. I ordered f...</td>\n",
       "      <td>[situation, happened, twice, ordered, around, ...</td>\n",
       "      <td>[situation, happened, twice, ordered, around, ...</td>\n",
       "      <td>situation happened twice ordered around 10 pm ...</td>\n",
       "    </tr>\n",
       "    <tr>\n",
       "      <td>4</td>\n",
       "      <td>Deliveroo</td>\n",
       "      <td>Driver left without giving us food</td>\n",
       "      <td>Driver turned up late couldn’t find us and lef...</td>\n",
       "      <td>[turned, late, find, us, left, awful]</td>\n",
       "      <td>[turned, late, find, u, left, awful]</td>\n",
       "      <td>turned late find u left awful</td>\n",
       "    </tr>\n",
       "  </tbody>\n",
       "</table>\n",
       "</div>"
      ],
      "text/plain": [
       "     Company                                     Title  \\\n",
       "0  Deliveroo   Ordered food and apparently the driver…   \n",
       "1  Deliveroo  Disgusting Live Customer Service CHAT!!!   \n",
       "2  Deliveroo    Just had an appalling experience with…   \n",
       "3  Deliveroo         The same situation happened twice   \n",
       "4  Deliveroo        Driver left without giving us food   \n",
       "\n",
       "                                              Review  \\\n",
       "0  Ordered food and apparently the driver was wai...   \n",
       "1  I received standard bag of buttons that cost £...   \n",
       "2  Just had an appalling experience with delivero...   \n",
       "3  The same situation happened twice. I ordered f...   \n",
       "4  Driver turned up late couldn’t find us and lef...   \n",
       "\n",
       "                                    Review_Tokenized  \\\n",
       "0  [ordered, apparently, waiting, 10, mins, stood...   \n",
       "1  [received, standard, bag, buttons, cost, £1.60...   \n",
       "2  [appalling, experience, ordered, pizza, £10, d...   \n",
       "3  [situation, happened, twice, ordered, around, ...   \n",
       "4              [turned, late, find, us, left, awful]   \n",
       "\n",
       "                                   Review_Lemmatized  \\\n",
       "0  [ordered, apparently, waiting, 10, min, stood,...   \n",
       "1  [received, standard, bag, button, cost, £1.60,...   \n",
       "2  [appalling, experience, ordered, pizza, £10, d...   \n",
       "3  [situation, happened, twice, ordered, around, ...   \n",
       "4               [turned, late, find, u, left, awful]   \n",
       "\n",
       "                                 Clean_Review_String  \n",
       "0  ordered apparently waiting 10 min stood outsid...  \n",
       "1  received standard bag button cost £1.60 asked ...  \n",
       "2  appalling experience ordered pizza £10 discoun...  \n",
       "3  situation happened twice ordered around 10 pm ...  \n",
       "4                      turned late find u left awful  "
      ]
     },
     "execution_count": 188,
     "metadata": {},
     "output_type": "execute_result"
    }
   ],
   "source": [
    "reviews_df[['Company', 'Title', 'Review', 'Review_Tokenized', 'Review_Lemmatized', 'Clean_Review_String']].head(5)"
   ]
  },
  {
   "cell_type": "markdown",
   "metadata": {},
   "source": [
    "We can observe how big is the difference between the initial _Review_ and the final format of the review after the preprocessing tasks, as shown in <em>Review_Merged</em>.\n",
    "\n",
    "<a id=\"eda\"></a>\n",
    "### Exploratory Data Analysis\n",
    "\n",
    "Now that the data are in a better shape, we can start with the main part of this project which is the actual analysis of the reviews. As a first step we are going to perform some exploratory data analysis, mostly by analyzing the data visually. \n",
    "\n",
    "This is an important step for every data analysis project as it will allow us to further familiarize ourselves with the data, as well as make sure that we don't identify any cases that would require further data cleaning and that we might have missed in the initial text preprocessing steps performed in the previous section."
   ]
  },
  {
   "cell_type": "code",
   "execution_count": 189,
   "metadata": {},
   "outputs": [],
   "source": [
    "def most_common_words(input_df: pd.DataFrame,\n",
    "                      text_col: str,\n",
    "                      n_most_common=20):\n",
    "    \"\"\"\n",
    "    Given a collection of documents as text, compute the number of most common\n",
    "    words as defined by n_most_common.\n",
    "    Args:\n",
    "    ------\n",
    "        input_df: Dataframe that contains the relevant text column\n",
    "        text_col: Name of the column\n",
    "        n_most_common: Number of most common words to calculate\n",
    "    Returns:\n",
    "    --------\n",
    "        Pandas dataframe with two columns indicating a word and number\n",
    "        of times (count) that it appears in the original input_df\n",
    "    \"\"\"\n",
    "    word_list = list([x.split() for x in input_df[text_col] if x is not None])\n",
    "    word_counter = Counter(x for xs in word_list for x in set(xs))\n",
    "    word_counter.most_common(n_most_common)\n",
    "\n",
    "    return pd.DataFrame(word_counter.most_common(n_most_common), columns=['word', 'count'])"
   ]
  },
  {
   "cell_type": "code",
   "execution_count": 190,
   "metadata": {},
   "outputs": [],
   "source": [
    "def plot_most_common_words(input_df: pd.DataFrame,\n",
    "                           text_col: str,\n",
    "                           n_most_common=20,\n",
    "                           return_counts=False,\n",
    "                           figsize=(10, 10)) -> None:\n",
    "    \n",
    "    if return_counts:\n",
    "        df = most_common_words(input_df=input_df, text_col=text_col, n_most_common=n_most_common)\n",
    "        display(HTML(df.to_html()))\n",
    "\n",
    "    fig, ax = plt.subplots(figsize=figsize)\n",
    "    common_words_df = most_common_words(input_df=input_df,\n",
    "                                        text_col=text_col,\n",
    "                                        n_most_common=n_most_common)\n",
    "    sns.barplot(x='count', y='word', data=common_words_df).set_title(f'Common Words Found - Overall',\n",
    "                                                                     fontweight='bold')\n",
    "    plt.grid(True, alpha=0.3, linestyle='-', color='black')\n",
    "    plt.show()"
   ]
  },
  {
   "cell_type": "code",
   "execution_count": 191,
   "metadata": {},
   "outputs": [
    {
     "data": {
      "text/html": [
       "<table border=\"1\" class=\"dataframe\">\n",
       "  <thead>\n",
       "    <tr style=\"text-align: right;\">\n",
       "      <th></th>\n",
       "      <th>word</th>\n",
       "      <th>count</th>\n",
       "    </tr>\n",
       "  </thead>\n",
       "  <tbody>\n",
       "    <tr>\n",
       "      <th>0</th>\n",
       "      <td>time</td>\n",
       "      <td>5727</td>\n",
       "    </tr>\n",
       "    <tr>\n",
       "      <th>1</th>\n",
       "      <td>never</td>\n",
       "      <td>5101</td>\n",
       "    </tr>\n",
       "    <tr>\n",
       "      <th>2</th>\n",
       "      <td>ordered</td>\n",
       "      <td>4542</td>\n",
       "    </tr>\n",
       "    <tr>\n",
       "      <th>3</th>\n",
       "      <td>restaurant</td>\n",
       "      <td>3845</td>\n",
       "    </tr>\n",
       "    <tr>\n",
       "      <th>4</th>\n",
       "      <td>would</td>\n",
       "      <td>3781</td>\n",
       "    </tr>\n",
       "    <tr>\n",
       "      <th>5</th>\n",
       "      <td>hour</td>\n",
       "      <td>3762</td>\n",
       "    </tr>\n",
       "    <tr>\n",
       "      <th>6</th>\n",
       "      <td>delivered</td>\n",
       "      <td>3297</td>\n",
       "    </tr>\n",
       "    <tr>\n",
       "      <th>7</th>\n",
       "      <td>money</td>\n",
       "      <td>3272</td>\n",
       "    </tr>\n",
       "    <tr>\n",
       "      <th>8</th>\n",
       "      <td>eats</td>\n",
       "      <td>3213</td>\n",
       "    </tr>\n",
       "    <tr>\n",
       "      <th>9</th>\n",
       "      <td>said</td>\n",
       "      <td>3055</td>\n",
       "    </tr>\n",
       "  </tbody>\n",
       "</table>"
      ],
      "text/plain": [
       "<IPython.core.display.HTML object>"
      ]
     },
     "metadata": {},
     "output_type": "display_data"
    },
    {
     "data": {
      "image/png": "[encoded data removed]",
      "text/plain": [
       "<Figure size 720x720 with 1 Axes>"
      ]
     },
     "metadata": {},
     "output_type": "display_data"
    }
   ],
   "source": [
    "plot_most_common_words(reviews_df, n_most_common=10, text_col='Clean_Review_String', return_counts=True)"
   ]
  },
  {
   "cell_type": "code",
   "execution_count": 192,
   "metadata": {},
   "outputs": [],
   "source": [
    "def plot_wordcloud(input_df: pd.DataFrame,\n",
    "                   text_col: str,\n",
    "                   figsize=(10, 10)) -> None:\n",
    "    \"\"\" Generate a WordCloud plot based on the number of occurenences of words\n",
    "    in a set documents\n",
    "    \"\"\"\n",
    "    plt.figure(figsize=figsize)\n",
    "    combined_text = ' '.join([x for x in input_df[text_col] if x is not None])\n",
    "    wordcloud = WordCloud().generate(combined_text)\n",
    "    plt.imshow(wordcloud, interpolation='bilinear')\n",
    "    plt.axis(\"off\")\n",
    "    plt.show()"
   ]
  },
  {
   "cell_type": "code",
   "execution_count": 193,
   "metadata": {},
   "outputs": [],
   "source": [
    "# plot_wordcloud(reviews_df, text_col='Clean_Review_String')"
   ]
  },
  {
   "cell_type": "markdown",
   "metadata": {},
   "source": [
    "By examining each word separately we are making the assumption that the words (and so their order) do not play any role into the general meaning of the text. Thus, we can go a step further and identify pairs of words (**bigrams**) that tend to appear next to each other."
   ]
  },
  {
   "cell_type": "code",
   "execution_count": 194,
   "metadata": {},
   "outputs": [],
   "source": [
    "def compute_bigrams(input_df: pd.DataFrame,\n",
    "                    text_col: str) -> dict:\n",
    "    \"\"\" Calculate the number of occurences where a pair of words appear next to\n",
    "    each other, and return a dictionary of {pair of words: count}.\n",
    "    \"\"\"\n",
    "    combined_text = ' '.join([x for x in input_df[text_col]])\n",
    "\n",
    "    finder = BigramCollocationFinder.from_words(word_tokenize(combined_text))\n",
    "\n",
    "    bigrams_dict = {}\n",
    "    for k, v in finder.ngram_fd.items():\n",
    "        if len(k[0]) > 1 and len(k[1]) > 1:\n",
    "            bigrams_dict[k] = v\n",
    "        else:\n",
    "            continue\n",
    "    return bigrams_dict"
   ]
  },
  {
   "cell_type": "code",
   "execution_count": 195,
   "metadata": {},
   "outputs": [],
   "source": [
    "def plot_bigrams(input_df: pd.DataFrame,\n",
    "                 text_col: str,\n",
    "                 top_n: int,\n",
    "                 rotation=0.8,\n",
    "                 figsize=(10, 8)) -> None:\n",
    "\n",
    "    bigrams_dict = compute_bigrams(input_df=input_df, text_col=text_col)\n",
    "    bigrams_sorted = sorted(bigrams_dict.items(), key=lambda x: x[1], reverse=True)[0:top_n]\n",
    "    bgram, counts = list(zip(*bigrams_sorted))\n",
    "    bgstring = list(map(lambda txt: '_'.join(txt), bgram))\n",
    "\n",
    "    plt.figure(figsize=figsize)\n",
    "    g = sns.barplot(bgstring, counts, palette='muted')\n",
    "    g.set_xticklabels(g.get_xticklabels(), rotation=rotation)\n",
    "    plt.title(f'Top-{top_n} pairs of words that appear next to each other',\n",
    "              fontweight='bold')\n",
    "    plt.ylabel('Count')\n",
    "    plt.grid(True, alpha=0.1, color='black')\n",
    "    plt.show()"
   ]
  },
  {
   "cell_type": "code",
   "execution_count": 196,
   "metadata": {},
   "outputs": [],
   "source": [
    "bigrams = compute_bigrams(reviews_df, text_col='Clean_Review_String')"
   ]
  },
  {
   "cell_type": "code",
   "execution_count": 197,
   "metadata": {},
   "outputs": [
    {
     "data": {
      "text/html": [
       "<div>\n",
       "<style scoped>\n",
       "    .dataframe tbody tr th:only-of-type {\n",
       "        vertical-align: middle;\n",
       "    }\n",
       "\n",
       "    .dataframe tbody tr th {\n",
       "        vertical-align: top;\n",
       "    }\n",
       "\n",
       "    .dataframe thead th {\n",
       "        text-align: right;\n",
       "    }\n",
       "</style>\n",
       "<table border=\"1\" class=\"dataframe\">\n",
       "  <thead>\n",
       "    <tr style=\"text-align: right;\">\n",
       "      <th></th>\n",
       "      <th>Bigram</th>\n",
       "      <th>Count</th>\n",
       "    </tr>\n",
       "  </thead>\n",
       "  <tbody>\n",
       "    <tr>\n",
       "      <td>0</td>\n",
       "      <td>(missing, item)</td>\n",
       "      <td>781</td>\n",
       "    </tr>\n",
       "    <tr>\n",
       "      <td>1</td>\n",
       "      <td>(money, back)</td>\n",
       "      <td>763</td>\n",
       "    </tr>\n",
       "    <tr>\n",
       "      <td>2</td>\n",
       "      <td>(first, time)</td>\n",
       "      <td>719</td>\n",
       "    </tr>\n",
       "    <tr>\n",
       "      <td>3</td>\n",
       "      <td>(hour, late)</td>\n",
       "      <td>689</td>\n",
       "    </tr>\n",
       "    <tr>\n",
       "      <td>4</td>\n",
       "      <td>(never, arrived)</td>\n",
       "      <td>585</td>\n",
       "    </tr>\n",
       "    <tr>\n",
       "      <td>5</td>\n",
       "      <td>(live, chat)</td>\n",
       "      <td>483</td>\n",
       "    </tr>\n",
       "    <tr>\n",
       "      <td>6</td>\n",
       "      <td>(stone, cold)</td>\n",
       "      <td>462</td>\n",
       "    </tr>\n",
       "    <tr>\n",
       "      <td>7</td>\n",
       "      <td>(said, would)</td>\n",
       "      <td>442</td>\n",
       "    </tr>\n",
       "    <tr>\n",
       "      <td>8</td>\n",
       "      <td>(48, hour)</td>\n",
       "      <td>441</td>\n",
       "    </tr>\n",
       "    <tr>\n",
       "      <td>9</td>\n",
       "      <td>(item, missing)</td>\n",
       "      <td>416</td>\n",
       "    </tr>\n",
       "    <tr>\n",
       "      <td>10</td>\n",
       "      <td>(wrong, address)</td>\n",
       "      <td>392</td>\n",
       "    </tr>\n",
       "    <tr>\n",
       "      <td>11</td>\n",
       "      <td>(bad, ever)</td>\n",
       "      <td>390</td>\n",
       "    </tr>\n",
       "    <tr>\n",
       "      <td>12</td>\n",
       "      <td>(waste, time)</td>\n",
       "      <td>376</td>\n",
       "    </tr>\n",
       "    <tr>\n",
       "      <td>13</td>\n",
       "      <td>(bad, experience)</td>\n",
       "      <td>371</td>\n",
       "    </tr>\n",
       "    <tr>\n",
       "      <td>14</td>\n",
       "      <td>(last, time)</td>\n",
       "      <td>366</td>\n",
       "    </tr>\n",
       "  </tbody>\n",
       "</table>\n",
       "</div>"
      ],
      "text/plain": [
       "               Bigram  Count\n",
       "0     (missing, item)    781\n",
       "1       (money, back)    763\n",
       "2       (first, time)    719\n",
       "3        (hour, late)    689\n",
       "4    (never, arrived)    585\n",
       "5        (live, chat)    483\n",
       "6       (stone, cold)    462\n",
       "7       (said, would)    442\n",
       "8          (48, hour)    441\n",
       "9     (item, missing)    416\n",
       "10   (wrong, address)    392\n",
       "11        (bad, ever)    390\n",
       "12      (waste, time)    376\n",
       "13  (bad, experience)    371\n",
       "14       (last, time)    366"
      ]
     },
     "execution_count": 197,
     "metadata": {},
     "output_type": "execute_result"
    }
   ],
   "source": [
    "pd.DataFrame(sorted(bigrams.items(), key=lambda item: item[1], reverse=True), columns=['Bigram', 'Count']).head(15)"
   ]
  },
  {
   "cell_type": "code",
   "execution_count": 198,
   "metadata": {},
   "outputs": [
    {
     "data": {
      "image/png": "[encoded data removed]",
      "text/plain": [
       "<Figure size 1440x432 with 1 Axes>"
      ]
     },
     "metadata": {},
     "output_type": "display_data"
    }
   ],
   "source": [
    "plot_bigrams(input_df=reviews_df, text_col='Clean_Review_String', top_n=15, rotation=0.0, figsize=(20, 6))"
   ]
  },
  {
   "cell_type": "markdown",
   "metadata": {},
   "source": [
    "From the bigrams plot we can infer that there are 3 main topics in the data:\n",
    "\n",
    "1. Case where order arrived but an item was missing (e.g.\"missing item\")\n",
    "2. Case where items received very late (\"hour late\", \"stone cold\", \"waste time\")\n",
    "3. Case when the order never arrived (\"wrong-adress\", \"never arrived\")\n",
    "    \n",
    "We can also observe that the bigram \"customer service\" appears in the majority of the reviews. This is something expected, as in general reviews in TrustPilot for delivery companies tend to contain reviews about problems that the customers might have faced. \n",
    "\n",
    "Hence, it's regular when a customer facing an issue with their order, to contact the customer service of the company, independently of the nature of the issue (i.e. any of the 3 points we mentioned above). Queries about the customer service might not add a lot of information in the data as they seem to be part around in 1/3 of the total reviews. One option would be to remove these words from our analysis - by adding them in the stopwords list - but for now we will leave this set of words inside our dataset as it might provide us with some useful findings later.\n",
    "\n",
    "In the next section we will finally get into the modelling part of the project. Based on our findings above and by leveraging a well known method for topic modelling (i.e. LDA), we will attempt to identify the different topics that exist inside the reviews."
   ]
  },
  {
   "cell_type": "markdown",
   "metadata": {},
   "source": [
    "<a id=\"lda\"></a>\n",
    "## Latent Dirichlet Allocation (LDA) Model\n",
    "\n",
    "LDA is one of the most - if not the most - common methods/algorithms used for _topic modeling_. We can think of topic modeling as an unsupervised technique where we use when we want to \"classify\" a collection of documents under a predefined amount of topics, _but_ without knowing what these topics are about. Algorithms that fall under this category are usually utilizing the frequencies that words appear in the documents to extract insights and identify clusters of documents that contain similar words. \n",
    "\n",
    "The LDA model attempts to identify these clusters of documents and create the topics by making a few assumptions, such:  \n",
    "\n",
    "    1) Each document is a collection of multiple topics (i.e. one document can belong to many topics at the same time)\n",
    "    2) Each topic is represented by a collection/distribution of words\n",
    "    3) Each document is a distribution of words\n",
    "    \n",
    "Note that in LDA we do not care about the order of the words - hence we can think of LDA as a bag of words model. Intuitively this makes sense, as even if we change the order of words in a document we should still be able to infer what the document might be talking about just by observing the words that are present."
   ]
  },
  {
   "cell_type": "code",
   "execution_count": 199,
   "metadata": {},
   "outputs": [],
   "source": [
    "from sklearn.feature_extraction.text import CountVectorizer\n",
    "from sklearn.decomposition import LatentDirichletAllocation\n",
    "from scipy.sparse.csr import csr_matrix"
   ]
  },
  {
   "cell_type": "code",
   "execution_count": 200,
   "metadata": {},
   "outputs": [],
   "source": [
    "def countvectorizer_to_dict(vectorizer: CountVectorizer,\n",
    "                            matrix: csr_matrix) -> dict:\n",
    "    feature_names = vectorizer.get_feature_names()\n",
    "    counts = np.asarray(matrix.sum(axis=0))[0]\n",
    "    return dict(zip(feature_names, counts))"
   ]
  },
  {
   "cell_type": "code",
   "execution_count": 201,
   "metadata": {},
   "outputs": [],
   "source": [
    "def get_per_topic_wordweights(model,\n",
    "                           feature_names: List[str],\n",
    "                           sort=True):\n",
    "    word_weights_per_topic = []\n",
    "    for i, topic in enumerate(model.components_):\n",
    "        weights = list(zip(feature_names, topic))\n",
    "        if sort:\n",
    "            weights = sorted(weights, key=lambda x: x[1], reverse=True)\n",
    "        word_weights_per_topic.append([i, weights])\n",
    "    return word_weights_per_topic"
   ]
  },
  {
   "cell_type": "code",
   "execution_count": 202,
   "metadata": {},
   "outputs": [],
   "source": [
    "def show_top_words_per_topic(model,\n",
    "                             feature_names: List[str],\n",
    "                             num_top_words: int):\n",
    "    for i in range(0, len(model.components_)):\n",
    "        weights = get_per_topic_wordweights(model, feature_names)[i][1]\n",
    "        print('Topic {0} : {1} \\n'.format(i+1, weights[0:num_top_words]))"
   ]
  },
  {
   "cell_type": "markdown",
   "metadata": {},
   "source": [
    "<a id=\"bigrams_lda\"></a>\n",
    "Compute the bigrams which will be the new tokens:"
   ]
  },
  {
   "cell_type": "code",
   "execution_count": 203,
   "metadata": {},
   "outputs": [],
   "source": [
    "vectorizer = CountVectorizer(max_df=1.0,\n",
    "                             min_df=10,\n",
    "                             max_features=15000,\n",
    "                             ngram_range=(2,2))"
   ]
  },
  {
   "cell_type": "markdown",
   "metadata": {},
   "source": [
    "The above object will help us with creating a sparse matrix where each row is a document and each column is a word.<br>\n",
    "The value under $x_i, y_i$ represents a count of how many times that specific word ($y_i$) appears in that document ($x_i$)."
   ]
  },
  {
   "cell_type": "code",
   "execution_count": 204,
   "metadata": {},
   "outputs": [],
   "source": [
    "cv = vectorizer.fit_transform(reviews_df['Clean_Review_String'])"
   ]
  },
  {
   "cell_type": "code",
   "execution_count": 205,
   "metadata": {},
   "outputs": [
    {
     "data": {
      "text/plain": [
       "(17583, 5922)"
      ]
     },
     "execution_count": 205,
     "metadata": {},
     "output_type": "execute_result"
    }
   ],
   "source": [
    "cv.shape"
   ]
  },
  {
   "cell_type": "code",
   "execution_count": 206,
   "metadata": {},
   "outputs": [],
   "source": [
    "vect_matrix_df = pd.DataFrame(cv.toarray(), columns=vectorizer.get_feature_names())"
   ]
  },
  {
   "cell_type": "code",
   "execution_count": 207,
   "metadata": {},
   "outputs": [],
   "source": [
    "def vect_to_ngrams_col(vector_matrix_df: pd.DataFrame) -> List[List['str']]:\n",
    "    combined_ngrams_ls = []\n",
    "    for i in vect_matrix_df.index:\n",
    "        ngrams_ls = []\n",
    "        for j in list(np.where(vector_matrix_df.iloc[i] != 0)[0]):\n",
    "            ngrams_ls.append(vector_matrix_df.columns[j])\n",
    "        combined_ngrams_ls.append(ngrams_ls)\n",
    "    return combined_ngrams_ls"
   ]
  },
  {
   "cell_type": "code",
   "execution_count": 208,
   "metadata": {},
   "outputs": [],
   "source": [
    "ngrams_gen = vect_to_ngrams_col(vector_matrix_df=vect_matrix_df)"
   ]
  },
  {
   "cell_type": "code",
   "execution_count": 209,
   "metadata": {},
   "outputs": [],
   "source": [
    "reviews_df['Ngrams_combined'] = ngrams_gen"
   ]
  },
  {
   "cell_type": "code",
   "execution_count": 210,
   "metadata": {},
   "outputs": [
    {
     "data": {
      "text/plain": [
       "'ordered apparently waiting 10 min stood outside useless dont bother stick eat'"
      ]
     },
     "execution_count": 210,
     "metadata": {},
     "output_type": "execute_result"
    }
   ],
   "source": [
    "reviews_df.iloc[0]['Clean_Review_String']"
   ]
  },
  {
   "cell_type": "code",
   "execution_count": 232,
   "metadata": {},
   "outputs": [
    {
     "data": {
      "text/plain": [
       "['10 min', 'dont bother', 'stick eat', 'stood outside', 'waiting 10']"
      ]
     },
     "execution_count": 232,
     "metadata": {},
     "output_type": "execute_result"
    }
   ],
   "source": [
    "reviews_df.iloc[0]['Ngrams_combined']"
   ]
  },
  {
   "cell_type": "markdown",
   "metadata": {},
   "source": [
    "Thus, we can see that we have created a matrix which consist of 17583 distinct documents (reviews) and a total of 6144 words. As a reminder, in our project we are working with bigrams, and thus we have create a matrix where each column is a bigram combination.\n",
    "\n",
    "We can better visualize it as follows:"
   ]
  },
  {
   "cell_type": "code",
   "execution_count": 233,
   "metadata": {},
   "outputs": [],
   "source": [
    "word_counts = countvectorizer_to_dict(vectorizer=vectorizer, matrix=cv)"
   ]
  },
  {
   "cell_type": "code",
   "execution_count": 234,
   "metadata": {},
   "outputs": [
    {
     "data": {
      "text/html": [
       "<div>\n",
       "<style scoped>\n",
       "    .dataframe tbody tr th:only-of-type {\n",
       "        vertical-align: middle;\n",
       "    }\n",
       "\n",
       "    .dataframe tbody tr th {\n",
       "        vertical-align: top;\n",
       "    }\n",
       "\n",
       "    .dataframe thead th {\n",
       "        text-align: right;\n",
       "    }\n",
       "</style>\n",
       "<table border=\"1\" class=\"dataframe\">\n",
       "  <thead>\n",
       "    <tr style=\"text-align: right;\">\n",
       "      <th></th>\n",
       "      <th>Bigram</th>\n",
       "      <th>Count</th>\n",
       "    </tr>\n",
       "  </thead>\n",
       "  <tbody>\n",
       "    <tr>\n",
       "      <td>0</td>\n",
       "      <td>missing item</td>\n",
       "      <td>802</td>\n",
       "    </tr>\n",
       "    <tr>\n",
       "      <td>1</td>\n",
       "      <td>money back</td>\n",
       "      <td>799</td>\n",
       "    </tr>\n",
       "    <tr>\n",
       "      <td>2</td>\n",
       "      <td>first time</td>\n",
       "      <td>735</td>\n",
       "    </tr>\n",
       "    <tr>\n",
       "      <td>3</td>\n",
       "      <td>hour late</td>\n",
       "      <td>694</td>\n",
       "    </tr>\n",
       "    <tr>\n",
       "      <td>4</td>\n",
       "      <td>never arrived</td>\n",
       "      <td>602</td>\n",
       "    </tr>\n",
       "    <tr>\n",
       "      <td>5</td>\n",
       "      <td>live chat</td>\n",
       "      <td>493</td>\n",
       "    </tr>\n",
       "    <tr>\n",
       "      <td>6</td>\n",
       "      <td>stone cold</td>\n",
       "      <td>482</td>\n",
       "    </tr>\n",
       "    <tr>\n",
       "      <td>7</td>\n",
       "      <td>48 hour</td>\n",
       "      <td>462</td>\n",
       "    </tr>\n",
       "    <tr>\n",
       "      <td>8</td>\n",
       "      <td>said would</td>\n",
       "      <td>444</td>\n",
       "    </tr>\n",
       "    <tr>\n",
       "      <td>9</td>\n",
       "      <td>item missing</td>\n",
       "      <td>423</td>\n",
       "    </tr>\n",
       "    <tr>\n",
       "      <td>10</td>\n",
       "      <td>wrong address</td>\n",
       "      <td>398</td>\n",
       "    </tr>\n",
       "    <tr>\n",
       "      <td>11</td>\n",
       "      <td>bad ever</td>\n",
       "      <td>397</td>\n",
       "    </tr>\n",
       "    <tr>\n",
       "      <td>12</td>\n",
       "      <td>last time</td>\n",
       "      <td>395</td>\n",
       "    </tr>\n",
       "    <tr>\n",
       "      <td>13</td>\n",
       "      <td>waste time</td>\n",
       "      <td>386</td>\n",
       "    </tr>\n",
       "    <tr>\n",
       "      <td>14</td>\n",
       "      <td>bad experience</td>\n",
       "      <td>377</td>\n",
       "    </tr>\n",
       "  </tbody>\n",
       "</table>\n",
       "</div>"
      ],
      "text/plain": [
       "            Bigram  Count\n",
       "0     missing item    802\n",
       "1       money back    799\n",
       "2       first time    735\n",
       "3        hour late    694\n",
       "4    never arrived    602\n",
       "5        live chat    493\n",
       "6       stone cold    482\n",
       "7          48 hour    462\n",
       "8       said would    444\n",
       "9     item missing    423\n",
       "10   wrong address    398\n",
       "11        bad ever    397\n",
       "12       last time    395\n",
       "13      waste time    386\n",
       "14  bad experience    377"
      ]
     },
     "execution_count": 234,
     "metadata": {},
     "output_type": "execute_result"
    }
   ],
   "source": [
    "pd.DataFrame(sorted(word_counts.items(), key=lambda item: item[1], reverse=True), columns=['Bigram', 'Count']).head(15)"
   ]
  },
  {
   "cell_type": "markdown",
   "metadata": {},
   "source": [
    "Latent Dirichlet Allocation model requires the number of topics as an input from the user. As we saw above, seems like the reviews are splitted into 3 categories.\n",
    "Therefore, we are going to set this parameter to 3 and attempt to identify these topics in the reviews."
   ]
  },
  {
   "cell_type": "code",
   "execution_count": 235,
   "metadata": {},
   "outputs": [],
   "source": [
    "number_of_topics = 4"
   ]
  },
  {
   "cell_type": "code",
   "execution_count": 236,
   "metadata": {},
   "outputs": [],
   "source": [
    "lda_model = LatentDirichletAllocation(n_components=number_of_topics,\n",
    "                                      max_iter=30,\n",
    "                                      random_state=10,\n",
    "                                      n_jobs=-1,\n",
    "                                      verbose=0)"
   ]
  },
  {
   "cell_type": "code",
   "execution_count": 237,
   "metadata": {},
   "outputs": [
    {
     "data": {
      "text/plain": [
       "LatentDirichletAllocation(batch_size=128, doc_topic_prior=None,\n",
       "                          evaluate_every=-1, learning_decay=0.7,\n",
       "                          learning_method='batch', learning_offset=10.0,\n",
       "                          max_doc_update_iter=100, max_iter=30,\n",
       "                          mean_change_tol=0.001, n_components=4, n_jobs=-1,\n",
       "                          perp_tol=0.1, random_state=10, topic_word_prior=None,\n",
       "                          total_samples=1000000.0, verbose=0)"
      ]
     },
     "execution_count": 237,
     "metadata": {},
     "output_type": "execute_result"
    }
   ],
   "source": [
    "lda_model.fit(cv)"
   ]
  },
  {
   "cell_type": "code",
   "execution_count": 238,
   "metadata": {},
   "outputs": [
    {
     "data": {
      "text/plain": [
       "(4, 5922, 5922, 5922)"
      ]
     },
     "execution_count": 238,
     "metadata": {},
     "output_type": "execute_result"
    }
   ],
   "source": [
    "len(lda_model.components_), len(lda_model.components_[0]), len(lda_model.components_[1]), len(lda_model.components_[2])"
   ]
  },
  {
   "cell_type": "markdown",
   "metadata": {},
   "source": [
    "We can see the weight (parameter) of each word for a specific topic, as follows:"
   ]
  },
  {
   "cell_type": "code",
   "execution_count": 239,
   "metadata": {},
   "outputs": [
    {
     "data": {
      "text/plain": [
       "array([ 2.84263915, 11.86814022,  0.27884212, ...,  0.25818417,\n",
       "       16.51219024,  0.26283433])"
      ]
     },
     "execution_count": 239,
     "metadata": {},
     "output_type": "execute_result"
    }
   ],
   "source": [
    "lda_model.components_[0]"
   ]
  },
  {
   "cell_type": "markdown",
   "metadata": {},
   "source": [
    "The above can be interpreted as a pseudocount of the number of times that word (bigram) $x_i$ was assigned to document topic $z_i$. Hence, the first case in the example we have a pseudocount of 2.84263915 for word $x_1$ on topic 0 (which is the first topic)."
   ]
  },
  {
   "cell_type": "code",
   "execution_count": 240,
   "metadata": {},
   "outputs": [],
   "source": [
    "topic_weights = get_per_topic_wordweights(lda_model,\n",
    "                                          feature_names=vectorizer.get_feature_names(),\n",
    "                                          sort=True)"
   ]
  },
  {
   "cell_type": "code",
   "execution_count": 241,
   "metadata": {},
   "outputs": [
    {
     "data": {
      "text/plain": [
       "[('hour late', 413.6668891079851),\n",
       " ('promo code', 356.2149931891183),\n",
       " ('minute late', 355.2319151217891),\n",
       " ('10 minute', 317.2319891679482),\n",
       " ('20 minute', 294.22350883833286)]"
      ]
     },
     "execution_count": 241,
     "metadata": {},
     "output_type": "execute_result"
    }
   ],
   "source": [
    "# This corresponds to topic 0, and the top 5 bigrams accounting for this topic\n",
    "topic_weights[0][1][0:5]  # [1] is a positional index and should remain same independently of the document"
   ]
  },
  {
   "cell_type": "code",
   "execution_count": 242,
   "metadata": {},
   "outputs": [
    {
     "name": "stdout",
     "output_type": "stream",
     "text": [
      "Topic 1 : [('hour late', 413.6668891079851), ('promo code', 356.2149931891183), ('minute late', 355.2319151217891), ('10 minute', 317.2319891679482), ('20 minute', 294.22350883833286), ('30 minute', 268.22908996877663), ('said would', 223.19021621962213), ('phone call', 221.4044068907984), ('45 minute', 201.22677165768292), ('15 minute', 200.231132408087), ('30 min', 199.22187870033176), ('phone number', 197.7604876884428), ('40 minute', 195.22362096483357), ('half hour', 179.10356367259573), ('told would', 171.98577501447122)] \n",
      "\n",
      "Topic 2 : [('money back', 652.1227963996245), ('never arrived', 602.2260641972555), ('wrong address', 398.1514285612334), ('48 hour', 333.8357886282211), ('never received', 273.72257149025415), ('live chat', 255.16223687908985), ('marked delivered', 244.23235915016727), ('said delivered', 239.34493705672173), ('delivered wrong', 233.68271296623786), ('said would', 218.18793271840403), ('go wrong', 211.21943418245297), ('never delivered', 193.2283284100353), ('restaurant said', 192.41610500255567), ('waited hour', 189.7191251790619), ('called restaurant', 180.52672510159042)] \n",
      "\n",
      "Topic 3 : [('missing item', 612.0513440634166), ('stone cold', 372.17116634132543), ('waste time', 227.55421310176675), ('avoid cost', 219.20987105376165), ('arrived cold', 135.3712466400708), ('item missing', 128.95773147349718), ('48 hour', 128.64534514587118), ('phone number', 118.70875424206498), ('automated response', 118.6426698945032), ('waste money', 110.35322099806491), ('support team', 103.5401241102442), ('ice cream', 96.22757703726417), ('let know', 95.84718339410044), ('via app', 94.9860615603428), ('someone else', 88.30141994182725)] \n",
      "\n",
      "Topic 4 : [('first time', 463.3825251577285), ('bad experience', 343.8577055708631), ('last time', 315.009720038095), ('bad ever', 297.8519523970353), ('item missing', 294.531324596872), ('every time', 248.64849162632507), ('second time', 236.47413468593558), ('bad company', 226.21948112010284), ('credit card', 215.21111524268517), ('discount code', 193.23644632010664), ('missing item', 190.43864494155628), ('never ever', 179.02417431351304), ('late cold', 162.26670360509488), ('time ordered', 161.83875188610176), ('many time', 154.01365320117327)] \n",
      "\n"
     ]
    }
   ],
   "source": [
    "show_top_words_per_topic(lda_model, feature_names=vectorizer.get_feature_names(), num_top_words=15)"
   ]
  },
  {
   "cell_type": "markdown",
   "metadata": {},
   "source": [
    "Therefore we can see that the algorithm has identified the following 4 topics:\n",
    "\n",
    "- Topic 1: This topic consists of reviews where the order took a significant amount to be completed \n",
    "- Topic 2: This appears to be the topic arround orders that were never arrived to their destination \n",
    "- Topic 3: Cases where an item was missing from the order \n",
    "- Topic 4: Orders where there was an issue with discounts/pricing"
   ]
  },
  {
   "cell_type": "code",
   "execution_count": 243,
   "metadata": {},
   "outputs": [],
   "source": [
    "topic_to_review_distribution = lda_model.transform(cv)"
   ]
  },
  {
   "cell_type": "code",
   "execution_count": 244,
   "metadata": {},
   "outputs": [],
   "source": [
    "def assign_topic(topic_probs: List[float], threshold=0.65) -> int:\n",
    "    \"\"\" Assign a topic to a review based on the topic with the highest probability.\n",
    "    If no topic probability exceeds threshold, no assignment is being completed.\n",
    "    \"\"\"\n",
    "    max_likelihood = np.max(topic_probs)\n",
    "    if threshold <= max_likelihood:\n",
    "        max_topic_idx = np.argmax(topic_probs)\n",
    "        if max_topic_idx==0:\n",
    "            max_topic_idx = 1\n",
    "        else:\n",
    "            max_topic_idx += 1\n",
    "        return max_topic_idx\n",
    "    else:\n",
    "        return 0"
   ]
  },
  {
   "cell_type": "code",
   "execution_count": 245,
   "metadata": {},
   "outputs": [],
   "source": [
    "topics_map = {0: 'Indecisive',\n",
    "              1: 'Delayed Order',\n",
    "              2: 'Order Never Arrived',\n",
    "              3: 'Missing/Wrong Item',\n",
    "              4: 'Discount/Pricing Issue'}"
   ]
  },
  {
   "cell_type": "code",
   "execution_count": 246,
   "metadata": {},
   "outputs": [],
   "source": [
    "reviews_df['Topic_Likelihood'] = topic_to_review_distribution.tolist()"
   ]
  },
  {
   "cell_type": "code",
   "execution_count": 247,
   "metadata": {},
   "outputs": [],
   "source": [
    "reviews_df['Topic_Num'] = reviews_df['Topic_Likelihood'].apply(lambda row: assign_topic(row, threshold=0.60))"
   ]
  },
  {
   "cell_type": "code",
   "execution_count": 248,
   "metadata": {},
   "outputs": [],
   "source": [
    "reviews_df['Topic'] = reviews_df['Topic_Num'].apply(lambda row: topics_map[row])"
   ]
  },
  {
   "cell_type": "code",
   "execution_count": 249,
   "metadata": {},
   "outputs": [
    {
     "name": "stdout",
     "output_type": "stream",
     "text": [
      "                                                                                                Review  \\\n",
      "0  Ordered food and apparently the driver was waiting for 10 mins to deliver the food even though I...   \n",
      "1  I received standard bag of buttons that cost £1.60 but I asked for share bags at £2.85 so I've b...   \n",
      "2  Just had an appalling experience with deliveroo. Had ordered a pizza with a £10 discount code th...   \n",
      "3  The same situation happened twice. I ordered food around 10 pm and been waiting for the food for...   \n",
      "4                                               Driver turned up late couldn’t find us and left. Awful   \n",
      "\n",
      "                Topic  Topic_Num  \n",
      "0          Indecisive          0  \n",
      "1          Indecisive          0  \n",
      "2          Indecisive          0  \n",
      "3          Indecisive          0  \n",
      "4  Missing/Wrong Item          3  \n"
     ]
    }
   ],
   "source": [
    "with pd.option_context('display.max_colwidth', 100):\n",
    "    print(reviews_df[['Review', 'Topic', 'Topic_Num']].head(5))"
   ]
  },
  {
   "cell_type": "code",
   "execution_count": 250,
   "metadata": {},
   "outputs": [],
   "source": [
    "def get_review_summary(input_df: pd.DataFrame,\n",
    "                       rev_idx: int,\n",
    "                       topics_map=topics_map):\n",
    "    \n",
    "    print('\\x1b[1;30m' + 'Review: ' + '\\x1b[0m' + input_df['Review'].iloc[rev_idx] + '\\n')\n",
    "    print('\\x1b[1;30m' + 'Predicted Topic: ' + '\\x1b[0m' + input_df['Topic'].iloc[rev_idx] + '\\n')\n",
    "    print(input_df['Topic_Likelihood'].iloc[rev_idx])\n",
    "    \n",
    "    topic_to_likelihood = list(zip(list(topics_map.keys()),\n",
    "                                   list(topics_map.values()),\n",
    "                                   [0.0] + input_df['Topic_Likelihood'].iloc[rev_idx]))\n",
    "    l_df = pd.DataFrame(topic_to_likelihood, columns = ['Topic_Num', 'Topic', 'Likelihood'])\n",
    "    \n",
    "    plt.figure(figsize=(12, 6))\n",
    "    sns.barplot(x='Topic', y='Likelihood', data=l_df)\n",
    "    plt.ylim(0, 1.0)\n",
    "    plt.grid(True, alpha=0.2, linestyle='-', color='black')\n",
    "    plt.show()"
   ]
  },
  {
   "cell_type": "markdown",
   "metadata": {},
   "source": [
    "We can visualize the results for a few random cases:"
   ]
  },
  {
   "cell_type": "code",
   "execution_count": 251,
   "metadata": {},
   "outputs": [
    {
     "name": "stdout",
     "output_type": "stream",
     "text": [
      "\u001b[1;30mReview: \u001b[0mWe ordered our food and have now waited 45 mins for our delivery to arrive,(it's going to be over an hour when it finally arrives) we even called the restaurant and was told our order was sitting ready but with no drivers to pick it up. Really disappointed is the service of deliveroo, no-one answered the phone or spoke to us on the live chat.\n",
      "\n",
      "\u001b[1;30mPredicted Topic: \u001b[0mDelayed Order\n",
      "\n",
      "[0.6736346398695061, 0.29088245729005074, 0.017909264383437873, 0.017573638457005426]\n"
     ]
    },
    {
     "data": {
      "image/png": "[encoded data removed]",
      "text/plain": [
       "<Figure size 864x432 with 1 Axes>"
      ]
     },
     "metadata": {},
     "output_type": "display_data"
    }
   ],
   "source": [
    "get_review_summary(input_df=reviews_df, rev_idx=200, topics_map=topics_map)"
   ]
  },
  {
   "cell_type": "code",
   "execution_count": 256,
   "metadata": {},
   "outputs": [
    {
     "name": "stdout",
     "output_type": "stream",
     "text": [
      "\u001b[1;30mReview: \u001b[0mWorst customer service ever, I wish There was an option for no star. they charge you for the things you don’t receive and they take your promotion money off for their selves after.Not a helpful customer service.\n",
      "\n",
      "\u001b[1;30mPredicted Topic: \u001b[0mDiscount/Pricing Issue\n",
      "\n",
      "[0.12500090307024433, 0.12808026263381267, 0.12500070975492783, 0.6219181245410151]\n"
     ]
    },
    {
     "data": {
      "image/png": "[encoded data removed]",
      "text/plain": [
       "<Figure size 864x432 with 1 Axes>"
      ]
     },
     "metadata": {},
     "output_type": "display_data"
    }
   ],
   "source": [
    "get_review_summary(input_df=reviews_df, rev_idx=5432, topics_map=topics_map)"
   ]
  },
  {
   "cell_type": "code",
   "execution_count": 140,
   "metadata": {},
   "outputs": [
    {
     "name": "stdout",
     "output_type": "stream",
     "text": [
      "\u001b[1;30mReview: \u001b[0mAbsolutely awful the online chat is the worst stole my money as I did not get my delivery will not refund it. Have no complaint procedure unable to escalate only through the email address. I will be going to the CAB.Use Uber eats or just eat\n",
      "\n",
      "\u001b[1;30mPredicted Topic: \u001b[0mOrder Never Arrived\n",
      "\n",
      "[0.037367379190686556, 0.8859433299032988, 0.03663767797513837, 0.040051612930876224]\n"
     ]
    },
    {
     "data": {
      "image/png": "[encoded data removed]",
      "text/plain": [
       "<Figure size 864x432 with 1 Axes>"
      ]
     },
     "metadata": {},
     "output_type": "display_data"
    }
   ],
   "source": [
    "get_review_summary(input_df=reviews_df, rev_idx=1291, topics_map=topics_map)"
   ]
  },
  {
   "cell_type": "markdown",
   "metadata": {},
   "source": [
    "#### LDA Implementiation with gensim"
   ]
  },
  {
   "cell_type": "code",
   "execution_count": 257,
   "metadata": {},
   "outputs": [],
   "source": [
    "rev = list(reviews_df['Ngrams_combined'])"
   ]
  },
  {
   "cell_type": "code",
   "execution_count": 258,
   "metadata": {},
   "outputs": [],
   "source": [
    "from gensim import corpora, models"
   ]
  },
  {
   "cell_type": "code",
   "execution_count": 259,
   "metadata": {},
   "outputs": [],
   "source": [
    "dictionary_LDA = corpora.Dictionary(rev)\n",
    "dictionary_LDA.filter_extremes(no_below=3)\n",
    "corpus = [dictionary_LDA.doc2bow(list_of_tokens) for list_of_tokens in rev]"
   ]
  },
  {
   "cell_type": "code",
   "execution_count": 260,
   "metadata": {},
   "outputs": [],
   "source": [
    "num_topics = 4"
   ]
  },
  {
   "cell_type": "code",
   "execution_count": 261,
   "metadata": {},
   "outputs": [],
   "source": [
    "lda_model = models.LdaModel(corpus,\n",
    "                            num_topics=num_topics,\n",
    "                            id2word=dictionary_LDA,\n",
    "                            passes=4,\n",
    "                            alpha=[0.01]*num_topics,\n",
    "                            eta=[0.01]*len(dictionary_LDA.keys()))"
   ]
  },
  {
   "cell_type": "code",
   "execution_count": 262,
   "metadata": {},
   "outputs": [
    {
     "name": "stdout",
     "output_type": "stream",
     "text": [
      "0: 0.007*\"money back\" + 0.006*\"missing item\" + 0.005*\"phone number\" + 0.004*\"someone else\" + 0.004*\"many time\" + 0.004*\"every time\" + 0.004*\"bad experience\" + 0.004*\"never received\" + 0.004*\"way contact\" + 0.003*\"48 hour\" + 0.003*\"support team\" + 0.003*\"never using\" + 0.003*\"every single\" + 0.003*\"promo code\" + 0.003*\"code work\"\n",
      "\n",
      "1: 0.008*\"first time\" + 0.008*\"money back\" + 0.007*\"missing item\" + 0.007*\"never arrived\" + 0.006*\"bad company\" + 0.006*\"item missing\" + 0.005*\"waste time\" + 0.005*\"go wrong\" + 0.005*\"company ever\" + 0.004*\"called restaurant\" + 0.004*\"live chat\" + 0.004*\"never received\" + 0.004*\"take money\" + 0.003*\"still charged\" + 0.003*\"promo code\"\n",
      "\n",
      "2: 0.013*\"stone cold\" + 0.008*\"bad experience\" + 0.008*\"bad ever\" + 0.007*\"last time\" + 0.006*\"first time\" + 0.006*\"minute late\" + 0.005*\"30 minute\" + 0.005*\"never eats\" + 0.005*\"45 minute\" + 0.005*\"20 minute\" + 0.004*\"40 minute\" + 0.004*\"15 minute\" + 0.004*\"star would\" + 0.004*\"missing item\" + 0.004*\"second time\"\n",
      "\n",
      "3: 0.012*\"hour late\" + 0.006*\"money back\" + 0.006*\"48 hour\" + 0.006*\"said would\" + 0.006*\"told would\" + 0.005*\"wrong address\" + 0.005*\"delivered wrong\" + 0.005*\"half hour\" + 0.005*\"still waiting\" + 0.005*\"minute late\" + 0.004*\"using eats\" + 0.004*\"said delivered\" + 0.004*\"live chat\" + 0.004*\"first time\" + 0.004*\"never arrived\"\n",
      "\n"
     ]
    }
   ],
   "source": [
    "for i,topic in lda_model.show_topics(formatted=True, num_topics=num_topics, num_words=15):\n",
    "    print(str(i)+\": \"+ topic)\n",
    "    print()"
   ]
  },
  {
   "cell_type": "code",
   "execution_count": 263,
   "metadata": {},
   "outputs": [
    {
     "data": {
      "text/plain": [
       "[(2, 0.99503195)]"
      ]
     },
     "execution_count": 263,
     "metadata": {},
     "output_type": "execute_result"
    }
   ],
   "source": [
    "lda_model[corpus[6]]"
   ]
  },
  {
   "cell_type": "code",
   "execution_count": 264,
   "metadata": {},
   "outputs": [
    {
     "ename": "ModuleNotFoundError",
     "evalue": "No module named 'pyLDAvis'",
     "output_type": "error",
     "traceback": [
      "\u001b[0;31m---------------------------------------------------------------------------\u001b[0m",
      "\u001b[0;31mModuleNotFoundError\u001b[0m                       Traceback (most recent call last)",
      "\u001b[0;32m<ipython-input-264-ed57e9a9b1fa>\u001b[0m in \u001b[0;36m<module>\u001b[0;34m\u001b[0m\n\u001b[1;32m      1\u001b[0m \u001b[0mget_ipython\u001b[0m\u001b[0;34m(\u001b[0m\u001b[0;34m)\u001b[0m\u001b[0;34m.\u001b[0m\u001b[0mrun_line_magic\u001b[0m\u001b[0;34m(\u001b[0m\u001b[0;34m'matplotlib'\u001b[0m\u001b[0;34m,\u001b[0m \u001b[0;34m'inline'\u001b[0m\u001b[0;34m)\u001b[0m\u001b[0;34m\u001b[0m\u001b[0;34m\u001b[0m\u001b[0m\n\u001b[1;32m      2\u001b[0m \u001b[0;34m\u001b[0m\u001b[0m\n\u001b[0;32m----> 3\u001b[0;31m \u001b[0;32mimport\u001b[0m \u001b[0mpyLDAvis\u001b[0m\u001b[0;34m\u001b[0m\u001b[0;34m\u001b[0m\u001b[0m\n\u001b[0m\u001b[1;32m      4\u001b[0m \u001b[0;32mimport\u001b[0m \u001b[0mpyLDAvis\u001b[0m\u001b[0;34m.\u001b[0m\u001b[0mgensim\u001b[0m\u001b[0;34m\u001b[0m\u001b[0;34m\u001b[0m\u001b[0m\n\u001b[1;32m      5\u001b[0m \u001b[0;34m\u001b[0m\u001b[0m\n",
      "\u001b[0;31mModuleNotFoundError\u001b[0m: No module named 'pyLDAvis'"
     ]
    }
   ],
   "source": [
    "%matplotlib inline\n",
    "\n",
    "import pyLDAvis\n",
    "import pyLDAvis.gensim\n",
    "\n",
    "vis = pyLDAvis.gensim.prepare(topic_model=lda_model, corpus=corpus, dictionary=dictionary_LDA)\n",
    "pyLDAvis.enable_notebook()\n",
    "pyLDAvis.display(vis)"
   ]
  }
 ],
 "metadata": {
  "kernelspec": {
   "display_name": "Python 3",
   "language": "python",
   "name": "python3"
  },
  "language_info": {
   "codemirror_mode": {
    "name": "ipython",
    "version": 3
   },
   "file_extension": ".py",
   "mimetype": "text/x-python",
   "name": "python",
   "nbconvert_exporter": "python",
   "pygments_lexer": "ipython3",
   "version": "3.7.4"
  }
 },
 "nbformat": 4,
 "nbformat_minor": 2
}
