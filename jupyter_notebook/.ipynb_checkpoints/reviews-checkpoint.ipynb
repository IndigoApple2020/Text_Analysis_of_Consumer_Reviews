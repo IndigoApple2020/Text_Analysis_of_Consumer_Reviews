{
 "cells": [
  {
   "cell_type": "markdown",
   "metadata": {},
   "source": [
    "# Latent Dirichlet Allocation for Topic Modelling on Customer Reviews: The case of UK Delivery Companies \n",
    "\n",
    "**Author: Georgios Spyrou (https://github.com/gpsyrou)**\n",
    "\n",
    "_Last Update: 25/06/2021_\n",
    "\n",
    "<img src=\"../img/projectimage.png\" alt=\"Sentiment Picture\" width=\"820\" height=\"640\">\n",
    "\n",
    "### Sections\n",
    "- <a href=\"#project_idea\" style=\"text-decoration: none\"> Project Description</a>\n",
    "- <a href=\"#data_retrieval\" style=\"text-decoration: none\"> Web-Scrapping Tool and Data Retrieval</a>\n",
    "- <a href=\"#data_cleaning_eda\" style=\"text-decoration: none\"> Data Cleaning & Initial Exploratory Data Analysis (EDA)</a>\n",
    "    - <a href=\"#data_preprocessing\" style=\"text-decoration: none\"> Data Preprocessing </a>\n",
    "    - <a href=\"#eda\" style=\"text-decoration: none\"> Exploratory Data Analysis </a>\n",
    "- <a href=\"#lda\" style=\"text-decoration: none\"> Latent Dirichlet Allocation model </a>\n",
    "    - <a href=\"#bigrams_lda\" style=\"text-decoration: none\"> Compute bigrams as LDA input </a>"
   ]
  },
  {
   "cell_type": "markdown",
   "metadata": {},
   "source": [
    "<a id='project_idea'></a>\n",
    "### Introduction\n",
    "\n",
    "In this project we are going to explore the world of logistic companies and the issues that they might be facing. Specifically, we are going to focus on analyzing data regarding a few of the most well-known delivery companies in the UK, namely <a href=\"https://en.wikipedia.org/wiki/Deliveroo\" style=\"text-decoration:none\"> Deliveroo</a>, <a href=\"https://en.wikipedia.org/wiki/UberEats\" style=\"text-decoration:none\"> UberEats</a>, <a href=\"https://en.wikipedia.org/wiki/Just_Eat\" style=\"text-decoration:none\"> Just Eat</a> and <a href=\"https://stuart.com/\" style=\"text-decoration:none\"> Stuart</a>. To do that we are going to utilize the internet and the reviews that we can find in many different platforms, especially these platforms that are specializing at collecting reviews and opininions of customers for a plethora of companies and services. \n",
    "\n",
    "The first iteration of this project it's using the reviews that can be found in the famous consumer review website <a href=\"https://en.wikipedia.org/wiki/Trustpilot\" style=\"text-decoration:none\"> TrustPilot</a>. Even though the website is already providing some API functionalities, we are going to write our own web-scraping tool to retrieve the data in the format that we want. We will attempt to collect as many reviews as possible and then use them to identify interesting findings in the text. For example, we will try to identify what is the sentiment across all reviews for a specific company, what are the most common words and bigrams (i.e. pairs of words that tend to appear next to each other) in the reviews, and more. Finally, we will implement a <a href=\"https://en.wikipedia.org/wiki/Latent_Dirichlet_allocation\" style=\"text-decoration:none\"> Latent Dirichlet Allocation</a> model to try and identify what are the topics that these reviews correspond to.\n",
    "\n",
    "\n",
    "We are going to discuss the specifics in more depth as we are going through the different parts of the project. As a starting point of course, we need to collect the relevant reviews for the aforementioned group of delivery companies.\n",
    "\n",
    "<a id='data_retrieval'></a>\n",
    "### Web-Scrapping Tool and Data Retrieval\n",
    "\n",
    "In order to collect the reviews directly from the TrustPilot website, we have created a web-scrapping tool that allowed us to automate this process across different companies & their corresponding reviews. This tool is iterating across different pages of the website and collects the reviews and any other relevant information, with the output being stored in csv files. Moreover, we have packaged the tool into a python library. Hence, if you are thinking of working on a similar project where you need to retrieve data from TrustPilot, you can install the package that you can find <a href=\"https://github.com/gpsyrou/Text_Analysis_of_Consumer_Reviews/blob/main/trustplt.py\" style=\"text-decoration:none\">here</a>. As of May 2021, the package contains the main functionalities to collect many different information from the website, like the reviews, reviewer_id, date of the review, user rating, and more. \n",
    "\n",
    "For the first iteration of the project, we have built the aforementioned package with the functionality to retrieve the following information - which will also be the features in our dataset:\n",
    "\n",
    "1. **Company**: Name of the Company that we are examining (e.g. Deliveroo, UberEats, JustEat, Stuart)\n",
    "2. **Id**: The unique identifier for the Review\n",
    "3. **Reviewer_Id**: Unique id for a reviewer/user\n",
    "4. **Title**: Title of the review\n",
    "5. **Review**: The text corresponding to the review submitted from the reviewer\n",
    "6. **Date**: Day of review submission\n",
    "7. **Rating**: The rating about the company, as submitted from the reviewer\n",
    "\n",
    "Thus, after collecting the data and save them in a CSV format, we can by having a first look at the data and familiarize ourselves with the features. "
   ]
  },
  {
   "cell_type": "code",
   "execution_count": 101,
   "metadata": {},
   "outputs": [],
   "source": [
    "import os\n",
    "import string\n",
    "import numpy as np\n",
    "import pandas as pd\n",
    "from typing import List\n",
    "from collections import Counter\n",
    "\n",
    "import seaborn as sns\n",
    "sns.set_style('dark')\n",
    "\n",
    "import matplotlib.pyplot as plt\n",
    "from wordcloud import WordCloud\n",
    "\n",
    "from nltk import word_tokenize\n",
    "from nltk.util import ngrams\n",
    "from nltk.corpus import stopwords\n",
    "from nltk.collocations import BigramCollocationFinder\n",
    "from nltk.stem import WordNetLemmatizer, PorterStemmer\n",
    "\n",
    "from IPython.display import display, HTML\n",
    "\n",
    "project_dir = r'D:\\GitHub\\Projects\\Analysis_of_Delivery_Companies_Reviews'\n",
    "os.chdir(project_dir)\n",
    "\n",
    "from helpers.utilities import split_ratings_col, get_ratings_mapping"
   ]
  },
  {
   "cell_type": "code",
   "execution_count": 102,
   "metadata": {},
   "outputs": [],
   "source": [
    "reviews_base_file = os.path.join(project_dir, 'reviews.csv')"
   ]
  },
  {
   "cell_type": "code",
   "execution_count": 103,
   "metadata": {},
   "outputs": [
    {
     "data": {
      "text/plain": [
       "{1: 'Bad', 2: 'Poor', 3: 'Average', 4: 'Great', 5: 'Excellent'}"
      ]
     },
     "execution_count": 103,
     "metadata": {},
     "output_type": "execute_result"
    }
   ],
   "source": [
    "col_names = ['Company', 'Id', 'Reviewer_Id', 'Title', 'Review', 'Date', 'Rating']\n",
    "\n",
    "ratings_dict = get_ratings_mapping()\n",
    "ratings_dict"
   ]
  },
  {
   "cell_type": "code",
   "execution_count": 104,
   "metadata": {},
   "outputs": [],
   "source": [
    "reviews_df = pd.read_csv(reviews_base_file, sep=',')"
   ]
  },
  {
   "cell_type": "markdown",
   "metadata": {},
   "source": [
    "<a id='data_cleaning_eda'></a>\n",
    "### Data Cleaning & Exploratory Data Analysis\n",
    "\n",
    "Here we can have an initial look about the information contained in the dataset - Please note that each row in the dataset corresponds to a different _review_ :"
   ]
  },
  {
   "cell_type": "code",
   "execution_count": 105,
   "metadata": {},
   "outputs": [
    {
     "data": {
      "text/html": [
       "<div>\n",
       "<style scoped>\n",
       "    .dataframe tbody tr th:only-of-type {\n",
       "        vertical-align: middle;\n",
       "    }\n",
       "\n",
       "    .dataframe tbody tr th {\n",
       "        vertical-align: top;\n",
       "    }\n",
       "\n",
       "    .dataframe thead th {\n",
       "        text-align: right;\n",
       "    }\n",
       "</style>\n",
       "<table border=\"1\" class=\"dataframe\">\n",
       "  <thead>\n",
       "    <tr style=\"text-align: right;\">\n",
       "      <th></th>\n",
       "      <th>Company</th>\n",
       "      <th>Id</th>\n",
       "      <th>Reviewer_Id</th>\n",
       "      <th>Title</th>\n",
       "      <th>Review</th>\n",
       "      <th>Date</th>\n",
       "      <th>Rating</th>\n",
       "    </tr>\n",
       "  </thead>\n",
       "  <tbody>\n",
       "    <tr>\n",
       "      <th>0</th>\n",
       "      <td>Deliveroo</td>\n",
       "      <td>60709f95f85d75087052ff8b</td>\n",
       "      <td>60709f8f0a30fd001b06dc52</td>\n",
       "      <td>Ordered food and apparently the driver…</td>\n",
       "      <td>Ordered food and apparently the driver was wai...</td>\n",
       "      <td>2021-04-09 18:40</td>\n",
       "      <td>{2: 'Poor'}</td>\n",
       "    </tr>\n",
       "    <tr>\n",
       "      <th>1</th>\n",
       "      <td>Deliveroo</td>\n",
       "      <td>60708710f85d75087052c89b</td>\n",
       "      <td>6070870c2158190019b3ab8e</td>\n",
       "      <td>Disgusting Live Customer Service CHAT!!!</td>\n",
       "      <td>I received standard bag of buttons that cost £...</td>\n",
       "      <td>2021-04-09 16:55</td>\n",
       "      <td>{1: 'Bad'}</td>\n",
       "    </tr>\n",
       "    <tr>\n",
       "      <th>2</th>\n",
       "      <td>Deliveroo</td>\n",
       "      <td>60707b91f85d75087052abb6</td>\n",
       "      <td>602eb3ac49aeca0019ad4b70</td>\n",
       "      <td>Just had an appalling experience with…</td>\n",
       "      <td>Just had an appalling experience with delivero...</td>\n",
       "      <td>2021-04-09 16:06</td>\n",
       "      <td>{1: 'Bad'}</td>\n",
       "    </tr>\n",
       "    <tr>\n",
       "      <th>3</th>\n",
       "      <td>Deliveroo</td>\n",
       "      <td>60705919f85d7508705251d4</td>\n",
       "      <td>60705856348d93001ad1ca1f</td>\n",
       "      <td>The same situation happened twice</td>\n",
       "      <td>The same situation happened twice. I ordered f...</td>\n",
       "      <td>2021-04-09 13:39</td>\n",
       "      <td>{2: 'Poor'}</td>\n",
       "    </tr>\n",
       "    <tr>\n",
       "      <th>4</th>\n",
       "      <td>Deliveroo</td>\n",
       "      <td>60705138f85d750870523d4d</td>\n",
       "      <td>6070512519dc76001aebe4b1</td>\n",
       "      <td>Driver left without giving us food</td>\n",
       "      <td>Driver turned up late couldn’t find us and lef...</td>\n",
       "      <td>2021-04-09 13:06</td>\n",
       "      <td>{1: 'Bad'}</td>\n",
       "    </tr>\n",
       "  </tbody>\n",
       "</table>\n",
       "</div>"
      ],
      "text/plain": [
       "     Company                        Id               Reviewer_Id  \\\n",
       "0  Deliveroo  60709f95f85d75087052ff8b  60709f8f0a30fd001b06dc52   \n",
       "1  Deliveroo  60708710f85d75087052c89b  6070870c2158190019b3ab8e   \n",
       "2  Deliveroo  60707b91f85d75087052abb6  602eb3ac49aeca0019ad4b70   \n",
       "3  Deliveroo  60705919f85d7508705251d4  60705856348d93001ad1ca1f   \n",
       "4  Deliveroo  60705138f85d750870523d4d  6070512519dc76001aebe4b1   \n",
       "\n",
       "                                      Title  \\\n",
       "0   Ordered food and apparently the driver…   \n",
       "1  Disgusting Live Customer Service CHAT!!!   \n",
       "2    Just had an appalling experience with…   \n",
       "3         The same situation happened twice   \n",
       "4        Driver left without giving us food   \n",
       "\n",
       "                                              Review              Date  \\\n",
       "0  Ordered food and apparently the driver was wai...  2021-04-09 18:40   \n",
       "1  I received standard bag of buttons that cost £...  2021-04-09 16:55   \n",
       "2  Just had an appalling experience with delivero...  2021-04-09 16:06   \n",
       "3  The same situation happened twice. I ordered f...  2021-04-09 13:39   \n",
       "4  Driver turned up late couldn’t find us and lef...  2021-04-09 13:06   \n",
       "\n",
       "        Rating  \n",
       "0  {2: 'Poor'}  \n",
       "1   {1: 'Bad'}  \n",
       "2   {1: 'Bad'}  \n",
       "3  {2: 'Poor'}  \n",
       "4   {1: 'Bad'}  "
      ]
     },
     "execution_count": 105,
     "metadata": {},
     "output_type": "execute_result"
    }
   ],
   "source": [
    "reviews_df.head()"
   ]
  },
  {
   "cell_type": "markdown",
   "metadata": {},
   "source": [
    "We can see that the _Title_ of the review sometimes seems to correspond to the first few words/lines of the full _Review_, while some other times appears to be a small summary. At the same time we can observe that the _Rating_ provides us with some useful information about how the Reviewer felt regarding the company's service on that specific occasion."
   ]
  },
  {
   "cell_type": "code",
   "execution_count": 106,
   "metadata": {},
   "outputs": [
    {
     "name": "stdout",
     "output_type": "stream",
     "text": [
      "There are 17640 reviews (rows) and 7 features in the dataset\n"
     ]
    }
   ],
   "source": [
    "print(f'There are {reviews_df.shape[0]} reviews (rows) and {reviews_df.shape[1]} features in the dataset')"
   ]
  },
  {
   "cell_type": "code",
   "execution_count": 107,
   "metadata": {},
   "outputs": [
    {
     "data": {
      "text/plain": [
       "UberEats     8740\n",
       "Deliveroo    6360\n",
       "JustEat      2340\n",
       "Stuart        200\n",
       "Name: Company, dtype: int64"
      ]
     },
     "execution_count": 107,
     "metadata": {},
     "output_type": "execute_result"
    }
   ],
   "source": [
    "reviews_df['Company'].value_counts()"
   ]
  },
  {
   "cell_type": "markdown",
   "metadata": {},
   "source": [
    "We can check if there are any missing values in the dataset, or if there are rows that are duplicates:"
   ]
  },
  {
   "cell_type": "code",
   "execution_count": 108,
   "metadata": {},
   "outputs": [
    {
     "name": "stdout",
     "output_type": "stream",
     "text": [
      "There are 57 duplicate reviews in the dataset\n"
     ]
    }
   ],
   "source": [
    "num_duplicate_reviews = reviews_df.duplicated('Id').sum()\n",
    "print(f'There are {num_duplicate_reviews} duplicate reviews in the dataset')"
   ]
  },
  {
   "cell_type": "markdown",
   "metadata": {},
   "source": [
    "Dropping the duplicate reviews"
   ]
  },
  {
   "cell_type": "code",
   "execution_count": 109,
   "metadata": {},
   "outputs": [
    {
     "data": {
      "text/plain": [
       "0"
      ]
     },
     "execution_count": 109,
     "metadata": {},
     "output_type": "execute_result"
    }
   ],
   "source": [
    "reviews_df.drop_duplicates(inplace=True)\n",
    "reviews_df.duplicated('Id').sum()"
   ]
  },
  {
   "cell_type": "code",
   "execution_count": 110,
   "metadata": {},
   "outputs": [
    {
     "data": {
      "text/html": [
       "<div>\n",
       "<style scoped>\n",
       "    .dataframe tbody tr th:only-of-type {\n",
       "        vertical-align: middle;\n",
       "    }\n",
       "\n",
       "    .dataframe tbody tr th {\n",
       "        vertical-align: top;\n",
       "    }\n",
       "\n",
       "    .dataframe thead th {\n",
       "        text-align: right;\n",
       "    }\n",
       "</style>\n",
       "<table border=\"1\" class=\"dataframe\">\n",
       "  <thead>\n",
       "    <tr style=\"text-align: right;\">\n",
       "      <th></th>\n",
       "      <th>Missing_Values</th>\n",
       "    </tr>\n",
       "  </thead>\n",
       "  <tbody>\n",
       "    <tr>\n",
       "      <th>Company</th>\n",
       "      <td>0</td>\n",
       "    </tr>\n",
       "    <tr>\n",
       "      <th>Id</th>\n",
       "      <td>0</td>\n",
       "    </tr>\n",
       "    <tr>\n",
       "      <th>Reviewer_Id</th>\n",
       "      <td>0</td>\n",
       "    </tr>\n",
       "    <tr>\n",
       "      <th>Title</th>\n",
       "      <td>0</td>\n",
       "    </tr>\n",
       "    <tr>\n",
       "      <th>Review</th>\n",
       "      <td>240</td>\n",
       "    </tr>\n",
       "    <tr>\n",
       "      <th>Date</th>\n",
       "      <td>2886</td>\n",
       "    </tr>\n",
       "    <tr>\n",
       "      <th>Rating</th>\n",
       "      <td>0</td>\n",
       "    </tr>\n",
       "  </tbody>\n",
       "</table>\n",
       "</div>"
      ],
      "text/plain": [
       "             Missing_Values\n",
       "Company                   0\n",
       "Id                        0\n",
       "Reviewer_Id               0\n",
       "Title                     0\n",
       "Review                  240\n",
       "Date                   2886\n",
       "Rating                    0"
      ]
     },
     "execution_count": 110,
     "metadata": {},
     "output_type": "execute_result"
    }
   ],
   "source": [
    "pd.DataFrame(reviews_df.isna().sum(), columns=['Missing_Values'])"
   ]
  },
  {
   "cell_type": "markdown",
   "metadata": {},
   "source": [
    "From the queries above we can quickly see that initially we had some issues as there were 57 duplicate reviews, but we have used a pandas built-in function to remove them from the dataset. The duplication is caused due to the nature of retrieving data from by using the API, as we might process pages that we have already processed in the past, and that means retrieving the same reviews as before. Luckily, the _Id_ column is sufficient to identify unique reviews in the dataset, and hence it's easy to spot and fix duplication issues.\n",
    "\n",
    "Now, regarding the missing values there are a few cases where Review appears to be empty, as well as quite a few cases on missing dates. The later is not a massive issue at this stage of the project. On the other hand, the absence of reviews can be a big issue as this project is all about analyzing customer reviews, and hence rows that have no text corresponding to a review wouldn't provide much information. That said, as we saw above there is another feature (_Title_) which we can use as text for rows where the _Review_ is empty."
   ]
  },
  {
   "cell_type": "code",
   "execution_count": 111,
   "metadata": {},
   "outputs": [
    {
     "data": {
      "text/html": [
       "<div>\n",
       "<style scoped>\n",
       "    .dataframe tbody tr th:only-of-type {\n",
       "        vertical-align: middle;\n",
       "    }\n",
       "\n",
       "    .dataframe tbody tr th {\n",
       "        vertical-align: top;\n",
       "    }\n",
       "\n",
       "    .dataframe thead th {\n",
       "        text-align: right;\n",
       "    }\n",
       "</style>\n",
       "<table border=\"1\" class=\"dataframe\">\n",
       "  <thead>\n",
       "    <tr style=\"text-align: right;\">\n",
       "      <th></th>\n",
       "      <th>Company</th>\n",
       "      <th>Id</th>\n",
       "      <th>Reviewer_Id</th>\n",
       "      <th>Title</th>\n",
       "      <th>Review</th>\n",
       "      <th>Date</th>\n",
       "      <th>Rating</th>\n",
       "    </tr>\n",
       "  </thead>\n",
       "  <tbody>\n",
       "    <tr>\n",
       "      <th>45</th>\n",
       "      <td>Deliveroo</td>\n",
       "      <td>60684978f85d75087045ed91</td>\n",
       "      <td>60684973402b0e001a95af2d</td>\n",
       "      <td>Great service</td>\n",
       "      <td>NaN</td>\n",
       "      <td>2021-04-03 10:54</td>\n",
       "      <td>{5: 'Excellent'}</td>\n",
       "    </tr>\n",
       "    <tr>\n",
       "      <th>94</th>\n",
       "      <td>Deliveroo</td>\n",
       "      <td>606221b3f85d7508703c730e</td>\n",
       "      <td>5d73f4f179586ed7bad49d52</td>\n",
       "      <td>Very very disappointed bad service</td>\n",
       "      <td>NaN</td>\n",
       "      <td>2021-03-29 18:51</td>\n",
       "      <td>{1: 'Bad'}</td>\n",
       "    </tr>\n",
       "    <tr>\n",
       "      <th>114</th>\n",
       "      <td>Deliveroo</td>\n",
       "      <td>605f8f5df85d7508703919f5</td>\n",
       "      <td>5e8d9b9a6251456b37ed292e</td>\n",
       "      <td>CRAP nothing else to say!</td>\n",
       "      <td>NaN</td>\n",
       "      <td>2021-03-27 20:02</td>\n",
       "      <td>{1: 'Bad'}</td>\n",
       "    </tr>\n",
       "    <tr>\n",
       "      <th>137</th>\n",
       "      <td>Deliveroo</td>\n",
       "      <td>605e40ddf85d750870377a98</td>\n",
       "      <td>605cb15ead7256001bdc3948</td>\n",
       "      <td>A MILLION TIMES BETTER THAN UBER EATS</td>\n",
       "      <td>NaN</td>\n",
       "      <td>2021-03-26 20:15</td>\n",
       "      <td>{5: 'Excellent'}</td>\n",
       "    </tr>\n",
       "    <tr>\n",
       "      <th>201</th>\n",
       "      <td>Deliveroo</td>\n",
       "      <td>6054f264f85d750bf4f97e45</td>\n",
       "      <td>5d57f496959de5789bc062bd</td>\n",
       "      <td>Better to use Uber eats</td>\n",
       "      <td>NaN</td>\n",
       "      <td>2021-03-19 18:50</td>\n",
       "      <td>{1: 'Bad'}</td>\n",
       "    </tr>\n",
       "  </tbody>\n",
       "</table>\n",
       "</div>"
      ],
      "text/plain": [
       "       Company                        Id               Reviewer_Id  \\\n",
       "45   Deliveroo  60684978f85d75087045ed91  60684973402b0e001a95af2d   \n",
       "94   Deliveroo  606221b3f85d7508703c730e  5d73f4f179586ed7bad49d52   \n",
       "114  Deliveroo  605f8f5df85d7508703919f5  5e8d9b9a6251456b37ed292e   \n",
       "137  Deliveroo  605e40ddf85d750870377a98  605cb15ead7256001bdc3948   \n",
       "201  Deliveroo  6054f264f85d750bf4f97e45  5d57f496959de5789bc062bd   \n",
       "\n",
       "                                     Title Review              Date  \\\n",
       "45                           Great service    NaN  2021-04-03 10:54   \n",
       "94      Very very disappointed bad service    NaN  2021-03-29 18:51   \n",
       "114              CRAP nothing else to say!    NaN  2021-03-27 20:02   \n",
       "137  A MILLION TIMES BETTER THAN UBER EATS    NaN  2021-03-26 20:15   \n",
       "201                Better to use Uber eats    NaN  2021-03-19 18:50   \n",
       "\n",
       "               Rating  \n",
       "45   {5: 'Excellent'}  \n",
       "94         {1: 'Bad'}  \n",
       "114        {1: 'Bad'}  \n",
       "137  {5: 'Excellent'}  \n",
       "201        {1: 'Bad'}  "
      ]
     },
     "execution_count": 111,
     "metadata": {},
     "output_type": "execute_result"
    }
   ],
   "source": [
    "empty_reviews_sample = reviews_df[reviews_df['Review'].isnull()].head(5)\n",
    "empty_reviews_sample"
   ]
  },
  {
   "cell_type": "markdown",
   "metadata": {},
   "source": [
    "Apply the transformation"
   ]
  },
  {
   "cell_type": "code",
   "execution_count": 112,
   "metadata": {},
   "outputs": [],
   "source": [
    "reviews_df.loc[reviews_df['Review'].isnull(), 'Review'] = reviews_df['Title']"
   ]
  },
  {
   "cell_type": "markdown",
   "metadata": {},
   "source": [
    "and we can see how the transformation affected the dataset"
   ]
  },
  {
   "cell_type": "code",
   "execution_count": 113,
   "metadata": {},
   "outputs": [
    {
     "data": {
      "text/html": [
       "<div>\n",
       "<style scoped>\n",
       "    .dataframe tbody tr th:only-of-type {\n",
       "        vertical-align: middle;\n",
       "    }\n",
       "\n",
       "    .dataframe tbody tr th {\n",
       "        vertical-align: top;\n",
       "    }\n",
       "\n",
       "    .dataframe thead th {\n",
       "        text-align: right;\n",
       "    }\n",
       "</style>\n",
       "<table border=\"1\" class=\"dataframe\">\n",
       "  <thead>\n",
       "    <tr style=\"text-align: right;\">\n",
       "      <th></th>\n",
       "      <th>Company</th>\n",
       "      <th>Id</th>\n",
       "      <th>Reviewer_Id</th>\n",
       "      <th>Title</th>\n",
       "      <th>Review</th>\n",
       "      <th>Date</th>\n",
       "      <th>Rating</th>\n",
       "    </tr>\n",
       "  </thead>\n",
       "  <tbody>\n",
       "    <tr>\n",
       "      <th>45</th>\n",
       "      <td>Deliveroo</td>\n",
       "      <td>60684978f85d75087045ed91</td>\n",
       "      <td>60684973402b0e001a95af2d</td>\n",
       "      <td>Great service</td>\n",
       "      <td>Great service</td>\n",
       "      <td>2021-04-03 10:54</td>\n",
       "      <td>{5: 'Excellent'}</td>\n",
       "    </tr>\n",
       "    <tr>\n",
       "      <th>94</th>\n",
       "      <td>Deliveroo</td>\n",
       "      <td>606221b3f85d7508703c730e</td>\n",
       "      <td>5d73f4f179586ed7bad49d52</td>\n",
       "      <td>Very very disappointed bad service</td>\n",
       "      <td>Very very disappointed bad service</td>\n",
       "      <td>2021-03-29 18:51</td>\n",
       "      <td>{1: 'Bad'}</td>\n",
       "    </tr>\n",
       "    <tr>\n",
       "      <th>114</th>\n",
       "      <td>Deliveroo</td>\n",
       "      <td>605f8f5df85d7508703919f5</td>\n",
       "      <td>5e8d9b9a6251456b37ed292e</td>\n",
       "      <td>CRAP nothing else to say!</td>\n",
       "      <td>CRAP nothing else to say!</td>\n",
       "      <td>2021-03-27 20:02</td>\n",
       "      <td>{1: 'Bad'}</td>\n",
       "    </tr>\n",
       "    <tr>\n",
       "      <th>137</th>\n",
       "      <td>Deliveroo</td>\n",
       "      <td>605e40ddf85d750870377a98</td>\n",
       "      <td>605cb15ead7256001bdc3948</td>\n",
       "      <td>A MILLION TIMES BETTER THAN UBER EATS</td>\n",
       "      <td>A MILLION TIMES BETTER THAN UBER EATS</td>\n",
       "      <td>2021-03-26 20:15</td>\n",
       "      <td>{5: 'Excellent'}</td>\n",
       "    </tr>\n",
       "    <tr>\n",
       "      <th>201</th>\n",
       "      <td>Deliveroo</td>\n",
       "      <td>6054f264f85d750bf4f97e45</td>\n",
       "      <td>5d57f496959de5789bc062bd</td>\n",
       "      <td>Better to use Uber eats</td>\n",
       "      <td>Better to use Uber eats</td>\n",
       "      <td>2021-03-19 18:50</td>\n",
       "      <td>{1: 'Bad'}</td>\n",
       "    </tr>\n",
       "  </tbody>\n",
       "</table>\n",
       "</div>"
      ],
      "text/plain": [
       "       Company                        Id               Reviewer_Id  \\\n",
       "45   Deliveroo  60684978f85d75087045ed91  60684973402b0e001a95af2d   \n",
       "94   Deliveroo  606221b3f85d7508703c730e  5d73f4f179586ed7bad49d52   \n",
       "114  Deliveroo  605f8f5df85d7508703919f5  5e8d9b9a6251456b37ed292e   \n",
       "137  Deliveroo  605e40ddf85d750870377a98  605cb15ead7256001bdc3948   \n",
       "201  Deliveroo  6054f264f85d750bf4f97e45  5d57f496959de5789bc062bd   \n",
       "\n",
       "                                     Title  \\\n",
       "45                           Great service   \n",
       "94      Very very disappointed bad service   \n",
       "114              CRAP nothing else to say!   \n",
       "137  A MILLION TIMES BETTER THAN UBER EATS   \n",
       "201                Better to use Uber eats   \n",
       "\n",
       "                                    Review              Date            Rating  \n",
       "45                           Great service  2021-04-03 10:54  {5: 'Excellent'}  \n",
       "94      Very very disappointed bad service  2021-03-29 18:51        {1: 'Bad'}  \n",
       "114              CRAP nothing else to say!  2021-03-27 20:02        {1: 'Bad'}  \n",
       "137  A MILLION TIMES BETTER THAN UBER EATS  2021-03-26 20:15  {5: 'Excellent'}  \n",
       "201                Better to use Uber eats  2021-03-19 18:50        {1: 'Bad'}  "
      ]
     },
     "execution_count": 113,
     "metadata": {},
     "output_type": "execute_result"
    }
   ],
   "source": [
    "reviews_df.iloc[list(empty_reviews_sample.index)]"
   ]
  },
  {
   "cell_type": "code",
   "execution_count": 114,
   "metadata": {},
   "outputs": [
    {
     "data": {
      "text/html": [
       "<div>\n",
       "<style scoped>\n",
       "    .dataframe tbody tr th:only-of-type {\n",
       "        vertical-align: middle;\n",
       "    }\n",
       "\n",
       "    .dataframe tbody tr th {\n",
       "        vertical-align: top;\n",
       "    }\n",
       "\n",
       "    .dataframe thead th {\n",
       "        text-align: right;\n",
       "    }\n",
       "</style>\n",
       "<table border=\"1\" class=\"dataframe\">\n",
       "  <thead>\n",
       "    <tr style=\"text-align: right;\">\n",
       "      <th></th>\n",
       "      <th>Missing_Values</th>\n",
       "    </tr>\n",
       "  </thead>\n",
       "  <tbody>\n",
       "    <tr>\n",
       "      <th>Company</th>\n",
       "      <td>0</td>\n",
       "    </tr>\n",
       "    <tr>\n",
       "      <th>Id</th>\n",
       "      <td>0</td>\n",
       "    </tr>\n",
       "    <tr>\n",
       "      <th>Reviewer_Id</th>\n",
       "      <td>0</td>\n",
       "    </tr>\n",
       "    <tr>\n",
       "      <th>Title</th>\n",
       "      <td>0</td>\n",
       "    </tr>\n",
       "    <tr>\n",
       "      <th>Review</th>\n",
       "      <td>0</td>\n",
       "    </tr>\n",
       "    <tr>\n",
       "      <th>Date</th>\n",
       "      <td>2886</td>\n",
       "    </tr>\n",
       "    <tr>\n",
       "      <th>Rating</th>\n",
       "      <td>0</td>\n",
       "    </tr>\n",
       "  </tbody>\n",
       "</table>\n",
       "</div>"
      ],
      "text/plain": [
       "             Missing_Values\n",
       "Company                   0\n",
       "Id                        0\n",
       "Reviewer_Id               0\n",
       "Title                     0\n",
       "Review                    0\n",
       "Date                   2886\n",
       "Rating                    0"
      ]
     },
     "execution_count": 114,
     "metadata": {},
     "output_type": "execute_result"
    }
   ],
   "source": [
    "pd.DataFrame(reviews_df.isna().sum(), columns=['Missing_Values'])"
   ]
  },
  {
   "cell_type": "markdown",
   "metadata": {},
   "source": [
    "<a id='data_preprocessing'></a>\n",
    "### Data Preprocessing\n",
    "\n",
    "Now that we have familiarized a bit ourselves with the dataset and it's format, as well as conducted the initial data cleaning, we will move to one of the most important steps in any project - the data preprocessing. This section is especially important for cases where we have to deal with analysis of text, such as in this project. The reason is that text in raw format usually contains a lot of noise. This could later affect the performance of the algorithms - both in terms of computational power and the final output - due to very high dimensions of the dataset. This is happening as, like we are going to see soon, each unique word in each review will become a separate feature in the dataset. Hence, the more reviews we have the more unique words we gonna end up with in the final dataset before the analysis. \n",
    " \n",
    "Therefore, its essential to use  some common text preprocessing techniques to reduce the dimensions. As a summary, we are going to perform the following steps:\n",
    "\n",
    " 1) Perform **tokenization** of the reviews. This is a technique of transforming a sentence, into a list of words. For example, the sentence \"my order was great\" would become '['my', 'order', 'was', 'great'].\n",
    " \n",
    " 2) Remove from the reviews tokens that are **stopwords**. Stopwords are words inside text that do not provide much information and are usually getting removed from the initial sentence. Such words can be words like \"the\", \"a\", and more.\n",
    " \n",
    " 3) Remove tokens that correspond to **punctuation** marks (e.g. \"!\", \"?\") and **numbers**.\n",
    " \n",
    " 4) <a href=\"https://en.wikipedia.org/wiki/Stemming\" style=\"text-decoration:none\">Stemming</a> and <a href=\"https://en.wikipedia.org/wiki/Lemmatisation\" style=\"text-decoration:none\">Lemmatization</a>: These two methods are being used to transform a token into it's stem or lemma respectively. These two techniques help drammatically with the reduction of the dimensions as words end up being \"grouped\" under a specific form. In this project we are going to use lemmatization, as in general is a more advanced method compared to stemming, as lemmatization algorithms try to identify the part of speech of the token, and thus in some way they are preserving the meaning of the word (something that does not necessarily happen with stemming).\n",
    " \n",
    "Below we are going to perform all of these steps to get a \"cleaner\" version of the reviews:"
   ]
  },
  {
   "cell_type": "code",
   "execution_count": 115,
   "metadata": {},
   "outputs": [],
   "source": [
    "from nltk.corpus import stopwords\n",
    "\n",
    "stopwords_ls = stopwords.words('english')\n",
    "stopwords_ls.extend(['\\'d', '\\'m', '\\'s', '\\'ve', '\\'re', '\\'ll', 'n\\'t', '’'])"
   ]
  },
  {
   "cell_type": "markdown",
   "metadata": {},
   "source": [
    "Except the common english stopwords, it's necessary to enhance the list with some additional tokens that we want to exclude from the reviews. These are usually words that we would expect that are getting repeated in the reviews. In our case, as we are examining the case of delivery companies, it would be beneficial to exclude words like 'delivery', 'order', and more. Moreover, we are excluding the tokens that correspond to the names of the delivery companies, as we already have this information in the dataset as a different feature."
   ]
  },
  {
   "cell_type": "code",
   "execution_count": 116,
   "metadata": {},
   "outputs": [],
   "source": [
    "common_delivery_words = ['delivery', 'deliver', 'driver', 'order', 'uber', 'stuart',\n",
    "                         'deliveroo', 'food', 'use', 'get', 'service', 'customer', 'refund']\n",
    "\n",
    "stopwords_ls.extend(common_delivery_words)"
   ]
  },
  {
   "cell_type": "markdown",
   "metadata": {},
   "source": [
    "Moreover, we can see that the _Rating_ columns has values like the following: {1: 'Bad'}, so we are going to use a custom function to split this into two different features for better presentation:"
   ]
  },
  {
   "cell_type": "code",
   "execution_count": 117,
   "metadata": {},
   "outputs": [],
   "source": [
    "def split_ratings(rating_text):\n",
    "    \"\"\"\n",
    "    Mapper function to split string with {Rating: Rating_As_String} format to two\n",
    "    separate entities\"\"\"\n",
    "    rating_text = rating_text.replace('\\'','').replace('{','').replace('}','')\n",
    "    return rating_text[0], rating_text[3:]"
   ]
  },
  {
   "cell_type": "code",
   "execution_count": 118,
   "metadata": {},
   "outputs": [],
   "source": [
    "# Cast columns specific data format\n",
    "reviews_df['Date'] = pd.to_datetime(reviews_df['Date'], format=\"%Y-%m-%d %H:%M\", errors='coerce')\n",
    "\n",
    "reviews_df['Rating'] = reviews_df['Rating'].apply(lambda row: split_ratings(row)[0]).astype(int)\n",
    "reviews_df['Rating_Text'] = reviews_df['Rating'].apply(lambda row: ratings_dict[row])"
   ]
  },
  {
   "cell_type": "code",
   "execution_count": 119,
   "metadata": {},
   "outputs": [
    {
     "data": {
      "text/html": [
       "<div>\n",
       "<style scoped>\n",
       "    .dataframe tbody tr th:only-of-type {\n",
       "        vertical-align: middle;\n",
       "    }\n",
       "\n",
       "    .dataframe tbody tr th {\n",
       "        vertical-align: top;\n",
       "    }\n",
       "\n",
       "    .dataframe thead th {\n",
       "        text-align: right;\n",
       "    }\n",
       "</style>\n",
       "<table border=\"1\" class=\"dataframe\">\n",
       "  <thead>\n",
       "    <tr style=\"text-align: right;\">\n",
       "      <th></th>\n",
       "      <th>Company</th>\n",
       "      <th>Id</th>\n",
       "      <th>Reviewer_Id</th>\n",
       "      <th>Title</th>\n",
       "      <th>Review</th>\n",
       "      <th>Date</th>\n",
       "      <th>Rating</th>\n",
       "      <th>Rating_Text</th>\n",
       "    </tr>\n",
       "  </thead>\n",
       "  <tbody>\n",
       "    <tr>\n",
       "      <th>0</th>\n",
       "      <td>Deliveroo</td>\n",
       "      <td>60709f95f85d75087052ff8b</td>\n",
       "      <td>60709f8f0a30fd001b06dc52</td>\n",
       "      <td>Ordered food and apparently the driver…</td>\n",
       "      <td>Ordered food and apparently the driver was wai...</td>\n",
       "      <td>2021-04-09 18:40:00</td>\n",
       "      <td>2</td>\n",
       "      <td>Poor</td>\n",
       "    </tr>\n",
       "    <tr>\n",
       "      <th>1</th>\n",
       "      <td>Deliveroo</td>\n",
       "      <td>60708710f85d75087052c89b</td>\n",
       "      <td>6070870c2158190019b3ab8e</td>\n",
       "      <td>Disgusting Live Customer Service CHAT!!!</td>\n",
       "      <td>I received standard bag of buttons that cost £...</td>\n",
       "      <td>2021-04-09 16:55:00</td>\n",
       "      <td>1</td>\n",
       "      <td>Bad</td>\n",
       "    </tr>\n",
       "  </tbody>\n",
       "</table>\n",
       "</div>"
      ],
      "text/plain": [
       "     Company                        Id               Reviewer_Id  \\\n",
       "0  Deliveroo  60709f95f85d75087052ff8b  60709f8f0a30fd001b06dc52   \n",
       "1  Deliveroo  60708710f85d75087052c89b  6070870c2158190019b3ab8e   \n",
       "\n",
       "                                      Title  \\\n",
       "0   Ordered food and apparently the driver…   \n",
       "1  Disgusting Live Customer Service CHAT!!!   \n",
       "\n",
       "                                              Review                Date  \\\n",
       "0  Ordered food and apparently the driver was wai... 2021-04-09 18:40:00   \n",
       "1  I received standard bag of buttons that cost £... 2021-04-09 16:55:00   \n",
       "\n",
       "   Rating Rating_Text  \n",
       "0       2        Poor  \n",
       "1       1         Bad  "
      ]
     },
     "execution_count": 119,
     "metadata": {},
     "output_type": "execute_result"
    }
   ],
   "source": [
    "reviews_df.head(2)"
   ]
  },
  {
   "cell_type": "markdown",
   "metadata": {},
   "source": [
    "Now we are ready to apply the main data preprocessing tasks that we discussed above. But to do that we have to write the function that are going to be applied in the _Review_ column. Below we can see these functions, which are coming from a custom <a href=\"https://github.com/gpsyrou/Text_Analysis_of_Consumer_Reviews/blob/main/processing/text_processing.py\" style=\"text-decoration: none\">package</a> that we had to develop, which contains functions for the most common text preprocessing tasks for pretty much any NLP project. "
   ]
  },
  {
   "cell_type": "code",
   "execution_count": 120,
   "metadata": {},
   "outputs": [],
   "source": [
    "lemmatizer = WordNetLemmatizer()\n",
    "stemmer = PorterStemmer()"
   ]
  },
  {
   "cell_type": "code",
   "execution_count": 121,
   "metadata": {},
   "outputs": [],
   "source": [
    "punct_ls = list(string.punctuation)\n",
    "punct_ls.extend([2*x for x in list(string.punctuation)])\n",
    "punct_ls.extend([3*x for x in list(string.punctuation)])"
   ]
  },
  {
   "cell_type": "code",
   "execution_count": 122,
   "metadata": {},
   "outputs": [],
   "source": [
    "def remove_stopwords(text: List['str'], stpwds_ls: List['str']) -> List['str']:\n",
    "    return [token for token in text if token not in stpwds_ls]"
   ]
  },
  {
   "cell_type": "code",
   "execution_count": 123,
   "metadata": {},
   "outputs": [],
   "source": [
    "def remove_punctuation(text: List['str'], punct_ls: List['str']) -> List['str']:\n",
    "    return [token for token in text if token not in punct_ls]"
   ]
  },
  {
   "cell_type": "code",
   "execution_count": 124,
   "metadata": {},
   "outputs": [],
   "source": [
    "def remove_numbers(text: List['str']) -> List['str']:\n",
    "    return [token for token in text if not token.isdigit()]"
   ]
  },
  {
   "cell_type": "code",
   "execution_count": 125,
   "metadata": {},
   "outputs": [],
   "source": [
    "def lemmatize(text: List['str'],\n",
    "              pos_type = 'a') -> List['str']:\n",
    "    return [lemmatizer.lemmatize(token, pos=pos_type) for token in text]\n",
    "\n",
    "def stem(text: List['str']) -> List['str']:\n",
    "    return [stemmer.stem(token) for token in text]"
   ]
  },
  {
   "cell_type": "code",
   "execution_count": 126,
   "metadata": {},
   "outputs": [],
   "source": [
    "def tokenize_and_clean(text: str,\n",
    "                       stopwords_ls: List[str],\n",
    "                       stopwords=True,\n",
    "                       punct=True, \n",
    "                       numerics=True) -> List[str]:\n",
    "    \"\"\"\n",
    "    Performs tokenizations and cleaning processes given a document/text.\n",
    "    The function will always tokenize the given text but the cleaning tasks\n",
    "    are optional.\n",
    "    \n",
    "    Parameters\n",
    "    ----------\n",
    "    text: \n",
    "        A document, which can be a word or sentence of arbitrary length.\n",
    "    stopwords: default True\n",
    "        Indicator of removing tokens that are stopwords.\n",
    "    punct: \n",
    "        Indicator of removing tokens that are punctuation marks.\n",
    "    numerics: \n",
    "        Indicator of removing tokens that correspond to numbers.\n",
    "\n",
    "    Returns\n",
    "    --------\n",
    "         A tokenized version of 'text' with the necessary updates depending on\n",
    "         the cleanup steps performed.\n",
    "    \"\"\"\n",
    "    tokenized = word_tokenize(text, language='english')\n",
    "    \n",
    "    tokenized = [token.lower() for token in tokenized]\n",
    "\n",
    "    if punct:\n",
    "        tokenized = remove_punctuation(tokenized, punct_ls=punct_ls)\n",
    "        \n",
    "    if numerics:\n",
    "        tokenized = remove_numbers(tokenized)\n",
    "        \n",
    "    if stopwords:\n",
    "        tokenized = remove_stopwords(tokenized, stpwds_ls=stopwords_ls)\n",
    "\n",
    "    return tokenized"
   ]
  },
  {
   "cell_type": "markdown",
   "metadata": {},
   "source": [
    "Split review in tokens and remove punctuation & stopwords"
   ]
  },
  {
   "cell_type": "code",
   "execution_count": 127,
   "metadata": {},
   "outputs": [],
   "source": [
    "reviews_df['Review_Tokenized'] = reviews_df['Review'].apply(lambda row: tokenize_and_clean(text=row, stopwords_ls=stopwords_ls, numerics=False))"
   ]
  },
  {
   "cell_type": "markdown",
   "metadata": {},
   "source": [
    "Lemmatize the tokens"
   ]
  },
  {
   "cell_type": "code",
   "execution_count": 128,
   "metadata": {},
   "outputs": [],
   "source": [
    "reviews_df['Review_Lemmatized'] = reviews_df['Review_Tokenized'].apply(lambda row: lemmatize(text=row, pos_type='n'))"
   ]
  },
  {
   "cell_type": "code",
   "execution_count": 129,
   "metadata": {},
   "outputs": [],
   "source": [
    "reviews_df['Review_Lemmatized'] = reviews_df['Review_Lemmatized'].apply(lambda row: lemmatize(text=row, pos_type='a'))"
   ]
  },
  {
   "cell_type": "markdown",
   "metadata": {},
   "source": [
    "Some times we need the \"clean\" tokens per document to be a single string. Therefore we are applying the appropriate transformation where we are joining back the clean tokens into a single object."
   ]
  },
  {
   "cell_type": "code",
   "execution_count": 130,
   "metadata": {},
   "outputs": [],
   "source": [
    "reviews_df['Clean_Review_String'] = reviews_df['Review_Lemmatized'].apply(lambda row: ' '.join([x for x in row]))"
   ]
  },
  {
   "cell_type": "code",
   "execution_count": 131,
   "metadata": {},
   "outputs": [
    {
     "data": {
      "text/html": [
       "<div>\n",
       "<style scoped>\n",
       "    .dataframe tbody tr th:only-of-type {\n",
       "        vertical-align: middle;\n",
       "    }\n",
       "\n",
       "    .dataframe tbody tr th {\n",
       "        vertical-align: top;\n",
       "    }\n",
       "\n",
       "    .dataframe thead th {\n",
       "        text-align: right;\n",
       "    }\n",
       "</style>\n",
       "<table border=\"1\" class=\"dataframe\">\n",
       "  <thead>\n",
       "    <tr style=\"text-align: right;\">\n",
       "      <th></th>\n",
       "      <th>Company</th>\n",
       "      <th>Title</th>\n",
       "      <th>Review</th>\n",
       "      <th>Review_Tokenized</th>\n",
       "      <th>Review_Lemmatized</th>\n",
       "      <th>Clean_Review_String</th>\n",
       "    </tr>\n",
       "  </thead>\n",
       "  <tbody>\n",
       "    <tr>\n",
       "      <th>0</th>\n",
       "      <td>Deliveroo</td>\n",
       "      <td>Ordered food and apparently the driver…</td>\n",
       "      <td>Ordered food and apparently the driver was wai...</td>\n",
       "      <td>[ordered, apparently, waiting, 10, mins, even,...</td>\n",
       "      <td>[ordered, apparently, waiting, 10, min, even, ...</td>\n",
       "      <td>ordered apparently waiting 10 min even though ...</td>\n",
       "    </tr>\n",
       "    <tr>\n",
       "      <th>1</th>\n",
       "      <td>Deliveroo</td>\n",
       "      <td>Disgusting Live Customer Service CHAT!!!</td>\n",
       "      <td>I received standard bag of buttons that cost £...</td>\n",
       "      <td>[received, standard, bag, buttons, cost, £1.60...</td>\n",
       "      <td>[received, standard, bag, button, cost, £1.60,...</td>\n",
       "      <td>received standard bag button cost £1.60 asked ...</td>\n",
       "    </tr>\n",
       "    <tr>\n",
       "      <th>2</th>\n",
       "      <td>Deliveroo</td>\n",
       "      <td>Just had an appalling experience with…</td>\n",
       "      <td>Just had an appalling experience with delivero...</td>\n",
       "      <td>[appalling, experience, ordered, pizza, £10, d...</td>\n",
       "      <td>[appalling, experience, ordered, pizza, £10, d...</td>\n",
       "      <td>appalling experience ordered pizza £10 discoun...</td>\n",
       "    </tr>\n",
       "    <tr>\n",
       "      <th>3</th>\n",
       "      <td>Deliveroo</td>\n",
       "      <td>The same situation happened twice</td>\n",
       "      <td>The same situation happened twice. I ordered f...</td>\n",
       "      <td>[situation, happened, twice, ordered, around, ...</td>\n",
       "      <td>[situation, happened, twice, ordered, around, ...</td>\n",
       "      <td>situation happened twice ordered around 10 pm ...</td>\n",
       "    </tr>\n",
       "    <tr>\n",
       "      <th>4</th>\n",
       "      <td>Deliveroo</td>\n",
       "      <td>Driver left without giving us food</td>\n",
       "      <td>Driver turned up late couldn’t find us and lef...</td>\n",
       "      <td>[turned, late, find, us, left, awful]</td>\n",
       "      <td>[turned, late, find, u, left, awful]</td>\n",
       "      <td>turned late find u left awful</td>\n",
       "    </tr>\n",
       "  </tbody>\n",
       "</table>\n",
       "</div>"
      ],
      "text/plain": [
       "     Company                                     Title  \\\n",
       "0  Deliveroo   Ordered food and apparently the driver…   \n",
       "1  Deliveroo  Disgusting Live Customer Service CHAT!!!   \n",
       "2  Deliveroo    Just had an appalling experience with…   \n",
       "3  Deliveroo         The same situation happened twice   \n",
       "4  Deliveroo        Driver left without giving us food   \n",
       "\n",
       "                                              Review  \\\n",
       "0  Ordered food and apparently the driver was wai...   \n",
       "1  I received standard bag of buttons that cost £...   \n",
       "2  Just had an appalling experience with delivero...   \n",
       "3  The same situation happened twice. I ordered f...   \n",
       "4  Driver turned up late couldn’t find us and lef...   \n",
       "\n",
       "                                    Review_Tokenized  \\\n",
       "0  [ordered, apparently, waiting, 10, mins, even,...   \n",
       "1  [received, standard, bag, buttons, cost, £1.60...   \n",
       "2  [appalling, experience, ordered, pizza, £10, d...   \n",
       "3  [situation, happened, twice, ordered, around, ...   \n",
       "4              [turned, late, find, us, left, awful]   \n",
       "\n",
       "                                   Review_Lemmatized  \\\n",
       "0  [ordered, apparently, waiting, 10, min, even, ...   \n",
       "1  [received, standard, bag, button, cost, £1.60,...   \n",
       "2  [appalling, experience, ordered, pizza, £10, d...   \n",
       "3  [situation, happened, twice, ordered, around, ...   \n",
       "4               [turned, late, find, u, left, awful]   \n",
       "\n",
       "                                 Clean_Review_String  \n",
       "0  ordered apparently waiting 10 min even though ...  \n",
       "1  received standard bag button cost £1.60 asked ...  \n",
       "2  appalling experience ordered pizza £10 discoun...  \n",
       "3  situation happened twice ordered around 10 pm ...  \n",
       "4                      turned late find u left awful  "
      ]
     },
     "execution_count": 131,
     "metadata": {},
     "output_type": "execute_result"
    }
   ],
   "source": [
    "reviews_df[['Company', 'Title', 'Review', 'Review_Tokenized', 'Review_Lemmatized', 'Clean_Review_String']].head(5)"
   ]
  },
  {
   "cell_type": "markdown",
   "metadata": {},
   "source": [
    "We can observe how big is the difference between the initial _Review_ and the final format of the review after the preprocessing tasks, as shown in <em>Review_Merged</em>.\n",
    "\n",
    "<a id=\"eda\"></a>\n",
    "### Exploratory Data Analysis\n",
    "\n",
    "Now that the data are in a better shape, we can start with the main part of this project which is the actual analysis of the reviews. As a first step we are going to perform some exploratory data analysis, mostly by analyzing the data visually. \n",
    "\n",
    "This is an important step for every data analysis project as it will allow us to further familiarize ourselves with the data, as well as make sure that we don't identify any cases that would require further data cleaning and that we might have missed in the initial text preprocessing steps performed in the previous section."
   ]
  },
  {
   "cell_type": "code",
   "execution_count": 132,
   "metadata": {},
   "outputs": [],
   "source": [
    "def most_common_words(input_df: pd.DataFrame,\n",
    "                      text_col: str,\n",
    "                      n_most_common=20):\n",
    "    \"\"\"\n",
    "    Given a collection of documents as text, compute the number of most common\n",
    "    words as defined by n_most_common.\n",
    "    Args:\n",
    "    ------\n",
    "        input_df: Dataframe that contains the relevant text column\n",
    "        text_col: Name of the column\n",
    "        n_most_common: Number of most common words to calculate\n",
    "    Returns:\n",
    "    --------\n",
    "        Pandas dataframe with two columns indicating a word and number\n",
    "        of times (count) that it appears in the original input_df\n",
    "    \"\"\"\n",
    "    word_list = list([x.split() for x in input_df[text_col] if x is not None])\n",
    "    word_counter = Counter(x for xs in word_list for x in set(xs))\n",
    "    word_counter.most_common(n_most_common)\n",
    "\n",
    "    return pd.DataFrame(word_counter.most_common(n_most_common), columns=['word', 'count'])"
   ]
  },
  {
   "cell_type": "code",
   "execution_count": 133,
   "metadata": {},
   "outputs": [],
   "source": [
    "def plot_most_common_words(input_df: pd.DataFrame,\n",
    "                           text_col: str,\n",
    "                           n_most_common=20,\n",
    "                           return_counts=False,\n",
    "                           figsize=(10, 10)) -> None:\n",
    "    \n",
    "    if return_counts:\n",
    "        df = most_common_words(input_df=input_df, text_col=text_col, n_most_common=n_most_common)\n",
    "        display(HTML(df.to_html()))\n",
    "\n",
    "    fig, ax = plt.subplots(figsize=figsize)\n",
    "    common_words_df = most_common_words(input_df=input_df,\n",
    "                                        text_col=text_col,\n",
    "                                        n_most_common=n_most_common)\n",
    "    sns.barplot(x='count', y='word', data=common_words_df).set_title(f'Common Words Found - Overall',\n",
    "                                                                     fontweight='bold')\n",
    "    plt.grid(True, alpha=0.3, linestyle='-', color='black')\n",
    "    plt.show()"
   ]
  },
  {
   "cell_type": "code",
   "execution_count": 134,
   "metadata": {},
   "outputs": [
    {
     "data": {
      "text/html": [
       "<table border=\"1\" class=\"dataframe\">\n",
       "  <thead>\n",
       "    <tr style=\"text-align: right;\">\n",
       "      <th></th>\n",
       "      <th>word</th>\n",
       "      <th>count</th>\n",
       "    </tr>\n",
       "  </thead>\n",
       "  <tbody>\n",
       "    <tr>\n",
       "      <th>0</th>\n",
       "      <td>time</td>\n",
       "      <td>5727</td>\n",
       "    </tr>\n",
       "    <tr>\n",
       "      <th>1</th>\n",
       "      <td>never</td>\n",
       "      <td>5101</td>\n",
       "    </tr>\n",
       "    <tr>\n",
       "      <th>2</th>\n",
       "      <td>ordered</td>\n",
       "      <td>4542</td>\n",
       "    </tr>\n",
       "    <tr>\n",
       "      <th>3</th>\n",
       "      <td>restaurant</td>\n",
       "      <td>3845</td>\n",
       "    </tr>\n",
       "    <tr>\n",
       "      <th>4</th>\n",
       "      <td>would</td>\n",
       "      <td>3781</td>\n",
       "    </tr>\n",
       "    <tr>\n",
       "      <th>5</th>\n",
       "      <td>hour</td>\n",
       "      <td>3762</td>\n",
       "    </tr>\n",
       "    <tr>\n",
       "      <th>6</th>\n",
       "      <td>delivered</td>\n",
       "      <td>3297</td>\n",
       "    </tr>\n",
       "    <tr>\n",
       "      <th>7</th>\n",
       "      <td>money</td>\n",
       "      <td>3272</td>\n",
       "    </tr>\n",
       "    <tr>\n",
       "      <th>8</th>\n",
       "      <td>eats</td>\n",
       "      <td>3213</td>\n",
       "    </tr>\n",
       "    <tr>\n",
       "      <th>9</th>\n",
       "      <td>even</td>\n",
       "      <td>3187</td>\n",
       "    </tr>\n",
       "  </tbody>\n",
       "</table>"
      ],
      "text/plain": [
       "<IPython.core.display.HTML object>"
      ]
     },
     "metadata": {},
     "output_type": "display_data"
    },
    {
     "data": {
      "image/png": "[encoded data removed]",
      "text/plain": [
       "<Figure size 720x720 with 1 Axes>"
      ]
     },
     "metadata": {},
     "output_type": "display_data"
    }
   ],
   "source": [
    "plot_most_common_words(reviews_df, n_most_common=10, text_col='Clean_Review_String', return_counts=True)"
   ]
  },
  {
   "cell_type": "code",
   "execution_count": 135,
   "metadata": {},
   "outputs": [],
   "source": [
    "def plot_wordcloud(input_df: pd.DataFrame,\n",
    "                   text_col: str,\n",
    "                   figsize=(10, 10)) -> None:\n",
    "    \"\"\" Generate a WordCloud plot based on the number of occurenences of words\n",
    "    in a set documents\n",
    "    \"\"\"\n",
    "    plt.figure(figsize=figsize)\n",
    "    combined_text = ' '.join([x for x in input_df[text_col] if x is not None])\n",
    "    wordcloud = WordCloud().generate(combined_text)\n",
    "    plt.imshow(wordcloud, interpolation='bilinear')\n",
    "    plt.axis(\"off\")\n",
    "    plt.show()"
   ]
  },
  {
   "cell_type": "code",
   "execution_count": 136,
   "metadata": {},
   "outputs": [],
   "source": [
    "# plot_wordcloud(reviews_df, text_col='Clean_Review_String')"
   ]
  },
  {
   "cell_type": "markdown",
   "metadata": {},
   "source": [
    "By examining each word separately we are making the assumption that the words (and so their order) do not play any role into the general meaning of the text. Thus, we can go a step further and identify pairs of words (**bigrams**) that tend to appear next to each other."
   ]
  },
  {
   "cell_type": "code",
   "execution_count": 137,
   "metadata": {},
   "outputs": [],
   "source": [
    "def compute_bigrams(input_df: pd.DataFrame,\n",
    "                    text_col: str) -> dict:\n",
    "    \"\"\" Calculate the number of occurences where a pair of words appear next to\n",
    "    each other, and return a dictionary of {pair of words: count}.\n",
    "    \"\"\"\n",
    "    combined_text = ' '.join([x for x in input_df[text_col]])\n",
    "\n",
    "    finder = BigramCollocationFinder.from_words(word_tokenize(combined_text))\n",
    "\n",
    "    bigrams_dict = {}\n",
    "    for k, v in finder.ngram_fd.items():\n",
    "        if len(k[0]) > 1 and len(k[1]) > 1:\n",
    "            bigrams_dict[k] = v\n",
    "        else:\n",
    "            continue\n",
    "    return bigrams_dict"
   ]
  },
  {
   "cell_type": "code",
   "execution_count": 138,
   "metadata": {},
   "outputs": [],
   "source": [
    "def plot_bigrams(input_df: pd.DataFrame,\n",
    "                 text_col: str,\n",
    "                 top_n: int,\n",
    "                 rotation=0.8,\n",
    "                 figsize=(10, 8)) -> None:\n",
    "\n",
    "    bigrams_dict = compute_bigrams(input_df=input_df, text_col=text_col)\n",
    "    bigrams_sorted = sorted(bigrams_dict.items(), key=lambda x: x[1], reverse=True)[0:top_n]\n",
    "    bgram, counts = list(zip(*bigrams_sorted))\n",
    "    bgstring = list(map(lambda txt: '_'.join(txt), bgram))\n",
    "\n",
    "    plt.figure(figsize=figsize)\n",
    "    g = sns.barplot(bgstring, counts, palette='muted')\n",
    "    g.set_xticklabels(g.get_xticklabels(), rotation=rotation)\n",
    "    plt.title(f'Top-{top_n} pairs of words that appear next to each other',\n",
    "              fontweight='bold')\n",
    "    plt.ylabel('Count')\n",
    "    plt.grid(True, alpha=0.1, color='black')\n",
    "    plt.show()"
   ]
  },
  {
   "cell_type": "code",
   "execution_count": 139,
   "metadata": {},
   "outputs": [],
   "source": [
    "bigrams = compute_bigrams(reviews_df, text_col='Clean_Review_String')"
   ]
  },
  {
   "cell_type": "code",
   "execution_count": 140,
   "metadata": {},
   "outputs": [
    {
     "data": {
      "text/html": [
       "<div>\n",
       "<style scoped>\n",
       "    .dataframe tbody tr th:only-of-type {\n",
       "        vertical-align: middle;\n",
       "    }\n",
       "\n",
       "    .dataframe tbody tr th {\n",
       "        vertical-align: top;\n",
       "    }\n",
       "\n",
       "    .dataframe thead th {\n",
       "        text-align: right;\n",
       "    }\n",
       "</style>\n",
       "<table border=\"1\" class=\"dataframe\">\n",
       "  <thead>\n",
       "    <tr style=\"text-align: right;\">\n",
       "      <th></th>\n",
       "      <th>Bigram</th>\n",
       "      <th>Count</th>\n",
       "    </tr>\n",
       "  </thead>\n",
       "  <tbody>\n",
       "    <tr>\n",
       "      <th>0</th>\n",
       "      <td>(missing, item)</td>\n",
       "      <td>781</td>\n",
       "    </tr>\n",
       "    <tr>\n",
       "      <th>1</th>\n",
       "      <td>(money, back)</td>\n",
       "      <td>760</td>\n",
       "    </tr>\n",
       "    <tr>\n",
       "      <th>2</th>\n",
       "      <td>(first, time)</td>\n",
       "      <td>719</td>\n",
       "    </tr>\n",
       "    <tr>\n",
       "      <th>3</th>\n",
       "      <td>(hour, late)</td>\n",
       "      <td>689</td>\n",
       "    </tr>\n",
       "    <tr>\n",
       "      <th>4</th>\n",
       "      <td>(even, though)</td>\n",
       "      <td>617</td>\n",
       "    </tr>\n",
       "    <tr>\n",
       "      <th>5</th>\n",
       "      <td>(never, arrived)</td>\n",
       "      <td>580</td>\n",
       "    </tr>\n",
       "    <tr>\n",
       "      <th>6</th>\n",
       "      <td>(live, chat)</td>\n",
       "      <td>483</td>\n",
       "    </tr>\n",
       "    <tr>\n",
       "      <th>7</th>\n",
       "      <td>(stone, cold)</td>\n",
       "      <td>462</td>\n",
       "    </tr>\n",
       "    <tr>\n",
       "      <th>8</th>\n",
       "      <td>(48, hour)</td>\n",
       "      <td>441</td>\n",
       "    </tr>\n",
       "    <tr>\n",
       "      <th>9</th>\n",
       "      <td>(said, would)</td>\n",
       "      <td>441</td>\n",
       "    </tr>\n",
       "    <tr>\n",
       "      <th>10</th>\n",
       "      <td>(item, missing)</td>\n",
       "      <td>416</td>\n",
       "    </tr>\n",
       "    <tr>\n",
       "      <th>11</th>\n",
       "      <td>(could, give)</td>\n",
       "      <td>403</td>\n",
       "    </tr>\n",
       "    <tr>\n",
       "      <th>12</th>\n",
       "      <td>(wrong, address)</td>\n",
       "      <td>391</td>\n",
       "    </tr>\n",
       "    <tr>\n",
       "      <th>13</th>\n",
       "      <td>(bad, ever)</td>\n",
       "      <td>389</td>\n",
       "    </tr>\n",
       "    <tr>\n",
       "      <th>14</th>\n",
       "      <td>(waste, time)</td>\n",
       "      <td>376</td>\n",
       "    </tr>\n",
       "  </tbody>\n",
       "</table>\n",
       "</div>"
      ],
      "text/plain": [
       "              Bigram  Count\n",
       "0    (missing, item)    781\n",
       "1      (money, back)    760\n",
       "2      (first, time)    719\n",
       "3       (hour, late)    689\n",
       "4     (even, though)    617\n",
       "5   (never, arrived)    580\n",
       "6       (live, chat)    483\n",
       "7      (stone, cold)    462\n",
       "8         (48, hour)    441\n",
       "9      (said, would)    441\n",
       "10   (item, missing)    416\n",
       "11     (could, give)    403\n",
       "12  (wrong, address)    391\n",
       "13       (bad, ever)    389\n",
       "14     (waste, time)    376"
      ]
     },
     "execution_count": 140,
     "metadata": {},
     "output_type": "execute_result"
    }
   ],
   "source": [
    "pd.DataFrame(sorted(bigrams.items(), key=lambda item: item[1], reverse=True), columns=['Bigram', 'Count']).head(15)"
   ]
  },
  {
   "cell_type": "code",
   "execution_count": 141,
   "metadata": {},
   "outputs": [
    {
     "data": {
      "image/png": "[encoded data removed]",
      "text/plain": [
       "<Figure size 1440x432 with 1 Axes>"
      ]
     },
     "metadata": {},
     "output_type": "display_data"
    }
   ],
   "source": [
    "plot_bigrams(input_df=reviews_df, text_col='Clean_Review_String', top_n=15, rotation=0.0, figsize=(20, 6))"
   ]
  },
  {
   "cell_type": "markdown",
   "metadata": {},
   "source": [
    "From the bigrams plot we can infer that there are 3 main topics in the data:\n",
    "\n",
    "1. Case where order arrived but an item was missing (e.g.\"missing item\")\n",
    "2. Case where items received very late (\"cold food\", \"stone cold\", \"hour cold\")\n",
    "3. Case when the order never arrived (\"wrong-adress\", \"never arrived\")\n",
    "    \n",
    "We can also observe that the bigram \"customer service\" appears in the majority of the reviews. This is something expected, as in general reviews in TrustPilot for delivery companies tend to contain reviews about problems that the customers might have faced. \n",
    "\n",
    "Hence, it's regular when a customer facing an issue with their order, to contact the customer service of the company, independently of the nature of the issue (i.e. any of the 3 points we mentioned above). Queries about the customer service might not add a lot of information in the data as they seem to be part around in 1/3 of the total reviews. One option would be to remove these words from our analysis - by adding them in the stopwords list - but for now we will leave this set of words inside our dataset as it might provide us with some useful findings later.\n",
    "\n",
    "In the next section we will finally get into the modelling part of the project. Based on our findings above and by leveraging a well known method for topic modelling (i.e. LDA), we will attempt to identify the different topics that exist inside the reviews."
   ]
  },
  {
   "cell_type": "markdown",
   "metadata": {},
   "source": [
    "<a id=\"lda\"></a>\n",
    "## Latent Dirichlet Allocation (LDA) Model\n",
    "\n",
    "LDA is one of the most - if not the most - common methods/algorithms used for _topic modeling_. We can think of topic modeling as an unsupervised technique where we use when we want to \"classify\" a collection of documents under a predefined amount of topics, _but_ without knowing what these topics are about. Algorithms that fall under this category are usually utilizing the frequencies that words appear in the documents to extract insights and identify clusters of documents that contain similar words. \n",
    "\n",
    "The LDA model attempts to identify these clusters of documents and create the topics by making a few assumptions, such:  \n",
    "\n",
    "    1) Each document is a collection of multiple topics (i.e. one document can belong to many topics at the same time) <br>\n",
    "    2) Each topic is represented by a collection/distribution of words\n",
    "    3) Each document is a distribution of words\n",
    "    \n",
    "Note that in LDA we do not care about the order of the words - hence we can think of LDA as a bag of words model. Intuitively this makes sense, as even if we change the order of words in a document we should still be able to infer what the document might be talking about just by observing the words that are present."
   ]
  },
  {
   "cell_type": "code",
   "execution_count": 199,
   "metadata": {},
   "outputs": [],
   "source": [
    "from sklearn.feature_extraction.text import CountVectorizer\n",
    "from sklearn.decomposition import LatentDirichletAllocation\n",
    "from scipy.sparse.csr import csr_matrix"
   ]
  },
  {
   "cell_type": "code",
   "execution_count": 200,
   "metadata": {},
   "outputs": [],
   "source": [
    "def sentence_to_ngram(text: str,\n",
    "                      ngram_size=2) -> List[str]:\n",
    "    \"\"\" Given a sentence as tokens, return the n-gram combinations joined by an\n",
    "    underscore.\n",
    "    \"\"\"\n",
    "    return [\"_\".join(w) for w in ngrams(text, ngram_size)]"
   ]
  },
  {
   "cell_type": "code",
   "execution_count": 201,
   "metadata": {},
   "outputs": [],
   "source": [
    "def countvectorizer_to_dict(vectorizer: CountVectorizer,\n",
    "                            matrix: csr_matrix) -> dict:\n",
    "    feature_names = vectorizer.get_feature_names()\n",
    "    counts = np.asarray(matrix.sum(axis=0))[0]\n",
    "    return dict(zip(feature_names, counts))"
   ]
  },
  {
   "cell_type": "code",
   "execution_count": 202,
   "metadata": {},
   "outputs": [],
   "source": [
    "def get_per_topic_wordweights(model,\n",
    "                           feature_names: List[str],\n",
    "                           sort=True):\n",
    "    word_weights_per_topic = []\n",
    "    for i, topic in enumerate(model.components_):\n",
    "        weights = list(zip(feature_names, topic))\n",
    "        if sort:\n",
    "            weights = sorted(weights, key=lambda x: x[1], reverse=True)\n",
    "        word_weights_per_topic.append([i, weights])\n",
    "    return word_weights_per_topic"
   ]
  },
  {
   "cell_type": "code",
   "execution_count": 203,
   "metadata": {},
   "outputs": [],
   "source": [
    "def show_top_words_per_topic(model,\n",
    "                             feature_names: List[str],\n",
    "                             num_top_words: int):\n",
    "    for i in range(0, len(model.components_)):\n",
    "        weights = get_per_topic_wordweights(model, feature_names)[i][1]\n",
    "        print('Topic {0} : {1} \\n'.format(i+1, weights[0:num_top_words]))"
   ]
  },
  {
   "cell_type": "markdown",
   "metadata": {},
   "source": [
    "<a id=\"bigrams_lda\"></a>\n",
    "Compute the bigrams which will be the new tokens:"
   ]
  },
  {
   "cell_type": "code",
   "execution_count": 204,
   "metadata": {},
   "outputs": [
    {
     "name": "stderr",
     "output_type": "stream",
     "text": [
      "C:\\ProgramData\\Anaconda3\\lib\\site-packages\\ipykernel_launcher.py:6: DeprecationWarning: generator 'ngrams' raised StopIteration\n",
      "  \n"
     ]
    }
   ],
   "source": [
    "reviews_df['Review_Bigram'] = reviews_df['Review_Lemmatized'].apply(lambda row: sentence_to_ngram(text=row, ngram_size=2))"
   ]
  },
  {
   "cell_type": "code",
   "execution_count": 205,
   "metadata": {},
   "outputs": [],
   "source": [
    "reviews_df['Review_Bigram_Sentence'] = reviews_df['Review_Bigram'].apply(lambda row: ' '.join([x for x in row]))"
   ]
  },
  {
   "cell_type": "code",
   "execution_count": 206,
   "metadata": {},
   "outputs": [
    {
     "data": {
      "text/html": [
       "<div>\n",
       "<style scoped>\n",
       "    .dataframe tbody tr th:only-of-type {\n",
       "        vertical-align: middle;\n",
       "    }\n",
       "\n",
       "    .dataframe tbody tr th {\n",
       "        vertical-align: top;\n",
       "    }\n",
       "\n",
       "    .dataframe thead th {\n",
       "        text-align: right;\n",
       "    }\n",
       "</style>\n",
       "<table border=\"1\" class=\"dataframe\">\n",
       "  <thead>\n",
       "    <tr style=\"text-align: right;\">\n",
       "      <th></th>\n",
       "      <th>Company</th>\n",
       "      <th>Id</th>\n",
       "      <th>Reviewer_Id</th>\n",
       "      <th>Title</th>\n",
       "      <th>Review</th>\n",
       "      <th>Date</th>\n",
       "      <th>Rating</th>\n",
       "      <th>Rating_Text</th>\n",
       "      <th>Review_Tokenized</th>\n",
       "      <th>Review_Lemmatized</th>\n",
       "      <th>Clean_Review_String</th>\n",
       "      <th>Review_Bigram</th>\n",
       "      <th>Review_Bigram_Sentence</th>\n",
       "      <th>Topic_Likelihood</th>\n",
       "      <th>Topic_Num</th>\n",
       "      <th>Topic</th>\n",
       "    </tr>\n",
       "  </thead>\n",
       "  <tbody>\n",
       "    <tr>\n",
       "      <th>0</th>\n",
       "      <td>Deliveroo</td>\n",
       "      <td>60709f95f85d75087052ff8b</td>\n",
       "      <td>60709f8f0a30fd001b06dc52</td>\n",
       "      <td>Ordered food and apparently the driver…</td>\n",
       "      <td>Ordered food and apparently the driver was wai...</td>\n",
       "      <td>2021-04-09 18:40:00</td>\n",
       "      <td>2</td>\n",
       "      <td>Poor</td>\n",
       "      <td>[ordered, apparently, waiting, 10, mins, even,...</td>\n",
       "      <td>[ordered, apparently, waiting, 10, min, even, ...</td>\n",
       "      <td>ordered apparently waiting 10 min even though ...</td>\n",
       "      <td>[ordered_apparently, apparently_waiting, waiti...</td>\n",
       "      <td>ordered_apparently apparently_waiting waiting_...</td>\n",
       "      <td>[0.04917856659167911, 0.3226163105122353, 0.62...</td>\n",
       "      <td>0</td>\n",
       "      <td>Indecisive</td>\n",
       "    </tr>\n",
       "    <tr>\n",
       "      <th>1</th>\n",
       "      <td>Deliveroo</td>\n",
       "      <td>60708710f85d75087052c89b</td>\n",
       "      <td>6070870c2158190019b3ab8e</td>\n",
       "      <td>Disgusting Live Customer Service CHAT!!!</td>\n",
       "      <td>I received standard bag of buttons that cost £...</td>\n",
       "      <td>2021-04-09 16:55:00</td>\n",
       "      <td>1</td>\n",
       "      <td>Bad</td>\n",
       "      <td>[received, standard, bag, buttons, cost, £1.60...</td>\n",
       "      <td>[received, standard, bag, button, cost, £1.60,...</td>\n",
       "      <td>received standard bag button cost £1.60 asked ...</td>\n",
       "      <td>[received_standard, standard_bag, bag_button, ...</td>\n",
       "      <td>received_standard standard_bag bag_button butt...</td>\n",
       "      <td>[0.02762176319354423, 0.671966996496597, 0.300...</td>\n",
       "      <td>2</td>\n",
       "      <td>Delayed Order</td>\n",
       "    </tr>\n",
       "    <tr>\n",
       "      <th>2</th>\n",
       "      <td>Deliveroo</td>\n",
       "      <td>60707b91f85d75087052abb6</td>\n",
       "      <td>602eb3ac49aeca0019ad4b70</td>\n",
       "      <td>Just had an appalling experience with…</td>\n",
       "      <td>Just had an appalling experience with delivero...</td>\n",
       "      <td>2021-04-09 16:06:00</td>\n",
       "      <td>1</td>\n",
       "      <td>Bad</td>\n",
       "      <td>[appalling, experience, ordered, pizza, £10, d...</td>\n",
       "      <td>[appalling, experience, ordered, pizza, £10, d...</td>\n",
       "      <td>appalling experience ordered pizza £10 discoun...</td>\n",
       "      <td>[appalling_experience, experience_ordered, ord...</td>\n",
       "      <td>appalling_experience experience_ordered ordere...</td>\n",
       "      <td>[0.02219316551522438, 0.4994519591875866, 0.47...</td>\n",
       "      <td>0</td>\n",
       "      <td>Indecisive</td>\n",
       "    </tr>\n",
       "  </tbody>\n",
       "</table>\n",
       "</div>"
      ],
      "text/plain": [
       "     Company                        Id               Reviewer_Id  \\\n",
       "0  Deliveroo  60709f95f85d75087052ff8b  60709f8f0a30fd001b06dc52   \n",
       "1  Deliveroo  60708710f85d75087052c89b  6070870c2158190019b3ab8e   \n",
       "2  Deliveroo  60707b91f85d75087052abb6  602eb3ac49aeca0019ad4b70   \n",
       "\n",
       "                                      Title  \\\n",
       "0   Ordered food and apparently the driver…   \n",
       "1  Disgusting Live Customer Service CHAT!!!   \n",
       "2    Just had an appalling experience with…   \n",
       "\n",
       "                                              Review                Date  \\\n",
       "0  Ordered food and apparently the driver was wai... 2021-04-09 18:40:00   \n",
       "1  I received standard bag of buttons that cost £... 2021-04-09 16:55:00   \n",
       "2  Just had an appalling experience with delivero... 2021-04-09 16:06:00   \n",
       "\n",
       "   Rating Rating_Text                                   Review_Tokenized  \\\n",
       "0       2        Poor  [ordered, apparently, waiting, 10, mins, even,...   \n",
       "1       1         Bad  [received, standard, bag, buttons, cost, £1.60...   \n",
       "2       1         Bad  [appalling, experience, ordered, pizza, £10, d...   \n",
       "\n",
       "                                   Review_Lemmatized  \\\n",
       "0  [ordered, apparently, waiting, 10, min, even, ...   \n",
       "1  [received, standard, bag, button, cost, £1.60,...   \n",
       "2  [appalling, experience, ordered, pizza, £10, d...   \n",
       "\n",
       "                                 Clean_Review_String  \\\n",
       "0  ordered apparently waiting 10 min even though ...   \n",
       "1  received standard bag button cost £1.60 asked ...   \n",
       "2  appalling experience ordered pizza £10 discoun...   \n",
       "\n",
       "                                       Review_Bigram  \\\n",
       "0  [ordered_apparently, apparently_waiting, waiti...   \n",
       "1  [received_standard, standard_bag, bag_button, ...   \n",
       "2  [appalling_experience, experience_ordered, ord...   \n",
       "\n",
       "                              Review_Bigram_Sentence  \\\n",
       "0  ordered_apparently apparently_waiting waiting_...   \n",
       "1  received_standard standard_bag bag_button butt...   \n",
       "2  appalling_experience experience_ordered ordere...   \n",
       "\n",
       "                                    Topic_Likelihood  Topic_Num          Topic  \n",
       "0  [0.04917856659167911, 0.3226163105122353, 0.62...          0     Indecisive  \n",
       "1  [0.02762176319354423, 0.671966996496597, 0.300...          2  Delayed Order  \n",
       "2  [0.02219316551522438, 0.4994519591875866, 0.47...          0     Indecisive  "
      ]
     },
     "execution_count": 206,
     "metadata": {},
     "output_type": "execute_result"
    }
   ],
   "source": [
    "reviews_df.head(3)"
   ]
  },
  {
   "cell_type": "code",
   "execution_count": 207,
   "metadata": {},
   "outputs": [],
   "source": [
    "vectorizer = CountVectorizer(max_df=0.85,\n",
    "                             min_df=10,\n",
    "                             max_features=10000)"
   ]
  },
  {
   "cell_type": "markdown",
   "metadata": {},
   "source": [
    "The above object will help us with creating a sparse matrix where each row is a document and each column is a word.<br>\n",
    "The value under $x_i, y_i$ represents a count of how many times that specific word ($y_i$) appears in that document ($x_i$)."
   ]
  },
  {
   "cell_type": "code",
   "execution_count": 208,
   "metadata": {},
   "outputs": [],
   "source": [
    "cv = vectorizer.fit_transform(reviews_df['Review_Bigram_Sentence'])"
   ]
  },
  {
   "cell_type": "code",
   "execution_count": 209,
   "metadata": {},
   "outputs": [
    {
     "data": {
      "text/plain": [
       "(17583, 6773)"
      ]
     },
     "execution_count": 209,
     "metadata": {},
     "output_type": "execute_result"
    }
   ],
   "source": [
    "cv.shape"
   ]
  },
  {
   "cell_type": "markdown",
   "metadata": {},
   "source": [
    "Thus, we can see that we have created a matrix which consist of 16583 distinct documents (reviews) and a total of 6000 words. Note that 6000 is an arbitrary number that the data analyst has to decide depending on the context of the problem. As a reminder, in our project we are working with bigrams, and thus we have create a matrix where each column is a bigram combination.\n",
    "\n",
    "We can better visualize it as follows:"
   ]
  },
  {
   "cell_type": "code",
   "execution_count": 210,
   "metadata": {},
   "outputs": [],
   "source": [
    "word_counts = countvectorizer_to_dict(vectorizer=vectorizer, matrix=cv)"
   ]
  },
  {
   "cell_type": "code",
   "execution_count": 211,
   "metadata": {},
   "outputs": [
    {
     "data": {
      "text/html": [
       "<div>\n",
       "<style scoped>\n",
       "    .dataframe tbody tr th:only-of-type {\n",
       "        vertical-align: middle;\n",
       "    }\n",
       "\n",
       "    .dataframe tbody tr th {\n",
       "        vertical-align: top;\n",
       "    }\n",
       "\n",
       "    .dataframe thead th {\n",
       "        text-align: right;\n",
       "    }\n",
       "</style>\n",
       "<table border=\"1\" class=\"dataframe\">\n",
       "  <thead>\n",
       "    <tr style=\"text-align: right;\">\n",
       "      <th></th>\n",
       "      <th>Bigram</th>\n",
       "      <th>Count</th>\n",
       "    </tr>\n",
       "  </thead>\n",
       "  <tbody>\n",
       "    <tr>\n",
       "      <th>0</th>\n",
       "      <td>10</td>\n",
       "      <td>844</td>\n",
       "    </tr>\n",
       "    <tr>\n",
       "      <th>1</th>\n",
       "      <td>money_back</td>\n",
       "      <td>796</td>\n",
       "    </tr>\n",
       "    <tr>\n",
       "      <th>2</th>\n",
       "      <td>missing_item</td>\n",
       "      <td>789</td>\n",
       "    </tr>\n",
       "    <tr>\n",
       "      <th>3</th>\n",
       "      <td>2_hour</td>\n",
       "      <td>762</td>\n",
       "    </tr>\n",
       "    <tr>\n",
       "      <th>4</th>\n",
       "      <td>first_time</td>\n",
       "      <td>730</td>\n",
       "    </tr>\n",
       "    <tr>\n",
       "      <th>5</th>\n",
       "      <td>hour_late</td>\n",
       "      <td>693</td>\n",
       "    </tr>\n",
       "    <tr>\n",
       "      <th>6</th>\n",
       "      <td>30</td>\n",
       "      <td>684</td>\n",
       "    </tr>\n",
       "    <tr>\n",
       "      <th>7</th>\n",
       "      <td>even_though</td>\n",
       "      <td>621</td>\n",
       "    </tr>\n",
       "    <tr>\n",
       "      <th>8</th>\n",
       "      <td>20</td>\n",
       "      <td>599</td>\n",
       "    </tr>\n",
       "    <tr>\n",
       "      <th>9</th>\n",
       "      <td>never_arrived</td>\n",
       "      <td>597</td>\n",
       "    </tr>\n",
       "    <tr>\n",
       "      <th>10</th>\n",
       "      <td>15</td>\n",
       "      <td>560</td>\n",
       "    </tr>\n",
       "    <tr>\n",
       "      <th>11</th>\n",
       "      <td>50</td>\n",
       "      <td>542</td>\n",
       "    </tr>\n",
       "    <tr>\n",
       "      <th>12</th>\n",
       "      <td>live_chat</td>\n",
       "      <td>492</td>\n",
       "    </tr>\n",
       "    <tr>\n",
       "      <th>13</th>\n",
       "      <td>stone_cold</td>\n",
       "      <td>476</td>\n",
       "    </tr>\n",
       "    <tr>\n",
       "      <th>14</th>\n",
       "      <td>48_hour</td>\n",
       "      <td>460</td>\n",
       "    </tr>\n",
       "  </tbody>\n",
       "</table>\n",
       "</div>"
      ],
      "text/plain": [
       "           Bigram  Count\n",
       "0              10    844\n",
       "1      money_back    796\n",
       "2    missing_item    789\n",
       "3          2_hour    762\n",
       "4      first_time    730\n",
       "5       hour_late    693\n",
       "6              30    684\n",
       "7     even_though    621\n",
       "8              20    599\n",
       "9   never_arrived    597\n",
       "10             15    560\n",
       "11             50    542\n",
       "12      live_chat    492\n",
       "13     stone_cold    476\n",
       "14        48_hour    460"
      ]
     },
     "execution_count": 211,
     "metadata": {},
     "output_type": "execute_result"
    }
   ],
   "source": [
    "pd.DataFrame(sorted(word_counts.items(), key=lambda item: item[1], reverse=True), columns=['Bigram', 'Count']).head(15)"
   ]
  },
  {
   "cell_type": "markdown",
   "metadata": {},
   "source": [
    "Latent Dirichlet Allocation model requires the number of topics as an input from the user. As we saw above, seems like the reviews are splitted into 3 categories.\n",
    "Therefore, we are going to set this parameter to 3 and attempt to identify these topics in the reviews."
   ]
  },
  {
   "cell_type": "code",
   "execution_count": 212,
   "metadata": {},
   "outputs": [],
   "source": [
    "number_of_topics = 3"
   ]
  },
  {
   "cell_type": "code",
   "execution_count": 213,
   "metadata": {},
   "outputs": [],
   "source": [
    "lda_model = LatentDirichletAllocation(n_components=number_of_topics,\n",
    "                                      max_iter=30,\n",
    "                                      random_state=10,\n",
    "                                      n_jobs=-1,\n",
    "                                      verbose=0)"
   ]
  },
  {
   "cell_type": "code",
   "execution_count": 214,
   "metadata": {},
   "outputs": [
    {
     "data": {
      "text/plain": [
       "LatentDirichletAllocation(batch_size=128, doc_topic_prior=None,\n",
       "                          evaluate_every=-1, learning_decay=0.7,\n",
       "                          learning_method='batch', learning_offset=10.0,\n",
       "                          max_doc_update_iter=100, max_iter=30,\n",
       "                          mean_change_tol=0.001, n_components=3, n_jobs=-1,\n",
       "                          perp_tol=0.1, random_state=10, topic_word_prior=None,\n",
       "                          total_samples=1000000.0, verbose=0)"
      ]
     },
     "execution_count": 214,
     "metadata": {},
     "output_type": "execute_result"
    }
   ],
   "source": [
    "lda_model.fit(cv)"
   ]
  },
  {
   "cell_type": "code",
   "execution_count": 215,
   "metadata": {},
   "outputs": [
    {
     "data": {
      "text/plain": [
       "(3, 6773, 6773, 6773)"
      ]
     },
     "execution_count": 215,
     "metadata": {},
     "output_type": "execute_result"
    }
   ],
   "source": [
    "len(lda_model.components_), len(lda_model.components_[0]), len(lda_model.components_[1]), len(lda_model.components_[2])"
   ]
  },
  {
   "cell_type": "markdown",
   "metadata": {},
   "source": [
    "We can see the weight (parameter) of each word for a specific topic, as follows:"
   ]
  },
  {
   "cell_type": "code",
   "execution_count": 216,
   "metadata": {},
   "outputs": [
    {
     "data": {
      "text/plain": [
       "array([ 0.36930034,  0.36176845,  0.34969906, ...,  5.50763116,\n",
       "       28.76807469,  1.17695969])"
      ]
     },
     "execution_count": 216,
     "metadata": {},
     "output_type": "execute_result"
    }
   ],
   "source": [
    "lda_model.components_[0]"
   ]
  },
  {
   "cell_type": "markdown",
   "metadata": {},
   "source": [
    "The above can be interpreted as a pseudocount of the number of times that word (bigram) $x_i$ was assigned to document topic $z_i$. Hence, the first case in the example we have a pseudocount of 3.08690378 for word $x_1$ on topic 0 (which is the first topic)."
   ]
  },
  {
   "cell_type": "code",
   "execution_count": 217,
   "metadata": {},
   "outputs": [],
   "source": [
    "topic_weights = get_per_topic_wordweights(lda_model,\n",
    "                                          feature_names=vectorizer.get_feature_names(),\n",
    "                                          sort=True)"
   ]
  },
  {
   "cell_type": "code",
   "execution_count": 218,
   "metadata": {},
   "outputs": [
    {
     "data": {
      "text/plain": [
       "[('never_arrived', 597.2743025392584),\n",
       " ('money_back', 564.7034973732632),\n",
       " ('48_hour', 460.28722348642793),\n",
       " ('wrong_address', 394.65903671595345),\n",
       " ('said_would', 363.2398968501187)]"
      ]
     },
     "execution_count": 218,
     "metadata": {},
     "output_type": "execute_result"
    }
   ],
   "source": [
    "# This corresponds to topic 0, and the top 5 bigrams accounting for this topic\n",
    "topic_weights[0][1][0:5]  # [1] is a positional index and should remain same independently of the document"
   ]
  },
  {
   "cell_type": "code",
   "execution_count": 220,
   "metadata": {},
   "outputs": [
    {
     "name": "stdout",
     "output_type": "stream",
     "text": [
      "Topic 1 : [('never_arrived', 597.2743025392584), ('money_back', 564.7034973732632), ('48_hour', 460.28722348642793), ('wrong_address', 394.65903671595345), ('said_would', 363.2398968501187), ('never_received', 343.2691081804004), ('even_though', 313.7268555191171), ('said_delivered', 283.2852371904592), ('live_chat', 274.169712701556), ('called_restaurant', 244.0657479674201), ('delivered_wrong', 236.45187052442424), ('phone_call', 234.0672829469344), ('marked_delivered', 229.285152745478), ('took_money', 226.22652462814068), ('told_would', 219.94219397031964)] \n",
      "\n",
      "Topic 2 : [('missing_item', 789.2940681036048), ('item_missing', 422.2782870224937), ('promo_code', 356.30740325701873), ('bad_experience', 346.4089743487296), ('even_though', 271.04813570378644), ('bad_company', 260.76652498733876), ('bad_ever', 237.37835225793648), ('money_back', 218.12472543191015), ('waste_time', 213.11989049697698), ('99', 207.21175290566973), ('first_time', 201.418785977362), ('every_time', 197.34635956721294), ('the', 195.91267049054744), ('discount_code', 193.29531591962933), ('service', 188.02585827619865)] \n",
      "\n",
      "Topic 3 : [('2_hour', 762.2644395097445), ('10', 723.827467269214), ('30', 637.6990382293691), ('20', 599.2023238973792), ('hour_late', 583.2985768895604), ('first_time', 481.294765637801), ('stone_cold', 434.52943972235255), ('50', 419.2892325137936), ('15', 387.29827112426693), ('could_give', 385.5924783634658), ('last_time', 378.14287911909), ('11', 358.2699487688409), ('00', 350.23896441064886), ('19', 296.23269720847526), ('star_would', 295.8690351939511)] \n",
      "\n"
     ]
    }
   ],
   "source": [
    "show_top_words_per_topic(lda_model, feature_names=vectorizer.get_feature_names(), num_top_words=15)"
   ]
  },
  {
   "cell_type": "markdown",
   "metadata": {},
   "source": [
    "Therefore we can see that the algorithm has identified the following 3 topics:\n",
    "\n",
    "- Topic 1: This appears to be the topic arround orders that were never arrived to their destination \n",
    "- Topic 2: This topic consists of reviews where the order took a significant amount to be completed \n",
    "- Topic 3: Cases where an item was missing from the order"
   ]
  },
  {
   "cell_type": "code",
   "execution_count": 221,
   "metadata": {},
   "outputs": [],
   "source": [
    "topic_to_review_distribution = lda_model.transform(cv)"
   ]
  },
  {
   "cell_type": "code",
   "execution_count": 222,
   "metadata": {},
   "outputs": [],
   "source": [
    "def assign_topic(topic_probs: List[float], threshold=0.65) -> int:\n",
    "    \"\"\" Assign a topic to a review based on the topic with the highest probability.\n",
    "    If no topic probability exceeds threshold, no assignment is being completed.\n",
    "    \"\"\"\n",
    "    max_likelihood = np.max(topic_probs)\n",
    "    if threshold <= max_likelihood:\n",
    "        max_topic_idx = np.argmax(topic_probs)\n",
    "        if max_topic_idx==0:\n",
    "            max_topic_idx = 1\n",
    "        else:\n",
    "            max_topic_idx += 1\n",
    "        return max_topic_idx\n",
    "    else:\n",
    "        return 0"
   ]
  },
  {
   "cell_type": "code",
   "execution_count": 223,
   "metadata": {},
   "outputs": [],
   "source": [
    "topics_map = {0: 'Indecisive',\n",
    "              1: 'Order Never Arrived',\n",
    "              2: 'Missing/Wrong Item',\n",
    "              3: 'Delayed Order' }"
   ]
  },
  {
   "cell_type": "code",
   "execution_count": 224,
   "metadata": {},
   "outputs": [],
   "source": [
    "reviews_df['Topic_Likelihood'] = topic_to_review_distribution.tolist()"
   ]
  },
  {
   "cell_type": "code",
   "execution_count": 225,
   "metadata": {},
   "outputs": [],
   "source": [
    "reviews_df['Topic_Num'] = reviews_df['Topic_Likelihood'].apply(lambda row: assign_topic(row))"
   ]
  },
  {
   "cell_type": "code",
   "execution_count": 226,
   "metadata": {},
   "outputs": [],
   "source": [
    "reviews_df['Topic'] = reviews_df['Topic_Num'].apply(lambda row: topics_map[row])"
   ]
  },
  {
   "cell_type": "code",
   "execution_count": 227,
   "metadata": {},
   "outputs": [
    {
     "name": "stdout",
     "output_type": "stream",
     "text": [
      "                                                                                                Review  \\\n",
      "0  Ordered food and apparently the driver was waiting for 10 mins to deliver the food even though I...   \n",
      "1  I received standard bag of buttons that cost £1.60 but I asked for share bags at £2.85 so I've b...   \n",
      "2  Just had an appalling experience with deliveroo. Had ordered a pizza with a £10 discount code th...   \n",
      "3  The same situation happened twice. I ordered food around 10 pm and been waiting for the food for...   \n",
      "4                                               Driver turned up late couldn’t find us and left. Awful   \n",
      "\n",
      "           Topic  Topic_Num  \n",
      "0     Indecisive          0  \n",
      "1  Delayed Order          3  \n",
      "2     Indecisive          0  \n",
      "3  Delayed Order          3  \n",
      "4     Indecisive          0  \n"
     ]
    }
   ],
   "source": [
    "with pd.option_context('display.max_colwidth', 100):\n",
    "    print(reviews_df[['Review', 'Topic', 'Topic_Num']].head(5))"
   ]
  },
  {
   "cell_type": "code",
   "execution_count": 228,
   "metadata": {},
   "outputs": [],
   "source": [
    "def get_review_summary(input_df: pd.DataFrame,\n",
    "                       rev_idx: int,\n",
    "                       topics_map=topics_map):\n",
    "    \n",
    "    print('\\x1b[1;30m' + 'Review: ' + '\\x1b[0m' + input_df['Review'].iloc[rev_idx] + '\\n')\n",
    "    print('\\x1b[1;30m' + 'Predicted Topic: ' + '\\x1b[0m' + input_df['Topic'].iloc[rev_idx] + '\\n')\n",
    "    print(input_df['Topic_Likelihood'].iloc[rev_idx])\n",
    "    \n",
    "    topic_to_likelihood = list(zip(list(topics_map.keys()),\n",
    "                                   list(topics_map.values()),\n",
    "                                   [0.0] + input_df['Topic_Likelihood'].iloc[rev_idx]))\n",
    "    l_df = pd.DataFrame(topic_to_likelihood, columns = ['Topic_Num', 'Topic', 'Likelihood'])\n",
    "    \n",
    "    plt.figure(figsize=(12, 6))\n",
    "    sns.barplot(x='Topic', y='Likelihood', data=l_df)\n",
    "    plt.ylim(0, 1.0)\n",
    "    plt.grid(True, alpha=0.2, linestyle='-', color='black')\n",
    "    plt.show()"
   ]
  },
  {
   "cell_type": "markdown",
   "metadata": {},
   "source": [
    "We can visualize the results for a few random cases:"
   ]
  },
  {
   "cell_type": "code",
   "execution_count": 233,
   "metadata": {},
   "outputs": [
    {
     "name": "stdout",
     "output_type": "stream",
     "text": [
      "\u001b[1;30mReview: \u001b[0mI ordered from a restaurant through Deliveroo and it was a big mistake, I told them our food was cold, missing items and they only offered to give £5.70 in credit to their crap service. Our ordered was £26 in total and was 45 minutes late.\n",
      "\n",
      "\u001b[1;30mPredicted Topic: \u001b[0mDelayed Order\n",
      "\n",
      "[0.03128945717619441, 0.22483151539891866, 0.7438790274248869]\n"
     ]
    },
    {
     "data": {
      "image/png": "[encoded data removed]",
      "text/plain": [
       "<Figure size 864x432 with 1 Axes>"
      ]
     },
     "metadata": {},
     "output_type": "display_data"
    }
   ],
   "source": [
    "get_review_summary(input_df=reviews_df, rev_idx=785, topics_map=topics_map)"
   ]
  },
  {
   "cell_type": "code",
   "execution_count": 234,
   "metadata": {},
   "outputs": [
    {
     "name": "stdout",
     "output_type": "stream",
     "text": [
      "\u001b[1;30mReview: \u001b[0mMy order wasn't delivered and it's marked as delivered in the system. I called customer service and they told it's going to be investigated and I'll receive an email about the results within 24 to 48 hours. They didn't send any email and didn't refund the money back either. I called them after 6 days, and my refund has been processed after the call. Go after your refunds or you'll receive nothing!\n",
      "\n",
      "\u001b[1;30mPredicted Topic: \u001b[0mOrder Never Arrived\n",
      "\n",
      "[0.9470612286754515, 0.027064628820970934, 0.025874142503577526]\n"
     ]
    },
    {
     "data": {
      "image/png": "[encoded data removed]",
      "text/plain": [
       "<Figure size 864x432 with 1 Axes>"
      ]
     },
     "metadata": {},
     "output_type": "display_data"
    }
   ],
   "source": [
    "get_review_summary(input_df=reviews_df, rev_idx=1456, topics_map=topics_map)"
   ]
  },
  {
   "cell_type": "code",
   "execution_count": 240,
   "metadata": {},
   "outputs": [
    {
     "name": "stdout",
     "output_type": "stream",
     "text": [
      "\u001b[1;30mReview: \u001b[0mOrdered two separate grocery orders in the same week from different stores. On both occasions there were items missing ( drivers checked their bags ) These weren’t cheap items, so I emailed the so called customer service dept FOUR times, and not one single response! They also have the audacity to send me promotional emails, so they know how to communicate. I will never use them again, their service has really declined over the last year or so.\n",
      "\n",
      "\u001b[1;30mPredicted Topic: \u001b[0mMissing/Wrong Item\n",
      "\n",
      "[0.04988169215330328, 0.9009658826753009, 0.04915242517139573]\n"
     ]
    },
    {
     "data": {
      "image/png": "[encoded data removed]",
      "text/plain": [
       "<Figure size 864x432 with 1 Axes>"
      ]
     },
     "metadata": {},
     "output_type": "display_data"
    }
   ],
   "source": [
    "get_review_summary(input_df=reviews_df, rev_idx=1489, topics_map=topics_map)"
   ]
  },
  {
   "cell_type": "markdown",
   "metadata": {},
   "source": [
    "#### LDA Implementiation with gensim"
   ]
  },
  {
   "cell_type": "code",
   "execution_count": 137,
   "metadata": {},
   "outputs": [],
   "source": [
    "rev = list(reviews_df['Review_Bigram'])"
   ]
  },
  {
   "cell_type": "code",
   "execution_count": 138,
   "metadata": {},
   "outputs": [],
   "source": [
    "from gensim import corpora, models"
   ]
  },
  {
   "cell_type": "code",
   "execution_count": 139,
   "metadata": {},
   "outputs": [],
   "source": [
    "dictionary_LDA = corpora.Dictionary(rev)\n",
    "dictionary_LDA.filter_extremes(no_below=3)\n",
    "corpus = [dictionary_LDA.doc2bow(list_of_tokens) for list_of_tokens in rev]"
   ]
  },
  {
   "cell_type": "code",
   "execution_count": 140,
   "metadata": {},
   "outputs": [],
   "source": [
    "num_topics = 3"
   ]
  },
  {
   "cell_type": "code",
   "execution_count": 141,
   "metadata": {},
   "outputs": [],
   "source": [
    "lda_model = models.LdaModel(corpus,\n",
    "                            num_topics=num_topics,\n",
    "                            id2word=dictionary_LDA,\n",
    "                            passes=4,\n",
    "                            alpha=[0.01]*num_topics,\n",
    "                            eta=[0.01]*len(dictionary_LDA.keys()))"
   ]
  },
  {
   "cell_type": "code",
   "execution_count": 142,
   "metadata": {},
   "outputs": [
    {
     "name": "stdout",
     "output_type": "stream",
     "text": [
      "0: 0.008*\"hour_late\" + 0.007*\"could_give\" + 0.006*\"money_back\" + 0.005*\"star_would\" + 0.005*\"give_star\" + 0.005*\"first_time\" + 0.005*\"would_give\" + 0.004*\"called_restaurant\" + 0.004*\"zero_star\" + 0.004*\"never_arrived\" + 0.004*\"minute_late\" + 0.004*\"give_zero\" + 0.004*\"hour_half\" + 0.003*\"live_chat\" + 0.003*\"last_time\"\n",
      "\n",
      "1: 0.006*\"money_back\" + 0.006*\"even_though\" + 0.005*\"wrong_address\" + 0.005*\"first_time\" + 0.005*\"bad_ever\" + 0.004*\"bad_company\" + 0.004*\"promo_code\" + 0.004*\"waste_time\" + 0.004*\"company_ever\" + 0.004*\"take_money\" + 0.003*\"go_wrong\" + 0.003*\"credit_card\" + 0.003*\"never_eats\" + 0.003*\"delivered_wrong\" + 0.003*\"took_money\"\n",
      "\n",
      "2: 0.014*\"missing_item\" + 0.007*\"bad_experience\" + 0.006*\"item_missing\" + 0.006*\"stone_cold\" + 0.004*\"never_arrived\" + 0.004*\"avoid_avoid\" + 0.003*\"live_chat\" + 0.003*\"first_time\" + 0.003*\"said_would\" + 0.003*\"every_time\" + 0.003*\"still_charged\" + 0.003*\"even_though\" + 0.003*\"eats_app\" + 0.003*\"money_back\" + 0.003*\"still_waiting\"\n",
      "\n"
     ]
    }
   ],
   "source": [
    "for i,topic in lda_model.show_topics(formatted=True, num_topics=num_topics, num_words=15):\n",
    "    print(str(i)+\": \"+ topic)\n",
    "    print()"
   ]
  },
  {
   "cell_type": "code",
   "execution_count": 77,
   "metadata": {},
   "outputs": [
    {
     "data": {
      "text/plain": [
       "[(1, 0.9971519)]"
      ]
     },
     "execution_count": 77,
     "metadata": {},
     "output_type": "execute_result"
    }
   ],
   "source": [
    "lda_model[corpus[6]]"
   ]
  },
  {
   "cell_type": "code",
   "execution_count": 78,
   "metadata": {},
   "outputs": [
    {
     "data": {
      "text/html": [
       "\n",
       "<link rel=\"stylesheet\" type=\"text/css\" href=\"https://cdn.jsdelivr.net/gh/bmabey/pyLDAvis@3.2.2/pyLDAvis/js/ldavis.v1.0.0.css\">\n",
       "\n",
       "\n",
       "<div id=\"ldavis_el1800017931920832722695937680\"></div>\n",
       "<script type=\"text/javascript\">\n",
       "\n",
       "var ldavis_el1800017931920832722695937680_data = {\"mdsDat\": {\"x\": [-0.12354760491699286, -0.14566576857853153, 0.2692133734955244], \"y\": [0.21628771618523313, -0.20475691933521567, -0.011530796850017488], \"topics\": [1, 2, 3], \"cluster\": [1, 1, 1], \"Freq\": [37.81253248545368, 32.38318433919449, 29.80428317535183]}, \"tinfo\": {\"Term\": [\"missing_item\", \"promo_code\", \"item_missing\", \"money_back\", \"ordered_eats\", \"never_arrived\", \"avoid_avoid\", \"wrong_address\", \"experience_ever\", \"eats_app\", \"speak_anyone\", \"cold_inedible\", \"ice_cream\", \"said_would\", \"bad_experience\", \"eats_never\", \"could_give\", \"code_work\", \"take_long\", \"help_section\", \"star_would\", \"delivered_wrong\", \"find_address\", \"keep_getting\", \"double_check\", \"still_charged\", \"stone_cold\", \"could_find\", \"waited_hour\", \"kept_getting\", \"eats_app\", \"double_check\", \"never_app\", \"charged_never\", \"could_anything\", \"money_never\", \"help_section\", \"absolutely_ridiculous\", \"waited_outside\", \"ordered_ubereats\", \"waiting_minute\", \"company_never\", \"back_said\", \"used_app\", \"account_hacked\", \"charge_fee\", \"ever_eats\", \"waiting_outside\", \"telephone_number\", \"restaurant_cancel\", \"lost_money\", \"deleting_account\", \"hour_delivered\", \"ice_cream\", \"hour_since\", \"experience_eats\", \"answer_question\", \"ca_believe\", \"late_cancelled\", \"replied_saying\", \"experience_ever\", \"single_time\", \"time_frame\", \"keep_sending\", \"every_single\", \"could_cancel\", \"never_recommend\", \"screen_shot\", \"bad_experience\", \"outside_house\", \"never_arrived\", \"marked_delivered\", \"wrong_address\", \"called_restaurant\", \"said_would\", \"straight_away\", \"tried_contact\", \"never_delivered\", \"waste_time\", \"never_received\", \"phone_call\", \"company_ever\", \"first_time\", \"bad_company\", \"star_would\", \"could_give\", \"message_saying\", \"hour_late\", \"make_sure\", \"zero_star\", \"someone_else\", \"waiting_hour\", \"waited_hour\", \"minute_late\", \"live_chat\", \"delivered_wrong\", \"bad_ever\", \"restaurant_said\", \"even_though\", \"last_time\", \"kept_getting\", \"app_ever\", \"still_business\", \"response_saying\", \"said_tried\", \"ice_cold\", \"story_short\", \"long_story\", \"took_long\", \"hour_ordering\", \"big_company\", \"ca_help\", \"pushed_back\", \"time_took\", \"part_missing\", \"time_trying\", \"twice_time\", \"time_driver\", \"back_told\", \"put_back\", \"never_called\", \"used_twice\", \"spent_minute\", \"didnt_even\", \"\\u00a32.50_credit\", \"attempt_contact\", \"app_would\", \"took_payment\", \"eat_account\", \"good_thing\", \"hour_called\", \"door_bell\", \"one_thing\", \"give_le\", \"drive_away\", \"star_possible\", \"receive_email\", \"thing_happened\", \"keep_getting\", \"find_address\", \"money_back\", \"rang_restaurant\", \"sent_wrong\", \"pretty_much\", \"bad_review\", \"stone_cold\", \"bad_app\", \"could_find\", \"never_eats\", \"one_star\", \"said_delivered\", \"still_charged\", \"first_time\", \"bank_account\", \"could_give\", \"give_star\", \"waited_hour\", \"two_hour\", \"still_waiting\", \"even_though\", \"give_money\", \"bad_ever\", \"last_time\", \"hour_half\", \"never_ever\", \"hour_late\", \"never_came\", \"took_money\", \"minute_late\", \"never_arrived\", \"said_would\", \"never_using\", \"told_would\", \"star_would\", \"live_chat\", \"wrong_address\", \"would_give\", \"second_time\", \"speak_anyone\", \"cold_inedible\", \"code_work\", \"eats_never\", \"take_long\", \"ordered_eats\", \"ten_minute\", \"generic_response\", \"order_missing\", \"blame_restaurant\", \"u_know\", \"restaurant_already\", \"try_contact\", \"got_cancelled\", \"make_sense\", \"finally_arrived\", \"wish_read\", \"stopped_using\", \"leave_star\", \"delivered_minute\", \"unless_want\", \"absolute_bad\", \"extremely_poor\", \"reply_email\", \"waited_waited\", \"total_waste\", \"deserve_star\", \"time_app\", \"time_restaurant\", \"meal_arrived\", \"missing_item\", \"pay_extra\", \"cold_missing\", \"item_delivered\", \"item_missing\", \"promo_code\", \"avoid_avoid\", \"read_review\", \"wrong_item\", \"cold_item\", \"ca_even\", \"half_missing\", \"credit_card\", \"late_cold\", \"phone_number\", \"even_though\", \"every_time\", \"arrived_cold\", \"sent_email\", \"money_back\", \"hour_late\", \"call_restaurant\", \"waited_minute\", \"ordered_kfc\", \"live_chat\", \"would_give\", \"take_money\", \"second_time\", \"never_using\", \"waste_time\", \"bad_company\", \"first_time\", \"deleted_app\", \"stone_cold\", \"go_wrong\", \"took_hour\", \"bad_ever\"], \"Freq\": [1330.0, 554.0, 688.0, 1237.0, 222.0, 816.0, 296.0, 605.0, 204.0, 198.0, 143.0, 141.0, 171.0, 684.0, 648.0, 125.0, 647.0, 123.0, 120.0, 142.0, 469.0, 382.0, 173.0, 155.0, 131.0, 269.0, 740.0, 343.0, 524.0, 105.0, 198.0713985950806, 131.0570146566959, 110.63548250402485, 105.00890972571449, 102.7148125152828, 99.02990885268748, 142.31290632557514, 102.58968423273377, 92.93770851054217, 92.38954846878362, 91.73714178090343, 91.39250469245871, 87.46086097955796, 81.24017116316259, 80.06313277543114, 79.60614738840978, 78.16919133928617, 77.11450405722692, 75.27513694252735, 74.56445924362296, 71.05497126769544, 70.15251304119805, 70.14101291950003, 171.4964253117297, 68.55967473739943, 68.29529619681809, 67.31304539173196, 65.97145772081727, 66.26211692848811, 65.82147774362099, 203.47846878041895, 103.81007018885373, 75.98793324840042, 78.11127446491071, 161.43501792022428, 128.1586981943051, 109.38017370400182, 85.17816448404571, 488.6511181205878, 134.66249851612218, 522.4258634343527, 215.46344704101253, 384.97332728941785, 348.31173457034186, 411.80614933058155, 225.4790776109777, 219.71907608410612, 220.14906010489324, 367.1179562743295, 323.8113434786033, 243.0108547100639, 209.64621206136832, 464.60417104938335, 260.0413979798093, 258.9265758096273, 307.4040310072222, 177.72566411108374, 360.53553761649573, 162.4075517127033, 210.71915912606966, 229.4738632670535, 212.19631900420887, 238.6115828719091, 244.10301213472758, 277.3156866706551, 203.3168457842804, 230.52347459048104, 191.94252336455958, 225.45263540787298, 192.85367347125984, 105.76663542668126, 92.75675715919161, 82.85574709893812, 81.50840522046789, 80.43778933684594, 79.15902238187988, 79.55618548050816, 70.72537627873437, 70.01677405669318, 69.61078901337449, 68.49980395341593, 78.5055706162416, 69.79694375217932, 66.23057417563385, 64.76645060713652, 64.49339598854662, 64.14383308123338, 63.67726500881644, 63.096745930675944, 63.392892973847474, 61.58010571917845, 61.43237805187789, 57.54974867526721, 57.474352441091696, 56.13141089329636, 54.38630998266027, 57.181642657431624, 53.24968381807986, 52.74213999411841, 52.76431191421787, 74.66085751096011, 66.42954148549688, 62.21774928356512, 58.868799673207356, 60.47925685019409, 82.71796939338125, 79.6775856554516, 94.45391202422745, 142.82267669436456, 151.86696844430983, 753.1289712694771, 131.81419864619133, 97.96120436802411, 87.5532783423577, 170.6774083666178, 433.196347678732, 111.37621102437215, 225.60964667806255, 193.77970841830097, 259.854584315569, 241.86415958265584, 179.70184275975697, 464.75979723048755, 181.55404676126946, 317.20384392211827, 262.4957830375107, 265.5070564862961, 199.4528041460968, 212.75204007109758, 382.0638028863049, 144.4690175836505, 297.1411667289373, 264.16199192527307, 215.6586207673327, 232.61978314746457, 353.4199168685678, 151.7831865739268, 184.19982140144623, 235.98782923520102, 284.91229128747096, 250.89219086036115, 215.56729395269699, 202.93856839084802, 204.6208249174441, 238.1549841113301, 218.35132517359474, 199.2313084201788, 191.7068174578143, 143.56951163796626, 141.27373177625327, 123.32967183554081, 125.73262961820468, 120.22553754380321, 222.87011549080438, 98.28907801072289, 90.49877203207711, 88.8342870687292, 88.8207514855478, 87.17049749351868, 85.39805107329043, 84.39671174384011, 83.5703555758362, 80.76759368806634, 79.5812909082681, 79.58829376063764, 74.57265011249152, 72.0547720944738, 71.64123162510448, 71.15249129490533, 70.49463452853159, 72.31676692088665, 69.95880368897195, 69.16865177800862, 68.19980470413304, 68.14915890049265, 67.66849878456604, 65.79064229632777, 65.69818015955205, 1263.6399699364324, 67.43731161147961, 77.37496146710195, 100.83363053003913, 519.1099869409958, 411.3263927166556, 237.59336284568369, 125.17350817314188, 122.74784743692193, 89.0636084468836, 113.233644883077, 116.01435513153217, 204.52064426599074, 204.2067793610477, 263.1364774388601, 365.576513331476, 222.8127214839715, 174.07704132080087, 149.51067282308887, 337.1717688167295, 296.0936048805596, 141.6806317786204, 132.92429455834557, 162.66404717810244, 237.52245284406766, 193.71078669919245, 183.52432990627, 176.6242774506755, 175.43776899269577, 180.4721244582573, 158.60529188670853, 189.05205835821357, 142.65722116689895, 166.55217772665756, 141.99277290451863, 140.9262825625338, 147.2334921455014], \"Total\": [1330.0, 554.0, 688.0, 1237.0, 222.0, 816.0, 296.0, 605.0, 204.0, 198.0, 143.0, 141.0, 171.0, 684.0, 648.0, 125.0, 647.0, 123.0, 120.0, 142.0, 469.0, 382.0, 173.0, 155.0, 131.0, 269.0, 740.0, 343.0, 524.0, 105.0, 198.10408203934077, 131.09008502017264, 110.66816594828501, 105.04159316997465, 102.74759045706544, 99.06275832752924, 142.3601467837145, 102.62526313732266, 92.97039195480232, 92.42223191304377, 91.76982522516359, 91.42583041589346, 87.49354442381812, 81.272854982843, 80.0958162196913, 79.63883083266994, 78.20187478354633, 77.14718750148708, 75.30782038678751, 74.59714268788312, 71.0876547119556, 70.1851964854582, 70.17369636376019, 171.5766907591835, 68.59235818165959, 68.32806945745119, 67.34586051960196, 66.00414116507743, 66.29494900378486, 65.85416118788115, 204.08420498007428, 103.8828479430241, 76.03743539133698, 78.4757509090892, 172.54277063076273, 135.0002399253609, 113.67483891111618, 86.69131327145949, 648.3498869934521, 149.377371394612, 816.084035410265, 285.928163598542, 605.1213066236709, 546.8364648319664, 684.8113719942763, 317.52924261624656, 308.3733557964242, 312.9053214577454, 643.5406798364728, 543.4508738251959, 395.18989457243686, 324.9340537876888, 1118.4160266380845, 462.1843171224416, 469.5860184783826, 647.2311012560418, 262.55615451413024, 1010.0490593656231, 235.84215252998206, 382.915663578852, 459.53276182283435, 403.37697593666434, 524.5479454940232, 555.8463075273323, 752.9931236260528, 382.17568287343187, 674.8981334649197, 388.8891605931254, 973.0929516256539, 586.693114387789, 105.79937933890214, 92.78950107141249, 82.888491011159, 81.54128221909554, 80.47055952640255, 79.19176629410076, 79.59004376098174, 70.75812125263114, 70.04951796891406, 69.64353292559537, 68.53254786563681, 78.5442511073684, 69.83164886165852, 66.26400842585821, 64.79923097142489, 64.5261399007675, 64.17661236232541, 63.71000892103733, 63.12948984289683, 63.42620123173819, 61.612881054734146, 61.46512196409878, 57.5824925874881, 57.507250120564926, 56.16435268253306, 54.41905389488116, 57.21680363054833, 53.282427730300746, 52.774960453182345, 52.797240660962444, 74.7090929078057, 66.51364394063549, 62.2739862046708, 58.93563444585542, 60.620169612328844, 84.54098018818894, 81.34934897922237, 97.77248013490632, 155.75687599882858, 173.52562145673357, 1237.1574308543104, 152.62788011227266, 108.91628417557067, 95.45729049782614, 222.86397442138062, 740.8113790643596, 131.69512525347844, 343.6619279211355, 283.74015468755823, 426.16882303666284, 400.2591066882775, 269.3647622970707, 1118.4160266380845, 281.4444344553447, 647.2311012560418, 500.5685675513356, 524.5479454940232, 339.287915173845, 380.71122093132675, 973.0929516256539, 207.44161548454443, 674.8981334649197, 586.693114387789, 420.9722272175664, 483.46190258752904, 1010.0490593656231, 238.87494651753954, 341.3067111224478, 555.8463075273323, 816.084035410265, 684.8113719942763, 504.83888399543764, 454.13463971664845, 469.5860184783826, 752.9931236260528, 605.1213066236709, 494.19062037292304, 450.66500779184986, 143.60204044220816, 141.30626058049518, 123.3622006397827, 125.76649926641099, 120.25806646495799, 222.9383634421168, 98.32167570652994, 90.531300836319, 88.86681762016916, 88.8532802897897, 87.20302629776057, 85.43057987753232, 84.42924310977315, 83.60294296772126, 80.80012249230823, 79.61381971251, 79.62169631070411, 74.60517891673341, 72.0873008987157, 71.67391728443326, 71.18504629475065, 70.52718360676623, 72.35026528484235, 69.99133249321385, 69.20118058225052, 68.23233350837494, 68.18168770473454, 67.70102758880793, 65.82317110056967, 65.73071344675346, 1330.5045939535005, 67.49623491604736, 78.01563366899045, 105.88439010641453, 688.080946999158, 554.6411542837292, 296.0634480002933, 146.06862494895387, 144.17890410434705, 97.15455106050868, 136.29704089353135, 141.4685967857297, 325.08627274776904, 330.2624326053408, 526.0095126933593, 973.0929516256539, 469.69497922922164, 315.797968500881, 246.32149078877927, 1237.1574308543104, 1010.0490593656231, 240.42529640632185, 212.5300884238734, 330.5555740073447, 752.9931236260528, 494.19062037292304, 441.7592571644809, 450.66500779184986, 504.83888399543764, 643.5406798364728, 462.1843171224416, 1118.4160266380845, 304.91940898937526, 740.8113790643596, 331.30822826288426, 355.74887962661006, 674.8981334649197], \"Category\": [\"Default\", \"Default\", \"Default\", \"Default\", \"Default\", \"Default\", \"Default\", \"Default\", \"Default\", \"Default\", \"Default\", \"Default\", \"Default\", \"Default\", \"Default\", \"Default\", \"Default\", \"Default\", \"Default\", \"Default\", \"Default\", \"Default\", \"Default\", \"Default\", \"Default\", \"Default\", \"Default\", \"Default\", \"Default\", \"Default\", \"Topic1\", \"Topic1\", \"Topic1\", \"Topic1\", \"Topic1\", \"Topic1\", \"Topic1\", \"Topic1\", \"Topic1\", \"Topic1\", \"Topic1\", \"Topic1\", \"Topic1\", \"Topic1\", \"Topic1\", \"Topic1\", \"Topic1\", \"Topic1\", \"Topic1\", \"Topic1\", \"Topic1\", \"Topic1\", \"Topic1\", \"Topic1\", \"Topic1\", \"Topic1\", \"Topic1\", \"Topic1\", \"Topic1\", \"Topic1\", \"Topic1\", \"Topic1\", \"Topic1\", \"Topic1\", \"Topic1\", \"Topic1\", \"Topic1\", \"Topic1\", \"Topic1\", \"Topic1\", \"Topic1\", \"Topic1\", \"Topic1\", \"Topic1\", \"Topic1\", \"Topic1\", \"Topic1\", \"Topic1\", \"Topic1\", \"Topic1\", \"Topic1\", \"Topic1\", \"Topic1\", \"Topic1\", \"Topic1\", \"Topic1\", \"Topic1\", \"Topic1\", \"Topic1\", \"Topic1\", \"Topic1\", \"Topic1\", \"Topic1\", \"Topic1\", \"Topic1\", \"Topic1\", \"Topic1\", \"Topic1\", \"Topic1\", \"Topic1\", \"Topic2\", \"Topic2\", \"Topic2\", \"Topic2\", \"Topic2\", \"Topic2\", \"Topic2\", \"Topic2\", \"Topic2\", \"Topic2\", \"Topic2\", \"Topic2\", \"Topic2\", \"Topic2\", \"Topic2\", \"Topic2\", \"Topic2\", \"Topic2\", \"Topic2\", \"Topic2\", \"Topic2\", \"Topic2\", \"Topic2\", \"Topic2\", \"Topic2\", \"Topic2\", \"Topic2\", \"Topic2\", \"Topic2\", \"Topic2\", \"Topic2\", \"Topic2\", \"Topic2\", \"Topic2\", \"Topic2\", \"Topic2\", \"Topic2\", \"Topic2\", \"Topic2\", \"Topic2\", \"Topic2\", \"Topic2\", \"Topic2\", \"Topic2\", \"Topic2\", \"Topic2\", \"Topic2\", \"Topic2\", \"Topic2\", \"Topic2\", \"Topic2\", \"Topic2\", \"Topic2\", \"Topic2\", \"Topic2\", \"Topic2\", \"Topic2\", \"Topic2\", \"Topic2\", \"Topic2\", \"Topic2\", \"Topic2\", \"Topic2\", \"Topic2\", \"Topic2\", \"Topic2\", \"Topic2\", \"Topic2\", \"Topic2\", \"Topic2\", \"Topic2\", \"Topic2\", \"Topic2\", \"Topic2\", \"Topic2\", \"Topic2\", \"Topic2\", \"Topic2\", \"Topic3\", \"Topic3\", \"Topic3\", \"Topic3\", \"Topic3\", \"Topic3\", \"Topic3\", \"Topic3\", \"Topic3\", \"Topic3\", \"Topic3\", \"Topic3\", \"Topic3\", \"Topic3\", \"Topic3\", \"Topic3\", \"Topic3\", \"Topic3\", \"Topic3\", \"Topic3\", \"Topic3\", \"Topic3\", \"Topic3\", \"Topic3\", \"Topic3\", \"Topic3\", \"Topic3\", \"Topic3\", \"Topic3\", \"Topic3\", \"Topic3\", \"Topic3\", \"Topic3\", \"Topic3\", \"Topic3\", \"Topic3\", \"Topic3\", \"Topic3\", \"Topic3\", \"Topic3\", \"Topic3\", \"Topic3\", \"Topic3\", \"Topic3\", \"Topic3\", \"Topic3\", \"Topic3\", \"Topic3\", \"Topic3\", \"Topic3\", \"Topic3\", \"Topic3\", \"Topic3\", \"Topic3\", \"Topic3\", \"Topic3\", \"Topic3\", \"Topic3\", \"Topic3\", \"Topic3\", \"Topic3\", \"Topic3\", \"Topic3\", \"Topic3\", \"Topic3\", \"Topic3\", \"Topic3\"], \"logprob\": [30.0, 29.0, 28.0, 27.0, 26.0, 25.0, 24.0, 23.0, 22.0, 21.0, 20.0, 19.0, 18.0, 17.0, 16.0, 15.0, 14.0, 13.0, 12.0, 11.0, 10.0, 9.0, 8.0, 7.0, 6.0, 5.0, 4.0, 3.0, 2.0, 1.0, -6.2895, -6.7025, -6.8719, -6.9241, -6.9462, -6.9827, -6.6201, -6.9474, -7.0462, -7.0521, -7.0592, -7.063, -7.1069, -7.1807, -7.1953, -7.201, -7.2192, -7.2328, -7.257, -7.2665, -7.3147, -7.3275, -7.3276, -6.4336, -7.3504, -7.3543, -7.3688, -7.3889, -7.3845, -7.3912, -6.2626, -6.9356, -7.2476, -7.22, -6.494, -6.7249, -6.8833, -7.1334, -5.3865, -6.6754, -5.3196, -6.2053, -5.625, -5.725, -5.5576, -6.1599, -6.1858, -6.1838, -5.6724, -5.798, -6.085, -6.2327, -5.4369, -6.0173, -6.0216, -5.85, -6.3979, -5.6905, -6.488, -6.2276, -6.1423, -6.2206, -6.1033, -6.0805, -5.953, -6.2634, -6.1378, -6.3209, -6.16, -6.3162, -6.7619, -6.8931, -7.006, -7.0224, -7.0356, -7.0517, -7.0467, -7.1643, -7.1744, -7.1802, -7.1963, -7.06, -7.1775, -7.23, -7.2523, -7.2566, -7.262, -7.2693, -7.2785, -7.2738, -7.3028, -7.3052, -7.3705, -7.3718, -7.3954, -7.427, -7.3769, -7.4481, -7.4577, -7.4573, -7.1102, -7.227, -7.2925, -7.3478, -7.3208, -7.0077, -7.0451, -6.875, -6.4615, -6.4001, -4.7989, -6.5417, -6.8386, -6.9509, -6.2833, -5.3519, -6.7102, -6.0043, -6.1564, -5.863, -5.9347, -6.2318, -5.2816, -6.2216, -5.6636, -5.8529, -5.8415, -6.1275, -6.063, -5.4775, -6.4501, -5.7289, -5.8466, -6.0494, -5.9737, -5.5555, -6.4007, -6.2071, -5.9593, -5.7709, -5.8981, -6.0499, -6.1102, -6.102, -5.9502, -6.037, -6.1287, -6.1672, -6.3733, -6.3894, -6.5253, -6.506, -6.5508, -5.9335, -6.7522, -6.8348, -6.8534, -6.8535, -6.8723, -6.8928, -6.9046, -6.9144, -6.9486, -6.9634, -6.9633, -7.0284, -7.0627, -7.0685, -7.0753, -7.0846, -7.0591, -7.0922, -7.1036, -7.1177, -7.1184, -7.1255, -7.1537, -7.1551, -4.1984, -7.1289, -6.9915, -6.7267, -5.088, -5.3207, -5.8696, -6.5104, -6.53, -6.8508, -6.6107, -6.5864, -6.0195, -6.021, -5.7675, -5.4387, -5.9338, -6.1806, -6.3328, -5.5195, -5.6495, -6.3866, -6.4504, -6.2484, -5.8699, -6.0738, -6.1278, -6.1661, -6.1729, -6.1446, -6.2737, -6.0981, -6.3797, -6.2248, -6.3844, -6.3919, -6.3481], \"loglift\": [30.0, 29.0, 28.0, 27.0, 26.0, 25.0, 24.0, 23.0, 22.0, 21.0, 20.0, 19.0, 18.0, 17.0, 16.0, 15.0, 14.0, 13.0, 12.0, 11.0, 10.0, 9.0, 8.0, 7.0, 6.0, 5.0, 4.0, 3.0, 2.0, 1.0, 0.9724, 0.9723, 0.9722, 0.9722, 0.9722, 0.9722, 0.9722, 0.9722, 0.9722, 0.9722, 0.9722, 0.9722, 0.9722, 0.9721, 0.9721, 0.9721, 0.9721, 0.9721, 0.9721, 0.9721, 0.9721, 0.9721, 0.9721, 0.9721, 0.9721, 0.972, 0.972, 0.972, 0.972, 0.972, 0.9696, 0.9718, 0.9719, 0.9679, 0.906, 0.9205, 0.934, 0.9549, 0.6897, 0.8688, 0.5265, 0.6896, 0.5203, 0.5215, 0.4639, 0.6302, 0.6336, 0.6209, 0.4112, 0.4548, 0.4863, 0.5343, 0.094, 0.3974, 0.3772, 0.228, 0.5823, -0.0576, 0.5995, 0.3752, 0.2781, 0.3302, 0.1848, 0.1496, -0.0264, 0.3414, -0.1017, 0.2664, -0.4898, -0.14, 1.1272, 1.1272, 1.1271, 1.1271, 1.1271, 1.1271, 1.1271, 1.1271, 1.1271, 1.1271, 1.1271, 1.127, 1.127, 1.127, 1.127, 1.127, 1.127, 1.127, 1.127, 1.127, 1.127, 1.127, 1.127, 1.127, 1.1269, 1.1269, 1.1269, 1.1269, 1.1269, 1.1269, 1.1269, 1.1263, 1.1266, 1.1264, 1.1252, 1.1057, 1.1068, 1.093, 1.0408, 0.9942, 0.6312, 0.9809, 1.0215, 1.0411, 0.8607, 0.591, 0.96, 0.7067, 0.7462, 0.6328, 0.6238, 0.7228, 0.2494, 0.6891, 0.4144, 0.482, 0.4466, 0.5963, 0.5456, 0.1926, 0.7657, 0.3072, 0.3296, 0.4587, 0.396, 0.0774, 0.674, 0.5108, 0.2708, 0.0752, 0.1234, 0.2766, 0.322, 0.2968, -0.0236, 0.1082, 0.2191, 0.2728, 1.2103, 1.2103, 1.2103, 1.2102, 1.2102, 1.2102, 1.2102, 1.2102, 1.2102, 1.2102, 1.2101, 1.2101, 1.2101, 1.2101, 1.2101, 1.2101, 1.2101, 1.2101, 1.2101, 1.2101, 1.2101, 1.2101, 1.2101, 1.2101, 1.21, 1.21, 1.21, 1.21, 1.21, 1.21, 1.159, 1.2096, 1.2023, 1.1616, 0.9287, 0.9116, 0.9905, 1.0561, 1.0496, 1.1236, 1.0251, 1.0122, 0.7471, 0.7298, 0.5179, 0.2315, 0.4648, 0.6149, 0.7112, -0.0895, -0.0166, 0.6817, 0.7412, 0.5014, 0.0567, 0.274, 0.3321, 0.2738, 0.1536, -0.0609, 0.141, -0.5671, 0.4509, -0.2819, 0.3632, 0.2845, -0.312]}, \"token.table\": {\"Topic\": [3, 1, 1, 1, 2, 2, 1, 2, 3, 2, 2, 3, 1, 2, 1, 2, 1, 2, 3, 1, 2, 3, 1, 2, 3, 1, 2, 3, 1, 2, 3, 2, 3, 1, 1, 3, 2, 1, 2, 3, 1, 2, 3, 1, 1, 3, 3, 2, 3, 2, 3, 1, 2, 3, 1, 1, 1, 2, 1, 2, 3, 1, 2, 3, 1, 2, 3, 1, 2, 3, 1, 3, 1, 2, 3, 3, 2, 2, 1, 2, 2, 1, 3, 1, 2, 3, 1, 1, 2, 3, 1, 2, 3, 1, 1, 3, 3, 3, 1, 2, 3, 1, 2, 3, 3, 2, 1, 2, 3, 1, 2, 3, 1, 2, 3, 2, 3, 1, 2, 3, 1, 2, 1, 1, 2, 3, 1, 2, 3, 2, 1, 2, 1, 1, 2, 3, 1, 2, 3, 2, 3, 1, 2, 1, 2, 3, 1, 1, 2, 3, 3, 1, 2, 3, 2, 1, 3, 1, 2, 3, 1, 2, 3, 3, 1, 2, 3, 1, 2, 3, 1, 2, 3, 1, 2, 3, 1, 1, 1, 2, 3, 2, 1, 2, 3, 1, 2, 3, 1, 2, 3, 1, 2, 3, 1, 2, 3, 1, 2, 1, 2, 3, 1, 2, 3, 2, 3, 3, 1, 2, 3, 1, 1, 2, 3, 2, 3, 1, 2, 3, 1, 2, 3, 1, 2, 3, 1, 2, 3, 2, 2, 2, 3, 1, 2, 3, 2, 3, 1, 3, 2, 3, 1, 1, 2, 3, 1, 2, 3, 2, 1, 2, 3, 1, 2, 1, 2, 3, 1, 2, 3, 2, 3, 1, 1, 2, 3, 3, 2, 1, 2, 1, 2, 3, 2, 1, 2, 1, 2, 3, 1, 2, 3, 3, 2, 1, 2, 3, 3, 1, 2, 3, 1, 3, 1, 2, 3, 2, 1, 3, 2, 2, 1, 2, 3, 1, 2, 3, 2, 1, 2, 3, 2, 3, 1, 2, 3, 3, 2, 1, 2, 3, 3, 3, 1, 2, 1, 2, 3, 2, 3, 1, 3, 1, 2, 3, 1, 1, 1, 2, 3, 3, 1, 2, 3, 1, 2, 3, 1, 2, 3, 1, 2, 3, 2], \"Freq\": [0.9925251005384589, 1.0036515069605805, 0.9988037300296874, 0.994864413091859, 1.002268564074135, 0.9962108398793431, 0.3768231966940852, 0.07283137415095764, 0.5509851783594187, 0.9922995005445955, 0.1959039536685479, 0.8038817409157655, 0.9943590761230635, 0.9979488216486609, 0.15186590970246824, 0.8428557988486987, 0.562546132284971, 0.0952001146943797, 0.344018596281963, 0.3422738759315402, 0.44006641191198026, 0.21781064832007105, 0.7542223879572275, 0.10642401793261493, 0.13881393643384554, 0.17050759369547724, 0.7672841716296476, 0.0628185871509653, 0.0532964882713997, 0.646664057692983, 0.2984603343198383, 0.9922292708760673, 1.001651258228529, 0.9999372590112631, 0.16874907811070153, 0.8290715576743162, 1.0058024474892326, 0.06654873775411634, 0.3410622809898462, 0.5906200475677824, 0.6363876997612705, 0.27430504300054764, 0.08777761376017525, 1.0045350887695592, 0.9996040314248914, 0.9970639252712399, 0.9978326467685363, 0.08234302884089838, 0.9160661958549944, 0.012817943698859921, 0.9869816648122139, 0.6462849847594415, 0.09232642639420592, 0.26466908899672364, 0.9953423401903339, 1.0024565981723925, 0.9481464630786495, 0.05185175969961364, 0.31426233523541236, 0.657623034844474, 0.029098364373649294, 0.47432825679146734, 0.489778688608779, 0.03553599317981677, 0.13534868645203954, 0.2368602012910692, 0.6306018346060933, 0.2623644072548611, 0.2689235174362326, 0.4689763779680642, 0.997361316990876, 1.0045495310975219, 0.5311693262996775, 0.4657543846371556, 0.0026165976665008745, 0.9973352418977753, 0.9911793709575494, 0.9922776153852896, 0.9993128006579691, 0.9897695830233587, 1.0042641348261605, 0.999474609315117, 1.0018566210791506, 0.23122148775624557, 0.39256270365727025, 0.37612028675015946, 0.9974185429172242, 0.9331019747244932, 0.023182657757130267, 0.040569651074977967, 0.364066058957271, 0.16180713731434268, 0.47477620554076866, 0.9951986136875199, 0.9946874625589955, 0.004899938239206874, 0.995158756039617, 1.0048506690030012, 0.12101959251727033, 0.8759513363154805, 0.005762837738917635, 0.4157665742664401, 0.4157665742664401, 0.1689889947018434, 0.9941313023074793, 1.001092133049042, 0.086771402922, 0.694171223376, 0.21692850730500002, 0.3256297150205773, 0.5234048180085352, 0.14982962347572573, 0.5221723616919322, 0.04829339761312667, 0.4286039038164992, 1.0038403396938786, 1.004749318841946, 0.13430542489071032, 0.04948094601236695, 0.8199699624906523, 0.9974701713095192, 1.003893864600301, 0.9975247653642214, 0.44183437285013977, 0.5130979813743559, 0.04513361873200353, 0.35740838195199315, 0.3494879745957163, 0.2930550721822437, 1.005118451914056, 1.0059429625857272, 0.9975784566619138, 0.9966388746826169, 0.047221313689156316, 0.009444262737831263, 0.9538705365209575, 0.10609216883328312, 0.1395184686026737, 0.7542717208832046, 0.9180975098722157, 0.08346340998838325, 0.9939376061575972, 1.001896236654236, 0.3289624426586196, 0.44997971431023615, 0.22158091992549508, 0.9955509581315459, 0.1786458106499331, 0.20286897141602572, 0.6176905995353619, 0.9987889559238963, 0.3678652451248176, 0.31607194346464473, 0.31607194346464473, 1.0034183884914816, 0.9987669488842926, 1.0024737277806823, 0.6869001078142947, 0.04240124122310461, 0.26712781970555904, 0.7519371204785239, 0.17486909778570325, 0.0699476391142813, 1.0040968147023794, 0.6779502096585605, 0.16377448885010168, 0.15996577980707608, 0.43897026335468087, 0.42457779570370774, 0.13672844268424486, 0.02780899830646741, 0.022547836464703302, 0.9500155097128326, 0.11882077117581566, 0.608653338063872, 0.27239863868197195, 0.9993664791028558, 1.0029984598449933, 0.6396400093007311, 0.34922874071016924, 0.011028276022426398, 1.0062830846186523, 0.30978552200143145, 0.6363162073542916, 0.054421780892143355, 0.7030880746133578, 0.2716476651915246, 0.025566839076849375, 0.2678507033440076, 0.6837241637991774, 0.04934091903705404, 0.3557674329237556, 0.48194076669322705, 0.16340480930800402, 0.5961900433050301, 0.2907346507475147, 0.11224565630125567, 0.9588753416684276, 0.035188085932786335, 0.22581461851308238, 0.4278592771826824, 0.34664524771745103, 0.17129361899314696, 0.6100868621673727, 0.21822337762140642, 0.9956003104768288, 1.0014986738964828, 1.000276473537042, 0.20571427423120411, 0.30252099151647666, 0.49310921617185693, 0.995431489758427, 0.9037513429217393, 0.060250089528115953, 0.03347227196006442, 1.0030983242480709, 0.9926479615246009, 0.6148942656109821, 0.1999038970504839, 0.18472132259095347, 0.30988032738301813, 0.18820952399336682, 0.49999095767934826, 0.05237944607398914, 0.9218782509022089, 0.03142766764439348, 0.2560213913144989, 0.0018029675444683022, 0.7410196607764722, 1.0024108143096404, 0.9932803601120459, 0.8648485447278778, 0.13758954120670783, 0.11638365190293902, 0.027384388683044474, 0.8557621463451398, 0.983412909923016, 0.0245853227480754, 1.002214572465706, 1.0001238368591854, 1.005625589497991, 0.9949598858143117, 1.0054004389122844, 0.49371394077213604, 0.40628543042707027, 0.10028564421934014, 0.29231065088825026, 0.6046083548286886, 0.10243364689246377, 0.994152401459963, 0.6016255232447331, 0.3665242872194854, 0.03212563473636924, 0.9804903950853365, 0.011535181118651018, 0.18195333248032786, 0.4260370711734506, 0.3927529249880248, 0.23952437041148192, 0.15426993348536125, 0.6089602637580049, 0.8997736265224229, 0.100994998895374, 1.0011277324341372, 0.49833226055879637, 0.31989014105739333, 0.18279436631851045, 1.0027712667352522, 1.007250596383572, 0.02365716597498613, 0.9817723879619245, 0.5515496411908675, 0.4365547353055129, 0.012777211765039402, 1.0013452891647645, 0.3341194268786461, 0.6682388537572922, 0.39137275658832454, 0.5594791755255915, 0.04990659312200112, 0.19033184962423522, 0.5844942616120131, 0.2254285027464346, 1.0052921404250936, 1.005150848267522, 0.7085961536837923, 0.11337538458940676, 0.1763617093612994, 0.9978540610826037, 0.3191783708281211, 0.26485013749567493, 0.4165164555487538, 0.9959125043693136, 0.9967283337654854, 0.030683480626251935, 0.9614157262892272, 1.004416069029379, 1.0045517350236457, 0.9995076715680333, 1.0026864232833779, 0.9960158096056987, 0.9918460967667269, 0.38534827492830986, 0.44700399891683945, 0.16735125082600885, 0.3148288200304493, 0.2895300755637168, 0.3963469966454764, 0.9992931005044741, 0.31643092995394906, 0.5391045473289503, 0.14356588488651392, 0.9946994207596863, 0.9965949646387747, 0.7134209096366783, 0.23672602910671597, 0.05188515706448569, 0.9949159426999119, 0.9972480260982256, 0.33894516974197586, 0.5865225111187234, 0.07368373255260344, 0.9976717975696471, 0.9974004892265653, 0.9966427292002895, 0.9924327496759796, 0.45563041863581794, 0.5071033111176886, 0.03812806850508937, 0.37641729033889415, 0.6257937451884116, 1.0003184674666326, 0.9970928157502834, 0.525562966274225, 0.3569861657711717, 0.11651631799475744, 1.0025081749286506, 0.9980921209670249, 0.5702825190371131, 0.14917471887619307, 0.279702597892862, 1.0047512638743548, 0.2043745790314353, 0.40267862601243193, 0.39256107259503414, 0.6362360666956884, 0.36025834425885733, 0.0033051224243931866, 0.08322992933359517, 0.06242244700019638, 0.8531067756693504, 0.551035175808497, 0.2768233584630364, 0.1723617137600038, 0.9970737189216432], \"Term\": [\"absolute_bad\", \"absolutely_ridiculous\", \"account_hacked\", \"answer_question\", \"app_ever\", \"app_would\", \"arrived_cold\", \"arrived_cold\", \"arrived_cold\", \"attempt_contact\", \"avoid_avoid\", \"avoid_avoid\", \"back_said\", \"back_told\", \"bad_app\", \"bad_app\", \"bad_company\", \"bad_company\", \"bad_company\", \"bad_ever\", \"bad_ever\", \"bad_ever\", \"bad_experience\", \"bad_experience\", \"bad_experience\", \"bad_review\", \"bad_review\", \"bad_review\", \"bank_account\", \"bank_account\", \"bank_account\", \"big_company\", \"blame_restaurant\", \"ca_believe\", \"ca_even\", \"ca_even\", \"ca_help\", \"call_restaurant\", \"call_restaurant\", \"call_restaurant\", \"called_restaurant\", \"called_restaurant\", \"called_restaurant\", \"charge_fee\", \"charged_never\", \"code_work\", \"cold_inedible\", \"cold_item\", \"cold_item\", \"cold_missing\", \"cold_missing\", \"company_ever\", \"company_ever\", \"company_ever\", \"company_never\", \"could_anything\", \"could_cancel\", \"could_cancel\", \"could_find\", \"could_find\", \"could_find\", \"could_give\", \"could_give\", \"could_give\", \"credit_card\", \"credit_card\", \"credit_card\", \"deleted_app\", \"deleted_app\", \"deleted_app\", \"deleting_account\", \"delivered_minute\", \"delivered_wrong\", \"delivered_wrong\", \"delivered_wrong\", \"deserve_star\", \"didnt_even\", \"door_bell\", \"double_check\", \"drive_away\", \"eat_account\", \"eats_app\", \"eats_never\", \"even_though\", \"even_though\", \"even_though\", \"ever_eats\", \"every_single\", \"every_single\", \"every_single\", \"every_time\", \"every_time\", \"every_time\", \"experience_eats\", \"experience_ever\", \"experience_ever\", \"extremely_poor\", \"finally_arrived\", \"find_address\", \"find_address\", \"find_address\", \"first_time\", \"first_time\", \"first_time\", \"generic_response\", \"give_le\", \"give_money\", \"give_money\", \"give_money\", \"give_star\", \"give_star\", \"give_star\", \"go_wrong\", \"go_wrong\", \"go_wrong\", \"good_thing\", \"got_cancelled\", \"half_missing\", \"half_missing\", \"half_missing\", \"help_section\", \"hour_called\", \"hour_delivered\", \"hour_half\", \"hour_half\", \"hour_half\", \"hour_late\", \"hour_late\", \"hour_late\", \"hour_ordering\", \"hour_since\", \"ice_cold\", \"ice_cream\", \"item_delivered\", \"item_delivered\", \"item_delivered\", \"item_missing\", \"item_missing\", \"item_missing\", \"keep_getting\", \"keep_getting\", \"keep_sending\", \"kept_getting\", \"last_time\", \"last_time\", \"last_time\", \"late_cancelled\", \"late_cold\", \"late_cold\", \"late_cold\", \"leave_star\", \"live_chat\", \"live_chat\", \"live_chat\", \"long_story\", \"lost_money\", \"make_sense\", \"make_sure\", \"make_sure\", \"make_sure\", \"marked_delivered\", \"marked_delivered\", \"marked_delivered\", \"meal_arrived\", \"message_saying\", \"message_saying\", \"message_saying\", \"minute_late\", \"minute_late\", \"minute_late\", \"missing_item\", \"missing_item\", \"missing_item\", \"money_back\", \"money_back\", \"money_back\", \"money_never\", \"never_app\", \"never_arrived\", \"never_arrived\", \"never_arrived\", \"never_called\", \"never_came\", \"never_came\", \"never_came\", \"never_delivered\", \"never_delivered\", \"never_delivered\", \"never_eats\", \"never_eats\", \"never_eats\", \"never_ever\", \"never_ever\", \"never_ever\", \"never_received\", \"never_received\", \"never_received\", \"never_recommend\", \"never_recommend\", \"never_using\", \"never_using\", \"never_using\", \"one_star\", \"one_star\", \"one_star\", \"one_thing\", \"order_missing\", \"ordered_eats\", \"ordered_kfc\", \"ordered_kfc\", \"ordered_kfc\", \"ordered_ubereats\", \"outside_house\", \"outside_house\", \"outside_house\", \"part_missing\", \"pay_extra\", \"phone_call\", \"phone_call\", \"phone_call\", \"phone_number\", \"phone_number\", \"phone_number\", \"pretty_much\", \"pretty_much\", \"pretty_much\", \"promo_code\", \"promo_code\", \"promo_code\", \"pushed_back\", \"put_back\", \"rang_restaurant\", \"rang_restaurant\", \"read_review\", \"read_review\", \"read_review\", \"receive_email\", \"receive_email\", \"replied_saying\", \"reply_email\", \"response_saying\", \"restaurant_already\", \"restaurant_cancel\", \"restaurant_said\", \"restaurant_said\", \"restaurant_said\", \"said_delivered\", \"said_delivered\", \"said_delivered\", \"said_tried\", \"said_would\", \"said_would\", \"said_would\", \"screen_shot\", \"screen_shot\", \"second_time\", \"second_time\", \"second_time\", \"sent_email\", \"sent_email\", \"sent_email\", \"sent_wrong\", \"sent_wrong\", \"single_time\", \"someone_else\", \"someone_else\", \"someone_else\", \"speak_anyone\", \"spent_minute\", \"star_possible\", \"star_possible\", \"star_would\", \"star_would\", \"star_would\", \"still_business\", \"still_charged\", \"still_charged\", \"still_waiting\", \"still_waiting\", \"still_waiting\", \"stone_cold\", \"stone_cold\", \"stone_cold\", \"stopped_using\", \"story_short\", \"straight_away\", \"straight_away\", \"straight_away\", \"take_long\", \"take_money\", \"take_money\", \"take_money\", \"telephone_number\", \"ten_minute\", \"thing_happened\", \"thing_happened\", \"time_app\", \"time_driver\", \"time_frame\", \"time_restaurant\", \"time_took\", \"time_trying\", \"told_would\", \"told_would\", \"told_would\", \"took_hour\", \"took_hour\", \"took_hour\", \"took_long\", \"took_money\", \"took_money\", \"took_money\", \"took_payment\", \"total_waste\", \"tried_contact\", \"tried_contact\", \"tried_contact\", \"try_contact\", \"twice_time\", \"two_hour\", \"two_hour\", \"two_hour\", \"u_know\", \"unless_want\", \"used_app\", \"used_twice\", \"waited_hour\", \"waited_hour\", \"waited_hour\", \"waited_minute\", \"waited_minute\", \"waited_outside\", \"waited_waited\", \"waiting_hour\", \"waiting_hour\", \"waiting_hour\", \"waiting_minute\", \"waiting_outside\", \"waste_time\", \"waste_time\", \"waste_time\", \"wish_read\", \"would_give\", \"would_give\", \"would_give\", \"wrong_address\", \"wrong_address\", \"wrong_address\", \"wrong_item\", \"wrong_item\", \"wrong_item\", \"zero_star\", \"zero_star\", \"zero_star\", \"\\u00a32.50_credit\"]}, \"R\": 30, \"lambda.step\": 0.01, \"plot.opts\": {\"xlab\": \"PC1\", \"ylab\": \"PC2\"}, \"topic.order\": [2, 1, 3]};\n",
       "\n",
       "function LDAvis_load_lib(url, callback){\n",
       "  var s = document.createElement('script');\n",
       "  s.src = url;\n",
       "  s.async = true;\n",
       "  s.onreadystatechange = s.onload = callback;\n",
       "  s.onerror = function(){console.warn(\"failed to load library \" + url);};\n",
       "  document.getElementsByTagName(\"head\")[0].appendChild(s);\n",
       "}\n",
       "\n",
       "if(typeof(LDAvis) !== \"undefined\"){\n",
       "   // already loaded: just create the visualization\n",
       "   !function(LDAvis){\n",
       "       new LDAvis(\"#\" + \"ldavis_el1800017931920832722695937680\", ldavis_el1800017931920832722695937680_data);\n",
       "   }(LDAvis);\n",
       "}else if(typeof define === \"function\" && define.amd){\n",
       "   // require.js is available: use it to load d3/LDAvis\n",
       "   require.config({paths: {d3: \"https://d3js.org/d3.v5\"}});\n",
       "   require([\"d3\"], function(d3){\n",
       "      window.d3 = d3;\n",
       "      LDAvis_load_lib(\"https://cdn.jsdelivr.net/gh/bmabey/pyLDAvis@3.2.2/pyLDAvis/js/ldavis.v3.0.0.js\", function(){\n",
       "        new LDAvis(\"#\" + \"ldavis_el1800017931920832722695937680\", ldavis_el1800017931920832722695937680_data);\n",
       "      });\n",
       "    });\n",
       "}else{\n",
       "    // require.js not available: dynamically load d3 & LDAvis\n",
       "    LDAvis_load_lib(\"https://d3js.org/d3.v5.js\", function(){\n",
       "         LDAvis_load_lib(\"https://cdn.jsdelivr.net/gh/bmabey/pyLDAvis@3.2.2/pyLDAvis/js/ldavis.v3.0.0.js\", function(){\n",
       "                 new LDAvis(\"#\" + \"ldavis_el1800017931920832722695937680\", ldavis_el1800017931920832722695937680_data);\n",
       "            })\n",
       "         });\n",
       "}\n",
       "</script>"
      ],
      "text/plain": [
       "<IPython.core.display.HTML object>"
      ]
     },
     "execution_count": 78,
     "metadata": {},
     "output_type": "execute_result"
    }
   ],
   "source": [
    "%matplotlib inline\n",
    "\n",
    "import pyLDAvis\n",
    "import pyLDAvis.gensim\n",
    "\n",
    "vis = pyLDAvis.gensim.prepare(topic_model=lda_model, corpus=corpus, dictionary=dictionary_LDA)\n",
    "pyLDAvis.enable_notebook()\n",
    "pyLDAvis.display(vis)"
   ]
  },
  {
   "cell_type": "code",
   "execution_count": null,
   "metadata": {},
   "outputs": [],
   "source": []
  }
 ],
 "metadata": {
  "kernelspec": {
   "display_name": "Python 3",
   "language": "python",
   "name": "python3"
  },
  "language_info": {
   "codemirror_mode": {
    "name": "ipython",
    "version": 3
   },
   "file_extension": ".py",
   "mimetype": "text/x-python",
   "name": "python",
   "nbconvert_exporter": "python",
   "pygments_lexer": "ipython3",
   "version": "3.6.5"
  }
 },
 "nbformat": 4,
 "nbformat_minor": 2
}
