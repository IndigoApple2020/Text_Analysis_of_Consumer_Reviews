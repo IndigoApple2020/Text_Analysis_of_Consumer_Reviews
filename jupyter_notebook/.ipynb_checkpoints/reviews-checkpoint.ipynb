{
 "cells": [
  {
   "cell_type": "markdown",
   "metadata": {},
   "source": [
    "# Topic Modelling with Latent Dirichlet Allocation on Customer Reviews: The case of UK delivery companies\n",
    "\n",
    "**Author: Georgios Spyrou (https://github.com/gpsyrou)**\n",
    "\n",
    "_Last Update: 23/07/2021_\n",
    "\n",
    "<img src=\"../img/projectimage.png\" alt=\"Sentiment Picture\" width=\"820\" height=\"640\">\n",
    "\n",
    "### Sections\n",
    "- <a href=\"#project_idea\" style=\"text-decoration: none\"> Project Description</a>\n",
    "- <a href=\"#data_retrieval\" style=\"text-decoration: none\"> Web-Scrapping Tool and Data Retrieval</a>\n",
    "- <a href=\"#data_cleaning_eda\" style=\"text-decoration: none\"> Data Cleaning & Initial Exploratory Data Analysis (EDA)</a>\n",
    "    - <a href=\"#data_preprocessing\" style=\"text-decoration: none\"> Data Preprocessing </a>\n",
    "    - <a href=\"#eda\" style=\"text-decoration: none\"> Exploratory Data Analysis </a>\n",
    "        - <a href=\"#single_words\" style=\"text-decoration: none\"> Single Words </a>\n",
    "        - <a href=\"#bigrams_eda\" style=\"text-decoration: none\"> Analysis with Bigrams </a>\n",
    "- <a href=\"#lda\" style=\"text-decoration: none\"> Latent Dirichlet Allocation Model </a>\n",
    "    - <a href=\"#bigrams_lda\" style=\"text-decoration: none\"> Compute Bigrams as LDA Input </a>\n",
    "    - <a href=\"#lda_model\" style=\"text-decoration: none\"> Creating the LDA Model </a>\n",
    "    - <a href=\"#topic_assign\" style=\"text-decoration: none\"> Assigning Predicted Topics to Reviews </a>\n",
    "    - <a href=\"#viz_output\" style=\"text-decoration: none\"> Visualizing the Results </a>"
   ]
  },
  {
   "cell_type": "markdown",
   "metadata": {},
   "source": [
    "<a id='project_idea'></a>\n",
    "### Introduction\n",
    "\n",
    "In this project we are going to explore the world of logistic companies and the issues that they might be facing. Specifically, we are going to focus on analyzing data regarding a few of the most well-known delivery companies in the UK, namely <a href=\"https://en.wikipedia.org/wiki/Deliveroo\" style=\"text-decoration:none\"> Deliveroo</a>, <a href=\"https://en.wikipedia.org/wiki/UberEats\" style=\"text-decoration:none\"> UberEats</a>, <a href=\"https://en.wikipedia.org/wiki/Just_Eat\" style=\"text-decoration:none\"> Just Eat</a> and <a href=\"https://stuart.com/\" style=\"text-decoration:none\"> Stuart</a>. To do that we are going to utilize the internet and the reviews that we can find in many different platforms, especially these platforms that are specializing at collecting reviews and opininions of customers for a plethora of companies and services. \n",
    "\n",
    "The first iteration of this project it's using the reviews that can be found in the famous consumer review website <a href=\"https://en.wikipedia.org/wiki/Trustpilot\" style=\"text-decoration:none\"> TrustPilot</a>. Even though the website is already providing some API functionalities, we are going to write our own web-scraping tool to retrieve the data in the format that we want. We will attempt to collect as many reviews as possible and then use them to identify interesting findings in the text. For example, we will try to identify what is the sentiment across all reviews for a specific company, what are the most common words and bigrams (i.e. pairs of words that tend to appear next to each other) in the reviews, and more. Finally, we will implement a <a href=\"https://en.wikipedia.org/wiki/Latent_Dirichlet_allocation\" style=\"text-decoration:none\"> Latent Dirichlet Allocation</a> model to try and identify what are the topics that these reviews correspond to.\n",
    "\n",
    "\n",
    "We are going to discuss the specifics in more depth as we are going through the different parts of the project. As a starting point of course, we need to collect the relevant reviews for the aforementioned group of delivery companies.\n",
    "\n",
    "<a id='data_retrieval'></a>\n",
    "### Web-Scrapping Tool and Data Retrieval\n",
    "\n",
    "In order to collect the reviews directly from the TrustPilot website, we have created a web-scrapping tool that allowed us to automate this process across different companies & their corresponding reviews. This tool is iterating across different pages of the website and collects the reviews and any other relevant information, with the output being stored in csv files. Moreover, we have packaged the tool into a python library. Hence, if you are thinking of working on a similar project where you need to retrieve data from TrustPilot, you can install the package that you can find <a href=\"https://github.com/gpsyrou/Text_Analysis_of_Consumer_Reviews/blob/main/trustplt.py\" style=\"text-decoration:none\">here</a>. As of May 2021, the package contains the main functionalities to collect many different information from the website, like the reviews, reviewer_id, date of the review, user rating, and more. \n",
    "\n",
    "For the first iteration of the project, we have built the aforementioned package with the functionality to retrieve the following information - which will also be the features in our dataset:\n",
    "\n",
    "1. **Company**: Name of the Company that we are examining (e.g. Deliveroo, UberEats, JustEat, Stuart)\n",
    "2. **Id**: The unique identifier for the Review\n",
    "3. **Reviewer_Id**: Unique id for a reviewer/user\n",
    "4. **Title**: Title of the review\n",
    "5. **Review**: The text corresponding to the review submitted from the reviewer\n",
    "6. **Date**: Day of review submission\n",
    "7. **Rating**: The rating about the company, as submitted from the reviewer\n",
    "\n",
    "Thus, after collecting the data and save them in a CSV format, we can by having a first look at the data and familiarize ourselves with the features. "
   ]
  },
  {
   "cell_type": "code",
   "execution_count": 33,
   "metadata": {},
   "outputs": [],
   "source": [
    "import os\n",
    "import string\n",
    "import numpy as np\n",
    "import pandas as pd\n",
    "from typing import List\n",
    "from collections import Counter\n",
    "\n",
    "import seaborn as sns\n",
    "sns.set_style('dark')\n",
    "\n",
    "import matplotlib.pyplot as plt\n",
    "import squarify\n",
    "\n",
    "from nltk import word_tokenize\n",
    "from nltk.util import ngrams\n",
    "from nltk.corpus import stopwords\n",
    "from nltk.collocations import BigramCollocationFinder\n",
    "from nltk.stem import WordNetLemmatizer, PorterStemmer\n",
    "\n",
    "from IPython.display import display, HTML\n",
    "\n",
    "project_dir = r'D:\\GitHub\\Projects\\Analysis_of_Delivery_Companies_Reviews'\n",
    "os.chdir(project_dir)\n",
    "\n",
    "from helpers.utilities import split_ratings_col, get_ratings_mapping"
   ]
  },
  {
   "cell_type": "code",
   "execution_count": 34,
   "metadata": {},
   "outputs": [],
   "source": [
    "reviews_base_file = os.path.join(project_dir, 'reviews.csv')"
   ]
  },
  {
   "cell_type": "code",
   "execution_count": 35,
   "metadata": {},
   "outputs": [
    {
     "data": {
      "text/plain": [
       "{1: 'Bad', 2: 'Poor', 3: 'Average', 4: 'Great', 5: 'Excellent'}"
      ]
     },
     "execution_count": 35,
     "metadata": {},
     "output_type": "execute_result"
    }
   ],
   "source": [
    "col_names = ['Company', 'Id', 'Reviewer_Id', 'Title', 'Review', 'Date', 'Rating']\n",
    "\n",
    "ratings_dict = get_ratings_mapping()\n",
    "ratings_dict"
   ]
  },
  {
   "cell_type": "code",
   "execution_count": 36,
   "metadata": {},
   "outputs": [],
   "source": [
    "reviews_df = pd.read_csv(reviews_base_file, sep=',')"
   ]
  },
  {
   "cell_type": "markdown",
   "metadata": {},
   "source": [
    "<a id='data_cleaning_eda'></a>\n",
    "### Data Cleaning & Exploratory Data Analysis\n",
    "\n",
    "Here we can have an initial look about the information contained in the dataset - Please note that each row in the dataset corresponds to a different _review_ :"
   ]
  },
  {
   "cell_type": "code",
   "execution_count": 37,
   "metadata": {},
   "outputs": [
    {
     "data": {
      "text/html": [
       "<div>\n",
       "<style scoped>\n",
       "    .dataframe tbody tr th:only-of-type {\n",
       "        vertical-align: middle;\n",
       "    }\n",
       "\n",
       "    .dataframe tbody tr th {\n",
       "        vertical-align: top;\n",
       "    }\n",
       "\n",
       "    .dataframe thead th {\n",
       "        text-align: right;\n",
       "    }\n",
       "</style>\n",
       "<table border=\"1\" class=\"dataframe\">\n",
       "  <thead>\n",
       "    <tr style=\"text-align: right;\">\n",
       "      <th></th>\n",
       "      <th>Company</th>\n",
       "      <th>Id</th>\n",
       "      <th>Reviewer_Id</th>\n",
       "      <th>Title</th>\n",
       "      <th>Review</th>\n",
       "      <th>Date</th>\n",
       "      <th>Rating</th>\n",
       "    </tr>\n",
       "  </thead>\n",
       "  <tbody>\n",
       "    <tr>\n",
       "      <th>0</th>\n",
       "      <td>Deliveroo</td>\n",
       "      <td>60709f95f85d75087052ff8b</td>\n",
       "      <td>60709f8f0a30fd001b06dc52</td>\n",
       "      <td>Ordered food and apparently the driver…</td>\n",
       "      <td>Ordered food and apparently the driver was wai...</td>\n",
       "      <td>2021-04-09 18:40</td>\n",
       "      <td>{2: 'Poor'}</td>\n",
       "    </tr>\n",
       "    <tr>\n",
       "      <th>1</th>\n",
       "      <td>Deliveroo</td>\n",
       "      <td>60708710f85d75087052c89b</td>\n",
       "      <td>6070870c2158190019b3ab8e</td>\n",
       "      <td>Disgusting Live Customer Service CHAT!!!</td>\n",
       "      <td>I received standard bag of buttons that cost £...</td>\n",
       "      <td>2021-04-09 16:55</td>\n",
       "      <td>{1: 'Bad'}</td>\n",
       "    </tr>\n",
       "    <tr>\n",
       "      <th>2</th>\n",
       "      <td>Deliveroo</td>\n",
       "      <td>60707b91f85d75087052abb6</td>\n",
       "      <td>602eb3ac49aeca0019ad4b70</td>\n",
       "      <td>Just had an appalling experience with…</td>\n",
       "      <td>Just had an appalling experience with delivero...</td>\n",
       "      <td>2021-04-09 16:06</td>\n",
       "      <td>{1: 'Bad'}</td>\n",
       "    </tr>\n",
       "    <tr>\n",
       "      <th>3</th>\n",
       "      <td>Deliveroo</td>\n",
       "      <td>60705919f85d7508705251d4</td>\n",
       "      <td>60705856348d93001ad1ca1f</td>\n",
       "      <td>The same situation happened twice</td>\n",
       "      <td>The same situation happened twice. I ordered f...</td>\n",
       "      <td>2021-04-09 13:39</td>\n",
       "      <td>{2: 'Poor'}</td>\n",
       "    </tr>\n",
       "    <tr>\n",
       "      <th>4</th>\n",
       "      <td>Deliveroo</td>\n",
       "      <td>60705138f85d750870523d4d</td>\n",
       "      <td>6070512519dc76001aebe4b1</td>\n",
       "      <td>Driver left without giving us food</td>\n",
       "      <td>Driver turned up late couldn’t find us and lef...</td>\n",
       "      <td>2021-04-09 13:06</td>\n",
       "      <td>{1: 'Bad'}</td>\n",
       "    </tr>\n",
       "  </tbody>\n",
       "</table>\n",
       "</div>"
      ],
      "text/plain": [
       "     Company                        Id               Reviewer_Id  \\\n",
       "0  Deliveroo  60709f95f85d75087052ff8b  60709f8f0a30fd001b06dc52   \n",
       "1  Deliveroo  60708710f85d75087052c89b  6070870c2158190019b3ab8e   \n",
       "2  Deliveroo  60707b91f85d75087052abb6  602eb3ac49aeca0019ad4b70   \n",
       "3  Deliveroo  60705919f85d7508705251d4  60705856348d93001ad1ca1f   \n",
       "4  Deliveroo  60705138f85d750870523d4d  6070512519dc76001aebe4b1   \n",
       "\n",
       "                                      Title  \\\n",
       "0   Ordered food and apparently the driver…   \n",
       "1  Disgusting Live Customer Service CHAT!!!   \n",
       "2    Just had an appalling experience with…   \n",
       "3         The same situation happened twice   \n",
       "4        Driver left without giving us food   \n",
       "\n",
       "                                              Review              Date  \\\n",
       "0  Ordered food and apparently the driver was wai...  2021-04-09 18:40   \n",
       "1  I received standard bag of buttons that cost £...  2021-04-09 16:55   \n",
       "2  Just had an appalling experience with delivero...  2021-04-09 16:06   \n",
       "3  The same situation happened twice. I ordered f...  2021-04-09 13:39   \n",
       "4  Driver turned up late couldn’t find us and lef...  2021-04-09 13:06   \n",
       "\n",
       "        Rating  \n",
       "0  {2: 'Poor'}  \n",
       "1   {1: 'Bad'}  \n",
       "2   {1: 'Bad'}  \n",
       "3  {2: 'Poor'}  \n",
       "4   {1: 'Bad'}  "
      ]
     },
     "execution_count": 37,
     "metadata": {},
     "output_type": "execute_result"
    }
   ],
   "source": [
    "reviews_df.head()"
   ]
  },
  {
   "cell_type": "markdown",
   "metadata": {},
   "source": [
    "We can see that the _Title_ of the review sometimes seems to correspond to the first few words/lines of the full _Review_, while some other times appears to be a small summary. At the same time we can observe that the _Rating_ provides us with some useful information about how the Reviewer felt regarding the company's service on that specific occasion."
   ]
  },
  {
   "cell_type": "code",
   "execution_count": 38,
   "metadata": {},
   "outputs": [
    {
     "name": "stdout",
     "output_type": "stream",
     "text": [
      "There are 19080 reviews (rows) and 7 features in the dataset\n"
     ]
    }
   ],
   "source": [
    "print(f'There are {reviews_df.shape[0]} reviews (rows) and {reviews_df.shape[1]} features in the dataset')"
   ]
  },
  {
   "cell_type": "code",
   "execution_count": 39,
   "metadata": {},
   "outputs": [
    {
     "data": {
      "text/plain": [
       "UberEats     9340\n",
       "Deliveroo    6720\n",
       "JustEat      2740\n",
       "Stuart        280\n",
       "Name: Company, dtype: int64"
      ]
     },
     "execution_count": 39,
     "metadata": {},
     "output_type": "execute_result"
    }
   ],
   "source": [
    "reviews_df['Company'].value_counts()"
   ]
  },
  {
   "cell_type": "markdown",
   "metadata": {},
   "source": [
    "We can check if there are any missing values in the dataset, or if there are rows that are duplicates:"
   ]
  },
  {
   "cell_type": "code",
   "execution_count": 40,
   "metadata": {},
   "outputs": [
    {
     "name": "stdout",
     "output_type": "stream",
     "text": [
      "There are 161 duplicate reviews in the dataset\n"
     ]
    }
   ],
   "source": [
    "num_duplicate_reviews = reviews_df.duplicated('Id').sum()\n",
    "print(f'There are {num_duplicate_reviews} duplicate reviews in the dataset')"
   ]
  },
  {
   "cell_type": "markdown",
   "metadata": {},
   "source": [
    "Dropping the duplicate reviews"
   ]
  },
  {
   "cell_type": "code",
   "execution_count": 41,
   "metadata": {},
   "outputs": [
    {
     "data": {
      "text/plain": [
       "1"
      ]
     },
     "execution_count": 41,
     "metadata": {},
     "output_type": "execute_result"
    }
   ],
   "source": [
    "reviews_df.drop_duplicates(inplace=True)\n",
    "reviews_df.duplicated('Id').sum()"
   ]
  },
  {
   "cell_type": "code",
   "execution_count": 42,
   "metadata": {},
   "outputs": [
    {
     "data": {
      "text/html": [
       "<div>\n",
       "<style scoped>\n",
       "    .dataframe tbody tr th:only-of-type {\n",
       "        vertical-align: middle;\n",
       "    }\n",
       "\n",
       "    .dataframe tbody tr th {\n",
       "        vertical-align: top;\n",
       "    }\n",
       "\n",
       "    .dataframe thead th {\n",
       "        text-align: right;\n",
       "    }\n",
       "</style>\n",
       "<table border=\"1\" class=\"dataframe\">\n",
       "  <thead>\n",
       "    <tr style=\"text-align: right;\">\n",
       "      <th></th>\n",
       "      <th>Missing_Values</th>\n",
       "    </tr>\n",
       "  </thead>\n",
       "  <tbody>\n",
       "    <tr>\n",
       "      <th>Company</th>\n",
       "      <td>0</td>\n",
       "    </tr>\n",
       "    <tr>\n",
       "      <th>Id</th>\n",
       "      <td>0</td>\n",
       "    </tr>\n",
       "    <tr>\n",
       "      <th>Reviewer_Id</th>\n",
       "      <td>0</td>\n",
       "    </tr>\n",
       "    <tr>\n",
       "      <th>Title</th>\n",
       "      <td>0</td>\n",
       "    </tr>\n",
       "    <tr>\n",
       "      <th>Review</th>\n",
       "      <td>267</td>\n",
       "    </tr>\n",
       "    <tr>\n",
       "      <th>Date</th>\n",
       "      <td>2912</td>\n",
       "    </tr>\n",
       "    <tr>\n",
       "      <th>Rating</th>\n",
       "      <td>0</td>\n",
       "    </tr>\n",
       "  </tbody>\n",
       "</table>\n",
       "</div>"
      ],
      "text/plain": [
       "             Missing_Values\n",
       "Company                   0\n",
       "Id                        0\n",
       "Reviewer_Id               0\n",
       "Title                     0\n",
       "Review                  267\n",
       "Date                   2912\n",
       "Rating                    0"
      ]
     },
     "execution_count": 42,
     "metadata": {},
     "output_type": "execute_result"
    }
   ],
   "source": [
    "pd.DataFrame(reviews_df.isna().sum(), columns=['Missing_Values'])"
   ]
  },
  {
   "cell_type": "markdown",
   "metadata": {},
   "source": [
    "From the queries above we can quickly see that initially we had some issues as there were 57 duplicate reviews, but we have used a pandas built-in function to remove them from the dataset. The duplication is caused due to the nature of retrieving data from by using the API, as we might process pages that we have already processed in the past, and that means retrieving the same reviews as before. Luckily, the _Id_ column is sufficient to identify unique reviews in the dataset, and hence it's easy to spot and fix duplication issues.\n",
    "\n",
    "Now, regarding the missing values there are a few cases where Review appears to be empty, as well as quite a few cases on missing dates. The later is not a massive issue at this stage of the project. On the other hand, the absence of reviews can be a big issue as this project is all about analyzing customer reviews, and hence rows that have no text corresponding to a review wouldn't provide much information. That said, as we saw above there is another feature (_Title_) which we can use as text for rows where the _Review_ is empty."
   ]
  },
  {
   "cell_type": "code",
   "execution_count": 43,
   "metadata": {},
   "outputs": [
    {
     "data": {
      "text/html": [
       "<div>\n",
       "<style scoped>\n",
       "    .dataframe tbody tr th:only-of-type {\n",
       "        vertical-align: middle;\n",
       "    }\n",
       "\n",
       "    .dataframe tbody tr th {\n",
       "        vertical-align: top;\n",
       "    }\n",
       "\n",
       "    .dataframe thead th {\n",
       "        text-align: right;\n",
       "    }\n",
       "</style>\n",
       "<table border=\"1\" class=\"dataframe\">\n",
       "  <thead>\n",
       "    <tr style=\"text-align: right;\">\n",
       "      <th></th>\n",
       "      <th>Company</th>\n",
       "      <th>Id</th>\n",
       "      <th>Reviewer_Id</th>\n",
       "      <th>Title</th>\n",
       "      <th>Review</th>\n",
       "      <th>Date</th>\n",
       "      <th>Rating</th>\n",
       "    </tr>\n",
       "  </thead>\n",
       "  <tbody>\n",
       "    <tr>\n",
       "      <th>45</th>\n",
       "      <td>Deliveroo</td>\n",
       "      <td>60684978f85d75087045ed91</td>\n",
       "      <td>60684973402b0e001a95af2d</td>\n",
       "      <td>Great service</td>\n",
       "      <td>NaN</td>\n",
       "      <td>2021-04-03 10:54</td>\n",
       "      <td>{5: 'Excellent'}</td>\n",
       "    </tr>\n",
       "    <tr>\n",
       "      <th>94</th>\n",
       "      <td>Deliveroo</td>\n",
       "      <td>606221b3f85d7508703c730e</td>\n",
       "      <td>5d73f4f179586ed7bad49d52</td>\n",
       "      <td>Very very disappointed bad service</td>\n",
       "      <td>NaN</td>\n",
       "      <td>2021-03-29 18:51</td>\n",
       "      <td>{1: 'Bad'}</td>\n",
       "    </tr>\n",
       "    <tr>\n",
       "      <th>114</th>\n",
       "      <td>Deliveroo</td>\n",
       "      <td>605f8f5df85d7508703919f5</td>\n",
       "      <td>5e8d9b9a6251456b37ed292e</td>\n",
       "      <td>CRAP nothing else to say!</td>\n",
       "      <td>NaN</td>\n",
       "      <td>2021-03-27 20:02</td>\n",
       "      <td>{1: 'Bad'}</td>\n",
       "    </tr>\n",
       "    <tr>\n",
       "      <th>137</th>\n",
       "      <td>Deliveroo</td>\n",
       "      <td>605e40ddf85d750870377a98</td>\n",
       "      <td>605cb15ead7256001bdc3948</td>\n",
       "      <td>A MILLION TIMES BETTER THAN UBER EATS</td>\n",
       "      <td>NaN</td>\n",
       "      <td>2021-03-26 20:15</td>\n",
       "      <td>{5: 'Excellent'}</td>\n",
       "    </tr>\n",
       "    <tr>\n",
       "      <th>201</th>\n",
       "      <td>Deliveroo</td>\n",
       "      <td>6054f264f85d750bf4f97e45</td>\n",
       "      <td>5d57f496959de5789bc062bd</td>\n",
       "      <td>Better to use Uber eats</td>\n",
       "      <td>NaN</td>\n",
       "      <td>2021-03-19 18:50</td>\n",
       "      <td>{1: 'Bad'}</td>\n",
       "    </tr>\n",
       "  </tbody>\n",
       "</table>\n",
       "</div>"
      ],
      "text/plain": [
       "       Company                        Id               Reviewer_Id  \\\n",
       "45   Deliveroo  60684978f85d75087045ed91  60684973402b0e001a95af2d   \n",
       "94   Deliveroo  606221b3f85d7508703c730e  5d73f4f179586ed7bad49d52   \n",
       "114  Deliveroo  605f8f5df85d7508703919f5  5e8d9b9a6251456b37ed292e   \n",
       "137  Deliveroo  605e40ddf85d750870377a98  605cb15ead7256001bdc3948   \n",
       "201  Deliveroo  6054f264f85d750bf4f97e45  5d57f496959de5789bc062bd   \n",
       "\n",
       "                                     Title Review              Date  \\\n",
       "45                           Great service    NaN  2021-04-03 10:54   \n",
       "94      Very very disappointed bad service    NaN  2021-03-29 18:51   \n",
       "114              CRAP nothing else to say!    NaN  2021-03-27 20:02   \n",
       "137  A MILLION TIMES BETTER THAN UBER EATS    NaN  2021-03-26 20:15   \n",
       "201                Better to use Uber eats    NaN  2021-03-19 18:50   \n",
       "\n",
       "               Rating  \n",
       "45   {5: 'Excellent'}  \n",
       "94         {1: 'Bad'}  \n",
       "114        {1: 'Bad'}  \n",
       "137  {5: 'Excellent'}  \n",
       "201        {1: 'Bad'}  "
      ]
     },
     "execution_count": 43,
     "metadata": {},
     "output_type": "execute_result"
    }
   ],
   "source": [
    "empty_reviews_sample = reviews_df[reviews_df['Review'].isnull()].head(5)\n",
    "empty_reviews_sample"
   ]
  },
  {
   "cell_type": "markdown",
   "metadata": {},
   "source": [
    "Apply the transformation"
   ]
  },
  {
   "cell_type": "code",
   "execution_count": 44,
   "metadata": {},
   "outputs": [],
   "source": [
    "reviews_df.loc[reviews_df['Review'].isnull(), 'Review'] = reviews_df['Title']"
   ]
  },
  {
   "cell_type": "markdown",
   "metadata": {},
   "source": [
    "and we can see how the transformation affected the dataset"
   ]
  },
  {
   "cell_type": "code",
   "execution_count": 45,
   "metadata": {},
   "outputs": [
    {
     "data": {
      "text/html": [
       "<div>\n",
       "<style scoped>\n",
       "    .dataframe tbody tr th:only-of-type {\n",
       "        vertical-align: middle;\n",
       "    }\n",
       "\n",
       "    .dataframe tbody tr th {\n",
       "        vertical-align: top;\n",
       "    }\n",
       "\n",
       "    .dataframe thead th {\n",
       "        text-align: right;\n",
       "    }\n",
       "</style>\n",
       "<table border=\"1\" class=\"dataframe\">\n",
       "  <thead>\n",
       "    <tr style=\"text-align: right;\">\n",
       "      <th></th>\n",
       "      <th>Company</th>\n",
       "      <th>Id</th>\n",
       "      <th>Reviewer_Id</th>\n",
       "      <th>Title</th>\n",
       "      <th>Review</th>\n",
       "      <th>Date</th>\n",
       "      <th>Rating</th>\n",
       "    </tr>\n",
       "  </thead>\n",
       "  <tbody>\n",
       "    <tr>\n",
       "      <th>45</th>\n",
       "      <td>Deliveroo</td>\n",
       "      <td>60684978f85d75087045ed91</td>\n",
       "      <td>60684973402b0e001a95af2d</td>\n",
       "      <td>Great service</td>\n",
       "      <td>Great service</td>\n",
       "      <td>2021-04-03 10:54</td>\n",
       "      <td>{5: 'Excellent'}</td>\n",
       "    </tr>\n",
       "    <tr>\n",
       "      <th>94</th>\n",
       "      <td>Deliveroo</td>\n",
       "      <td>606221b3f85d7508703c730e</td>\n",
       "      <td>5d73f4f179586ed7bad49d52</td>\n",
       "      <td>Very very disappointed bad service</td>\n",
       "      <td>Very very disappointed bad service</td>\n",
       "      <td>2021-03-29 18:51</td>\n",
       "      <td>{1: 'Bad'}</td>\n",
       "    </tr>\n",
       "    <tr>\n",
       "      <th>114</th>\n",
       "      <td>Deliveroo</td>\n",
       "      <td>605f8f5df85d7508703919f5</td>\n",
       "      <td>5e8d9b9a6251456b37ed292e</td>\n",
       "      <td>CRAP nothing else to say!</td>\n",
       "      <td>CRAP nothing else to say!</td>\n",
       "      <td>2021-03-27 20:02</td>\n",
       "      <td>{1: 'Bad'}</td>\n",
       "    </tr>\n",
       "    <tr>\n",
       "      <th>137</th>\n",
       "      <td>Deliveroo</td>\n",
       "      <td>605e40ddf85d750870377a98</td>\n",
       "      <td>605cb15ead7256001bdc3948</td>\n",
       "      <td>A MILLION TIMES BETTER THAN UBER EATS</td>\n",
       "      <td>A MILLION TIMES BETTER THAN UBER EATS</td>\n",
       "      <td>2021-03-26 20:15</td>\n",
       "      <td>{5: 'Excellent'}</td>\n",
       "    </tr>\n",
       "    <tr>\n",
       "      <th>201</th>\n",
       "      <td>Deliveroo</td>\n",
       "      <td>6054f264f85d750bf4f97e45</td>\n",
       "      <td>5d57f496959de5789bc062bd</td>\n",
       "      <td>Better to use Uber eats</td>\n",
       "      <td>Better to use Uber eats</td>\n",
       "      <td>2021-03-19 18:50</td>\n",
       "      <td>{1: 'Bad'}</td>\n",
       "    </tr>\n",
       "  </tbody>\n",
       "</table>\n",
       "</div>"
      ],
      "text/plain": [
       "       Company                        Id               Reviewer_Id  \\\n",
       "45   Deliveroo  60684978f85d75087045ed91  60684973402b0e001a95af2d   \n",
       "94   Deliveroo  606221b3f85d7508703c730e  5d73f4f179586ed7bad49d52   \n",
       "114  Deliveroo  605f8f5df85d7508703919f5  5e8d9b9a6251456b37ed292e   \n",
       "137  Deliveroo  605e40ddf85d750870377a98  605cb15ead7256001bdc3948   \n",
       "201  Deliveroo  6054f264f85d750bf4f97e45  5d57f496959de5789bc062bd   \n",
       "\n",
       "                                     Title  \\\n",
       "45                           Great service   \n",
       "94      Very very disappointed bad service   \n",
       "114              CRAP nothing else to say!   \n",
       "137  A MILLION TIMES BETTER THAN UBER EATS   \n",
       "201                Better to use Uber eats   \n",
       "\n",
       "                                    Review              Date            Rating  \n",
       "45                           Great service  2021-04-03 10:54  {5: 'Excellent'}  \n",
       "94      Very very disappointed bad service  2021-03-29 18:51        {1: 'Bad'}  \n",
       "114              CRAP nothing else to say!  2021-03-27 20:02        {1: 'Bad'}  \n",
       "137  A MILLION TIMES BETTER THAN UBER EATS  2021-03-26 20:15  {5: 'Excellent'}  \n",
       "201                Better to use Uber eats  2021-03-19 18:50        {1: 'Bad'}  "
      ]
     },
     "execution_count": 45,
     "metadata": {},
     "output_type": "execute_result"
    }
   ],
   "source": [
    "reviews_df.iloc[list(empty_reviews_sample.index)]"
   ]
  },
  {
   "cell_type": "code",
   "execution_count": 46,
   "metadata": {},
   "outputs": [
    {
     "data": {
      "text/html": [
       "<div>\n",
       "<style scoped>\n",
       "    .dataframe tbody tr th:only-of-type {\n",
       "        vertical-align: middle;\n",
       "    }\n",
       "\n",
       "    .dataframe tbody tr th {\n",
       "        vertical-align: top;\n",
       "    }\n",
       "\n",
       "    .dataframe thead th {\n",
       "        text-align: right;\n",
       "    }\n",
       "</style>\n",
       "<table border=\"1\" class=\"dataframe\">\n",
       "  <thead>\n",
       "    <tr style=\"text-align: right;\">\n",
       "      <th></th>\n",
       "      <th>Missing_Values</th>\n",
       "    </tr>\n",
       "  </thead>\n",
       "  <tbody>\n",
       "    <tr>\n",
       "      <th>Company</th>\n",
       "      <td>0</td>\n",
       "    </tr>\n",
       "    <tr>\n",
       "      <th>Id</th>\n",
       "      <td>0</td>\n",
       "    </tr>\n",
       "    <tr>\n",
       "      <th>Reviewer_Id</th>\n",
       "      <td>0</td>\n",
       "    </tr>\n",
       "    <tr>\n",
       "      <th>Title</th>\n",
       "      <td>0</td>\n",
       "    </tr>\n",
       "    <tr>\n",
       "      <th>Review</th>\n",
       "      <td>0</td>\n",
       "    </tr>\n",
       "    <tr>\n",
       "      <th>Date</th>\n",
       "      <td>2912</td>\n",
       "    </tr>\n",
       "    <tr>\n",
       "      <th>Rating</th>\n",
       "      <td>0</td>\n",
       "    </tr>\n",
       "  </tbody>\n",
       "</table>\n",
       "</div>"
      ],
      "text/plain": [
       "             Missing_Values\n",
       "Company                   0\n",
       "Id                        0\n",
       "Reviewer_Id               0\n",
       "Title                     0\n",
       "Review                    0\n",
       "Date                   2912\n",
       "Rating                    0"
      ]
     },
     "execution_count": 46,
     "metadata": {},
     "output_type": "execute_result"
    }
   ],
   "source": [
    "pd.DataFrame(reviews_df.isna().sum(), columns=['Missing_Values'])"
   ]
  },
  {
   "cell_type": "markdown",
   "metadata": {},
   "source": [
    "<a id='data_preprocessing'></a>\n",
    "### Data Preprocessing\n",
    "\n",
    "Now that we have familiarized a bit ourselves with the dataset and it's format, as well as conducted the initial data cleaning, we will move to one of the most important steps in any project - the data preprocessing. This section is especially important for cases where we have to deal with analysis of text, such as in this project. The reason is that text in raw format usually contains a lot of noise. This could later affect the performance of the algorithms - both in terms of computational power and the final output - due to very high dimensions of the dataset. This is happening as, like we are going to see soon, each unique word in each review will become a separate feature in the dataset. Hence, the more reviews we have the more unique words we gonna end up with in the final dataset before the analysis. \n",
    " \n",
    "Therefore, its essential to use  some common text preprocessing techniques to reduce the dimensions. As a summary, we are going to perform the following steps:\n",
    "\n",
    " 1) Perform **tokenization** of the reviews. This is a technique of transforming a sentence, into a list of words. For example, the sentence \"my order was great\" would become '['my', 'order', 'was', 'great'].\n",
    " \n",
    " 2) Remove from the reviews tokens that are **stopwords**. Stopwords are words inside text that do not provide much information and are usually getting removed from the initial sentence. Such words can be words like \"the\", \"a\", and more.\n",
    " \n",
    " 3) Remove tokens that correspond to **punctuation** marks (e.g. \"!\", \"?\") and **numbers**.\n",
    " \n",
    " 4) <a href=\"https://en.wikipedia.org/wiki/Stemming\" style=\"text-decoration:none\">Stemming</a> and <a href=\"https://en.wikipedia.org/wiki/Lemmatisation\" style=\"text-decoration:none\">Lemmatization</a>: These two methods are being used to transform a token into it's stem or lemma respectively. These two techniques help drammatically with the reduction of the dimensions as words end up being \"grouped\" under a specific form. In this project we are going to use lemmatization, as in general is a more advanced method compared to stemming, as lemmatization algorithms try to identify the part of speech of the token, and thus in some way they are preserving the meaning of the word (something that does not necessarily happen with stemming).\n",
    " \n",
    "Below we are going to perform all of these steps to get a \"cleaner\" version of the reviews:"
   ]
  },
  {
   "cell_type": "code",
   "execution_count": 47,
   "metadata": {},
   "outputs": [],
   "source": [
    "from nltk.corpus import stopwords\n",
    "\n",
    "stopwords_ls = stopwords.words('english')\n",
    "stopwords_ls.extend(['\\'d', '\\'m', '\\'s', '\\'ve', '\\'re', '\\'ll', 'n\\'t', '’'])"
   ]
  },
  {
   "cell_type": "markdown",
   "metadata": {},
   "source": [
    "Except the common english stopwords, it's necessary to enhance the list with some additional tokens that we want to exclude from the reviews. These are usually words that we would expect that are getting repeated in the reviews. In our case, as we are examining the case of delivery companies, it would be beneficial to exclude words like 'delivery', 'order', and more. Moreover, we are excluding the tokens that correspond to the names of the delivery companies, as we already have this information in the dataset as a different feature."
   ]
  },
  {
   "cell_type": "code",
   "execution_count": 48,
   "metadata": {},
   "outputs": [],
   "source": [
    "common_delivery_words = ['delivery', 'deliver', 'driver', 'order', 'uber', 'stuart', 'deliveroo', 'food', 'use', 'get',\n",
    "                         'service', 'customer', 'refund','give', 'star', 'even', 'though', 'could']\n",
    "\n",
    "stopwords_ls.extend(common_delivery_words)"
   ]
  },
  {
   "cell_type": "markdown",
   "metadata": {},
   "source": [
    "Moreover, we can see that the _Rating_ columns has values like the following: {1: 'Bad'}, so we are going to use a custom function to split this into two different features for better presentation:"
   ]
  },
  {
   "cell_type": "code",
   "execution_count": 49,
   "metadata": {},
   "outputs": [],
   "source": [
    "def split_ratings(rating_text):\n",
    "    \"\"\"\n",
    "    Mapper function to split string with {Rating: Rating_As_String} format to two\n",
    "    separate entities\"\"\"\n",
    "    rating_text = rating_text.replace('\\'','').replace('{','').replace('}','')\n",
    "    return rating_text[0], rating_text[3:]\n",
    "\n",
    "\n",
    "def convertDateToYearMonthDayFormat(input_date):\n",
    "    try:\n",
    "        return input_date.replace(hour=0, minute=0, second=0, microsecond=0)\n",
    "    except AttributeError:\n",
    "        pass"
   ]
  },
  {
   "cell_type": "code",
   "execution_count": 50,
   "metadata": {},
   "outputs": [],
   "source": [
    "# Cast columns specific data format\n",
    "reviews_df['Date'] = pd.to_datetime(reviews_df['Date'], format=\"%Y-%m-%d %H:%M\", errors='coerce')\n",
    "reviews_df['Date_YMD'] = reviews_df['Date'].apply(lambda row: convertDateToYearMonthDayFormat(row))"
   ]
  },
  {
   "cell_type": "code",
   "execution_count": 51,
   "metadata": {},
   "outputs": [],
   "source": [
    "reviews_df['Rating'] = reviews_df['Rating'].apply(lambda row: split_ratings(row)[0]).astype(int)\n",
    "reviews_df['Rating_Text'] = reviews_df['Rating'].apply(lambda row: ratings_dict[row])"
   ]
  },
  {
   "cell_type": "code",
   "execution_count": 52,
   "metadata": {},
   "outputs": [
    {
     "data": {
      "text/html": [
       "<div>\n",
       "<style scoped>\n",
       "    .dataframe tbody tr th:only-of-type {\n",
       "        vertical-align: middle;\n",
       "    }\n",
       "\n",
       "    .dataframe tbody tr th {\n",
       "        vertical-align: top;\n",
       "    }\n",
       "\n",
       "    .dataframe thead th {\n",
       "        text-align: right;\n",
       "    }\n",
       "</style>\n",
       "<table border=\"1\" class=\"dataframe\">\n",
       "  <thead>\n",
       "    <tr style=\"text-align: right;\">\n",
       "      <th></th>\n",
       "      <th>Company</th>\n",
       "      <th>Id</th>\n",
       "      <th>Reviewer_Id</th>\n",
       "      <th>Title</th>\n",
       "      <th>Review</th>\n",
       "      <th>Date</th>\n",
       "      <th>Rating</th>\n",
       "      <th>Date_YMD</th>\n",
       "      <th>Rating_Text</th>\n",
       "    </tr>\n",
       "  </thead>\n",
       "  <tbody>\n",
       "    <tr>\n",
       "      <th>0</th>\n",
       "      <td>Deliveroo</td>\n",
       "      <td>60709f95f85d75087052ff8b</td>\n",
       "      <td>60709f8f0a30fd001b06dc52</td>\n",
       "      <td>Ordered food and apparently the driver…</td>\n",
       "      <td>Ordered food and apparently the driver was wai...</td>\n",
       "      <td>2021-04-09 18:40:00</td>\n",
       "      <td>2</td>\n",
       "      <td>2021-04-09</td>\n",
       "      <td>Poor</td>\n",
       "    </tr>\n",
       "    <tr>\n",
       "      <th>1</th>\n",
       "      <td>Deliveroo</td>\n",
       "      <td>60708710f85d75087052c89b</td>\n",
       "      <td>6070870c2158190019b3ab8e</td>\n",
       "      <td>Disgusting Live Customer Service CHAT!!!</td>\n",
       "      <td>I received standard bag of buttons that cost £...</td>\n",
       "      <td>2021-04-09 16:55:00</td>\n",
       "      <td>1</td>\n",
       "      <td>2021-04-09</td>\n",
       "      <td>Bad</td>\n",
       "    </tr>\n",
       "  </tbody>\n",
       "</table>\n",
       "</div>"
      ],
      "text/plain": [
       "     Company                        Id               Reviewer_Id  \\\n",
       "0  Deliveroo  60709f95f85d75087052ff8b  60709f8f0a30fd001b06dc52   \n",
       "1  Deliveroo  60708710f85d75087052c89b  6070870c2158190019b3ab8e   \n",
       "\n",
       "                                      Title  \\\n",
       "0   Ordered food and apparently the driver…   \n",
       "1  Disgusting Live Customer Service CHAT!!!   \n",
       "\n",
       "                                              Review                Date  \\\n",
       "0  Ordered food and apparently the driver was wai... 2021-04-09 18:40:00   \n",
       "1  I received standard bag of buttons that cost £... 2021-04-09 16:55:00   \n",
       "\n",
       "   Rating   Date_YMD Rating_Text  \n",
       "0       2 2021-04-09        Poor  \n",
       "1       1 2021-04-09         Bad  "
      ]
     },
     "execution_count": 52,
     "metadata": {},
     "output_type": "execute_result"
    }
   ],
   "source": [
    "reviews_df.head(2)"
   ]
  },
  {
   "cell_type": "markdown",
   "metadata": {},
   "source": [
    "Now we are ready to apply the main data preprocessing tasks that we discussed above. But to do that we have to write the function that are going to be applied in the _Review_ column. Below we can see these functions, which are coming from a custom <a href=\"https://github.com/gpsyrou/Text_Analysis_of_Consumer_Reviews/blob/main/processing/text_processing.py\" style=\"text-decoration: none\">package</a> that we had to develop, which contains functions for the most common text preprocessing tasks for pretty much any NLP project. "
   ]
  },
  {
   "cell_type": "code",
   "execution_count": 53,
   "metadata": {},
   "outputs": [],
   "source": [
    "lemmatizer = WordNetLemmatizer()\n",
    "stemmer = PorterStemmer()"
   ]
  },
  {
   "cell_type": "code",
   "execution_count": 54,
   "metadata": {},
   "outputs": [],
   "source": [
    "punct_ls = list(string.punctuation)\n",
    "punct_ls.extend([2*x for x in list(string.punctuation)])\n",
    "punct_ls.extend([3*x for x in list(string.punctuation)])"
   ]
  },
  {
   "cell_type": "code",
   "execution_count": 55,
   "metadata": {},
   "outputs": [],
   "source": [
    "def remove_stopwords(text: List['str'], stpwds_ls: List['str']) -> List['str']:\n",
    "    return [token for token in text if token not in stpwds_ls]"
   ]
  },
  {
   "cell_type": "code",
   "execution_count": 56,
   "metadata": {},
   "outputs": [],
   "source": [
    "def remove_punctuation(text: List['str'], punct_ls: List['str']) -> List['str']:\n",
    "    return [token for token in text if token not in punct_ls]"
   ]
  },
  {
   "cell_type": "code",
   "execution_count": 57,
   "metadata": {},
   "outputs": [],
   "source": [
    "def remove_numbers(text: List['str']) -> List['str']:\n",
    "    return [token for token in text if not token.isdigit()]"
   ]
  },
  {
   "cell_type": "code",
   "execution_count": 58,
   "metadata": {},
   "outputs": [],
   "source": [
    "def lemmatize(text: List['str'],\n",
    "              pos_type = 'a') -> List['str']:\n",
    "    return [lemmatizer.lemmatize(token, pos=pos_type) for token in text]\n",
    "\n",
    "def stem(text: List['str']) -> List['str']:\n",
    "    return [stemmer.stem(token) for token in text]"
   ]
  },
  {
   "cell_type": "code",
   "execution_count": 59,
   "metadata": {},
   "outputs": [],
   "source": [
    "def tokenize_and_clean(text: str,\n",
    "                       stopwords_ls: List[str],\n",
    "                       stopwords=True,\n",
    "                       punct=True, \n",
    "                       numerics=True) -> List[str]:\n",
    "    \"\"\"\n",
    "    Performs tokenizations and cleaning processes given a document/text.\n",
    "    The function will always tokenize the given text but the cleaning tasks\n",
    "    are optional.\n",
    "    \n",
    "    Parameters\n",
    "    ----------\n",
    "    text: \n",
    "        A document, which can be a word or sentence of arbitrary length.\n",
    "    stopwords: default True\n",
    "        Indicator of removing tokens that are stopwords.\n",
    "    punct: \n",
    "        Indicator of removing tokens that are punctuation marks.\n",
    "    numerics: \n",
    "        Indicator of removing tokens that correspond to numbers.\n",
    "\n",
    "    Returns\n",
    "    --------\n",
    "         A tokenized version of 'text' with the necessary updates depending on\n",
    "         the cleanup steps performed.\n",
    "    \"\"\"\n",
    "    tokenized = word_tokenize(text, language='english')\n",
    "    \n",
    "    tokenized = [token.lower() for token in tokenized]\n",
    "\n",
    "    if punct:\n",
    "        tokenized = remove_punctuation(tokenized, punct_ls=punct_ls)\n",
    "        \n",
    "    if numerics:\n",
    "        tokenized = remove_numbers(tokenized)\n",
    "        \n",
    "    if stopwords:\n",
    "        tokenized = remove_stopwords(tokenized, stpwds_ls=stopwords_ls)\n",
    "\n",
    "    return tokenized"
   ]
  },
  {
   "cell_type": "markdown",
   "metadata": {},
   "source": [
    "Split review in tokens and remove punctuation & stopwords"
   ]
  },
  {
   "cell_type": "code",
   "execution_count": 60,
   "metadata": {},
   "outputs": [],
   "source": [
    "reviews_df['Review_Tokenized'] = reviews_df['Review'].apply(lambda row: tokenize_and_clean(text=row, stopwords_ls=stopwords_ls, numerics=False))"
   ]
  },
  {
   "cell_type": "markdown",
   "metadata": {},
   "source": [
    "Lemmatize the tokens"
   ]
  },
  {
   "cell_type": "code",
   "execution_count": 61,
   "metadata": {},
   "outputs": [],
   "source": [
    "reviews_df['Review_Lemmatized'] = reviews_df['Review_Tokenized'].apply(lambda row: lemmatize(text=row, pos_type='n'))"
   ]
  },
  {
   "cell_type": "code",
   "execution_count": 62,
   "metadata": {},
   "outputs": [],
   "source": [
    "reviews_df['Review_Lemmatized'] = reviews_df['Review_Lemmatized'].apply(lambda row: lemmatize(text=row, pos_type='a'))"
   ]
  },
  {
   "cell_type": "markdown",
   "metadata": {},
   "source": [
    "Some times we need the \"clean\" tokens per document to be a single string. Therefore we are applying the appropriate transformation where we are joining back the clean tokens into a single object."
   ]
  },
  {
   "cell_type": "code",
   "execution_count": 63,
   "metadata": {},
   "outputs": [],
   "source": [
    "reviews_df['Clean_Review_String'] = reviews_df['Review_Lemmatized'].apply(lambda row: ' '.join([x for x in row]))"
   ]
  },
  {
   "cell_type": "code",
   "execution_count": 64,
   "metadata": {},
   "outputs": [
    {
     "data": {
      "text/html": [
       "<div>\n",
       "<style scoped>\n",
       "    .dataframe tbody tr th:only-of-type {\n",
       "        vertical-align: middle;\n",
       "    }\n",
       "\n",
       "    .dataframe tbody tr th {\n",
       "        vertical-align: top;\n",
       "    }\n",
       "\n",
       "    .dataframe thead th {\n",
       "        text-align: right;\n",
       "    }\n",
       "</style>\n",
       "<table border=\"1\" class=\"dataframe\">\n",
       "  <thead>\n",
       "    <tr style=\"text-align: right;\">\n",
       "      <th></th>\n",
       "      <th>Company</th>\n",
       "      <th>Title</th>\n",
       "      <th>Review</th>\n",
       "      <th>Review_Tokenized</th>\n",
       "      <th>Review_Lemmatized</th>\n",
       "      <th>Clean_Review_String</th>\n",
       "    </tr>\n",
       "  </thead>\n",
       "  <tbody>\n",
       "    <tr>\n",
       "      <th>0</th>\n",
       "      <td>Deliveroo</td>\n",
       "      <td>Ordered food and apparently the driver…</td>\n",
       "      <td>Ordered food and apparently the driver was wai...</td>\n",
       "      <td>[ordered, apparently, waiting, 10, mins, stood...</td>\n",
       "      <td>[ordered, apparently, waiting, 10, min, stood,...</td>\n",
       "      <td>ordered apparently waiting 10 min stood outsid...</td>\n",
       "    </tr>\n",
       "    <tr>\n",
       "      <th>1</th>\n",
       "      <td>Deliveroo</td>\n",
       "      <td>Disgusting Live Customer Service CHAT!!!</td>\n",
       "      <td>I received standard bag of buttons that cost £...</td>\n",
       "      <td>[received, standard, bag, buttons, cost, £1.60...</td>\n",
       "      <td>[received, standard, bag, button, cost, £1.60,...</td>\n",
       "      <td>received standard bag button cost £1.60 asked ...</td>\n",
       "    </tr>\n",
       "    <tr>\n",
       "      <th>2</th>\n",
       "      <td>Deliveroo</td>\n",
       "      <td>Just had an appalling experience with…</td>\n",
       "      <td>Just had an appalling experience with delivero...</td>\n",
       "      <td>[appalling, experience, ordered, pizza, £10, d...</td>\n",
       "      <td>[appalling, experience, ordered, pizza, £10, d...</td>\n",
       "      <td>appalling experience ordered pizza £10 discoun...</td>\n",
       "    </tr>\n",
       "    <tr>\n",
       "      <th>3</th>\n",
       "      <td>Deliveroo</td>\n",
       "      <td>The same situation happened twice</td>\n",
       "      <td>The same situation happened twice. I ordered f...</td>\n",
       "      <td>[situation, happened, twice, ordered, around, ...</td>\n",
       "      <td>[situation, happened, twice, ordered, around, ...</td>\n",
       "      <td>situation happened twice ordered around 10 pm ...</td>\n",
       "    </tr>\n",
       "    <tr>\n",
       "      <th>4</th>\n",
       "      <td>Deliveroo</td>\n",
       "      <td>Driver left without giving us food</td>\n",
       "      <td>Driver turned up late couldn’t find us and lef...</td>\n",
       "      <td>[turned, late, find, us, left, awful]</td>\n",
       "      <td>[turned, late, find, u, left, awful]</td>\n",
       "      <td>turned late find u left awful</td>\n",
       "    </tr>\n",
       "  </tbody>\n",
       "</table>\n",
       "</div>"
      ],
      "text/plain": [
       "     Company                                     Title  \\\n",
       "0  Deliveroo   Ordered food and apparently the driver…   \n",
       "1  Deliveroo  Disgusting Live Customer Service CHAT!!!   \n",
       "2  Deliveroo    Just had an appalling experience with…   \n",
       "3  Deliveroo         The same situation happened twice   \n",
       "4  Deliveroo        Driver left without giving us food   \n",
       "\n",
       "                                              Review  \\\n",
       "0  Ordered food and apparently the driver was wai...   \n",
       "1  I received standard bag of buttons that cost £...   \n",
       "2  Just had an appalling experience with delivero...   \n",
       "3  The same situation happened twice. I ordered f...   \n",
       "4  Driver turned up late couldn’t find us and lef...   \n",
       "\n",
       "                                    Review_Tokenized  \\\n",
       "0  [ordered, apparently, waiting, 10, mins, stood...   \n",
       "1  [received, standard, bag, buttons, cost, £1.60...   \n",
       "2  [appalling, experience, ordered, pizza, £10, d...   \n",
       "3  [situation, happened, twice, ordered, around, ...   \n",
       "4              [turned, late, find, us, left, awful]   \n",
       "\n",
       "                                   Review_Lemmatized  \\\n",
       "0  [ordered, apparently, waiting, 10, min, stood,...   \n",
       "1  [received, standard, bag, button, cost, £1.60,...   \n",
       "2  [appalling, experience, ordered, pizza, £10, d...   \n",
       "3  [situation, happened, twice, ordered, around, ...   \n",
       "4               [turned, late, find, u, left, awful]   \n",
       "\n",
       "                                 Clean_Review_String  \n",
       "0  ordered apparently waiting 10 min stood outsid...  \n",
       "1  received standard bag button cost £1.60 asked ...  \n",
       "2  appalling experience ordered pizza £10 discoun...  \n",
       "3  situation happened twice ordered around 10 pm ...  \n",
       "4                      turned late find u left awful  "
      ]
     },
     "execution_count": 64,
     "metadata": {},
     "output_type": "execute_result"
    }
   ],
   "source": [
    "reviews_df[['Company', 'Title', 'Review', 'Review_Tokenized', 'Review_Lemmatized', 'Clean_Review_String']].head(5)"
   ]
  },
  {
   "cell_type": "markdown",
   "metadata": {},
   "source": [
    "We can observe how big is the difference between the initial _Review_ and the final format of the review after the preprocessing tasks, as shown in <em>Review_Merged</em>.\n",
    "\n",
    "<a id=\"eda\"></a>\n",
    "### Exploratory Data Analysis\n",
    "\n",
    "Now that the data are in a better shape, we can start with the main part of this project which is the actual analysis of the reviews. As a first step we are going to perform some exploratory data analysis, mostly by analyzing the data visually. \n",
    "\n",
    "This is an important step for every data analysis project as it will allow us to further familiarize ourselves with the data, as well as make sure that we don't identify any cases that would require further data cleaning and that we might have missed in the initial text preprocessing steps performed in the previous section.\n",
    "<a id=\"single_words\"></a>"
   ]
  },
  {
   "cell_type": "code",
   "execution_count": 65,
   "metadata": {},
   "outputs": [],
   "source": [
    "def most_common_words(input_df: pd.DataFrame,\n",
    "                      text_col: str,\n",
    "                      n_most_common=20):\n",
    "    \"\"\" Given a collection of documents as text, compute the number of most common\n",
    "    words as defined by n_most_common.\n",
    "    Args:\n",
    "    ------\n",
    "        input_df: Dataframe that contains the relevant text column\n",
    "        text_col: Name of the column\n",
    "        n_most_common: Number of most common words to calculate\n",
    "    Returns:\n",
    "    --------\n",
    "        Pandas dataframe with two columns indicating a word and number\n",
    "        of times (count) that it appears in the original input_df\n",
    "    \"\"\"\n",
    "    word_list = list([x.split() for x in input_df[text_col] if x is not None])\n",
    "    word_counter = Counter(x for xs in word_list for x in set(xs))\n",
    "    word_counter.most_common(n_most_common)\n",
    "\n",
    "    return pd.DataFrame(word_counter.most_common(n_most_common), columns=['word', 'count'])"
   ]
  },
  {
   "cell_type": "code",
   "execution_count": 66,
   "metadata": {},
   "outputs": [],
   "source": [
    "def plot_most_common_words(input_df: pd.DataFrame,\n",
    "                           text_col: str,\n",
    "                           n_most_common=20,\n",
    "                           return_counts=False,\n",
    "                           figsize=(10, 10)) -> None:\n",
    "    \n",
    "    if return_counts:\n",
    "        df = most_common_words(input_df=input_df, text_col=text_col, n_most_common=n_most_common)\n",
    "        display(HTML(df.to_html()))\n",
    "\n",
    "    fig, ax = plt.subplots(figsize=figsize)\n",
    "    common_words_df = most_common_words(input_df=input_df,\n",
    "                                        text_col=text_col,\n",
    "                                        n_most_common=n_most_common)\n",
    "    sns.barplot(x='count', y='word', data=common_words_df).set_title(f'Common Words Found - Overall',\n",
    "                                                                     fontweight='bold')\n",
    "    plt.grid(True, alpha=0.3, linestyle='-', color='black')\n",
    "    plt.show()"
   ]
  },
  {
   "cell_type": "code",
   "execution_count": 67,
   "metadata": {},
   "outputs": [
    {
     "data": {
      "text/plain": [
       "Text(0.5,1,'Number of reviews per Rating')"
      ]
     },
     "execution_count": 67,
     "metadata": {},
     "output_type": "execute_result"
    },
    {
     "data": {
      "image/png": "[encoded data removed]",
      "text/plain": [
       "<Figure size 576x432 with 1 Axes>"
      ]
     },
     "metadata": {},
     "output_type": "display_data"
    }
   ],
   "source": [
    "plt.figure(figsize=(8, 6))\n",
    "sns.countplot(x=reviews_df['Rating'], palette='muted').set_title('Number of reviews per Rating')"
   ]
  },
  {
   "cell_type": "code",
   "execution_count": 68,
   "metadata": {},
   "outputs": [
    {
     "data": {
      "text/html": [
       "<table border=\"1\" class=\"dataframe\">\n",
       "  <thead>\n",
       "    <tr style=\"text-align: right;\">\n",
       "      <th></th>\n",
       "      <th>word</th>\n",
       "      <th>count</th>\n",
       "    </tr>\n",
       "  </thead>\n",
       "  <tbody>\n",
       "    <tr>\n",
       "      <th>0</th>\n",
       "      <td>time</td>\n",
       "      <td>6137</td>\n",
       "    </tr>\n",
       "    <tr>\n",
       "      <th>1</th>\n",
       "      <td>never</td>\n",
       "      <td>5469</td>\n",
       "    </tr>\n",
       "    <tr>\n",
       "      <th>2</th>\n",
       "      <td>ordered</td>\n",
       "      <td>4871</td>\n",
       "    </tr>\n",
       "    <tr>\n",
       "      <th>3</th>\n",
       "      <td>restaurant</td>\n",
       "      <td>4095</td>\n",
       "    </tr>\n",
       "    <tr>\n",
       "      <th>4</th>\n",
       "      <td>would</td>\n",
       "      <td>4041</td>\n",
       "    </tr>\n",
       "    <tr>\n",
       "      <th>5</th>\n",
       "      <td>hour</td>\n",
       "      <td>4039</td>\n",
       "    </tr>\n",
       "    <tr>\n",
       "      <th>6</th>\n",
       "      <td>delivered</td>\n",
       "      <td>3533</td>\n",
       "    </tr>\n",
       "    <tr>\n",
       "      <th>7</th>\n",
       "      <td>money</td>\n",
       "      <td>3524</td>\n",
       "    </tr>\n",
       "    <tr>\n",
       "      <th>8</th>\n",
       "      <td>eats</td>\n",
       "      <td>3428</td>\n",
       "    </tr>\n",
       "    <tr>\n",
       "      <th>9</th>\n",
       "      <td>said</td>\n",
       "      <td>3277</td>\n",
       "    </tr>\n",
       "  </tbody>\n",
       "</table>"
      ],
      "text/plain": [
       "<IPython.core.display.HTML object>"
      ]
     },
     "metadata": {},
     "output_type": "display_data"
    },
    {
     "data": {
      "image/png": "[encoded data removed]",
      "text/plain": [
       "<Figure size 720x720 with 1 Axes>"
      ]
     },
     "metadata": {},
     "output_type": "display_data"
    }
   ],
   "source": [
    "plot_most_common_words(reviews_df, n_most_common=10, text_col='Clean_Review_String', return_counts=True)"
   ]
  },
  {
   "cell_type": "code",
   "execution_count": 69,
   "metadata": {},
   "outputs": [],
   "source": [
    "def plot_wordcloud(input_df: pd.DataFrame,\n",
    "                   text_col: str,\n",
    "                   figsize=(10, 10)) -> None:\n",
    "    \"\"\" Generate a WordCloud plot based on the number of occurenences of words\n",
    "    in a set documents\n",
    "    \"\"\"\n",
    "    plt.figure(figsize=figsize)\n",
    "    combined_text = ' '.join([x for x in input_df[text_col] if x is not None])\n",
    "    wordcloud = WordCloud().generate(combined_text)\n",
    "    plt.imshow(wordcloud, interpolation='bilinear')\n",
    "    plt.axis(\"off\")\n",
    "    plt.show()"
   ]
  },
  {
   "cell_type": "markdown",
   "metadata": {},
   "source": [
    "By examining each word separately we are making the assumption that the words (and so their order) do not play any role into the general meaning of the text. Thus, we can go a step further and identify pairs of words (**bigrams**) that tend to appear next to each other.\n",
    "<a id=\"bigrams_eda\"></a>"
   ]
  },
  {
   "cell_type": "code",
   "execution_count": 70,
   "metadata": {},
   "outputs": [],
   "source": [
    "def compute_bigrams(input_df: pd.DataFrame,\n",
    "                    text_col: str) -> dict:\n",
    "    \"\"\" Calculate the number of occurences where a pair of words appear next to\n",
    "    each other, and return a dictionary of {pair of words: count}.\n",
    "    \"\"\"\n",
    "    combined_text = ' '.join([x for x in input_df[text_col]])\n",
    "\n",
    "    finder = BigramCollocationFinder.from_words(word_tokenize(combined_text))\n",
    "\n",
    "    bigrams_dict = {}\n",
    "    for k, v in finder.ngram_fd.items():\n",
    "        if len(k[0]) > 1 and len(k[1]) > 1:\n",
    "            bigrams_dict[k] = v\n",
    "        else:\n",
    "            continue\n",
    "    return bigrams_dict"
   ]
  },
  {
   "cell_type": "code",
   "execution_count": 71,
   "metadata": {},
   "outputs": [],
   "source": [
    "def plot_bigrams(input_df: pd.DataFrame,\n",
    "                 text_col: str,\n",
    "                 top_n: int,\n",
    "                 rotation=0.8,\n",
    "                 figsize=(10, 8)) -> None:\n",
    "\n",
    "    bigrams_dict = compute_bigrams(input_df=input_df, text_col=text_col)\n",
    "    bigrams_sorted = sorted(bigrams_dict.items(), key=lambda x: x[1], reverse=True)[0:top_n]\n",
    "    bgram, counts = list(zip(*bigrams_sorted))\n",
    "    bgstring = list(map(lambda txt: '_'.join(txt), bgram))\n",
    "\n",
    "    plt.figure(figsize=figsize)\n",
    "    g = sns.barplot(bgstring, counts, palette='muted')\n",
    "    g.set_xticklabels(g.get_xticklabels(), rotation=rotation)\n",
    "    plt.title(f'Top-{top_n} pairs of words that appear next to each other',\n",
    "              fontweight='bold')\n",
    "    plt.ylabel('Count')\n",
    "    plt.grid(True, alpha=0.1, color='black')\n",
    "    plt.show()"
   ]
  },
  {
   "cell_type": "code",
   "execution_count": 72,
   "metadata": {},
   "outputs": [],
   "source": [
    "bigrams = compute_bigrams(reviews_df, text_col='Clean_Review_String')"
   ]
  },
  {
   "cell_type": "code",
   "execution_count": 73,
   "metadata": {},
   "outputs": [
    {
     "data": {
      "text/html": [
       "<div>\n",
       "<style scoped>\n",
       "    .dataframe tbody tr th:only-of-type {\n",
       "        vertical-align: middle;\n",
       "    }\n",
       "\n",
       "    .dataframe tbody tr th {\n",
       "        vertical-align: top;\n",
       "    }\n",
       "\n",
       "    .dataframe thead th {\n",
       "        text-align: right;\n",
       "    }\n",
       "</style>\n",
       "<table border=\"1\" class=\"dataframe\">\n",
       "  <thead>\n",
       "    <tr style=\"text-align: right;\">\n",
       "      <th></th>\n",
       "      <th>Bigram</th>\n",
       "      <th>Count</th>\n",
       "    </tr>\n",
       "  </thead>\n",
       "  <tbody>\n",
       "    <tr>\n",
       "      <th>0</th>\n",
       "      <td>(missing, item)</td>\n",
       "      <td>842</td>\n",
       "    </tr>\n",
       "    <tr>\n",
       "      <th>1</th>\n",
       "      <td>(money, back)</td>\n",
       "      <td>814</td>\n",
       "    </tr>\n",
       "    <tr>\n",
       "      <th>2</th>\n",
       "      <td>(first, time)</td>\n",
       "      <td>786</td>\n",
       "    </tr>\n",
       "    <tr>\n",
       "      <th>3</th>\n",
       "      <td>(hour, late)</td>\n",
       "      <td>738</td>\n",
       "    </tr>\n",
       "    <tr>\n",
       "      <th>4</th>\n",
       "      <td>(never, arrived)</td>\n",
       "      <td>624</td>\n",
       "    </tr>\n",
       "    <tr>\n",
       "      <th>5</th>\n",
       "      <td>(live, chat)</td>\n",
       "      <td>523</td>\n",
       "    </tr>\n",
       "    <tr>\n",
       "      <th>6</th>\n",
       "      <td>(stone, cold)</td>\n",
       "      <td>495</td>\n",
       "    </tr>\n",
       "    <tr>\n",
       "      <th>7</th>\n",
       "      <td>(said, would)</td>\n",
       "      <td>471</td>\n",
       "    </tr>\n",
       "    <tr>\n",
       "      <th>8</th>\n",
       "      <td>(48, hour)</td>\n",
       "      <td>464</td>\n",
       "    </tr>\n",
       "    <tr>\n",
       "      <th>9</th>\n",
       "      <td>(item, missing)</td>\n",
       "      <td>447</td>\n",
       "    </tr>\n",
       "    <tr>\n",
       "      <th>10</th>\n",
       "      <td>(wrong, address)</td>\n",
       "      <td>429</td>\n",
       "    </tr>\n",
       "    <tr>\n",
       "      <th>11</th>\n",
       "      <td>(bad, ever)</td>\n",
       "      <td>416</td>\n",
       "    </tr>\n",
       "    <tr>\n",
       "      <th>12</th>\n",
       "      <td>(waste, time)</td>\n",
       "      <td>404</td>\n",
       "    </tr>\n",
       "    <tr>\n",
       "      <th>13</th>\n",
       "      <td>(bad, experience)</td>\n",
       "      <td>399</td>\n",
       "    </tr>\n",
       "    <tr>\n",
       "      <th>14</th>\n",
       "      <td>(last, time)</td>\n",
       "      <td>389</td>\n",
       "    </tr>\n",
       "  </tbody>\n",
       "</table>\n",
       "</div>"
      ],
      "text/plain": [
       "               Bigram  Count\n",
       "0     (missing, item)    842\n",
       "1       (money, back)    814\n",
       "2       (first, time)    786\n",
       "3        (hour, late)    738\n",
       "4    (never, arrived)    624\n",
       "5        (live, chat)    523\n",
       "6       (stone, cold)    495\n",
       "7       (said, would)    471\n",
       "8          (48, hour)    464\n",
       "9     (item, missing)    447\n",
       "10   (wrong, address)    429\n",
       "11        (bad, ever)    416\n",
       "12      (waste, time)    404\n",
       "13  (bad, experience)    399\n",
       "14       (last, time)    389"
      ]
     },
     "execution_count": 73,
     "metadata": {},
     "output_type": "execute_result"
    }
   ],
   "source": [
    "pd.DataFrame(sorted(bigrams.items(), key=lambda item: item[1], reverse=True), columns=['Bigram', 'Count']).head(15)"
   ]
  },
  {
   "cell_type": "code",
   "execution_count": 74,
   "metadata": {},
   "outputs": [
    {
     "data": {
      "image/png": "[encoded data removed]",
      "text/plain": [
       "<Figure size 1440x432 with 1 Axes>"
      ]
     },
     "metadata": {},
     "output_type": "display_data"
    }
   ],
   "source": [
    "plot_bigrams(input_df=reviews_df, text_col='Clean_Review_String', top_n=20, rotation=45, figsize=(20, 6))"
   ]
  },
  {
   "cell_type": "markdown",
   "metadata": {},
   "source": [
    "From the bigrams plot we can infer that there are 3 main topics in the data:\n",
    "\n",
    "1. Case where order arrived but an item was missing (e.g.\"missing item\")\n",
    "2. Case where items received very late (\"hour late\", \"stone cold\", \"waste time\")\n",
    "3. Case when the order never arrived (\"wrong-adress\", \"never arrived\")\n",
    "4. Case when there was an issue related to promotional code or pricing (\"promo_code\")\n",
    "    \n",
    "We have initially observed that the bigram \"customer service\" appears in the majority of the reviews. This is something expected, as in general reviews in TrustPilot for delivery companies tend to contain reviews about problems that the customers might have faced. \n",
    "\n",
    "Hence, it's regular when a customer facing an issue with their order, to contact the customer service of the company, independently of the nature of the issue (i.e. any of the 4 points we mentioned above). Queries about the customer service might not add a lot of information in the data as they seem to be part around in 1/3 of the total reviews. One option would be to remove these words from our analysis - by adding them in the stopwords list. Therefore, \"customer service\", as well as other combinations of words that don't offer a lot in our analysis, has been excluded from our data at this point of the project.\n",
    "\n",
    "In the next section we will finally get into the modelling part of the project. Based on our findings above and by leveraging a well known method for topic modelling (i.e. LDA), we will attempt build a model that is able to identify the different topics that exist inside the reviews."
   ]
  },
  {
   "cell_type": "markdown",
   "metadata": {},
   "source": [
    "<a id=\"lda\"></a>\n",
    "## Latent Dirichlet Allocation (LDA) Model\n",
    "\n",
    "LDA is one of the most - if not the most - common methods/algorithms used for _topic modeling_. We can think of topic modeling as an unsupervised technique where we use when we want to \"classify\" a collection of documents under a predefined amount of topics, _but_ without knowing what these topics are about. Algorithms that fall under this category are usually utilizing the frequencies that words appear in the documents to extract insights and identify clusters of documents that contain similar words. \n",
    "\n",
    "The LDA model attempts to identify these clusters of documents and create the topics by making a few assumptions, such as:  \n",
    "\n",
    "   1) Each document is a collection of multiple topics (i.e. one document can belong to many topics at the same time)<br>\n",
    "   2) Each topic is represented by a collection/distribution of words<br>\n",
    "   3) Each document is a distribution of words\n",
    "    \n",
    "Note that in LDA we do not care about the order of the words - hence we can think of LDA as a bag of words model. Intuitively this makes sense, as even if we change the order of words in a document we should still be able to infer what the document might be talking about just by observing the words that are present.\n",
    "\n",
    "Again, note that from this point when we are refering to <em>words</em>, we will actually mean pairs of words (<em>bigrams</em>) - which are going to be the input of the LDA algorithm."
   ]
  },
  {
   "cell_type": "code",
   "execution_count": 75,
   "metadata": {},
   "outputs": [],
   "source": [
    "from sklearn.feature_extraction.text import CountVectorizer\n",
    "from sklearn.decomposition import LatentDirichletAllocation\n",
    "from scipy.sparse.csr import csr_matrix"
   ]
  },
  {
   "cell_type": "code",
   "execution_count": 76,
   "metadata": {},
   "outputs": [],
   "source": [
    "def countvectorizer_to_dict(vectorizer: CountVectorizer,\n",
    "                            matrix: csr_matrix) -> dict:\n",
    "    feature_names = vectorizer.get_feature_names()\n",
    "    counts = np.asarray(matrix.sum(axis=0))[0]\n",
    "    return dict(zip(feature_names, counts))"
   ]
  },
  {
   "cell_type": "code",
   "execution_count": 77,
   "metadata": {},
   "outputs": [],
   "source": [
    "def get_per_topic_wordweights(model,\n",
    "                              feature_names: List[str],\n",
    "                              sort=True):\n",
    "    word_weights_per_topic = []\n",
    "    for i, topic in enumerate(model.components_):\n",
    "        weights = list(zip(feature_names, topic))\n",
    "        if sort:\n",
    "            weights = sorted(weights, key=lambda x: x[1], reverse=True)\n",
    "        word_weights_per_topic.append([i, weights])\n",
    "    return word_weights_per_topic"
   ]
  },
  {
   "cell_type": "code",
   "execution_count": 78,
   "metadata": {},
   "outputs": [],
   "source": [
    "def show_top_words_per_topic(model,\n",
    "                             feature_names: List[str],\n",
    "                             num_top_words: int):\n",
    "    for i in range(0, len(model.components_)):\n",
    "        weights = get_per_topic_wordweights(model, feature_names)[i][1]\n",
    "        print('Topic {0} : {1} \\n'.format(i+1, weights[0:num_top_words]))"
   ]
  },
  {
   "cell_type": "markdown",
   "metadata": {},
   "source": [
    "<a id=\"bigrams_lda\"></a>\n",
    "Compute the bigrams which will be the new tokens:"
   ]
  },
  {
   "cell_type": "code",
   "execution_count": 79,
   "metadata": {},
   "outputs": [],
   "source": [
    "vectorizer = CountVectorizer(max_df=1.0,\n",
    "                             min_df=5,\n",
    "                             max_features=12000,\n",
    "                             ngram_range=(2,2))"
   ]
  },
  {
   "cell_type": "markdown",
   "metadata": {},
   "source": [
    "The above object will help us with creating a sparse matrix where each row is a document and each column is a word.<br>\n",
    "The value under $x_i, y_i$ represents a count of how many times that specific word ($y_i$) appears in that document ($x_i$)."
   ]
  },
  {
   "cell_type": "code",
   "execution_count": 80,
   "metadata": {},
   "outputs": [],
   "source": [
    "cv = vectorizer.fit_transform(reviews_df['Clean_Review_String'])"
   ]
  },
  {
   "cell_type": "code",
   "execution_count": 81,
   "metadata": {},
   "outputs": [
    {
     "data": {
      "text/plain": [
       "(18920, 12000)"
      ]
     },
     "execution_count": 81,
     "metadata": {},
     "output_type": "execute_result"
    }
   ],
   "source": [
    "cv.shape"
   ]
  },
  {
   "cell_type": "code",
   "execution_count": 82,
   "metadata": {},
   "outputs": [],
   "source": [
    "vect_matrix_df = pd.DataFrame(cv.toarray(), columns=vectorizer.get_feature_names())"
   ]
  },
  {
   "cell_type": "code",
   "execution_count": 83,
   "metadata": {},
   "outputs": [],
   "source": [
    "def vect_to_ngrams_col(vector_matrix_df: pd.DataFrame) -> List[List['str']]:\n",
    "    \"\"\" Given a sparse matrix, get the column names where respective columns of that document\n",
    "    have non-zero values - indicating that the relative column is a word present in the document. \n",
    "    \"\"\"\n",
    "    combined_ngrams_ls = []\n",
    "    for i in vect_matrix_df.index:\n",
    "        ngrams_ls = []\n",
    "        for j in list(np.where(vector_matrix_df.iloc[i] != 0)[0]):\n",
    "            ngrams_ls.append(vector_matrix_df.columns[j])\n",
    "        combined_ngrams_ls.append(ngrams_ls)\n",
    "    return combined_ngrams_ls"
   ]
  },
  {
   "cell_type": "code",
   "execution_count": 84,
   "metadata": {},
   "outputs": [],
   "source": [
    "ngrams_gen = vect_to_ngrams_col(vector_matrix_df=vect_matrix_df)"
   ]
  },
  {
   "cell_type": "code",
   "execution_count": 85,
   "metadata": {},
   "outputs": [],
   "source": [
    "reviews_df['ngrams'] = ngrams_gen"
   ]
  },
  {
   "cell_type": "code",
   "execution_count": 86,
   "metadata": {},
   "outputs": [
    {
     "data": {
      "text/plain": [
       "'ordered apparently waiting 10 min stood outside useless dont bother stick eat'"
      ]
     },
     "execution_count": 86,
     "metadata": {},
     "output_type": "execute_result"
    }
   ],
   "source": [
    "reviews_df.iloc[0]['Clean_Review_String']"
   ]
  },
  {
   "cell_type": "code",
   "execution_count": 87,
   "metadata": {},
   "outputs": [
    {
     "data": {
      "text/plain": [
       "['10 min',\n",
       " 'apparently waiting',\n",
       " 'dont bother',\n",
       " 'stick eat',\n",
       " 'stood outside',\n",
       " 'waiting 10']"
      ]
     },
     "execution_count": 87,
     "metadata": {},
     "output_type": "execute_result"
    }
   ],
   "source": [
    "reviews_df.iloc[0]['ngrams']"
   ]
  },
  {
   "cell_type": "markdown",
   "metadata": {},
   "source": [
    "Thus, we can see that we have created a matrix which consist of 17583 distinct documents (reviews) and a total of 5922 words. As a reminder, in our project we are working with bigrams, and thus we have create a matrix where each column is a bigram combination.\n",
    "\n",
    "We can better visualize the output as follows:"
   ]
  },
  {
   "cell_type": "code",
   "execution_count": 88,
   "metadata": {},
   "outputs": [],
   "source": [
    "word_counts = countvectorizer_to_dict(vectorizer=vectorizer, matrix=cv)"
   ]
  },
  {
   "cell_type": "code",
   "execution_count": 89,
   "metadata": {},
   "outputs": [
    {
     "data": {
      "text/html": [
       "<div>\n",
       "<style scoped>\n",
       "    .dataframe tbody tr th:only-of-type {\n",
       "        vertical-align: middle;\n",
       "    }\n",
       "\n",
       "    .dataframe tbody tr th {\n",
       "        vertical-align: top;\n",
       "    }\n",
       "\n",
       "    .dataframe thead th {\n",
       "        text-align: right;\n",
       "    }\n",
       "</style>\n",
       "<table border=\"1\" class=\"dataframe\">\n",
       "  <thead>\n",
       "    <tr style=\"text-align: right;\">\n",
       "      <th></th>\n",
       "      <th>Bigram</th>\n",
       "      <th>Count</th>\n",
       "    </tr>\n",
       "  </thead>\n",
       "  <tbody>\n",
       "    <tr>\n",
       "      <th>0</th>\n",
       "      <td>missing item</td>\n",
       "      <td>868</td>\n",
       "    </tr>\n",
       "    <tr>\n",
       "      <th>1</th>\n",
       "      <td>money back</td>\n",
       "      <td>853</td>\n",
       "    </tr>\n",
       "    <tr>\n",
       "      <th>2</th>\n",
       "      <td>first time</td>\n",
       "      <td>804</td>\n",
       "    </tr>\n",
       "    <tr>\n",
       "      <th>3</th>\n",
       "      <td>hour late</td>\n",
       "      <td>744</td>\n",
       "    </tr>\n",
       "    <tr>\n",
       "      <th>4</th>\n",
       "      <td>never arrived</td>\n",
       "      <td>641</td>\n",
       "    </tr>\n",
       "    <tr>\n",
       "      <th>5</th>\n",
       "      <td>live chat</td>\n",
       "      <td>533</td>\n",
       "    </tr>\n",
       "    <tr>\n",
       "      <th>6</th>\n",
       "      <td>stone cold</td>\n",
       "      <td>516</td>\n",
       "    </tr>\n",
       "    <tr>\n",
       "      <th>7</th>\n",
       "      <td>48 hour</td>\n",
       "      <td>486</td>\n",
       "    </tr>\n",
       "    <tr>\n",
       "      <th>8</th>\n",
       "      <td>said would</td>\n",
       "      <td>473</td>\n",
       "    </tr>\n",
       "    <tr>\n",
       "      <th>9</th>\n",
       "      <td>item missing</td>\n",
       "      <td>457</td>\n",
       "    </tr>\n",
       "    <tr>\n",
       "      <th>10</th>\n",
       "      <td>wrong address</td>\n",
       "      <td>435</td>\n",
       "    </tr>\n",
       "    <tr>\n",
       "      <th>11</th>\n",
       "      <td>bad ever</td>\n",
       "      <td>423</td>\n",
       "    </tr>\n",
       "    <tr>\n",
       "      <th>12</th>\n",
       "      <td>last time</td>\n",
       "      <td>418</td>\n",
       "    </tr>\n",
       "    <tr>\n",
       "      <th>13</th>\n",
       "      <td>waste time</td>\n",
       "      <td>415</td>\n",
       "    </tr>\n",
       "    <tr>\n",
       "      <th>14</th>\n",
       "      <td>bad experience</td>\n",
       "      <td>406</td>\n",
       "    </tr>\n",
       "  </tbody>\n",
       "</table>\n",
       "</div>"
      ],
      "text/plain": [
       "            Bigram  Count\n",
       "0     missing item    868\n",
       "1       money back    853\n",
       "2       first time    804\n",
       "3        hour late    744\n",
       "4    never arrived    641\n",
       "5        live chat    533\n",
       "6       stone cold    516\n",
       "7          48 hour    486\n",
       "8       said would    473\n",
       "9     item missing    457\n",
       "10   wrong address    435\n",
       "11        bad ever    423\n",
       "12       last time    418\n",
       "13      waste time    415\n",
       "14  bad experience    406"
      ]
     },
     "execution_count": 89,
     "metadata": {},
     "output_type": "execute_result"
    }
   ],
   "source": [
    "pd.DataFrame(sorted(word_counts.items(), key=lambda item: item[1], reverse=True), columns=['Bigram', 'Count']).head(15)"
   ]
  },
  {
   "cell_type": "markdown",
   "metadata": {},
   "source": [
    "Latent Dirichlet Allocation model requires the number of topics as an input from the user. As we saw above, seems like the reviews are splitted into 4 categories.\n",
    "Therefore, we are going to set this parameter to 4 and attempt to identify these topics in the reviews.\n",
    "<a id=\"lda_model\"></a>"
   ]
  },
  {
   "cell_type": "code",
   "execution_count": 90,
   "metadata": {},
   "outputs": [],
   "source": [
    "number_of_topics = 4"
   ]
  },
  {
   "cell_type": "code",
   "execution_count": 91,
   "metadata": {},
   "outputs": [],
   "source": [
    "lda_model = LatentDirichletAllocation(n_components=number_of_topics,\n",
    "                                      learning_method='batch',\n",
    "                                      learning_offset=20,\n",
    "                                      doc_topic_prior= 2 * (1/number_of_topics),\n",
    "                                      max_iter=30,\n",
    "                                      random_state=10,\n",
    "                                      n_jobs=-1,\n",
    "                                      verbose=0)"
   ]
  },
  {
   "cell_type": "code",
   "execution_count": 92,
   "metadata": {},
   "outputs": [
    {
     "data": {
      "text/plain": [
       "LatentDirichletAllocation(batch_size=128, doc_topic_prior=0.5,\n",
       "                          evaluate_every=-1, learning_decay=0.7,\n",
       "                          learning_method='batch', learning_offset=20,\n",
       "                          max_doc_update_iter=100, max_iter=30,\n",
       "                          mean_change_tol=0.001, n_components=4, n_jobs=-1,\n",
       "                          perp_tol=0.1, random_state=10, topic_word_prior=None,\n",
       "                          total_samples=1000000.0, verbose=0)"
      ]
     },
     "execution_count": 92,
     "metadata": {},
     "output_type": "execute_result"
    }
   ],
   "source": [
    "lda_model.fit(cv)"
   ]
  },
  {
   "cell_type": "code",
   "execution_count": 93,
   "metadata": {},
   "outputs": [
    {
     "data": {
      "text/plain": [
       "(4, 12000, 12000, 12000, 12000)"
      ]
     },
     "execution_count": 93,
     "metadata": {},
     "output_type": "execute_result"
    }
   ],
   "source": [
    "len(lda_model.components_), len(lda_model.components_[0]), len(lda_model.components_[1]), len(lda_model.components_[2]), len(lda_model.components_[3])"
   ]
  },
  {
   "cell_type": "markdown",
   "metadata": {},
   "source": [
    "We can see the weight (parameter) of each word for a specific topic, as follows:"
   ]
  },
  {
   "cell_type": "code",
   "execution_count": 94,
   "metadata": {},
   "outputs": [
    {
     "data": {
      "text/plain": [
       "array([3.17953413, 7.04161424, 1.45046326, ..., 0.25971154, 1.4684717 ,\n",
       "       0.26832527])"
      ]
     },
     "execution_count": 94,
     "metadata": {},
     "output_type": "execute_result"
    }
   ],
   "source": [
    "lda_model.components_[0]"
   ]
  },
  {
   "cell_type": "markdown",
   "metadata": {},
   "source": [
    "The above can be interpreted as a pseudocount of the number of times that word (bigram) $x_i$ was assigned to document topic $z_i$. Hence, the first case in the example we have a pseudocount of 0.25854038 for word $x_1$ on topic 0 (which is the first topic)."
   ]
  },
  {
   "cell_type": "code",
   "execution_count": 95,
   "metadata": {},
   "outputs": [],
   "source": [
    "topic_weights = get_per_topic_wordweights(lda_model,\n",
    "                                          feature_names=vectorizer.get_feature_names(),\n",
    "                                          sort=True)"
   ]
  },
  {
   "cell_type": "code",
   "execution_count": 96,
   "metadata": {},
   "outputs": [
    {
     "data": {
      "text/plain": [
       "[('hour late', 664.3088328889709),\n",
       " ('minute late', 380.22046613774955),\n",
       " ('waited hour', 356.2235332414151),\n",
       " ('called restaurant', 353.8496439804746),\n",
       " ('10 minute', 342.225075363441)]"
      ]
     },
     "execution_count": 96,
     "metadata": {},
     "output_type": "execute_result"
    }
   ],
   "source": [
    "# This corresponds to topic 0, and the top 5 bigrams accounting for this topic\n",
    "topic_weights[0][1][0:5]  # [1] is a positional index and should remain same independently of the document"
   ]
  },
  {
   "cell_type": "code",
   "execution_count": 97,
   "metadata": {},
   "outputs": [
    {
     "name": "stdout",
     "output_type": "stream",
     "text": [
      "Topic 1 : [('hour late', 664.3088328889709), ('minute late', 380.22046613774955), ('waited hour', 356.2235332414151), ('called restaurant', 353.8496439804746), ('10 minute', 342.225075363441), ('live chat', 318.20744903457836), ('20 minute', 305.222395161227), ('half hour', 298.22004560803697), ('30 minute', 280.2251335019114), ('stone cold', 279.7332770270619), ('said would', 275.1465634123466), ('hour half', 268.23161053311617), ('told would', 267.4010907331807), ('waiting hour', 264.21938052275414), ('restaurant said', 257.210416018), ('two hour', 252.08356322899496), ('phone call', 245.67084281523887), ('45 minute', 216.22524305458498), ('30 min', 209.21591452870587), ('15 minute', 207.22498371169925)] \n",
      "\n",
      "Topic 2 : [('money back', 512.9691687200784), ('promo code', 390.2368109612436), ('take money', 304.9274971308948), ('credit card', 231.22504188320832), ('discount code', 206.23173036779087), ('took money', 205.6481251070296), ('bank account', 204.22566992117416), ('email saying', 186.99846128114123), ('received email', 168.07278685798968), ('full amount', 160.2224544979333), ('full price', 159.23391860046982), ('trading standard', 154.21283457867335), ('sent email', 143.07239952836824), ('charged full', 141.2120905310916), ('bad experience', 140.9409085250518), ('experience ever', 133.87828192818532), ('money account', 125.22954215074121), ('gift card', 122.2267020015901), ('still waiting', 109.54649717298992), ('day late', 107.3472773446711)] \n",
      "\n",
      "Topic 3 : [('never arrived', 581.8457402685681), ('wrong address', 435.229727517906), ('bad ever', 423.21651257881535), ('48 hour', 392.1414681785693), ('phone number', 305.2308863076217), ('bad company', 284.21801650131636), ('delivered wrong', 259.23190127973953), ('first time', 258.72425382886706), ('never received', 254.7371870884032), ('never using', 229.96773822520393), ('company ever', 188.221777014337), ('time using', 180.75830782551031), ('live chat', 173.06203311012203), ('never delivered', 169.46640486864598), ('never ever', 164.93576521749006), ('said would', 162.11567017251994), ('never eats', 160.49287778384092), ('star would', 159.83957455972833), ('tried contact', 149.24612377495734), ('never got', 145.4995449034854)] \n",
      "\n",
      "Topic 4 : [('missing item', 868.233341253091), ('item missing', 457.23130523484895), ('first time', 399.67671850114925), ('last time', 388.5265932565078), ('waste time', 373.4018896946745), ('every time', 323.211832302479), ('second time', 306.20320317805835), ('stone cold', 236.74979067928268), ('time ordered', 229.19400650351338), ('go wrong', 226.2806895166959), ('late cold', 222.22564970896164), ('money back', 213.1365343923872), ('much good', 182.21600025371896), ('deleted app', 167.19752483499352), ('arrived cold', 148.7409620045643), ('many time', 141.4900574601342), ('bad experience', 136.44447779268427), ('time used', 136.09130157561708), ('every single', 129.21556213843573), ('next time', 126.33454673340984)] \n",
      "\n"
     ]
    }
   ],
   "source": [
    "show_top_words_per_topic(lda_model, feature_names=vectorizer.get_feature_names(), num_top_words=20)"
   ]
  },
  {
   "cell_type": "markdown",
   "metadata": {},
   "source": [
    "Therefore we can see that the algorithm has identified the following 4 topics:\n",
    "\n",
    "- Topic 1: This topic consists of reviews where the order took a significant amount to be completed \n",
    "- Topic 2: Orders where there was an issue with discounts/pricing\n",
    "- Topic 3: This appears to be the topic arround orders that were never arrived to their destination \n",
    "- Topic 4: Cases where an item was missing from the order\n",
    "\n",
    "<a id=\"topic_assign\"></a>"
   ]
  },
  {
   "cell_type": "code",
   "execution_count": 98,
   "metadata": {},
   "outputs": [],
   "source": [
    "topic_to_review_distribution = lda_model.transform(cv)"
   ]
  },
  {
   "cell_type": "code",
   "execution_count": 99,
   "metadata": {},
   "outputs": [],
   "source": [
    "def assign_topic(topic_probs: List[float], threshold=0.65) -> int:\n",
    "    \"\"\" Assign a topic to a review based on the topic with the highest probability.\n",
    "    If no topic probability exceeds threshold, no assignment is being completed.\n",
    "    \"\"\"\n",
    "    max_likelihood = np.max(topic_probs)\n",
    "    if threshold < max_likelihood:\n",
    "        max_topic_idx = np.argmax(topic_probs)\n",
    "        if max_topic_idx==0:\n",
    "            max_topic_idx = 1\n",
    "        else:\n",
    "            max_topic_idx += 1\n",
    "        return max_topic_idx\n",
    "    else:\n",
    "        return 0"
   ]
  },
  {
   "cell_type": "code",
   "execution_count": 131,
   "metadata": {},
   "outputs": [],
   "source": [
    "topics_map = {0: 'Indecisive',\n",
    "              1: 'Delayed Order',\n",
    "              2: 'Discount/Pricing/Refund Issue',\n",
    "              3: 'Order Never Arrived',\n",
    "              4: 'Missing/Wrong Item'}"
   ]
  },
  {
   "cell_type": "code",
   "execution_count": 101,
   "metadata": {},
   "outputs": [],
   "source": [
    "reviews_df['Topic_Likelihood'] = topic_to_review_distribution.tolist()"
   ]
  },
  {
   "cell_type": "code",
   "execution_count": 102,
   "metadata": {},
   "outputs": [],
   "source": [
    "cutoff_threshold = 1/number_of_topics"
   ]
  },
  {
   "cell_type": "markdown",
   "metadata": {},
   "source": [
    "As threshold to make a decision regarding the topics we will use 0.25, which means that we won't clasiffy a review on a specific topic _only_ if the review belongs to all categories with the same probability."
   ]
  },
  {
   "cell_type": "code",
   "execution_count": 103,
   "metadata": {},
   "outputs": [],
   "source": [
    "reviews_df['Topic_Num'] = reviews_df['Topic_Likelihood'].apply(lambda row: assign_topic(row, threshold=cutoff_threshold))"
   ]
  },
  {
   "cell_type": "code",
   "execution_count": 132,
   "metadata": {},
   "outputs": [],
   "source": [
    "reviews_df['Topic'] = reviews_df['Topic_Num'].apply(lambda row: topics_map[row])"
   ]
  },
  {
   "cell_type": "code",
   "execution_count": 105,
   "metadata": {},
   "outputs": [
    {
     "name": "stdout",
     "output_type": "stream",
     "text": [
      "                                                                                                Review  \\\n",
      "0  Ordered food and apparently the driver was waiting for 10 mins to deliver the food even though I...   \n",
      "1  I received standard bag of buttons that cost £1.60 but I asked for share bags at £2.85 so I've b...   \n",
      "2  Just had an appalling experience with deliveroo. Had ordered a pizza with a £10 discount code th...   \n",
      "3  The same situation happened twice. I ordered food around 10 pm and been waiting for the food for...   \n",
      "4                                               Driver turned up late couldn’t find us and left. Awful   \n",
      "\n",
      "                    Topic  Topic_Num  \n",
      "0           Delayed Order          1  \n",
      "1      Missing/Wrong Item          4  \n",
      "2  Discount/Pricing Issue          2  \n",
      "3      Missing/Wrong Item          4  \n",
      "4           Delayed Order          1  \n"
     ]
    }
   ],
   "source": [
    "with pd.option_context('display.max_colwidth', 100):\n",
    "    print(reviews_df[['Review', 'Topic', 'Topic_Num']].head(5))"
   ]
  },
  {
   "cell_type": "code",
   "execution_count": 106,
   "metadata": {},
   "outputs": [],
   "source": [
    "def get_review_summary(input_df: pd.DataFrame,\n",
    "                       rev_idx: int,\n",
    "                       topics_map=topics_map):\n",
    "    \n",
    "    print('\\x1b[1;30m' + 'Review: ' + '\\x1b[0m' + input_df['Review'].iloc[rev_idx] + '\\n')\n",
    "    print('\\x1b[1;30m' + 'Predicted Topic: ' + '\\x1b[0m' + input_df['Topic'].iloc[rev_idx] + '\\n')\n",
    "    print(input_df['Topic_Likelihood'].iloc[rev_idx])\n",
    "    \n",
    "    topic_to_likelihood = list(zip(list(topics_map.keys()),\n",
    "                                   list(topics_map.values()),\n",
    "                                   [0.0] + input_df['Topic_Likelihood'].iloc[rev_idx]))\n",
    "    l_df = pd.DataFrame(topic_to_likelihood, columns = ['Topic_Num', 'Topic', 'Likelihood'])\n",
    "    \n",
    "    plt.figure(figsize=(12, 6))\n",
    "    sns.barplot(x='Topic', y='Likelihood', data=l_df)\n",
    "    plt.ylim(0, 1.0)\n",
    "    plt.grid(True, alpha=0.2, linestyle='-', color='black')\n",
    "    plt.show()"
   ]
  },
  {
   "cell_type": "markdown",
   "metadata": {},
   "source": [
    "<a id=\"viz_output\"></a>\n",
    "We can visualize the results for a few random cases:"
   ]
  },
  {
   "cell_type": "code",
   "execution_count": 107,
   "metadata": {},
   "outputs": [
    {
     "name": "stdout",
     "output_type": "stream",
     "text": [
      "\u001b[1;30mReview: \u001b[0mWe ordered our food and have now waited 45 mins for our delivery to arrive,(it's going to be over an hour when it finally arrives) we even called the restaurant and was told our order was sitting ready but with no drivers to pick it up. Really disappointed is the service of deliveroo, no-one answered the phone or spoke to us on the live chat.\n",
      "\n",
      "\u001b[1;30mPredicted Topic: \u001b[0mDelayed Order\n",
      "\n",
      "[0.8356190856158414, 0.03319037887326896, 0.036472530887322586, 0.09471800462356711]\n"
     ]
    },
    {
     "data": {
      "image/png": "[encoded data removed]",
      "text/plain": [
       "<Figure size 864x432 with 1 Axes>"
      ]
     },
     "metadata": {},
     "output_type": "display_data"
    }
   ],
   "source": [
    "get_review_summary(input_df=reviews_df, rev_idx=200, topics_map=topics_map)"
   ]
  },
  {
   "cell_type": "code",
   "execution_count": 112,
   "metadata": {},
   "outputs": [
    {
     "name": "stdout",
     "output_type": "stream",
     "text": [
      "\u001b[1;30mReview: \u001b[0mAwful, missing items. Then move on customer services. They think it’s acceptable not to refund the full missing item amount just the additional few pence. Are you serious??!! Incompetent help and incompetent service provider. Don’t just take my word for it, read the rest of the reviews\n",
      "\n",
      "\u001b[1;30mPredicted Topic: \u001b[0mMissing/Wrong Item\n",
      "\n",
      "[0.08523295536091391, 0.09680901331525761, 0.09094987345540889, 0.7270081578684197]\n"
     ]
    },
    {
     "data": {
      "image/png": "[encoded data removed]",
      "text/plain": [
       "<Figure size 864x432 with 1 Axes>"
      ]
     },
     "metadata": {},
     "output_type": "display_data"
    }
   ],
   "source": [
    "get_review_summary(input_df=reviews_df, rev_idx=5890, topics_map=topics_map)"
   ]
  },
  {
   "cell_type": "code",
   "execution_count": 133,
   "metadata": {},
   "outputs": [
    {
     "name": "stdout",
     "output_type": "stream",
     "text": [
      "\u001b[1;30mReview: \u001b[0mHi there, we are from Sri Lanka. We've been ordering food from uber eats for almost 3 years now. But never got my canceled orders refunded. I was once charged $2 even without any orders. When I asked the hotline, they say their superior will get back and then no one answers.. sent them many complaints but never got any replies, nor my refunds.. almost -$300 now.. please don't connect your card if ordering.. only pay by cash.. Uber is mostly operated online, so they are not aware with the services been provided by their employees/ delivery guys. There's no one to complain. Which is scary, (some unknown guy delivering your foods with no tight responsibility). Hope someone can look into this and fix Uber! After reading the reviews on trustpilot, they seem to be doing this to alot of customers... What a shame :( can someone come up with a better food delivery app!!!\n",
      "\n",
      "\u001b[1;30mPredicted Topic: \u001b[0mDiscount/Pricing/Refund Issue\n",
      "\n",
      "[0.27094822317360884, 0.48911333810248686, 0.1969875286706672, 0.04295091005323701]\n"
     ]
    },
    {
     "data": {
      "image/png": "[encoded data removed]",
      "text/plain": [
       "<Figure size 864x432 with 1 Axes>"
      ]
     },
     "metadata": {},
     "output_type": "display_data"
    }
   ],
   "source": [
    "get_review_summary(input_df=reviews_df, rev_idx=4562, topics_map=topics_map)"
   ]
  },
  {
   "cell_type": "markdown",
   "metadata": {},
   "source": [
    "Finally, we can get a general picture of the results and summarize the _per company_ :"
   ]
  },
  {
   "cell_type": "code",
   "execution_count": 134,
   "metadata": {},
   "outputs": [],
   "source": [
    "def summary_per_company(input_df: pd.DataFrame,\n",
    "                        company: 'all',\n",
    "                        figsize=(6, 6)) -> None:\n",
    "    \n",
    "    if company != 'all':\n",
    "        filtered_df = input_df[input_df['Company'] == company]\n",
    "    else:\n",
    "        filtered_df = input_df\n",
    "\n",
    "    vals = filtered_df['Topic'].value_counts()\n",
    "    groups = filtered_df['Topic'].value_counts().index.tolist()\n",
    "    \n",
    "    filtered_df = pd.DataFrame({'Num_Reviews': vals, 'group': groups})\n",
    "    \n",
    "    colors_ls = [\"tab:olive\", \"tab:orange\", \"tab:purple\", \"tab:red\", \"tab:cyan\"]\n",
    "    \n",
    "    plt.figure(figsize=(figsize))\n",
    "\n",
    "    # TreePlot\n",
    "    plt.subplot(1, 2, 1)\n",
    "\n",
    "    squarify.plot(sizes=filtered_df['Num_Reviews'],\n",
    "                  label=filtered_df['group'],\n",
    "                  color=colors_ls,\n",
    "                  alpha=.4 )\n",
    "    plt.axis('on')\n",
    "    #plt.title('Treeplot for {}'.format(company), pad=30)\n",
    "    \n",
    "    # DonutPlot\n",
    "    plt.subplot(1, 2, 2)\n",
    "    \n",
    "    cen_circle = plt.Circle((0, 0), 0.6, color='white')\n",
    "    \n",
    "    plt.pie(filtered_df['Num_Reviews'],\n",
    "            labels= filtered_df['group'],\n",
    "            autopct='%1.1f%%',\n",
    "            pctdistance = 1.23,\n",
    "            startangle=85,\n",
    "            labeldistance=1.05,\n",
    "            colors=colors_ls)\n",
    "    plt.axis('equal')\n",
    "    #plt.title('Donutplot for {}'.format(company), pad=30)\n",
    "    plt.gca().add_artist(cen_circle)\n",
    "    \n",
    "    plt.tight_layout()\n",
    "    plt.show()"
   ]
  },
  {
   "cell_type": "code",
   "execution_count": 135,
   "metadata": {},
   "outputs": [
    {
     "name": "stdout",
     "output_type": "stream",
     "text": [
      "\u001b[1;30mDeliveroo\u001b[0m - Number of reviews: 6629\n"
     ]
    },
    {
     "data": {
      "image/png": "[encoded data removed]",
      "text/plain": [
       "<Figure size 1080x504 with 2 Axes>"
      ]
     },
     "metadata": {},
     "output_type": "display_data"
    },
    {
     "name": "stdout",
     "output_type": "stream",
     "text": [
      "\u001b[1;30mJustEat\u001b[0m - Number of reviews: 2692\n"
     ]
    },
    {
     "data": {
      "image/png": "[encoded data removed]",
      "text/plain": [
       "<Figure size 1080x504 with 2 Axes>"
      ]
     },
     "metadata": {},
     "output_type": "display_data"
    },
    {
     "name": "stdout",
     "output_type": "stream",
     "text": [
      "\u001b[1;30mUberEats\u001b[0m - Number of reviews: 9335\n"
     ]
    },
    {
     "data": {
      "image/png": "[encoded data removed]",
      "text/plain": [
       "<Figure size 1080x504 with 2 Axes>"
      ]
     },
     "metadata": {},
     "output_type": "display_data"
    },
    {
     "name": "stdout",
     "output_type": "stream",
     "text": [
      "\u001b[1;30mStuart\u001b[0m - Number of reviews: 264\n"
     ]
    },
    {
     "data": {
      "image/png": "[encoded data removed]",
      "text/plain": [
       "<Figure size 1080x504 with 2 Axes>"
      ]
     },
     "metadata": {},
     "output_type": "display_data"
    }
   ],
   "source": [
    "for company in reviews_df.Company.unique():\n",
    "    reviews_num = reviews_df[reviews_df['Company'] == company].shape[0]\n",
    "    print('\\x1b[1;30m' + company + '\\x1b[0m' + ' - Number of reviews: '+ str(reviews_num))\n",
    "    summary_per_company(input_df=reviews_df, company=company, figsize=(15, 7))"
   ]
  },
  {
   "cell_type": "markdown",
   "metadata": {},
   "source": [
    "#### LDA Implementiation with gensim"
   ]
  },
  {
   "cell_type": "code",
   "execution_count": 136,
   "metadata": {},
   "outputs": [],
   "source": [
    "rev = list(reviews_df['ngrams'])"
   ]
  },
  {
   "cell_type": "code",
   "execution_count": 137,
   "metadata": {},
   "outputs": [],
   "source": [
    "from gensim import corpora, models"
   ]
  },
  {
   "cell_type": "code",
   "execution_count": 138,
   "metadata": {},
   "outputs": [],
   "source": [
    "dictionary_LDA = corpora.Dictionary(rev)\n",
    "dictionary_LDA.filter_extremes(no_below=3)\n",
    "corpus = [dictionary_LDA.doc2bow(list_of_tokens) for list_of_tokens in rev]"
   ]
  },
  {
   "cell_type": "code",
   "execution_count": 143,
   "metadata": {},
   "outputs": [],
   "source": [
    "lda_model = models.LdaModel(corpus,\n",
    "                            num_topics=number_of_topics,\n",
    "                            id2word=dictionary_LDA,\n",
    "                            passes=10,\n",
    "                            alpha=2 * (1/number_of_topics),\n",
    "                            eta=2 * (1/number_of_topics)\n",
    "                           )"
   ]
  },
  {
   "cell_type": "code",
   "execution_count": 144,
   "metadata": {},
   "outputs": [
    {
     "name": "stdout",
     "output_type": "stream",
     "text": [
      "0: 0.014*\"money back\" + 0.010*\"never arrived\" + 0.007*\"wrong address\" + 0.006*\"take money\" + 0.006*\"never received\" + 0.004*\"delivered wrong\" + 0.004*\"took money\" + 0.004*\"never delivered\" + 0.004*\"never got\" + 0.004*\"second time\" + 0.003*\"tried contact\" + 0.003*\"tried call\" + 0.003*\"phone number\" + 0.003*\"first time\" + 0.003*\"go wrong\"\n",
      "\n",
      "1: 0.008*\"bad ever\" + 0.008*\"waste time\" + 0.008*\"bad experience\" + 0.006*\"first time\" + 0.005*\"promo code\" + 0.003*\"much good\" + 0.003*\"full amount\" + 0.003*\"discount code\" + 0.003*\"full price\" + 0.003*\"last time\" + 0.003*\"time using\" + 0.003*\"charged full\" + 0.003*\"experience ever\" + 0.003*\"bad review\" + 0.003*\"using eats\"\n",
      "\n",
      "2: 0.010*\"hour late\" + 0.006*\"said would\" + 0.006*\"waited hour\" + 0.005*\"minute late\" + 0.005*\"live chat\" + 0.005*\"48 hour\" + 0.005*\"called restaurant\" + 0.004*\"hour half\" + 0.004*\"told would\" + 0.004*\"still waiting\" + 0.004*\"waiting hour\" + 0.004*\"half hour\" + 0.004*\"20 minute\" + 0.004*\"bad company\" + 0.004*\"10 minute\"\n",
      "\n",
      "3: 0.014*\"missing item\" + 0.009*\"stone cold\" + 0.008*\"item missing\" + 0.005*\"every time\" + 0.005*\"first time\" + 0.004*\"late cold\" + 0.003*\"arrived cold\" + 0.003*\"last time\" + 0.003*\"time ordered\" + 0.003*\"contacted eats\" + 0.003*\"absolutely shocking\" + 0.003*\"mile away\" + 0.002*\"never eats\" + 0.002*\"ordered mcdonald\" + 0.002*\"someone else\"\n",
      "\n"
     ]
    }
   ],
   "source": [
    "for i,topic in lda_model.show_topics(formatted=True, num_topics=number_of_topics, num_words=15):\n",
    "    print(str(i)+\": \"+ topic)\n",
    "    print()"
   ]
  },
  {
   "cell_type": "code",
   "execution_count": 145,
   "metadata": {},
   "outputs": [
    {
     "data": {
      "text/plain": [
       "[(0, 0.04809928), (1, 0.1255609), (2, 0.3245212), (3, 0.5018186)]"
      ]
     },
     "execution_count": 145,
     "metadata": {},
     "output_type": "execute_result"
    }
   ],
   "source": [
    "lda_model[corpus[6]]"
   ]
  },
  {
   "cell_type": "code",
   "execution_count": 146,
   "metadata": {},
   "outputs": [
    {
     "data": {
      "text/html": [
       "\n",
       "<link rel=\"stylesheet\" type=\"text/css\" href=\"https://cdn.jsdelivr.net/gh/bmabey/pyLDAvis@3.2.2/pyLDAvis/js/ldavis.v1.0.0.css\">\n",
       "\n",
       "\n",
       "<div id=\"ldavis_el2236828281162989928355640586\"></div>\n",
       "<script type=\"text/javascript\">\n",
       "\n",
       "var ldavis_el2236828281162989928355640586_data = {\"mdsDat\": {\"x\": [0.22128024149343917, 0.029139140416682478, -0.1184302874350252, -0.13198909447509635], \"y\": [0.05112280477803539, -0.10015568932087297, -0.14176836180817493, 0.19080124635101242], \"topics\": [1, 2, 3, 4], \"cluster\": [1, 1, 1, 1], \"Freq\": [30.364966368026717, 23.679785972629524, 23.255839846923184, 22.699407812420574]}, \"tinfo\": {\"Term\": [\"money back\", \"missing item\", \"hour late\", \"stone cold\", \"never arrived\", \"bad experience\", \"item missing\", \"waste time\", \"wrong address\", \"bad ever\", \"said would\", \"waited hour\", \"promo code\", \"take money\", \"minute late\", \"48 hour\", \"called restaurant\", \"hour half\", \"never received\", \"told would\", \"still waiting\", \"every time\", \"delivered wrong\", \"waiting hour\", \"half hour\", \"took money\", \"late cold\", \"20 minute\", \"30 minute\", \"never delivered\", \"waited hour\", \"hour half\", \"told would\", \"waiting hour\", \"said would\", \"half hour\", \"30 minute\", \"still waiting\", \"called restaurant\", \"two hour\", \"late still\", \"min late\", \"48 hour\", \"hour late\", \"would take\", \"20 minute\", \"20 min\", \"40 min\", \"restaurant closed\", \"15 min\", \"nearly hour\", \"minute late\", \"company ever\", \"72 hour\", \"rang restaurant\", \"one hour\", \"wait hour\", \"hour waiting\", \"45 minute\", \"30 min\", \"hour ago\", \"call back\", \"10 min\", \"40 minute\", \"bad company\", \"15 minute\", \"restaurant said\", \"10 minute\", \"live chat\", \"ordered kfc\", \"app said\", \"said delivered\", \"day late\", \"money back\", \"wrong address\", \"took money\", \"never delivered\", \"delivered wrong\", \"never got\", \"went wrong\", \"ordered never\", \"app never\", \"money account\", \"different address\", \"outside house\", \"avoid like\", \"like plague\", \"automated message\", \"money never\", \"correct address\", \"outside door\", \"people money\", \"sent wrong\", \"got delivered\", \"waited outside\", \"ordered twice\", \"charged never\", \"find house\", \"got money\", \"thing go\", \"delivered different\", \"refused money\", \"tried contacting\", \"take money\", \"never arrived\", \"steal money\", \"never received\", \"never came\", \"tried calling\", \"tried contact\", \"non existent\", \"time happened\", \"tried call\", \"time time\", \"second time\", \"go wrong\", \"front door\", \"last night\", \"phone number\", \"never turned\", \"phone call\", \"marked delivered\", \"first time\", \"zero star\", \"promo code\", \"bad experience\", \"discount code\", \"full price\", \"charged full\", \"full amount\", \"much good\", \"experience ever\", \"using app\", \"contacted support\", \"really bad\", \"code work\", \"waste time\", \"automated response\", \"good experience\", \"gift card\", \"payment method\", \"always late\", \"never used\", \"time using\", \"50 discount\", \"ever experienced\", \"keep sending\", \"promotion code\", \"company bad\", \"bad bad\", \"copy paste\", \"direct restaurant\", \"company never\", \"resolve issue\", \"bad ever\", \"using ubereats\", \"used ubereats\", \"time money\", \"disgusting company\", \"first last\", \"bad review\", \"make sure\", \"stay away\", \"support team\", \"first time\", \"using eats\", \"still charged\", \"eats app\", \"last time\", \"phone number\", \"absolute joke\", \"star would\", \"never using\", \"several time\", \"missing item\", \"stone cold\", \"late cold\", \"contacted eats\", \"item missing\", \"arrived stone\", \"ice cream\", \"half missing\", \"cold inedible\", \"cold soggy\", \"mile away\", \"arrived cold\", \"late stone\", \"order missing\", \"freezing cold\", \"arrived late\", \"something missing\", \"single time\", \"happy meal\", \"cold missing\", \"meal missing\", \"taco bell\", \"ice cold\", \"arrives cold\", \"delivered time\", \"wrong item\", \"took long\", \"eats refused\", \"last order\", \"treat customer\", \"pay extra\", \"used eats\", \"every time\", \"one item\", \"time issue\", \"completely wrong\", \"save money\", \"read review\", \"item delivered\", \"absolutely shocking\", \"ordered eats\", \"ordered mcdonald\", \"time ordered\", \"every single\", \"never eats\", \"take responsibility\", \"first time\", \"last time\", \"someone else\", \"long time\", \"took hour\", \"next time\", \"last night\", \"second time\", \"ordered meal\"], \"Freq\": [688.0, 645.0, 646.0, 443.0, 514.0, 376.0, 380.0, 386.0, 367.0, 394.0, 393.0, 364.0, 258.0, 297.0, 324.0, 311.0, 303.0, 276.0, 320.0, 273.0, 272.0, 264.0, 220.0, 262.0, 261.0, 213.0, 199.0, 259.0, 240.0, 198.0, 362.76509022641113, 275.027547104834, 271.2746296615668, 260.38248570417596, 390.8868860812165, 259.39438801210116, 238.50753879626507, 270.62350918121444, 300.9054078226551, 203.0269309887683, 160.89554001555763, 152.057465192825, 308.00752917925314, 639.2836114246767, 125.93856807701017, 255.5210921394629, 124.96609515785053, 121.18924768337185, 115.8871752008227, 122.89316447999344, 103.87913261922176, 318.7428074786198, 176.87248825020106, 85.09575006635146, 88.82169197182212, 87.41399115023607, 107.56737350718286, 85.9041922950861, 200.0451740656038, 163.88736035178613, 118.35358680074194, 149.68180821788434, 140.54136020028093, 173.9607779784953, 254.76565938042071, 158.3980480646183, 213.1827979821598, 242.79586218224068, 308.2804771897262, 190.47357353361306, 157.46965407168642, 222.84669060501395, 146.98877120403012, 685.9182600756878, 365.7773281455397, 211.4819791840971, 196.00422136223918, 217.1445645542764, 187.13463359357044, 112.66306186379585, 88.32870995953395, 119.16197021782465, 88.48236245088708, 87.63476679882116, 79.33762979010818, 71.53015683650041, 71.83862063802587, 78.01938733237088, 62.83704799523223, 67.76986434565977, 57.785687921637106, 66.9057124999691, 62.28997651476223, 66.26992827583553, 48.918199794987316, 64.2225478382975, 46.56656344505194, 60.726282462974936, 56.83843385112037, 71.6856450804384, 46.294051710555685, 60.43819551514147, 56.10337556923344, 282.8488573016275, 484.0520217718312, 68.98329106752814, 280.1031680542608, 125.2512074356337, 93.15372173941533, 168.607197369746, 115.84535044311153, 85.33079978046057, 145.93511369435177, 103.13996912182279, 181.40389590867807, 129.77836835862087, 80.03237035585002, 128.60330312904932, 137.3672203895518, 90.5825724057814, 119.63338000816411, 100.84718298404938, 132.92510070505847, 86.47564966983062, 257.0175037178129, 373.1457095515997, 152.25763578046224, 146.42355117992233, 134.36539507765434, 154.5450255801559, 159.39072269081942, 130.06540919566876, 117.6242298415895, 107.69894489191914, 96.87657738910535, 63.54626405895572, 377.33739829092934, 96.1924833481335, 77.80446010659753, 60.99586127879155, 58.92551085203159, 68.0416772111163, 68.11518427699035, 140.3608267581744, 45.64113271717182, 69.45239651405204, 48.5549748937799, 47.13102691063627, 50.21658839902295, 52.7309616178884, 74.79327895726728, 45.29998432296067, 61.60423408382047, 83.59389509442556, 378.21184334957735, 85.89078948675582, 53.2553424448342, 109.7578526229797, 57.62070550106691, 105.42509927758312, 128.0538497731547, 108.62300313536726, 109.83037373526074, 90.48900661155407, 272.49001147864294, 126.86415872968894, 99.83952005464518, 92.62312288268919, 141.1615562921887, 115.91101434229873, 100.4540339420534, 99.83292825062335, 101.35933089713173, 90.73604150979733, 643.754719529956, 441.4278482408301, 197.99364159924394, 131.85828795213388, 373.82301559597454, 78.5454660715426, 80.89831742828542, 88.52012888708373, 78.79278789525303, 70.14484438199948, 124.37557920892137, 165.30968919901943, 57.69754624644652, 54.94509422443225, 98.85687670370471, 67.88222419178489, 47.082439020554084, 59.894236313824265, 53.779870452826934, 44.90313748002679, 52.06912427022695, 51.64635540014179, 44.729450183364946, 45.74557091171922, 68.27752996791331, 88.15118636134147, 49.27326142248293, 49.63542891183057, 45.395179997403275, 58.20692779771279, 50.93073668174314, 99.3756399206278, 241.08879022738026, 68.2666800110898, 70.97528676916394, 86.22228620652216, 66.48600577427402, 66.76041674512717, 65.4291440904575, 130.86446930178153, 102.76619368618809, 116.2653657149651, 132.31946335970278, 88.7352637887019, 116.84894271350093, 89.2269213608287, 237.19826957151764, 146.9902437520122, 111.80264044308619, 82.56269970516871, 88.81439203438539, 80.26548393544236, 83.9742499420531, 83.12196466157745, 81.11905603289557], \"Total\": [688.0, 645.0, 646.0, 443.0, 514.0, 376.0, 380.0, 386.0, 367.0, 394.0, 393.0, 364.0, 258.0, 297.0, 324.0, 311.0, 303.0, 276.0, 320.0, 273.0, 272.0, 264.0, 220.0, 262.0, 261.0, 213.0, 199.0, 259.0, 240.0, 198.0, 364.426695913342, 276.74296937990874, 273.0000594023493, 262.0891853819337, 393.5304678047139, 261.153270366332, 240.1850877878172, 272.6377161185067, 303.5080253395695, 204.9109206666551, 162.58737017040062, 153.77419580338758, 311.64340339678193, 646.9528917061947, 127.67922643157898, 259.1444600258019, 126.74057222567549, 122.92821585593025, 117.65528836856352, 124.77351409085695, 105.55191416896511, 324.21115550690723, 180.00319077905706, 86.73962144586166, 90.59007595144637, 89.16655848706979, 109.7389406639726, 87.64713579286244, 204.10407592538922, 167.2446294685078, 120.8351552238878, 153.2215177627483, 144.48292876270105, 179.88191486708783, 281.1463572933987, 167.91463225034832, 236.5028605472964, 274.88143714760065, 389.6445548544401, 217.09355525207965, 171.70817924494548, 277.20571242409034, 206.31478243785673, 688.7469162737635, 367.41724983066246, 213.65763193992478, 198.18493882748936, 220.08572272957954, 189.72599025432208, 114.34715658104061, 90.0383243773948, 121.47057842423477, 90.21463352757213, 89.4154457024463, 81.16387165413025, 73.22926974915146, 73.5529293408344, 79.93549868470149, 64.44624794360573, 69.53519610508602, 59.36743592750767, 68.76566012232368, 64.14762407256485, 68.25314630447608, 50.434670985886676, 66.31240173072902, 48.092673241396774, 62.73342037141609, 58.730508627267284, 74.12294958208477, 47.88723287353755, 62.59459707568279, 58.1304711745741, 297.8768449235698, 514.3351407545231, 71.76754521710005, 320.7182806387239, 137.8718620060599, 100.77997233575854, 196.44947322467712, 129.0558134500529, 91.64813869975137, 182.89545142404597, 120.37472134232053, 266.06639664997095, 197.33968244909516, 92.98770100162176, 223.78896146056883, 261.57046248892135, 120.26421595104019, 223.01385313088758, 167.69237199054328, 707.5801282298971, 197.3008781142666, 258.49867202259713, 376.11941890009984, 153.76051889124196, 147.9243226982038, 135.92973929117596, 156.4116688619484, 161.51084070330734, 131.86227258202422, 119.78463990296969, 110.06293872521802, 99.08353649854743, 65.0113357762059, 386.31353395570284, 98.69406836334583, 79.83411955128169, 62.59457090481542, 60.477481045575146, 69.84699967594749, 70.07617012440505, 144.693573865674, 47.154540695865514, 71.76608771629014, 50.18358340120201, 48.71570558564778, 51.93415270030309, 54.573482267869736, 77.51219049909385, 46.960946202870495, 63.93414010105105, 86.80393538932637, 394.3032130458944, 91.30571697914358, 55.530725183801934, 123.47601327630863, 60.661878788739756, 120.08534210955501, 151.16811333612176, 131.64801454758404, 137.3499220089942, 118.2963655676338, 707.5801282298971, 207.98880365096616, 148.5129038049009, 134.3252711737054, 339.0403524047268, 261.57046248892135, 202.92510608104118, 220.66353630695943, 294.987158389653, 192.91220920198222, 645.4519790512334, 443.1395549343192, 199.7508857592979, 134.12871081356226, 380.3788357940634, 80.15754759468915, 82.64152022027761, 90.43504423263387, 80.52713713846924, 71.7676869697103, 127.43726046939092, 169.5837085663173, 59.29801877335928, 56.528340100563966, 101.85224888587324, 70.02357942648608, 48.59237843658717, 61.82490541430619, 55.54083557988987, 46.39341214289146, 53.84573362530271, 53.45707574335632, 46.297864404437114, 47.354965938351974, 70.69527622091431, 91.6322587930563, 51.25234596546988, 51.63959449351134, 47.25115971902483, 60.62308034639102, 53.05438498081347, 104.99645882942802, 264.59204310867307, 71.96232368820722, 75.48195598125841, 92.92353742884399, 70.68033995979637, 72.6269847265964, 71.0815376897402, 164.06436835011024, 122.9960450454567, 144.0107636954399, 173.88233149276428, 104.55779479755807, 168.8126522183592, 121.90707830072523, 707.5801282298971, 339.0403524047268, 247.6489368211271, 117.65246857600636, 195.54501939308136, 156.73452536987355, 223.78896146056883, 266.06639664997095, 200.77557066357963], \"Category\": [\"Default\", \"Default\", \"Default\", \"Default\", \"Default\", \"Default\", \"Default\", \"Default\", \"Default\", \"Default\", \"Default\", \"Default\", \"Default\", \"Default\", \"Default\", \"Default\", \"Default\", \"Default\", \"Default\", \"Default\", \"Default\", \"Default\", \"Default\", \"Default\", \"Default\", \"Default\", \"Default\", \"Default\", \"Default\", \"Default\", \"Topic1\", \"Topic1\", \"Topic1\", \"Topic1\", \"Topic1\", \"Topic1\", \"Topic1\", \"Topic1\", \"Topic1\", \"Topic1\", \"Topic1\", \"Topic1\", \"Topic1\", \"Topic1\", \"Topic1\", \"Topic1\", \"Topic1\", \"Topic1\", \"Topic1\", \"Topic1\", \"Topic1\", \"Topic1\", \"Topic1\", \"Topic1\", \"Topic1\", \"Topic1\", \"Topic1\", \"Topic1\", \"Topic1\", \"Topic1\", \"Topic1\", \"Topic1\", \"Topic1\", \"Topic1\", \"Topic1\", \"Topic1\", \"Topic1\", \"Topic1\", \"Topic1\", \"Topic1\", \"Topic1\", \"Topic1\", \"Topic1\", \"Topic2\", \"Topic2\", \"Topic2\", \"Topic2\", \"Topic2\", \"Topic2\", \"Topic2\", \"Topic2\", \"Topic2\", \"Topic2\", \"Topic2\", \"Topic2\", \"Topic2\", \"Topic2\", \"Topic2\", \"Topic2\", \"Topic2\", \"Topic2\", \"Topic2\", \"Topic2\", \"Topic2\", \"Topic2\", \"Topic2\", \"Topic2\", \"Topic2\", \"Topic2\", \"Topic2\", \"Topic2\", \"Topic2\", \"Topic2\", \"Topic2\", \"Topic2\", \"Topic2\", \"Topic2\", \"Topic2\", \"Topic2\", \"Topic2\", \"Topic2\", \"Topic2\", \"Topic2\", \"Topic2\", \"Topic2\", \"Topic2\", \"Topic2\", \"Topic2\", \"Topic2\", \"Topic2\", \"Topic2\", \"Topic2\", \"Topic2\", \"Topic2\", \"Topic3\", \"Topic3\", \"Topic3\", \"Topic3\", \"Topic3\", \"Topic3\", \"Topic3\", \"Topic3\", \"Topic3\", \"Topic3\", \"Topic3\", \"Topic3\", \"Topic3\", \"Topic3\", \"Topic3\", \"Topic3\", \"Topic3\", \"Topic3\", \"Topic3\", \"Topic3\", \"Topic3\", \"Topic3\", \"Topic3\", \"Topic3\", \"Topic3\", \"Topic3\", \"Topic3\", \"Topic3\", \"Topic3\", \"Topic3\", \"Topic3\", \"Topic3\", \"Topic3\", \"Topic3\", \"Topic3\", \"Topic3\", \"Topic3\", \"Topic3\", \"Topic3\", \"Topic3\", \"Topic3\", \"Topic3\", \"Topic3\", \"Topic3\", \"Topic3\", \"Topic3\", \"Topic3\", \"Topic3\", \"Topic3\", \"Topic3\", \"Topic4\", \"Topic4\", \"Topic4\", \"Topic4\", \"Topic4\", \"Topic4\", \"Topic4\", \"Topic4\", \"Topic4\", \"Topic4\", \"Topic4\", \"Topic4\", \"Topic4\", \"Topic4\", \"Topic4\", \"Topic4\", \"Topic4\", \"Topic4\", \"Topic4\", \"Topic4\", \"Topic4\", \"Topic4\", \"Topic4\", \"Topic4\", \"Topic4\", \"Topic4\", \"Topic4\", \"Topic4\", \"Topic4\", \"Topic4\", \"Topic4\", \"Topic4\", \"Topic4\", \"Topic4\", \"Topic4\", \"Topic4\", \"Topic4\", \"Topic4\", \"Topic4\", \"Topic4\", \"Topic4\", \"Topic4\", \"Topic4\", \"Topic4\", \"Topic4\", \"Topic4\", \"Topic4\", \"Topic4\", \"Topic4\", \"Topic4\", \"Topic4\", \"Topic4\", \"Topic4\", \"Topic4\", \"Topic4\"], \"logprob\": [30.0, 29.0, 28.0, 27.0, 26.0, 25.0, 24.0, 23.0, 22.0, 21.0, 20.0, 19.0, 18.0, 17.0, 16.0, 15.0, 14.0, 13.0, 12.0, 11.0, 10.0, 9.0, 8.0, 7.0, 6.0, 5.0, 4.0, 3.0, 2.0, 1.0, -5.1601, -5.437, -5.4508, -5.4918, -5.0855, -5.4956, -5.5795, -5.4532, -5.3471, -5.7406, -5.9731, -6.0296, -5.3238, -4.5936, -6.2181, -5.5106, -6.2259, -6.2565, -6.3013, -6.2426, -6.4107, -5.2895, -5.8785, -6.6101, -6.5673, -6.5832, -6.3758, -6.6007, -5.7554, -5.9547, -6.2802, -6.0454, -6.1084, -5.8951, -5.5136, -5.9888, -5.6918, -5.5617, -5.3229, -5.8044, -5.9947, -5.6474, -6.0635, -4.2745, -4.9032, -5.4511, -5.5271, -5.4247, -5.5734, -6.0808, -6.3242, -6.0248, -6.3224, -6.3321, -6.4315, -6.5351, -6.5308, -6.4483, -6.6647, -6.5891, -6.7485, -6.602, -6.6734, -6.6115, -6.9151, -6.6429, -6.9644, -6.6989, -6.765, -6.5329, -6.9702, -6.7036, -6.778, -5.1603, -4.623, -6.5714, -5.1701, -5.9749, -6.271, -5.6777, -6.053, -6.3587, -5.8221, -6.1691, -5.6045, -5.9394, -6.4228, -5.9485, -5.8826, -6.299, -6.0208, -6.1916, -5.9154, -6.3454, -5.238, -4.8652, -5.7616, -5.8007, -5.8866, -5.7467, -5.7158, -5.9191, -6.0197, -6.1078, -6.2137, -6.6354, -4.854, -6.2208, -6.433, -6.6764, -6.7109, -6.567, -6.566, -5.843, -6.9664, -6.5465, -6.9045, -6.9342, -6.8708, -6.822, -6.4724, -6.9739, -6.6664, -6.3612, -4.8517, -6.3341, -6.8121, -6.0889, -6.7333, -6.1292, -5.9347, -6.0993, -6.0882, -6.2819, -5.1796, -5.9441, -6.1836, -6.2586, -5.8373, -6.0343, -6.1775, -6.1837, -6.1685, -6.2792, -4.2956, -4.6729, -5.4747, -5.8812, -4.8392, -6.3993, -6.3698, -6.2797, -6.3961, -6.5124, -5.9396, -5.6551, -6.7077, -6.7566, -6.1693, -6.5452, -6.9111, -6.6704, -6.7781, -6.9584, -6.8104, -6.8185, -6.9623, -6.9399, -6.5394, -6.2839, -6.8656, -6.8582, -6.9475, -6.6989, -6.8325, -6.164, -5.2778, -6.5395, -6.5006, -6.306, -6.566, -6.5618, -6.582, -5.8888, -6.1305, -6.0071, -5.8777, -6.2773, -6.0021, -6.2718, -5.2941, -5.7726, -6.0462, -6.3494, -6.2764, -6.3776, -6.3324, -6.3426, -6.367], \"loglift\": [30.0, 29.0, 28.0, 27.0, 26.0, 25.0, 24.0, 23.0, 22.0, 21.0, 20.0, 19.0, 18.0, 17.0, 16.0, 15.0, 14.0, 13.0, 12.0, 11.0, 10.0, 9.0, 8.0, 7.0, 6.0, 5.0, 4.0, 3.0, 2.0, 1.0, 1.1873, 1.1857, 1.1855, 1.1853, 1.1851, 1.1851, 1.1849, 1.1845, 1.1833, 1.1826, 1.1814, 1.1807, 1.1801, 1.18, 1.1782, 1.1778, 1.1778, 1.1776, 1.1767, 1.1767, 1.1759, 1.1749, 1.1743, 1.1727, 1.1722, 1.172, 1.1719, 1.1718, 1.1718, 1.1716, 1.1711, 1.1685, 1.1642, 1.1584, 1.0933, 1.1335, 1.0881, 1.0678, 0.9577, 1.0611, 1.1053, 0.9736, 0.8528, 1.4364, 1.4361, 1.4303, 1.4295, 1.4271, 1.4268, 1.4257, 1.4214, 1.4214, 1.4212, 1.4204, 1.4178, 1.4171, 1.417, 1.4163, 1.4153, 1.4148, 1.4135, 1.4131, 1.4112, 1.4111, 1.41, 1.4085, 1.4083, 1.408, 1.4078, 1.4071, 1.4067, 1.4055, 1.4051, 1.3888, 1.3799, 1.401, 1.3051, 1.3445, 1.3619, 1.2877, 1.3326, 1.3691, 1.2148, 1.286, 1.0575, 1.0215, 1.2905, 0.8866, 0.7965, 1.1571, 0.8177, 0.932, -0.2315, 0.6157, 1.4529, 1.4507, 1.4488, 1.4484, 1.447, 1.4466, 1.4454, 1.4449, 1.4404, 1.4369, 1.4361, 1.4358, 1.4351, 1.4329, 1.4329, 1.4327, 1.4326, 1.4324, 1.4302, 1.4282, 1.426, 1.4258, 1.4256, 1.4255, 1.425, 1.4243, 1.4229, 1.4226, 1.4215, 1.4209, 1.4169, 1.3975, 1.4168, 1.3408, 1.4072, 1.3284, 1.2927, 1.2664, 1.235, 1.1906, 0.5044, 0.9642, 1.0615, 1.0869, 0.5824, 0.6447, 0.7555, 0.6655, 0.3904, 0.7043, 1.4802, 1.479, 1.474, 1.4658, 1.4654, 1.4625, 1.4615, 1.4614, 1.4611, 1.46, 1.4585, 1.4573, 1.4555, 1.4544, 1.453, 1.4518, 1.4513, 1.4511, 1.4506, 1.4502, 1.4493, 1.4484, 1.4484, 1.4483, 1.448, 1.4441, 1.4435, 1.4432, 1.4428, 1.4422, 1.442, 1.4278, 1.3898, 1.4301, 1.4213, 1.408, 1.4217, 1.3986, 1.4, 1.2567, 1.3031, 1.2688, 1.2097, 1.3187, 1.1149, 1.1708, 0.3899, 0.6471, 0.6876, 1.1287, 0.6936, 0.8136, 0.5026, 0.3194, 0.5766]}, \"token.table\": {\"Topic\": [1, 2, 3, 4, 1, 2, 3, 4, 1, 2, 3, 4, 1, 2, 3, 4, 1, 2, 3, 4, 1, 2, 3, 4, 1, 2, 3, 4, 1, 2, 3, 4, 1, 2, 3, 4, 1, 2, 3, 4, 1, 2, 3, 4, 1, 2, 3, 4, 1, 2, 3, 1, 2, 4, 1, 2, 3, 4, 1, 2, 3, 4, 1, 2, 3, 4, 1, 2, 3, 4, 1, 2, 3, 4, 1, 2, 3, 4, 1, 2, 3, 4, 1, 4, 1, 3, 4, 1, 2, 3, 4, 1, 2, 3, 4, 1, 2, 3, 4, 1, 2, 3, 4, 1, 2, 3, 4, 1, 2, 3, 4, 1, 2, 3, 4, 1, 2, 3, 4, 1, 2, 3, 4, 1, 2, 3, 4, 1, 2, 3, 4, 1, 2, 3, 1, 3, 1, 2, 3, 4, 1, 4, 1, 3, 4, 1, 2, 3, 4, 1, 2, 3, 4, 1, 2, 3, 4, 1, 2, 3, 4, 1, 2, 3, 4, 1, 2, 3, 4, 1, 2, 3, 4, 1, 2, 3, 4, 1, 2, 3, 4, 1, 2, 3, 4, 1, 2, 3, 4, 1, 2, 3, 4, 1, 2, 3, 1, 2, 3, 4, 1, 3, 1, 2, 3, 4, 1, 2, 3, 4, 1, 2, 3, 4, 1, 2, 3, 4, 1, 2, 3, 4, 1, 2, 3, 4, 1, 2, 3, 4, 1, 2, 3, 4, 1, 2, 3, 4, 1, 2, 3, 4, 1, 2, 3, 4, 1, 2, 3, 4, 1, 2, 3, 4, 1, 3, 4, 1, 2, 3, 1, 2, 3, 4, 1, 2, 3, 4, 1, 2, 3, 4, 1, 2, 3, 4, 1, 2, 3, 4, 1, 2, 3, 4, 1, 2, 4, 1, 2, 3, 4, 1, 2, 3, 4, 1, 2, 3, 4, 1, 2, 3, 4, 1, 4, 1, 2, 3, 4, 1, 2, 3, 4, 1, 2, 3, 4, 1, 2, 3, 4, 1, 2, 3, 4, 1, 2, 3, 4, 1, 2, 3, 4, 1, 2, 3, 4, 1, 2, 3, 4, 1, 2, 4, 1, 2, 3, 4, 1, 2, 3, 4, 1, 2, 3, 4, 1, 2, 3, 4, 1, 2, 3, 4, 1, 2, 3, 4, 1, 2, 3, 4, 1, 2, 3, 4, 1, 2, 3, 4, 1, 2, 3, 4, 1, 2, 3, 4, 1, 2, 3, 4, 1, 2, 3, 4, 1, 2, 3, 4, 1, 2, 3, 4, 1, 2, 3, 4, 1, 2, 3, 4, 1, 2, 3, 4, 1, 2, 3, 4, 1, 2, 3, 4, 1, 2, 3, 4, 1, 2, 3, 4, 1, 2, 3, 4, 1, 2, 3, 4, 1, 2, 3, 4, 1, 2, 3, 4, 1, 2, 3, 4, 1, 2, 3, 4, 1, 2, 3, 4, 1, 2, 3, 4, 1, 2, 3, 4, 1, 2, 3, 4, 1, 2, 3, 4, 1, 2, 3, 4, 1, 2, 3, 4, 1, 2, 4, 1, 2, 4, 1, 2, 3, 4, 1, 2, 3, 4, 1, 2, 3, 4, 1, 2, 3, 4, 1, 2, 3, 4, 1, 3, 1, 2, 3, 4, 1, 2, 3, 4, 1, 2, 3, 4, 1, 2, 3, 4, 1, 2, 3, 4, 1, 2, 3, 4, 1, 2, 3, 4, 1, 2, 3, 4, 1, 2, 3, 4, 1, 2, 3, 4, 1, 2, 3, 4, 1, 2, 3, 4, 1, 2, 3, 4, 1, 2, 3, 4, 1, 2, 3, 4, 1, 2, 3, 4, 2, 3, 4, 1, 2, 3, 4, 1, 2, 3, 4, 1, 2, 3, 4, 1, 2, 3, 4, 1, 2, 3, 4, 1, 2, 3, 4, 1, 2, 3, 4, 1, 2, 3, 4, 1, 2, 3, 4, 1, 2, 3, 4, 1, 2, 3, 4, 1, 2, 3, 4, 1, 2, 3, 4, 1, 2, 3, 4, 1, 2, 3, 4, 1, 2, 3, 4, 1, 2, 3, 4, 1, 2, 3, 4, 1, 2, 3, 4, 1, 2, 3, 4, 1, 2, 3, 4, 1, 2, 3, 4, 1, 2, 3, 4, 1, 2, 3, 4, 1, 2, 3, 4, 1, 2, 3, 4, 1, 2, 3, 4, 1, 2, 3, 4, 1, 2, 3, 4, 1, 2, 3, 4, 1, 2, 3, 4, 1, 2, 3, 4, 1, 2, 3, 4, 1, 2, 3, 4, 1, 2, 1, 2, 3, 4, 1, 2, 3, 4, 1, 2, 3, 4, 1, 2, 3, 4, 1, 2, 3, 4, 1, 2, 3, 4, 1, 2, 3, 4], \"Freq\": [0.9758938388602199, 0.020763698699153614, 0.006921232899717871, 0.006921232899717871, 0.8840174968581761, 0.11277589466091958, 0.003637932085836116, 0.003637932085836116, 0.9857861333490574, 0.00801452140934193, 0.00801452140934193, 0.00801452140934193, 0.9409543282948306, 0.04764325712885218, 0.0059554071411065225, 0.0059554071411065225, 0.9862666532499458, 0.007890133225999567, 0.007890133225999567, 0.007890133225999567, 0.9878659955706218, 0.0038588515451977415, 0.0038588515451977415, 0.007717703090395483, 0.9805994997936913, 0.005979265242644459, 0.005979265242644459, 0.011958530485288919, 0.9950659393606313, 0.004163455813224398, 0.004163455813224398, 0.004163455813224398, 0.984314293976331, 0.008134828875837446, 0.008134828875837446, 0.008134828875837446, 0.9673012438663782, 0.0055592025509561965, 0.0055592025509561965, 0.027796012754780983, 0.9798922392569491, 0.004899461196284745, 0.004899461196284745, 0.014698383588854237, 0.9883090629961347, 0.0032087956590783596, 0.006417591318156719, 0.0032087956590783596, 0.02120686545225282, 0.02120686545225282, 0.9755158108036297, 0.9799443274380966, 0.011528756793389371, 0.011528756793389371, 0.40901789632108265, 0.004927926461699791, 0.4927926461699791, 0.09363060277229603, 0.18285506049662514, 0.012190337366441676, 0.006095168683220838, 0.7984670975019298, 0.014317007239243807, 0.014317007239243807, 0.9735564922685789, 0.014317007239243807, 0.008232446185507655, 0.979661096075411, 0.008232446185507655, 0.008232446185507655, 0.9143419998416968, 0.07570984712065006, 0.005823834393896159, 0.005823834393896159, 0.017690378547340364, 0.0058967928491134546, 0.0058967928491134546, 0.9729708201037199, 0.014280903778274363, 0.014280903778274363, 0.014280903778274363, 0.9711014569226567, 0.012475431572038953, 0.9855590941910772, 0.02111710947700455, 0.02111710947700455, 0.9713870359422092, 0.012510086462891933, 0.9757867441055708, 0.012510086462891933, 0.012510086462891933, 0.010132321187920467, 0.010132321187920467, 0.9727028340403648, 0.010132321187920467, 0.013655741801407046, 0.9832134097013073, 0.013655741801407046, 0.013655741801407046, 0.018323917742532482, 0.018323917742532482, 0.9711676403542215, 0.018323917742532482, 0.9070009032124401, 0.003556866287107608, 0.06402359316793695, 0.024898064009753258, 0.02789731261641956, 0.01014447731506166, 0.9586531062733268, 0.002536119328765415, 0.0053174600924586, 0.0026587300462293, 0.991706307243529, 0.0026587300462293, 0.006615151687290715, 0.13891818543310502, 0.8467394159732116, 0.006615151687290715, 0.9789747692766196, 0.013052996923688262, 0.006526498461844131, 0.006526498461844131, 0.9917365435831113, 0.0032948057926349213, 0.0032948057926349213, 0.0032948057926349213, 0.0073567418374715894, 0.0073567418374715894, 0.985803406221193, 0.0073567418374715894, 0.020793188080450248, 0.9772798397811616, 0.020793188080450248, 0.015381932828489878, 0.9844437010233522, 0.012418173991215717, 0.012418173991215717, 0.012418173991215717, 0.9810357453060417, 0.02155478447931369, 0.969965301569116, 0.013933847421083142, 0.013933847421083142, 0.97536931947582, 0.01925515191844391, 0.01925515191844391, 0.9627575959221956, 0.01925515191844391, 0.9833159025345095, 0.005555457076466155, 0.01111091415293231, 0.005555457076466155, 0.015641095640286252, 0.015641095640286252, 0.9697479296977476, 0.015641095640286252, 0.053807680361165115, 0.010761536072233024, 0.010761536072233024, 0.9254921022120399, 0.007455525322911597, 0.007455525322911597, 0.007455525322911597, 0.9841293426243308, 0.009085710517839157, 0.009085710517839157, 0.981256735926629, 0.009085710517839157, 0.01290119649001134, 0.01290119649001134, 0.9675897367508506, 0.01290119649001134, 0.014381206295711546, 0.9779220281083851, 0.014381206295711546, 0.014381206295711546, 0.7125034777586879, 0.004846962433732571, 0.2326541968191634, 0.04846962433732571, 0.020882392654443797, 0.9605900621044147, 0.020882392654443797, 0.020882392654443797, 0.014145216674380326, 0.014145216674380326, 0.014145216674380326, 0.9618747338578622, 0.0045436841045282395, 0.9859794506826279, 0.0045436841045282395, 0.009087368209056479, 0.011183750102054696, 0.9841700089808132, 0.011183750102054696, 0.021294289848420363, 0.021294289848420363, 0.9582430431789164, 0.021294289848420363, 0.006503620091886663, 0.9885502539667728, 0.016484817482864098, 0.032969634965728196, 0.9561194140061178, 0.016484817482864098, 0.007444615531107546, 0.13400307955993582, 0.6923492443930018, 0.163781541684366, 0.019364985527251823, 0.019364985527251823, 0.019364985527251823, 0.9682492763625912, 0.013934157926418644, 0.013934157926418644, 0.9614568969228865, 0.013934157926418644, 0.009564088473137488, 0.009564088473137488, 0.13389723862392483, 0.8512038741092365, 0.003779403145503059, 0.007558806291006118, 0.07936746605556425, 0.9108361580662372, 0.0075836702979463315, 0.0075836702979463315, 0.9858771387330231, 0.0075836702979463315, 0.015940466725382647, 0.9723684702483414, 0.015940466725382647, 0.015940466725382647, 0.00832741100981076, 0.08327411009810759, 0.8743781560301297, 0.02498223302943228, 0.09186238760351549, 0.1879645777118086, 0.3844087604331725, 0.3349443978774334, 0.019636287091127715, 0.009818143545563858, 0.009818143545563858, 0.971996211010822, 0.07527877261830482, 0.8603288299234837, 0.010754110374043547, 0.05377055187021773, 0.006393384887943475, 0.006393384887943475, 0.9909746576312386, 0.006393384887943475, 0.006760213477807884, 0.986991167759951, 0.006760213477807884, 0.01597582642623515, 0.01597582642623515, 0.9745254120003441, 0.005067404525990131, 0.658762588378717, 0.3344486987153486, 0.005067404525990131, 0.012525972674598696, 0.012525972674598696, 0.9770258686186983, 0.012525972674598696, 0.014651339229682068, 0.9669883891590165, 0.014651339229682068, 0.014651339229682068, 0.017026925585584354, 0.9705347583783083, 0.017026925585584354, 0.017026925585584354, 0.9917547639234559, 0.0038291689726774355, 0.0038291689726774355, 0.0038291689726774355, 0.011057660318356385, 0.011057660318356385, 0.011057660318356385, 0.9841317683337183, 0.01800477053611484, 0.01800477053611484, 0.9722576089502014, 0.9765370001914202, 0.008275737289757798, 0.008275737289757798, 0.008275737289757798, 0.9937018476609752, 0.003613461264221728, 0.003613461264221728, 0.003613461264221728, 0.9877071548668394, 0.0015457075976006876, 0.004637122792802063, 0.00618283039040275, 0.9812071920210247, 0.011409385953732844, 0.011409385953732844, 0.011409385953732844, 0.021599268408245664, 0.9719670783710549, 0.012100455041661148, 0.012100455041661148, 0.012100455041661148, 0.980136858374553, 0.01406835069276137, 0.05627340277104548, 0.01406835069276137, 0.914442795029489, 0.0026289580436630777, 0.01314479021831539, 0.0026289580436630777, 0.9832303083299911, 0.01992683527609644, 0.01992683527609644, 0.9764149285287257, 0.01992683527609644, 0.04915345211045263, 0.5764359383862172, 0.004468495646404785, 0.37535363429800195, 0.021163501720305247, 0.021163501720305247, 0.021163501720305247, 0.9523575774137362, 0.03834351842721468, 0.11208105386416599, 0.41587969986440537, 0.4335767083692737, 0.00500623562292991, 0.00500623562292991, 0.00500623562292991, 0.9912346533401223, 0.9902368174801218, 0.006150539239006968, 0.006150539239006968, 0.006150539239006968, 0.016863969837205898, 0.016863969837205898, 0.9781102505579421, 0.013595651579913756, 0.9788869137537904, 0.013595651579913756, 0.013595651579913756, 0.7904640169168021, 0.09239189808118467, 0.11548987260148083, 0.0025664416133662406, 0.04249804581677671, 0.008499609163355341, 0.2464886657373049, 0.7054675605584934, 0.0455760766360157, 0.06076810218135427, 0.8279653922209519, 0.06836411495402354, 0.3935778307418894, 0.6022933470444065, 0.005963300465786203, 0.005963300465786203, 0.018571573505873618, 0.018571573505873618, 0.018571573505873618, 0.9657218223054281, 0.007846998564757984, 0.007846998564757984, 0.007846998564757984, 0.97302782202999, 0.9884623307953694, 0.006503041649969535, 0.006503041649969535, 0.006503041649969535, 0.9839266619349987, 0.0030844095985423157, 0.0030844095985423157, 0.012337638394169263, 0.0015493019348548995, 0.0015493019348548995, 0.0015493019348548995, 0.9977504460465554, 0.011084676187199407, 0.9754515044735478, 0.011084676187199407, 0.011084676187199407, 0.0014519121267506617, 0.996011718950954, 0.0014519121267506617, 0.0014519121267506617, 0.015516807136313957, 0.9775588495877793, 0.015516807136313957, 0.015516807136313957, 0.006191534857012991, 0.006191534857012991, 0.9844540422650656, 0.006191534857012991, 0.9852971480320021, 0.009474011038769251, 0.009474011038769251, 0.009474011038769251, 0.05638347004145462, 0.9410206724160013, 0.0019442575876363664, 0.0019442575876363664, 0.07978422746997146, 0.906638948522403, 0.0072531115881792245, 0.0072531115881792245, 0.0050457921066870415, 0.9889752529106601, 0.0050457921066870415, 0.0050457921066870415, 0.0059237266097004375, 0.29618633048502185, 0.0059237266097004375, 0.6930760133349512, 0.005270759154607808, 0.9856319619116602, 0.005270759154607808, 0.005270759154607808, 0.09042203625638452, 0.8730403500616437, 0.024944010001761246, 0.012472005000880623, 0.24113573410569575, 0.7566673035730453, 0.008315025313989508, 0.008315025313989508, 0.014270186259105153, 0.014270186259105153, 0.9703726656191504, 0.014270186259105153, 0.1932287504010864, 0.2101786407871466, 0.3423877857984162, 0.25424835579090316, 0.14036473424143658, 0.06380215192792571, 0.28710968367566575, 0.5104172154234057, 0.054240098240201595, 0.8988359136947692, 0.030994341851543768, 0.015497170925771884, 0.9757021183296654, 0.011214966877352475, 0.011214966877352475, 0.011214966877352475, 0.013896160501052223, 0.013896160501052223, 0.027792321002104447, 0.9449389140715513, 0.017690241712758577, 0.017690241712758577, 0.017690241712758577, 0.9729632942017217, 0.008130342724682094, 0.1463461690442777, 0.008130342724682094, 0.8374253006422557, 0.8751987122758215, 0.004606309011978007, 0.004606309011978007, 0.11515772529945019, 0.17359813501767873, 0.013887850801414298, 0.006943925400707149, 0.8054953464820293, 0.4831265062746782, 0.09961371263395427, 0.009961371263395427, 0.40343553616751476, 0.011106381720393965, 0.9773615913946689, 0.011106381720393965, 0.011106381720393965, 0.015080135448277727, 0.9651286686897745, 0.015080135448277727, 0.015080135448277727, 0.01684425113493328, 0.9769665658261304, 0.01684425113493328, 0.012320752813041937, 0.973339472230313, 0.012320752813041937, 0.01884858339912222, 0.01884858339912222, 0.01884858339912222, 0.9612777533552332, 0.01653508021020934, 0.01653508021020934, 0.975569732402351, 0.01653508021020934, 0.014542142084016232, 0.9743235196290876, 0.014542142084016232, 0.014542142084016232, 0.4573706905110323, 0.5380831653070969, 0.0044840263775591405, 0.0044840263775591405, 0.026761431445251508, 0.5237594439999224, 0.44347514966416784, 0.0038230616350359297, 0.0038684918269622027, 0.9942023995292861, 0.020527260931115645, 0.020527260931115645, 0.9647812637624353, 0.020527260931115645, 0.9824475701698429, 0.011038736743481381, 0.011038736743481381, 0.011038736743481381, 0.013768986882279231, 0.013768986882279231, 0.055075947529116924, 0.9225221211127085, 0.010092494024117316, 0.010092494024117316, 0.9789719203393797, 0.010092494024117316, 0.01597581974672519, 0.9585491848035114, 0.01597581974672519, 0.01597581974672519, 0.011520215016921485, 0.02304043003384297, 0.9676980614214048, 0.011520215016921485, 0.9859310330073884, 0.008499405456960245, 0.008499405456960245, 0.008499405456960245, 0.9006233561280912, 0.08456557334536068, 0.008456557334536067, 0.004228278667268034, 0.8044567265584978, 0.19119375115515866, 0.0036074292670784654, 0.0036074292670784654, 0.9935698300087666, 0.0025410993094853365, 0.0025410993094853365, 0.0025410993094853365, 0.01414820585991535, 0.01414820585991535, 0.04244461757974605, 0.933781586754413, 0.0037584603414446594, 0.6802813218014834, 0.0037584603414446594, 0.3119522083399067, 0.015589041908532473, 0.9665205983290134, 0.015589041908532473, 0.015589041908532473, 0.4302475221415232, 0.07775557629063672, 0.47171716282986276, 0.02073482034416979, 0.016174711361039974, 0.016174711361039974, 0.016174711361039974, 0.9704826816623984, 0.45629107659613377, 0.08075948258338651, 0.012113922387507976, 0.45225310246696443, 0.02057935898949658, 0.02057935898949658, 0.9672298725063393, 0.2311211034389261, 0.28550253954220284, 0.4531786341939728, 0.03172250439357809, 0.0873680874694213, 0.05824539164628086, 0.800874135136362, 0.05824539164628086, 0.013933874942705022, 0.9614373710466465, 0.013933874942705022, 0.027867749885410045, 0.02693368655194257, 0.29627055207136826, 0.6733421637985643, 0.0067334216379856425, 0.9939930683772495, 0.003667871101023061, 0.003667871101023061, 0.003667871101023061, 0.002256625455491593, 0.002256625455491593, 0.002256625455491593, 0.9951718258717926, 0.008453345081242316, 0.2113336270310579, 0.7608010573118084, 0.016906690162484632, 0.01870659751013935, 0.01870659751013935, 0.01870659751013935, 0.9727430705272462, 0.003357092090379107, 0.9500570615772872, 0.043642197174928385, 0.003357092090379107, 0.008202969129759308, 0.008202969129759308, 0.2542920430225386, 0.7300642525485785, 0.013491098312171, 0.971359078476312, 0.013491098312171, 0.013491098312171, 0.021822592672091284, 0.9274601885638796, 0.010911296336045642, 0.03273388900813693, 0.03974459804333737, 0.013248199347779122, 0.013248199347779122, 0.9406221536923176, 0.008098738965294, 0.008098738965294, 0.89086128618234, 0.097184867583528, 0.005751015594368268, 0.22428960818036245, 0.011502031188736536, 0.7591340584566114, 0.09968870429094918, 0.8556613784973138, 0.01661478404849153, 0.024922176072737296, 0.02073347087815416, 0.00691115695938472, 0.9675619743138608, 0.00691115695938472, 0.9926737766770901, 0.003663002865967122, 0.003663002865967122, 0.003663002865967122, 0.47559380591050976, 0.06648085458964115, 0.005113911891510858, 0.4551381583444663, 0.019511301993351243, 0.019511301993351243, 0.019511301993351243, 0.956053797674211, 0.004680385113887133, 0.9875612590301851, 0.004680385113887133, 0.004680385113887133, 0.016495367676570585, 0.016495367676570585, 0.016495367676570585, 0.9567313252410939, 0.19683376333145342, 0.7982702623997833, 0.005467604536984817, 0.005467604536984817, 0.05953563848986186, 0.9228023965928589, 0.019845212829953954, 0.009922606414976977, 0.1272591857317315, 0.860272095546505, 0.01018073485853852, 0.00509036742926926, 0.01720268182579937, 0.9633501822447648, 0.01720268182579937, 0.01720268182579937, 0.9906743834811823, 0.004880169376754593, 0.004880169376754593, 0.004880169376754593, 0.00952413072925202, 0.00952413072925202, 0.03809652291700808, 0.94288894219595, 0.01800804863776019, 0.01800804863776019, 0.9544265778012901, 0.01800804863776019, 0.008348315784144276, 0.008348315784144276, 0.9851012625290244, 0.008348315784144276, 0.004807951112974993, 0.004807951112974993, 0.6106097913478241, 0.37982813792502446, 0.010952216718570032, 0.021904433437140065, 0.9418906377970228, 0.0328566501557101, 0.9841538413488303, 0.009112535568044726, 0.009112535568044726, 0.009112535568044726, 0.9960850949468278, 0.0027440360742336856, 0.0027440360742336856, 0.0027440360742336856, 0.019827630089622947, 0.9715538743915243, 0.9920287234328681, 0.003815495090126416, 0.003815495090126416, 0.003815495090126416, 0.015531425830625955, 0.0025885709717709923, 0.9758912563576642, 0.005177141943541985, 0.00874529835196449, 0.9882187137719874, 0.00874529835196449, 0.00874529835196449, 0.9868480842302185, 0.007832127652620782, 0.007832127652620782, 0.007832127652620782, 0.002721701282291145, 0.9961426693185591, 0.002721701282291145, 0.002721701282291145, 0.010913187268016773, 0.021826374536033546, 0.010913187268016773, 0.9603604795854761, 0.23314645347578813, 0.43588249997647344, 0.2888988662634766, 0.04054720930013706], \"Term\": [\"10 min\", \"10 min\", \"10 min\", \"10 min\", \"10 minute\", \"10 minute\", \"10 minute\", \"10 minute\", \"15 min\", \"15 min\", \"15 min\", \"15 min\", \"15 minute\", \"15 minute\", \"15 minute\", \"15 minute\", \"20 min\", \"20 min\", \"20 min\", \"20 min\", \"20 minute\", \"20 minute\", \"20 minute\", \"20 minute\", \"30 min\", \"30 min\", \"30 min\", \"30 min\", \"30 minute\", \"30 minute\", \"30 minute\", \"30 minute\", \"40 min\", \"40 min\", \"40 min\", \"40 min\", \"40 minute\", \"40 minute\", \"40 minute\", \"40 minute\", \"45 minute\", \"45 minute\", \"45 minute\", \"45 minute\", \"48 hour\", \"48 hour\", \"48 hour\", \"48 hour\", \"50 discount\", \"50 discount\", \"50 discount\", \"72 hour\", \"72 hour\", \"72 hour\", \"absolute joke\", \"absolute joke\", \"absolute joke\", \"absolute joke\", \"absolutely shocking\", \"absolutely shocking\", \"absolutely shocking\", \"absolutely shocking\", \"always late\", \"always late\", \"always late\", \"always late\", \"app never\", \"app never\", \"app never\", \"app never\", \"app said\", \"app said\", \"app said\", \"app said\", \"arrived cold\", \"arrived cold\", \"arrived cold\", \"arrived cold\", \"arrived late\", \"arrived late\", \"arrived late\", \"arrived late\", \"arrived stone\", \"arrived stone\", \"arrives cold\", \"arrives cold\", \"arrives cold\", \"automated message\", \"automated message\", \"automated message\", \"automated message\", \"automated response\", \"automated response\", \"automated response\", \"automated response\", \"avoid like\", \"avoid like\", \"avoid like\", \"avoid like\", \"bad bad\", \"bad bad\", \"bad bad\", \"bad bad\", \"bad company\", \"bad company\", \"bad company\", \"bad company\", \"bad ever\", \"bad ever\", \"bad ever\", \"bad ever\", \"bad experience\", \"bad experience\", \"bad experience\", \"bad experience\", \"bad review\", \"bad review\", \"bad review\", \"bad review\", \"call back\", \"call back\", \"call back\", \"call back\", \"called restaurant\", \"called restaurant\", \"called restaurant\", \"called restaurant\", \"charged full\", \"charged full\", \"charged full\", \"charged full\", \"charged never\", \"charged never\", \"charged never\", \"code work\", \"code work\", \"cold inedible\", \"cold inedible\", \"cold inedible\", \"cold inedible\", \"cold missing\", \"cold missing\", \"cold soggy\", \"cold soggy\", \"cold soggy\", \"company bad\", \"company bad\", \"company bad\", \"company bad\", \"company ever\", \"company ever\", \"company ever\", \"company ever\", \"company never\", \"company never\", \"company never\", \"company never\", \"completely wrong\", \"completely wrong\", \"completely wrong\", \"completely wrong\", \"contacted eats\", \"contacted eats\", \"contacted eats\", \"contacted eats\", \"contacted support\", \"contacted support\", \"contacted support\", \"contacted support\", \"copy paste\", \"copy paste\", \"copy paste\", \"copy paste\", \"correct address\", \"correct address\", \"correct address\", \"correct address\", \"day late\", \"day late\", \"day late\", \"day late\", \"delivered different\", \"delivered different\", \"delivered different\", \"delivered different\", \"delivered time\", \"delivered time\", \"delivered time\", \"delivered time\", \"delivered wrong\", \"delivered wrong\", \"delivered wrong\", \"delivered wrong\", \"different address\", \"different address\", \"different address\", \"direct restaurant\", \"direct restaurant\", \"direct restaurant\", \"direct restaurant\", \"discount code\", \"discount code\", \"disgusting company\", \"disgusting company\", \"disgusting company\", \"disgusting company\", \"eats app\", \"eats app\", \"eats app\", \"eats app\", \"eats refused\", \"eats refused\", \"eats refused\", \"eats refused\", \"ever experienced\", \"ever experienced\", \"ever experienced\", \"ever experienced\", \"every single\", \"every single\", \"every single\", \"every single\", \"every time\", \"every time\", \"every time\", \"every time\", \"experience ever\", \"experience ever\", \"experience ever\", \"experience ever\", \"find house\", \"find house\", \"find house\", \"find house\", \"first last\", \"first last\", \"first last\", \"first last\", \"first time\", \"first time\", \"first time\", \"first time\", \"freezing cold\", \"freezing cold\", \"freezing cold\", \"freezing cold\", \"front door\", \"front door\", \"front door\", \"front door\", \"full amount\", \"full amount\", \"full amount\", \"full amount\", \"full price\", \"full price\", \"full price\", \"gift card\", \"gift card\", \"gift card\", \"go wrong\", \"go wrong\", \"go wrong\", \"go wrong\", \"good experience\", \"good experience\", \"good experience\", \"good experience\", \"got delivered\", \"got delivered\", \"got delivered\", \"got delivered\", \"got money\", \"got money\", \"got money\", \"got money\", \"half hour\", \"half hour\", \"half hour\", \"half hour\", \"half missing\", \"half missing\", \"half missing\", \"half missing\", \"happy meal\", \"happy meal\", \"happy meal\", \"hour ago\", \"hour ago\", \"hour ago\", \"hour ago\", \"hour half\", \"hour half\", \"hour half\", \"hour half\", \"hour late\", \"hour late\", \"hour late\", \"hour late\", \"hour waiting\", \"hour waiting\", \"hour waiting\", \"hour waiting\", \"ice cold\", \"ice cold\", \"ice cream\", \"ice cream\", \"ice cream\", \"ice cream\", \"item delivered\", \"item delivered\", \"item delivered\", \"item delivered\", \"item missing\", \"item missing\", \"item missing\", \"item missing\", \"keep sending\", \"keep sending\", \"keep sending\", \"keep sending\", \"last night\", \"last night\", \"last night\", \"last night\", \"last order\", \"last order\", \"last order\", \"last order\", \"last time\", \"last time\", \"last time\", \"last time\", \"late cold\", \"late cold\", \"late cold\", \"late cold\", \"late still\", \"late still\", \"late still\", \"late still\", \"late stone\", \"late stone\", \"late stone\", \"like plague\", \"like plague\", \"like plague\", \"like plague\", \"live chat\", \"live chat\", \"live chat\", \"live chat\", \"long time\", \"long time\", \"long time\", \"long time\", \"make sure\", \"make sure\", \"make sure\", \"make sure\", \"marked delivered\", \"marked delivered\", \"marked delivered\", \"marked delivered\", \"meal missing\", \"meal missing\", \"meal missing\", \"meal missing\", \"mile away\", \"mile away\", \"mile away\", \"mile away\", \"min late\", \"min late\", \"min late\", \"min late\", \"minute late\", \"minute late\", \"minute late\", \"minute late\", \"missing item\", \"missing item\", \"missing item\", \"missing item\", \"money account\", \"money account\", \"money account\", \"money account\", \"money back\", \"money back\", \"money back\", \"money back\", \"money never\", \"money never\", \"money never\", \"money never\", \"much good\", \"much good\", \"much good\", \"much good\", \"nearly hour\", \"nearly hour\", \"nearly hour\", \"nearly hour\", \"never arrived\", \"never arrived\", \"never arrived\", \"never arrived\", \"never came\", \"never came\", \"never came\", \"never came\", \"never delivered\", \"never delivered\", \"never delivered\", \"never delivered\", \"never eats\", \"never eats\", \"never eats\", \"never eats\", \"never got\", \"never got\", \"never got\", \"never got\", \"never received\", \"never received\", \"never received\", \"never received\", \"never turned\", \"never turned\", \"never turned\", \"never turned\", \"never used\", \"never used\", \"never used\", \"never used\", \"never using\", \"never using\", \"never using\", \"never using\", \"next time\", \"next time\", \"next time\", \"next time\", \"non existent\", \"non existent\", \"non existent\", \"non existent\", \"one hour\", \"one hour\", \"one hour\", \"one hour\", \"one item\", \"one item\", \"one item\", \"one item\", \"order missing\", \"order missing\", \"order missing\", \"order missing\", \"ordered eats\", \"ordered eats\", \"ordered eats\", \"ordered eats\", \"ordered kfc\", \"ordered kfc\", \"ordered kfc\", \"ordered kfc\", \"ordered mcdonald\", \"ordered mcdonald\", \"ordered mcdonald\", \"ordered mcdonald\", \"ordered meal\", \"ordered meal\", \"ordered meal\", \"ordered meal\", \"ordered never\", \"ordered never\", \"ordered never\", \"ordered never\", \"ordered twice\", \"ordered twice\", \"ordered twice\", \"ordered twice\", \"outside door\", \"outside door\", \"outside door\", \"outside house\", \"outside house\", \"outside house\", \"pay extra\", \"pay extra\", \"pay extra\", \"pay extra\", \"payment method\", \"payment method\", \"payment method\", \"payment method\", \"people money\", \"people money\", \"people money\", \"people money\", \"phone call\", \"phone call\", \"phone call\", \"phone call\", \"phone number\", \"phone number\", \"phone number\", \"phone number\", \"promo code\", \"promo code\", \"promotion code\", \"promotion code\", \"promotion code\", \"promotion code\", \"rang restaurant\", \"rang restaurant\", \"rang restaurant\", \"rang restaurant\", \"read review\", \"read review\", \"read review\", \"read review\", \"really bad\", \"really bad\", \"really bad\", \"really bad\", \"refused money\", \"refused money\", \"refused money\", \"refused money\", \"resolve issue\", \"resolve issue\", \"resolve issue\", \"resolve issue\", \"restaurant closed\", \"restaurant closed\", \"restaurant closed\", \"restaurant closed\", \"restaurant said\", \"restaurant said\", \"restaurant said\", \"restaurant said\", \"said delivered\", \"said delivered\", \"said delivered\", \"said delivered\", \"said would\", \"said would\", \"said would\", \"said would\", \"save money\", \"save money\", \"save money\", \"save money\", \"second time\", \"second time\", \"second time\", \"second time\", \"sent wrong\", \"sent wrong\", \"sent wrong\", \"sent wrong\", \"several time\", \"several time\", \"several time\", \"several time\", \"single time\", \"single time\", \"single time\", \"single time\", \"someone else\", \"someone else\", \"someone else\", \"someone else\", \"something missing\", \"something missing\", \"something missing\", \"star would\", \"star would\", \"star would\", \"star would\", \"stay away\", \"stay away\", \"stay away\", \"stay away\", \"steal money\", \"steal money\", \"steal money\", \"steal money\", \"still charged\", \"still charged\", \"still charged\", \"still charged\", \"still waiting\", \"still waiting\", \"still waiting\", \"still waiting\", \"stone cold\", \"stone cold\", \"stone cold\", \"stone cold\", \"support team\", \"support team\", \"support team\", \"support team\", \"taco bell\", \"taco bell\", \"taco bell\", \"taco bell\", \"take money\", \"take money\", \"take money\", \"take money\", \"take responsibility\", \"take responsibility\", \"take responsibility\", \"take responsibility\", \"thing go\", \"thing go\", \"thing go\", \"thing go\", \"time happened\", \"time happened\", \"time happened\", \"time happened\", \"time issue\", \"time issue\", \"time issue\", \"time issue\", \"time money\", \"time money\", \"time money\", \"time money\", \"time ordered\", \"time ordered\", \"time ordered\", \"time ordered\", \"time time\", \"time time\", \"time time\", \"time time\", \"time using\", \"time using\", \"time using\", \"time using\", \"told would\", \"told would\", \"told would\", \"told would\", \"took hour\", \"took hour\", \"took hour\", \"took hour\", \"took long\", \"took long\", \"took long\", \"took long\", \"took money\", \"took money\", \"took money\", \"took money\", \"treat customer\", \"treat customer\", \"treat customer\", \"treat customer\", \"tried call\", \"tried call\", \"tried call\", \"tried call\", \"tried calling\", \"tried calling\", \"tried calling\", \"tried calling\", \"tried contact\", \"tried contact\", \"tried contact\", \"tried contact\", \"tried contacting\", \"tried contacting\", \"tried contacting\", \"tried contacting\", \"two hour\", \"two hour\", \"two hour\", \"two hour\", \"used eats\", \"used eats\", \"used eats\", \"used eats\", \"used ubereats\", \"used ubereats\", \"used ubereats\", \"used ubereats\", \"using app\", \"using app\", \"using app\", \"using app\", \"using eats\", \"using eats\", \"using eats\", \"using eats\", \"using ubereats\", \"using ubereats\", \"using ubereats\", \"using ubereats\", \"wait hour\", \"wait hour\", \"wait hour\", \"wait hour\", \"waited hour\", \"waited hour\", \"waited hour\", \"waited hour\", \"waited outside\", \"waited outside\", \"waiting hour\", \"waiting hour\", \"waiting hour\", \"waiting hour\", \"waste time\", \"waste time\", \"waste time\", \"waste time\", \"went wrong\", \"went wrong\", \"went wrong\", \"went wrong\", \"would take\", \"would take\", \"would take\", \"would take\", \"wrong address\", \"wrong address\", \"wrong address\", \"wrong address\", \"wrong item\", \"wrong item\", \"wrong item\", \"wrong item\", \"zero star\", \"zero star\", \"zero star\", \"zero star\"]}, \"R\": 30, \"lambda.step\": 0.01, \"plot.opts\": {\"xlab\": \"PC1\", \"ylab\": \"PC2\"}, \"topic.order\": [3, 1, 2, 4]};\n",
       "\n",
       "function LDAvis_load_lib(url, callback){\n",
       "  var s = document.createElement('script');\n",
       "  s.src = url;\n",
       "  s.async = true;\n",
       "  s.onreadystatechange = s.onload = callback;\n",
       "  s.onerror = function(){console.warn(\"failed to load library \" + url);};\n",
       "  document.getElementsByTagName(\"head\")[0].appendChild(s);\n",
       "}\n",
       "\n",
       "if(typeof(LDAvis) !== \"undefined\"){\n",
       "   // already loaded: just create the visualization\n",
       "   !function(LDAvis){\n",
       "       new LDAvis(\"#\" + \"ldavis_el2236828281162989928355640586\", ldavis_el2236828281162989928355640586_data);\n",
       "   }(LDAvis);\n",
       "}else if(typeof define === \"function\" && define.amd){\n",
       "   // require.js is available: use it to load d3/LDAvis\n",
       "   require.config({paths: {d3: \"https://d3js.org/d3.v5\"}});\n",
       "   require([\"d3\"], function(d3){\n",
       "      window.d3 = d3;\n",
       "      LDAvis_load_lib(\"https://cdn.jsdelivr.net/gh/bmabey/pyLDAvis@3.2.2/pyLDAvis/js/ldavis.v3.0.0.js\", function(){\n",
       "        new LDAvis(\"#\" + \"ldavis_el2236828281162989928355640586\", ldavis_el2236828281162989928355640586_data);\n",
       "      });\n",
       "    });\n",
       "}else{\n",
       "    // require.js not available: dynamically load d3 & LDAvis\n",
       "    LDAvis_load_lib(\"https://d3js.org/d3.v5.js\", function(){\n",
       "         LDAvis_load_lib(\"https://cdn.jsdelivr.net/gh/bmabey/pyLDAvis@3.2.2/pyLDAvis/js/ldavis.v3.0.0.js\", function(){\n",
       "                 new LDAvis(\"#\" + \"ldavis_el2236828281162989928355640586\", ldavis_el2236828281162989928355640586_data);\n",
       "            })\n",
       "         });\n",
       "}\n",
       "</script>"
      ],
      "text/plain": [
       "<IPython.core.display.HTML object>"
      ]
     },
     "execution_count": 146,
     "metadata": {},
     "output_type": "execute_result"
    }
   ],
   "source": [
    "%matplotlib inline\n",
    "\n",
    "import pyLDAvis\n",
    "import pyLDAvis.gensim\n",
    "\n",
    "vis = pyLDAvis.gensim.prepare(topic_model=lda_model, corpus=corpus, dictionary=dictionary_LDA)\n",
    "pyLDAvis.enable_notebook()\n",
    "pyLDAvis.display(vis)"
   ]
  }
 ],
 "metadata": {
  "kernelspec": {
   "display_name": "Python 3",
   "language": "python",
   "name": "python3"
  },
  "language_info": {
   "codemirror_mode": {
    "name": "ipython",
    "version": 3
   },
   "file_extension": ".py",
   "mimetype": "text/x-python",
   "name": "python",
   "nbconvert_exporter": "python",
   "pygments_lexer": "ipython3",
   "version": "3.6.5"
  }
 },
 "nbformat": 4,
 "nbformat_minor": 2
}
