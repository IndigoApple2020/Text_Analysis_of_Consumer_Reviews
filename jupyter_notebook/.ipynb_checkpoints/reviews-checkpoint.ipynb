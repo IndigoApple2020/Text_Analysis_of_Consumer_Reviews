{
 "cells": [
  {
   "cell_type": "markdown",
   "metadata": {},
   "source": [
    "# Latent Dirichlet Allocation for Topic Modelling on Customer Reviews: The case of UK Delivery Companies \n",
    "\n",
    "**Author: Georgios Spyrou (https://github.com/gpsyrou)**\n",
    "\n",
    "_Last Update: 22/05/2021_\n",
    "\n",
    "<img src=\"../img/projectimage.png\" alt=\"Sentiment Picture\" width=\"820\" height=\"640\">\n",
    "\n",
    "### Sections\n",
    "- <a href=\"#project_idea\" style=\"text-decoration: none\"> Project Description</a>\n",
    "- <a href=\"#data_retrieval\" style=\"text-decoration: none\"> Web-Scrapping Tool and Data Retrieval</a>\n",
    "- <a href=\"#data_cleaning_eda\" style=\"text-decoration: none\"> Data Cleaning & Initial Exploratory Data Analysis (EDA)</a>\n",
    "    - <a href=\"#data_preprocessing\" style=\"text-decoration: none\"> Data Preprocessing </a>\n",
    "    - <a href=\"#eda\" style=\"text-decoration: none\"> Exploratory Data Analysis </a>\n",
    "- <a href=\"#lda\" style=\"text-decoration: none\"> Latent Dirichlet Allocation model </a>\n",
    "    - <a href=\"#bigrams_lda\" style=\"text-decoration: none\"> Compute bigrams as LDA input </a>"
   ]
  },
  {
   "cell_type": "markdown",
   "metadata": {},
   "source": [
    "<a id='project_idea'></a>\n",
    "### Introduction\n",
    "\n",
    "In this project we are going to explore the world of logistic companies and the issues that they might be facing. Specifically, we are going to focus on analyzing data regarding a few of the most well-known delivery companies in the UK, namely <a href=\"https://en.wikipedia.org/wiki/Deliveroo\" style=\"text-decoration:none\"> Deliveroo</a>, <a href=\"https://en.wikipedia.org/wiki/UberEats\" style=\"text-decoration:none\"> UberEats</a>, <a href=\"https://en.wikipedia.org/wiki/Just_Eat\" style=\"text-decoration:none\"> Just Eat</a> and <a href=\"https://stuart.com/\" style=\"text-decoration:none\"> Stuart</a>. To do that we are going to utilize the internet and the reviews that we can find in many different platforms, especially these platforms that are specializing at collecting reviews and opininions of customers for a plethora of companies and services. \n",
    "\n",
    "The first iteration of this project it's using the reviews that can be found in the famous consumer review website <a href=\"https://en.wikipedia.org/wiki/Trustpilot\" style=\"text-decoration:none\"> TrustPilot</a>. Even though the website is already providing some API functionalities, we are going to write our own web-scraping tool to retrieve the data in the format that we want. We will attempt to collect as many reviews as possible and then use them to identify interesting findings in the text. For example, we will try to identify what is the sentiment across all reviews for a specific company, what are the most common words and bigrams (i.e. pairs of words that tend to appear next to each other) in the reviews, and more. Finally, we will implement a <a href=\"https://en.wikipedia.org/wiki/Latent_Dirichlet_allocation\" style=\"text-decoration:none\"> Latent Dirichlet Allocation</a> model to try and identify what are the topics that these reviews correspond to.\n",
    "\n",
    "\n",
    "We are going to discuss the specifics in more depth as we are going through the different parts of the project. As a starting point of course, we need to collect the relevant reviews for the aforementioned group of delivery companies.\n",
    "\n",
    "<a id='data_retrieval'></a>\n",
    "### Web-Scrapping Tool and Data Retrieval\n",
    "\n",
    "In order to collect the reviews directly from the TrustPilot website, we have created a web-scrapping tool that allowed us to automate this process across different companies & their corresponding reviews. This tool is iterating across different pages of the website and collects the reviews and any other relevant information, with the output being stored in csv files. Moreover, we have packaged the tool into a python library. Hence, if you are thinking of working on a similar project where you need to retrieve data from TrustPilot, you can install the package that you can find <a href=\"https://github.com/gpsyrou/Text_Analysis_of_Consumer_Reviews/blob/main/trustplt.py\" style=\"text-decoration:none\">here</a>. As of May 2021, the package contains the main functionalities to collect many different information from the website, like the reviews, reviewer_id, date of the review, user rating, and more. \n",
    "\n",
    "For the first iteration of the project, we have built the aforementioned package with the functionality to retrieve the following information - which will also be the features in our dataset:\n",
    "\n",
    "1. **Company**: Name of the Company that we are examining (e.g. Deliveroo, UberEats, JustEat, Stuart)\n",
    "2. **Id**: The unique identifier for the Review\n",
    "3. **Reviewer_Id**: Unique id for a reviewer/user\n",
    "4. **Title**: Title of the review\n",
    "5. **Review**: The text corresponding to the review submitted from the reviewer\n",
    "6. **Date**: Day of review submission\n",
    "7. **Rating**: The rating about the company, as submitted from the reviewer\n",
    "\n",
    "Thus, after collecting the data and save them in a CSV format, we can by having a first look at the data and familiarize ourselves with the features. "
   ]
  },
  {
   "cell_type": "code",
   "execution_count": 69,
   "metadata": {},
   "outputs": [],
   "source": [
    "import os\n",
    "import string\n",
    "import numpy as np\n",
    "import pandas as pd\n",
    "from typing import List\n",
    "from collections import Counter\n",
    "\n",
    "import seaborn as sns\n",
    "sns.set_style('dark')\n",
    "\n",
    "import matplotlib.pyplot as plt\n",
    "from wordcloud import WordCloud\n",
    "\n",
    "from nltk import word_tokenize\n",
    "from nltk.util import ngrams\n",
    "from nltk.corpus import stopwords\n",
    "from nltk.collocations import BigramCollocationFinder\n",
    "from nltk.stem import WordNetLemmatizer, PorterStemmer\n",
    "\n",
    "from IPython.display import display, HTML\n",
    "\n",
    "project_dir = r'D:\\GitHub\\Projects\\Analysis_of_Delivery_Companies_Reviews'\n",
    "os.chdir(project_dir)\n",
    "\n",
    "from helpers.utilities import splitRatingsColumn, getRatingsMapping"
   ]
  },
  {
   "cell_type": "code",
   "execution_count": 70,
   "metadata": {},
   "outputs": [],
   "source": [
    "reviews_base_file = os.path.join(project_dir, 'reviews.csv')"
   ]
  },
  {
   "cell_type": "code",
   "execution_count": 71,
   "metadata": {},
   "outputs": [
    {
     "data": {
      "text/plain": [
       "{1: 'Bad', 2: 'Poor', 3: 'Average', 4: 'Great', 5: 'Excellent'}"
      ]
     },
     "execution_count": 71,
     "metadata": {},
     "output_type": "execute_result"
    }
   ],
   "source": [
    "col_names = ['Company', 'Id', 'Reviewer_Id', 'Title', 'Review', 'Date', 'Rating']\n",
    "\n",
    "ratings_dict = getRatingsMapping()\n",
    "ratings_dict"
   ]
  },
  {
   "cell_type": "code",
   "execution_count": 72,
   "metadata": {},
   "outputs": [],
   "source": [
    "reviews_df = pd.read_csv(reviews_base_file, sep=',')"
   ]
  },
  {
   "cell_type": "markdown",
   "metadata": {},
   "source": [
    "<a id='data_cleaning_eda'></a>\n",
    "### Data Cleaning & Exploratory Data Analysis\n",
    "\n",
    "Here we can have an initial look about the information contained in the dataset - Please note that each row in the dataset corresponds to a different _review_ :"
   ]
  },
  {
   "cell_type": "code",
   "execution_count": 73,
   "metadata": {},
   "outputs": [
    {
     "data": {
      "text/html": [
       "<div>\n",
       "<style scoped>\n",
       "    .dataframe tbody tr th:only-of-type {\n",
       "        vertical-align: middle;\n",
       "    }\n",
       "\n",
       "    .dataframe tbody tr th {\n",
       "        vertical-align: top;\n",
       "    }\n",
       "\n",
       "    .dataframe thead th {\n",
       "        text-align: right;\n",
       "    }\n",
       "</style>\n",
       "<table border=\"1\" class=\"dataframe\">\n",
       "  <thead>\n",
       "    <tr style=\"text-align: right;\">\n",
       "      <th></th>\n",
       "      <th>Company</th>\n",
       "      <th>Id</th>\n",
       "      <th>Reviewer_Id</th>\n",
       "      <th>Title</th>\n",
       "      <th>Review</th>\n",
       "      <th>Date</th>\n",
       "      <th>Rating</th>\n",
       "    </tr>\n",
       "  </thead>\n",
       "  <tbody>\n",
       "    <tr>\n",
       "      <th>0</th>\n",
       "      <td>Deliveroo</td>\n",
       "      <td>60709f95f85d75087052ff8b</td>\n",
       "      <td>60709f8f0a30fd001b06dc52</td>\n",
       "      <td>Ordered food and apparently the driver…</td>\n",
       "      <td>Ordered food and apparently the driver was wai...</td>\n",
       "      <td>2021-04-09 18:40</td>\n",
       "      <td>{2: 'Poor'}</td>\n",
       "    </tr>\n",
       "    <tr>\n",
       "      <th>1</th>\n",
       "      <td>Deliveroo</td>\n",
       "      <td>60708710f85d75087052c89b</td>\n",
       "      <td>6070870c2158190019b3ab8e</td>\n",
       "      <td>Disgusting Live Customer Service CHAT!!!</td>\n",
       "      <td>I received standard bag of buttons that cost £...</td>\n",
       "      <td>2021-04-09 16:55</td>\n",
       "      <td>{1: 'Bad'}</td>\n",
       "    </tr>\n",
       "    <tr>\n",
       "      <th>2</th>\n",
       "      <td>Deliveroo</td>\n",
       "      <td>60707b91f85d75087052abb6</td>\n",
       "      <td>602eb3ac49aeca0019ad4b70</td>\n",
       "      <td>Just had an appalling experience with…</td>\n",
       "      <td>Just had an appalling experience with delivero...</td>\n",
       "      <td>2021-04-09 16:06</td>\n",
       "      <td>{1: 'Bad'}</td>\n",
       "    </tr>\n",
       "    <tr>\n",
       "      <th>3</th>\n",
       "      <td>Deliveroo</td>\n",
       "      <td>60705919f85d7508705251d4</td>\n",
       "      <td>60705856348d93001ad1ca1f</td>\n",
       "      <td>The same situation happened twice</td>\n",
       "      <td>The same situation happened twice. I ordered f...</td>\n",
       "      <td>2021-04-09 13:39</td>\n",
       "      <td>{2: 'Poor'}</td>\n",
       "    </tr>\n",
       "    <tr>\n",
       "      <th>4</th>\n",
       "      <td>Deliveroo</td>\n",
       "      <td>60705138f85d750870523d4d</td>\n",
       "      <td>6070512519dc76001aebe4b1</td>\n",
       "      <td>Driver left without giving us food</td>\n",
       "      <td>Driver turned up late couldn’t find us and lef...</td>\n",
       "      <td>2021-04-09 13:06</td>\n",
       "      <td>{1: 'Bad'}</td>\n",
       "    </tr>\n",
       "  </tbody>\n",
       "</table>\n",
       "</div>"
      ],
      "text/plain": [
       "     Company                        Id               Reviewer_Id  \\\n",
       "0  Deliveroo  60709f95f85d75087052ff8b  60709f8f0a30fd001b06dc52   \n",
       "1  Deliveroo  60708710f85d75087052c89b  6070870c2158190019b3ab8e   \n",
       "2  Deliveroo  60707b91f85d75087052abb6  602eb3ac49aeca0019ad4b70   \n",
       "3  Deliveroo  60705919f85d7508705251d4  60705856348d93001ad1ca1f   \n",
       "4  Deliveroo  60705138f85d750870523d4d  6070512519dc76001aebe4b1   \n",
       "\n",
       "                                      Title  \\\n",
       "0   Ordered food and apparently the driver…   \n",
       "1  Disgusting Live Customer Service CHAT!!!   \n",
       "2    Just had an appalling experience with…   \n",
       "3         The same situation happened twice   \n",
       "4        Driver left without giving us food   \n",
       "\n",
       "                                              Review              Date  \\\n",
       "0  Ordered food and apparently the driver was wai...  2021-04-09 18:40   \n",
       "1  I received standard bag of buttons that cost £...  2021-04-09 16:55   \n",
       "2  Just had an appalling experience with delivero...  2021-04-09 16:06   \n",
       "3  The same situation happened twice. I ordered f...  2021-04-09 13:39   \n",
       "4  Driver turned up late couldn’t find us and lef...  2021-04-09 13:06   \n",
       "\n",
       "        Rating  \n",
       "0  {2: 'Poor'}  \n",
       "1   {1: 'Bad'}  \n",
       "2   {1: 'Bad'}  \n",
       "3  {2: 'Poor'}  \n",
       "4   {1: 'Bad'}  "
      ]
     },
     "execution_count": 73,
     "metadata": {},
     "output_type": "execute_result"
    }
   ],
   "source": [
    "reviews_df.head()"
   ]
  },
  {
   "cell_type": "markdown",
   "metadata": {},
   "source": [
    "We can see that the _Title_ of the review sometimes seems to correspond to the first few words/lines of the full _Review_, while some other times appears to be a small summary. At the same time we can observe that the _Rating_ provides us with some useful information about how the Reviewer felt regarding the company's service on that specific occasion."
   ]
  },
  {
   "cell_type": "code",
   "execution_count": 74,
   "metadata": {},
   "outputs": [
    {
     "name": "stdout",
     "output_type": "stream",
     "text": [
      "There are 17640 reviews (rows) and 7 features in the dataset\n"
     ]
    }
   ],
   "source": [
    "print(f'There are {reviews_df.shape[0]} reviews (rows) and {reviews_df.shape[1]} features in the dataset')"
   ]
  },
  {
   "cell_type": "code",
   "execution_count": 75,
   "metadata": {},
   "outputs": [
    {
     "data": {
      "text/plain": [
       "UberEats     8740\n",
       "Deliveroo    6360\n",
       "JustEat      2340\n",
       "Stuart        200\n",
       "Name: Company, dtype: int64"
      ]
     },
     "execution_count": 75,
     "metadata": {},
     "output_type": "execute_result"
    }
   ],
   "source": [
    "reviews_df['Company'].value_counts()"
   ]
  },
  {
   "cell_type": "markdown",
   "metadata": {},
   "source": [
    "We can check if there are any missing values in the dataset, or if there are rows that are duplicates:"
   ]
  },
  {
   "cell_type": "code",
   "execution_count": 76,
   "metadata": {},
   "outputs": [
    {
     "name": "stdout",
     "output_type": "stream",
     "text": [
      "There are 57 duplicate reviews in the dataset\n"
     ]
    }
   ],
   "source": [
    "num_duplicate_reviews = reviews_df.duplicated('Id').sum()\n",
    "print(f'There are {num_duplicate_reviews} duplicate reviews in the dataset')"
   ]
  },
  {
   "cell_type": "markdown",
   "metadata": {},
   "source": [
    "Dropping the duplicate reviews"
   ]
  },
  {
   "cell_type": "code",
   "execution_count": 77,
   "metadata": {},
   "outputs": [
    {
     "data": {
      "text/plain": [
       "0"
      ]
     },
     "execution_count": 77,
     "metadata": {},
     "output_type": "execute_result"
    }
   ],
   "source": [
    "reviews_df.drop_duplicates(inplace=True)\n",
    "reviews_df.duplicated('Id').sum()"
   ]
  },
  {
   "cell_type": "code",
   "execution_count": 78,
   "metadata": {},
   "outputs": [
    {
     "data": {
      "text/html": [
       "<div>\n",
       "<style scoped>\n",
       "    .dataframe tbody tr th:only-of-type {\n",
       "        vertical-align: middle;\n",
       "    }\n",
       "\n",
       "    .dataframe tbody tr th {\n",
       "        vertical-align: top;\n",
       "    }\n",
       "\n",
       "    .dataframe thead th {\n",
       "        text-align: right;\n",
       "    }\n",
       "</style>\n",
       "<table border=\"1\" class=\"dataframe\">\n",
       "  <thead>\n",
       "    <tr style=\"text-align: right;\">\n",
       "      <th></th>\n",
       "      <th>Missing_Values</th>\n",
       "    </tr>\n",
       "  </thead>\n",
       "  <tbody>\n",
       "    <tr>\n",
       "      <th>Company</th>\n",
       "      <td>0</td>\n",
       "    </tr>\n",
       "    <tr>\n",
       "      <th>Id</th>\n",
       "      <td>0</td>\n",
       "    </tr>\n",
       "    <tr>\n",
       "      <th>Reviewer_Id</th>\n",
       "      <td>0</td>\n",
       "    </tr>\n",
       "    <tr>\n",
       "      <th>Title</th>\n",
       "      <td>0</td>\n",
       "    </tr>\n",
       "    <tr>\n",
       "      <th>Review</th>\n",
       "      <td>240</td>\n",
       "    </tr>\n",
       "    <tr>\n",
       "      <th>Date</th>\n",
       "      <td>2886</td>\n",
       "    </tr>\n",
       "    <tr>\n",
       "      <th>Rating</th>\n",
       "      <td>0</td>\n",
       "    </tr>\n",
       "  </tbody>\n",
       "</table>\n",
       "</div>"
      ],
      "text/plain": [
       "             Missing_Values\n",
       "Company                   0\n",
       "Id                        0\n",
       "Reviewer_Id               0\n",
       "Title                     0\n",
       "Review                  240\n",
       "Date                   2886\n",
       "Rating                    0"
      ]
     },
     "execution_count": 78,
     "metadata": {},
     "output_type": "execute_result"
    }
   ],
   "source": [
    "pd.DataFrame(reviews_df.isna().sum(), columns=['Missing_Values'])"
   ]
  },
  {
   "cell_type": "markdown",
   "metadata": {},
   "source": [
    "From the queries above we can quickly see that initially we had some issues as there were 57 duplicate reviews, but we have used a pandas built-in function to remove them from the dataset. The duplication is caused due to the nature of retrieving data from by using the API, as we might process pages that we have already processed in the past, and that means retrieving the same reviews as before. Luckily, the _Id_ column is sufficient to identify unique reviews in the dataset, and hence it's easy to spot and fix duplication issues.\n",
    "\n",
    "Now, regarding the missing values there are a few cases where Review appears to be empty, as well as quite a few cases on missing dates. The later is not a massive issue at this stage of the project. On the other hand, the absence of reviews can be a big issue as this project is all about analyzing customer reviews, and hence rows that have no text corresponding to a review wouldn't provide much information. That said, as we saw above there is another feature (_Title_) which we can use as text for rows where the _Review_ is empty."
   ]
  },
  {
   "cell_type": "code",
   "execution_count": 79,
   "metadata": {},
   "outputs": [
    {
     "data": {
      "text/html": [
       "<div>\n",
       "<style scoped>\n",
       "    .dataframe tbody tr th:only-of-type {\n",
       "        vertical-align: middle;\n",
       "    }\n",
       "\n",
       "    .dataframe tbody tr th {\n",
       "        vertical-align: top;\n",
       "    }\n",
       "\n",
       "    .dataframe thead th {\n",
       "        text-align: right;\n",
       "    }\n",
       "</style>\n",
       "<table border=\"1\" class=\"dataframe\">\n",
       "  <thead>\n",
       "    <tr style=\"text-align: right;\">\n",
       "      <th></th>\n",
       "      <th>Company</th>\n",
       "      <th>Id</th>\n",
       "      <th>Reviewer_Id</th>\n",
       "      <th>Title</th>\n",
       "      <th>Review</th>\n",
       "      <th>Date</th>\n",
       "      <th>Rating</th>\n",
       "    </tr>\n",
       "  </thead>\n",
       "  <tbody>\n",
       "    <tr>\n",
       "      <th>45</th>\n",
       "      <td>Deliveroo</td>\n",
       "      <td>60684978f85d75087045ed91</td>\n",
       "      <td>60684973402b0e001a95af2d</td>\n",
       "      <td>Great service</td>\n",
       "      <td>NaN</td>\n",
       "      <td>2021-04-03 10:54</td>\n",
       "      <td>{5: 'Excellent'}</td>\n",
       "    </tr>\n",
       "    <tr>\n",
       "      <th>94</th>\n",
       "      <td>Deliveroo</td>\n",
       "      <td>606221b3f85d7508703c730e</td>\n",
       "      <td>5d73f4f179586ed7bad49d52</td>\n",
       "      <td>Very very disappointed bad service</td>\n",
       "      <td>NaN</td>\n",
       "      <td>2021-03-29 18:51</td>\n",
       "      <td>{1: 'Bad'}</td>\n",
       "    </tr>\n",
       "    <tr>\n",
       "      <th>114</th>\n",
       "      <td>Deliveroo</td>\n",
       "      <td>605f8f5df85d7508703919f5</td>\n",
       "      <td>5e8d9b9a6251456b37ed292e</td>\n",
       "      <td>CRAP nothing else to say!</td>\n",
       "      <td>NaN</td>\n",
       "      <td>2021-03-27 20:02</td>\n",
       "      <td>{1: 'Bad'}</td>\n",
       "    </tr>\n",
       "    <tr>\n",
       "      <th>137</th>\n",
       "      <td>Deliveroo</td>\n",
       "      <td>605e40ddf85d750870377a98</td>\n",
       "      <td>605cb15ead7256001bdc3948</td>\n",
       "      <td>A MILLION TIMES BETTER THAN UBER EATS</td>\n",
       "      <td>NaN</td>\n",
       "      <td>2021-03-26 20:15</td>\n",
       "      <td>{5: 'Excellent'}</td>\n",
       "    </tr>\n",
       "    <tr>\n",
       "      <th>201</th>\n",
       "      <td>Deliveroo</td>\n",
       "      <td>6054f264f85d750bf4f97e45</td>\n",
       "      <td>5d57f496959de5789bc062bd</td>\n",
       "      <td>Better to use Uber eats</td>\n",
       "      <td>NaN</td>\n",
       "      <td>2021-03-19 18:50</td>\n",
       "      <td>{1: 'Bad'}</td>\n",
       "    </tr>\n",
       "  </tbody>\n",
       "</table>\n",
       "</div>"
      ],
      "text/plain": [
       "       Company                        Id               Reviewer_Id  \\\n",
       "45   Deliveroo  60684978f85d75087045ed91  60684973402b0e001a95af2d   \n",
       "94   Deliveroo  606221b3f85d7508703c730e  5d73f4f179586ed7bad49d52   \n",
       "114  Deliveroo  605f8f5df85d7508703919f5  5e8d9b9a6251456b37ed292e   \n",
       "137  Deliveroo  605e40ddf85d750870377a98  605cb15ead7256001bdc3948   \n",
       "201  Deliveroo  6054f264f85d750bf4f97e45  5d57f496959de5789bc062bd   \n",
       "\n",
       "                                     Title Review              Date  \\\n",
       "45                           Great service    NaN  2021-04-03 10:54   \n",
       "94      Very very disappointed bad service    NaN  2021-03-29 18:51   \n",
       "114              CRAP nothing else to say!    NaN  2021-03-27 20:02   \n",
       "137  A MILLION TIMES BETTER THAN UBER EATS    NaN  2021-03-26 20:15   \n",
       "201                Better to use Uber eats    NaN  2021-03-19 18:50   \n",
       "\n",
       "               Rating  \n",
       "45   {5: 'Excellent'}  \n",
       "94         {1: 'Bad'}  \n",
       "114        {1: 'Bad'}  \n",
       "137  {5: 'Excellent'}  \n",
       "201        {1: 'Bad'}  "
      ]
     },
     "execution_count": 79,
     "metadata": {},
     "output_type": "execute_result"
    }
   ],
   "source": [
    "empty_reviews_sample = reviews_df[reviews_df['Review'].isnull()].head(5)\n",
    "empty_reviews_sample"
   ]
  },
  {
   "cell_type": "markdown",
   "metadata": {},
   "source": [
    "Apply the transformation"
   ]
  },
  {
   "cell_type": "code",
   "execution_count": 80,
   "metadata": {},
   "outputs": [],
   "source": [
    "reviews_df.loc[reviews_df['Review'].isnull(), 'Review'] = reviews_df['Title']"
   ]
  },
  {
   "cell_type": "markdown",
   "metadata": {},
   "source": [
    "and we can see how the transformation affected the dataset"
   ]
  },
  {
   "cell_type": "code",
   "execution_count": 81,
   "metadata": {},
   "outputs": [
    {
     "data": {
      "text/html": [
       "<div>\n",
       "<style scoped>\n",
       "    .dataframe tbody tr th:only-of-type {\n",
       "        vertical-align: middle;\n",
       "    }\n",
       "\n",
       "    .dataframe tbody tr th {\n",
       "        vertical-align: top;\n",
       "    }\n",
       "\n",
       "    .dataframe thead th {\n",
       "        text-align: right;\n",
       "    }\n",
       "</style>\n",
       "<table border=\"1\" class=\"dataframe\">\n",
       "  <thead>\n",
       "    <tr style=\"text-align: right;\">\n",
       "      <th></th>\n",
       "      <th>Company</th>\n",
       "      <th>Id</th>\n",
       "      <th>Reviewer_Id</th>\n",
       "      <th>Title</th>\n",
       "      <th>Review</th>\n",
       "      <th>Date</th>\n",
       "      <th>Rating</th>\n",
       "    </tr>\n",
       "  </thead>\n",
       "  <tbody>\n",
       "    <tr>\n",
       "      <th>45</th>\n",
       "      <td>Deliveroo</td>\n",
       "      <td>60684978f85d75087045ed91</td>\n",
       "      <td>60684973402b0e001a95af2d</td>\n",
       "      <td>Great service</td>\n",
       "      <td>Great service</td>\n",
       "      <td>2021-04-03 10:54</td>\n",
       "      <td>{5: 'Excellent'}</td>\n",
       "    </tr>\n",
       "    <tr>\n",
       "      <th>94</th>\n",
       "      <td>Deliveroo</td>\n",
       "      <td>606221b3f85d7508703c730e</td>\n",
       "      <td>5d73f4f179586ed7bad49d52</td>\n",
       "      <td>Very very disappointed bad service</td>\n",
       "      <td>Very very disappointed bad service</td>\n",
       "      <td>2021-03-29 18:51</td>\n",
       "      <td>{1: 'Bad'}</td>\n",
       "    </tr>\n",
       "    <tr>\n",
       "      <th>114</th>\n",
       "      <td>Deliveroo</td>\n",
       "      <td>605f8f5df85d7508703919f5</td>\n",
       "      <td>5e8d9b9a6251456b37ed292e</td>\n",
       "      <td>CRAP nothing else to say!</td>\n",
       "      <td>CRAP nothing else to say!</td>\n",
       "      <td>2021-03-27 20:02</td>\n",
       "      <td>{1: 'Bad'}</td>\n",
       "    </tr>\n",
       "    <tr>\n",
       "      <th>137</th>\n",
       "      <td>Deliveroo</td>\n",
       "      <td>605e40ddf85d750870377a98</td>\n",
       "      <td>605cb15ead7256001bdc3948</td>\n",
       "      <td>A MILLION TIMES BETTER THAN UBER EATS</td>\n",
       "      <td>A MILLION TIMES BETTER THAN UBER EATS</td>\n",
       "      <td>2021-03-26 20:15</td>\n",
       "      <td>{5: 'Excellent'}</td>\n",
       "    </tr>\n",
       "    <tr>\n",
       "      <th>201</th>\n",
       "      <td>Deliveroo</td>\n",
       "      <td>6054f264f85d750bf4f97e45</td>\n",
       "      <td>5d57f496959de5789bc062bd</td>\n",
       "      <td>Better to use Uber eats</td>\n",
       "      <td>Better to use Uber eats</td>\n",
       "      <td>2021-03-19 18:50</td>\n",
       "      <td>{1: 'Bad'}</td>\n",
       "    </tr>\n",
       "  </tbody>\n",
       "</table>\n",
       "</div>"
      ],
      "text/plain": [
       "       Company                        Id               Reviewer_Id  \\\n",
       "45   Deliveroo  60684978f85d75087045ed91  60684973402b0e001a95af2d   \n",
       "94   Deliveroo  606221b3f85d7508703c730e  5d73f4f179586ed7bad49d52   \n",
       "114  Deliveroo  605f8f5df85d7508703919f5  5e8d9b9a6251456b37ed292e   \n",
       "137  Deliveroo  605e40ddf85d750870377a98  605cb15ead7256001bdc3948   \n",
       "201  Deliveroo  6054f264f85d750bf4f97e45  5d57f496959de5789bc062bd   \n",
       "\n",
       "                                     Title  \\\n",
       "45                           Great service   \n",
       "94      Very very disappointed bad service   \n",
       "114              CRAP nothing else to say!   \n",
       "137  A MILLION TIMES BETTER THAN UBER EATS   \n",
       "201                Better to use Uber eats   \n",
       "\n",
       "                                    Review              Date            Rating  \n",
       "45                           Great service  2021-04-03 10:54  {5: 'Excellent'}  \n",
       "94      Very very disappointed bad service  2021-03-29 18:51        {1: 'Bad'}  \n",
       "114              CRAP nothing else to say!  2021-03-27 20:02        {1: 'Bad'}  \n",
       "137  A MILLION TIMES BETTER THAN UBER EATS  2021-03-26 20:15  {5: 'Excellent'}  \n",
       "201                Better to use Uber eats  2021-03-19 18:50        {1: 'Bad'}  "
      ]
     },
     "execution_count": 81,
     "metadata": {},
     "output_type": "execute_result"
    }
   ],
   "source": [
    "reviews_df.iloc[list(empty_reviews_sample.index)]"
   ]
  },
  {
   "cell_type": "code",
   "execution_count": 82,
   "metadata": {},
   "outputs": [
    {
     "data": {
      "text/html": [
       "<div>\n",
       "<style scoped>\n",
       "    .dataframe tbody tr th:only-of-type {\n",
       "        vertical-align: middle;\n",
       "    }\n",
       "\n",
       "    .dataframe tbody tr th {\n",
       "        vertical-align: top;\n",
       "    }\n",
       "\n",
       "    .dataframe thead th {\n",
       "        text-align: right;\n",
       "    }\n",
       "</style>\n",
       "<table border=\"1\" class=\"dataframe\">\n",
       "  <thead>\n",
       "    <tr style=\"text-align: right;\">\n",
       "      <th></th>\n",
       "      <th>Missing_Values</th>\n",
       "    </tr>\n",
       "  </thead>\n",
       "  <tbody>\n",
       "    <tr>\n",
       "      <th>Company</th>\n",
       "      <td>0</td>\n",
       "    </tr>\n",
       "    <tr>\n",
       "      <th>Id</th>\n",
       "      <td>0</td>\n",
       "    </tr>\n",
       "    <tr>\n",
       "      <th>Reviewer_Id</th>\n",
       "      <td>0</td>\n",
       "    </tr>\n",
       "    <tr>\n",
       "      <th>Title</th>\n",
       "      <td>0</td>\n",
       "    </tr>\n",
       "    <tr>\n",
       "      <th>Review</th>\n",
       "      <td>0</td>\n",
       "    </tr>\n",
       "    <tr>\n",
       "      <th>Date</th>\n",
       "      <td>2886</td>\n",
       "    </tr>\n",
       "    <tr>\n",
       "      <th>Rating</th>\n",
       "      <td>0</td>\n",
       "    </tr>\n",
       "  </tbody>\n",
       "</table>\n",
       "</div>"
      ],
      "text/plain": [
       "             Missing_Values\n",
       "Company                   0\n",
       "Id                        0\n",
       "Reviewer_Id               0\n",
       "Title                     0\n",
       "Review                    0\n",
       "Date                   2886\n",
       "Rating                    0"
      ]
     },
     "execution_count": 82,
     "metadata": {},
     "output_type": "execute_result"
    }
   ],
   "source": [
    "pd.DataFrame(reviews_df.isna().sum(), columns=['Missing_Values'])"
   ]
  },
  {
   "cell_type": "markdown",
   "metadata": {},
   "source": [
    "<a id='data_preprocessing'></a>\n",
    "### Data Preprocessing\n",
    "\n",
    "Now that we have familiarized a bit ourselves with the dataset and it's format, as well as conducted the initial data cleaning, we will move to one of the most important steps in any project - the data preprocessing. This section is especially important for cases where we have to deal with analysis of text, such as in this project. The reason is that text in raw format usually contains a lot of noise. This could later affect the performance of the algorithms - both in terms of computational power and the final output - due to very high dimensions of the dataset. This is happening as, like we are going to see soon, each unique word in each review will become a separate feature in the dataset. Hence, the more reviews we have the more unique words we gonna end up with in the final dataset before the analysis. \n",
    " \n",
    "Therefore, its essential to use  some common text preprocessing techniques to reduce the dimensions. As a summary, we are going to perform the following steps:\n",
    "\n",
    " 1) Perform **tokenization** of the reviews. This is a technique of transforming a sentence, into a list of words. For example, the sentence \"my order was great\" would become '['my', 'order', 'was', 'great'].\n",
    " \n",
    " 2) Remove from the reviews tokens that are **stopwords**. Stopwords are words inside text that do not provide much information and are usually getting removed from the initial sentence. Such words can be words like \"the\", \"a\", and more.\n",
    " \n",
    " 3) Remove tokens that correspond to **punctuation** marks (e.g. \"!\", \"?\") and **numbers**.\n",
    " \n",
    " 4) <a href=\"https://en.wikipedia.org/wiki/Stemming\" style=\"text-decoration:none\">Stemming</a> and <a href=\"https://en.wikipedia.org/wiki/Lemmatisation\" style=\"text-decoration:none\">Lemmatization</a>: These two methods are being used to transform a token into it's stem or lemma respectively. These two techniques help drammatically with the reduction of the dimensions as words end up being \"grouped\" under a specific form. In this project we are going to use lemmatization, as in general is a more advanced method compared to stemming, as lemmatization algorithms try to identify the part of speech of the token, and thus in some way they are preserving the meaning of the word (something that does not necessarily happen with stemming).\n",
    " \n",
    "Below we are going to perform all of these steps to get a \"cleaner\" version of the reviews:"
   ]
  },
  {
   "cell_type": "code",
   "execution_count": 83,
   "metadata": {},
   "outputs": [],
   "source": [
    "from nltk.corpus import stopwords\n",
    "\n",
    "stopwords_ls = stopwords.words('english')\n",
    "stopwords_ls.extend(['\\'d', '\\'m', '\\'s', '\\'ve', '\\'re', '\\'ll', 'n\\'t', '’'])"
   ]
  },
  {
   "cell_type": "markdown",
   "metadata": {},
   "source": [
    "Except the common english stopwords, it's necessary to enhance the list with some additional tokens that we want to exclude from the reviews. These are usually words that we would expect that are getting repeated in the reviews. In our case, as we are examining the case of delivery companies, it would be beneficial to exclude words like 'delivery', 'order', and more. Moreover, we are excluding the tokens that correspond to the names of the delivery companies, as we already have this information in the dataset as a different feature."
   ]
  },
  {
   "cell_type": "code",
   "execution_count": 84,
   "metadata": {},
   "outputs": [],
   "source": [
    "common_delivery_words = ['delivery', 'deliver', 'driver', 'order', 'uber', 'stuart',\n",
    "                         'deliveroo', 'food', 'use', 'get', 'service', 'customer', 'refund']\n",
    "\n",
    "stopwords_ls.extend(common_delivery_words)"
   ]
  },
  {
   "cell_type": "markdown",
   "metadata": {},
   "source": [
    "Moreover, we can see that the _Rating_ columns has values like the following: {1: 'Bad'}, so we are going to use a custom function to split this into two different features for better presentation:"
   ]
  },
  {
   "cell_type": "code",
   "execution_count": 85,
   "metadata": {},
   "outputs": [],
   "source": [
    "def splitRatingsColumn(rating_text):\n",
    "    \"\"\"\n",
    "    Mapper function to split string with {Rating: Rating_As_String} format to two\n",
    "    separate entities\"\"\"\n",
    "    rating_text = rating_text.replace('\\'','').replace('{','').replace('}','')\n",
    "    return rating_text[0], rating_text[3:]"
   ]
  },
  {
   "cell_type": "code",
   "execution_count": 86,
   "metadata": {},
   "outputs": [],
   "source": [
    "# Cast columns specific data format\n",
    "reviews_df['Date'] = pd.to_datetime(reviews_df['Date'], format=\"%Y-%m-%d %H:%M\", errors='coerce')\n",
    "\n",
    "reviews_df['Rating'] = reviews_df['Rating'].apply(lambda row: splitRatingsColumn(row)[0]).astype(int)\n",
    "reviews_df['Rating_Text'] = reviews_df['Rating'].apply(lambda row: ratings_dict[row])"
   ]
  },
  {
   "cell_type": "code",
   "execution_count": 87,
   "metadata": {},
   "outputs": [
    {
     "data": {
      "text/html": [
       "<div>\n",
       "<style scoped>\n",
       "    .dataframe tbody tr th:only-of-type {\n",
       "        vertical-align: middle;\n",
       "    }\n",
       "\n",
       "    .dataframe tbody tr th {\n",
       "        vertical-align: top;\n",
       "    }\n",
       "\n",
       "    .dataframe thead th {\n",
       "        text-align: right;\n",
       "    }\n",
       "</style>\n",
       "<table border=\"1\" class=\"dataframe\">\n",
       "  <thead>\n",
       "    <tr style=\"text-align: right;\">\n",
       "      <th></th>\n",
       "      <th>Company</th>\n",
       "      <th>Id</th>\n",
       "      <th>Reviewer_Id</th>\n",
       "      <th>Title</th>\n",
       "      <th>Review</th>\n",
       "      <th>Date</th>\n",
       "      <th>Rating</th>\n",
       "      <th>Rating_Text</th>\n",
       "    </tr>\n",
       "  </thead>\n",
       "  <tbody>\n",
       "    <tr>\n",
       "      <th>0</th>\n",
       "      <td>Deliveroo</td>\n",
       "      <td>60709f95f85d75087052ff8b</td>\n",
       "      <td>60709f8f0a30fd001b06dc52</td>\n",
       "      <td>Ordered food and apparently the driver…</td>\n",
       "      <td>Ordered food and apparently the driver was wai...</td>\n",
       "      <td>2021-04-09 18:40:00</td>\n",
       "      <td>2</td>\n",
       "      <td>Poor</td>\n",
       "    </tr>\n",
       "    <tr>\n",
       "      <th>1</th>\n",
       "      <td>Deliveroo</td>\n",
       "      <td>60708710f85d75087052c89b</td>\n",
       "      <td>6070870c2158190019b3ab8e</td>\n",
       "      <td>Disgusting Live Customer Service CHAT!!!</td>\n",
       "      <td>I received standard bag of buttons that cost £...</td>\n",
       "      <td>2021-04-09 16:55:00</td>\n",
       "      <td>1</td>\n",
       "      <td>Bad</td>\n",
       "    </tr>\n",
       "  </tbody>\n",
       "</table>\n",
       "</div>"
      ],
      "text/plain": [
       "     Company                        Id               Reviewer_Id  \\\n",
       "0  Deliveroo  60709f95f85d75087052ff8b  60709f8f0a30fd001b06dc52   \n",
       "1  Deliveroo  60708710f85d75087052c89b  6070870c2158190019b3ab8e   \n",
       "\n",
       "                                      Title  \\\n",
       "0   Ordered food and apparently the driver…   \n",
       "1  Disgusting Live Customer Service CHAT!!!   \n",
       "\n",
       "                                              Review                Date  \\\n",
       "0  Ordered food and apparently the driver was wai... 2021-04-09 18:40:00   \n",
       "1  I received standard bag of buttons that cost £... 2021-04-09 16:55:00   \n",
       "\n",
       "   Rating Rating_Text  \n",
       "0       2        Poor  \n",
       "1       1         Bad  "
      ]
     },
     "execution_count": 87,
     "metadata": {},
     "output_type": "execute_result"
    }
   ],
   "source": [
    "reviews_df.head(2)"
   ]
  },
  {
   "cell_type": "markdown",
   "metadata": {},
   "source": [
    "Now we are ready to apply the main data preprocessing tasks that we discussed above. But to do that we have to write the function that are going to be applied in the _Review_ column. Below we can see these functions, which are coming from a custom <a href=\"https://github.com/gpsyrou/Text_Analysis_of_Consumer_Reviews/blob/main/processing/text_processing.py\" style=\"text-decoration: none\">package</a> that we had to develop, which contains functions for the most common text preprocessing tasks for pretty much any NLP project. "
   ]
  },
  {
   "cell_type": "code",
   "execution_count": 88,
   "metadata": {},
   "outputs": [],
   "source": [
    "lemmatizer = WordNetLemmatizer()\n",
    "stemmer = PorterStemmer()"
   ]
  },
  {
   "cell_type": "code",
   "execution_count": 89,
   "metadata": {},
   "outputs": [],
   "source": [
    "punct_ls = list(string.punctuation)\n",
    "punct_ls.extend([2*x for x in list(string.punctuation)])\n",
    "punct_ls.extend([3*x for x in list(string.punctuation)])"
   ]
  },
  {
   "cell_type": "code",
   "execution_count": 90,
   "metadata": {},
   "outputs": [],
   "source": [
    "def remove_stopwords(text: List['str'], stpwds_ls: List['str']) -> List['str']:\n",
    "    return [token for token in text if token not in stpwds_ls]"
   ]
  },
  {
   "cell_type": "code",
   "execution_count": 91,
   "metadata": {},
   "outputs": [],
   "source": [
    "def remove_punctuation(text: List['str'], punct_ls: List['str']) -> List['str']:\n",
    "    return [token for token in text if token not in punct_ls]"
   ]
  },
  {
   "cell_type": "code",
   "execution_count": 92,
   "metadata": {},
   "outputs": [],
   "source": [
    "def remove_numbers(text: List['str']) -> List['str']:\n",
    "    return [token for token in text if not token.isdigit()]"
   ]
  },
  {
   "cell_type": "code",
   "execution_count": 93,
   "metadata": {},
   "outputs": [],
   "source": [
    "def lemmatize(text: List['str'],\n",
    "              pos_type = 'a') -> List['str']:\n",
    "    return [lemmatizer.lemmatize(token, pos=pos_type) for token in text]\n",
    "\n",
    "def stem(text: List['str']) -> List['str']:\n",
    "    return [stemmer.stem(token) for token in text]"
   ]
  },
  {
   "cell_type": "code",
   "execution_count": 94,
   "metadata": {},
   "outputs": [],
   "source": [
    "def tokenize_and_clean(text: str,\n",
    "                       stopwords_ls: List[str],\n",
    "                       stopwords=True,\n",
    "                       punct=True, numerics=True) -> List[str]:\n",
    "    \"\"\"\n",
    "    Performs tokenizations and cleaning processes given a document/text.\n",
    "    The function will always tokenize the given text but the cleaning tasks\n",
    "    are optional.\n",
    "    \n",
    "    Parameters\n",
    "    ----------\n",
    "    text: \n",
    "        A document, which can be a word or sentence of arbitrary length.\n",
    "    stopwords: default True\n",
    "        Indicator of removing tokens that are stopwords.\n",
    "    punct: \n",
    "        Indicator of removing tokens that are punctuation marks.\n",
    "    numerics: \n",
    "        Indicator of removing tokens that correspond to numbers.\n",
    "\n",
    "    Returns\n",
    "    --------\n",
    "         A tokenized version of 'text' with the necessary updates depending on\n",
    "         the cleanup steps performed.\n",
    "    \"\"\"\n",
    "    tokenized = word_tokenize(text, language='english')\n",
    "    \n",
    "    tokenized = [token.lower() for token in tokenized]\n",
    "\n",
    "    if punct:\n",
    "        tokenized = remove_punctuation(tokenized, punct_ls=punct_ls)\n",
    "        \n",
    "    if numerics:\n",
    "        tokenized = remove_numbers(tokenized)\n",
    "        \n",
    "    if stopwords:\n",
    "        tokenized = remove_stopwords(tokenized, stpwds_ls=stopwords_ls)\n",
    "\n",
    "    return tokenized"
   ]
  },
  {
   "cell_type": "markdown",
   "metadata": {},
   "source": [
    "Split review in tokens and remove punctuation & stopwords"
   ]
  },
  {
   "cell_type": "code",
   "execution_count": 95,
   "metadata": {},
   "outputs": [],
   "source": [
    "reviews_df['Review_Tokenized'] = reviews_df['Review'].apply(lambda row: tokenize_and_clean(text=row, stopwords_ls=stopwords_ls))"
   ]
  },
  {
   "cell_type": "markdown",
   "metadata": {},
   "source": [
    "Lemmatize the tokens"
   ]
  },
  {
   "cell_type": "code",
   "execution_count": 96,
   "metadata": {},
   "outputs": [],
   "source": [
    "reviews_df['Review_Lemmatized'] = reviews_df['Review_Tokenized'].apply(lambda row: lemmatize(text=row, pos_type='n'))"
   ]
  },
  {
   "cell_type": "code",
   "execution_count": 97,
   "metadata": {},
   "outputs": [],
   "source": [
    "reviews_df['Review_Lemmatized'] = reviews_df['Review_Lemmatized'].apply(lambda row: lemmatize(text=row, pos_type='a'))"
   ]
  },
  {
   "cell_type": "markdown",
   "metadata": {},
   "source": [
    "Some times we need the \"clean\" tokens per document to be a single string. Therefore we are applying the appropriate transformation where we are joining back the clean tokens into a single object."
   ]
  },
  {
   "cell_type": "code",
   "execution_count": 98,
   "metadata": {},
   "outputs": [],
   "source": [
    "reviews_df['Clean_Review_String'] = reviews_df['Review_Lemmatized'].apply(lambda row: ' '.join([x for x in row]))"
   ]
  },
  {
   "cell_type": "code",
   "execution_count": 99,
   "metadata": {},
   "outputs": [
    {
     "data": {
      "text/html": [
       "<div>\n",
       "<style scoped>\n",
       "    .dataframe tbody tr th:only-of-type {\n",
       "        vertical-align: middle;\n",
       "    }\n",
       "\n",
       "    .dataframe tbody tr th {\n",
       "        vertical-align: top;\n",
       "    }\n",
       "\n",
       "    .dataframe thead th {\n",
       "        text-align: right;\n",
       "    }\n",
       "</style>\n",
       "<table border=\"1\" class=\"dataframe\">\n",
       "  <thead>\n",
       "    <tr style=\"text-align: right;\">\n",
       "      <th></th>\n",
       "      <th>Company</th>\n",
       "      <th>Title</th>\n",
       "      <th>Review</th>\n",
       "      <th>Review_Tokenized</th>\n",
       "      <th>Review_Lemmatized</th>\n",
       "      <th>Clean_Review_String</th>\n",
       "    </tr>\n",
       "  </thead>\n",
       "  <tbody>\n",
       "    <tr>\n",
       "      <th>0</th>\n",
       "      <td>Deliveroo</td>\n",
       "      <td>Ordered food and apparently the driver…</td>\n",
       "      <td>Ordered food and apparently the driver was wai...</td>\n",
       "      <td>[ordered, apparently, waiting, mins, even, tho...</td>\n",
       "      <td>[ordered, apparently, waiting, min, even, thou...</td>\n",
       "      <td>ordered apparently waiting min even though sto...</td>\n",
       "    </tr>\n",
       "    <tr>\n",
       "      <th>1</th>\n",
       "      <td>Deliveroo</td>\n",
       "      <td>Disgusting Live Customer Service CHAT!!!</td>\n",
       "      <td>I received standard bag of buttons that cost £...</td>\n",
       "      <td>[received, standard, bag, buttons, cost, £1.60...</td>\n",
       "      <td>[received, standard, bag, button, cost, £1.60,...</td>\n",
       "      <td>received standard bag button cost £1.60 asked ...</td>\n",
       "    </tr>\n",
       "    <tr>\n",
       "      <th>2</th>\n",
       "      <td>Deliveroo</td>\n",
       "      <td>Just had an appalling experience with…</td>\n",
       "      <td>Just had an appalling experience with delivero...</td>\n",
       "      <td>[appalling, experience, ordered, pizza, £10, d...</td>\n",
       "      <td>[appalling, experience, ordered, pizza, £10, d...</td>\n",
       "      <td>appalling experience ordered pizza £10 discoun...</td>\n",
       "    </tr>\n",
       "    <tr>\n",
       "      <th>3</th>\n",
       "      <td>Deliveroo</td>\n",
       "      <td>The same situation happened twice</td>\n",
       "      <td>The same situation happened twice. I ordered f...</td>\n",
       "      <td>[situation, happened, twice, ordered, around, ...</td>\n",
       "      <td>[situation, happened, twice, ordered, around, ...</td>\n",
       "      <td>situation happened twice ordered around pm wai...</td>\n",
       "    </tr>\n",
       "    <tr>\n",
       "      <th>4</th>\n",
       "      <td>Deliveroo</td>\n",
       "      <td>Driver left without giving us food</td>\n",
       "      <td>Driver turned up late couldn’t find us and lef...</td>\n",
       "      <td>[turned, late, find, us, left, awful]</td>\n",
       "      <td>[turned, late, find, u, left, awful]</td>\n",
       "      <td>turned late find u left awful</td>\n",
       "    </tr>\n",
       "  </tbody>\n",
       "</table>\n",
       "</div>"
      ],
      "text/plain": [
       "     Company                                     Title  \\\n",
       "0  Deliveroo   Ordered food and apparently the driver…   \n",
       "1  Deliveroo  Disgusting Live Customer Service CHAT!!!   \n",
       "2  Deliveroo    Just had an appalling experience with…   \n",
       "3  Deliveroo         The same situation happened twice   \n",
       "4  Deliveroo        Driver left without giving us food   \n",
       "\n",
       "                                              Review  \\\n",
       "0  Ordered food and apparently the driver was wai...   \n",
       "1  I received standard bag of buttons that cost £...   \n",
       "2  Just had an appalling experience with delivero...   \n",
       "3  The same situation happened twice. I ordered f...   \n",
       "4  Driver turned up late couldn’t find us and lef...   \n",
       "\n",
       "                                    Review_Tokenized  \\\n",
       "0  [ordered, apparently, waiting, mins, even, tho...   \n",
       "1  [received, standard, bag, buttons, cost, £1.60...   \n",
       "2  [appalling, experience, ordered, pizza, £10, d...   \n",
       "3  [situation, happened, twice, ordered, around, ...   \n",
       "4              [turned, late, find, us, left, awful]   \n",
       "\n",
       "                                   Review_Lemmatized  \\\n",
       "0  [ordered, apparently, waiting, min, even, thou...   \n",
       "1  [received, standard, bag, button, cost, £1.60,...   \n",
       "2  [appalling, experience, ordered, pizza, £10, d...   \n",
       "3  [situation, happened, twice, ordered, around, ...   \n",
       "4               [turned, late, find, u, left, awful]   \n",
       "\n",
       "                                 Clean_Review_String  \n",
       "0  ordered apparently waiting min even though sto...  \n",
       "1  received standard bag button cost £1.60 asked ...  \n",
       "2  appalling experience ordered pizza £10 discoun...  \n",
       "3  situation happened twice ordered around pm wai...  \n",
       "4                      turned late find u left awful  "
      ]
     },
     "execution_count": 99,
     "metadata": {},
     "output_type": "execute_result"
    }
   ],
   "source": [
    "reviews_df[['Company', 'Title', 'Review', 'Review_Tokenized', 'Review_Lemmatized', 'Clean_Review_String']].head(5)"
   ]
  },
  {
   "cell_type": "markdown",
   "metadata": {},
   "source": [
    "We can observe how big is the difference between the initial _Review_ and the final format of the review after the preprocessing tasks, as shown in <em>Review_Merged</em>.\n",
    "\n",
    "<a id=\"eda\"></a>\n",
    "### Exploratory Data Analysis\n",
    "\n",
    "Now that the data are in a better shape, we can start with the main part of this project which is the actual analysis of the reviews. As a first step we are going to perform some exploratory data analysis, mostly by analyzing the data visually. \n",
    "\n",
    "This is an important step for every data analysis project as it will allow us to further familiarize ourselves with the data, as well as make sure that we don't identify any cases that would require further data cleaning and that we might have missed in the initial text preprocessing steps performed in the previous section."
   ]
  },
  {
   "cell_type": "code",
   "execution_count": 100,
   "metadata": {},
   "outputs": [],
   "source": [
    "def most_common_words(input_df: pd.DataFrame,\n",
    "                      text_col: str,\n",
    "                      n_most_common=20):\n",
    "    \"\"\"\n",
    "    Given a collection of documents as text, compute the number of most common\n",
    "    words as defined by n_most_common.\n",
    "    Args:\n",
    "    ------\n",
    "        input_df: Dataframe that contains the relevant text column\n",
    "        text_col: Name of the column\n",
    "        n_most_common: Number of most common words to calculate\n",
    "    Returns:\n",
    "    --------\n",
    "        Pandas dataframe with two columns indicating a word and number\n",
    "        of times (count) that it appears in the original input_df\n",
    "    \"\"\"\n",
    "    word_list = list([x.split() for x in input_df[text_col] if x is not None])\n",
    "    word_counter = Counter(x for xs in word_list for x in set(xs))\n",
    "    word_counter.most_common(n_most_common)\n",
    "\n",
    "    return pd.DataFrame(word_counter.most_common(n_most_common), columns=['word', 'count'])"
   ]
  },
  {
   "cell_type": "code",
   "execution_count": 101,
   "metadata": {},
   "outputs": [],
   "source": [
    "def plot_most_common_words(input_df: pd.DataFrame,\n",
    "                           text_col: str,\n",
    "                           n_most_common=20,\n",
    "                           return_counts=False,\n",
    "                           figsize=(10, 10)) -> None:\n",
    "    \n",
    "    if return_counts:\n",
    "        df = most_common_words(input_df=input_df, text_col=text_col, n_most_common=n_most_common)\n",
    "        display(HTML(df.to_html()))\n",
    "\n",
    "    fig, ax = plt.subplots(figsize=figsize)\n",
    "    common_words_df = most_common_words(input_df=input_df,\n",
    "                                        text_col=text_col,\n",
    "                                        n_most_common=n_most_common)\n",
    "    sns.barplot(x='count', y='word', data=common_words_df).set_title(f'Common Words Found - Overall',\n",
    "                                                                     fontweight='bold')\n",
    "    plt.grid(True, alpha=0.3, linestyle='-', color='black')\n",
    "    plt.show()"
   ]
  },
  {
   "cell_type": "code",
   "execution_count": 102,
   "metadata": {},
   "outputs": [
    {
     "data": {
      "text/html": [
       "<table border=\"1\" class=\"dataframe\">\n",
       "  <thead>\n",
       "    <tr style=\"text-align: right;\">\n",
       "      <th></th>\n",
       "      <th>word</th>\n",
       "      <th>count</th>\n",
       "    </tr>\n",
       "  </thead>\n",
       "  <tbody>\n",
       "    <tr>\n",
       "      <th>0</th>\n",
       "      <td>time</td>\n",
       "      <td>5727</td>\n",
       "    </tr>\n",
       "    <tr>\n",
       "      <th>1</th>\n",
       "      <td>never</td>\n",
       "      <td>5101</td>\n",
       "    </tr>\n",
       "    <tr>\n",
       "      <th>2</th>\n",
       "      <td>ordered</td>\n",
       "      <td>4542</td>\n",
       "    </tr>\n",
       "    <tr>\n",
       "      <th>3</th>\n",
       "      <td>restaurant</td>\n",
       "      <td>3845</td>\n",
       "    </tr>\n",
       "    <tr>\n",
       "      <th>4</th>\n",
       "      <td>would</td>\n",
       "      <td>3781</td>\n",
       "    </tr>\n",
       "    <tr>\n",
       "      <th>5</th>\n",
       "      <td>hour</td>\n",
       "      <td>3762</td>\n",
       "    </tr>\n",
       "    <tr>\n",
       "      <th>6</th>\n",
       "      <td>delivered</td>\n",
       "      <td>3297</td>\n",
       "    </tr>\n",
       "    <tr>\n",
       "      <th>7</th>\n",
       "      <td>money</td>\n",
       "      <td>3272</td>\n",
       "    </tr>\n",
       "    <tr>\n",
       "      <th>8</th>\n",
       "      <td>eats</td>\n",
       "      <td>3213</td>\n",
       "    </tr>\n",
       "    <tr>\n",
       "      <th>9</th>\n",
       "      <td>even</td>\n",
       "      <td>3187</td>\n",
       "    </tr>\n",
       "  </tbody>\n",
       "</table>"
      ],
      "text/plain": [
       "<IPython.core.display.HTML object>"
      ]
     },
     "metadata": {},
     "output_type": "display_data"
    },
    {
     "data": {
      "image/png": "[encoded data removed]",
      "text/plain": [
       "<Figure size 720x720 with 1 Axes>"
      ]
     },
     "metadata": {},
     "output_type": "display_data"
    }
   ],
   "source": [
    "plot_most_common_words(reviews_df, n_most_common=10, text_col='Clean_Review_String', return_counts=True)"
   ]
  },
  {
   "cell_type": "code",
   "execution_count": 103,
   "metadata": {},
   "outputs": [],
   "source": [
    "def plot_wordcloud(input_df: pd.DataFrame,\n",
    "                   text_col: str,\n",
    "                   figsize=(10, 10)) -> None:\n",
    "    \"\"\" Generate a WordCloud plot based on the number of occurenences of words\n",
    "    in a set documents\n",
    "    \"\"\"\n",
    "    plt.figure(figsize=figsize)\n",
    "    combined_text = ' '.join([x for x in input_df[text_col] if x is not None])\n",
    "    wordcloud = WordCloud().generate(combined_text)\n",
    "    plt.imshow(wordcloud, interpolation='bilinear')\n",
    "    plt.axis(\"off\")\n",
    "    plt.show()"
   ]
  },
  {
   "cell_type": "code",
   "execution_count": 104,
   "metadata": {},
   "outputs": [],
   "source": [
    "# plot_wordcloud(reviews_df, text_col='Clean_Review_String')"
   ]
  },
  {
   "cell_type": "markdown",
   "metadata": {},
   "source": [
    "By examining each word separately we are making the assumption that the words (and so their order) do not play any role into the general meaning of the text. Thus, we can go a step further and identify pairs of words (**bigrams**) that tend to appear next to each other."
   ]
  },
  {
   "cell_type": "code",
   "execution_count": 105,
   "metadata": {},
   "outputs": [],
   "source": [
    "def compute_bigrams(input_df: pd.DataFrame,\n",
    "                    text_col: str) -> dict:\n",
    "    \"\"\" Calculate the number of occurences where a pair of words appear next to\n",
    "    each other, and return a dictionary of {pair of words: count}.\n",
    "    \"\"\"\n",
    "    combined_text = ' '.join([x for x in input_df[text_col]])\n",
    "\n",
    "    finder = BigramCollocationFinder.from_words(word_tokenize(combined_text))\n",
    "\n",
    "    bigrams_dict = {}\n",
    "    for k, v in finder.ngram_fd.items():\n",
    "        if len(k[0]) > 1 and len(k[1]) > 1:\n",
    "            bigrams_dict[k] = v\n",
    "        else:\n",
    "            continue\n",
    "    return bigrams_dict"
   ]
  },
  {
   "cell_type": "code",
   "execution_count": 106,
   "metadata": {},
   "outputs": [],
   "source": [
    "def plot_bigrams(input_df: pd.DataFrame,\n",
    "                 text_col: str,\n",
    "                 top_n: int,\n",
    "                 rotation=0.8,\n",
    "                 figsize=(10, 8)) -> None:\n",
    "\n",
    "    bigrams_dict = compute_bigrams(input_df=input_df, text_col=text_col)\n",
    "    bigrams_sorted = sorted(bigrams_dict.items(), key=lambda x: x[1], reverse=True)[0:top_n]\n",
    "    bgram, counts = list(zip(*bigrams_sorted))\n",
    "    bgstring = list(map(lambda txt: '-'.join(txt), bgram))\n",
    "\n",
    "    plt.figure(figsize=figsize)\n",
    "    g = sns.barplot(bgstring, counts, palette='muted')\n",
    "    g.set_xticklabels(g.get_xticklabels(), rotation=rotation)\n",
    "    plt.title(f'Top-{top_n} pairs of words that appear next to each other',\n",
    "              fontweight='bold')\n",
    "    plt.ylabel('Count')\n",
    "    plt.grid(True, alpha=0.1, color='black')\n",
    "    plt.show()"
   ]
  },
  {
   "cell_type": "code",
   "execution_count": 107,
   "metadata": {},
   "outputs": [],
   "source": [
    "bigrams = compute_bigrams(reviews_df, text_col='Clean_Review_String')"
   ]
  },
  {
   "cell_type": "code",
   "execution_count": 108,
   "metadata": {},
   "outputs": [
    {
     "data": {
      "text/html": [
       "<div>\n",
       "<style scoped>\n",
       "    .dataframe tbody tr th:only-of-type {\n",
       "        vertical-align: middle;\n",
       "    }\n",
       "\n",
       "    .dataframe tbody tr th {\n",
       "        vertical-align: top;\n",
       "    }\n",
       "\n",
       "    .dataframe thead th {\n",
       "        text-align: right;\n",
       "    }\n",
       "</style>\n",
       "<table border=\"1\" class=\"dataframe\">\n",
       "  <thead>\n",
       "    <tr style=\"text-align: right;\">\n",
       "      <th></th>\n",
       "      <th>Bigram</th>\n",
       "      <th>Count</th>\n",
       "    </tr>\n",
       "  </thead>\n",
       "  <tbody>\n",
       "    <tr>\n",
       "      <th>0</th>\n",
       "      <td>(missing, item)</td>\n",
       "      <td>792</td>\n",
       "    </tr>\n",
       "    <tr>\n",
       "      <th>1</th>\n",
       "      <td>(money, back)</td>\n",
       "      <td>760</td>\n",
       "    </tr>\n",
       "    <tr>\n",
       "      <th>2</th>\n",
       "      <td>(first, time)</td>\n",
       "      <td>720</td>\n",
       "    </tr>\n",
       "    <tr>\n",
       "      <th>3</th>\n",
       "      <td>(hour, late)</td>\n",
       "      <td>690</td>\n",
       "    </tr>\n",
       "    <tr>\n",
       "      <th>4</th>\n",
       "      <td>(even, though)</td>\n",
       "      <td>617</td>\n",
       "    </tr>\n",
       "    <tr>\n",
       "      <th>5</th>\n",
       "      <td>(never, arrived)</td>\n",
       "      <td>580</td>\n",
       "    </tr>\n",
       "    <tr>\n",
       "      <th>6</th>\n",
       "      <td>(live, chat)</td>\n",
       "      <td>483</td>\n",
       "    </tr>\n",
       "    <tr>\n",
       "      <th>7</th>\n",
       "      <td>(stone, cold)</td>\n",
       "      <td>462</td>\n",
       "    </tr>\n",
       "    <tr>\n",
       "      <th>8</th>\n",
       "      <td>(said, would)</td>\n",
       "      <td>441</td>\n",
       "    </tr>\n",
       "    <tr>\n",
       "      <th>9</th>\n",
       "      <td>(item, missing)</td>\n",
       "      <td>417</td>\n",
       "    </tr>\n",
       "    <tr>\n",
       "      <th>10</th>\n",
       "      <td>(could, give)</td>\n",
       "      <td>403</td>\n",
       "    </tr>\n",
       "    <tr>\n",
       "      <th>11</th>\n",
       "      <td>(wrong, address)</td>\n",
       "      <td>391</td>\n",
       "    </tr>\n",
       "    <tr>\n",
       "      <th>12</th>\n",
       "      <td>(bad, ever)</td>\n",
       "      <td>389</td>\n",
       "    </tr>\n",
       "    <tr>\n",
       "      <th>13</th>\n",
       "      <td>(last, time)</td>\n",
       "      <td>382</td>\n",
       "    </tr>\n",
       "    <tr>\n",
       "      <th>14</th>\n",
       "      <td>(waste, time)</td>\n",
       "      <td>376</td>\n",
       "    </tr>\n",
       "  </tbody>\n",
       "</table>\n",
       "</div>"
      ],
      "text/plain": [
       "              Bigram  Count\n",
       "0    (missing, item)    792\n",
       "1      (money, back)    760\n",
       "2      (first, time)    720\n",
       "3       (hour, late)    690\n",
       "4     (even, though)    617\n",
       "5   (never, arrived)    580\n",
       "6       (live, chat)    483\n",
       "7      (stone, cold)    462\n",
       "8      (said, would)    441\n",
       "9    (item, missing)    417\n",
       "10     (could, give)    403\n",
       "11  (wrong, address)    391\n",
       "12       (bad, ever)    389\n",
       "13      (last, time)    382\n",
       "14     (waste, time)    376"
      ]
     },
     "execution_count": 108,
     "metadata": {},
     "output_type": "execute_result"
    }
   ],
   "source": [
    "pd.DataFrame(sorted(bigrams.items(), key=lambda item: item[1], reverse=True), columns=['Bigram', 'Count']).head(15)"
   ]
  },
  {
   "cell_type": "code",
   "execution_count": 109,
   "metadata": {},
   "outputs": [
    {
     "data": {
      "image/png": "[encoded data removed]",
      "text/plain": [
       "<Figure size 1440x432 with 1 Axes>"
      ]
     },
     "metadata": {},
     "output_type": "display_data"
    }
   ],
   "source": [
    "plot_bigrams(input_df=reviews_df, text_col='Clean_Review_String', top_n=15, rotation=0.0, figsize=(20, 6))"
   ]
  },
  {
   "cell_type": "markdown",
   "metadata": {},
   "source": [
    "From the bigrams plot we can infer that there are 3 main topics in the data:\n",
    "\n",
    "1. Case where order arrived but an item was missing (e.g.\"missing item\")\n",
    "2. Case where items received very late (\"cold food\", \"stone cold\", \"hour cold\")\n",
    "3. Case when the order never arrived (\"wrong-adress\", \"never arrived\")\n",
    "    \n",
    "We can also observe that the bigram \"customer service\" appears in the majority of the reviews. This is something expected, as in general reviews in TrustPilot for delivery companies tend to contain reviews about problems that the customers might have faced. \n",
    "\n",
    "Hence, it's regular when a customer facing an issue with their order, to contact the customer service of the company, independently of the nature of the issue (i.e. any of the 3 points we mentioned above). Queries about the customer service might not add a lot of information in the data as they seem to be part around in 1/3 of the total reviews. One option would be to remove these words from our analysis - by adding them in the stopwords list - but for now we will leave this set of words inside our dataset as it might provide us with some useful findings later.\n",
    "\n",
    "In the next section we will finally get into the modelling part of the project. Based on our findings above and by leveraging a well known method for topic modelling (i.e. LDA), we will attempt to identify the different topics that exist inside the reviews."
   ]
  },
  {
   "cell_type": "markdown",
   "metadata": {},
   "source": [
    "<a id=\"lda\"></a>\n",
    "## Latent Dirichlet Allocation Model"
   ]
  },
  {
   "cell_type": "code",
   "execution_count": 110,
   "metadata": {},
   "outputs": [],
   "source": [
    "from sklearn.feature_extraction.text import CountVectorizer\n",
    "from sklearn.decomposition import LatentDirichletAllocation\n",
    "from scipy.sparse.csr import csr_matrix"
   ]
  },
  {
   "cell_type": "code",
   "execution_count": 111,
   "metadata": {},
   "outputs": [],
   "source": [
    "def sentenceToNGramTokens(text: str,\n",
    "                          ngram_size=2) -> List[str]:\n",
    "    \"\"\" Given a sentence as tokens, return the n-gram combinations joined by an\n",
    "    underscore.\n",
    "    \"\"\"\n",
    "    return [\"_\".join(w) for w in ngrams(text, ngram_size)]"
   ]
  },
  {
   "cell_type": "code",
   "execution_count": 112,
   "metadata": {},
   "outputs": [],
   "source": [
    "def countVectorizerToDict(vectorizer: CountVectorizer,\n",
    "                          matrix: csr_matrix) -> dict:\n",
    "    feature_names = vectorizer.get_feature_names()\n",
    "    counts = np.asarray(matrix.sum(axis=0))[0]\n",
    "    return dict(zip(feature_names, counts))"
   ]
  },
  {
   "cell_type": "code",
   "execution_count": 113,
   "metadata": {},
   "outputs": [],
   "source": [
    "def getWordWeightsPerTopic(model,\n",
    "                           feature_names: List[str],\n",
    "                           sort=True):\n",
    "    word_weights_per_topic = []\n",
    "    for i, topic in enumerate(model.components_):\n",
    "        weights = list(zip(feature_names, topic))\n",
    "        if sort:\n",
    "            weights = sorted(weights, key=lambda x: x[1], reverse=True)\n",
    "        word_weights_per_topic.append([i, weights])\n",
    "    return word_weights_per_topic"
   ]
  },
  {
   "cell_type": "code",
   "execution_count": 137,
   "metadata": {},
   "outputs": [],
   "source": [
    "def showTopWordsPerTopic(model,\n",
    "                         feature_names: List[str],\n",
    "                         num_top_words: int):\n",
    "    for i in range(0, len(model.components_)):\n",
    "        weights = getWordWeightsPerTopic(model, feature_names)[i][1]\n",
    "        print('Topic {0} : {1} \\n'.format(i+1, weights[0:num_top_words]))"
   ]
  },
  {
   "cell_type": "code",
   "execution_count": 115,
   "metadata": {},
   "outputs": [
    {
     "name": "stderr",
     "output_type": "stream",
     "text": [
      "C:\\ProgramData\\Anaconda3\\lib\\site-packages\\ipykernel_launcher.py:6: DeprecationWarning: generator 'ngrams' raised StopIteration\n",
      "  \n"
     ]
    }
   ],
   "source": [
    "reviews_df['Review_Bigram'] = reviews_df['Review_Lemmatized'].apply(lambda row: sentenceToNGramTokens(text=row, ngram_size=2))"
   ]
  },
  {
   "cell_type": "code",
   "execution_count": 116,
   "metadata": {},
   "outputs": [],
   "source": [
    "reviews_df['Review_Bigram_Sentence'] = reviews_df['Review_Bigram'].apply(lambda row: ' '.join([x for x in row]))"
   ]
  },
  {
   "cell_type": "code",
   "execution_count": 117,
   "metadata": {},
   "outputs": [],
   "source": [
    "vectorizer = CountVectorizer(max_df=1.0,\n",
    "                             min_df=1,\n",
    "                             max_features=10000)"
   ]
  },
  {
   "cell_type": "markdown",
   "metadata": {},
   "source": [
    "The above object will help us with creating a sparse matrix where each row is a document and each column is a word.<br>\n",
    "The value under $x_i, y_i$ represents a count of how many times that specific word ($y_i$) appears in that document ($x_i$)."
   ]
  },
  {
   "cell_type": "code",
   "execution_count": 118,
   "metadata": {},
   "outputs": [],
   "source": [
    "cv = vectorizer.fit_transform(reviews_df['Review_Bigram_Sentence'])"
   ]
  },
  {
   "cell_type": "code",
   "execution_count": 119,
   "metadata": {},
   "outputs": [
    {
     "data": {
      "text/plain": [
       "(17583, 10000)"
      ]
     },
     "execution_count": 119,
     "metadata": {},
     "output_type": "execute_result"
    }
   ],
   "source": [
    "cv.shape"
   ]
  },
  {
   "cell_type": "markdown",
   "metadata": {},
   "source": [
    "Thus, we can see that we have created a matrix which consist of 16583 distinct documents (reviews) and a total of 6000 words. Note that 6000 is an arbitrary number that the data analyst has to decide depending on the context of the problem. As a reminder, in our project we are working with bigrams, and thus we have create a matrix where each column is a bigram combination.\n",
    "\n",
    "We can better visualize it as follows:"
   ]
  },
  {
   "cell_type": "code",
   "execution_count": 120,
   "metadata": {},
   "outputs": [],
   "source": [
    "word_counts = countVectorizerToDict(vectorizer=vectorizer, matrix=cv)"
   ]
  },
  {
   "cell_type": "code",
   "execution_count": 121,
   "metadata": {},
   "outputs": [
    {
     "data": {
      "text/html": [
       "<div>\n",
       "<style scoped>\n",
       "    .dataframe tbody tr th:only-of-type {\n",
       "        vertical-align: middle;\n",
       "    }\n",
       "\n",
       "    .dataframe tbody tr th {\n",
       "        vertical-align: top;\n",
       "    }\n",
       "\n",
       "    .dataframe thead th {\n",
       "        text-align: right;\n",
       "    }\n",
       "</style>\n",
       "<table border=\"1\" class=\"dataframe\">\n",
       "  <thead>\n",
       "    <tr style=\"text-align: right;\">\n",
       "      <th></th>\n",
       "      <th>Bigram</th>\n",
       "      <th>Count</th>\n",
       "    </tr>\n",
       "  </thead>\n",
       "  <tbody>\n",
       "    <tr>\n",
       "      <th>0</th>\n",
       "      <td>10</td>\n",
       "      <td>844</td>\n",
       "    </tr>\n",
       "    <tr>\n",
       "      <th>1</th>\n",
       "      <td>missing_item</td>\n",
       "      <td>800</td>\n",
       "    </tr>\n",
       "    <tr>\n",
       "      <th>2</th>\n",
       "      <td>money_back</td>\n",
       "      <td>796</td>\n",
       "    </tr>\n",
       "    <tr>\n",
       "      <th>3</th>\n",
       "      <td>first_time</td>\n",
       "      <td>731</td>\n",
       "    </tr>\n",
       "    <tr>\n",
       "      <th>4</th>\n",
       "      <td>hour_late</td>\n",
       "      <td>694</td>\n",
       "    </tr>\n",
       "    <tr>\n",
       "      <th>5</th>\n",
       "      <td>30</td>\n",
       "      <td>684</td>\n",
       "    </tr>\n",
       "    <tr>\n",
       "      <th>6</th>\n",
       "      <td>even_though</td>\n",
       "      <td>621</td>\n",
       "    </tr>\n",
       "    <tr>\n",
       "      <th>7</th>\n",
       "      <td>20</td>\n",
       "      <td>599</td>\n",
       "    </tr>\n",
       "    <tr>\n",
       "      <th>8</th>\n",
       "      <td>never_arrived</td>\n",
       "      <td>597</td>\n",
       "    </tr>\n",
       "    <tr>\n",
       "      <th>9</th>\n",
       "      <td>15</td>\n",
       "      <td>560</td>\n",
       "    </tr>\n",
       "    <tr>\n",
       "      <th>10</th>\n",
       "      <td>50</td>\n",
       "      <td>542</td>\n",
       "    </tr>\n",
       "    <tr>\n",
       "      <th>11</th>\n",
       "      <td>live_chat</td>\n",
       "      <td>492</td>\n",
       "    </tr>\n",
       "    <tr>\n",
       "      <th>12</th>\n",
       "      <td>stone_cold</td>\n",
       "      <td>476</td>\n",
       "    </tr>\n",
       "    <tr>\n",
       "      <th>13</th>\n",
       "      <td>said_would</td>\n",
       "      <td>443</td>\n",
       "    </tr>\n",
       "    <tr>\n",
       "      <th>14</th>\n",
       "      <td>item_missing</td>\n",
       "      <td>423</td>\n",
       "    </tr>\n",
       "  </tbody>\n",
       "</table>\n",
       "</div>"
      ],
      "text/plain": [
       "           Bigram  Count\n",
       "0              10    844\n",
       "1    missing_item    800\n",
       "2      money_back    796\n",
       "3      first_time    731\n",
       "4       hour_late    694\n",
       "5              30    684\n",
       "6     even_though    621\n",
       "7              20    599\n",
       "8   never_arrived    597\n",
       "9              15    560\n",
       "10             50    542\n",
       "11      live_chat    492\n",
       "12     stone_cold    476\n",
       "13     said_would    443\n",
       "14   item_missing    423"
      ]
     },
     "execution_count": 121,
     "metadata": {},
     "output_type": "execute_result"
    }
   ],
   "source": [
    "pd.DataFrame(sorted(word_counts.items(), key=lambda item: item[1], reverse=True), columns=['Bigram', 'Count']).head(15)"
   ]
  },
  {
   "cell_type": "markdown",
   "metadata": {},
   "source": [
    "Latent Dirichlet Allocation model requires the number of topics as an input from the user. As we saw above, seems like the reviews are splitted into 3 categories.\n",
    "Therefore, we are going to set this parameter to 3 and attempt to identify these topics in the reviews."
   ]
  },
  {
   "cell_type": "code",
   "execution_count": 153,
   "metadata": {},
   "outputs": [],
   "source": [
    "number_of_topics = 4"
   ]
  },
  {
   "cell_type": "code",
   "execution_count": 154,
   "metadata": {},
   "outputs": [],
   "source": [
    "lda_model = LatentDirichletAllocation(n_components=number_of_topics,\n",
    "                                      max_iter=20,\n",
    "                                      random_state=10,\n",
    "                                      n_jobs=-1,\n",
    "                                      verbose=0)"
   ]
  },
  {
   "cell_type": "code",
   "execution_count": 155,
   "metadata": {},
   "outputs": [
    {
     "data": {
      "text/plain": [
       "LatentDirichletAllocation(batch_size=128, doc_topic_prior=None,\n",
       "                          evaluate_every=-1, learning_decay=0.7,\n",
       "                          learning_method='batch', learning_offset=10.0,\n",
       "                          max_doc_update_iter=100, max_iter=20,\n",
       "                          mean_change_tol=0.001, n_components=4, n_jobs=-1,\n",
       "                          perp_tol=0.1, random_state=10, topic_word_prior=None,\n",
       "                          total_samples=1000000.0, verbose=0)"
      ]
     },
     "execution_count": 155,
     "metadata": {},
     "output_type": "execute_result"
    }
   ],
   "source": [
    "lda_model.fit(cv)"
   ]
  },
  {
   "cell_type": "code",
   "execution_count": 156,
   "metadata": {},
   "outputs": [
    {
     "data": {
      "text/plain": [
       "(4, 10000, 10000, 10000)"
      ]
     },
     "execution_count": 156,
     "metadata": {},
     "output_type": "execute_result"
    }
   ],
   "source": [
    "len(lda_model.components_), len(lda_model.components_[0]), len(lda_model.components_[1]), len(lda_model.components_[2])"
   ]
  },
  {
   "cell_type": "markdown",
   "metadata": {},
   "source": [
    "We can see the weight (parameter) of each word for a specific document, as follows:"
   ]
  },
  {
   "cell_type": "code",
   "execution_count": 157,
   "metadata": {},
   "outputs": [
    {
     "data": {
      "text/plain": [
       "array([75.35245986,  0.25847719,  1.89487784, ...,  3.30305478,\n",
       "        0.25530611,  0.25646573])"
      ]
     },
     "execution_count": 157,
     "metadata": {},
     "output_type": "execute_result"
    }
   ],
   "source": [
    "lda_model.components_[0]"
   ]
  },
  {
   "cell_type": "markdown",
   "metadata": {},
   "source": [
    "The above can be interpreted as a pseudocount of the number of times that word (bigram) $x_i$ was assigned to document topic $z_i$. Hence, the first case in the example we have a pseudocount of 3.08690378 for word $x_1$ on topic 0 (which is the first topic)."
   ]
  },
  {
   "cell_type": "code",
   "execution_count": 158,
   "metadata": {},
   "outputs": [],
   "source": [
    "topic_weights = getWordWeightsPerTopic(lda_model,\n",
    "                                       feature_names=vectorizer.get_feature_names(),\n",
    "                                       sort=True)"
   ]
  },
  {
   "cell_type": "code",
   "execution_count": 159,
   "metadata": {},
   "outputs": [
    {
     "data": {
      "text/plain": [
       "[('missing_item', 798.1958592572212),\n",
       " ('item_missing', 423.2319481329128),\n",
       " ('money_back', 205.44102236095702),\n",
       " ('the', 195.88950004473108),\n",
       " ('bad_experience', 183.56776114188133)]"
      ]
     },
     "execution_count": 159,
     "metadata": {},
     "output_type": "execute_result"
    }
   ],
   "source": [
    "# This corresponds to topic 0, and the top 5 bigrams accounting for this topic\n",
    "topic_weights[0][1][0:5]  # [1] is a positional index and should remain same independently of the document"
   ]
  },
  {
   "cell_type": "code",
   "execution_count": 160,
   "metadata": {},
   "outputs": [
    {
     "name": "stdout",
     "output_type": "stream",
     "text": [
      "Topic 1 : [('missing_item', 798.1958592572212), ('item_missing', 423.2319481329128), ('money_back', 205.44102236095702), ('the', 195.88950004473108), ('bad_experience', 183.56776114188133)] \n",
      "\n",
      "Topic 2 : [('first_time', 245.6630458112081), ('even_though', 242.54336940971112), ('every_time', 215.9425308979634), ('said_would', 174.83169732784808), ('never_received', 164.32981452206593)] \n",
      "\n",
      "Topic 3 : [('10', 524.9300038909333), ('money_back', 458.0630995329334), ('15', 426.92571329086036), ('promo_code', 356.22908423018106), ('wrong_address', 311.69188653837034)] \n",
      "\n",
      "Topic 4 : [('hour_late', 588.9350813017697), ('30', 457.2879868140143), ('stone_cold', 323.67611009856694), ('half_hour', 273.1815808868379), ('10', 251.61336237117422)] \n",
      "\n"
     ]
    }
   ],
   "source": [
    "showTopWordsPerTopic(lda_model, feature_names=vectorizer.get_feature_names(), num_top_words=5)"
   ]
  },
  {
   "cell_type": "markdown",
   "metadata": {},
   "source": [
    "Therefore we can see that the algorithm has identified the following 3 topics:\n",
    "\n",
    "- Topic 1: Cases where an item was missing from the order\n",
    "- Topic 2: This topic consists of reviews where the order took a significant amount to be completed\n",
    "- Topic 3: This appears to be the topic arround orders that were never arrived to their destination"
   ]
  },
  {
   "cell_type": "code",
   "execution_count": 161,
   "metadata": {},
   "outputs": [],
   "source": [
    "topic_to_review_distribution = lda_model.transform(cv)"
   ]
  },
  {
   "cell_type": "code",
   "execution_count": 162,
   "metadata": {},
   "outputs": [],
   "source": [
    "def assignTopic(topic_probs: List[float]) -> int:\n",
    "    max_topic_idx = np.argmax(topic_probs)\n",
    "    if max_topic_idx==0:\n",
    "        max_topic_idx = 1\n",
    "    else:\n",
    "        max_topic_idx += 1\n",
    "    return max_topic_idx"
   ]
  },
  {
   "cell_type": "code",
   "execution_count": 163,
   "metadata": {},
   "outputs": [],
   "source": [
    "reviews_df['Topic_Likelihood'] = topic_to_review_distribution.tolist()"
   ]
  },
  {
   "cell_type": "code",
   "execution_count": 164,
   "metadata": {},
   "outputs": [],
   "source": [
    "reviews_df['Topic'] = reviews_df['Topic_Likelihood'].apply(lambda row: assignTopic(row))"
   ]
  },
  {
   "cell_type": "code",
   "execution_count": 168,
   "metadata": {},
   "outputs": [
    {
     "name": "stdout",
     "output_type": "stream",
     "text": [
      "                                                                                                 Review  \\\n",
      "0   Ordered food and apparently the driver was waiting for 10 mins to deliver the food even though I...   \n",
      "1   I received standard bag of buttons that cost £1.60 but I asked for share bags at £2.85 so I've b...   \n",
      "2   Just had an appalling experience with deliveroo. Had ordered a pizza with a £10 discount code th...   \n",
      "3   The same situation happened twice. I ordered food around 10 pm and been waiting for the food for...   \n",
      "4                                                Driver turned up late couldn’t find us and left. Awful   \n",
      "5   Wish Icould give it zero stars. Customers service accused me of confabulating!!! And refused to ...   \n",
      "6   Once again we placed an order - paid Deliveroo a premium to deliver it. Delivery time is 8.35. T...   \n",
      "7   Deliveroo rider stole from me on his way out of my building. Deliveroo customer service effectiv...   \n",
      "8   Useless service. I live 5 mins from store and driver can’t find my address! Told driver nearby a...   \n",
      "9   Do not use this app! There t and c protect driver theft if you order and then you don't receive ...   \n",
      "10  Wouldn't even give 1 star. Took my money, never delivered the product and then suspended my acco...   \n",
      "11  I ordered food my new account,I dint got the right food , I talk to the customer service there w...   \n",
      "12  Absolutely disgusting i made an account with my own phone number and my own email address but be...   \n",
      "13                                                   Misleading customers to the highest degree. AVOID!   \n",
      "14  Frankly awful service all round. Second time I've given you guys a go after an awful experience ...   \n",
      "15  Deliveroo driver delivered food in a block of flats.  After this he urinated inside the lobby of...   \n",
      "16  This is not the first bad experience I've had with this scam company but it will be the last. On...   \n",
      "17  SCAM - I am surprised they are still allowed to operate! Customer service is terribly poor (at l...   \n",
      "18  Great restaurant selection compared to UberEats, and nice app experience.Yes...sometimes you hav...   \n",
      "19  If I could give 0 stars I would. I have had previous bad experiences with Deliveroo where they d...   \n",
      "20  Do not use. One day my son asked me can he gives me  his money so I can deliver KFC for him. He ...   \n",
      "21  be very careful????? my daughter has money taken out of her bank on few occasions, when rang the...   \n",
      "22  DO NOT USE!!!!!!!!!!! I AM AGROPHOBIC, I TRIED THIS SITE AND WAS RIPPED OFF. Make a 30quid order...   \n",
      "23  Hi all I am a delivery driver the reason driver don't do delivery for deliveroo is because they ...   \n",
      "24  As a business owner I’m dealing with them and it’s a nightmare every time, as a costumer when I ...   \n",
      "25  Absolute shocking. Ordered our food at 1830hrs. Estimated 1hr delivery. The take away apparently...   \n",
      "26  Poor service. Rade staff. first person we spoke to hung up, second person left us on hold for 25...   \n",
      "27  Disgusting customer service. Ordered a co op order. Didnt recieve all the items so advised them ...   \n",
      "28  Delivered an incomplete order. Instead of giving me a refund they \"credited my account\" and have...   \n",
      "29  Used a promo code and they suggested that we had used the promo before which isn't true. They th...   \n",
      "\n",
      "    Topic  \n",
      "0       2  \n",
      "1       3  \n",
      "2       3  \n",
      "3       4  \n",
      "4       2  \n",
      "5       3  \n",
      "6       4  \n",
      "7       2  \n",
      "8       4  \n",
      "9       2  \n",
      "10      3  \n",
      "11      2  \n",
      "12      3  \n",
      "13      1  \n",
      "14      2  \n",
      "15      1  \n",
      "16      1  \n",
      "17      1  \n",
      "18      2  \n",
      "19      3  \n",
      "20      3  \n",
      "21      3  \n",
      "22      3  \n",
      "23      4  \n",
      "24      2  \n",
      "25      4  \n",
      "26      4  \n",
      "27      3  \n",
      "28      1  \n",
      "29      3  \n"
     ]
    }
   ],
   "source": [
    "with pd.option_context('display.max_colwidth', 100):\n",
    "    print(reviews_df[['Review', 'Topic']].head(30))"
   ]
  },
  {
   "cell_type": "code",
   "execution_count": 139,
   "metadata": {},
   "outputs": [
    {
     "name": "stdout",
     "output_type": "stream",
     "text": [
      "[(0,\n",
      "  '0.001*\"money_back\" + 0.001*\"hour_late\" + 0.001*\"first_time\" + '\n",
      "  '0.001*\"missing_item\" + 0.001*\"never_arrived\" + 0.001*\"even_though\" + '\n",
      "  '0.001*\"item_missing\" + 0.001*\"could_give\" + 0.000*\"wrong_address\" + '\n",
      "  '0.000*\"stone_cold\"'),\n",
      " (1,\n",
      "  '0.001*\"even_though\" + 0.001*\"live_chat\" + 0.001*\"first_time\" + '\n",
      "  '0.001*\"missing_item\" + 0.001*\"hour_late\" + 0.001*\"stone_cold\" + '\n",
      "  '0.001*\"never_arrived\" + 0.001*\"money_back\" + 0.001*\"bad_experience\" + '\n",
      "  '0.001*\"never_received\"'),\n",
      " (2,\n",
      "  '0.001*\"missing_item\" + 0.001*\"first_time\" + 0.001*\"money_back\" + '\n",
      "  '0.001*\"even_though\" + 0.001*\"hour_late\" + 0.001*\"live_chat\" + '\n",
      "  '0.001*\"never_arrived\" + 0.001*\"said_would\" + 0.000*\"waste_time\" + '\n",
      "  '0.000*\"item_missing\"')]\n"
     ]
    }
   ],
   "source": [
    "# Gensim\n",
    "from pprint import pprint\n",
    "import gensim\n",
    "import gensim.corpora as corpora\n",
    "\n",
    "# Create Dictionary\n",
    "id2word = corpora.Dictionary(reviews_df['Review_Bigram'])\n",
    "\n",
    "# Create Corpus\n",
    "texts = reviews_df['Review_Bigram']\n",
    "\n",
    "# Term Document Frequency\n",
    "corpus = [id2word.doc2bow(text) for text in texts]\n",
    "\n",
    "# Number of topics\n",
    "num_topics = 3\n",
    "\n",
    "# Build LDA model\n",
    "lda_model = gensim.models.LdaMulticore(corpus=corpus,\n",
    "                                       id2word=id2word,\n",
    "                                       num_topics=num_topics)\n",
    "# Print the Keyword in the 5 topics\n",
    "pprint(lda_model.print_topics())\n",
    "doc_lda = lda_model[corpus]"
   ]
  },
  {
   "cell_type": "code",
   "execution_count": 140,
   "metadata": {},
   "outputs": [],
   "source": [
    "import pyLDAvis.gensim\n",
    "import pickle \n",
    "import pyLDAvis"
   ]
  },
  {
   "cell_type": "code",
   "execution_count": 141,
   "metadata": {},
   "outputs": [],
   "source": [
    "# Visualize the topics\n",
    "pyLDAvis.enable_notebook()\n",
    "LDAvis_data_filepath = os.path.join('./results/ldavis_prepared_'+ str(num_topics))"
   ]
  },
  {
   "cell_type": "code",
   "execution_count": 142,
   "metadata": {},
   "outputs": [],
   "source": [
    "LDAvis_prepared = pyLDAvis.gensim.prepare(lda_model, corpus, id2word)"
   ]
  },
  {
   "cell_type": "code",
   "execution_count": 143,
   "metadata": {},
   "outputs": [
    {
     "data": {
      "text/html": [
       "\n",
       "<link rel=\"stylesheet\" type=\"text/css\" href=\"https://cdn.jsdelivr.net/gh/bmabey/pyLDAvis@3.2.2/pyLDAvis/js/ldavis.v1.0.0.css\">\n",
       "\n",
       "\n",
       "<div id=\"ldavis_el362028196492797043963405716\"></div>\n",
       "<script type=\"text/javascript\">\n",
       "\n",
       "var ldavis_el362028196492797043963405716_data = {\"mdsDat\": {\"x\": [0.012829380531157645, -0.024104410816376095, 0.01127503028521845], \"y\": [0.020030173078781525, 0.000879999894905223, -0.02091017297368675], \"topics\": [1, 2, 3], \"cluster\": [1, 1, 1], \"Freq\": [34.10111206255963, 33.32976116440809, 32.56912677303229]}, \"tinfo\": {\"Term\": [\"avoid_avoid\", \"money_back\", \"live_chat\", \"give_zero\", \"missing_item\", \"never_received\", \"hour_late\", \"absolutely_disgusting\", \"absolute_joke\", \"could_give\", \"star_possible\", \"promo_code\", \"gift_card\", \"say_delivered\", \"item_missing\", \"restaurant_said\", \"zero_star\", \"several_time\", \"full_amount\", \"app_never\", \"bad_experience\", \"double_check\", \"charged_full\", \"waste_time\", \"minute_late\", \"day_late\", \"got_wrong\", \"would_give\", \"never_turned\", \"check_ip\", \"birthday_celebration\", \"help_agent\", \"wish_restaurant\", \"get_going\", \"time_applying\", \"two_late\", \"fast_friendly\", \"business_thief\", \"frontline_healthcare\", \"receiving_stone\", \"result_time\", \"trade_uk\", \"healthcare_worker\", \"age_sort\", \"\\u00a364_account\", \"love_delivered\", \"inedible_blame\", \"go_near\", \"quickly_thank\", \"hot_delicious\", \"selection_easy\", \"bunch_lazy\", \"recommending_place\", \"ubereats_put\", \"dont_money\", \"everything_still\", \"best_app\", \"ever_total\", \"call_trying\", \"stole_half\", \"missing_option\", \"people_waiting\", \"great_quick\", \"dont_recommend\", \"push_notification\", \"slow_driver\", \"delivered_company\", \"awesome_experience\", \"definitely_last\", \"still_hot\", \"experience_waited\", \"entered_wrong\", \"money_back\", \"offer_full\", \"hour_late\", \"took_payment\", \"promo_code\", \"eats_horrible\", \"could_give\", \"several_time\", \"every_email\", \"item_missing\", \"straight_away\", \"told_restaurant\", \"unable_contact\", \"wrong_address\", \"bad_company\", \"waited_hour\", \"cold_pizza\", \"absolutely_terrible\", \"first_time\", \"absolutely_awful\", \"still_waiting\", \"bad_ever\", \"never_using\", \"last_night\", \"nearly_hour\", \"time_ordered\", \"zero_star\", \"discount_code\", \"never_arrived\", \"missing_item\", \"last_time\", \"give_zero\", \"non_existent\", \"told_would\", \"company_ever\", \"marked_delivered\", \"said_would\", \"stone_cold\", \"even_though\", \"give_star\", \"delivered_wrong\", \"star_would\", \"second_time\", \"never_ever\", \"bad_experience\", \"called_restaurant\", \"one_star\", \"live_chat\", \"waste_time\", \"never_received\", \"minute_late\", \"cold_avoid\", \"anytime_issue\", \"cut_live\", \"efficient_friendly\", \"apologised_behalf\", \"quick_resolve\", \"chat_poor\", \"received_agent\", \"u_phoned\", \"rating_high\", \"ever_wrong\", \"outside_next\", \"restaurant_wasted\", \"terrible_call\", \"money_ridiculous\", \"else_free\", \"treat_pizza\", \"sent_guy\", \"cold_plus\", \"hacked_charged\", \"go_post\", \"voucher_saying\", \"received_waiting\", \"placed_thru\", \"redeliver_give\", \"bad_stay\", \"full_bug\", \"going_small\", \"people_beware\", \"german_donor\", \"true_never\", \"bunch_idiot\", \"keep_phone\", \"location_london\", \"small_claim\", \"quick_easy\", \"walk_restaurant\", \"poorly_run\", \"never_received\", \"live_chat\", \"restaurant_said\", \"got_wrong\", \"heard_nothing\", \"could_bothered\", \"bad_experience\", \"day_late\", \"minute_late\", \"stop_using\", \"stole_money\", \"even_though\", \"stone_cold\", \"said_delivered\", \"good_luck\", \"good_experience\", \"wait_time\", \"last_time\", \"never_came\", \"ordered_kfc\", \"first_time\", \"called_restaurant\", \"email_saying\", \"via_app\", \"take_money\", \"waste_time\", \"never_arrived\", \"avoid_cost\", \"never_ever\", \"next_time\", \"hour_late\", \"missing_item\", \"said_would\", \"using_eats\", \"phone_number\", \"never_using\", \"money_back\", \"time_ordered\", \"wrong_address\", \"half_hour\", \"every_time\", \"told_would\", \"bad_ever\", \"promo_code\", \"item_missing\", \"waited_hour\", \"could_give\", \"meating_room\", \"global_technical\", \"piece_nugget\", \"six_piece\", \"kebbab_curry\", \"crap_thief\", \"sort_tech\", \"detail_processed\", \"ordering_stick\", \"choice_would\", \"sometimes_working\", \"nothing_u\", \"star_half\", \"delivers_speak\", \"paid_attention\", \"curry_kebbab\", \"minute_great\", \"courier_month\", \"wait_hope\", \"polite_rider\", \"driver_asked\", \"information_missing\", \"added_promo\", \"worth_arrive\", \"time_piping\", \"example_gig\", \"share_account\", \"sure_rider\", \"email_cancelling\", \"disgusting_shame\", \"horrible_cancelled\", \"crap_order\", \"make_want\", \"avoid_avoid\", \"star_possible\", \"terrible_waiting\", \"cold_unable\", \"gift_card\", \"absolutely_disgusting\", \"experience_never\", \"missing_item\", \"say_delivered\", \"high_fee\", \"absolute_joke\", \"app_never\", \"full_amount\", \"check_ip\", \"would_give\", \"never_work\", \"time_never\", \"charged_full\", \"phone_number\", \"waste_time\", \"give_zero\", \"double_check\", \"contacted_eats\", \"phone_call\", \"bank_account\", \"please_double\", \"time_got\", \"give_star\", \"never_turned\", \"said_would\", \"live_chat\", \"never_got\", \"first_time\", \"item_missing\", \"every_time\", \"even_though\", \"bad_ever\", \"never_arrived\", \"hour_half\", \"money_back\", \"could_give\", \"hour_late\", \"star_would\", \"someone_else\", \"second_time\", \"stone_cold\", \"half_hour\", \"wrong_address\", \"minute_late\", \"called_restaurant\", \"told_would\", \"bad_experience\"], \"Freq\": [117.0, 490.0, 337.0, 119.0, 503.0, 215.0, 435.0, 126.0, 127.0, 251.0, 29.0, 208.0, 71.0, 88.0, 267.0, 153.0, 141.0, 131.0, 87.0, 64.0, 248.0, 73.0, 79.0, 248.0, 229.0, 115.0, 47.0, 187.0, 85.0, 57.0, 3.885706372483048, 2.4875689113641655, 2.3625816561290898, 2.441658444183047, 2.395167116008927, 2.370586687611058, 2.734892226345488, 1.8867582896497854, 1.831703330661942, 2.35476332328513, 1.8730499702149588, 1.8823227939512164, 1.8224239593782592, 2.3495466116423507, 2.347644642651741, 1.8619838667753488, 1.850658667530487, 2.770955556344773, 2.33796194244667, 2.327555270569163, 1.8460334800293727, 2.7367580902888675, 1.8419683884422828, 1.8582820705339618, 1.8441861362915672, 2.310258333927012, 1.8337246520884725, 1.7877808859518776, 1.8365793827658308, 1.7794746672883532, 2.2858028701485713, 4.7265671064261285, 2.695214463094746, 3.8934799949317336, 3.5636867657479656, 5.123849087158068, 2.6905150076985525, 2.673100402275533, 12.527202490914513, 5.57179486742899, 3.7910018982347817, 4.162586813123692, 239.1683573842682, 6.92082572285937, 195.02944102854417, 12.97859938989683, 98.9542829984403, 9.172261639010117, 110.98701994584667, 62.67160941212239, 5.101984768504928, 112.17823956836308, 61.66788760254551, 15.695141646901423, 9.15748064423427, 101.10740992194886, 74.79117806275305, 85.41933064677296, 13.370624625410306, 35.32424733568253, 165.65432072523654, 32.38695021456554, 69.88530356399788, 99.14056558657772, 78.84011554083581, 56.726400432126695, 31.81775508034816, 58.36985129824017, 59.50692457427856, 50.209775389827016, 122.38423622605576, 161.9164568511763, 89.18630603912204, 50.44146129082928, 26.60811628537032, 73.93374417676748, 50.24851591843204, 56.45812908098618, 98.55823345320655, 100.22817382547429, 120.5576994715306, 73.40705497214292, 59.28243723398827, 67.06849628132603, 66.16087899870969, 67.43500329257758, 78.64783465096583, 67.1781837889564, 60.64961901331782, 72.2318368072424, 63.855926797216014, 62.453060510273914, 62.85868219569764, 5.31752559341067, 2.3978587029769516, 3.6902293681381044, 2.3816949847360194, 2.341537370164408, 4.119049231209231, 2.289255184209556, 1.8531598835115966, 1.842405707569865, 1.8398579970852755, 2.2423423154708972, 1.8276538897424537, 1.830092443979067, 1.8230640249301495, 2.684390745612501, 1.8264710894607823, 2.296932141301306, 1.8159675889226945, 3.4996048938667332, 1.8046822590439935, 1.810726260606975, 1.8059967050518673, 1.7450606410120706, 1.7485933175064547, 1.79807327790606, 1.786608032201549, 1.7884580203372655, 2.5915523510817025, 2.194138221567737, 2.1066225197251027, 3.4929896961250626, 2.6232956096535434, 2.988607014626621, 2.211135878915904, 13.043468791246156, 5.3544675782785, 6.366274688915805, 2.870449490121372, 102.00632869833912, 151.28876638761997, 71.41622671608935, 25.81426710346073, 17.07508990158893, 7.994493897002078, 107.06852228622421, 54.751422422052535, 98.55437882599252, 26.394865712461478, 24.84105705701568, 151.90853106289623, 119.88572571692512, 75.04110641437543, 17.315774857344206, 26.441848609412826, 16.045586679889443, 94.6104718002881, 40.67235082379285, 60.13673313124997, 150.36893136949854, 80.12288888631944, 49.57436940078614, 37.0576985357024, 69.40679805317819, 89.60335293332493, 117.15486677258248, 52.727992504794614, 66.67000627477469, 45.49956264132781, 122.19638320507204, 134.94184264045325, 87.07731718618973, 46.93393059212046, 65.30997720283824, 64.42414773852518, 116.50246565905034, 50.82566495380057, 72.83990210845378, 59.31314576628541, 59.711511584695046, 61.00395081533859, 69.29082694477563, 59.6191723468761, 62.311485422586685, 57.13765625888196, 57.1931405442854, 4.544634320918583, 3.4722780219276728, 2.410991849367624, 2.3920392226078886, 2.262889712935536, 2.3611036516517494, 2.353052845522299, 2.3408242320309998, 2.339307693140037, 2.308851847316112, 2.2989625415179527, 4.782582274542719, 1.8113206046078454, 1.804734344813129, 2.2121867865034983, 1.7399219607680718, 2.2010537687331437, 1.8003451725233806, 2.2750566857673884, 1.7920115340347889, 2.222916013287333, 1.7744460901154673, 1.7742590241141905, 2.20772025071943, 1.765358648895847, 2.224227261982052, 1.7623486193604976, 2.2105491103165797, 1.7704044282101348, 1.7636627267524663, 2.585188174294917, 2.178456481648627, 2.9453926038480818, 74.63633144799692, 19.835415340018844, 4.216347960832562, 2.496220691832838, 38.017837593255514, 61.65702262957927, 17.143707460817307, 206.28841901886028, 43.80375220702097, 5.7908887469799275, 59.33630361530537, 32.98108747423105, 42.54560524306375, 29.529607904143525, 80.03953796745962, 15.71808371848677, 38.158076704233736, 37.50059634768492, 78.14024810173558, 95.34947976221312, 51.9620482117568, 34.35418837199296, 34.66802759085334, 66.06422472288166, 48.74632826254877, 28.357556325255324, 32.015016466972284, 76.82276601766371, 38.34787133203541, 101.69568474343231, 113.86519323974571, 51.93268939100245, 143.56381018398838, 92.56626927209476, 67.82890425251213, 119.60403940329496, 86.19840108311739, 108.35392224685008, 59.92291400833703, 134.50872655853735, 82.8888872771469, 118.17232377712533, 65.24314398143012, 63.50519898847879, 63.9158680005808, 81.26426676056793, 60.98976266973925, 70.70116887935296, 68.2894689664103, 65.86258365367726, 60.18328415383914, 62.36165719726179], \"Total\": [117.0, 490.0, 337.0, 119.0, 503.0, 215.0, 435.0, 126.0, 127.0, 251.0, 29.0, 208.0, 71.0, 88.0, 267.0, 153.0, 141.0, 131.0, 87.0, 64.0, 248.0, 73.0, 79.0, 248.0, 229.0, 115.0, 47.0, 187.0, 85.0, 57.0, 4.560161689072756, 2.9642283274988936, 2.867372188668276, 2.9702919106144408, 2.940632486182608, 2.93120757506414, 3.388770078724625, 2.3485234660637277, 2.2859573490260585, 2.939902421358787, 2.3405607737064846, 2.352833121734767, 2.278349500557654, 2.9462754333750967, 2.944254525477256, 2.341185975960562, 2.331223665856797, 3.493161963581965, 2.9482804095440454, 2.935225686959869, 2.3348024740973305, 3.462747253818848, 2.3337244496435403, 2.354690205120427, 2.3424032372429884, 2.935865379363722, 2.330551029118416, 2.273805335993284, 2.3381384004936385, 2.2666207782226624, 2.9220997816925838, 6.151330645706962, 3.4590597580280207, 5.06058404019569, 4.626949578775037, 6.774923514202991, 3.4772325881529484, 3.4648986664645762, 18.56336713729991, 7.723574750801359, 5.0724939407936365, 5.641126536492232, 490.1795496018559, 10.096581745212667, 435.3981480107415, 20.6428361474808, 208.77606116080418, 14.202235772620973, 251.06904776727896, 131.53517960146237, 7.263106915086974, 267.0559942630445, 133.31657483353592, 27.195934258469627, 14.445065962704879, 244.64848090975562, 172.27053795388463, 202.33241500548576, 22.727532408532326, 72.3032211453005, 459.58706227872347, 65.46177708486672, 166.5115910765065, 254.62979361447077, 194.26132393011665, 130.73963762466008, 65.3516684982634, 137.7048065099153, 141.63846866381687, 115.18871103484818, 347.89302524548833, 503.1467185104898, 239.84495070417273, 119.87057455394267, 53.46491227909584, 195.1209791459452, 119.93508696956877, 140.12589928725123, 287.3312353828286, 301.3781663029673, 392.0702699377218, 200.81635879561196, 151.80582621735155, 181.74874705302193, 179.77409106111315, 186.0602597970493, 248.07801413445182, 213.16365632895312, 165.79307363336153, 337.3857964346081, 248.80875949275406, 215.4366791091898, 229.70252998810048, 6.116489980945231, 2.898512014312498, 4.469311020317545, 2.892237467827585, 2.853614858680867, 5.065845346110792, 2.819627755986014, 2.319667238130811, 2.3113825302321667, 2.3106865738038285, 2.826267287107817, 2.308981926549483, 2.3133099160610566, 2.305976618728799, 3.399779088101149, 2.316007373650249, 2.9130989522252815, 2.3094835360003287, 4.459001879353577, 2.299632361098085, 2.3113408435130074, 2.3091729558416643, 2.2372767355752723, 2.2439457697352814, 2.3097379498720105, 2.297050222077637, 2.3070670508510336, 3.34894543151227, 2.8473370921001755, 2.73562757527411, 4.536655737949546, 3.415756984138987, 3.9538288747798624, 2.8945912123696282, 20.39876493939251, 7.704904666579584, 9.41378343601468, 3.867238732067992, 215.4366791091898, 337.3857964346081, 153.09122756930174, 47.68768553962142, 29.679560104012523, 12.522260269049474, 248.07801413445182, 115.82367248695952, 229.70252998810048, 49.84040595459035, 47.507817538939086, 392.0702699377218, 301.3781663029673, 178.66602369345236, 31.64118528622656, 52.41301680471111, 28.9697571018664, 239.84495070417273, 90.07726894748885, 148.98320395590258, 459.58706227872347, 213.16365632895312, 118.12190788354941, 82.77348987168696, 180.32648947372908, 248.80875949275406, 347.89302524548833, 129.68449098654796, 186.0602597970493, 114.7786342256664, 435.3981480107415, 503.1467185104898, 287.3312353828286, 121.414370109631, 194.9179828519196, 194.26132393011665, 490.1795496018559, 137.7048065099153, 244.64848090975562, 178.48176590514583, 184.26230257721176, 195.1209791459452, 254.62979361447077, 208.77606116080418, 267.0559942630445, 202.33241500548576, 251.06904776727896, 5.103752298472126, 3.9567771054358145, 2.8876777668282028, 2.8723104964058868, 2.737030479178171, 2.860918401857796, 2.875046496571935, 2.8682688263782654, 2.866780280347076, 2.865459360638322, 2.8757270380089683, 6.0543554125400645, 2.2941890861553236, 2.289436306754916, 2.80894666478693, 2.2099493321669184, 2.796385188701467, 2.2873796088555913, 2.8920170146044804, 2.2983736200587543, 2.8649896411400837, 2.2880658753673293, 2.296048103284287, 2.8575934540214543, 2.290453748477616, 2.887971180017389, 2.289914937646864, 2.879689645412267, 2.3070253943382744, 2.302974344410308, 3.3857226790756525, 2.8524259076660945, 3.9163283914155227, 117.81135650421444, 29.936648045551678, 5.812093957396705, 3.330975230183842, 71.41153593704388, 126.05297049997068, 29.542144037350283, 503.1467185104898, 88.41107756588988, 8.65081991201307, 127.68566329394403, 64.654405129663, 87.67398209104314, 57.71301757494909, 187.20530493578565, 28.10739972144158, 81.01681716123545, 79.85112755306068, 194.9179828519196, 248.80875949275406, 119.87057455394267, 73.58928942451497, 74.67899227335297, 164.10680788299823, 113.2802916631311, 58.87062122554746, 68.85713014808951, 200.81635879561196, 85.90111925124486, 287.3312353828286, 337.3857964346081, 126.80995599534239, 459.58706227872347, 267.0559942630445, 184.26230257721176, 392.0702699377218, 254.62979361447077, 347.89302524548833, 158.8371057635772, 490.1795496018559, 251.06904776727896, 435.3981480107415, 181.74874705302193, 176.1113620092926, 179.77409106111315, 301.3781663029673, 178.48176590514583, 244.64848090975562, 229.70252998810048, 213.16365632895312, 195.1209791459452, 248.07801413445182], \"Category\": [\"Default\", \"Default\", \"Default\", \"Default\", \"Default\", \"Default\", \"Default\", \"Default\", \"Default\", \"Default\", \"Default\", \"Default\", \"Default\", \"Default\", \"Default\", \"Default\", \"Default\", \"Default\", \"Default\", \"Default\", \"Default\", \"Default\", \"Default\", \"Default\", \"Default\", \"Default\", \"Default\", \"Default\", \"Default\", \"Default\", \"Topic1\", \"Topic1\", \"Topic1\", \"Topic1\", \"Topic1\", \"Topic1\", \"Topic1\", \"Topic1\", \"Topic1\", \"Topic1\", \"Topic1\", \"Topic1\", \"Topic1\", \"Topic1\", \"Topic1\", \"Topic1\", \"Topic1\", \"Topic1\", \"Topic1\", \"Topic1\", \"Topic1\", \"Topic1\", \"Topic1\", \"Topic1\", \"Topic1\", \"Topic1\", \"Topic1\", \"Topic1\", \"Topic1\", \"Topic1\", \"Topic1\", \"Topic1\", \"Topic1\", \"Topic1\", \"Topic1\", \"Topic1\", \"Topic1\", \"Topic1\", \"Topic1\", \"Topic1\", \"Topic1\", \"Topic1\", \"Topic1\", \"Topic1\", \"Topic1\", \"Topic1\", \"Topic1\", \"Topic1\", \"Topic1\", \"Topic1\", \"Topic1\", \"Topic1\", \"Topic1\", \"Topic1\", \"Topic1\", \"Topic1\", \"Topic1\", \"Topic1\", \"Topic1\", \"Topic1\", \"Topic1\", \"Topic1\", \"Topic1\", \"Topic1\", \"Topic1\", \"Topic1\", \"Topic1\", \"Topic1\", \"Topic1\", \"Topic1\", \"Topic1\", \"Topic1\", \"Topic1\", \"Topic1\", \"Topic1\", \"Topic1\", \"Topic1\", \"Topic1\", \"Topic1\", \"Topic1\", \"Topic1\", \"Topic1\", \"Topic1\", \"Topic1\", \"Topic1\", \"Topic1\", \"Topic1\", \"Topic1\", \"Topic1\", \"Topic1\", \"Topic1\", \"Topic1\", \"Topic1\", \"Topic2\", \"Topic2\", \"Topic2\", \"Topic2\", \"Topic2\", \"Topic2\", \"Topic2\", \"Topic2\", \"Topic2\", \"Topic2\", \"Topic2\", \"Topic2\", \"Topic2\", \"Topic2\", \"Topic2\", \"Topic2\", \"Topic2\", \"Topic2\", \"Topic2\", \"Topic2\", \"Topic2\", \"Topic2\", \"Topic2\", \"Topic2\", \"Topic2\", \"Topic2\", \"Topic2\", \"Topic2\", \"Topic2\", \"Topic2\", \"Topic2\", \"Topic2\", \"Topic2\", \"Topic2\", \"Topic2\", \"Topic2\", \"Topic2\", \"Topic2\", \"Topic2\", \"Topic2\", \"Topic2\", \"Topic2\", \"Topic2\", \"Topic2\", \"Topic2\", \"Topic2\", \"Topic2\", \"Topic2\", \"Topic2\", \"Topic2\", \"Topic2\", \"Topic2\", \"Topic2\", \"Topic2\", \"Topic2\", \"Topic2\", \"Topic2\", \"Topic2\", \"Topic2\", \"Topic2\", \"Topic2\", \"Topic2\", \"Topic2\", \"Topic2\", \"Topic2\", \"Topic2\", \"Topic2\", \"Topic2\", \"Topic2\", \"Topic2\", \"Topic2\", \"Topic2\", \"Topic2\", \"Topic2\", \"Topic2\", \"Topic2\", \"Topic2\", \"Topic2\", \"Topic2\", \"Topic2\", \"Topic2\", \"Topic2\", \"Topic2\", \"Topic2\", \"Topic2\", \"Topic3\", \"Topic3\", \"Topic3\", \"Topic3\", \"Topic3\", \"Topic3\", \"Topic3\", \"Topic3\", \"Topic3\", \"Topic3\", \"Topic3\", \"Topic3\", \"Topic3\", \"Topic3\", \"Topic3\", \"Topic3\", \"Topic3\", \"Topic3\", \"Topic3\", \"Topic3\", \"Topic3\", \"Topic3\", \"Topic3\", \"Topic3\", \"Topic3\", \"Topic3\", \"Topic3\", \"Topic3\", \"Topic3\", \"Topic3\", \"Topic3\", \"Topic3\", \"Topic3\", \"Topic3\", \"Topic3\", \"Topic3\", \"Topic3\", \"Topic3\", \"Topic3\", \"Topic3\", \"Topic3\", \"Topic3\", \"Topic3\", \"Topic3\", \"Topic3\", \"Topic3\", \"Topic3\", \"Topic3\", \"Topic3\", \"Topic3\", \"Topic3\", \"Topic3\", \"Topic3\", \"Topic3\", \"Topic3\", \"Topic3\", \"Topic3\", \"Topic3\", \"Topic3\", \"Topic3\", \"Topic3\", \"Topic3\", \"Topic3\", \"Topic3\", \"Topic3\", \"Topic3\", \"Topic3\", \"Topic3\", \"Topic3\", \"Topic3\", \"Topic3\", \"Topic3\", \"Topic3\", \"Topic3\", \"Topic3\", \"Topic3\", \"Topic3\", \"Topic3\", \"Topic3\", \"Topic3\", \"Topic3\", \"Topic3\", \"Topic3\", \"Topic3\", \"Topic3\"], \"logprob\": [30.0, 29.0, 28.0, 27.0, 26.0, 25.0, 24.0, 23.0, 22.0, 21.0, 20.0, 19.0, 18.0, 17.0, 16.0, 15.0, 14.0, 13.0, 12.0, 11.0, 10.0, 9.0, 8.0, 7.0, 6.0, 5.0, 4.0, 3.0, 2.0, 1.0, -10.8768, -11.3228, -11.3744, -11.3414, -11.3607, -11.371, -11.228, -11.5993, -11.6289, -11.3777, -11.6066, -11.6016, -11.634, -11.3799, -11.3807, -11.6125, -11.6186, -11.2149, -11.3848, -11.3893, -11.6211, -11.2273, -11.6233, -11.6145, -11.6221, -11.3968, -11.6278, -11.6531, -11.6262, -11.6578, -11.4074, -10.6809, -11.2426, -10.8748, -10.9633, -10.6002, -11.2444, -11.2509, -9.7062, -10.5164, -10.9015, -10.808, -6.757, -10.2996, -6.961, -9.6708, -7.6395, -10.0179, -7.5247, -8.0962, -10.6045, -7.514, -8.1124, -9.4808, -10.0195, -7.6179, -7.9194, -7.7865, -9.6411, -8.6695, -7.1242, -8.7564, -7.9873, -7.6376, -7.8667, -8.1959, -8.7741, -8.1673, -8.148, -8.3179, -7.427, -7.147, -7.7434, -8.3133, -8.9529, -7.9309, -8.3171, -8.2006, -7.6435, -7.6267, -7.442, -7.9381, -8.1518, -8.0284, -8.042, -8.023, -7.8691, -8.0268, -8.129, -7.9542, -8.0775, -8.0997, -8.0932, -10.5402, -11.3367, -10.9056, -11.3434, -11.3604, -10.7956, -11.383, -11.5943, -11.6002, -11.6016, -11.4037, -11.6082, -11.6069, -11.6107, -11.2238, -11.6089, -11.3797, -11.6146, -10.9586, -11.6209, -11.6175, -11.6201, -11.6545, -11.6524, -11.6245, -11.6309, -11.6299, -11.259, -11.4255, -11.4662, -10.9605, -11.2468, -11.1164, -11.4177, -9.643, -10.5333, -10.3602, -11.1568, -7.5862, -7.192, -7.9427, -8.9603, -9.3736, -10.1325, -7.5378, -8.2084, -7.6206, -8.9381, -8.9987, -7.188, -7.4247, -7.8932, -9.3596, -8.9363, -9.4358, -7.6615, -8.5057, -8.1146, -7.1981, -7.8277, -8.3078, -8.5988, -7.9713, -7.7158, -7.4477, -8.2461, -8.0115, -8.3935, -7.4056, -7.3064, -7.7444, -8.3625, -8.0321, -8.0458, -7.4533, -8.2828, -7.923, -8.1284, -8.1217, -8.1003, -7.9729, -8.1233, -8.0791, -8.1658, -8.1648, -10.6742, -10.9433, -11.3081, -11.316, -11.3715, -11.329, -11.3324, -11.3377, -11.3383, -11.3514, -11.3557, -10.6232, -11.5941, -11.5977, -11.3942, -11.6343, -11.3992, -11.6002, -11.3661, -11.6048, -11.3893, -11.6147, -11.6148, -11.3962, -11.6198, -11.3887, -11.6215, -11.3949, -11.6169, -11.6208, -11.2384, -11.4095, -11.1079, -7.8755, -9.2007, -10.7492, -11.2734, -8.5501, -8.0666, -9.3465, -6.8589, -8.4084, -10.4319, -8.1049, -8.6922, -8.4376, -8.8028, -7.8056, -9.4333, -8.5464, -8.5638, -7.8296, -7.6306, -8.2376, -8.6514, -8.6423, -7.9975, -8.3015, -8.8433, -8.7219, -7.8467, -8.5415, -7.5662, -7.4531, -8.2382, -7.2214, -7.6602, -7.9712, -7.404, -7.7315, -7.5028, -8.0951, -7.2865, -7.7707, -7.416, -8.01, -8.037, -8.0306, -7.7904, -8.0774, -7.9297, -7.9644, -8.0006, -8.0908, -8.0552], \"loglift\": [30.0, 29.0, 28.0, 27.0, 26.0, 25.0, 24.0, 23.0, 22.0, 21.0, 20.0, 19.0, 18.0, 17.0, 16.0, 15.0, 14.0, 13.0, 12.0, 11.0, 10.0, 9.0, 8.0, 7.0, 6.0, 5.0, 4.0, 3.0, 2.0, 1.0, 0.9158, 0.9005, 0.8822, 0.8799, 0.8707, 0.8636, 0.8615, 0.8569, 0.8543, 0.8539, 0.853, 0.8527, 0.8526, 0.8495, 0.8494, 0.8468, 0.845, 0.8442, 0.8439, 0.8439, 0.841, 0.8406, 0.8392, 0.8391, 0.8367, 0.8362, 0.8361, 0.8354, 0.8344, 0.8339, 0.8303, 0.8124, 0.8263, 0.8137, 0.8147, 0.7965, 0.8193, 0.8164, 0.6826, 0.7493, 0.7846, 0.7719, 0.3582, 0.6982, 0.2727, 0.6118, 0.3292, 0.6386, 0.2595, 0.3345, 0.7227, 0.2085, 0.3049, 0.5261, 0.6201, 0.1922, 0.2415, 0.2135, 0.5453, 0.3595, 0.0554, 0.3721, 0.2076, 0.1326, 0.1741, 0.2409, 0.3561, 0.2175, 0.2087, 0.2455, 0.0311, -0.058, 0.0866, 0.2102, 0.378, 0.1054, 0.2059, 0.1668, 0.0059, -0.0251, -0.1035, 0.0695, 0.1356, 0.0789, 0.0762, 0.0609, -0.0729, -0.0789, 0.0702, -0.4655, -0.2842, -0.1624, -0.2201, 0.9587, 0.9091, 0.9072, 0.9045, 0.9009, 0.8918, 0.8903, 0.8742, 0.8719, 0.8709, 0.8673, 0.8649, 0.8644, 0.8637, 0.8625, 0.8613, 0.8611, 0.8583, 0.8564, 0.8564, 0.8546, 0.8529, 0.8502, 0.8493, 0.8483, 0.8474, 0.8441, 0.8423, 0.8381, 0.8374, 0.8373, 0.8348, 0.8188, 0.8294, 0.6515, 0.7348, 0.7076, 0.8006, 0.3511, 0.2967, 0.3362, 0.485, 0.5459, 0.65, 0.2584, 0.3495, 0.2525, 0.4631, 0.4503, 0.1506, 0.1769, 0.2312, 0.4959, 0.4145, 0.5079, 0.1685, 0.3036, 0.1915, -0.0185, 0.1202, 0.2305, 0.2951, 0.1439, 0.0774, 0.0103, 0.1988, 0.0724, 0.1734, -0.1719, -0.2173, -0.0951, 0.1483, 0.0053, -0.005, -0.3381, 0.102, -0.1128, -0.0029, -0.0281, -0.064, -0.2028, -0.1546, -0.3566, -0.1657, -0.3806, 1.0058, 0.9912, 0.9414, 0.9388, 0.9316, 0.9298, 0.9215, 0.9186, 0.9185, 0.9058, 0.898, 0.886, 0.8855, 0.8839, 0.883, 0.8827, 0.8824, 0.8824, 0.8819, 0.8729, 0.8681, 0.8676, 0.864, 0.8638, 0.8614, 0.8607, 0.8599, 0.8574, 0.8571, 0.855, 0.852, 0.8523, 0.8369, 0.6653, 0.7102, 0.8008, 0.8333, 0.4914, 0.4067, 0.5776, 0.2302, 0.4195, 0.7204, 0.3555, 0.4487, 0.3988, 0.4517, 0.2721, 0.5406, 0.3689, 0.366, 0.2077, 0.1627, 0.2859, 0.36, 0.3544, 0.2119, 0.2786, 0.3914, 0.356, 0.1609, 0.3153, 0.0832, 0.0356, 0.2291, -0.0417, 0.0623, 0.1224, -0.0654, 0.0386, -0.0447, 0.147, -0.1713, 0.0136, -0.1823, 0.0973, 0.1018, 0.0877, -0.1889, 0.048, -0.1196, -0.0912, -0.0527, -0.0544, -0.259]}, \"token.table\": {\"Topic\": [1, 2, 3, 1, 2, 3, 1, 2, 3, 1, 2, 3, 3, 1, 2, 2, 1, 2, 3, 1, 2, 3, 1, 2, 3, 1, 2, 1, 2, 3, 1, 2, 3, 1, 2, 3, 2, 1, 2, 3, 1, 1, 1, 2, 1, 1, 1, 1, 2, 3, 1, 2, 3, 2, 1, 2, 3, 3, 2, 1, 2, 3, 2, 1, 3, 1, 2, 3, 1, 2, 3, 1, 2, 3, 1, 2, 3, 3, 3, 3, 3, 2, 1, 2, 3, 1, 2, 3, 1, 2, 1, 2, 3, 3, 3, 1, 2, 3, 3, 1, 1, 2, 3, 1, 2, 3, 3, 1, 2, 3, 2, 2, 3, 1, 2, 3, 1, 2, 3, 1, 2, 3, 1, 2, 1, 2, 3, 1, 2, 3, 1, 3, 1, 2, 3, 1, 2, 3, 1, 1, 2, 3, 1, 1, 2, 3, 2, 2, 1, 1, 2, 3, 1, 2, 3, 1, 2, 3, 3, 1, 2, 2, 1, 2, 3, 1, 2, 3, 1, 2, 3, 1, 2, 1, 2, 3, 1, 1, 2, 3, 1, 1, 2, 3, 3, 1, 1, 2, 3, 1, 2, 3, 1, 3, 1, 2, 3, 3, 2, 3, 1, 2, 3, 1, 2, 3, 1, 2, 3, 2, 1, 1, 3, 1, 2, 3, 3, 3, 1, 2, 3, 1, 2, 3, 1, 1, 2, 3, 2, 1, 2, 3, 1, 2, 3, 1, 2, 3, 1, 2, 3, 1, 2, 3, 1, 2, 3, 1, 2, 3, 1, 2, 3, 1, 2, 3, 1, 2, 3, 1, 2, 3, 1, 2, 3, 1, 2, 3, 1, 2, 3, 1, 2, 3, 3, 2, 3, 2, 1, 2, 3, 1, 2, 3, 1, 2, 3, 3, 2, 1, 2, 3, 3, 2, 3, 1, 2, 3, 1, 3, 1, 2, 3, 1, 2, 1, 2, 2, 2, 1, 1, 2, 1, 2, 3, 2, 1, 1, 2, 3, 1, 2, 3, 1, 2, 3, 1, 2, 3, 1, 2, 1, 2, 3, 3, 3, 1, 2, 3, 1, 2, 3, 1, 2, 3, 3, 3, 3, 1, 2, 3, 1, 2, 3, 1, 2, 3, 1, 2, 3, 1, 1, 2, 3, 1, 2, 3, 1, 2, 3, 1, 2, 3, 3, 1, 2, 3, 2, 1, 2, 3, 1, 1, 2, 3, 1, 2, 3, 1, 2, 3, 3, 1, 2, 3, 1, 2, 3, 1, 2, 3, 1, 2, 1, 2, 1, 2, 1, 1, 2, 3, 1, 2, 3, 1, 2, 3, 2, 3, 1, 2, 3, 1, 2, 3, 1, 2, 3, 1, 2, 3, 1, 3, 1, 2, 3, 1, 2, 3, 1, 2, 3, 1], \"Freq\": [0.34459624412733003, 0.19579332052689205, 0.46207223644346523, 0.4888348808269318, 0.2444174404134659, 0.25969353043930754, 0.29352739450125537, 0.21419566625767283, 0.4918567151102117, 0.48407248592236335, 0.23512092173371935, 0.2766128490984934, 0.8710618898354885, 0.6788231600291715, 0.6900092151159782, 0.7008654282535292, 0.29387015412013945, 0.20106905281904278, 0.5104060571560316, 0.1273221907046237, 0.23766808931529756, 0.6366109535231185, 0.3084408913950178, 0.40868418109839855, 0.28530782454039144, 0.8658261867903521, 0.28860872893011735, 0.43536173329926486, 0.25541221686890203, 0.3134604479754707, 0.3887997496078313, 0.27098164366606425, 0.3377452370330656, 0.3184482118483263, 0.4313159325034293, 0.2499213814505852, 0.8706818774693742, 0.3177957919375377, 0.24717450484030712, 0.43255538347053746, 0.8581661482677535, 0.877161879936179, 0.2927608739859082, 0.8782826219577247, 0.8663641265447506, 0.8515988998620163, 0.8553813579118117, 0.31431249188466687, 0.3752984977727366, 0.30962126066250767, 0.3256059218791009, 0.20037287500252365, 0.4758855781309937, 0.7093134885461528, 0.2772338143508365, 0.22525247416005464, 0.5198134019078184, 0.697968370263144, 0.8174623052725591, 0.5719934644167338, 0.1759979890513027, 0.21999748631412838, 0.6727963075976345, 0.3002123795273039, 0.6004247590546078, 0.41689218112366516, 0.2334596214292525, 0.35018943214387876, 0.2945942269744588, 0.2410316402518299, 0.4686726338230026, 0.15971557506621079, 0.6388623002648431, 0.23957336259931616, 0.4421094554948413, 0.22702917984870227, 0.3305863496042507, 0.8743629576205886, 0.7011575636810968, 0.6990762122754913, 0.9049981241148832, 0.8949925350497983, 0.29354966277578554, 0.4748597486078884, 0.23311296749841795, 0.7003039860090212, 0.16160861215592798, 0.16160861215592798, 0.8627550570591981, 0.2875850190197327, 0.38865438481607, 0.3096060353619541, 0.29643131045293475, 0.8735774802291103, 0.6972847111145367, 0.434070314276487, 0.28648640742248144, 0.2778050011369517, 0.8684421538843122, 0.8538239566104778, 0.7904226010730023, 0.19760565026825058, 0.19760565026825058, 0.3533122850257956, 0.19024507655235148, 0.46202375734142503, 0.6980828032607221, 0.6337030411331555, 0.21123434704438515, 0.14082289802959008, 0.6915061512920094, 0.8635551090011466, 0.8669172020855286, 0.3217015427609105, 0.42329150363277696, 0.2539749021796662, 0.7090782265074455, 0.17726955662686136, 0.17726955662686136, 0.308618146484864, 0.3876856055016474, 0.30606758329077427, 0.8795827718146876, 0.7076471532339197, 0.6884106290124915, 0.13768212580249828, 0.13768212580249828, 0.30934162442757485, 0.32562276255534195, 0.3690391308960542, 0.6812301456524726, 0.6925276865082697, 0.20309967998308348, 0.20309967998308348, 0.5754490932854032, 0.7885667379179097, 0.1971416844794774, 0.1971416844794774, 0.8852769383306938, 0.36119380553695135, 0.3263799447623055, 0.31332474697181323, 0.8749069622196181, 0.2965532006177256, 0.21671195429756873, 0.4904533702523924, 0.86690154898716, 0.7310936686254158, 0.6733344937758241, 0.22405343604576067, 0.2520601155514807, 0.5321269106086816, 0.36351620175674215, 0.25396337383005274, 0.38343489774341294, 0.4171165457916414, 0.1418196255691581, 0.4338012076233071, 0.7581928221022621, 0.8588207564597818, 0.86529860172427, 0.8958043842014177, 0.2480299893524065, 0.496059978704813, 0.2480299893524065, 0.3160437862722232, 0.5372744366627794, 0.1580218931361116, 0.2935768394204845, 0.5452141303523285, 0.1677581939545626, 0.8672877052896806, 0.8697042335258279, 0.32496316755866317, 0.3305659807924332, 0.34177160725997335, 0.8778284453331131, 0.2021593304945524, 0.5727847697345652, 0.2358525522436445, 0.6747118571960771, 0.11559597936044622, 0.23119195872089243, 0.6935758761626774, 0.8860737527442856, 0.6813786104711697, 0.3273794227741719, 0.29590063212280926, 0.3777454878163522, 0.44786593808660213, 0.2802033048541819, 0.2710163112524054, 0.8579185383590974, 0.8741007072966889, 0.41938770297618694, 0.2321610498618178, 0.34824157479272666, 0.7307189361663688, 0.7587581797320531, 0.2529193932440177, 0.435981015670558, 0.3288979591900701, 0.2371124822067947, 0.3710730609033064, 0.39608922231251803, 0.2334841731526422, 0.21340554570131406, 0.44755885279025587, 0.3378921140270806, 0.6909438512261357, 0.8542678883848271, 0.25534120228323315, 0.7660236068496994, 0.39964061094232656, 0.26404826080118005, 0.33541265561230976, 0.9796713687489916, 0.7152090520579258, 0.27426776711281176, 0.4309922054629899, 0.29603505021700316, 0.32197367892924567, 0.26831139910770474, 0.409423320119905, 0.6844393242593273, 0.4875764404984371, 0.23868804827747758, 0.2754092864740126, 0.8824102749792386, 0.48965850046889536, 0.2907347346534066, 0.2295274220947947, 0.3506825119989443, 0.33631027790062695, 0.31044025652365564, 0.3330473975347621, 0.45516477663084154, 0.21093001843868267, 0.3600983900220403, 0.3600983900220403, 0.2794793474797925, 0.34697591095778063, 0.2444603009020727, 0.4100624402228316, 0.28778757756740453, 0.473456982449601, 0.2367284912248005, 0.3608800475501459, 0.19790196155975742, 0.4423690905453401, 0.4066686996760064, 0.32945312378815705, 0.26253295801868765, 0.17788909858444774, 0.24904473801822682, 0.5692451154702327, 0.3310720697833724, 0.39205903000662523, 0.2787975324491557, 0.5050041017378922, 0.2618539786789071, 0.24315012305898515, 0.1651703495848217, 0.1651703495848217, 0.8258517479241086, 0.6933039494598334, 0.09904342135140477, 0.19808684270280955, 0.3679285187443762, 0.30761236813054404, 0.32570721331469366, 0.2953353051329432, 0.4027299615449226, 0.3020474711586919, 0.6976467689940519, 0.8661826136459967, 0.7120106711430593, 0.7024106859524716, 0.8128322615025612, 0.16256645230051223, 0.16256645230051223, 0.2620244739063923, 0.33514758290352503, 0.40217709948423, 0.26164851110092296, 0.33347359257960774, 0.4001683110955293, 0.692598053347476, 0.8912871366922296, 0.3227416256948682, 0.2038368162283378, 0.47561923786612154, 0.8701805409465468, 0.7757472987440216, 0.25858243291467387, 0.4741922969978244, 0.28738927090777233, 0.2394910590898103, 0.8645004515175592, 0.2161251128793898, 0.12978745919304502, 0.6489372959652251, 0.12978745919304502, 0.1974004202018783, 0.7896016808075133, 0.6783615267820818, 0.8655436105761504, 0.8621926313929411, 0.8939439489973237, 0.680294687833763, 0.8569992058426117, 0.8658990947916088, 0.2612821167815948, 0.4637757572873307, 0.27434622262067454, 0.8645620658581973, 0.8544960773792784, 0.33582210405569596, 0.41977763006962, 0.24626954297417705, 0.34455007952092775, 0.3027864335183911, 0.3549909910215619, 0.21490519653309192, 0.29408079525581, 0.4976751919713708, 0.3671274298228196, 0.2781268407748633, 0.3560023561918251, 0.8566035123691694, 0.8659944826728201, 0.47895931864679325, 0.2204733371548731, 0.30410115469637666, 0.8733948877835684, 0.6963035516190168, 0.7380157118405795, 0.1476031423681159, 0.1476031423681159, 0.14706772733120882, 0.6372934851019049, 0.1960903031082784, 0.3406935209372469, 0.3009459434945681, 0.36340642233306336, 0.6954762999289096, 0.6956409235066989, 0.871767724844191, 0.1670193667772019, 0.1670193667772019, 0.6680774671088076, 0.36864078067318923, 0.2696029589997951, 0.3576365782650343, 0.7768423552031357, 0.1294737258671893, 0.1294737258671893, 0.4203911544382357, 0.32430174770949616, 0.25223469266294146, 0.8823708046867332, 0.25259000774271256, 0.5262291827973179, 0.21049167311892714, 0.33180903987408533, 0.3981708478489024, 0.2687653222980091, 0.24076850439246447, 0.5216650928503397, 0.2207044623597591, 0.4650584526148795, 0.2625329974438836, 0.2775348830121055, 0.6945192872385637, 0.33827531483602025, 0.3826392905522196, 0.2772748482262461, 0.867311482586726, 0.17205502996512292, 0.17205502996512292, 0.6882201198604917, 0.6801257924604875, 0.21784236385890365, 0.30497930940246515, 0.4647303762323278, 0.25920544321318983, 0.27154855955667506, 0.46903842105243876, 0.4211908172996399, 0.37035744279795924, 0.21059540864981996, 0.8731894286576751, 0.5883232341987708, 0.2573914149619622, 0.1470808085496927, 0.37925188938627663, 0.31262655746706586, 0.3075015319348189, 0.6297584259799731, 0.14532886753383994, 0.19377182337845325, 0.8500390365660019, 0.686554089922769, 0.22042668823973294, 0.6612800647191988, 0.6823126471881598, 0.8652829957138727, 0.8493686327190175, 0.6230501143599295, 0.20768337145330984, 0.20768337145330984, 0.3459228093188322, 0.3871040961425027, 0.26356023567149117, 0.24162325438982232, 0.4470030206211713, 0.3020290679872779, 0.8661109575791933, 0.6915588635544474, 0.24163129761101862, 0.5523001088251854, 0.17259378400787043, 0.42010075349367737, 0.28171462293105426, 0.29654170834847815, 0.10622721531645403, 0.6373632918987242, 0.21245443063290806, 0.2572256705530652, 0.361723599215248, 0.38181935472720624, 0.6975027545792306, 0.699889621172468, 0.28845336417428363, 0.28311163520809324, 0.427338317295235, 0.4128372251665697, 0.2983873013580157, 0.29021230680026183, 0.4236137298434918, 0.20474663609102103, 0.38125235685914266, 0.6792890976964042], \"Term\": [\"absolute_joke\", \"absolute_joke\", \"absolute_joke\", \"absolutely_awful\", \"absolutely_awful\", \"absolutely_awful\", \"absolutely_disgusting\", \"absolutely_disgusting\", \"absolutely_disgusting\", \"absolutely_terrible\", \"absolutely_terrible\", \"absolutely_terrible\", \"added_promo\", \"age_sort\", \"anytime_issue\", \"apologised_behalf\", \"app_never\", \"app_never\", \"app_never\", \"avoid_avoid\", \"avoid_avoid\", \"avoid_avoid\", \"avoid_cost\", \"avoid_cost\", \"avoid_cost\", \"awesome_experience\", \"awesome_experience\", \"bad_company\", \"bad_company\", \"bad_company\", \"bad_ever\", \"bad_ever\", \"bad_ever\", \"bad_experience\", \"bad_experience\", \"bad_experience\", \"bad_stay\", \"bank_account\", \"bank_account\", \"bank_account\", \"best_app\", \"birthday_celebration\", \"bunch_idiot\", \"bunch_idiot\", \"bunch_lazy\", \"business_thief\", \"call_trying\", \"called_restaurant\", \"called_restaurant\", \"called_restaurant\", \"charged_full\", \"charged_full\", \"charged_full\", \"chat_poor\", \"check_ip\", \"check_ip\", \"check_ip\", \"choice_would\", \"cold_avoid\", \"cold_pizza\", \"cold_pizza\", \"cold_pizza\", \"cold_plus\", \"cold_unable\", \"cold_unable\", \"company_ever\", \"company_ever\", \"company_ever\", \"contacted_eats\", \"contacted_eats\", \"contacted_eats\", \"could_bothered\", \"could_bothered\", \"could_bothered\", \"could_give\", \"could_give\", \"could_give\", \"courier_month\", \"crap_order\", \"crap_thief\", \"curry_kebbab\", \"cut_live\", \"day_late\", \"day_late\", \"day_late\", \"definitely_last\", \"definitely_last\", \"definitely_last\", \"delivered_company\", \"delivered_company\", \"delivered_wrong\", \"delivered_wrong\", \"delivered_wrong\", \"delivers_speak\", \"detail_processed\", \"discount_code\", \"discount_code\", \"discount_code\", \"disgusting_shame\", \"dont_money\", \"dont_recommend\", \"dont_recommend\", \"dont_recommend\", \"double_check\", \"double_check\", \"double_check\", \"driver_asked\", \"eats_horrible\", \"eats_horrible\", \"eats_horrible\", \"efficient_friendly\", \"else_free\", \"email_cancelling\", \"email_saying\", \"email_saying\", \"email_saying\", \"entered_wrong\", \"entered_wrong\", \"entered_wrong\", \"even_though\", \"even_though\", \"even_though\", \"ever_total\", \"ever_wrong\", \"every_email\", \"every_email\", \"every_email\", \"every_time\", \"every_time\", \"every_time\", \"everything_still\", \"example_gig\", \"experience_never\", \"experience_never\", \"experience_never\", \"experience_waited\", \"experience_waited\", \"experience_waited\", \"fast_friendly\", \"first_time\", \"first_time\", \"first_time\", \"frontline_healthcare\", \"full_amount\", \"full_amount\", \"full_amount\", \"full_bug\", \"german_donor\", \"get_going\", \"gift_card\", \"gift_card\", \"gift_card\", \"give_star\", \"give_star\", \"give_star\", \"give_zero\", \"give_zero\", \"give_zero\", \"global_technical\", \"go_near\", \"go_post\", \"going_small\", \"good_experience\", \"good_experience\", \"good_experience\", \"good_luck\", \"good_luck\", \"good_luck\", \"got_wrong\", \"got_wrong\", \"got_wrong\", \"great_quick\", \"hacked_charged\", \"half_hour\", \"half_hour\", \"half_hour\", \"healthcare_worker\", \"heard_nothing\", \"heard_nothing\", \"heard_nothing\", \"help_agent\", \"high_fee\", \"high_fee\", \"high_fee\", \"horrible_cancelled\", \"hot_delicious\", \"hour_half\", \"hour_half\", \"hour_half\", \"hour_late\", \"hour_late\", \"hour_late\", \"inedible_blame\", \"information_missing\", \"item_missing\", \"item_missing\", \"item_missing\", \"kebbab_curry\", \"keep_phone\", \"keep_phone\", \"last_night\", \"last_night\", \"last_night\", \"last_time\", \"last_time\", \"last_time\", \"live_chat\", \"live_chat\", \"live_chat\", \"location_london\", \"love_delivered\", \"make_want\", \"make_want\", \"marked_delivered\", \"marked_delivered\", \"marked_delivered\", \"meating_room\", \"minute_great\", \"minute_late\", \"minute_late\", \"minute_late\", \"missing_item\", \"missing_item\", \"missing_item\", \"missing_option\", \"money_back\", \"money_back\", \"money_back\", \"money_ridiculous\", \"nearly_hour\", \"nearly_hour\", \"nearly_hour\", \"never_arrived\", \"never_arrived\", \"never_arrived\", \"never_came\", \"never_came\", \"never_came\", \"never_ever\", \"never_ever\", \"never_ever\", \"never_got\", \"never_got\", \"never_got\", \"never_received\", \"never_received\", \"never_received\", \"never_turned\", \"never_turned\", \"never_turned\", \"never_using\", \"never_using\", \"never_using\", \"never_work\", \"never_work\", \"never_work\", \"next_time\", \"next_time\", \"next_time\", \"non_existent\", \"non_existent\", \"non_existent\", \"nothing_u\", \"nothing_u\", \"nothing_u\", \"offer_full\", \"offer_full\", \"offer_full\", \"one_star\", \"one_star\", \"one_star\", \"ordered_kfc\", \"ordered_kfc\", \"ordered_kfc\", \"ordering_stick\", \"outside_next\", \"paid_attention\", \"people_beware\", \"people_waiting\", \"people_waiting\", \"people_waiting\", \"phone_call\", \"phone_call\", \"phone_call\", \"phone_number\", \"phone_number\", \"phone_number\", \"piece_nugget\", \"placed_thru\", \"please_double\", \"please_double\", \"please_double\", \"polite_rider\", \"poorly_run\", \"poorly_run\", \"promo_code\", \"promo_code\", \"promo_code\", \"push_notification\", \"push_notification\", \"quick_easy\", \"quick_easy\", \"quick_easy\", \"quick_resolve\", \"quick_resolve\", \"quickly_thank\", \"rating_high\", \"received_agent\", \"received_waiting\", \"receiving_stone\", \"recommending_place\", \"redeliver_give\", \"restaurant_said\", \"restaurant_said\", \"restaurant_said\", \"restaurant_wasted\", \"result_time\", \"said_delivered\", \"said_delivered\", \"said_delivered\", \"said_would\", \"said_would\", \"said_would\", \"say_delivered\", \"say_delivered\", \"say_delivered\", \"second_time\", \"second_time\", \"second_time\", \"selection_easy\", \"sent_guy\", \"several_time\", \"several_time\", \"several_time\", \"share_account\", \"six_piece\", \"slow_driver\", \"slow_driver\", \"slow_driver\", \"small_claim\", \"small_claim\", \"small_claim\", \"someone_else\", \"someone_else\", \"someone_else\", \"sometimes_working\", \"sort_tech\", \"star_half\", \"star_possible\", \"star_possible\", \"star_possible\", \"star_would\", \"star_would\", \"star_would\", \"still_hot\", \"still_hot\", \"still_hot\", \"still_waiting\", \"still_waiting\", \"still_waiting\", \"stole_half\", \"stole_money\", \"stole_money\", \"stole_money\", \"stone_cold\", \"stone_cold\", \"stone_cold\", \"stop_using\", \"stop_using\", \"stop_using\", \"straight_away\", \"straight_away\", \"straight_away\", \"sure_rider\", \"take_money\", \"take_money\", \"take_money\", \"terrible_call\", \"terrible_waiting\", \"terrible_waiting\", \"terrible_waiting\", \"time_applying\", \"time_got\", \"time_got\", \"time_got\", \"time_never\", \"time_never\", \"time_never\", \"time_ordered\", \"time_ordered\", \"time_ordered\", \"time_piping\", \"told_restaurant\", \"told_restaurant\", \"told_restaurant\", \"told_would\", \"told_would\", \"told_would\", \"took_payment\", \"took_payment\", \"took_payment\", \"trade_uk\", \"treat_pizza\", \"true_never\", \"true_never\", \"two_late\", \"u_phoned\", \"ubereats_put\", \"unable_contact\", \"unable_contact\", \"unable_contact\", \"using_eats\", \"using_eats\", \"using_eats\", \"via_app\", \"via_app\", \"via_app\", \"voucher_saying\", \"wait_hope\", \"wait_time\", \"wait_time\", \"wait_time\", \"waited_hour\", \"waited_hour\", \"waited_hour\", \"walk_restaurant\", \"walk_restaurant\", \"walk_restaurant\", \"waste_time\", \"waste_time\", \"waste_time\", \"wish_restaurant\", \"worth_arrive\", \"would_give\", \"would_give\", \"would_give\", \"wrong_address\", \"wrong_address\", \"wrong_address\", \"zero_star\", \"zero_star\", \"zero_star\", \"\\u00a364_account\"]}, \"R\": 30, \"lambda.step\": 0.01, \"plot.opts\": {\"xlab\": \"PC1\", \"ylab\": \"PC2\"}, \"topic.order\": [1, 2, 3]};\n",
       "\n",
       "function LDAvis_load_lib(url, callback){\n",
       "  var s = document.createElement('script');\n",
       "  s.src = url;\n",
       "  s.async = true;\n",
       "  s.onreadystatechange = s.onload = callback;\n",
       "  s.onerror = function(){console.warn(\"failed to load library \" + url);};\n",
       "  document.getElementsByTagName(\"head\")[0].appendChild(s);\n",
       "}\n",
       "\n",
       "if(typeof(LDAvis) !== \"undefined\"){\n",
       "   // already loaded: just create the visualization\n",
       "   !function(LDAvis){\n",
       "       new LDAvis(\"#\" + \"ldavis_el362028196492797043963405716\", ldavis_el362028196492797043963405716_data);\n",
       "   }(LDAvis);\n",
       "}else if(typeof define === \"function\" && define.amd){\n",
       "   // require.js is available: use it to load d3/LDAvis\n",
       "   require.config({paths: {d3: \"https://d3js.org/d3.v5\"}});\n",
       "   require([\"d3\"], function(d3){\n",
       "      window.d3 = d3;\n",
       "      LDAvis_load_lib(\"https://cdn.jsdelivr.net/gh/bmabey/pyLDAvis@3.2.2/pyLDAvis/js/ldavis.v3.0.0.js\", function(){\n",
       "        new LDAvis(\"#\" + \"ldavis_el362028196492797043963405716\", ldavis_el362028196492797043963405716_data);\n",
       "      });\n",
       "    });\n",
       "}else{\n",
       "    // require.js not available: dynamically load d3 & LDAvis\n",
       "    LDAvis_load_lib(\"https://d3js.org/d3.v5.js\", function(){\n",
       "         LDAvis_load_lib(\"https://cdn.jsdelivr.net/gh/bmabey/pyLDAvis@3.2.2/pyLDAvis/js/ldavis.v3.0.0.js\", function(){\n",
       "                 new LDAvis(\"#\" + \"ldavis_el362028196492797043963405716\", ldavis_el362028196492797043963405716_data);\n",
       "            })\n",
       "         });\n",
       "}\n",
       "</script>"
      ],
      "text/plain": [
       "PreparedData(topic_coordinates=              x        y  topics  cluster       Freq\n",
       "topic                                               \n",
       "0      0.012829  0.02003       1        1  34.101112\n",
       "1     -0.024104  0.00088       2        1  33.329761\n",
       "2      0.011275 -0.02091       3        1  32.569127, topic_info=                         Term        Freq       Total Category  logprob  \\\n",
       "term                                                                      \n",
       "686               avoid_avoid  117.000000  117.000000  Default  30.0000   \n",
       "249                money_back  490.000000  490.000000  Default  29.0000   \n",
       "32                  live_chat  337.000000  337.000000  Default  28.0000   \n",
       "123                 give_zero  119.000000  119.000000  Default  27.0000   \n",
       "2459             missing_item  503.000000  503.000000  Default  26.0000   \n",
       "3764           never_received  215.000000  215.000000  Default  25.0000   \n",
       "1439                hour_late  435.000000  435.000000  Default  24.0000   \n",
       "266     absolutely_disgusting  126.000000  126.000000  Default  23.0000   \n",
       "1069            absolute_joke  127.000000  127.000000  Default  22.0000   \n",
       "718                could_give  251.000000  251.000000  Default  21.0000   \n",
       "2776            star_possible   29.000000   29.000000  Default  20.0000   \n",
       "1077               promo_code  208.000000  208.000000  Default  19.0000   \n",
       "25436               gift_card   71.000000   71.000000  Default  18.0000   \n",
       "2774            say_delivered   88.000000   88.000000  Default  17.0000   \n",
       "910              item_missing  267.000000  267.000000  Default  16.0000   \n",
       "985           restaurant_said  153.000000  153.000000  Default  15.0000   \n",
       "142                 zero_star  141.000000  141.000000  Default  14.0000   \n",
       "5782             several_time  131.000000  131.000000  Default  13.0000   \n",
       "375               full_amount   87.000000   87.000000  Default  12.0000   \n",
       "29116               app_never   64.000000   64.000000  Default  11.0000   \n",
       "427            bad_experience  248.000000  248.000000  Default  10.0000   \n",
       "28102            double_check   73.000000   73.000000  Default   9.0000   \n",
       "1234             charged_full   79.000000   79.000000  Default   8.0000   \n",
       "1384               waste_time  248.000000  248.000000  Default   7.0000   \n",
       "2926              minute_late  229.000000  229.000000  Default   6.0000   \n",
       "6413                 day_late  115.000000  115.000000  Default   5.0000   \n",
       "30                  got_wrong   47.000000   47.000000  Default   4.0000   \n",
       "241                would_give  187.000000  187.000000  Default   3.0000   \n",
       "4769             never_turned   85.000000   85.000000  Default   2.0000   \n",
       "138233               check_ip   57.000000   57.000000  Default   1.0000   \n",
       "...                       ...         ...         ...      ...      ...   \n",
       "53531          contacted_eats   34.668028   74.678992   Topic3  -8.6423   \n",
       "4847               phone_call   66.064225  164.106808   Topic3  -7.9975   \n",
       "694              bank_account   48.746328  113.280292   Topic3  -8.3015   \n",
       "138335          please_double   28.357556   58.870621   Topic3  -8.8433   \n",
       "8269                 time_got   32.015016   68.857130   Topic3  -8.7219   \n",
       "222                 give_star   76.822766  200.816359   Topic3  -7.8467   \n",
       "4769             never_turned   38.347871   85.901119   Topic3  -8.5415   \n",
       "2209               said_would  101.695685  287.331235   Topic3  -7.5662   \n",
       "32                  live_chat  113.865193  337.385796   Topic3  -7.4531   \n",
       "6442                never_got   51.932689  126.809956   Topic3  -8.2382   \n",
       "187                first_time  143.563810  459.587062   Topic3  -7.2214   \n",
       "910              item_missing   92.566269  267.055994   Topic3  -7.6602   \n",
       "148                every_time   67.828904  184.262303   Topic3  -7.9712   \n",
       "3                 even_though  119.604039  392.070270   Topic3  -7.4040   \n",
       "214                  bad_ever   86.198401  254.629794   Topic3  -7.7315   \n",
       "551             never_arrived  108.353922  347.893025   Topic3  -7.5028   \n",
       "1365                hour_half   59.922914  158.837106   Topic3  -8.0951   \n",
       "249                money_back  134.508727  490.179550   Topic3  -7.2865   \n",
       "718                could_give   82.888887  251.069048   Topic3  -7.7707   \n",
       "1439                hour_late  118.172324  435.398148   Topic3  -7.4160   \n",
       "824                star_would   65.243144  181.748747   Topic3  -8.0100   \n",
       "137              someone_else   63.505199  176.111362   Topic3  -8.0370   \n",
       "397               second_time   63.915868  179.774091   Topic3  -8.0306   \n",
       "155                stone_cold   81.264267  301.378166   Topic3  -7.7904   \n",
       "1532                half_hour   60.989763  178.481766   Topic3  -8.0774   \n",
       "3102            wrong_address   70.701169  244.648481   Topic3  -7.9297   \n",
       "2926              minute_late   68.289469  229.702530   Topic3  -7.9644   \n",
       "704         called_restaurant   65.862584  213.163656   Topic3  -8.0006   \n",
       "2724               told_would   60.183284  195.120979   Topic3  -8.0908   \n",
       "427            bad_experience   62.361657  248.078014   Topic3  -8.0552   \n",
       "\n",
       "        loglift  \n",
       "term             \n",
       "686     30.0000  \n",
       "249     29.0000  \n",
       "32      28.0000  \n",
       "123     27.0000  \n",
       "2459    26.0000  \n",
       "3764    25.0000  \n",
       "1439    24.0000  \n",
       "266     23.0000  \n",
       "1069    22.0000  \n",
       "718     21.0000  \n",
       "2776    20.0000  \n",
       "1077    19.0000  \n",
       "25436   18.0000  \n",
       "2774    17.0000  \n",
       "910     16.0000  \n",
       "985     15.0000  \n",
       "142     14.0000  \n",
       "5782    13.0000  \n",
       "375     12.0000  \n",
       "29116   11.0000  \n",
       "427     10.0000  \n",
       "28102    9.0000  \n",
       "1234     8.0000  \n",
       "1384     7.0000  \n",
       "2926     6.0000  \n",
       "6413     5.0000  \n",
       "30       4.0000  \n",
       "241      3.0000  \n",
       "4769     2.0000  \n",
       "138233   1.0000  \n",
       "...         ...  \n",
       "53531    0.3544  \n",
       "4847     0.2119  \n",
       "694      0.2786  \n",
       "138335   0.3914  \n",
       "8269     0.3560  \n",
       "222      0.1609  \n",
       "4769     0.3153  \n",
       "2209     0.0832  \n",
       "32       0.0356  \n",
       "6442     0.2291  \n",
       "187     -0.0417  \n",
       "910      0.0623  \n",
       "148      0.1224  \n",
       "3       -0.0654  \n",
       "214      0.0386  \n",
       "551     -0.0447  \n",
       "1365     0.1470  \n",
       "249     -0.1713  \n",
       "718      0.0136  \n",
       "1439    -0.1823  \n",
       "824      0.0973  \n",
       "137      0.1018  \n",
       "397      0.0877  \n",
       "155     -0.1889  \n",
       "1532     0.0480  \n",
       "3102    -0.1196  \n",
       "2926    -0.0912  \n",
       "704     -0.0527  \n",
       "2724    -0.0544  \n",
       "427     -0.2590  \n",
       "\n",
       "[293 rows x 6 columns], token_table=        Topic      Freq                   Term\n",
       "term                                          \n",
       "1069        1  0.344596          absolute_joke\n",
       "1069        2  0.195793          absolute_joke\n",
       "1069        3  0.462072          absolute_joke\n",
       "7426        1  0.488835       absolutely_awful\n",
       "7426        2  0.244417       absolutely_awful\n",
       "7426        3  0.259694       absolutely_awful\n",
       "266         1  0.293527  absolutely_disgusting\n",
       "266         2  0.214196  absolutely_disgusting\n",
       "266         3  0.491857  absolutely_disgusting\n",
       "10680       1  0.484072    absolutely_terrible\n",
       "10680       2  0.235121    absolutely_terrible\n",
       "10680       3  0.276613    absolutely_terrible\n",
       "260813      3  0.871062            added_promo\n",
       "272726      1  0.678823               age_sort\n",
       "284143      2  0.690009          anytime_issue\n",
       "94277       2  0.700865      apologised_behalf\n",
       "29116       1  0.293870              app_never\n",
       "29116       2  0.201069              app_never\n",
       "29116       3  0.510406              app_never\n",
       "686         1  0.127322            avoid_avoid\n",
       "686         2  0.237668            avoid_avoid\n",
       "686         3  0.636611            avoid_avoid\n",
       "687         1  0.308441             avoid_cost\n",
       "687         2  0.408684             avoid_cost\n",
       "687         3  0.285308             avoid_cost\n",
       "16295       1  0.865826     awesome_experience\n",
       "16295       2  0.288609     awesome_experience\n",
       "1421        1  0.435362            bad_company\n",
       "1421        2  0.255412            bad_company\n",
       "1421        3  0.313460            bad_company\n",
       "...       ...       ...                    ...\n",
       "23168       3  0.263560             using_eats\n",
       "5459        1  0.241623                via_app\n",
       "5459        2  0.447003                via_app\n",
       "5459        3  0.302029                via_app\n",
       "210349      2  0.866111         voucher_saying\n",
       "266902      3  0.691559              wait_hope\n",
       "59015       1  0.241631              wait_time\n",
       "59015       2  0.552300              wait_time\n",
       "59015       3  0.172594              wait_time\n",
       "1381        1  0.420101            waited_hour\n",
       "1381        2  0.281715            waited_hour\n",
       "1381        3  0.296542            waited_hour\n",
       "59858       1  0.106227        walk_restaurant\n",
       "59858       2  0.637363        walk_restaurant\n",
       "59858       3  0.212454        walk_restaurant\n",
       "1384        1  0.257226             waste_time\n",
       "1384        2  0.361724             waste_time\n",
       "1384        3  0.381819             waste_time\n",
       "39711       1  0.697503        wish_restaurant\n",
       "268562      3  0.699890           worth_arrive\n",
       "241         1  0.288453             would_give\n",
       "241         2  0.283112             would_give\n",
       "241         3  0.427338             would_give\n",
       "3102        1  0.412837          wrong_address\n",
       "3102        2  0.298387          wrong_address\n",
       "3102        3  0.290212          wrong_address\n",
       "142         1  0.423614              zero_star\n",
       "142         2  0.204747              zero_star\n",
       "142         3  0.381252              zero_star\n",
       "305359      1  0.679289            £64_account\n",
       "\n",
       "[443 rows x 3 columns], R=30, lambda_step=0.01, plot_opts={'xlab': 'PC1', 'ylab': 'PC2'}, topic_order=[1, 2, 3])"
      ]
     },
     "execution_count": 143,
     "metadata": {},
     "output_type": "execute_result"
    }
   ],
   "source": [
    "LDAvis_prepared"
   ]
  },
  {
   "cell_type": "raw",
   "metadata": {},
   "source": [
    "# # this is a bit time consuming - make the if statement True\n",
    "# # if you want to execute visualization prep yourself\n",
    "if 1 == 1:\n",
    "    LDAvis_prepared = pyLDAvis.gensim.prepare(lda_model, corpus, id2word)\n",
    "    with open(LDAvis_data_filepath, 'wb') as f:\n",
    "        pickle.dump(LDAvis_prepared, f)\n",
    "# load the pre-prepared pyLDAvis data from disk\n",
    "with open(LDAvis_data_filepath, 'rb') as f:\n",
    "    LDAvis_prepared = pickle.load(f)\n",
    "pyLDAvis.save_html(LDAvis_prepared, './results/ldavis_prepared_'+ str(num_topics) +'.html')\n",
    "LDAvis_prepared"
   ]
  }
 ],
 "metadata": {
  "kernelspec": {
   "display_name": "Python 3",
   "language": "python",
   "name": "python3"
  },
  "language_info": {
   "codemirror_mode": {
    "name": "ipython",
    "version": 3
   },
   "file_extension": ".py",
   "mimetype": "text/x-python",
   "name": "python",
   "nbconvert_exporter": "python",
   "pygments_lexer": "ipython3",
   "version": "3.6.5"
  }
 },
 "nbformat": 4,
 "nbformat_minor": 2
}
